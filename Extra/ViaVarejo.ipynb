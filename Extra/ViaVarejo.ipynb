{
 "cells": [
  {
   "cell_type": "code",
   "execution_count": 1,
   "metadata": {
    "collapsed": true,
    "pycharm": {
     "name": "#%%\n"
    }
   },
   "outputs": [],
   "source": [
    "#IMPORTANDO AS BIBLIOTECAS\n",
    "import pandas as pd\n",
    "import time\n",
    "from selenium import webdriver\n",
    "from selenium.webdriver.chrome.options import Options\n",
    "from bs4 import BeautifulSoup\n",
    "from selenium.webdriver.chrome.webdriver import WebDriver\n",
    "from selenium.common.exceptions import WebDriverException\n",
    "from tqdm import tqdm\n",
    "import sqlite3\n",
    "import json\n",
    "import os\n",
    "import random\n",
    "import requests"
   ]
  },
  {
   "cell_type": "code",
   "execution_count": 2,
   "outputs": [],
   "source": [
    "def Random_user_agents(marketplace):\n",
    "\n",
    "    #Criando a lista de user-agents\n",
    "    User_agents_list = [\"Mozilla/5.0 (X11; Linux x86_64) AppleWebKit/537.36 (KHTML, like Gecko) Ubuntu Chromium/37.0.2062.94 Chrome/37.0.2062.94 Safari/537.36\",\n",
    "                        \"Mozilla/5.0 (Windows NT 6.1; WOW64) AppleWebKit/537.36 (KHTML, like Gecko) Chrome/45.0.2454.85 Safari/537.36\",\n",
    "                        \"Mozilla/5.0 (Windows NT 6.1; WOW64; Trident/7.0; rv:11.0) like Gecko\",\n",
    "                        \"Mozilla/5.0 (Windows NT 6.1; WOW64; rv:40.0) Gecko/20100101 Firefox/40.0\",\n",
    "                        \"Mozilla/5.0 (Macintosh; Intel Mac OS X 10_10_5) AppleWebKit/600.8.9 (KHTML, like Gecko) Version/8.0.8 Safari/600.8.9\",\n",
    "                        \"Mozilla/5.0 (iPad; CPU OS 8_4_1 like Mac OS X) AppleWebKit/600.1.4 (KHTML, like Gecko) Version/8.0 Mobile/12H321 Safari/600.1.4\",\n",
    "                        \"Mozilla/5.0 (Windows NT 6.3; WOW64) AppleWebKit/537.36 (KHTML, like Gecko) Chrome/45.0.2454.85 Safari/537.36\",\n",
    "                        \"Mozilla/5.0 (Windows NT 10.0; WOW64) AppleWebKit/537.36 (KHTML, like Gecko) Chrome/45.0.2454.85 Safari/537.36\",\n",
    "                        \"Mozilla/5.0 (X11; Linux x86_64) AppleWebKit/537.36 (KHTML, like Gecko) Ubuntu Chromium/37.0.2062.94 Chrome/37.0.2062.94 Safari/537.36\",\n",
    "                        \"Mozilla/5.0 (Windows NT 6.1; WOW64) AppleWebKit/537.36 (KHTML, like Gecko) Chrome/45.0.2454.85 Safari/537.36\",\n",
    "                        \"Mozilla/5.0 (Windows NT 6.1; WOW64; Trident/7.0; rv:11.0) like Gecko\",\n",
    "                        \"Mozilla/5.0 (Windows NT 6.1; WOW64; rv:40.0) Gecko/20100101 Firefox/40.0\",\n",
    "                        \"Mozilla/5.0 (Macintosh; Intel Mac OS X 10_10_5) AppleWebKit/600.8.9 (KHTML, like Gecko) Version/8.0.8 Safari/600.8.9\",\n",
    "                        \"Mozilla/5.0 (iPad; CPU OS 8_4_1 like Mac OS X) AppleWebKit/600.1.4 (KHTML, like Gecko) Version/8.0 Mobile/12H321 Safari/600.1.4\",\n",
    "                        \"Mozilla/5.0 (Windows NT 6.3; WOW64) AppleWebKit/537.36 (KHTML, like Gecko) Chrome/45.0.2454.85 Safari/537.36\",\n",
    "                        \"Mozilla/5.0 (Windows NT 10.0; WOW64) AppleWebKit/537.36 (KHTML, like Gecko) Chrome/45.0.2454.85 Safari/537.36\",\n",
    "                        \"Mozilla/5.0 (Windows NT 6.1; WOW64) AppleWebKit/537.36 (KHTML, like Gecko) Chrome/44.0.2403.157 Safari/537.36\",\n",
    "                        \"Mozilla/5.0 (iPhone; CPU iPhone OS 8_4_1 like Mac OS X) AppleWebKit/600.1.4 (KHTML, like Gecko) Version/8.0 Mobile/12H321 Safari/600.1.4\",\n",
    "                        \"Mozilla/5.0 (Windows NT 10.0; WOW64; Trident/7.0; rv:11.0) like Gecko\",\n",
    "                        \"Mozilla/5.0 (iPad; CPU OS 7_1_2 like Mac OS X) AppleWebKit/537.51.2 (KHTML, like Gecko) Version/7.0 Mobile/11D257 Safari/9537.53\",\n",
    "                        \"Mozilla/5.0 (compatible; MSIE 9.0; Windows NT 6.1; Trident/5.0)\",\n",
    "                        \"Mozilla/5.0 (Macintosh; Intel Mac OS X 10_9_5) AppleWebKit/537.36 (KHTML, like Gecko) Chrome/45.0.2454.85 Safari/537.36\",\n",
    "                        \"Mozilla/5.0 (Macintosh; Intel Mac OS X 10_10_4) AppleWebKit/537.36 (KHTML, like Gecko) Chrome/45.0.2454.85 Safari/537.36\",\n",
    "                        \"Mozilla/5.0 (Macintosh; Intel Mac OS X 10.9; rv:40.0) Gecko/20100101 Firefox/40.0\",\n",
    "                        \"Mozilla/5.0 (compatible; MSIE 10.0; Windows NT 6.1; Trident/6.0)\",\n",
    "                        \"Mozilla/5.0 (Windows NT 6.0) AppleWebKit/537.36 (KHTML, like Gecko) Chrome/45.0.2454.85 Safari/537.36\",\n",
    "                        \"Mozilla/5.0 (Windows NT 6.3; WOW64) AppleWebKit/537.36 (KHTML, like Gecko) Chrome/44.0.2403.157 Safari/537.36\",\n",
    "                        \"Mozilla/5.0 (X11; CrOS x86_64 7077.134.0) AppleWebKit/537.36 (KHTML, like Gecko) Chrome/44.0.2403.156 Safari/537.36\",\n",
    "                        \"Mozilla/5.0 (Macintosh; Intel Mac OS X 10_9_5) AppleWebKit/600.7.12 (KHTML, like Gecko) Version/7.1.7 Safari/537.85.16\",\n",
    "                        \"Mozilla/5.0 (Windows NT 6.0; rv:40.0) Gecko/20100101 Firefox/40.0\",\n",
    "                        \"Mozilla/5.0 (Macintosh; Intel Mac OS X 10.6; rv:40.0) Gecko/20100101 Firefox/40.0\",\n",
    "                        \"Mozilla/5.0 (iPad; CPU OS 8_1_3 like Mac OS X) AppleWebKit/600.1.4 (KHTML, like Gecko) Version/8.0 Mobile/12B466 Safari/600.1.4\",\n",
    "                        \"Mozilla/5.0 (Macintosh; Intel Mac OS X 10_10_2) AppleWebKit/600.3.18 (KHTML, like Gecko) Version/8.0.3 Safari/600.3.18\",\n",
    "                        \"Mozilla/5.0 (Macintosh; Intel Mac OS X 10_10_3) AppleWebKit/537.36 (KHTML, like Gecko) Chrome/45.0.2454.85 Safari/537.36\",\n",
    "                        \"Mozilla/5.0 (Windows NT 6.2; WOW64) AppleWebKit/537.36 (KHTML, like Gecko) Chrome/45.0.2454.85 Safari/537.36\",\n",
    "                        \"Mozilla/5.0 (Windows NT 6.1; Win64; x64; Trident/7.0; rv:11.0) like Gecko\",\n",
    "                        \"Mozilla/5.0 (Macintosh; Intel Mac OS X 10_10_5) AppleWebKit/537.36 (KHTML, like Gecko) Chrome/44.0.2403.157 Safari/537.36\",\n",
    "                        \"Mozilla/5.0 (iPad; CPU OS 8_1_2 like Mac OS X) AppleWebKit/600.1.4 (KHTML, like Gecko) Version/8.0 Mobile/12B440 Safari/600.1.4\",\n",
    "                        \"Mozilla/5.0 (Linux; U; Android 4.0.3; en-us; KFTT Build/IML74K) AppleWebKit/537.36 (KHTML, like Gecko) Silk/3.68 like Chrome/39.0.2171.93 Safari/537.36\",\n",
    "                        \"Mozilla/5.0 (iPad; CPU OS 8_2 like Mac OS X) AppleWebKit/600.1.4 (KHTML, like Gecko) Version/8.0 Mobile/12D508 Safari/600.1.4\",\n",
    "                        \"Mozilla/5.0 (Windows NT 6.1; WOW64; rv:39.0) Gecko/20100101 Firefox/39.0\",\n",
    "                        \"Mozilla/5.0 (iPad; CPU OS 7_1_1 like Mac OS X) AppleWebKit/537.51.2 (KHTML, like Gecko) Version/7.0 Mobile/11D201 Safari/9537.53\",\n",
    "                        \"Mozilla/5.0 (Linux; U; Android 4.4.3; en-us; KFTHWI Build/KTU84M) AppleWebKit/537.36 (KHTML, like Gecko) Silk/3.68 like Chrome/39.0.2171.93 Safari/537.36\",\n",
    "                        \"Mozilla/5.0 (Macintosh; Intel Mac OS X 10_9_5) AppleWebKit/600.6.3 (KHTML, like Gecko) Version/7.1.6 Safari/537.85.15\",\n",
    "                        \"Mozilla/5.0 (Macintosh; Intel Mac OS X 10_10_2) AppleWebKit/600.4.10 (KHTML, like Gecko) Version/8.0.4 Safari/600.4.10\",\n",
    "                        \"Mozilla/5.0 (Macintosh; Intel Mac OS X 10.7; rv:40.0) Gecko/20100101 Firefox/40.0\",\n",
    "                        \"Mozilla/5.0 (Macintosh; Intel Mac OS X 10_9_5) AppleWebKit/537.78.2 (KHTML, like Gecko) Version/7.0.6 Safari/537.78.2\",\n",
    "                        \"Mozilla/5.0 (iPad; CPU OS 8_4_1 like Mac OS X) AppleWebKit/600.1.4 (KHTML, like Gecko) CriOS/45.0.2454.68 Mobile/12H321 Safari/600.1.4\",\n",
    "                        \"Mozilla/5.0 (Windows NT 6.3; Win64; x64; Trident/7.0; Touch; rv:11.0) like Gecko\",\n",
    "                        \"Mozilla/5.0 (Macintosh; Intel Mac OS X 10_6_8) AppleWebKit/537.36 (KHTML, like Gecko) Chrome/45.0.2454.85 Safari/537.36\",\n",
    "                        \"Mozilla/5.0 (iPad; CPU OS 8_1 like Mac OS X) AppleWebKit/600.1.4 (KHTML, like Gecko) Version/8.0 Mobile/12B410 Safari/600.1.4\",\n",
    "                        \"Mozilla/5.0 (iPad; CPU OS 7_0_4 like Mac OS X) AppleWebKit/537.51.1 (KHTML, like Gecko) Version/7.0 Mobile/11B554a Safari/9537.53\",\n",
    "                        \"Mozilla/5.0 (Windows NT 6.0; WOW64) AppleWebKit/537.36 (KHTML, like Gecko) Chrome/45.0.2454.85 Safari/537.36\",\n",
    "                        \"Mozilla/5.0 (Windows NT 6.3; Win64; x64; Trident/7.0; rv:11.0) like Gecko\",\n",
    "                        \"Mozilla/5.0 (Windows NT 6.3; WOW64; Trident/7.0; TNJB; rv:11.0) like Gecko\",\n",
    "                        \"Mozilla/5.0 (Windows NT 6.1; WOW64) AppleWebKit/537.36 (KHTML, like Gecko) Chrome/31.0.1650.63 Safari/537.36\",\n",
    "                        \"Mozilla/5.0 (Windows NT 6.3; ARM; Trident/7.0; Touch; rv:11.0) like Gecko\",\n",
    "                        \"Mozilla/5.0 (Windows NT 6.1; Win64; x64) AppleWebKit/537.36 (KHTML, like Gecko) Chrome/45.0.2454.85 Safari/537.36\"]\n",
    "\n",
    "    #Escolhendo o user aleatório\n",
    "    Choice_user_agent = random.choice(User_agents_list)\n",
    "\n",
    "    headers = {'authority':'www.' + marketplace + '.com.br',\n",
    "               'user-agent':Choice_user_agent}\n",
    "\n",
    "\n",
    "    return headers"
   ],
   "metadata": {
    "collapsed": false,
    "pycharm": {
     "name": "#%%\n"
    }
   }
  },
  {
   "cell_type": "code",
   "execution_count": 3,
   "outputs": [],
   "source": [
    "#Congiruando o driver\n",
    "options = Options()\n",
    "options.add_argument(\"--headless\")\n",
    "options.add_argument('--disable-gpu')\n",
    "options.add_argument(\"--log-level=3\")\n",
    "options.add_argument('--no-sandbox')\n",
    "options.add_experimental_option('useAutomationExtension', False)\n",
    "options.add_argument(\"user-agent=Mozilla/5.0 (Windows NT 10.0; Win64; x64) AppleWebKit/537.36 (KHTML, like Gecko) Chrome/98.0.4758.109 Safari/537.36 OPR/84.0.4316.52\")\n",
    "options.add_experimental_option('excludeSwitches', ['enable-logging'])"
   ],
   "metadata": {
    "collapsed": false,
    "pycharm": {
     "name": "#%%\n"
    }
   }
  },
  {
   "cell_type": "code",
   "execution_count": 4,
   "outputs": [
    {
     "name": "stderr",
     "output_type": "stream",
     "text": [
      "C:\\Users\\pedro\\AppData\\Local\\Temp\\ipykernel_3112\\1319122002.py:1: DeprecationWarning: executable_path has been deprecated, please pass in a Service object\n",
      "  driver = webdriver.Chrome(r\"C:\\Users\\pedro\\Documents\\Turte Brand Protection\\Turtle_Thinker_Alpha_0.1\\Data\\Selenium\\Selenium_103\", options=options)\n"
     ]
    }
   ],
   "source": [
    "driver = webdriver.Chrome(r\"C:\\Users\\pedro\\Documents\\Turte Brand Protection\\Turtle_Thinker_Alpha_0.1\\Data\\Selenium\\Selenium_103\", options=options)"
   ],
   "metadata": {
    "collapsed": false,
    "pycharm": {
     "name": "#%%\n"
    }
   }
  },
  {
   "cell_type": "code",
   "execution_count": 5,
   "outputs": [],
   "source": [
    "#CRIANDO A LISTA DE VALORES\n",
    "Urls_Extra = []\n",
    "Sellers_Extra = []\n",
    "Country_Extra = []\n",
    "Price_Extra = []\n",
    "SKU_Extra = []\n",
    "Title_Extra = []\n",
    "Installment_Extra_quantidade = []\n",
    "Installment_Extra_valor_parcela = []\n",
    "Installment_Extra_valor_total = []\n",
    "Prox_pag = []"
   ],
   "metadata": {
    "collapsed": false,
    "pycharm": {
     "name": "#%%\n"
    }
   }
  },
  {
   "cell_type": "code",
   "execution_count": 6,
   "outputs": [],
   "source": [
    "#Função para criar os links de busca\n",
    "def getting_n_creating_viavarejo_urls(brand):\n",
    "\n",
    "    Database_path = r\"C:\\Users\\pedro\\Documents\\Turte Brand Protection\\Turtle_Thinker_Alpha_0.1\" + \"\\Data\\\\\" + brand + \"\\\\\" + brand + \".db\"\n",
    "\n",
    "    table = brand + \"_products\"\n",
    "\n",
    "    #Criando a Query\n",
    "    query = \"SELECT * FROM \" + table\n",
    "\n",
    "    #Entrando dentro do databse\n",
    "    connection = sqlite3.connect(Database_path)\n",
    "\n",
    "    #Criando o dataset em brando\n",
    "    df = pd.read_sql_query(query, connection)\n",
    "\n",
    "    #Passando todo o Dataframe para LowerCase\n",
    "    df = df.apply(lambda x: x.astype(str).str.lower())\n",
    "\n",
    "    #Arrumando espaços vazios\n",
    "    # Arrumano os espaços vazios\n",
    "    df['Product_Name'] = df['Product_Name'].str.replace(\" \", \"-\")\n",
    "    df['Product_Name'] = df['Product_Name'].str.replace(\"-\", \"%2B\")\n",
    "\n",
    "    # Criando uma nova coluna no database com a formatação certa\n",
    "    df['Urls'] = df['Brand'] + \"-\" + df['Product_Name']\n",
    "\n",
    "    # Criando a nova coluna que são as urls de pesquisa\n",
    "    df['Urls_search'] = \"https://prd-api-partner.viavarejo.com.br/api/search?resultsPerPage=20&terms=\" + df['Brand'][0] + \"%2B\" + df['Product_Name'] + \"&page=1&apiKey=extra&\"\n",
    "\n",
    "    return df"
   ],
   "metadata": {
    "collapsed": false,
    "pycharm": {
     "name": "#%%\n"
    }
   }
  },
  {
   "cell_type": "code",
   "execution_count": 7,
   "outputs": [
    {
     "data": {
      "text/plain": "   Brand Product_Name                                 Product_Descrition  \\\n0  wacom       ctl472  ctl 472 - mesa digitalizadora one by wacom peq...   \n1  wacom      ctl4100  ctl4100 - mesa digitalizadora wacom intuos sma...   \n2  wacom  ctl4100wle0  ctl4100wle0 - mesa digitalizadora wacom intuos...   \n3  wacom  ctl4100wlk0  ctl4100wlk0 - mesa digitalizadora wacom intuos...   \n4  wacom  ctl6100wlk0  ctl6100wlk0 - mesa digitalizadora wacom intuos...   \n5  wacom    dtc133w0a  dtc133w0a - mesa digitalizadora wacom one crea...   \n6  wacom       pth460  pth460 - mesa digitalizadora wacom intuos pro ...   \n7  wacom   dtk1660k0a  dtk1660k0a - display interativo wacom cintiq 1...   \n8  wacom       pth660  pth660 - mesa digitalizadora wacom intuos pro ...   \n9  wacom  ctl6100wle0  ctl6100wle0 - mesa digitalizadora wacom intuos...   \n\n                Urls                                        Urls_search  \n0       wacom-ctl472  https://prd-api-partner.viavarejo.com.br/api/s...  \n1      wacom-ctl4100  https://prd-api-partner.viavarejo.com.br/api/s...  \n2  wacom-ctl4100wle0  https://prd-api-partner.viavarejo.com.br/api/s...  \n3  wacom-ctl4100wlk0  https://prd-api-partner.viavarejo.com.br/api/s...  \n4  wacom-ctl6100wlk0  https://prd-api-partner.viavarejo.com.br/api/s...  \n5    wacom-dtc133w0a  https://prd-api-partner.viavarejo.com.br/api/s...  \n6       wacom-pth460  https://prd-api-partner.viavarejo.com.br/api/s...  \n7   wacom-dtk1660k0a  https://prd-api-partner.viavarejo.com.br/api/s...  \n8       wacom-pth660  https://prd-api-partner.viavarejo.com.br/api/s...  \n9  wacom-ctl6100wle0  https://prd-api-partner.viavarejo.com.br/api/s...  ",
      "text/html": "<div>\n<style scoped>\n    .dataframe tbody tr th:only-of-type {\n        vertical-align: middle;\n    }\n\n    .dataframe tbody tr th {\n        vertical-align: top;\n    }\n\n    .dataframe thead th {\n        text-align: right;\n    }\n</style>\n<table border=\"1\" class=\"dataframe\">\n  <thead>\n    <tr style=\"text-align: right;\">\n      <th></th>\n      <th>Brand</th>\n      <th>Product_Name</th>\n      <th>Product_Descrition</th>\n      <th>Urls</th>\n      <th>Urls_search</th>\n    </tr>\n  </thead>\n  <tbody>\n    <tr>\n      <th>0</th>\n      <td>wacom</td>\n      <td>ctl472</td>\n      <td>ctl 472 - mesa digitalizadora one by wacom peq...</td>\n      <td>wacom-ctl472</td>\n      <td>https://prd-api-partner.viavarejo.com.br/api/s...</td>\n    </tr>\n    <tr>\n      <th>1</th>\n      <td>wacom</td>\n      <td>ctl4100</td>\n      <td>ctl4100 - mesa digitalizadora wacom intuos sma...</td>\n      <td>wacom-ctl4100</td>\n      <td>https://prd-api-partner.viavarejo.com.br/api/s...</td>\n    </tr>\n    <tr>\n      <th>2</th>\n      <td>wacom</td>\n      <td>ctl4100wle0</td>\n      <td>ctl4100wle0 - mesa digitalizadora wacom intuos...</td>\n      <td>wacom-ctl4100wle0</td>\n      <td>https://prd-api-partner.viavarejo.com.br/api/s...</td>\n    </tr>\n    <tr>\n      <th>3</th>\n      <td>wacom</td>\n      <td>ctl4100wlk0</td>\n      <td>ctl4100wlk0 - mesa digitalizadora wacom intuos...</td>\n      <td>wacom-ctl4100wlk0</td>\n      <td>https://prd-api-partner.viavarejo.com.br/api/s...</td>\n    </tr>\n    <tr>\n      <th>4</th>\n      <td>wacom</td>\n      <td>ctl6100wlk0</td>\n      <td>ctl6100wlk0 - mesa digitalizadora wacom intuos...</td>\n      <td>wacom-ctl6100wlk0</td>\n      <td>https://prd-api-partner.viavarejo.com.br/api/s...</td>\n    </tr>\n    <tr>\n      <th>5</th>\n      <td>wacom</td>\n      <td>dtc133w0a</td>\n      <td>dtc133w0a - mesa digitalizadora wacom one crea...</td>\n      <td>wacom-dtc133w0a</td>\n      <td>https://prd-api-partner.viavarejo.com.br/api/s...</td>\n    </tr>\n    <tr>\n      <th>6</th>\n      <td>wacom</td>\n      <td>pth460</td>\n      <td>pth460 - mesa digitalizadora wacom intuos pro ...</td>\n      <td>wacom-pth460</td>\n      <td>https://prd-api-partner.viavarejo.com.br/api/s...</td>\n    </tr>\n    <tr>\n      <th>7</th>\n      <td>wacom</td>\n      <td>dtk1660k0a</td>\n      <td>dtk1660k0a - display interativo wacom cintiq 1...</td>\n      <td>wacom-dtk1660k0a</td>\n      <td>https://prd-api-partner.viavarejo.com.br/api/s...</td>\n    </tr>\n    <tr>\n      <th>8</th>\n      <td>wacom</td>\n      <td>pth660</td>\n      <td>pth660 - mesa digitalizadora wacom intuos pro ...</td>\n      <td>wacom-pth660</td>\n      <td>https://prd-api-partner.viavarejo.com.br/api/s...</td>\n    </tr>\n    <tr>\n      <th>9</th>\n      <td>wacom</td>\n      <td>ctl6100wle0</td>\n      <td>ctl6100wle0 - mesa digitalizadora wacom intuos...</td>\n      <td>wacom-ctl6100wle0</td>\n      <td>https://prd-api-partner.viavarejo.com.br/api/s...</td>\n    </tr>\n  </tbody>\n</table>\n</div>"
     },
     "execution_count": 7,
     "metadata": {},
     "output_type": "execute_result"
    }
   ],
   "source": [
    "Df_Raw = getting_n_creating_viavarejo_urls(\"Wacom\")\n",
    "Df_Raw"
   ],
   "metadata": {
    "collapsed": false,
    "pycharm": {
     "name": "#%%\n"
    }
   }
  },
  {
   "cell_type": "code",
   "execution_count": 8,
   "outputs": [
    {
     "data": {
      "text/plain": "'https://prd-api-partner.viavarejo.com.br/api/search?resultsPerPage=20&terms=wacom%2Bctl472&page=1&apiKey=extra&'"
     },
     "execution_count": 8,
     "metadata": {},
     "output_type": "execute_result"
    }
   ],
   "source": [
    "Df_Raw['Urls_search'][0]"
   ],
   "metadata": {
    "collapsed": false,
    "pycharm": {
     "name": "#%%\n"
    }
   }
  },
  {
   "cell_type": "markdown",
   "source": [],
   "metadata": {
    "collapsed": false,
    "pycharm": {
     "name": "#%% md\n"
    }
   }
  },
  {
   "cell_type": "code",
   "execution_count": 7,
   "outputs": [],
   "source": [
    "urls = ['https://prd-api-partner.viavarejo.com.br/api/search?resultsPerPage=20&terms=Toshiba%2BHD%2Bexterno%2BCanvio%2BBasics%2B1TB&page=1&apiKey=extra&','https://prd-api-partner.viavarejo.com.br/api/search?resultsPerPage=20&terms=Seagate%2BHD%2Bexterno%2BExpansion%2B1TB&page=1&apiKey=extra&']"
   ],
   "metadata": {
    "collapsed": false,
    "pycharm": {
     "name": "#%%\n"
    }
   }
  },
  {
   "cell_type": "markdown",
   "source": [],
   "metadata": {
    "collapsed": false,
    "pycharm": {
     "name": "#%% md\n"
    }
   }
  },
  {
   "cell_type": "code",
   "execution_count": 12,
   "outputs": [
    {
     "data": {
      "text/plain": "{'authority': 'www.extra.com.br',\n 'user-agent': 'Mozilla/5.0 (Windows NT 6.1; WOW64; rv:40.0) Gecko/20100101 Firefox/40.0'}"
     },
     "execution_count": 12,
     "metadata": {},
     "output_type": "execute_result"
    }
   ],
   "source": [
    "Headers_Choice = Random_user_agents('extra')\n",
    "Headers_Choice"
   ],
   "metadata": {
    "collapsed": false,
    "pycharm": {
     "name": "#%%\n"
    }
   }
  },
  {
   "cell_type": "code",
   "execution_count": null,
   "outputs": [],
   "source": [
    "# driver.get(Df_Raw['Urls_search'][0])\n",
    "# html = driver.page_source\n",
    "\n",
    "Headers_Choice = Random_user_agents('extra')\n",
    "\n",
    "response = requests.get(Df_Raw['Urls_search'][0], headers=Headers_Choice)\n",
    "print(response.status_code)\n",
    "# html = response.text\n",
    "\n",
    "# bs = BeautifulSoup(html, 'html.parser')\n",
    "\n",
    "# # # for url in Soup.find_all(class_='ProductCard__CardMedia-sc-2vuvzo-8 biQnob'):\n",
    "# # #     print(url['href'])\n",
    "# # #     print('hello')\n",
    "\n",
    "# print(bs.find(class_='ProductsGrid__ProductsGridWrapper-sc-yqpqna-0 eFvtpO'))"
   ],
   "metadata": {
    "collapsed": false,
    "pycharm": {
     "name": "#%%\n"
    }
   }
  },
  {
   "cell_type": "code",
   "execution_count": null,
   "outputs": [],
   "source": [],
   "metadata": {
    "collapsed": false,
    "pycharm": {
     "name": "#%%\n"
    }
   }
  },
  {
   "cell_type": "code",
   "execution_count": null,
   "outputs": [],
   "source": [
    " bs"
   ],
   "metadata": {
    "collapsed": false,
    "pycharm": {
     "name": "#%%\n"
    }
   }
  },
  {
   "cell_type": "code",
   "execution_count": 8,
   "outputs": [],
   "source": [
    "def get_attributes(url):\n",
    "    time.sleep(5)\n",
    "    driver.get(url)\n",
    "    html = driver.page_source\n",
    "\n",
    "    soup = BeautifulSoup(html, 'html.parser')\n",
    "\n",
    "    elemento = soup.find('body')\n",
    "\n",
    "    dic = json.loads(elemento.text)\n",
    "\n",
    "    # ID\n",
    "    number_id = 0\n",
    "    for i in dic['products']:\n",
    "        try:\n",
    "            SKU_Extra.append(dic['products'][number_id]['url'])\n",
    "        except:\n",
    "            SKU_Extra.append(\"ERRO\")\n",
    "\n",
    "        number_id = number_id + 1\n",
    "\n",
    "    # NOME\n",
    "    number_name = 0\n",
    "    for i in dic['products']:\n",
    "        try:\n",
    "            Title_Extra.append(dic['products'][number_name]['name'])\n",
    "        except:\n",
    "            Title_Extra.append(\"ERRO\")\n",
    "\n",
    "        number_name = number_name + 1\n",
    "\n",
    "    # SELLER NUMBER\n",
    "    number_seller = 0\n",
    "    for i in dic['products']:\n",
    "        try:\n",
    "            Sellers_Extra.append(dic['products'][number_seller]['details']['IdLojista'])\n",
    "        except:\n",
    "            Sellers_Extra.append(\"ERRO\")\n",
    "\n",
    "        number_seller = number_seller + 1\n",
    "\n",
    "    # INTERNACIONAL\n",
    "    number_internacional = 0\n",
    "    for i in dic['products']:\n",
    "        try:\n",
    "            Country_Extra.append(dic['products'][number_internacional]['details']['categoryName'])\n",
    "        except:\n",
    "            Country_Extra.append(\"ERRO\")\n",
    "\n",
    "        number_internacional = number_internacional + 1\n",
    "\n",
    "    # PRICE\n",
    "    number_price = 0\n",
    "    for i in dic['products']:\n",
    "        try:\n",
    "            Price_Extra.append(dic['products'][number_price]['price'])\n",
    "        except:\n",
    "            Price_Extra.append(\"ERRO\")\n",
    "\n",
    "        number_price = number_price + 1\n",
    "\n",
    "    # INSTALLMENT PARCELA\n",
    "    number_parcela = 0\n",
    "    for i in dic['products']:\n",
    "        try:\n",
    "            Installment_Extra_quantidade.append(dic['products'][number_parcela]['installment']['count'])\n",
    "        except:\n",
    "            Installment_Extra_quantidade.append(\"ERRO\")\n",
    "\n",
    "        number_parcela = number_parcela + 1\n",
    "\n",
    "    # INSTALLMENT VALOR PARCELA\n",
    "    number_valor = 0\n",
    "    for i in dic['products']:\n",
    "        try:\n",
    "            Installment_Extra_valor_parcela.append(dic['products'][number_valor]['installment']['price'])\n",
    "        except:\n",
    "            Installment_Extra_valor_parcela.append(\"ERRO\")\n",
    "\n",
    "        number_valor = number_valor + 1\n",
    "\n",
    "    # try da próxima página\n",
    "    try:\n",
    "        Prox_pag.append(dic['pagination']['next'])\n",
    "    except:\n",
    "        pass"
   ],
   "metadata": {
    "collapsed": false,
    "pycharm": {
     "name": "#%%\n"
    }
   }
  },
  {
   "cell_type": "code",
   "execution_count": 9,
   "outputs": [
    {
     "name": "stderr",
     "output_type": "stream",
     "text": [
      "100%|██████████| 10/10 [01:01<00:00,  6.17s/it]\n"
     ]
    }
   ],
   "source": [
    "for url in tqdm(Df_Raw['Urls_search']):\n",
    "    get_attributes(url)"
   ],
   "metadata": {
    "collapsed": false,
    "pycharm": {
     "name": "#%%\n"
    }
   }
  },
  {
   "cell_type": "code",
   "execution_count": 9,
   "outputs": [
    {
     "name": "stderr",
     "output_type": "stream",
     "text": [
      "100%|██████████| 2/2 [00:10<00:00,  5.12s/it]\n"
     ]
    }
   ],
   "source": [
    "for url in tqdm(urls):\n",
    "    get_attributes(url)"
   ],
   "metadata": {
    "collapsed": false,
    "pycharm": {
     "name": "#%%\n"
    }
   }
  },
  {
   "cell_type": "code",
   "execution_count": 11,
   "outputs": [],
   "source": [
    "get_attributes(url)"
   ],
   "metadata": {
    "collapsed": false,
    "pycharm": {
     "name": "#%%\n"
    }
   }
  },
  {
   "cell_type": "code",
   "execution_count": 10,
   "outputs": [],
   "source": [
    "def creating_dataframe(Sellers,Price,Quantidade,SKU,Title,Parcela):\n",
    "    Dataframe = pd.DataFrame()\n",
    "\n",
    "    #Colocando Url\n",
    "    Dataframe['URL'] = SKU\n",
    "\n",
    "    #Colocando Data\n",
    "    Dataframe['DATE'] = pd.to_datetime('today', errors='ignore').date()\n",
    "\n",
    "    Dataframe['MARKETPLACE'] = 'EXTRA'\n",
    "\n",
    "    correct_seller = []\n",
    "    #Arrumando sellers\n",
    "    for seller in Sellers_Extra:\n",
    "        correct_seller.append(seller[0])\n",
    "\n",
    "    Dataframe['SELLER'] = correct_seller\n",
    "\n",
    "    Dataframe['PRICE'] = Price\n",
    "\n",
    "    Dataframe['PARCEL'] = Quantidade\n",
    "    Dataframe['INSTALLMENT'] = Parcela\n",
    "\n",
    "    #Criando coluna de Installment_payment\n",
    "    Dataframe['INSTALLMENT_PAYMENT'] = Dataframe['PARCEL'] * Dataframe['INSTALLMENT']\n",
    "\n",
    "    Dataframe['ID'] = Dataframe['URL'].str.partition(\"IdSku=\")[2]\n",
    "    Dataframe['PRODUCT'] = Title\n",
    "\n",
    "    Dataframe = Dataframe[Dataframe['SELLER'] != \"E\"]\n",
    "\n",
    "    #Colocando em ordem\n",
    "    Dataframe = Dataframe[['DATE','URL','MARKETPLACE','SELLER','PRICE','PARCEL','INSTALLMENT','INSTALLMENT_PAYMENT','ID','PRODUCT']]\n",
    "\n",
    "    return Dataframe"
   ],
   "metadata": {
    "collapsed": false,
    "pycharm": {
     "name": "#%%\n"
    }
   }
  },
  {
   "cell_type": "code",
   "execution_count": 11,
   "outputs": [],
   "source": [
    "dataset_viavarejo = creating_dataframe(Sellers_Extra,Price_Extra,Installment_Extra_quantidade,SKU_Extra,Title_Extra,Installment_Extra_valor_parcela)"
   ],
   "metadata": {
    "collapsed": false,
    "pycharm": {
     "name": "#%%\n"
    }
   }
  },
  {
   "cell_type": "code",
   "execution_count": 12,
   "outputs": [
    {
     "data": {
      "text/plain": "          DATE                                                URL MARKETPLACE  \\\n0   2022-08-01  https://www.extra.com.br/Informatica/HDExterno...       EXTRA   \n1   2022-08-01  https://www.extra.com.br/Informatica/HDExterno...       EXTRA   \n2   2022-08-01  https://www.extra.com.br/Informatica/HDExterno...       EXTRA   \n3   2022-08-01  https://www.extra.com.br/Informatica/HDExterno...       EXTRA   \n4   2022-08-01  https://www.extra.com.br/Informatica/HDExterno...       EXTRA   \n5   2022-08-01  https://www.extra.com.br/Informatica/HDExterno...       EXTRA   \n6   2022-08-01  https://www.extra.com.br/Informatica/HDExterno...       EXTRA   \n7   2022-08-01  https://www.extra.com.br/Informatica/HDExterno...       EXTRA   \n8   2022-08-01  https://www.extra.com.br/Informatica/HDExterno...       EXTRA   \n9   2022-08-01  https://www.extra.com.br/Informatica/HDExterno...       EXTRA   \n10  2022-08-01  https://www.extra.com.br/Informatica/HDExterno...       EXTRA   \n11  2022-08-01  https://www.extra.com.br/Informatica/HDExterno...       EXTRA   \n12  2022-08-01  https://www.extra.com.br/Informatica/HDExterno...       EXTRA   \n13  2022-08-01  https://www.extra.com.br/Informatica/HDExterno...       EXTRA   \n14  2022-08-01  https://www.extra.com.br/Informatica/HDExterno...       EXTRA   \n15  2022-08-01  https://www.extra.com.br/Informatica/HDExterno...       EXTRA   \n16  2022-08-01  https://www.extra.com.br/Informatica/HDExterno...       EXTRA   \n17  2022-08-01  https://www.extra.com.br/Informatica/HDExterno...       EXTRA   \n18  2022-08-01  https://www.extra.com.br/Informatica/HDExterno...       EXTRA   \n19  2022-08-01  https://www.extra.com.br/Informatica/HDExterno...       EXTRA   \n20  2022-08-01  https://www.extra.com.br/Informatica/HDExterno...       EXTRA   \n21  2022-08-01  https://www.extra.com.br/Informatica/HDExterno...       EXTRA   \n22  2022-08-01  https://www.extra.com.br/Informatica/HDExterno...       EXTRA   \n23  2022-08-01  https://www.extra.com.br/acessorios-inovacoes/...       EXTRA   \n24  2022-08-01  https://www.extra.com.br/acessorios-inovacoes/...       EXTRA   \n25  2022-08-01  https://www.extra.com.br/acessorios-inovacoes/...       EXTRA   \n26  2022-08-01  https://www.extra.com.br/acessorios-inovacoes/...       EXTRA   \n27  2022-08-01  https://www.extra.com.br/Informatica/HDExterno...       EXTRA   \n28  2022-08-01  https://www.extra.com.br/Informatica/HDExterno...       EXTRA   \n29  2022-08-01  https://www.extra.com.br/Informatica/HDExterno...       EXTRA   \n30  2022-08-01  https://www.extra.com.br/acessorios-inovacoes/...       EXTRA   \n31  2022-08-01  https://www.extra.com.br/Informatica/HDExterno...       EXTRA   \n32  2022-08-01  https://www.extra.com.br/Informatica/HDExterno...       EXTRA   \n33  2022-08-01  https://www.extra.com.br/Informatica/HDExterno...       EXTRA   \n34  2022-08-01  https://www.extra.com.br/Informatica/HDExterno...       EXTRA   \n35  2022-08-01  https://www.extra.com.br/Informatica/HDExterno...       EXTRA   \n36  2022-08-01  https://www.extra.com.br/Informatica/HDExterno...       EXTRA   \n37  2022-08-01  https://www.extra.com.br/Informatica/HDExterno...       EXTRA   \n38  2022-08-01  https://www.extra.com.br/Informatica/HDExterno...       EXTRA   \n39  2022-08-01  https://www.extra.com.br/Informatica/HDExterno...       EXTRA   \n\n    SELLER    PRICE  PARCEL  INSTALLMENT  INSTALLMENT_PAYMENT          ID  \\\n0   196509   309.90       6        51.65               309.90  1531389603   \n1    16484   416.85       8        52.11               416.88  1500008365   \n2    74943   759.01      10        75.90               759.00  1510114771   \n3    12231   463.50       9        51.50               463.50    14175017   \n4   169138  1325.23      10       132.52              1325.20  1532733205   \n5   169139  1325.23      10       132.52              1325.20  1532752150   \n6   196704  1325.23      10       132.52              1325.20  1532739527   \n7   164340   569.90      10        56.99               569.90    15123261   \n8    17379   392.45       8        49.06               392.48  1500045524   \n9   169139  1301.95      10       130.20              1302.00  1532891674   \n10  169139  1320.00      10       132.00              1320.00  1532747906   \n11  169138   823.25      10        82.32               823.20  1532976258   \n12  169138  1301.95      10       130.20              1302.00  1532976040   \n13  169139   823.25      10        82.32               823.20  1532893650   \n14  169139   823.25      10        82.32               823.20  1532749857   \n15  196704  1301.95      10       130.20              1302.00  1532942441   \n16  169138   649.55      10        64.96               649.60  1532724769   \n17  169139   649.55      10        64.96               649.60  1532752958   \n18  196704  1320.00      10       132.00              1320.00  1532736571   \n19  196704   649.55      10        64.96               649.60  1532733186   \n20   12231   551.05      10        55.10               551.00    14174895   \n21   60976   469.90       9        52.21               469.89     5186531   \n22   60045   898.00      10        89.80               898.00  1505701232   \n23  182011   799.99       6       133.33               799.98     9638185   \n24   36898   569.99       5       114.00               570.00    12790653   \n25   12231   401.69       4       100.42               401.68     5090186   \n26  164340  1629.90      10       162.99              1629.90    15124195   \n27   69306   613.04      10        61.30               613.00  1533406875   \n28   85189   583.85      10        58.38               583.80  1533409553   \n29   60023   562.76      10        56.28               562.80  1508417610   \n30   22088   750.87       6       125.14               750.84  1537085019   \n31   80068  1119.10      10       111.91              1119.10  1512534693   \n32   60023  1090.08      10       109.01              1090.10  1511805540   \n33   60023   675.33      10        67.53               675.30  1508417331   \n34  121025   739.99      10        74.00               740.00  1519212833   \n35  164340   423.00       8        52.88               423.04  1511664235   \n36  145309  3394.54      10       339.45              3394.50  1538658515   \n37  112074  3286.63      10       328.66              3286.60  1538661264   \n38   12231  3191.87      10       319.19              3191.90  1538661289   \n39   33041  3296.35      10       329.64              3296.40  1540848797   \n\n                                              PRODUCT  \n0   Hd Externo Toshiba 1tb Canvio Basics Usb 3.0 P...  \n1             HDD Externo Portatil Canvio Basics 1 TB  \n2   Hdd Externo Portátil Toshiba Canvio Basics 1TB...  \n3   Hdd Externo Portátil Toshiba Canvio Basics 1TB...  \n4       Hd Ext 4Tb Toshiba Canvio Basics Hdtb440Xk3Ca  \n5       Hd Ext 4Tb Toshiba Canvio Basics Hdtb440Xk3Ca  \n6       Hd Ext 4Tb Toshiba Canvio Basics Hdtb440Xk3Ca  \n7   HD Externo Portátil Canvio Basics 2TB HDTB420X...  \n8   HD Externo 1TB Canvio Basics - HDTB410XK3AA US...  \n9   Hd Externo Toshiba 4Tb Canvio Basics 2.5 Hdtb4...  \n10  HD Externo Toshiba 4TB Canvio Basics DTB440 US...  \n11  Hd Externo Toshiba 2Tb Canvio Basics 2.5 Hdtb4...  \n12  Hd Externo Toshiba 4Tb Canvio Basics 2.5 Hdtb4...  \n13  Hd Externo Toshiba 2Tb Canvio Basics 2.5 Hdtb4...  \n14  Hd Externo Toshiba 2Tb Canvio Basics Dtb420 Us...  \n15  Hd Externo Toshiba 4Tb Canvio Basics 2.5 Hdtb4...  \n16  Hd Externo Toshiba 1Tb Canvio Basics Dtb410 Us...  \n17  Hd Externo Toshiba 1Tb Canvio Basics Dtb410 Us...  \n18  HD Externo Toshiba 4TB Canvio Basics DTB440 US...  \n19  Hd Externo Toshiba 1Tb Canvio Basics Dtb410 Us...  \n20          HD Seagate Expansion 2TB portátil USB 3.0  \n21  HD Externo Portátil Seagate Expansion 1 TB USB...  \n22  HD Externo Seagate 4TB Expansion Portatil USB ...  \n23  HD Externo 4TB USB 3.0 Seagate Expansion Portá...  \n24  HD Externo - 2.000GB (2TB) / USB 3.0 - Seagate...  \n25  HD Externo 1TB USB 3.0 Seagate Expansion Portá...  \n26  HD Externo 6TB 3.5 Seagate USB 3.0 Preto Expan...  \n27  HD Seagate Externo Portátil Expansion USB 3.0 ...  \n28  HD Seagate Externo Portátil Expansion USB 3.0 ...  \n29  HD Seagate Externo Portátil Expansion USB 3.0 ...  \n30         HD Externo 4TB Expansion USB 3.0 - SEAGATE  \n31  HD Seagate Externo Portátil Expansion USB 3.0 ...  \n32  HD Seagate Externo Portátil Expansion USB 3.0 ...  \n33  HD Seagate Externo Portátil Expansion USB 3.0 ...  \n34  HD Externo 4TB USB 3.0 Seagate Expansion Portá...  \n35  Disco Rígido Hd Externo 1Tb Seagate Expansion ...  \n36  Disco Rígido Externo Seagate Expansion Steb120...  \n37  Disco Rígido Externo Seagate Expansion Steb120...  \n38  Disco Rígido Externo Seagate Expansion Steb120...  \n39  Disco Rígido Externo Seagate Expansion Steb120...  ",
      "text/html": "<div>\n<style scoped>\n    .dataframe tbody tr th:only-of-type {\n        vertical-align: middle;\n    }\n\n    .dataframe tbody tr th {\n        vertical-align: top;\n    }\n\n    .dataframe thead th {\n        text-align: right;\n    }\n</style>\n<table border=\"1\" class=\"dataframe\">\n  <thead>\n    <tr style=\"text-align: right;\">\n      <th></th>\n      <th>DATE</th>\n      <th>URL</th>\n      <th>MARKETPLACE</th>\n      <th>SELLER</th>\n      <th>PRICE</th>\n      <th>PARCEL</th>\n      <th>INSTALLMENT</th>\n      <th>INSTALLMENT_PAYMENT</th>\n      <th>ID</th>\n      <th>PRODUCT</th>\n    </tr>\n  </thead>\n  <tbody>\n    <tr>\n      <th>0</th>\n      <td>2022-08-01</td>\n      <td>https://www.extra.com.br/Informatica/HDExterno...</td>\n      <td>EXTRA</td>\n      <td>196509</td>\n      <td>309.90</td>\n      <td>6</td>\n      <td>51.65</td>\n      <td>309.90</td>\n      <td>1531389603</td>\n      <td>Hd Externo Toshiba 1tb Canvio Basics Usb 3.0 P...</td>\n    </tr>\n    <tr>\n      <th>1</th>\n      <td>2022-08-01</td>\n      <td>https://www.extra.com.br/Informatica/HDExterno...</td>\n      <td>EXTRA</td>\n      <td>16484</td>\n      <td>416.85</td>\n      <td>8</td>\n      <td>52.11</td>\n      <td>416.88</td>\n      <td>1500008365</td>\n      <td>HDD Externo Portatil Canvio Basics 1 TB</td>\n    </tr>\n    <tr>\n      <th>2</th>\n      <td>2022-08-01</td>\n      <td>https://www.extra.com.br/Informatica/HDExterno...</td>\n      <td>EXTRA</td>\n      <td>74943</td>\n      <td>759.01</td>\n      <td>10</td>\n      <td>75.90</td>\n      <td>759.00</td>\n      <td>1510114771</td>\n      <td>Hdd Externo Portátil Toshiba Canvio Basics 1TB...</td>\n    </tr>\n    <tr>\n      <th>3</th>\n      <td>2022-08-01</td>\n      <td>https://www.extra.com.br/Informatica/HDExterno...</td>\n      <td>EXTRA</td>\n      <td>12231</td>\n      <td>463.50</td>\n      <td>9</td>\n      <td>51.50</td>\n      <td>463.50</td>\n      <td>14175017</td>\n      <td>Hdd Externo Portátil Toshiba Canvio Basics 1TB...</td>\n    </tr>\n    <tr>\n      <th>4</th>\n      <td>2022-08-01</td>\n      <td>https://www.extra.com.br/Informatica/HDExterno...</td>\n      <td>EXTRA</td>\n      <td>169138</td>\n      <td>1325.23</td>\n      <td>10</td>\n      <td>132.52</td>\n      <td>1325.20</td>\n      <td>1532733205</td>\n      <td>Hd Ext 4Tb Toshiba Canvio Basics Hdtb440Xk3Ca</td>\n    </tr>\n    <tr>\n      <th>5</th>\n      <td>2022-08-01</td>\n      <td>https://www.extra.com.br/Informatica/HDExterno...</td>\n      <td>EXTRA</td>\n      <td>169139</td>\n      <td>1325.23</td>\n      <td>10</td>\n      <td>132.52</td>\n      <td>1325.20</td>\n      <td>1532752150</td>\n      <td>Hd Ext 4Tb Toshiba Canvio Basics Hdtb440Xk3Ca</td>\n    </tr>\n    <tr>\n      <th>6</th>\n      <td>2022-08-01</td>\n      <td>https://www.extra.com.br/Informatica/HDExterno...</td>\n      <td>EXTRA</td>\n      <td>196704</td>\n      <td>1325.23</td>\n      <td>10</td>\n      <td>132.52</td>\n      <td>1325.20</td>\n      <td>1532739527</td>\n      <td>Hd Ext 4Tb Toshiba Canvio Basics Hdtb440Xk3Ca</td>\n    </tr>\n    <tr>\n      <th>7</th>\n      <td>2022-08-01</td>\n      <td>https://www.extra.com.br/Informatica/HDExterno...</td>\n      <td>EXTRA</td>\n      <td>164340</td>\n      <td>569.90</td>\n      <td>10</td>\n      <td>56.99</td>\n      <td>569.90</td>\n      <td>15123261</td>\n      <td>HD Externo Portátil Canvio Basics 2TB HDTB420X...</td>\n    </tr>\n    <tr>\n      <th>8</th>\n      <td>2022-08-01</td>\n      <td>https://www.extra.com.br/Informatica/HDExterno...</td>\n      <td>EXTRA</td>\n      <td>17379</td>\n      <td>392.45</td>\n      <td>8</td>\n      <td>49.06</td>\n      <td>392.48</td>\n      <td>1500045524</td>\n      <td>HD Externo 1TB Canvio Basics - HDTB410XK3AA US...</td>\n    </tr>\n    <tr>\n      <th>9</th>\n      <td>2022-08-01</td>\n      <td>https://www.extra.com.br/Informatica/HDExterno...</td>\n      <td>EXTRA</td>\n      <td>169139</td>\n      <td>1301.95</td>\n      <td>10</td>\n      <td>130.20</td>\n      <td>1302.00</td>\n      <td>1532891674</td>\n      <td>Hd Externo Toshiba 4Tb Canvio Basics 2.5 Hdtb4...</td>\n    </tr>\n    <tr>\n      <th>10</th>\n      <td>2022-08-01</td>\n      <td>https://www.extra.com.br/Informatica/HDExterno...</td>\n      <td>EXTRA</td>\n      <td>169139</td>\n      <td>1320.00</td>\n      <td>10</td>\n      <td>132.00</td>\n      <td>1320.00</td>\n      <td>1532747906</td>\n      <td>HD Externo Toshiba 4TB Canvio Basics DTB440 US...</td>\n    </tr>\n    <tr>\n      <th>11</th>\n      <td>2022-08-01</td>\n      <td>https://www.extra.com.br/Informatica/HDExterno...</td>\n      <td>EXTRA</td>\n      <td>169138</td>\n      <td>823.25</td>\n      <td>10</td>\n      <td>82.32</td>\n      <td>823.20</td>\n      <td>1532976258</td>\n      <td>Hd Externo Toshiba 2Tb Canvio Basics 2.5 Hdtb4...</td>\n    </tr>\n    <tr>\n      <th>12</th>\n      <td>2022-08-01</td>\n      <td>https://www.extra.com.br/Informatica/HDExterno...</td>\n      <td>EXTRA</td>\n      <td>169138</td>\n      <td>1301.95</td>\n      <td>10</td>\n      <td>130.20</td>\n      <td>1302.00</td>\n      <td>1532976040</td>\n      <td>Hd Externo Toshiba 4Tb Canvio Basics 2.5 Hdtb4...</td>\n    </tr>\n    <tr>\n      <th>13</th>\n      <td>2022-08-01</td>\n      <td>https://www.extra.com.br/Informatica/HDExterno...</td>\n      <td>EXTRA</td>\n      <td>169139</td>\n      <td>823.25</td>\n      <td>10</td>\n      <td>82.32</td>\n      <td>823.20</td>\n      <td>1532893650</td>\n      <td>Hd Externo Toshiba 2Tb Canvio Basics 2.5 Hdtb4...</td>\n    </tr>\n    <tr>\n      <th>14</th>\n      <td>2022-08-01</td>\n      <td>https://www.extra.com.br/Informatica/HDExterno...</td>\n      <td>EXTRA</td>\n      <td>169139</td>\n      <td>823.25</td>\n      <td>10</td>\n      <td>82.32</td>\n      <td>823.20</td>\n      <td>1532749857</td>\n      <td>Hd Externo Toshiba 2Tb Canvio Basics Dtb420 Us...</td>\n    </tr>\n    <tr>\n      <th>15</th>\n      <td>2022-08-01</td>\n      <td>https://www.extra.com.br/Informatica/HDExterno...</td>\n      <td>EXTRA</td>\n      <td>196704</td>\n      <td>1301.95</td>\n      <td>10</td>\n      <td>130.20</td>\n      <td>1302.00</td>\n      <td>1532942441</td>\n      <td>Hd Externo Toshiba 4Tb Canvio Basics 2.5 Hdtb4...</td>\n    </tr>\n    <tr>\n      <th>16</th>\n      <td>2022-08-01</td>\n      <td>https://www.extra.com.br/Informatica/HDExterno...</td>\n      <td>EXTRA</td>\n      <td>169138</td>\n      <td>649.55</td>\n      <td>10</td>\n      <td>64.96</td>\n      <td>649.60</td>\n      <td>1532724769</td>\n      <td>Hd Externo Toshiba 1Tb Canvio Basics Dtb410 Us...</td>\n    </tr>\n    <tr>\n      <th>17</th>\n      <td>2022-08-01</td>\n      <td>https://www.extra.com.br/Informatica/HDExterno...</td>\n      <td>EXTRA</td>\n      <td>169139</td>\n      <td>649.55</td>\n      <td>10</td>\n      <td>64.96</td>\n      <td>649.60</td>\n      <td>1532752958</td>\n      <td>Hd Externo Toshiba 1Tb Canvio Basics Dtb410 Us...</td>\n    </tr>\n    <tr>\n      <th>18</th>\n      <td>2022-08-01</td>\n      <td>https://www.extra.com.br/Informatica/HDExterno...</td>\n      <td>EXTRA</td>\n      <td>196704</td>\n      <td>1320.00</td>\n      <td>10</td>\n      <td>132.00</td>\n      <td>1320.00</td>\n      <td>1532736571</td>\n      <td>HD Externo Toshiba 4TB Canvio Basics DTB440 US...</td>\n    </tr>\n    <tr>\n      <th>19</th>\n      <td>2022-08-01</td>\n      <td>https://www.extra.com.br/Informatica/HDExterno...</td>\n      <td>EXTRA</td>\n      <td>196704</td>\n      <td>649.55</td>\n      <td>10</td>\n      <td>64.96</td>\n      <td>649.60</td>\n      <td>1532733186</td>\n      <td>Hd Externo Toshiba 1Tb Canvio Basics Dtb410 Us...</td>\n    </tr>\n    <tr>\n      <th>20</th>\n      <td>2022-08-01</td>\n      <td>https://www.extra.com.br/Informatica/HDExterno...</td>\n      <td>EXTRA</td>\n      <td>12231</td>\n      <td>551.05</td>\n      <td>10</td>\n      <td>55.10</td>\n      <td>551.00</td>\n      <td>14174895</td>\n      <td>HD Seagate Expansion 2TB portátil USB 3.0</td>\n    </tr>\n    <tr>\n      <th>21</th>\n      <td>2022-08-01</td>\n      <td>https://www.extra.com.br/Informatica/HDExterno...</td>\n      <td>EXTRA</td>\n      <td>60976</td>\n      <td>469.90</td>\n      <td>9</td>\n      <td>52.21</td>\n      <td>469.89</td>\n      <td>5186531</td>\n      <td>HD Externo Portátil Seagate Expansion 1 TB USB...</td>\n    </tr>\n    <tr>\n      <th>22</th>\n      <td>2022-08-01</td>\n      <td>https://www.extra.com.br/Informatica/HDExterno...</td>\n      <td>EXTRA</td>\n      <td>60045</td>\n      <td>898.00</td>\n      <td>10</td>\n      <td>89.80</td>\n      <td>898.00</td>\n      <td>1505701232</td>\n      <td>HD Externo Seagate 4TB Expansion Portatil USB ...</td>\n    </tr>\n    <tr>\n      <th>23</th>\n      <td>2022-08-01</td>\n      <td>https://www.extra.com.br/acessorios-inovacoes/...</td>\n      <td>EXTRA</td>\n      <td>182011</td>\n      <td>799.99</td>\n      <td>6</td>\n      <td>133.33</td>\n      <td>799.98</td>\n      <td>9638185</td>\n      <td>HD Externo 4TB USB 3.0 Seagate Expansion Portá...</td>\n    </tr>\n    <tr>\n      <th>24</th>\n      <td>2022-08-01</td>\n      <td>https://www.extra.com.br/acessorios-inovacoes/...</td>\n      <td>EXTRA</td>\n      <td>36898</td>\n      <td>569.99</td>\n      <td>5</td>\n      <td>114.00</td>\n      <td>570.00</td>\n      <td>12790653</td>\n      <td>HD Externo - 2.000GB (2TB) / USB 3.0 - Seagate...</td>\n    </tr>\n    <tr>\n      <th>25</th>\n      <td>2022-08-01</td>\n      <td>https://www.extra.com.br/acessorios-inovacoes/...</td>\n      <td>EXTRA</td>\n      <td>12231</td>\n      <td>401.69</td>\n      <td>4</td>\n      <td>100.42</td>\n      <td>401.68</td>\n      <td>5090186</td>\n      <td>HD Externo 1TB USB 3.0 Seagate Expansion Portá...</td>\n    </tr>\n    <tr>\n      <th>26</th>\n      <td>2022-08-01</td>\n      <td>https://www.extra.com.br/acessorios-inovacoes/...</td>\n      <td>EXTRA</td>\n      <td>164340</td>\n      <td>1629.90</td>\n      <td>10</td>\n      <td>162.99</td>\n      <td>1629.90</td>\n      <td>15124195</td>\n      <td>HD Externo 6TB 3.5 Seagate USB 3.0 Preto Expan...</td>\n    </tr>\n    <tr>\n      <th>27</th>\n      <td>2022-08-01</td>\n      <td>https://www.extra.com.br/Informatica/HDExterno...</td>\n      <td>EXTRA</td>\n      <td>69306</td>\n      <td>613.04</td>\n      <td>10</td>\n      <td>61.30</td>\n      <td>613.00</td>\n      <td>1533406875</td>\n      <td>HD Seagate Externo Portátil Expansion USB 3.0 ...</td>\n    </tr>\n    <tr>\n      <th>28</th>\n      <td>2022-08-01</td>\n      <td>https://www.extra.com.br/Informatica/HDExterno...</td>\n      <td>EXTRA</td>\n      <td>85189</td>\n      <td>583.85</td>\n      <td>10</td>\n      <td>58.38</td>\n      <td>583.80</td>\n      <td>1533409553</td>\n      <td>HD Seagate Externo Portátil Expansion USB 3.0 ...</td>\n    </tr>\n    <tr>\n      <th>29</th>\n      <td>2022-08-01</td>\n      <td>https://www.extra.com.br/Informatica/HDExterno...</td>\n      <td>EXTRA</td>\n      <td>60023</td>\n      <td>562.76</td>\n      <td>10</td>\n      <td>56.28</td>\n      <td>562.80</td>\n      <td>1508417610</td>\n      <td>HD Seagate Externo Portátil Expansion USB 3.0 ...</td>\n    </tr>\n    <tr>\n      <th>30</th>\n      <td>2022-08-01</td>\n      <td>https://www.extra.com.br/acessorios-inovacoes/...</td>\n      <td>EXTRA</td>\n      <td>22088</td>\n      <td>750.87</td>\n      <td>6</td>\n      <td>125.14</td>\n      <td>750.84</td>\n      <td>1537085019</td>\n      <td>HD Externo 4TB Expansion USB 3.0 - SEAGATE</td>\n    </tr>\n    <tr>\n      <th>31</th>\n      <td>2022-08-01</td>\n      <td>https://www.extra.com.br/Informatica/HDExterno...</td>\n      <td>EXTRA</td>\n      <td>80068</td>\n      <td>1119.10</td>\n      <td>10</td>\n      <td>111.91</td>\n      <td>1119.10</td>\n      <td>1512534693</td>\n      <td>HD Seagate Externo Portátil Expansion USB 3.0 ...</td>\n    </tr>\n    <tr>\n      <th>32</th>\n      <td>2022-08-01</td>\n      <td>https://www.extra.com.br/Informatica/HDExterno...</td>\n      <td>EXTRA</td>\n      <td>60023</td>\n      <td>1090.08</td>\n      <td>10</td>\n      <td>109.01</td>\n      <td>1090.10</td>\n      <td>1511805540</td>\n      <td>HD Seagate Externo Portátil Expansion USB 3.0 ...</td>\n    </tr>\n    <tr>\n      <th>33</th>\n      <td>2022-08-01</td>\n      <td>https://www.extra.com.br/Informatica/HDExterno...</td>\n      <td>EXTRA</td>\n      <td>60023</td>\n      <td>675.33</td>\n      <td>10</td>\n      <td>67.53</td>\n      <td>675.30</td>\n      <td>1508417331</td>\n      <td>HD Seagate Externo Portátil Expansion USB 3.0 ...</td>\n    </tr>\n    <tr>\n      <th>34</th>\n      <td>2022-08-01</td>\n      <td>https://www.extra.com.br/Informatica/HDExterno...</td>\n      <td>EXTRA</td>\n      <td>121025</td>\n      <td>739.99</td>\n      <td>10</td>\n      <td>74.00</td>\n      <td>740.00</td>\n      <td>1519212833</td>\n      <td>HD Externo 4TB USB 3.0 Seagate Expansion Portá...</td>\n    </tr>\n    <tr>\n      <th>35</th>\n      <td>2022-08-01</td>\n      <td>https://www.extra.com.br/Informatica/HDExterno...</td>\n      <td>EXTRA</td>\n      <td>164340</td>\n      <td>423.00</td>\n      <td>8</td>\n      <td>52.88</td>\n      <td>423.04</td>\n      <td>1511664235</td>\n      <td>Disco Rígido Hd Externo 1Tb Seagate Expansion ...</td>\n    </tr>\n    <tr>\n      <th>36</th>\n      <td>2022-08-01</td>\n      <td>https://www.extra.com.br/Informatica/HDExterno...</td>\n      <td>EXTRA</td>\n      <td>145309</td>\n      <td>3394.54</td>\n      <td>10</td>\n      <td>339.45</td>\n      <td>3394.50</td>\n      <td>1538658515</td>\n      <td>Disco Rígido Externo Seagate Expansion Steb120...</td>\n    </tr>\n    <tr>\n      <th>37</th>\n      <td>2022-08-01</td>\n      <td>https://www.extra.com.br/Informatica/HDExterno...</td>\n      <td>EXTRA</td>\n      <td>112074</td>\n      <td>3286.63</td>\n      <td>10</td>\n      <td>328.66</td>\n      <td>3286.60</td>\n      <td>1538661264</td>\n      <td>Disco Rígido Externo Seagate Expansion Steb120...</td>\n    </tr>\n    <tr>\n      <th>38</th>\n      <td>2022-08-01</td>\n      <td>https://www.extra.com.br/Informatica/HDExterno...</td>\n      <td>EXTRA</td>\n      <td>12231</td>\n      <td>3191.87</td>\n      <td>10</td>\n      <td>319.19</td>\n      <td>3191.90</td>\n      <td>1538661289</td>\n      <td>Disco Rígido Externo Seagate Expansion Steb120...</td>\n    </tr>\n    <tr>\n      <th>39</th>\n      <td>2022-08-01</td>\n      <td>https://www.extra.com.br/Informatica/HDExterno...</td>\n      <td>EXTRA</td>\n      <td>33041</td>\n      <td>3296.35</td>\n      <td>10</td>\n      <td>329.64</td>\n      <td>3296.40</td>\n      <td>1540848797</td>\n      <td>Disco Rígido Externo Seagate Expansion Steb120...</td>\n    </tr>\n  </tbody>\n</table>\n</div>"
     },
     "execution_count": 12,
     "metadata": {},
     "output_type": "execute_result"
    }
   ],
   "source": [
    "dataset_viavarejo"
   ],
   "metadata": {
    "collapsed": false,
    "pycharm": {
     "name": "#%%\n"
    }
   }
  },
  {
   "cell_type": "code",
   "execution_count": 13,
   "outputs": [],
   "source": [
    "dataset_viavarejo.to_excel(r\"C:\\Users\\pedro\\Documents\\Turte Brand Protection\\Turtle_Software_Artemis\\Data\\Brand_Search_Test\\Extra_Toshiba.xlsx\", index=False)"
   ],
   "metadata": {
    "collapsed": false,
    "pycharm": {
     "name": "#%%\n"
    }
   }
  },
  {
   "cell_type": "code",
   "execution_count": 18,
   "outputs": [],
   "source": [
    "def get_sellers(url,sellers):\n",
    "    # driver = webdriver.Chrome(r\"C:\\Users\\pedro\\Documents\\Turte Brand Protection\\Turtle_Thinker_Alpha_0.1\\Data\\Selenium\\Selenium_101\", options=options)\n",
    "\n",
    "    #Criando o dataset para retirar as duplicadas\n",
    "    df_sellers = pd.DataFrame()\n",
    "\n",
    "    df_sellers['URL'] = url\n",
    "    df_sellers['SELLER'] = sellers\n",
    "\n",
    "    #Retirando as duplicadas\n",
    "    df_sellers.drop_duplicates(subset=['SELLER'], inplace=True)\n",
    "\n",
    "    # sellers_name  =[]\n",
    "    #\n",
    "    # for url in tqdm(df_sellers['URL']):\n",
    "    #     driver.get(url)\n",
    "    #     time.sleep(20)\n",
    "    #\n",
    "    #     html = driver.page_source\n",
    "    #\n",
    "    #     Soup = BeautifulSoup(html, 'html.parser')\n",
    "    #\n",
    "    #     try:\n",
    "    #         sellers_name.append(Soup.find(class_='e1vg858b0 css-1kq6ah1 e1g7zzz30').text)\n",
    "    #     except:\n",
    "    #         sellers_name.append(\"ERRO\")\n",
    "    #\n",
    "    # df_sellers['NAMES'] = sellers_name\n",
    "\n",
    "    return df_sellers"
   ],
   "metadata": {
    "collapsed": false,
    "pycharm": {
     "name": "#%%\n"
    }
   }
  },
  {
   "cell_type": "code",
   "execution_count": 19,
   "outputs": [
    {
     "data": {
      "text/plain": "                                                  URL  SELLER\n0   https://www.extra.com.br/acessorios-inovacoes/...   44309\n1   https://www.extra.com.br/marketplace/ProdutosI...  163343\n4   https://www.extra.com.br/marketplace/ProdutosI...  109444\n5   https://www.extra.com.br/acessorios-inovacoes/...  145309\n6   https://www.extra.com.br/acessorios-inovacoes/...   33041\n8   https://www.extra.com.br/acessorios-inovacoes/...  145305\n9   https://www.extra.com.br/Papelaria/EscritaCorr...   12231\n20  https://www.extra.com.br/acessorios-inovacoes/...   88983\n22  https://www.extra.com.br/acessorios-inovacoes/...   94202\n23  https://www.extra.com.br/acessorios-inovacoes/...   80068\n25  https://www.extra.com.br/Tablets/Tablet/Tablet...   14201\n30  https://www.extra.com.br/acessorios-inovacoes/...  130703\n35  https://www.extra.com.br/acessorios-inovacoes/...   35821",
      "text/html": "<div>\n<style scoped>\n    .dataframe tbody tr th:only-of-type {\n        vertical-align: middle;\n    }\n\n    .dataframe tbody tr th {\n        vertical-align: top;\n    }\n\n    .dataframe thead th {\n        text-align: right;\n    }\n</style>\n<table border=\"1\" class=\"dataframe\">\n  <thead>\n    <tr style=\"text-align: right;\">\n      <th></th>\n      <th>URL</th>\n      <th>SELLER</th>\n    </tr>\n  </thead>\n  <tbody>\n    <tr>\n      <th>0</th>\n      <td>https://www.extra.com.br/acessorios-inovacoes/...</td>\n      <td>44309</td>\n    </tr>\n    <tr>\n      <th>1</th>\n      <td>https://www.extra.com.br/marketplace/ProdutosI...</td>\n      <td>163343</td>\n    </tr>\n    <tr>\n      <th>4</th>\n      <td>https://www.extra.com.br/marketplace/ProdutosI...</td>\n      <td>109444</td>\n    </tr>\n    <tr>\n      <th>5</th>\n      <td>https://www.extra.com.br/acessorios-inovacoes/...</td>\n      <td>145309</td>\n    </tr>\n    <tr>\n      <th>6</th>\n      <td>https://www.extra.com.br/acessorios-inovacoes/...</td>\n      <td>33041</td>\n    </tr>\n    <tr>\n      <th>8</th>\n      <td>https://www.extra.com.br/acessorios-inovacoes/...</td>\n      <td>145305</td>\n    </tr>\n    <tr>\n      <th>9</th>\n      <td>https://www.extra.com.br/Papelaria/EscritaCorr...</td>\n      <td>12231</td>\n    </tr>\n    <tr>\n      <th>20</th>\n      <td>https://www.extra.com.br/acessorios-inovacoes/...</td>\n      <td>88983</td>\n    </tr>\n    <tr>\n      <th>22</th>\n      <td>https://www.extra.com.br/acessorios-inovacoes/...</td>\n      <td>94202</td>\n    </tr>\n    <tr>\n      <th>23</th>\n      <td>https://www.extra.com.br/acessorios-inovacoes/...</td>\n      <td>80068</td>\n    </tr>\n    <tr>\n      <th>25</th>\n      <td>https://www.extra.com.br/Tablets/Tablet/Tablet...</td>\n      <td>14201</td>\n    </tr>\n    <tr>\n      <th>30</th>\n      <td>https://www.extra.com.br/acessorios-inovacoes/...</td>\n      <td>130703</td>\n    </tr>\n    <tr>\n      <th>35</th>\n      <td>https://www.extra.com.br/acessorios-inovacoes/...</td>\n      <td>35821</td>\n    </tr>\n  </tbody>\n</table>\n</div>"
     },
     "execution_count": 19,
     "metadata": {},
     "output_type": "execute_result"
    }
   ],
   "source": [
    "sellers_pd = get_sellers(dataset_viavarejo['URL'], dataset_viavarejo['SELLER'])\n",
    "sellers_pd"
   ],
   "metadata": {
    "collapsed": false,
    "pycharm": {
     "name": "#%%\n"
    }
   }
  },
  {
   "cell_type": "code",
   "execution_count": 24,
   "outputs": [
    {
     "name": "stderr",
     "output_type": "stream",
     "text": [
      "C:\\Users\\pedro\\AppData\\Local\\Temp\\ipykernel_32824\\944355187.py:4: DeprecationWarning: executable_path has been deprecated, please pass in a Service object\n",
      "  driver = webdriver.Chrome(r\"C:\\Users\\pedro\\Documents\\Turte Brand Protection\\Turtle_Thinker_Alpha_0.1\\Data\\Selenium\\Selenium_103\", options=options)\n"
     ]
    }
   ],
   "source": [
    "sellers_name = []\n",
    "internacional_list = []\n",
    "for url in sellers_pd['URL']:\n",
    "    driver = webdriver.Chrome(r\"C:\\Users\\pedro\\Documents\\Turte Brand Protection\\Turtle_Thinker_Alpha_0.1\\Data\\Selenium\\Selenium_103\", options=options)\n",
    "    driver.get(url)\n",
    "    time.sleep(5)\n",
    "\n",
    "    html = driver.page_source\n",
    "\n",
    "    driver.close()\n",
    "\n",
    "    Soup = BeautifulSoup(html, 'html.parser')\n",
    "\n",
    "    try:\n",
    "        sellers_name.append(Soup.find(class_='e1vg858b0 css-1g8ajdi e1g7zzz30').text)\n",
    "        try:\n",
    "            internacional_list.append(Soup.find('img', attrs={'data-testid':'stamps'}))\n",
    "        except:\n",
    "            internacional_list.append(\"NACIONAL\")\n",
    "    except:\n",
    "        sellers_name.append(\"ERRO\")\n",
    "        internacional_list.append(\"ERRO\")"
   ],
   "metadata": {
    "collapsed": false,
    "pycharm": {
     "name": "#%%\n"
    }
   }
  },
  {
   "cell_type": "code",
   "execution_count": 25,
   "outputs": [
    {
     "data": {
      "text/plain": "                                                  URL  SELLER  \\\n0   https://www.extra.com.br/acessorios-inovacoes/...   44309   \n1   https://www.extra.com.br/marketplace/ProdutosI...  163343   \n4   https://www.extra.com.br/marketplace/ProdutosI...  109444   \n5   https://www.extra.com.br/acessorios-inovacoes/...  145309   \n6   https://www.extra.com.br/acessorios-inovacoes/...   33041   \n8   https://www.extra.com.br/acessorios-inovacoes/...  145305   \n9   https://www.extra.com.br/Papelaria/EscritaCorr...   12231   \n20  https://www.extra.com.br/acessorios-inovacoes/...   88983   \n22  https://www.extra.com.br/acessorios-inovacoes/...   94202   \n23  https://www.extra.com.br/acessorios-inovacoes/...   80068   \n25  https://www.extra.com.br/Tablets/Tablet/Tablet...   14201   \n30  https://www.extra.com.br/acessorios-inovacoes/...  130703   \n35  https://www.extra.com.br/acessorios-inovacoes/...   35821   \n\n                     Name INTERNACIONAL  \n0                  e-spot          None  \n1             NOCNOC ASÍA            []  \n4                 Noc Noc            []  \n5             Olist Store          None  \n6           Olist Express          None  \n8                                  ERRO  \n9                   Olist          None  \n20       KADRI TECNOLOGIA          None  \n22                                 ERRO  \n23               TENDINFO          None  \n25                                 ERRO  \n30   OPERACY PREMIUM LTDA          None  \n35                                 ERRO  ",
      "text/html": "<div>\n<style scoped>\n    .dataframe tbody tr th:only-of-type {\n        vertical-align: middle;\n    }\n\n    .dataframe tbody tr th {\n        vertical-align: top;\n    }\n\n    .dataframe thead th {\n        text-align: right;\n    }\n</style>\n<table border=\"1\" class=\"dataframe\">\n  <thead>\n    <tr style=\"text-align: right;\">\n      <th></th>\n      <th>URL</th>\n      <th>SELLER</th>\n      <th>Name</th>\n      <th>INTERNACIONAL</th>\n    </tr>\n  </thead>\n  <tbody>\n    <tr>\n      <th>0</th>\n      <td>https://www.extra.com.br/acessorios-inovacoes/...</td>\n      <td>44309</td>\n      <td>e-spot</td>\n      <td>None</td>\n    </tr>\n    <tr>\n      <th>1</th>\n      <td>https://www.extra.com.br/marketplace/ProdutosI...</td>\n      <td>163343</td>\n      <td>NOCNOC ASÍA</td>\n      <td>[]</td>\n    </tr>\n    <tr>\n      <th>4</th>\n      <td>https://www.extra.com.br/marketplace/ProdutosI...</td>\n      <td>109444</td>\n      <td>Noc Noc</td>\n      <td>[]</td>\n    </tr>\n    <tr>\n      <th>5</th>\n      <td>https://www.extra.com.br/acessorios-inovacoes/...</td>\n      <td>145309</td>\n      <td>Olist Store</td>\n      <td>None</td>\n    </tr>\n    <tr>\n      <th>6</th>\n      <td>https://www.extra.com.br/acessorios-inovacoes/...</td>\n      <td>33041</td>\n      <td>Olist Express</td>\n      <td>None</td>\n    </tr>\n    <tr>\n      <th>8</th>\n      <td>https://www.extra.com.br/acessorios-inovacoes/...</td>\n      <td>145305</td>\n      <td></td>\n      <td>ERRO</td>\n    </tr>\n    <tr>\n      <th>9</th>\n      <td>https://www.extra.com.br/Papelaria/EscritaCorr...</td>\n      <td>12231</td>\n      <td>Olist</td>\n      <td>None</td>\n    </tr>\n    <tr>\n      <th>20</th>\n      <td>https://www.extra.com.br/acessorios-inovacoes/...</td>\n      <td>88983</td>\n      <td>KADRI TECNOLOGIA</td>\n      <td>None</td>\n    </tr>\n    <tr>\n      <th>22</th>\n      <td>https://www.extra.com.br/acessorios-inovacoes/...</td>\n      <td>94202</td>\n      <td></td>\n      <td>ERRO</td>\n    </tr>\n    <tr>\n      <th>23</th>\n      <td>https://www.extra.com.br/acessorios-inovacoes/...</td>\n      <td>80068</td>\n      <td>TENDINFO</td>\n      <td>None</td>\n    </tr>\n    <tr>\n      <th>25</th>\n      <td>https://www.extra.com.br/Tablets/Tablet/Tablet...</td>\n      <td>14201</td>\n      <td></td>\n      <td>ERRO</td>\n    </tr>\n    <tr>\n      <th>30</th>\n      <td>https://www.extra.com.br/acessorios-inovacoes/...</td>\n      <td>130703</td>\n      <td>OPERACY PREMIUM LTDA</td>\n      <td>None</td>\n    </tr>\n    <tr>\n      <th>35</th>\n      <td>https://www.extra.com.br/acessorios-inovacoes/...</td>\n      <td>35821</td>\n      <td></td>\n      <td>ERRO</td>\n    </tr>\n  </tbody>\n</table>\n</div>"
     },
     "execution_count": 25,
     "metadata": {},
     "output_type": "execute_result"
    }
   ],
   "source": [
    "sellers_pd['Name'] = sellers_name\n",
    "sellers_pd['INTERNACIONAL'] = internacional_list\n",
    "\n",
    "#Mudando o nome do seller\n",
    "sellers_pd['Name'] = sellers_pd['Name'].str.partition(\"por\")[2]\n",
    "\n",
    "sellers_pd"
   ],
   "metadata": {
    "collapsed": false,
    "pycharm": {
     "name": "#%%\n"
    }
   }
  },
  {
   "cell_type": "code",
   "execution_count": 26,
   "outputs": [],
   "source": [
    "sellers_name_correct = []\n",
    "\n",
    "for code in dataset_viavarejo['SELLER']:\n",
    "    sellers_name_correct.append(sellers_pd.loc[sellers_pd['SELLER'] == code,'Name'].values[0])\n",
    "\n",
    "internacional_name_correct = []\n",
    "\n",
    "for code in dataset_viavarejo['SELLER']:\n",
    "    internacional_name_correct.append(sellers_pd.loc[sellers_pd['SELLER'] == code,'INTERNACIONAL'].values[0])"
   ],
   "metadata": {
    "collapsed": false,
    "pycharm": {
     "name": "#%%\n"
    }
   }
  },
  {
   "cell_type": "code",
   "execution_count": 27,
   "outputs": [
    {
     "data": {
      "text/plain": "          DATE                                                URL MARKETPLACE  \\\n0   2022-07-27  https://www.extra.com.br/acessorios-inovacoes/...       EXTRA   \n1   2022-07-27  https://www.extra.com.br/marketplace/ProdutosI...       EXTRA   \n2   2022-07-27  https://www.extra.com.br/marketplace/ProdutosI...       EXTRA   \n3   2022-07-27  https://www.extra.com.br/marketplace/ProdutosI...       EXTRA   \n4   2022-07-27  https://www.extra.com.br/marketplace/ProdutosI...       EXTRA   \n5   2022-07-27  https://www.extra.com.br/acessorios-inovacoes/...       EXTRA   \n6   2022-07-27  https://www.extra.com.br/acessorios-inovacoes/...       EXTRA   \n7   2022-07-27  https://www.extra.com.br/acessorios-inovacoes/...       EXTRA   \n8   2022-07-27  https://www.extra.com.br/acessorios-inovacoes/...       EXTRA   \n9   2022-07-27  https://www.extra.com.br/Papelaria/EscritaCorr...       EXTRA   \n10  2022-07-27  https://www.extra.com.br/acessorios-inovacoes/...       EXTRA   \n20  2022-07-27  https://www.extra.com.br/acessorios-inovacoes/...       EXTRA   \n21  2022-07-27  https://www.extra.com.br/acessorios-inovacoes/...       EXTRA   \n22  2022-07-27  https://www.extra.com.br/acessorios-inovacoes/...       EXTRA   \n23  2022-07-27  https://www.extra.com.br/acessorios-inovacoes/...       EXTRA   \n24  2022-07-27  https://www.extra.com.br/marketplace/ProdutosI...       EXTRA   \n25  2022-07-27  https://www.extra.com.br/Tablets/Tablet/Tablet...       EXTRA   \n26  2022-07-27  https://www.extra.com.br/marketplace/ProdutosI...       EXTRA   \n27  2022-07-27  https://www.extra.com.br/marketplace/ProdutosI...       EXTRA   \n28  2022-07-27  https://www.extra.com.br/marketplace/ProdutosI...       EXTRA   \n29  2022-07-27  https://www.extra.com.br/marketplace/ProdutosI...       EXTRA   \n30  2022-07-27  https://www.extra.com.br/acessorios-inovacoes/...       EXTRA   \n31  2022-07-27  https://www.extra.com.br/acessorios-inovacoes/...       EXTRA   \n32  2022-07-27  https://www.extra.com.br/acessorios-inovacoes/...       EXTRA   \n33  2022-07-27  https://www.extra.com.br/acessorios-inovacoes/...       EXTRA   \n34  2022-07-27  https://www.extra.com.br/acessorios-inovacoes/...       EXTRA   \n35  2022-07-27  https://www.extra.com.br/acessorios-inovacoes/...       EXTRA   \n36  2022-07-27  https://www.extra.com.br/acessorios-inovacoes/...       EXTRA   \n40  2022-07-27  https://www.extra.com.br/acessorios-inovacoes/...       EXTRA   \n41  2022-07-27  https://www.extra.com.br/acessorios-inovacoes/...       EXTRA   \n49  2022-07-27  https://www.extra.com.br/acessorios-inovacoes/...       EXTRA   \n50  2022-07-27  https://www.extra.com.br/acessorios-inovacoes/...       EXTRA   \n51  2022-07-27  https://www.extra.com.br/acessorios-inovacoes/...       EXTRA   \n59  2022-07-27  https://www.extra.com.br/acessorios-inovacoes/...       EXTRA   \n66  2022-07-27  https://www.extra.com.br/acessorios-inovacoes/...       EXTRA   \n67  2022-07-27  https://www.extra.com.br/acessorios-inovacoes/...       EXTRA   \n75  2022-07-27  https://www.extra.com.br/marketplace/ProdutosI...       EXTRA   \n83  2022-07-27  https://www.extra.com.br/marketplace/ProdutosI...       EXTRA   \n84  2022-07-27  https://www.extra.com.br/marketplace/ProdutosI...       EXTRA   \n92  2022-07-27  https://www.extra.com.br/acessorios-inovacoes/...       EXTRA   \n\n    SELLER    PRICE  PARCEL  INSTALLMENT  INSTALLMENT_PAYMENT          ID  \\\n0    44309   449.90       4       112.48               449.92  1513064344   \n1   163343    65.00       2        32.50                65.00  1540254626   \n2   163343    64.00       2        32.00                64.00  1539337467   \n3   163343    66.00       2        33.00                66.00  1539326886   \n4   109444   591.00       6        98.50               591.00  1524956307   \n5   145309   491.93       4       122.98               491.92  1539474886   \n6    33041   503.10       5       100.62               503.10  1538980934   \n7   145309   504.55       5       100.91               504.55  1533128494   \n8   145305   504.60       5       100.92               504.60  1522189079   \n9    12231   369.77       4        92.44               369.76  1501444491   \n10  109444   228.00       3        76.00               228.00  1516634492   \n20   88983   499.90       5        99.98               499.90  1535227307   \n21   44309   649.90       6       108.32               649.92  1513064233   \n22   94202  1049.95       8       131.24              1049.92  1527322097   \n23   80068   824.15       6       137.36               824.16  1535991145   \n24  109444   237.00       3        79.00               237.00  1524055104   \n25   14201   536.03      10        53.60               536.00    13761539   \n26  163343    77.00       2        38.50                77.00  1539249383   \n27  163343    85.00       2        42.50                85.00  1539316846   \n28  163343    83.00       2        41.50                83.00  1539246204   \n29  163343    69.00       2        34.50                69.00  1539243816   \n30  130703  1135.62       8       141.95              1135.60  1532571242   \n31   44309  1009.90       7       144.27              1009.89  1513799660   \n32   44309  1009.90       7       144.27              1009.89  1513799679   \n33   88983  1049.00       8       131.12              1048.96  1535227290   \n34   14201  1128.04       8       141.00              1128.00  1505991422   \n35   35821  1058.94       8       132.37              1058.96  1525201173   \n36  109444   218.00       3        72.67               218.01  1539908025   \n40   44309  1009.90       7       144.27              1009.89  1513799660   \n41   35821  1058.94       8       132.37              1058.96  1525201173   \n49   14201  1128.04       8       141.00              1128.00  1505991422   \n50   44309  1009.90       7       144.27              1009.89  1513799679   \n51  109444   218.00       3        72.67               218.01  1539908025   \n59  109444   218.00       3        72.67               218.01  1539908025   \n66   44309  4299.90      10       429.99              4299.90  1513064254   \n67   88983  4799.00      10       479.90              4799.00  1535227296   \n75  163343    86.00       2        43.00                86.00  1539311063   \n83   44309   999.00       8       124.88               999.04  1537330670   \n84  163343    81.00       2        40.50                81.00  1539239983   \n92   44309  1909.90      10       190.99              1909.90  1513799717   \n\n                                              PRODUCT            Seller_Name  \\\n0     Mesa Digitalizadora One By Wacom Pequena CTL472                 e-spot   \n1   Linha do cabo de alimentação do carregador de ...            NOCNOC ASÍA   \n2   Porta-pega da caixa de silicone da caneta de c...            NOCNOC ASÍA   \n3   Porta-pega da caixa de silicone da caneta de c...            NOCNOC ASÍA   \n4   Wacom One por CTL-472-N Pequeno Tablet caneta ...                Noc Noc   \n5         Mesa Digitalizadora Wacom One Ctl472L Preta            Olist Store   \n6         Mesa Digitalizadora Wacom One Ctl472L Preta          Olist Express   \n7         Mesa Digitalizadora Wacom One Ctl472L Preta            Olist Store   \n8         Mesa Digitalizadora Wacom One Ctl472L Preta                          \n9         Mesa Digitalizadora Wacom One Ctl472L Preta                  Olist   \n10  LTGEM Hard Protective Case for Wacom One by Wa...                Noc Noc   \n20  Mesa Digitalizadora Wacom Intuos Draw Ctl4100 ...       KADRI TECNOLOGIA   \n21   Mesa Digitalizadora Wacom Intuos Pequena CTL4100                 e-spot   \n22      Mesa Digitalizadora Intuos BT CTL4100 - Wacom                          \n23  Mesa Digitalizadora Wacom Intuos Creative 4096...               TENDINFO   \n24  LtGEM Hard Carrying Case para Wacom CTL4100 In...                Noc Noc   \n25  Tablet - 6 x 3,7pol - Wacom Intuos Draw Creati...                          \n26  Cabo de alimentação USB para cabo de carga do ...            NOCNOC ASÍA   \n27  Filme protetor de tela anti-brilho filme mate ...            NOCNOC ASÍA   \n28  Filme protetor de tela anti-brilho filme mate ...            NOCNOC ASÍA   \n29  Filme protetor de tela anti-brilho filme mate ...            NOCNOC ASÍA   \n30  Mesa Digitalizadora Wacom Intuos CTL-4100WL co...   OPERACY PREMIUM LTDA   \n31  Mesa Digitalizadora Wacom Intuos Bluetooth Peq...                 e-spot   \n32  Mesa Digitalizadora Wacom Intuos Bluetooth Peq...                 e-spot   \n33  Mesa Digitalizadora Wacom Bluetooth Pequena In...       KADRI TECNOLOGIA   \n34  Mesa Digitalizadora Wacom Bluetooth Pequena In...                          \n35  Mesa Digitalizadora Wacom Intuos Creative Pequ...                          \n36  Khanka Hard Travel Case Replacement for Wacom ...                Noc Noc   \n40  Mesa Digitalizadora Wacom Intuos Bluetooth Peq...                 e-spot   \n41  Mesa Digitalizadora Wacom Intuos Creative Pequ...                          \n49  Mesa Digitalizadora Wacom Bluetooth Pequena In...                          \n50  Mesa Digitalizadora Wacom Intuos Bluetooth Peq...                 e-spot   \n51  Khanka Hard Travel Case Replacement for Wacom ...                Noc Noc   \n59  Khanka Hard Travel Case Replacement for Wacom ...                Noc Noc   \n66  Display Interativo Wacom One Creative Pen Disp...                 e-spot   \n67  Mesa Digitalizadora Wacom One Creative 13Pol H...       KADRI TECNOLOGIA   \n75  Filme protetor à prova de poeira compatível co...            NOCNOC ASÍA   \n83  Caneta Wacom Ballpoint p/ Intuos Pro (PTH660/8...                 e-spot   \n84  Cabo de alimentação USB Type-C para cabo de ca...            NOCNOC ASÍA   \n92  Mesa Digitalizadora Wacom Intuos Bluetooth Méd...                 e-spot   \n\n   INTERNACIONAL  \n0           None  \n1             []  \n2             []  \n3             []  \n4             []  \n5           None  \n6           None  \n7           None  \n8           ERRO  \n9           None  \n10            []  \n20          None  \n21          None  \n22          ERRO  \n23          None  \n24            []  \n25          ERRO  \n26            []  \n27            []  \n28            []  \n29            []  \n30          None  \n31          None  \n32          None  \n33          None  \n34          ERRO  \n35          ERRO  \n36            []  \n40          None  \n41          ERRO  \n49          ERRO  \n50          None  \n51            []  \n59            []  \n66          None  \n67          None  \n75            []  \n83          None  \n84            []  \n92          None  ",
      "text/html": "<div>\n<style scoped>\n    .dataframe tbody tr th:only-of-type {\n        vertical-align: middle;\n    }\n\n    .dataframe tbody tr th {\n        vertical-align: top;\n    }\n\n    .dataframe thead th {\n        text-align: right;\n    }\n</style>\n<table border=\"1\" class=\"dataframe\">\n  <thead>\n    <tr style=\"text-align: right;\">\n      <th></th>\n      <th>DATE</th>\n      <th>URL</th>\n      <th>MARKETPLACE</th>\n      <th>SELLER</th>\n      <th>PRICE</th>\n      <th>PARCEL</th>\n      <th>INSTALLMENT</th>\n      <th>INSTALLMENT_PAYMENT</th>\n      <th>ID</th>\n      <th>PRODUCT</th>\n      <th>Seller_Name</th>\n      <th>INTERNACIONAL</th>\n    </tr>\n  </thead>\n  <tbody>\n    <tr>\n      <th>0</th>\n      <td>2022-07-27</td>\n      <td>https://www.extra.com.br/acessorios-inovacoes/...</td>\n      <td>EXTRA</td>\n      <td>44309</td>\n      <td>449.90</td>\n      <td>4</td>\n      <td>112.48</td>\n      <td>449.92</td>\n      <td>1513064344</td>\n      <td>Mesa Digitalizadora One By Wacom Pequena CTL472</td>\n      <td>e-spot</td>\n      <td>None</td>\n    </tr>\n    <tr>\n      <th>1</th>\n      <td>2022-07-27</td>\n      <td>https://www.extra.com.br/marketplace/ProdutosI...</td>\n      <td>EXTRA</td>\n      <td>163343</td>\n      <td>65.00</td>\n      <td>2</td>\n      <td>32.50</td>\n      <td>65.00</td>\n      <td>1540254626</td>\n      <td>Linha do cabo de alimentação do carregador de ...</td>\n      <td>NOCNOC ASÍA</td>\n      <td>[]</td>\n    </tr>\n    <tr>\n      <th>2</th>\n      <td>2022-07-27</td>\n      <td>https://www.extra.com.br/marketplace/ProdutosI...</td>\n      <td>EXTRA</td>\n      <td>163343</td>\n      <td>64.00</td>\n      <td>2</td>\n      <td>32.00</td>\n      <td>64.00</td>\n      <td>1539337467</td>\n      <td>Porta-pega da caixa de silicone da caneta de c...</td>\n      <td>NOCNOC ASÍA</td>\n      <td>[]</td>\n    </tr>\n    <tr>\n      <th>3</th>\n      <td>2022-07-27</td>\n      <td>https://www.extra.com.br/marketplace/ProdutosI...</td>\n      <td>EXTRA</td>\n      <td>163343</td>\n      <td>66.00</td>\n      <td>2</td>\n      <td>33.00</td>\n      <td>66.00</td>\n      <td>1539326886</td>\n      <td>Porta-pega da caixa de silicone da caneta de c...</td>\n      <td>NOCNOC ASÍA</td>\n      <td>[]</td>\n    </tr>\n    <tr>\n      <th>4</th>\n      <td>2022-07-27</td>\n      <td>https://www.extra.com.br/marketplace/ProdutosI...</td>\n      <td>EXTRA</td>\n      <td>109444</td>\n      <td>591.00</td>\n      <td>6</td>\n      <td>98.50</td>\n      <td>591.00</td>\n      <td>1524956307</td>\n      <td>Wacom One por CTL-472-N Pequeno Tablet caneta ...</td>\n      <td>Noc Noc</td>\n      <td>[]</td>\n    </tr>\n    <tr>\n      <th>5</th>\n      <td>2022-07-27</td>\n      <td>https://www.extra.com.br/acessorios-inovacoes/...</td>\n      <td>EXTRA</td>\n      <td>145309</td>\n      <td>491.93</td>\n      <td>4</td>\n      <td>122.98</td>\n      <td>491.92</td>\n      <td>1539474886</td>\n      <td>Mesa Digitalizadora Wacom One Ctl472L Preta</td>\n      <td>Olist Store</td>\n      <td>None</td>\n    </tr>\n    <tr>\n      <th>6</th>\n      <td>2022-07-27</td>\n      <td>https://www.extra.com.br/acessorios-inovacoes/...</td>\n      <td>EXTRA</td>\n      <td>33041</td>\n      <td>503.10</td>\n      <td>5</td>\n      <td>100.62</td>\n      <td>503.10</td>\n      <td>1538980934</td>\n      <td>Mesa Digitalizadora Wacom One Ctl472L Preta</td>\n      <td>Olist Express</td>\n      <td>None</td>\n    </tr>\n    <tr>\n      <th>7</th>\n      <td>2022-07-27</td>\n      <td>https://www.extra.com.br/acessorios-inovacoes/...</td>\n      <td>EXTRA</td>\n      <td>145309</td>\n      <td>504.55</td>\n      <td>5</td>\n      <td>100.91</td>\n      <td>504.55</td>\n      <td>1533128494</td>\n      <td>Mesa Digitalizadora Wacom One Ctl472L Preta</td>\n      <td>Olist Store</td>\n      <td>None</td>\n    </tr>\n    <tr>\n      <th>8</th>\n      <td>2022-07-27</td>\n      <td>https://www.extra.com.br/acessorios-inovacoes/...</td>\n      <td>EXTRA</td>\n      <td>145305</td>\n      <td>504.60</td>\n      <td>5</td>\n      <td>100.92</td>\n      <td>504.60</td>\n      <td>1522189079</td>\n      <td>Mesa Digitalizadora Wacom One Ctl472L Preta</td>\n      <td></td>\n      <td>ERRO</td>\n    </tr>\n    <tr>\n      <th>9</th>\n      <td>2022-07-27</td>\n      <td>https://www.extra.com.br/Papelaria/EscritaCorr...</td>\n      <td>EXTRA</td>\n      <td>12231</td>\n      <td>369.77</td>\n      <td>4</td>\n      <td>92.44</td>\n      <td>369.76</td>\n      <td>1501444491</td>\n      <td>Mesa Digitalizadora Wacom One Ctl472L Preta</td>\n      <td>Olist</td>\n      <td>None</td>\n    </tr>\n    <tr>\n      <th>10</th>\n      <td>2022-07-27</td>\n      <td>https://www.extra.com.br/acessorios-inovacoes/...</td>\n      <td>EXTRA</td>\n      <td>109444</td>\n      <td>228.00</td>\n      <td>3</td>\n      <td>76.00</td>\n      <td>228.00</td>\n      <td>1516634492</td>\n      <td>LTGEM Hard Protective Case for Wacom One by Wa...</td>\n      <td>Noc Noc</td>\n      <td>[]</td>\n    </tr>\n    <tr>\n      <th>20</th>\n      <td>2022-07-27</td>\n      <td>https://www.extra.com.br/acessorios-inovacoes/...</td>\n      <td>EXTRA</td>\n      <td>88983</td>\n      <td>499.90</td>\n      <td>5</td>\n      <td>99.98</td>\n      <td>499.90</td>\n      <td>1535227307</td>\n      <td>Mesa Digitalizadora Wacom Intuos Draw Ctl4100 ...</td>\n      <td>KADRI TECNOLOGIA</td>\n      <td>None</td>\n    </tr>\n    <tr>\n      <th>21</th>\n      <td>2022-07-27</td>\n      <td>https://www.extra.com.br/acessorios-inovacoes/...</td>\n      <td>EXTRA</td>\n      <td>44309</td>\n      <td>649.90</td>\n      <td>6</td>\n      <td>108.32</td>\n      <td>649.92</td>\n      <td>1513064233</td>\n      <td>Mesa Digitalizadora Wacom Intuos Pequena CTL4100</td>\n      <td>e-spot</td>\n      <td>None</td>\n    </tr>\n    <tr>\n      <th>22</th>\n      <td>2022-07-27</td>\n      <td>https://www.extra.com.br/acessorios-inovacoes/...</td>\n      <td>EXTRA</td>\n      <td>94202</td>\n      <td>1049.95</td>\n      <td>8</td>\n      <td>131.24</td>\n      <td>1049.92</td>\n      <td>1527322097</td>\n      <td>Mesa Digitalizadora Intuos BT CTL4100 - Wacom</td>\n      <td></td>\n      <td>ERRO</td>\n    </tr>\n    <tr>\n      <th>23</th>\n      <td>2022-07-27</td>\n      <td>https://www.extra.com.br/acessorios-inovacoes/...</td>\n      <td>EXTRA</td>\n      <td>80068</td>\n      <td>824.15</td>\n      <td>6</td>\n      <td>137.36</td>\n      <td>824.16</td>\n      <td>1535991145</td>\n      <td>Mesa Digitalizadora Wacom Intuos Creative 4096...</td>\n      <td>TENDINFO</td>\n      <td>None</td>\n    </tr>\n    <tr>\n      <th>24</th>\n      <td>2022-07-27</td>\n      <td>https://www.extra.com.br/marketplace/ProdutosI...</td>\n      <td>EXTRA</td>\n      <td>109444</td>\n      <td>237.00</td>\n      <td>3</td>\n      <td>79.00</td>\n      <td>237.00</td>\n      <td>1524055104</td>\n      <td>LtGEM Hard Carrying Case para Wacom CTL4100 In...</td>\n      <td>Noc Noc</td>\n      <td>[]</td>\n    </tr>\n    <tr>\n      <th>25</th>\n      <td>2022-07-27</td>\n      <td>https://www.extra.com.br/Tablets/Tablet/Tablet...</td>\n      <td>EXTRA</td>\n      <td>14201</td>\n      <td>536.03</td>\n      <td>10</td>\n      <td>53.60</td>\n      <td>536.00</td>\n      <td>13761539</td>\n      <td>Tablet - 6 x 3,7pol - Wacom Intuos Draw Creati...</td>\n      <td></td>\n      <td>ERRO</td>\n    </tr>\n    <tr>\n      <th>26</th>\n      <td>2022-07-27</td>\n      <td>https://www.extra.com.br/marketplace/ProdutosI...</td>\n      <td>EXTRA</td>\n      <td>163343</td>\n      <td>77.00</td>\n      <td>2</td>\n      <td>38.50</td>\n      <td>77.00</td>\n      <td>1539249383</td>\n      <td>Cabo de alimentação USB para cabo de carga do ...</td>\n      <td>NOCNOC ASÍA</td>\n      <td>[]</td>\n    </tr>\n    <tr>\n      <th>27</th>\n      <td>2022-07-27</td>\n      <td>https://www.extra.com.br/marketplace/ProdutosI...</td>\n      <td>EXTRA</td>\n      <td>163343</td>\n      <td>85.00</td>\n      <td>2</td>\n      <td>42.50</td>\n      <td>85.00</td>\n      <td>1539316846</td>\n      <td>Filme protetor de tela anti-brilho filme mate ...</td>\n      <td>NOCNOC ASÍA</td>\n      <td>[]</td>\n    </tr>\n    <tr>\n      <th>28</th>\n      <td>2022-07-27</td>\n      <td>https://www.extra.com.br/marketplace/ProdutosI...</td>\n      <td>EXTRA</td>\n      <td>163343</td>\n      <td>83.00</td>\n      <td>2</td>\n      <td>41.50</td>\n      <td>83.00</td>\n      <td>1539246204</td>\n      <td>Filme protetor de tela anti-brilho filme mate ...</td>\n      <td>NOCNOC ASÍA</td>\n      <td>[]</td>\n    </tr>\n    <tr>\n      <th>29</th>\n      <td>2022-07-27</td>\n      <td>https://www.extra.com.br/marketplace/ProdutosI...</td>\n      <td>EXTRA</td>\n      <td>163343</td>\n      <td>69.00</td>\n      <td>2</td>\n      <td>34.50</td>\n      <td>69.00</td>\n      <td>1539243816</td>\n      <td>Filme protetor de tela anti-brilho filme mate ...</td>\n      <td>NOCNOC ASÍA</td>\n      <td>[]</td>\n    </tr>\n    <tr>\n      <th>30</th>\n      <td>2022-07-27</td>\n      <td>https://www.extra.com.br/acessorios-inovacoes/...</td>\n      <td>EXTRA</td>\n      <td>130703</td>\n      <td>1135.62</td>\n      <td>8</td>\n      <td>141.95</td>\n      <td>1135.60</td>\n      <td>1532571242</td>\n      <td>Mesa Digitalizadora Wacom Intuos CTL-4100WL co...</td>\n      <td>OPERACY PREMIUM LTDA</td>\n      <td>None</td>\n    </tr>\n    <tr>\n      <th>31</th>\n      <td>2022-07-27</td>\n      <td>https://www.extra.com.br/acessorios-inovacoes/...</td>\n      <td>EXTRA</td>\n      <td>44309</td>\n      <td>1009.90</td>\n      <td>7</td>\n      <td>144.27</td>\n      <td>1009.89</td>\n      <td>1513799660</td>\n      <td>Mesa Digitalizadora Wacom Intuos Bluetooth Peq...</td>\n      <td>e-spot</td>\n      <td>None</td>\n    </tr>\n    <tr>\n      <th>32</th>\n      <td>2022-07-27</td>\n      <td>https://www.extra.com.br/acessorios-inovacoes/...</td>\n      <td>EXTRA</td>\n      <td>44309</td>\n      <td>1009.90</td>\n      <td>7</td>\n      <td>144.27</td>\n      <td>1009.89</td>\n      <td>1513799679</td>\n      <td>Mesa Digitalizadora Wacom Intuos Bluetooth Peq...</td>\n      <td>e-spot</td>\n      <td>None</td>\n    </tr>\n    <tr>\n      <th>33</th>\n      <td>2022-07-27</td>\n      <td>https://www.extra.com.br/acessorios-inovacoes/...</td>\n      <td>EXTRA</td>\n      <td>88983</td>\n      <td>1049.00</td>\n      <td>8</td>\n      <td>131.12</td>\n      <td>1048.96</td>\n      <td>1535227290</td>\n      <td>Mesa Digitalizadora Wacom Bluetooth Pequena In...</td>\n      <td>KADRI TECNOLOGIA</td>\n      <td>None</td>\n    </tr>\n    <tr>\n      <th>34</th>\n      <td>2022-07-27</td>\n      <td>https://www.extra.com.br/acessorios-inovacoes/...</td>\n      <td>EXTRA</td>\n      <td>14201</td>\n      <td>1128.04</td>\n      <td>8</td>\n      <td>141.00</td>\n      <td>1128.00</td>\n      <td>1505991422</td>\n      <td>Mesa Digitalizadora Wacom Bluetooth Pequena In...</td>\n      <td></td>\n      <td>ERRO</td>\n    </tr>\n    <tr>\n      <th>35</th>\n      <td>2022-07-27</td>\n      <td>https://www.extra.com.br/acessorios-inovacoes/...</td>\n      <td>EXTRA</td>\n      <td>35821</td>\n      <td>1058.94</td>\n      <td>8</td>\n      <td>132.37</td>\n      <td>1058.96</td>\n      <td>1525201173</td>\n      <td>Mesa Digitalizadora Wacom Intuos Creative Pequ...</td>\n      <td></td>\n      <td>ERRO</td>\n    </tr>\n    <tr>\n      <th>36</th>\n      <td>2022-07-27</td>\n      <td>https://www.extra.com.br/acessorios-inovacoes/...</td>\n      <td>EXTRA</td>\n      <td>109444</td>\n      <td>218.00</td>\n      <td>3</td>\n      <td>72.67</td>\n      <td>218.01</td>\n      <td>1539908025</td>\n      <td>Khanka Hard Travel Case Replacement for Wacom ...</td>\n      <td>Noc Noc</td>\n      <td>[]</td>\n    </tr>\n    <tr>\n      <th>40</th>\n      <td>2022-07-27</td>\n      <td>https://www.extra.com.br/acessorios-inovacoes/...</td>\n      <td>EXTRA</td>\n      <td>44309</td>\n      <td>1009.90</td>\n      <td>7</td>\n      <td>144.27</td>\n      <td>1009.89</td>\n      <td>1513799660</td>\n      <td>Mesa Digitalizadora Wacom Intuos Bluetooth Peq...</td>\n      <td>e-spot</td>\n      <td>None</td>\n    </tr>\n    <tr>\n      <th>41</th>\n      <td>2022-07-27</td>\n      <td>https://www.extra.com.br/acessorios-inovacoes/...</td>\n      <td>EXTRA</td>\n      <td>35821</td>\n      <td>1058.94</td>\n      <td>8</td>\n      <td>132.37</td>\n      <td>1058.96</td>\n      <td>1525201173</td>\n      <td>Mesa Digitalizadora Wacom Intuos Creative Pequ...</td>\n      <td></td>\n      <td>ERRO</td>\n    </tr>\n    <tr>\n      <th>49</th>\n      <td>2022-07-27</td>\n      <td>https://www.extra.com.br/acessorios-inovacoes/...</td>\n      <td>EXTRA</td>\n      <td>14201</td>\n      <td>1128.04</td>\n      <td>8</td>\n      <td>141.00</td>\n      <td>1128.00</td>\n      <td>1505991422</td>\n      <td>Mesa Digitalizadora Wacom Bluetooth Pequena In...</td>\n      <td></td>\n      <td>ERRO</td>\n    </tr>\n    <tr>\n      <th>50</th>\n      <td>2022-07-27</td>\n      <td>https://www.extra.com.br/acessorios-inovacoes/...</td>\n      <td>EXTRA</td>\n      <td>44309</td>\n      <td>1009.90</td>\n      <td>7</td>\n      <td>144.27</td>\n      <td>1009.89</td>\n      <td>1513799679</td>\n      <td>Mesa Digitalizadora Wacom Intuos Bluetooth Peq...</td>\n      <td>e-spot</td>\n      <td>None</td>\n    </tr>\n    <tr>\n      <th>51</th>\n      <td>2022-07-27</td>\n      <td>https://www.extra.com.br/acessorios-inovacoes/...</td>\n      <td>EXTRA</td>\n      <td>109444</td>\n      <td>218.00</td>\n      <td>3</td>\n      <td>72.67</td>\n      <td>218.01</td>\n      <td>1539908025</td>\n      <td>Khanka Hard Travel Case Replacement for Wacom ...</td>\n      <td>Noc Noc</td>\n      <td>[]</td>\n    </tr>\n    <tr>\n      <th>59</th>\n      <td>2022-07-27</td>\n      <td>https://www.extra.com.br/acessorios-inovacoes/...</td>\n      <td>EXTRA</td>\n      <td>109444</td>\n      <td>218.00</td>\n      <td>3</td>\n      <td>72.67</td>\n      <td>218.01</td>\n      <td>1539908025</td>\n      <td>Khanka Hard Travel Case Replacement for Wacom ...</td>\n      <td>Noc Noc</td>\n      <td>[]</td>\n    </tr>\n    <tr>\n      <th>66</th>\n      <td>2022-07-27</td>\n      <td>https://www.extra.com.br/acessorios-inovacoes/...</td>\n      <td>EXTRA</td>\n      <td>44309</td>\n      <td>4299.90</td>\n      <td>10</td>\n      <td>429.99</td>\n      <td>4299.90</td>\n      <td>1513064254</td>\n      <td>Display Interativo Wacom One Creative Pen Disp...</td>\n      <td>e-spot</td>\n      <td>None</td>\n    </tr>\n    <tr>\n      <th>67</th>\n      <td>2022-07-27</td>\n      <td>https://www.extra.com.br/acessorios-inovacoes/...</td>\n      <td>EXTRA</td>\n      <td>88983</td>\n      <td>4799.00</td>\n      <td>10</td>\n      <td>479.90</td>\n      <td>4799.00</td>\n      <td>1535227296</td>\n      <td>Mesa Digitalizadora Wacom One Creative 13Pol H...</td>\n      <td>KADRI TECNOLOGIA</td>\n      <td>None</td>\n    </tr>\n    <tr>\n      <th>75</th>\n      <td>2022-07-27</td>\n      <td>https://www.extra.com.br/marketplace/ProdutosI...</td>\n      <td>EXTRA</td>\n      <td>163343</td>\n      <td>86.00</td>\n      <td>2</td>\n      <td>43.00</td>\n      <td>86.00</td>\n      <td>1539311063</td>\n      <td>Filme protetor à prova de poeira compatível co...</td>\n      <td>NOCNOC ASÍA</td>\n      <td>[]</td>\n    </tr>\n    <tr>\n      <th>83</th>\n      <td>2022-07-27</td>\n      <td>https://www.extra.com.br/marketplace/ProdutosI...</td>\n      <td>EXTRA</td>\n      <td>44309</td>\n      <td>999.00</td>\n      <td>8</td>\n      <td>124.88</td>\n      <td>999.04</td>\n      <td>1537330670</td>\n      <td>Caneta Wacom Ballpoint p/ Intuos Pro (PTH660/8...</td>\n      <td>e-spot</td>\n      <td>None</td>\n    </tr>\n    <tr>\n      <th>84</th>\n      <td>2022-07-27</td>\n      <td>https://www.extra.com.br/marketplace/ProdutosI...</td>\n      <td>EXTRA</td>\n      <td>163343</td>\n      <td>81.00</td>\n      <td>2</td>\n      <td>40.50</td>\n      <td>81.00</td>\n      <td>1539239983</td>\n      <td>Cabo de alimentação USB Type-C para cabo de ca...</td>\n      <td>NOCNOC ASÍA</td>\n      <td>[]</td>\n    </tr>\n    <tr>\n      <th>92</th>\n      <td>2022-07-27</td>\n      <td>https://www.extra.com.br/acessorios-inovacoes/...</td>\n      <td>EXTRA</td>\n      <td>44309</td>\n      <td>1909.90</td>\n      <td>10</td>\n      <td>190.99</td>\n      <td>1909.90</td>\n      <td>1513799717</td>\n      <td>Mesa Digitalizadora Wacom Intuos Bluetooth Méd...</td>\n      <td>e-spot</td>\n      <td>None</td>\n    </tr>\n  </tbody>\n</table>\n</div>"
     },
     "execution_count": 27,
     "metadata": {},
     "output_type": "execute_result"
    }
   ],
   "source": [
    "dataset_viavarejo['Seller_Name'] = sellers_name_correct\n",
    "dataset_viavarejo['INTERNACIONAL'] = internacional_name_correct\n",
    "dataset_viavarejo"
   ],
   "metadata": {
    "collapsed": false,
    "pycharm": {
     "name": "#%%\n"
    }
   }
  },
  {
   "cell_type": "code",
   "execution_count": 20,
   "outputs": [
    {
     "data": {
      "text/plain": "          DATE                                                URL MARKETPLACE  \\\n5   2022-06-17  https://www.extra.com.br/acessorios-inovacoes/...       EXTRA   \n9   2022-06-17  https://www.extra.com.br/marketplace/ProdutosI...       EXTRA   \n10  2022-06-17  https://www.extra.com.br/acessorios-inovacoes/...       EXTRA   \n17  2022-06-17  https://www.extra.com.br/acessorios-inovacoes/...       EXTRA   \n24  2022-06-17  https://www.extra.com.br/acessorios-inovacoes/...       EXTRA   \n28  2022-06-17  https://www.extra.com.br/acessorios-inovacoes/...       EXTRA   \n38  2022-06-17  https://www.extra.com.br/Tablets/Tablet/Tablet...       EXTRA   \n41  2022-06-17  https://www.extra.com.br/acessorios-inovacoes/...       EXTRA   \n43  2022-06-17  https://www.extra.com.br/acessorios-inovacoes/...       EXTRA   \n51  2022-06-17  https://www.extra.com.br/acessorios-inovacoes/...       EXTRA   \n52  2022-06-17  https://www.extra.com.br/acessorios-inovacoes/...       EXTRA   \n57  2022-06-17  https://www.extra.com.br/acessorios-inovacoes/...       EXTRA   \n62  2022-06-17  https://www.extra.com.br/acessorios-inovacoes/...       EXTRA   \n64  2022-06-17  https://www.extra.com.br/acessorios-inovacoes/...       EXTRA   \n65  2022-06-17  https://www.extra.com.br/acessorios-inovacoes/...       EXTRA   \n75  2022-06-17  https://www.extra.com.br/acessorios-inovacoes/...       EXTRA   \n78  2022-06-17  https://www.extra.com.br/acessorios-inovacoes/...       EXTRA   \n80  2022-06-17  https://www.extra.com.br/marketplace/ProdutosI...       EXTRA   \n81  2022-06-17  https://www.extra.com.br/cabo-de-alimentacao-u...       EXTRA   \n88  2022-06-17  https://www.extra.com.br/acessorios-inovacoes/...       EXTRA   \n\n    SELLER    PRICE  PARCEL  INSTALLMENT  INSTALLMENT_PAYMENT          ID  \\\n5    44309   449.90       4       112.48               449.92  1513064344   \n9    44309   299.00       3        99.67               299.01  1537888802   \n10   14201   326.73       3       108.91               326.73    13390832   \n17  139420   228.00       3        76.00               228.00  1534260664   \n24   88983   669.00       6       111.50               669.00  1535227307   \n28   44309   649.90       6       108.32               649.92  1513064233   \n38   14201   536.03      10        53.60               536.00    13761539   \n41   44309  1009.90       7       144.27              1009.89  1513799660   \n43   35821   952.94       7       136.13               952.91  1525201173   \n51   44309  1009.90       7       144.27              1009.89  1513799679   \n52   14201   931.38       7       133.05               931.35    14486869   \n57   14201  1745.34      10       174.53              1745.30    14432519   \n62   44309  1849.90      10       184.99              1849.90  1513799640   \n64   44309  4299.90      10       429.99              4299.90  1513064254   \n65   88983  4799.00      10       479.90              4799.00  1535227296   \n75   44309  2099.90      10       209.99              2099.90  1513064241   \n78   44309  7399.90      10       739.99              7399.90  1513064246   \n80   44309   999.00       8       124.88               999.04  1537330670   \n81  163343    75.00       2        37.50                75.00               \n88   44309  1909.90      10       190.99              1909.90  1513799717   \n\n                                              PRODUCT        Seller_Name  \\\n5     Mesa Digitalizadora One By Wacom Pequena CTL472             e-spot   \n9   Caneta Wacom Intuos Pen LP-190K para CTL472, C...             e-spot   \n10  Tablet - 152 x 95mm - Mesa digitalizadora One ...   Oficina dos Bits   \n17  REEMBALADO: Mesa Digitalizadora One by Wacom P...             EPREÇO   \n24  Mesa Digitalizadora Wacom Intuos Draw Ctl4100 ...   KADRI TECNOLOGIA   \n28   Mesa Digitalizadora Wacom Intuos Pequena CTL4100             e-spot   \n38  Tablet - 6 x 3,7pol - Wacom Intuos Draw Creati...   Oficina dos Bits   \n41  Mesa Digitalizadora Wacom Intuos Bluetooth Peq...             e-spot   \n43  Mesa Digitalizadora Wacom Intuos Creative Pequ...     IPLACE Oficial   \n51  Mesa Digitalizadora Wacom Intuos Bluetooth Peq...             e-spot   \n52  Mesa Digitalizadora Wacom Intuos Creative - Pe...   Oficina dos Bits   \n57  Mesa Digitalizadora Wacom Intuos Creative - Mé...   Oficina dos Bits   \n62  Mesa Digitalizadora Wacom Intuos Bluetooth Med...             e-spot   \n64  Display Interativo Wacom One Creative Pen Disp...             e-spot   \n65  Mesa Digitalizadora Wacom One Creative 13Pol H...   KADRI TECNOLOGIA   \n75  Mesa digitalizadora Wacom Intuos Pro Pequena P...             e-spot   \n78  Display interativo Wacom Cintiq 16 Pen DTK1660...             e-spot   \n80  Caneta Wacom Ballpoint p/ Intuos Pro (PTH660/8...             e-spot   \n81  Cabo de alimentação USB Type-C para cabo de ca...        NOCNOC ASÍA   \n88  Mesa Digitalizadora Wacom Intuos Bluetooth Méd...             e-spot   \n\n   INTERNACIONAL  \n5       NACIONAL  \n9       NACIONAL  \n10      NACIONAL  \n17      NACIONAL  \n24      NACIONAL  \n28      NACIONAL  \n38      NACIONAL  \n41      NACIONAL  \n43      NACIONAL  \n51      NACIONAL  \n52      NACIONAL  \n57      NACIONAL  \n62      NACIONAL  \n64      NACIONAL  \n65      NACIONAL  \n75      NACIONAL  \n78      NACIONAL  \n80      NACIONAL  \n81      NACIONAL  \n88      NACIONAL  ",
      "text/html": "<div>\n<style scoped>\n    .dataframe tbody tr th:only-of-type {\n        vertical-align: middle;\n    }\n\n    .dataframe tbody tr th {\n        vertical-align: top;\n    }\n\n    .dataframe thead th {\n        text-align: right;\n    }\n</style>\n<table border=\"1\" class=\"dataframe\">\n  <thead>\n    <tr style=\"text-align: right;\">\n      <th></th>\n      <th>DATE</th>\n      <th>URL</th>\n      <th>MARKETPLACE</th>\n      <th>SELLER</th>\n      <th>PRICE</th>\n      <th>PARCEL</th>\n      <th>INSTALLMENT</th>\n      <th>INSTALLMENT_PAYMENT</th>\n      <th>ID</th>\n      <th>PRODUCT</th>\n      <th>Seller_Name</th>\n      <th>INTERNACIONAL</th>\n    </tr>\n  </thead>\n  <tbody>\n    <tr>\n      <th>5</th>\n      <td>2022-06-17</td>\n      <td>https://www.extra.com.br/acessorios-inovacoes/...</td>\n      <td>EXTRA</td>\n      <td>44309</td>\n      <td>449.90</td>\n      <td>4</td>\n      <td>112.48</td>\n      <td>449.92</td>\n      <td>1513064344</td>\n      <td>Mesa Digitalizadora One By Wacom Pequena CTL472</td>\n      <td>e-spot</td>\n      <td>NACIONAL</td>\n    </tr>\n    <tr>\n      <th>9</th>\n      <td>2022-06-17</td>\n      <td>https://www.extra.com.br/marketplace/ProdutosI...</td>\n      <td>EXTRA</td>\n      <td>44309</td>\n      <td>299.00</td>\n      <td>3</td>\n      <td>99.67</td>\n      <td>299.01</td>\n      <td>1537888802</td>\n      <td>Caneta Wacom Intuos Pen LP-190K para CTL472, C...</td>\n      <td>e-spot</td>\n      <td>NACIONAL</td>\n    </tr>\n    <tr>\n      <th>10</th>\n      <td>2022-06-17</td>\n      <td>https://www.extra.com.br/acessorios-inovacoes/...</td>\n      <td>EXTRA</td>\n      <td>14201</td>\n      <td>326.73</td>\n      <td>3</td>\n      <td>108.91</td>\n      <td>326.73</td>\n      <td>13390832</td>\n      <td>Tablet - 152 x 95mm - Mesa digitalizadora One ...</td>\n      <td>Oficina dos Bits</td>\n      <td>NACIONAL</td>\n    </tr>\n    <tr>\n      <th>17</th>\n      <td>2022-06-17</td>\n      <td>https://www.extra.com.br/acessorios-inovacoes/...</td>\n      <td>EXTRA</td>\n      <td>139420</td>\n      <td>228.00</td>\n      <td>3</td>\n      <td>76.00</td>\n      <td>228.00</td>\n      <td>1534260664</td>\n      <td>REEMBALADO: Mesa Digitalizadora One by Wacom P...</td>\n      <td>EPREÇO</td>\n      <td>NACIONAL</td>\n    </tr>\n    <tr>\n      <th>24</th>\n      <td>2022-06-17</td>\n      <td>https://www.extra.com.br/acessorios-inovacoes/...</td>\n      <td>EXTRA</td>\n      <td>88983</td>\n      <td>669.00</td>\n      <td>6</td>\n      <td>111.50</td>\n      <td>669.00</td>\n      <td>1535227307</td>\n      <td>Mesa Digitalizadora Wacom Intuos Draw Ctl4100 ...</td>\n      <td>KADRI TECNOLOGIA</td>\n      <td>NACIONAL</td>\n    </tr>\n    <tr>\n      <th>28</th>\n      <td>2022-06-17</td>\n      <td>https://www.extra.com.br/acessorios-inovacoes/...</td>\n      <td>EXTRA</td>\n      <td>44309</td>\n      <td>649.90</td>\n      <td>6</td>\n      <td>108.32</td>\n      <td>649.92</td>\n      <td>1513064233</td>\n      <td>Mesa Digitalizadora Wacom Intuos Pequena CTL4100</td>\n      <td>e-spot</td>\n      <td>NACIONAL</td>\n    </tr>\n    <tr>\n      <th>38</th>\n      <td>2022-06-17</td>\n      <td>https://www.extra.com.br/Tablets/Tablet/Tablet...</td>\n      <td>EXTRA</td>\n      <td>14201</td>\n      <td>536.03</td>\n      <td>10</td>\n      <td>53.60</td>\n      <td>536.00</td>\n      <td>13761539</td>\n      <td>Tablet - 6 x 3,7pol - Wacom Intuos Draw Creati...</td>\n      <td>Oficina dos Bits</td>\n      <td>NACIONAL</td>\n    </tr>\n    <tr>\n      <th>41</th>\n      <td>2022-06-17</td>\n      <td>https://www.extra.com.br/acessorios-inovacoes/...</td>\n      <td>EXTRA</td>\n      <td>44309</td>\n      <td>1009.90</td>\n      <td>7</td>\n      <td>144.27</td>\n      <td>1009.89</td>\n      <td>1513799660</td>\n      <td>Mesa Digitalizadora Wacom Intuos Bluetooth Peq...</td>\n      <td>e-spot</td>\n      <td>NACIONAL</td>\n    </tr>\n    <tr>\n      <th>43</th>\n      <td>2022-06-17</td>\n      <td>https://www.extra.com.br/acessorios-inovacoes/...</td>\n      <td>EXTRA</td>\n      <td>35821</td>\n      <td>952.94</td>\n      <td>7</td>\n      <td>136.13</td>\n      <td>952.91</td>\n      <td>1525201173</td>\n      <td>Mesa Digitalizadora Wacom Intuos Creative Pequ...</td>\n      <td>IPLACE Oficial</td>\n      <td>NACIONAL</td>\n    </tr>\n    <tr>\n      <th>51</th>\n      <td>2022-06-17</td>\n      <td>https://www.extra.com.br/acessorios-inovacoes/...</td>\n      <td>EXTRA</td>\n      <td>44309</td>\n      <td>1009.90</td>\n      <td>7</td>\n      <td>144.27</td>\n      <td>1009.89</td>\n      <td>1513799679</td>\n      <td>Mesa Digitalizadora Wacom Intuos Bluetooth Peq...</td>\n      <td>e-spot</td>\n      <td>NACIONAL</td>\n    </tr>\n    <tr>\n      <th>52</th>\n      <td>2022-06-17</td>\n      <td>https://www.extra.com.br/acessorios-inovacoes/...</td>\n      <td>EXTRA</td>\n      <td>14201</td>\n      <td>931.38</td>\n      <td>7</td>\n      <td>133.05</td>\n      <td>931.35</td>\n      <td>14486869</td>\n      <td>Mesa Digitalizadora Wacom Intuos Creative - Pe...</td>\n      <td>Oficina dos Bits</td>\n      <td>NACIONAL</td>\n    </tr>\n    <tr>\n      <th>57</th>\n      <td>2022-06-17</td>\n      <td>https://www.extra.com.br/acessorios-inovacoes/...</td>\n      <td>EXTRA</td>\n      <td>14201</td>\n      <td>1745.34</td>\n      <td>10</td>\n      <td>174.53</td>\n      <td>1745.30</td>\n      <td>14432519</td>\n      <td>Mesa Digitalizadora Wacom Intuos Creative - Mé...</td>\n      <td>Oficina dos Bits</td>\n      <td>NACIONAL</td>\n    </tr>\n    <tr>\n      <th>62</th>\n      <td>2022-06-17</td>\n      <td>https://www.extra.com.br/acessorios-inovacoes/...</td>\n      <td>EXTRA</td>\n      <td>44309</td>\n      <td>1849.90</td>\n      <td>10</td>\n      <td>184.99</td>\n      <td>1849.90</td>\n      <td>1513799640</td>\n      <td>Mesa Digitalizadora Wacom Intuos Bluetooth Med...</td>\n      <td>e-spot</td>\n      <td>NACIONAL</td>\n    </tr>\n    <tr>\n      <th>64</th>\n      <td>2022-06-17</td>\n      <td>https://www.extra.com.br/acessorios-inovacoes/...</td>\n      <td>EXTRA</td>\n      <td>44309</td>\n      <td>4299.90</td>\n      <td>10</td>\n      <td>429.99</td>\n      <td>4299.90</td>\n      <td>1513064254</td>\n      <td>Display Interativo Wacom One Creative Pen Disp...</td>\n      <td>e-spot</td>\n      <td>NACIONAL</td>\n    </tr>\n    <tr>\n      <th>65</th>\n      <td>2022-06-17</td>\n      <td>https://www.extra.com.br/acessorios-inovacoes/...</td>\n      <td>EXTRA</td>\n      <td>88983</td>\n      <td>4799.00</td>\n      <td>10</td>\n      <td>479.90</td>\n      <td>4799.00</td>\n      <td>1535227296</td>\n      <td>Mesa Digitalizadora Wacom One Creative 13Pol H...</td>\n      <td>KADRI TECNOLOGIA</td>\n      <td>NACIONAL</td>\n    </tr>\n    <tr>\n      <th>75</th>\n      <td>2022-06-17</td>\n      <td>https://www.extra.com.br/acessorios-inovacoes/...</td>\n      <td>EXTRA</td>\n      <td>44309</td>\n      <td>2099.90</td>\n      <td>10</td>\n      <td>209.99</td>\n      <td>2099.90</td>\n      <td>1513064241</td>\n      <td>Mesa digitalizadora Wacom Intuos Pro Pequena P...</td>\n      <td>e-spot</td>\n      <td>NACIONAL</td>\n    </tr>\n    <tr>\n      <th>78</th>\n      <td>2022-06-17</td>\n      <td>https://www.extra.com.br/acessorios-inovacoes/...</td>\n      <td>EXTRA</td>\n      <td>44309</td>\n      <td>7399.90</td>\n      <td>10</td>\n      <td>739.99</td>\n      <td>7399.90</td>\n      <td>1513064246</td>\n      <td>Display interativo Wacom Cintiq 16 Pen DTK1660...</td>\n      <td>e-spot</td>\n      <td>NACIONAL</td>\n    </tr>\n    <tr>\n      <th>80</th>\n      <td>2022-06-17</td>\n      <td>https://www.extra.com.br/marketplace/ProdutosI...</td>\n      <td>EXTRA</td>\n      <td>44309</td>\n      <td>999.00</td>\n      <td>8</td>\n      <td>124.88</td>\n      <td>999.04</td>\n      <td>1537330670</td>\n      <td>Caneta Wacom Ballpoint p/ Intuos Pro (PTH660/8...</td>\n      <td>e-spot</td>\n      <td>NACIONAL</td>\n    </tr>\n    <tr>\n      <th>81</th>\n      <td>2022-06-17</td>\n      <td>https://www.extra.com.br/cabo-de-alimentacao-u...</td>\n      <td>EXTRA</td>\n      <td>163343</td>\n      <td>75.00</td>\n      <td>2</td>\n      <td>37.50</td>\n      <td>75.00</td>\n      <td></td>\n      <td>Cabo de alimentação USB Type-C para cabo de ca...</td>\n      <td>NOCNOC ASÍA</td>\n      <td>NACIONAL</td>\n    </tr>\n    <tr>\n      <th>88</th>\n      <td>2022-06-17</td>\n      <td>https://www.extra.com.br/acessorios-inovacoes/...</td>\n      <td>EXTRA</td>\n      <td>44309</td>\n      <td>1909.90</td>\n      <td>10</td>\n      <td>190.99</td>\n      <td>1909.90</td>\n      <td>1513799717</td>\n      <td>Mesa Digitalizadora Wacom Intuos Bluetooth Méd...</td>\n      <td>e-spot</td>\n      <td>NACIONAL</td>\n    </tr>\n  </tbody>\n</table>\n</div>"
     },
     "execution_count": 20,
     "metadata": {},
     "output_type": "execute_result"
    }
   ],
   "source": [
    "dataset_viavarejo = dataset_viavarejo[dataset_viavarejo['SELLER'] != 'E']\n",
    "\n",
    "dataset_viavarejo.loc[dataset_viavarejo['INTERNACIONAL'].str.contains(\"Importados\"), 'INTERNACIONAL'] = 'INTERNACIONAL'\n",
    "dataset_viavarejo.loc[dataset_viavarejo['INTERNACIONAL'].str.contains(\"Usados\"), 'INTERNACIONAL'] = 'ERRO'\n",
    "\n",
    "dataset_viavarejo = dataset_viavarejo[dataset_viavarejo['INTERNACIONAL'] != 'ERRO']\n",
    "\n",
    "dataset_viavarejo['Seller_Name'] = dataset_viavarejo['Seller_Name'].str[0:]\n",
    "\n",
    "dataset_viavarejo"
   ],
   "metadata": {
    "collapsed": false,
    "pycharm": {
     "name": "#%%\n"
    }
   }
  },
  {
   "cell_type": "code",
   "execution_count": 34,
   "outputs": [
    {
     "data": {
      "text/plain": "DATE                    object\nURL                     object\nMARKETPLACE             object\nSELLER                  object\nPRICE                  float64\nPARCEL                   int64\nINSTALLMENT            float64\nINSTALLMENT_PAYMENT    float64\nID                      object\nPRODUCT                 object\nSeller_Name             object\nINTERNACIONAL           object\ndtype: object"
     },
     "execution_count": 34,
     "metadata": {},
     "output_type": "execute_result"
    }
   ],
   "source": [
    "dataset_viavarejo.dtypes BRDF Informatica"
   ],
   "metadata": {
    "collapsed": false,
    "pycharm": {
     "name": "#%%\n"
    }
   }
  },
  {
   "cell_type": "code",
   "execution_count": 105,
   "outputs": [
    {
     "name": "stderr",
     "output_type": "stream",
     "text": [
      "C:\\Users\\pedro\\AppData\\Local\\Temp\\ipykernel_6644\\4100146394.py:1: DeprecationWarning: executable_path has been deprecated, please pass in a Service object\n",
      "  driver = webdriver.Chrome(r\"C:\\Users\\pedro\\Documents\\Turte Brand Protection\\Turtle_Thinker_Alpha_0.1\\Data\\Selenium\\Selenium_101\", options=options)\n"
     ]
    }
   ],
   "source": [
    "driver = webdriver.Chrome(r\"C:\\Users\\pedro\\Documents\\Turte Brand Protection\\Turtle_Thinker_Alpha_0.1\\Data\\Selenium\\Selenium_101\", options=options)\n",
    "driver.get('https://www.extra.com.br/Tablets/Tablet/TabletAndroid/wacom-ctl472k1a-um-por-wacom-graphic-drawing-tablet-tablet-para-iniciantes-pequeno-1515626407.html?IdSku=1515626407')\n",
    "time.sleep(10)\n",
    "\n",
    "html_str = driver.page_source\n",
    "\n",
    "Soup = BeautifulSoup(html_str, 'html.parser')"
   ],
   "metadata": {
    "collapsed": false,
    "pycharm": {
     "name": "#%%\n"
    }
   }
  },
  {
   "cell_type": "code",
   "execution_count": 106,
   "outputs": [
    {
     "name": "stdout",
     "output_type": "stream",
     "text": [
      "None\n"
     ]
    }
   ],
   "source": [
    "print(Soup.find(class_='eq9v2q60 css-1fo2kvz eym5xli0'))"
   ],
   "metadata": {
    "collapsed": false,
    "pycharm": {
     "name": "#%%\n"
    }
   }
  },
  {
   "cell_type": "code",
   "execution_count": 108,
   "outputs": [
    {
     "data": {
      "text/plain": "'AC - Selo Produtos Importados NocNoc'"
     },
     "execution_count": 108,
     "metadata": {},
     "output_type": "execute_result"
    }
   ],
   "source": [
    "Soup.find('img', attrs={'data-testid':'stamps'})['alt']"
   ],
   "metadata": {
    "collapsed": false,
    "pycharm": {
     "name": "#%%\n"
    }
   }
  },
  {
   "cell_type": "code",
   "execution_count": 21,
   "outputs": [],
   "source": [
    "dataset_viavarejo.to_excel(r\"C:\\Users\\pedro\\Documents\\Turte Brand Protection\\Via_Varejo_Excel.xlsx\", index=False)"
   ],
   "metadata": {
    "collapsed": false,
    "pycharm": {
     "name": "#%%\n"
    }
   }
  },
  {
   "cell_type": "code",
   "execution_count": null,
   "outputs": [],
   "source": [],
   "metadata": {
    "collapsed": false,
    "pycharm": {
     "name": "#%%\n"
    }
   }
  }
 ],
 "metadata": {
  "kernelspec": {
   "display_name": "Python 3",
   "language": "python",
   "name": "python3"
  },
  "language_info": {
   "codemirror_mode": {
    "name": "ipython",
    "version": 2
   },
   "file_extension": ".py",
   "mimetype": "text/x-python",
   "name": "python",
   "nbconvert_exporter": "python",
   "pygments_lexer": "ipython2",
   "version": "2.7.6"
  }
 },
 "nbformat": 4,
 "nbformat_minor": 0
}