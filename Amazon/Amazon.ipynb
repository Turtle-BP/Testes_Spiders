{
 "cells": [
  {
   "cell_type": "code",
   "execution_count": 42,
   "metadata": {
    "pycharm": {
     "name": "#%%\n"
    }
   },
   "outputs": [],
   "source": [
    "#Importando as bibliotecas\n",
    "import pandas as pd\n",
    "import time\n",
    "from selenium import webdriver\n",
    "from selenium.webdriver.chrome.options import Options\n",
    "from selenium.webdriver.common.by import By\n",
    "from requests_html import HTML\n",
    "from bs4 import BeautifulSoup\n",
    "from selenium.webdriver.chrome.webdriver import WebDriver\n",
    "from selenium.common.exceptions import WebDriverException\n",
    "from tqdm import tqdm\n",
    "import sqlite3\n",
    "import datetime\n",
    "import os"
   ]
  },
  {
   "cell_type": "code",
   "execution_count": 43,
   "metadata": {
    "pycharm": {
     "name": "#%%\n"
    }
   },
   "outputs": [],
   "source": [
    "#Congiruando o driver\n",
    "options = Options()\n",
    "options.add_argument(\"--headless\")\n",
    "options.add_argument('--disable-gpu')\n",
    "options.add_argument(\"--log-level=3\")\n",
    "options.add_argument('--no-sandbox')\n",
    "options.add_experimental_option('useAutomationExtension', False)\n",
    "options.add_experimental_option('excludeSwitches', ['enable-logging'])"
   ]
  },
  {
   "cell_type": "code",
   "execution_count": 44,
   "metadata": {
    "pycharm": {
     "name": "#%%\n"
    }
   },
   "outputs": [],
   "source": [
    "#Criando listas\n",
    "Urls_amazon = []\n",
    "\n",
    "Urls_amazon_more = []\n",
    "\n",
    "Products_Links = []\n",
    "\n",
    "Amazon_price = []\n",
    "Amazon_price_2 = []\n",
    "\n",
    "Amazon_seller = []\n",
    "Amazon_seller_2 = []\n",
    "\n",
    "Amazon_title = []\n",
    "Amazon_title_2 = []\n",
    "\n",
    "Amazon_installment_price_full = []\n",
    "Amazon_installment_price_full_2 = []\n",
    "\n",
    "\n",
    "internacional_list = []\n",
    "more_offers_list = []\n",
    "\n",
    "\n",
    "#Listas Button Sellers\n",
    "Amazon_Button_Sellers = []\n",
    "Amazon_Button_Price = []\n",
    "Amazon_Button_ASIN = []\n",
    "\n",
    "#Listas More Sellers\n",
    "Amazon_seller_more = []\n",
    "Amazon_price_more = []\n",
    "Amazon_title_more = []\n",
    "Amazon_ID_more = []"
   ]
  },
  {
   "cell_type": "code",
   "execution_count": 45,
   "outputs": [],
   "source": [
    "#Listas Button Sellers\n",
    "Amazon_Button_Sellers = []\n",
    "Amazon_Button_Price = []\n",
    "Amazon_Button_ASIN = []\n",
    "\n",
    "#Listas More Sellers\n",
    "Amazon_seller_more = []\n",
    "Amazon_price_more = []\n",
    "Amazon_title_more = []\n",
    "Amazon_ID_More = []"
   ],
   "metadata": {
    "collapsed": false,
    "pycharm": {
     "name": "#%%\n"
    }
   }
  },
  {
   "cell_type": "code",
   "execution_count": 46,
   "metadata": {
    "pycharm": {
     "name": "#%%\n"
    }
   },
   "outputs": [
    {
     "name": "stderr",
     "output_type": "stream",
     "text": [
      "C:\\Users\\pedro\\AppData\\Local\\Temp\\ipykernel_6444\\1319122002.py:1: DeprecationWarning: executable_path has been deprecated, please pass in a Service object\n",
      "  driver = webdriver.Chrome(r\"C:\\Users\\pedro\\Documents\\Turte Brand Protection\\Turtle_Thinker_Alpha_0.1\\Data\\Selenium\\Selenium_103\", options=options)\n"
     ]
    }
   ],
   "source": [
    "driver = webdriver.Chrome(r\"C:\\Users\\pedro\\Documents\\Turte Brand Protection\\Turtle_Thinker_Alpha_0.1\\Data\\Selenium\\Selenium_103\", options=options)"
   ]
  },
  {
   "cell_type": "code",
   "execution_count": 6,
   "metadata": {
    "pycharm": {
     "name": "#%%\n"
    }
   },
   "outputs": [],
   "source": [
    "#Função para criar os links de busca\n",
    "def getting_n_creating_amazon(brand):\n",
    "\n",
    "    Database_path = r\"C:\\Users\\pedro\\Documents\\Turte Brand Protection\\Turtle_Thinker_Alpha_0.1\" + \"\\Data\\\\\" + brand + \"\\\\\" + brand + \".db\"\n",
    "\n",
    "    table = brand + \"_products\"\n",
    "\n",
    "    #Criando a Query\n",
    "    query = \"SELECT * FROM \" + table\n",
    "\n",
    "    #Entrando dentro do databse\n",
    "    connection = sqlite3.connect(Database_path)\n",
    "\n",
    "    #Criando o dataset em brando\n",
    "    df = pd.read_sql_query(query, connection)\n",
    "\n",
    "    #Passando todo o Dataframe para LowerCase\n",
    "    df = df.apply(lambda x: x.astype(str).str.lower())\n",
    "\n",
    "    #Arrumando espaços vazios\n",
    "    # Arrumano os espaços vazios\n",
    "    df['Product_Name'] = df['Product_Name'].str.replace(\" \", \"+\")\n",
    "\n",
    "    # Criando uma nova coluna no database com a formatação certa\n",
    "    df['Urls'] = df['Brand'] + \"+\" + df['Product_Name']\n",
    "\n",
    "    # Criando a nova coluna que são as urls de pesquisa\n",
    "    df['Urls_search'] = \"https://www.amazon.com.br/s?k=\" + df['Urls']\n",
    "\n",
    "    return df"
   ]
  },
  {
   "cell_type": "code",
   "execution_count": 7,
   "metadata": {
    "pycharm": {
     "name": "#%%\n"
    }
   },
   "outputs": [
    {
     "data": {
      "text/plain": "   Brand Product_Name                                 Product_Descrition  \\\n0  wacom       ctl472  ctl 472 - mesa digitalizadora one by wacom peq...   \n1  wacom      ctl4100  ctl4100 - mesa digitalizadora wacom intuos sma...   \n2  wacom  ctl4100wle0  ctl4100wle0 - mesa digitalizadora wacom intuos...   \n3  wacom  ctl4100wlk0  ctl4100wlk0 - mesa digitalizadora wacom intuos...   \n4  wacom  ctl6100wlk0  ctl6100wlk0 - mesa digitalizadora wacom intuos...   \n5  wacom    dtc133w0a  dtc133w0a - mesa digitalizadora wacom one crea...   \n6  wacom       pth460  pth460 - mesa digitalizadora wacom intuos pro ...   \n7  wacom   dtk1660k0a  dtk1660k0a - display interativo wacom cintiq 1...   \n8  wacom       pth660  pth660 - mesa digitalizadora wacom intuos pro ...   \n9  wacom  ctl6100wle0  ctl6100wle0 - mesa digitalizadora wacom intuos...   \n\n                Urls                                      Urls_search  \n0       wacom+ctl472       https://www.amazon.com.br/s?k=wacom+ctl472  \n1      wacom+ctl4100      https://www.amazon.com.br/s?k=wacom+ctl4100  \n2  wacom+ctl4100wle0  https://www.amazon.com.br/s?k=wacom+ctl4100wle0  \n3  wacom+ctl4100wlk0  https://www.amazon.com.br/s?k=wacom+ctl4100wlk0  \n4  wacom+ctl6100wlk0  https://www.amazon.com.br/s?k=wacom+ctl6100wlk0  \n5    wacom+dtc133w0a    https://www.amazon.com.br/s?k=wacom+dtc133w0a  \n6       wacom+pth460       https://www.amazon.com.br/s?k=wacom+pth460  \n7   wacom+dtk1660k0a   https://www.amazon.com.br/s?k=wacom+dtk1660k0a  \n8       wacom+pth660       https://www.amazon.com.br/s?k=wacom+pth660  \n9  wacom+ctl6100wle0  https://www.amazon.com.br/s?k=wacom+ctl6100wle0  ",
      "text/html": "<div>\n<style scoped>\n    .dataframe tbody tr th:only-of-type {\n        vertical-align: middle;\n    }\n\n    .dataframe tbody tr th {\n        vertical-align: top;\n    }\n\n    .dataframe thead th {\n        text-align: right;\n    }\n</style>\n<table border=\"1\" class=\"dataframe\">\n  <thead>\n    <tr style=\"text-align: right;\">\n      <th></th>\n      <th>Brand</th>\n      <th>Product_Name</th>\n      <th>Product_Descrition</th>\n      <th>Urls</th>\n      <th>Urls_search</th>\n    </tr>\n  </thead>\n  <tbody>\n    <tr>\n      <th>0</th>\n      <td>wacom</td>\n      <td>ctl472</td>\n      <td>ctl 472 - mesa digitalizadora one by wacom peq...</td>\n      <td>wacom+ctl472</td>\n      <td>https://www.amazon.com.br/s?k=wacom+ctl472</td>\n    </tr>\n    <tr>\n      <th>1</th>\n      <td>wacom</td>\n      <td>ctl4100</td>\n      <td>ctl4100 - mesa digitalizadora wacom intuos sma...</td>\n      <td>wacom+ctl4100</td>\n      <td>https://www.amazon.com.br/s?k=wacom+ctl4100</td>\n    </tr>\n    <tr>\n      <th>2</th>\n      <td>wacom</td>\n      <td>ctl4100wle0</td>\n      <td>ctl4100wle0 - mesa digitalizadora wacom intuos...</td>\n      <td>wacom+ctl4100wle0</td>\n      <td>https://www.amazon.com.br/s?k=wacom+ctl4100wle0</td>\n    </tr>\n    <tr>\n      <th>3</th>\n      <td>wacom</td>\n      <td>ctl4100wlk0</td>\n      <td>ctl4100wlk0 - mesa digitalizadora wacom intuos...</td>\n      <td>wacom+ctl4100wlk0</td>\n      <td>https://www.amazon.com.br/s?k=wacom+ctl4100wlk0</td>\n    </tr>\n    <tr>\n      <th>4</th>\n      <td>wacom</td>\n      <td>ctl6100wlk0</td>\n      <td>ctl6100wlk0 - mesa digitalizadora wacom intuos...</td>\n      <td>wacom+ctl6100wlk0</td>\n      <td>https://www.amazon.com.br/s?k=wacom+ctl6100wlk0</td>\n    </tr>\n    <tr>\n      <th>5</th>\n      <td>wacom</td>\n      <td>dtc133w0a</td>\n      <td>dtc133w0a - mesa digitalizadora wacom one crea...</td>\n      <td>wacom+dtc133w0a</td>\n      <td>https://www.amazon.com.br/s?k=wacom+dtc133w0a</td>\n    </tr>\n    <tr>\n      <th>6</th>\n      <td>wacom</td>\n      <td>pth460</td>\n      <td>pth460 - mesa digitalizadora wacom intuos pro ...</td>\n      <td>wacom+pth460</td>\n      <td>https://www.amazon.com.br/s?k=wacom+pth460</td>\n    </tr>\n    <tr>\n      <th>7</th>\n      <td>wacom</td>\n      <td>dtk1660k0a</td>\n      <td>dtk1660k0a - display interativo wacom cintiq 1...</td>\n      <td>wacom+dtk1660k0a</td>\n      <td>https://www.amazon.com.br/s?k=wacom+dtk1660k0a</td>\n    </tr>\n    <tr>\n      <th>8</th>\n      <td>wacom</td>\n      <td>pth660</td>\n      <td>pth660 - mesa digitalizadora wacom intuos pro ...</td>\n      <td>wacom+pth660</td>\n      <td>https://www.amazon.com.br/s?k=wacom+pth660</td>\n    </tr>\n    <tr>\n      <th>9</th>\n      <td>wacom</td>\n      <td>ctl6100wle0</td>\n      <td>ctl6100wle0 - mesa digitalizadora wacom intuos...</td>\n      <td>wacom+ctl6100wle0</td>\n      <td>https://www.amazon.com.br/s?k=wacom+ctl6100wle0</td>\n    </tr>\n  </tbody>\n</table>\n</div>"
     },
     "execution_count": 7,
     "metadata": {},
     "output_type": "execute_result"
    }
   ],
   "source": [
    "Df_Products_raw = getting_n_creating_amazon(\"Wacom\")\n",
    "Df_Products_raw"
   ]
  },
  {
   "cell_type": "code",
   "execution_count": 8,
   "outputs": [
    {
     "data": {
      "text/plain": "'https://www.amazon.com.br/s?k=wacom+ctl472'"
     },
     "execution_count": 8,
     "metadata": {},
     "output_type": "execute_result"
    }
   ],
   "source": [
    "Df_Products_raw['Urls_search'][0]"
   ],
   "metadata": {
    "collapsed": false,
    "pycharm": {
     "name": "#%%\n"
    }
   }
  },
  {
   "cell_type": "code",
   "execution_count": 48,
   "outputs": [],
   "source": [
    "urls = ['https://www.amazon.com.br/s?k=Toshiba+HD+externo+Canvio+Basics+1TB','https://www.amazon.com.br/s?k=HD+Externo+Seagate+Expansion+1TB']"
   ],
   "metadata": {
    "collapsed": false,
    "pycharm": {
     "name": "#%%\n"
    }
   }
  },
  {
   "cell_type": "code",
   "execution_count": 49,
   "metadata": {
    "pycharm": {
     "name": "#%%\n"
    }
   },
   "outputs": [],
   "source": [
    "#Função pegando Links\n",
    "def search_links(url):\n",
    "    global Urls_amazon\n",
    "\n",
    "    time.sleep(5)\n",
    "\n",
    "    driver.get(url)\n",
    "\n",
    "    time.sleep(5)\n",
    "\n",
    "    body_el = driver.find_element(By.CSS_SELECTOR, 'body')\n",
    "    html_str = body_el.get_attribute('innerHTML')\n",
    "    html_obj = HTML(html=html_str)\n",
    "\n",
    "    Links = [x for x in html_obj.links]\n",
    "    products_links = [f'https://www.amazon.com.br{x}' for x in Links]\n",
    "\n",
    "    for link in products_links:\n",
    "        Urls_amazon.append(link)\n",
    "\n",
    "    Urls_amazon = [s for s in Urls_amazon if '/dp/' in s]\n",
    "    Urls_amazon = [s for s in Urls_amazon if not '#customerReviews' in s]\n",
    "\n",
    "    try:\n",
    "        Soup = BeautifulSoup(driver.page_source, 'html.parser')\n",
    "        next_page = \"https://www.amazon.com.br\" + Soup.find(class_='s-pagination-item s-pagination-next s-pagination-button s-pagination-separator')['href']\n",
    "        print(next_page)\n",
    "\n",
    "        search_links(next_page)\n",
    "    except:\n",
    "        pass"
   ]
  },
  {
   "cell_type": "code",
   "execution_count": 8,
   "outputs": [],
   "source": [
    "urls = ['https://www.amazon.com.br/s?k=dji+mavic+mini+2+fly+combo','https://www.amazon.com.br/s?k=dji+mini+se+fly+more+combo']"
   ],
   "metadata": {
    "collapsed": false,
    "pycharm": {
     "name": "#%%\n"
    }
   }
  },
  {
   "cell_type": "code",
   "execution_count": 50,
   "metadata": {
    "pycharm": {
     "name": "#%%\n"
    }
   },
   "outputs": [
    {
     "name": "stderr",
     "output_type": "stream",
     "text": [
      " 50%|█████     | 1/2 [00:14<00:14, 14.13s/it]"
     ]
    },
    {
     "name": "stdout",
     "output_type": "stream",
     "text": [
      "https://www.amazon.com.br/s?k=HD+Externo+Seagate+Expansion+1TB&page=2&qid=1659327605&ref=sr_pg_1\n",
      "https://www.amazon.com.br/s?k=HD+Externo+Seagate+Expansion+1TB&page=3&qid=1659327616&ref=sr_pg_2\n"
     ]
    },
    {
     "name": "stderr",
     "output_type": "stream",
     "text": [
      "100%|██████████| 2/2 [00:48<00:00, 24.16s/it]\n"
     ]
    }
   ],
   "source": [
    "for url in tqdm(urls):\n",
    "    search_links(url)"
   ]
  },
  {
   "cell_type": "code",
   "execution_count": 12,
   "metadata": {
    "pycharm": {
     "name": "#%%\n"
    }
   },
   "outputs": [],
   "source": [
    "#Limpando as urls\n",
    "def clean_link(urls, brand):\n",
    "    #Criando a conexão com a tabela de exclusão \n",
    "    Database_exclusion = r\"C:\\Users\\pedro\\Documents\\Turte Brand Protection\\Turtle_Thinker_Alpha_0.1\" + \"\\Data\\\\\" + brand + \"\\\\\" + brand + \".db\"\n",
    "\n",
    "    table = brand + \"_exclusao\"\n",
    "\n",
    "    #Criando a Query\n",
    "    query = \"SELECT * FROM \" + table\n",
    "\n",
    "    connection = sqlite3.connect(Database_exclusion)\n",
    "\n",
    "    #Criando o dataset em brando\n",
    "    df_itens = pd.read_sql_query(query, connection)\n",
    "\n",
    "    clean_urls = pd.DataFrame()\n",
    "\n",
    "    clean_urls['Urls_Completas'] = urls\n",
    "    clean_urls['Urls_limpas'] = clean_urls['Urls_Completas'].str.partition(\"ref\")[0]\n",
    "\n",
    "    Urls_limpas = clean_urls['Urls_limpas'].tolist()\n",
    "\n",
    "    for word in df_itens['Words']:\n",
    "         Urls_limpas = [s for s in Urls_limpas if not word in s]\n",
    "\n",
    "    Urls_limpas = [s for s in Urls_limpas if 'wacom' in s]\n",
    "\n",
    "    clean_urls = pd.DataFrame()\n",
    "\n",
    "    clean_urls['Urls_finais'] = Urls_limpas\n",
    "\n",
    "    clean_urls['ASIN'] = clean_urls['Urls_finais'].str.partition(\"/dp/\")[2].str.partition(\"/\")[0]\n",
    "\n",
    "    clean_urls.drop_duplicates(subset='ASIN',inplace=True)\n",
    "    clean_urls.reset_index(inplace=True, drop=True)\n",
    "    return clean_urls"
   ]
  },
  {
   "cell_type": "code",
   "execution_count": 11,
   "metadata": {
    "pycharm": {
     "name": "#%%\n"
    }
   },
   "outputs": [],
   "source": [
    "New_urls = clean_link(Urls_amazon, 'Motorola')"
   ]
  },
  {
   "cell_type": "code",
   "execution_count": 12,
   "outputs": [
    {
     "data": {
      "text/plain": "                                          Urls_finais        ASIN\n0   https://www.amazon.com.br/Eletr%C3%B4nica-Moto...  B01N807E5P\n1   https://www.amazon.com.br/Eletr%C3%B4nica-Moto...  B01IRIVFRS\n2   https://www.amazon.com.br/Bab%C3%A1-Eletr%C3%B...  B08NFK5QCB\n3   https://www.amazon.com.br/Motorola-Bab%C3%A1-E...  B09KMFZN2Y\n4   https://www.amazon.com.br/Acess%C3%B3rio-Eletr...  B09CDGLXR5\n5   https://www.amazon.com.br/Bab%C3%A1-Eletr%C3%B...  B08QFCNPXJ\n6   https://www.amazon.com.br/Eletronica-Motorola-...  B084QZ7JPF\n7   https://www.amazon.com.br/Motorola-Baba-Eletro...  B08FVXB74T\n8   https://www.amazon.com.br/Eletronica-Digital-M...  B0731J6K8M\n9   https://www.amazon.com.br/Motorola-MBP-36S-SC-...  B00NSF730O\n10  https://www.amazon.com.br/Eletr%C3%B4nica-Moto...  B07M9ZDJ7J\n11  https://www.amazon.com.br/Bab%C3%A1-Eletr%C3%B...  B07BBTDDNF\n12  https://www.amazon.com.br/Motorola-Bab%C3%A1-E...  B09KMDWDZP\n13  https://www.amazon.com.br/Motorola-Baby-Monito...  B09BP6TMMF\n14  https://www.amazon.com.br/suporte-eletr%C3%B4n...  B085Y9PN6H\n15  https://www.amazon.com.br/Estereo-Intra-Auricu...  B06XX3Z8KS\n16  https://www.amazon.com.br/Bluetooth-Resistente...  B071KFNBSM\n17  https://www.amazon.com.br/Motorola-Baby-Monito...  B09LZLDK5P\n18  https://www.amazon.com.br/Motorola-Bab%C3%A1-E...  B09NCGHLN2\n19  https://www.amazon.com.br/Motorola-VM75-2-Bab%...  B09D176VP2\n20  https://www.amazon.com.br/Motorola-Baby-Monito...  B09D1Q395Z",
      "text/html": "<div>\n<style scoped>\n    .dataframe tbody tr th:only-of-type {\n        vertical-align: middle;\n    }\n\n    .dataframe tbody tr th {\n        vertical-align: top;\n    }\n\n    .dataframe thead th {\n        text-align: right;\n    }\n</style>\n<table border=\"1\" class=\"dataframe\">\n  <thead>\n    <tr style=\"text-align: right;\">\n      <th></th>\n      <th>Urls_finais</th>\n      <th>ASIN</th>\n    </tr>\n  </thead>\n  <tbody>\n    <tr>\n      <th>0</th>\n      <td>https://www.amazon.com.br/Eletr%C3%B4nica-Moto...</td>\n      <td>B01N807E5P</td>\n    </tr>\n    <tr>\n      <th>1</th>\n      <td>https://www.amazon.com.br/Eletr%C3%B4nica-Moto...</td>\n      <td>B01IRIVFRS</td>\n    </tr>\n    <tr>\n      <th>2</th>\n      <td>https://www.amazon.com.br/Bab%C3%A1-Eletr%C3%B...</td>\n      <td>B08NFK5QCB</td>\n    </tr>\n    <tr>\n      <th>3</th>\n      <td>https://www.amazon.com.br/Motorola-Bab%C3%A1-E...</td>\n      <td>B09KMFZN2Y</td>\n    </tr>\n    <tr>\n      <th>4</th>\n      <td>https://www.amazon.com.br/Acess%C3%B3rio-Eletr...</td>\n      <td>B09CDGLXR5</td>\n    </tr>\n    <tr>\n      <th>5</th>\n      <td>https://www.amazon.com.br/Bab%C3%A1-Eletr%C3%B...</td>\n      <td>B08QFCNPXJ</td>\n    </tr>\n    <tr>\n      <th>6</th>\n      <td>https://www.amazon.com.br/Eletronica-Motorola-...</td>\n      <td>B084QZ7JPF</td>\n    </tr>\n    <tr>\n      <th>7</th>\n      <td>https://www.amazon.com.br/Motorola-Baba-Eletro...</td>\n      <td>B08FVXB74T</td>\n    </tr>\n    <tr>\n      <th>8</th>\n      <td>https://www.amazon.com.br/Eletronica-Digital-M...</td>\n      <td>B0731J6K8M</td>\n    </tr>\n    <tr>\n      <th>9</th>\n      <td>https://www.amazon.com.br/Motorola-MBP-36S-SC-...</td>\n      <td>B00NSF730O</td>\n    </tr>\n    <tr>\n      <th>10</th>\n      <td>https://www.amazon.com.br/Eletr%C3%B4nica-Moto...</td>\n      <td>B07M9ZDJ7J</td>\n    </tr>\n    <tr>\n      <th>11</th>\n      <td>https://www.amazon.com.br/Bab%C3%A1-Eletr%C3%B...</td>\n      <td>B07BBTDDNF</td>\n    </tr>\n    <tr>\n      <th>12</th>\n      <td>https://www.amazon.com.br/Motorola-Bab%C3%A1-E...</td>\n      <td>B09KMDWDZP</td>\n    </tr>\n    <tr>\n      <th>13</th>\n      <td>https://www.amazon.com.br/Motorola-Baby-Monito...</td>\n      <td>B09BP6TMMF</td>\n    </tr>\n    <tr>\n      <th>14</th>\n      <td>https://www.amazon.com.br/suporte-eletr%C3%B4n...</td>\n      <td>B085Y9PN6H</td>\n    </tr>\n    <tr>\n      <th>15</th>\n      <td>https://www.amazon.com.br/Estereo-Intra-Auricu...</td>\n      <td>B06XX3Z8KS</td>\n    </tr>\n    <tr>\n      <th>16</th>\n      <td>https://www.amazon.com.br/Bluetooth-Resistente...</td>\n      <td>B071KFNBSM</td>\n    </tr>\n    <tr>\n      <th>17</th>\n      <td>https://www.amazon.com.br/Motorola-Baby-Monito...</td>\n      <td>B09LZLDK5P</td>\n    </tr>\n    <tr>\n      <th>18</th>\n      <td>https://www.amazon.com.br/Motorola-Bab%C3%A1-E...</td>\n      <td>B09NCGHLN2</td>\n    </tr>\n    <tr>\n      <th>19</th>\n      <td>https://www.amazon.com.br/Motorola-VM75-2-Bab%...</td>\n      <td>B09D176VP2</td>\n    </tr>\n    <tr>\n      <th>20</th>\n      <td>https://www.amazon.com.br/Motorola-Baby-Monito...</td>\n      <td>B09D1Q395Z</td>\n    </tr>\n  </tbody>\n</table>\n</div>"
     },
     "execution_count": 12,
     "metadata": {},
     "output_type": "execute_result"
    }
   ],
   "source": [
    "New_urls"
   ],
   "metadata": {
    "collapsed": false,
    "pycharm": {
     "name": "#%%\n"
    }
   }
  },
  {
   "cell_type": "code",
   "execution_count": 51,
   "metadata": {
    "pycharm": {
     "name": "#%%\n"
    }
   },
   "outputs": [],
   "source": [
    "def search_atributes(url):\n",
    "    #Tempo para não haver o bloqueio\n",
    "    time.sleep(5)\n",
    "\n",
    "    #Entrando dentro do site com o driver\n",
    "    driver.get(url)\n",
    "\n",
    "    #Tempo para carregar\n",
    "    time.sleep(10)\n",
    "\n",
    "    body_el = driver.find_element(By.CSS_SELECTOR, 'body')\n",
    "    html_str = body_el.get_attribute('innerHTML')\n",
    "\n",
    "    #Criando o Soup\n",
    "    soup = BeautifulSoup(html_str, 'html.parser')\n",
    "\n",
    "    #Fazendo o try do nome do vendedor\n",
    "    try:\n",
    "        seller = soup.find(id='sellerProfileTriggerId').text\n",
    "        seller_2 = soup.find(\"a\", attrs={\"id\":'sellerProfileTriggerId'}).text\n",
    "        Amazon_seller.append(seller)\n",
    "        Amazon_seller_2.append(seller_2)\n",
    "    except:\n",
    "        Amazon_seller.append(\"Erro\")\n",
    "        Amazon_seller_2.append(\"Erro\")\n",
    "\n",
    "    #Fazendo o try do preço do produto a vista\n",
    "    try:\n",
    "        Div_Price = soup.find('div', attrs={\"data-feature-name\":\"corePrice\"})\n",
    "        price_2 = Div_Price.find(class_='a-offscreen').text\n",
    "        Amazon_price_2.append(price_2)\n",
    "    except:\n",
    "        try:\n",
    "            Amazon_price_2.append(soup.find(class_='a-button-text')['href'])\n",
    "        except:\n",
    "            Amazon_price_2.append(\"Erro\")\n",
    "\n",
    "    #Pegando o título do produto\n",
    "    try:\n",
    "        title = soup.find(id='productTitle').text\n",
    "        Amazon_title.append(title)\n",
    "    except:\n",
    "        Amazon_title.append('Erro')\n",
    "\n",
    "    #Pegando o internacional\n",
    "    try:\n",
    "        soup.find('img', attrs={'data-a-hires':'https://images-na.ssl-images-amazon.com/images/G/32/foreignseller/Foreign_Seller_Badge_v2._CB403622375_.png'})\n",
    "        internacional_list.append(\"Internacional\")\n",
    "    except:\n",
    "        internacional_list.append(\"Nacional\")\n",
    "\n",
    "    #Fazendo o try para pegar o preço da parcela\n",
    "    try:\n",
    "        installment = soup.find(class_='best-offer-name a-text-bold').text\n",
    "        Amazon_installment_price_full.append(installment)\n",
    "        \n",
    "        Div_installment = soup.find('div', attrs={'id':'installmentCalculator_feature_div'})\n",
    "        Installment_2 = Div_installment.find(class_='best-offer-name a-text-bold').text\n",
    "        Amazon_installment_price_full_2.append(Installment_2)\n",
    "    except:\n",
    "        Amazon_installment_price_full.append(\"0\")\n",
    "        Amazon_installment_price_full_2.append(\"Erro\")\n",
    "\n",
    "    #Fazendo o try para ver se tem mais ofertas\n",
    "    try:\n",
    "        Main_Div_More_offers = soup.find('div', attrs={\"id\":\"olpLinkWidget_feature_div\"})\n",
    "        Div_More_offers = Main_Div_More_offers.find('div', attrs={'class':'a-section olp-link-widget'})\n",
    "        Div_More_offers_text = Div_More_offers.find('div', attrs={'class':'olp-text-box'}).text\n",
    "        more_offers_list.append(Div_More_offers_text)\n",
    "    except:\n",
    "        more_offers_list.append(\"Comparar outras 0 ofertas\")\n"
   ]
  },
  {
   "cell_type": "code",
   "execution_count": 52,
   "metadata": {
    "pycharm": {
     "name": "#%%\n"
    }
   },
   "outputs": [
    {
     "name": "stderr",
     "output_type": "stream",
     "text": [
      "100%|██████████| 131/131 [37:38<00:00, 17.24s/it]\n"
     ]
    }
   ],
   "source": [
    "for url in tqdm(Urls_amazon):\n",
    "    search_atributes(url)"
   ]
  },
  {
   "cell_type": "code",
   "execution_count": 53,
   "metadata": {
    "pycharm": {
     "name": "#%%\n"
    }
   },
   "outputs": [
    {
     "name": "stdout",
     "output_type": "stream",
     "text": [
      "131\n",
      "131\n",
      "131\n",
      "131\n",
      "131\n",
      "131\n"
     ]
    }
   ],
   "source": [
    "print(len(Amazon_title))\n",
    "print(len(Amazon_price_2))\n",
    "print(len(Amazon_seller_2))\n",
    "print(len(more_offers_list))\n",
    "print(len(Amazon_installment_price_full_2))\n",
    "print(len(internacional_list))"
   ]
  },
  {
   "cell_type": "code",
   "execution_count": 54,
   "metadata": {
    "pycharm": {
     "name": "#%%\n"
    }
   },
   "outputs": [],
   "source": [
    "def dataset_amazon(url, sellers, preco, titulo, more_url):\n",
    "    # Criando o DataFrame\n",
    "    Dataset_amazon = pd.DataFrame()\n",
    "\n",
    "    #\n",
    "    Hoje = pd.to_datetime('today', errors='ignore').date()\n",
    "\n",
    "    # Colocando os dados\n",
    "    Dataset_amazon['URL'] = url\n",
    "\n",
    "    Dataset_amazon['DATE'] = Hoje\n",
    "\n",
    "    Dataset_amazon['MARKETPLACE'] = \"AMAZON\"\n",
    "\n",
    "    #Arrumando a coluna de sellers\n",
    "    Dataset_amazon['SELLER'] = sellers\n",
    "    Dataset_amazon['SELLER'] = Dataset_amazon['SELLER'].str.replace(\"Erro\",\"Amazon\", regex=False)\n",
    "\n",
    "    #Arrumando o preço\n",
    "    Dataset_amazon['PRICE'] = preco\n",
    "    Dataset_amazon['PRICE'] = Dataset_amazon['PRICE'].str.replace(\".\",\"\", regex=True)\n",
    "    Dataset_amazon['PRICE'] = Dataset_amazon['PRICE'].str.replace(\"R$\",\"\", regex=False)\n",
    "    Dataset_amazon['PRICE'] = Dataset_amazon['PRICE'].str.replace(\",\",\".\", regex=True)\n",
    "\n",
    "    #Arrumando os valores de installment\n",
    "    Dataset_amazon['INSTALLMENT FULL'] = Amazon_installment_price_full\n",
    "    Dataset_amazon['PARCEL'] = Dataset_amazon['INSTALLMENT FULL'].str.extract('(\\d+)')\n",
    "    Dataset_amazon['PARCEL'] = Dataset_amazon['PARCEL'].astype(\"int\")\n",
    "    Dataset_amazon['parcel_price_bruto'] = \\\n",
    "    Dataset_amazon['INSTALLMENT FULL'].str.partition(\"R$\")[2].str.partition(\" \")[2].str.partition(\" \")[0]\n",
    "    Dataset_amazon['Installment3'] = Dataset_amazon['parcel_price_bruto'].str.extract('(\\d+)')\n",
    "    Dataset_amazon['parcel_price_bruto'] = \\\n",
    "    Dataset_amazon['INSTALLMENT FULL'].str.partition(\"R$\")[2].str.partition(\" \")[2].str.partition(\" \")[0].str.partition(\",\")[2]\n",
    "    Dataset_amazon['Installment4'] = Dataset_amazon['parcel_price_bruto'].str.extract('(\\d+)')\n",
    "    Dataset_amazon['INSTALLMENT'] = Dataset_amazon['Installment3'] + \".\" + Dataset_amazon['Installment4']\n",
    "    Dataset_amazon['INSTALLMENT'] = Dataset_amazon['INSTALLMENT'].astype(\"float\")\n",
    "    Dataset_amazon['INSTALLMENT'] = Dataset_amazon['INSTALLMENT'].fillna(0)\n",
    "    Dataset_amazon['INSTALLMENT_PAYMENT'] = Dataset_amazon['PARCEL'] * Dataset_amazon['INSTALLMENT']\n",
    "\n",
    "\n",
    "    Dataset_amazon['ID'] = Dataset_amazon['URL'].str.partition('/dp/')[2].str.partition('/')[0]\n",
    "    Dataset_amazon['PRODUCT'] = titulo\n",
    "    Dataset_amazon['INTERNACIONAL'] = internacional_list\n",
    "\n",
    "    #Arrumando valores de mais sellers\n",
    "    Dataset_amazon['MORE'] = more_url\n",
    "    Dataset_amazon['MORE'] = Dataset_amazon['MORE'].str.partition(\"outras \")[2].str.partition(\" ofertas\")[0]\n",
    "\n",
    "    Dataset_amazon['MORE'] = Dataset_amazon['MORE'].astype('int')\n",
    "\n",
    "\n",
    "    Dataset_amazon = Dataset_amazon.drop(columns=[\"INSTALLMENT FULL\", \"Installment3\", \"Installment4\", \"parcel_price_bruto\"])\n",
    "\n",
    "\n",
    "    #Colocando na ordem correta\n",
    "    Dataset_amazon = Dataset_amazon[['DATE', 'URL', 'MARKETPLACE', 'SELLER', 'PRICE', 'PARCEL', 'INSTALLMENT', 'INSTALLMENT_PAYMENT', 'ID', 'PRODUCT','INTERNACIONAL', 'MORE']]\n",
    "\n",
    "    return Dataset_amazon"
   ]
  },
  {
   "cell_type": "code",
   "execution_count": 55,
   "metadata": {
    "pycharm": {
     "name": "#%%\n"
    }
   },
   "outputs": [],
   "source": [
    "Df_final = dataset_amazon(Urls_amazon, Amazon_seller_2, Amazon_price_2, Amazon_title, more_offers_list)"
   ]
  },
  {
   "cell_type": "code",
   "execution_count": 56,
   "outputs": [],
   "source": [
    "Df_final=  Df_final.reset_index(drop=True)"
   ],
   "metadata": {
    "collapsed": false,
    "pycharm": {
     "name": "#%%\n"
    }
   }
  },
  {
   "cell_type": "code",
   "execution_count": 57,
   "metadata": {
    "pycharm": {
     "name": "#%%\n"
    }
   },
   "outputs": [
    {
     "data": {
      "text/plain": "           DATE                                                URL  \\\n0    2022-08-01  https://www.amazon.com.br/Toshiba-Canvio-Advan...   \n1    2022-08-01  https://www.amazon.com.br/Toshiba-HDTB330XK3CA...   \n2    2022-08-01  https://www.amazon.com.br/Externo-Toshiba-Canv...   \n3    2022-08-01  https://www.amazon.com.br/Toshiba-Port%C3%A1ti...   \n4    2022-08-01  https://www.amazon.com.br/Externo-Port%C3%A1ti...   \n..          ...                                                ...   \n126  2022-08-01  https://www.amazon.com.br/Seagate-externo-foto...   \n127  2022-08-01  https://www.amazon.com.br/Seagate-Disco-r%C3%A...   \n128  2022-08-01  https://www.amazon.com.br/Seagate-externo-serv...   \n129  2022-08-01  https://www.amazon.com.br/Externo-1TB-Toshiba-...   \n130  2022-08-01  https://www.amazon.com.br/Disco-r%C3%ADgido-ex...   \n\n    MARKETPLACE                 SELLER  \\\n0        AMAZON                 Amazon   \n1        AMAZON                 Amazon   \n2        AMAZON            OctoShop BR   \n3        AMAZON               Tendinfo   \n4        AMAZON               Tendinfo   \n..          ...                    ...   \n126      AMAZON  Triplenet Pricing INC   \n127      AMAZON  Triplenet Pricing INC   \n128      AMAZON                 Amazon   \n129      AMAZON            OctoShop BR   \n130      AMAZON  Triplenet Pricing INC   \n\n                                                 PRICE  PARCEL  INSTALLMENT  \\\n0    /gp/offer-listing/B08JKGHHHQ/ref=dp_olp_unknow...       0         0.00   \n1    /gp/offer-listing/B00T5ME88Y/ref=dp_olp_unknow...       0         0.00   \n2                                               871.04      10        87.14   \n3                                               998.90      10        99.89   \n4                                              1525.00      10       152.50   \n..                                                 ...     ...          ...   \n126                                            3150.05      10       315.05   \n127                                            2883.87      10       288.45   \n128  /gp/offer-listing/B08KSJ7Z5F/ref=dp_olp_unknow...       0         0.00   \n129                                             662.29      10        66.31   \n130                                            1219.18      10       121.99   \n\n     INSTALLMENT_PAYMENT          ID  \\\n0                    0.0  B08JKGHHHQ   \n1                    0.0  B00T5ME88Y   \n2                  871.4  B08JKJ9XLN   \n3                  998.9  B079H83D53   \n4                 1525.0  B07KQX5VHY   \n..                   ...         ...   \n126               3150.5  B093WZHS1G   \n127               2884.5  B093BWLBYY   \n128                  0.0  B08KSJ7Z5F   \n129                663.1  B079H7VYY6   \n130               1219.9  B081VGMS8X   \n\n                                               PRODUCT  INTERNACIONAL  MORE  \n0            TOSHIBA Canvio Advance Disco rígido ex...  Internacional     0  \n1            Toshiba Canvio Basics Portátil Externo...  Internacional     0  \n2            HD Externo Portátil Toshiba 2TB Canvio...  Internacional     4  \n3            HD Externo Portátil Toshiba Canvio Adv...  Internacional     0  \n4            HD Externo Portátil Toshiba Canvio Adv...  Internacional     0  \n..                                                 ...            ...   ...  \n126          Seagate One Touch Hub, 8 TB, disco ríg...  Internacional     3  \n127          Seagate Disco rígido externo USB 3.0 d...  Internacional     3  \n128          Seagate One Touch 4 TB Disco externo H...  Internacional     0  \n129          HD Externo Portátil Toshiba Canvio Adv...  Internacional     2  \n130          Disco rígido externo básico 5000 GB, p...  Internacional     0  \n\n[131 rows x 12 columns]",
      "text/html": "<div>\n<style scoped>\n    .dataframe tbody tr th:only-of-type {\n        vertical-align: middle;\n    }\n\n    .dataframe tbody tr th {\n        vertical-align: top;\n    }\n\n    .dataframe thead th {\n        text-align: right;\n    }\n</style>\n<table border=\"1\" class=\"dataframe\">\n  <thead>\n    <tr style=\"text-align: right;\">\n      <th></th>\n      <th>DATE</th>\n      <th>URL</th>\n      <th>MARKETPLACE</th>\n      <th>SELLER</th>\n      <th>PRICE</th>\n      <th>PARCEL</th>\n      <th>INSTALLMENT</th>\n      <th>INSTALLMENT_PAYMENT</th>\n      <th>ID</th>\n      <th>PRODUCT</th>\n      <th>INTERNACIONAL</th>\n      <th>MORE</th>\n    </tr>\n  </thead>\n  <tbody>\n    <tr>\n      <th>0</th>\n      <td>2022-08-01</td>\n      <td>https://www.amazon.com.br/Toshiba-Canvio-Advan...</td>\n      <td>AMAZON</td>\n      <td>Amazon</td>\n      <td>/gp/offer-listing/B08JKGHHHQ/ref=dp_olp_unknow...</td>\n      <td>0</td>\n      <td>0.00</td>\n      <td>0.0</td>\n      <td>B08JKGHHHQ</td>\n      <td>TOSHIBA Canvio Advance Disco rígido ex...</td>\n      <td>Internacional</td>\n      <td>0</td>\n    </tr>\n    <tr>\n      <th>1</th>\n      <td>2022-08-01</td>\n      <td>https://www.amazon.com.br/Toshiba-HDTB330XK3CA...</td>\n      <td>AMAZON</td>\n      <td>Amazon</td>\n      <td>/gp/offer-listing/B00T5ME88Y/ref=dp_olp_unknow...</td>\n      <td>0</td>\n      <td>0.00</td>\n      <td>0.0</td>\n      <td>B00T5ME88Y</td>\n      <td>Toshiba Canvio Basics Portátil Externo...</td>\n      <td>Internacional</td>\n      <td>0</td>\n    </tr>\n    <tr>\n      <th>2</th>\n      <td>2022-08-01</td>\n      <td>https://www.amazon.com.br/Externo-Toshiba-Canv...</td>\n      <td>AMAZON</td>\n      <td>OctoShop BR</td>\n      <td>871.04</td>\n      <td>10</td>\n      <td>87.14</td>\n      <td>871.4</td>\n      <td>B08JKJ9XLN</td>\n      <td>HD Externo Portátil Toshiba 2TB Canvio...</td>\n      <td>Internacional</td>\n      <td>4</td>\n    </tr>\n    <tr>\n      <th>3</th>\n      <td>2022-08-01</td>\n      <td>https://www.amazon.com.br/Toshiba-Port%C3%A1ti...</td>\n      <td>AMAZON</td>\n      <td>Tendinfo</td>\n      <td>998.90</td>\n      <td>10</td>\n      <td>99.89</td>\n      <td>998.9</td>\n      <td>B079H83D53</td>\n      <td>HD Externo Portátil Toshiba Canvio Adv...</td>\n      <td>Internacional</td>\n      <td>0</td>\n    </tr>\n    <tr>\n      <th>4</th>\n      <td>2022-08-01</td>\n      <td>https://www.amazon.com.br/Externo-Port%C3%A1ti...</td>\n      <td>AMAZON</td>\n      <td>Tendinfo</td>\n      <td>1525.00</td>\n      <td>10</td>\n      <td>152.50</td>\n      <td>1525.0</td>\n      <td>B07KQX5VHY</td>\n      <td>HD Externo Portátil Toshiba Canvio Adv...</td>\n      <td>Internacional</td>\n      <td>0</td>\n    </tr>\n    <tr>\n      <th>...</th>\n      <td>...</td>\n      <td>...</td>\n      <td>...</td>\n      <td>...</td>\n      <td>...</td>\n      <td>...</td>\n      <td>...</td>\n      <td>...</td>\n      <td>...</td>\n      <td>...</td>\n      <td>...</td>\n      <td>...</td>\n    </tr>\n    <tr>\n      <th>126</th>\n      <td>2022-08-01</td>\n      <td>https://www.amazon.com.br/Seagate-externo-foto...</td>\n      <td>AMAZON</td>\n      <td>Triplenet Pricing INC</td>\n      <td>3150.05</td>\n      <td>10</td>\n      <td>315.05</td>\n      <td>3150.5</td>\n      <td>B093WZHS1G</td>\n      <td>Seagate One Touch Hub, 8 TB, disco ríg...</td>\n      <td>Internacional</td>\n      <td>3</td>\n    </tr>\n    <tr>\n      <th>127</th>\n      <td>2022-08-01</td>\n      <td>https://www.amazon.com.br/Seagate-Disco-r%C3%A...</td>\n      <td>AMAZON</td>\n      <td>Triplenet Pricing INC</td>\n      <td>2883.87</td>\n      <td>10</td>\n      <td>288.45</td>\n      <td>2884.5</td>\n      <td>B093BWLBYY</td>\n      <td>Seagate Disco rígido externo USB 3.0 d...</td>\n      <td>Internacional</td>\n      <td>3</td>\n    </tr>\n    <tr>\n      <th>128</th>\n      <td>2022-08-01</td>\n      <td>https://www.amazon.com.br/Seagate-externo-serv...</td>\n      <td>AMAZON</td>\n      <td>Amazon</td>\n      <td>/gp/offer-listing/B08KSJ7Z5F/ref=dp_olp_unknow...</td>\n      <td>0</td>\n      <td>0.00</td>\n      <td>0.0</td>\n      <td>B08KSJ7Z5F</td>\n      <td>Seagate One Touch 4 TB Disco externo H...</td>\n      <td>Internacional</td>\n      <td>0</td>\n    </tr>\n    <tr>\n      <th>129</th>\n      <td>2022-08-01</td>\n      <td>https://www.amazon.com.br/Externo-1TB-Toshiba-...</td>\n      <td>AMAZON</td>\n      <td>OctoShop BR</td>\n      <td>662.29</td>\n      <td>10</td>\n      <td>66.31</td>\n      <td>663.1</td>\n      <td>B079H7VYY6</td>\n      <td>HD Externo Portátil Toshiba Canvio Adv...</td>\n      <td>Internacional</td>\n      <td>2</td>\n    </tr>\n    <tr>\n      <th>130</th>\n      <td>2022-08-01</td>\n      <td>https://www.amazon.com.br/Disco-r%C3%ADgido-ex...</td>\n      <td>AMAZON</td>\n      <td>Triplenet Pricing INC</td>\n      <td>1219.18</td>\n      <td>10</td>\n      <td>121.99</td>\n      <td>1219.9</td>\n      <td>B081VGMS8X</td>\n      <td>Disco rígido externo básico 5000 GB, p...</td>\n      <td>Internacional</td>\n      <td>0</td>\n    </tr>\n  </tbody>\n</table>\n<p>131 rows × 12 columns</p>\n</div>"
     },
     "execution_count": 57,
     "metadata": {},
     "output_type": "execute_result"
    }
   ],
   "source": [
    "Df_final"
   ]
  },
  {
   "cell_type": "code",
   "execution_count": 21,
   "outputs": [
    {
     "data": {
      "text/plain": "          DATE                                                URL MARKETPLACE  \\\n0   2022-08-01  https://www.amazon.com.br/Flash-Godox-Tt685-Ca...      AMAZON   \n1   2022-08-01  https://www.amazon.com.br/Flash-Speedlite-Godo...      AMAZON   \n2   2022-08-01  https://www.amazon.com.br/Flash-Godox-TT685S-C...      AMAZON   \n3   2022-08-01  https://www.amazon.com.br/V860III-S-disparador...      AMAZON   \n4   2022-08-01  https://www.amazon.com.br/TT685II-F-TT685IIF-W...      AMAZON   \n5   2022-08-01  https://www.amazon.com.br/V860II-S-gatilho-rec...      AMAZON   \n6   2022-08-01  https://www.amazon.com.br/Flash-Godox-Thinklit...      AMAZON   \n7   2022-08-01  https://www.amazon.com.br/V860III-S-Speedlite-...      AMAZON   \n8   2022-08-01  https://www.amazon.com.br/Flash-Tocha-Estudio-...      AMAZON   \n9   2022-08-01  https://www.amazon.com.br/Panasonic-Speedlight...      AMAZON   \n10  2022-08-01  https://www.amazon.com.br/Flash-Godox-Fv150-Li...      AMAZON   \n11  2022-08-01  https://www.amazon.com.br/TT685II-N-TT685IIN-S...      AMAZON   \n12  2022-08-01  https://www.amazon.com.br/Flash-Tocha-Estudio-...      AMAZON   \n13  2022-08-01  https://www.amazon.com.br/Godox-TT685II-C-Spee...      AMAZON   \n14  2022-08-01  https://www.amazon.com.br/TT685IIC-TT685II-C-S...      AMAZON   \n15  2022-08-01  https://www.amazon.com.br/Godox-c%C3%A2mera-Sp...      AMAZON   \n16  2022-08-01  https://www.amazon.com.br/Flash-Godox-Tt685-Ca...      AMAZON   \n17  2022-08-01  https://www.amazon.com.br/V860III-C-Disparador...      AMAZON   \n18  2022-08-01  https://www.amazon.com.br/Fujifilm-Speedlite-F...      AMAZON   \n19  2022-08-01  https://www.amazon.com.br/Flash-Godox-TT685-c%...      AMAZON   \n20  2022-08-01  https://www.amazon.com.br/Godox-TT685II-S-Spee...      AMAZON   \n21  2022-08-01  https://www.amazon.com.br/GODOX-disparador-sin...      AMAZON   \n22  2022-08-01  https://www.amazon.com.br/calau-YN600EX-RT-Pro...      AMAZON   \n23  2022-08-01  https://www.amazon.com.br/Flash-Speedlite-Yong...      AMAZON   \n24  2022-08-01  https://www.amazon.com.br/calau-Transmissor-Co...      AMAZON   \n25  2022-08-01  https://www.amazon.com.br/YONGNUO-Speedlite-at...      AMAZON   \n26  2022-08-01  https://www.amazon.com.br/Mibee-Speedlite-Reci...      AMAZON   \n27  2022-08-01  https://www.amazon.com.br/Flash-Yougnuo-Acess%...      AMAZON   \n28  2022-08-01  https://www.amazon.com.br/Aiqinhai-Substitui%C...      AMAZON   \n29  2022-08-01  https://www.amazon.com.br/Flash-Circular-Yongn...      AMAZON   \n30  2022-08-01  https://www.amazon.com.br/Mibee-Reciclagem-Vel...      AMAZON   \n31  2022-08-01  https://www.amazon.com.br/Eastdall-YN600EX-RT-...      AMAZON   \n32  2022-08-01  https://www.amazon.com.br/YONGNUO-Speedlite-At...      AMAZON   \n33  2022-08-01  https://www.amazon.com.br/Domary-YN600EX-RT-Pr...      AMAZON   \n34  2022-08-01  https://www.amazon.com.br/mingzhe-Transmissor-...      AMAZON   \n35  2022-08-01  https://www.amazon.com.br/YN600EX-RT-Professio...      AMAZON   \n36  2022-08-01  https://www.amazon.com.br/Miaoqian-YN600EX-RT-...      AMAZON   \n37  2022-08-01  https://www.amazon.com.br/Transmissor-Compat%C...      AMAZON   \n38  2022-08-01  https://www.amazon.com.br/Flash-Speedlite-Yong...      AMAZON   \n39  2022-08-01  https://www.amazon.com.br/Flash-Yougnuo-Acess%...      AMAZON   \n40  2022-08-01  https://www.amazon.com.br/Speedlite-Reciclagem...      AMAZON   \n41  2022-08-01  https://www.amazon.com.br/mingzhe-YN600EX-RT-P...      AMAZON   \n43  2022-08-01  https://www.amazon.com.br/Moniss-YN600EX-RT-Pr...      AMAZON   \n44  2022-08-01  https://www.amazon.com.br/Bonnu-YN600EX-RT-Pro...      AMAZON   \n45  2022-08-01  https://www.amazon.com.br/Flash-Speedlite-Yong...      AMAZON   \n46  2022-08-01  https://www.amazon.com.br/Aiqinhai-Speedlite-C...      AMAZON   \n47  2022-08-01  https://www.amazon.com.br/Flash-Yongnuo-Speedl...      AMAZON   \n48  2022-08-01  https://www.amazon.com.br/Bonnu-Transmissor-Co...      AMAZON   \n49  2022-08-01  https://www.amazon.com.br/Kiboule-Transmissor-...      AMAZON   \n50  2022-08-01  https://www.amazon.com.br/mingzhe-Speedlite-re...      AMAZON   \n51  2022-08-01  https://www.amazon.com.br/YN600EX-RT-Professio...      AMAZON   \n52  2022-08-01  https://www.amazon.com.br/Mibee-YN600EX-RT-Pro...      AMAZON   \n53  2022-08-01  https://www.amazon.com.br/Mibee-Transmissor-Co...      AMAZON   \n54  2022-08-01  https://www.amazon.com.br/Flash-Yongnuo-YN565E...      AMAZON   \n55  2022-08-01  https://www.amazon.com.br/LAOJIA-YN600EX-RT-Pr...      AMAZON   \n56  2022-08-01  https://www.amazon.com.br/Sailsbury-YN600EX-RT...      AMAZON   \n57  2022-08-01  https://www.amazon.com.br/Flash-Speedlite-Yong...      AMAZON   \n58  2022-08-01  https://www.amazon.com.br/Flash-Yongnuo-565EX-...      AMAZON   \n59  2022-08-01  https://www.amazon.com.br/Aiqinhai-YN600EX-RT-...      AMAZON   \n60  2022-08-01  https://www.amazon.com.br/Flash-Yongnuo-565-II...      AMAZON   \n\n                              SELLER    PRICE  PARCEL  INSTALLMENT  \\\n0                 Fênix Foto E Vídeo   999.00      10        99.90   \n1                             Amazon   515.00      10        51.50   \n2                 Pixel Equipamentos   939.99      10        94.08   \n3                          More Shot  1259.00      10       125.90   \n4                             YouTin   796.00      10        79.60   \n5                          More Shot  1199.00      10       119.90   \n6                        FOTO CENTRO   995.00      10        99.50   \n7                          More Shot  1259.00      10       125.90   \n8                        FOTO CENTRO  1399.00      10       139.90   \n9                          More Shot   689.00      10        68.90   \n10                       FOTO CENTRO  2999.00      10       299.90   \n11                            YouTin   796.00      10        79.60   \n12                       FOTO CENTRO  1071.00      10       107.10   \n13                Pixel Equipamentos   969.99      10        97.08   \n14                            YouTin   796.00      10        79.60   \n15                         More Shot  1428.00      10       142.80   \n16  GS Equipamentos de Áudio e Vídeo  1049.90      10       104.99   \n17                         More Shot  1259.00      10       125.90   \n18                         More Shot  1428.00      10       142.80   \n19                Fênix Foto E Vídeo   978.99      10        97.98   \n20                Pixel Equipamentos   969.99      10        97.08   \n21                         More Shot  1199.00      10       119.90   \n22                      Berryland-AN  1010.15      10       101.06   \n23                          QanHorse   942.00      10        94.20   \n24                      Berryland-AN   646.58      10        64.73   \n25                         More Shot   729.00      10        72.90   \n26                         quchengdu   769.89      10        77.07   \n27                            Amazon  1385.65       1         1.58   \n28                            Aleecc   713.86      10        71.44   \n29                           FULLLED   990.00      10        99.00   \n30                         quchengdu   780.89      10        78.17   \n31                      Berryland-AN  1543.27      10       154.39   \n32                         More Shot   599.00      10        59.90   \n33                           Cenhoni  1201.90      10       120.19   \n34                          Maykalin   862.75      10        86.32   \n35                          Docooler   793.00      10        79.30   \n36                           T-shell  1467.59      10       146.84   \n37                          Docooler   535.00      10        53.50   \n38         Distribuidora Cecadi LTDA  1120.00      10       112.00   \n39                          QanHorse   769.00      10        76.90   \n40                          Docooler   503.00      10        50.30   \n41                          Maykalin  1274.97      10       127.56   \n43                            Mingsa  1370.59      10       137.14   \n44                          cloudoar  1010.15      10       101.06   \n45                            coravo   688.00      10        68.80   \n46                            Aleecc   735.53      10        73.58   \n47                          QanHorse   711.70      10        71.17   \n48                          cloudoar   646.58      10        64.73   \n49                           Kiboule   545.99      10        54.68   \n50                          Maykalin   825.28      10        82.60   \n51                           Aiyujia  1108.39      10       110.92   \n52                         quchengdu  1300.89      10       130.17   \n53                         quchengdu   804.89      10        80.57   \n54                  Foto DHM Express   700.00      10        70.00   \n55                          Minimini  1104.99      10       110.58   \n56                           moedoll  1124.99      10       112.58   \n57                        SLRCOMPANY   990.00      10        99.00   \n58                            coravo   623.00      10        62.30   \n59                            Aleecc  1149.17      10       114.98   \n60                         More Shot   585.00      10        58.50   \n\n    INSTALLMENT_PAYMENT          ID  \\\n0                999.00  B07DB6H8LV   \n1                515.00  B07664WHHZ   \n2                940.80  B01GHLNRL4   \n3               1259.00  B0B1H39JWM   \n4                796.00  B09QYSY119   \n5               1199.00  B0B1H5TQDJ   \n6                995.00  B01GNZMZ26   \n7               1259.00  B09ZDRY3M1   \n8               1399.00  B07DB67F3Q   \n9                689.00  B09LCY9TP9   \n10              2999.00  B08Y956YS1   \n11               796.00  B09P86QVPM   \n12              1071.00  B07DB5Y76G   \n13               970.80  B09L4PZ3JB   \n14               796.00  B09L72JMPG   \n15              1428.00  B0B1TKHRV6   \n16              1049.90  B07DB66WP4   \n17              1259.00  B0B1DLJ39T   \n18              1428.00  B0B21455PL   \n19               979.80  B01GNZKM7Q   \n20               970.80  B09L4N35VM   \n21              1199.00  B0B1DH48X9   \n22              1010.60  B0B4NZMKZK   \n23               942.00  B00OUU7W8O   \n24               647.30  B0B4SRGS68   \n25               729.00  B01MZHVV54   \n26               770.70  B0B5GSJWJM   \n27                 1.58  B00BZ62NQC   \n28               714.40  B0B74DHK62   \n29               990.00  B07MZRJVD1   \n30               781.70  B0B5GQNV6H   \n31              1543.90  B09L8GC7DQ   \n32               599.00  B09N78FYCL   \n33              1201.90  B09GFDMWQF   \n34               863.20  B0B6MKJ93M   \n35               793.00  B0B4JP2XDR   \n36              1468.40  B09BYLMT8H   \n37               535.00  B0B17VVCLB   \n38              1120.00  B00R29OF2G   \n39               769.00  B01N21BEMD   \n40               503.00  B0B1789NMX   \n41              1275.60  B0B6MNKTKX   \n43              1371.40  B09FTC2D44   \n44              1010.60  B0B2WXD8LD   \n45               688.00  B076DX39BJ   \n46               735.80  B0B748WJWS   \n47               711.70  B01E8I6E8Q   \n48               647.30  B0B2WTQLJY   \n49               546.80  B0B454Y56Q   \n50               826.00  B0B6MYVSX5   \n51              1109.20  B0B1ZJ4J43   \n52              1301.70  B0B5GPKCVM   \n53               805.70  B0B5GQXZ1D   \n54               700.00  B07KRJGJS2   \n55              1105.80  B0B41ZBXSN   \n56              1125.80  B09W2SNZXH   \n57               990.00  B01MQTDAD8   \n58               623.00  B07V9HQMVP   \n59              1149.80  B0B7487KLJ   \n60               585.00  B07H7GCV4J   \n\n                                              PRODUCT  INTERNACIONAL  MORE  \n0           Flash Godox Tt685 N Ttl Para Camera Ca...  Internacional     2  \n1           GODOX Flash Speedlite TT560 II com Rad...  Internacional     9  \n2           Godox TT685S Thinklite TTL Flash para ...  Internacional     2  \n3           Godox V860III-S c/ X2T-S Flash de disp...  Internacional     0  \n4           Godox Flash de câmera TT685II-F TT685I...  Internacional     0  \n5           Godox V860II-S c/ X2T-S Kit de gatilho...  Internacional     0  \n6           Godox TT685C ThinkLite C de alta veloc...  Internacional     3  \n7           Godox Flash V860III-S para câmera Sony...  Internacional     0  \n8           Flash SK400II para Estúdio Fotográfico...  Internacional     7  \n9           Godox TT685II-O TT685IIO Flash de câme...  Internacional     0  \n10          Flash Godox Fv150 Hss Sync Led Light L...  Internacional     2  \n11          Godox TT685II-N TT685IIN TTL Câmera Fl...  Internacional     0  \n12          Flash Tocha Estudio Profissional SK300...  Internacional    11  \n13          Godox TT685II-C Flash Speedlite para c...  Internacional     2  \n14          Godox TT685IIC TT685II-C E-TTL Flash S...  Internacional     0  \n15          Godox Flash V1-C com X2T-C para câmera...  Internacional     0  \n16          Flash Godox Tt685 N Ttl Para Camera Ni...  Internacional     2  \n17          Godox V860III-C c/ X2T-C Disparador Fl...  Internacional     0  \n18          Godox Flash V1-F c/ X2T-F para câmera ...  Internacional     0  \n19          Flash Godox TT685 TTL para câmeras Mar...  Internacional     2  \n20          Godox TT685II-S Flash Speedlite para c...  Internacional     0  \n21          GODOX Kit V860II-C com disparador X2T-...  Internacional     0  \n22          calau YN600EX-RT II Professional criat...  Internacional     0  \n23          YONGNUO YN600EX-RT YN600-EX-RT Auto TT...  Internacional     5  \n24          calau YN-E3-RT II Transmissor Flash Sp...  Internacional     0  \n25          YONGNUO Flash Speedlite sem fio atuali...  Internacional     0  \n26          Mibee YN565EX III/N Sem Fio TTL Escrav...  Internacional     0  \n27          Flash Speedlite YN-565EX N, Yougnuo, A...  Internacional     0  \n28          Aiqinhai Substituição da lâmina de lâm...  Internacional     0  \n29          Flash Circular Yongnuo YN-14EX II TTL ...  Internacional     9  \n30          Mibee YN565EX III sem fio TTL Slave Fl...  Internacional     0  \n31          Eastdall YN600EX-RT II Professional cr...  Internacional     0  \n32          YONGNUO YN565EX III com difusor e filt...  Internacional     0  \n33          Domary YN600EX-RT II Profissional Crea...  Internacional     0  \n34          mingzhe YN-E3-RT II Transmissor de Fla...  Internacional     0  \n35          YN600EX-RT II Professional criativa TT...  Internacional     0  \n36          Miaoqian YN600EX-RT II Profissional Cr...  Internacional     0  \n37          YN-E3-RT II Transmissor Flash Speedlit...  Internacional     0  \n38          Flash Speedlite Yongnuo YN-600EX-RT pa...  Internacional     0  \n39          Flash Speedlite YN600EX-RT II, Yougnuo...  Internacional     9  \n40          YN565EX III/N Sem Fio TTL Escravo Flas...  Internacional     0  \n41          mingzhe YN600EX-RT II Profissional Cri...  Internacional     0  \n43          Moniss YN600EX-RT II Profissional Crea...  Internacional     0  \n44          Bonnu YN600EX-RT II Professional criat...  Internacional     0  \n45          Flash Speedlite Yongnuo Yn-568ex Iii p...  Internacional     5  \n46          Aiqinhai YN-E3-RT II Flash Speedlite n...  Internacional     0  \n47          YONGNUO YN685 GN60 2.4G System ITTL HS...  Internacional     3  \n48          Bonnu YN-E3-RT II Transmissor Flash Sp...  Internacional     0  \n49          Kiboule YN-E3-RT II Transmissor de Fla...  Internacional     0  \n50          mingzhe YN565EX III/N Flash escravo TT...  Internacional     0  \n51          YN600EX-RT II Professional criativa TT...  Internacional     0  \n52          Mibee YN600EX-RT II Professional criat...  Internacional     0  \n53          Mibee YN-E3-RT II Transmissor Flash Sp...  Internacional     0  \n54          Flash Yongnuo YN565EX III para Canon c...  Internacional     3  \n55          LAOJIA Flash TTL,YN600EX-RT II Profess...  Internacional     0  \n56          Flash Ttl,Sailsbury YN600EX-RT II Prof...  Internacional     0  \n57          YONGNUO YN968EX-RT YN968EX GN60 LED Fl...  Internacional     6  \n58          Flash Yongnuo 565EX III para Nikon         Internacional     3  \n59          Aiqinhai YN600EX-RT II Professional cr...  Internacional     0  \n60          Flash Yongnuo YN 565 EX III Speedlite ...  Internacional     8  ",
      "text/html": "<div>\n<style scoped>\n    .dataframe tbody tr th:only-of-type {\n        vertical-align: middle;\n    }\n\n    .dataframe tbody tr th {\n        vertical-align: top;\n    }\n\n    .dataframe thead th {\n        text-align: right;\n    }\n</style>\n<table border=\"1\" class=\"dataframe\">\n  <thead>\n    <tr style=\"text-align: right;\">\n      <th></th>\n      <th>DATE</th>\n      <th>URL</th>\n      <th>MARKETPLACE</th>\n      <th>SELLER</th>\n      <th>PRICE</th>\n      <th>PARCEL</th>\n      <th>INSTALLMENT</th>\n      <th>INSTALLMENT_PAYMENT</th>\n      <th>ID</th>\n      <th>PRODUCT</th>\n      <th>INTERNACIONAL</th>\n      <th>MORE</th>\n    </tr>\n  </thead>\n  <tbody>\n    <tr>\n      <th>0</th>\n      <td>2022-08-01</td>\n      <td>https://www.amazon.com.br/Flash-Godox-Tt685-Ca...</td>\n      <td>AMAZON</td>\n      <td>Fênix Foto E Vídeo</td>\n      <td>999.00</td>\n      <td>10</td>\n      <td>99.90</td>\n      <td>999.00</td>\n      <td>B07DB6H8LV</td>\n      <td>Flash Godox Tt685 N Ttl Para Camera Ca...</td>\n      <td>Internacional</td>\n      <td>2</td>\n    </tr>\n    <tr>\n      <th>1</th>\n      <td>2022-08-01</td>\n      <td>https://www.amazon.com.br/Flash-Speedlite-Godo...</td>\n      <td>AMAZON</td>\n      <td>Amazon</td>\n      <td>515.00</td>\n      <td>10</td>\n      <td>51.50</td>\n      <td>515.00</td>\n      <td>B07664WHHZ</td>\n      <td>GODOX Flash Speedlite TT560 II com Rad...</td>\n      <td>Internacional</td>\n      <td>9</td>\n    </tr>\n    <tr>\n      <th>2</th>\n      <td>2022-08-01</td>\n      <td>https://www.amazon.com.br/Flash-Godox-TT685S-C...</td>\n      <td>AMAZON</td>\n      <td>Pixel Equipamentos</td>\n      <td>939.99</td>\n      <td>10</td>\n      <td>94.08</td>\n      <td>940.80</td>\n      <td>B01GHLNRL4</td>\n      <td>Godox TT685S Thinklite TTL Flash para ...</td>\n      <td>Internacional</td>\n      <td>2</td>\n    </tr>\n    <tr>\n      <th>3</th>\n      <td>2022-08-01</td>\n      <td>https://www.amazon.com.br/V860III-S-disparador...</td>\n      <td>AMAZON</td>\n      <td>More Shot</td>\n      <td>1259.00</td>\n      <td>10</td>\n      <td>125.90</td>\n      <td>1259.00</td>\n      <td>B0B1H39JWM</td>\n      <td>Godox V860III-S c/ X2T-S Flash de disp...</td>\n      <td>Internacional</td>\n      <td>0</td>\n    </tr>\n    <tr>\n      <th>4</th>\n      <td>2022-08-01</td>\n      <td>https://www.amazon.com.br/TT685II-F-TT685IIF-W...</td>\n      <td>AMAZON</td>\n      <td>YouTin</td>\n      <td>796.00</td>\n      <td>10</td>\n      <td>79.60</td>\n      <td>796.00</td>\n      <td>B09QYSY119</td>\n      <td>Godox Flash de câmera TT685II-F TT685I...</td>\n      <td>Internacional</td>\n      <td>0</td>\n    </tr>\n    <tr>\n      <th>5</th>\n      <td>2022-08-01</td>\n      <td>https://www.amazon.com.br/V860II-S-gatilho-rec...</td>\n      <td>AMAZON</td>\n      <td>More Shot</td>\n      <td>1199.00</td>\n      <td>10</td>\n      <td>119.90</td>\n      <td>1199.00</td>\n      <td>B0B1H5TQDJ</td>\n      <td>Godox V860II-S c/ X2T-S Kit de gatilho...</td>\n      <td>Internacional</td>\n      <td>0</td>\n    </tr>\n    <tr>\n      <th>6</th>\n      <td>2022-08-01</td>\n      <td>https://www.amazon.com.br/Flash-Godox-Thinklit...</td>\n      <td>AMAZON</td>\n      <td>FOTO CENTRO</td>\n      <td>995.00</td>\n      <td>10</td>\n      <td>99.50</td>\n      <td>995.00</td>\n      <td>B01GNZMZ26</td>\n      <td>Godox TT685C ThinkLite C de alta veloc...</td>\n      <td>Internacional</td>\n      <td>3</td>\n    </tr>\n    <tr>\n      <th>7</th>\n      <td>2022-08-01</td>\n      <td>https://www.amazon.com.br/V860III-S-Speedlite-...</td>\n      <td>AMAZON</td>\n      <td>More Shot</td>\n      <td>1259.00</td>\n      <td>10</td>\n      <td>125.90</td>\n      <td>1259.00</td>\n      <td>B09ZDRY3M1</td>\n      <td>Godox Flash V860III-S para câmera Sony...</td>\n      <td>Internacional</td>\n      <td>0</td>\n    </tr>\n    <tr>\n      <th>8</th>\n      <td>2022-08-01</td>\n      <td>https://www.amazon.com.br/Flash-Tocha-Estudio-...</td>\n      <td>AMAZON</td>\n      <td>FOTO CENTRO</td>\n      <td>1399.00</td>\n      <td>10</td>\n      <td>139.90</td>\n      <td>1399.00</td>\n      <td>B07DB67F3Q</td>\n      <td>Flash SK400II para Estúdio Fotográfico...</td>\n      <td>Internacional</td>\n      <td>7</td>\n    </tr>\n    <tr>\n      <th>9</th>\n      <td>2022-08-01</td>\n      <td>https://www.amazon.com.br/Panasonic-Speedlight...</td>\n      <td>AMAZON</td>\n      <td>More Shot</td>\n      <td>689.00</td>\n      <td>10</td>\n      <td>68.90</td>\n      <td>689.00</td>\n      <td>B09LCY9TP9</td>\n      <td>Godox TT685II-O TT685IIO Flash de câme...</td>\n      <td>Internacional</td>\n      <td>0</td>\n    </tr>\n    <tr>\n      <th>10</th>\n      <td>2022-08-01</td>\n      <td>https://www.amazon.com.br/Flash-Godox-Fv150-Li...</td>\n      <td>AMAZON</td>\n      <td>FOTO CENTRO</td>\n      <td>2999.00</td>\n      <td>10</td>\n      <td>299.90</td>\n      <td>2999.00</td>\n      <td>B08Y956YS1</td>\n      <td>Flash Godox Fv150 Hss Sync Led Light L...</td>\n      <td>Internacional</td>\n      <td>2</td>\n    </tr>\n    <tr>\n      <th>11</th>\n      <td>2022-08-01</td>\n      <td>https://www.amazon.com.br/TT685II-N-TT685IIN-S...</td>\n      <td>AMAZON</td>\n      <td>YouTin</td>\n      <td>796.00</td>\n      <td>10</td>\n      <td>79.60</td>\n      <td>796.00</td>\n      <td>B09P86QVPM</td>\n      <td>Godox TT685II-N TT685IIN TTL Câmera Fl...</td>\n      <td>Internacional</td>\n      <td>0</td>\n    </tr>\n    <tr>\n      <th>12</th>\n      <td>2022-08-01</td>\n      <td>https://www.amazon.com.br/Flash-Tocha-Estudio-...</td>\n      <td>AMAZON</td>\n      <td>FOTO CENTRO</td>\n      <td>1071.00</td>\n      <td>10</td>\n      <td>107.10</td>\n      <td>1071.00</td>\n      <td>B07DB5Y76G</td>\n      <td>Flash Tocha Estudio Profissional SK300...</td>\n      <td>Internacional</td>\n      <td>11</td>\n    </tr>\n    <tr>\n      <th>13</th>\n      <td>2022-08-01</td>\n      <td>https://www.amazon.com.br/Godox-TT685II-C-Spee...</td>\n      <td>AMAZON</td>\n      <td>Pixel Equipamentos</td>\n      <td>969.99</td>\n      <td>10</td>\n      <td>97.08</td>\n      <td>970.80</td>\n      <td>B09L4PZ3JB</td>\n      <td>Godox TT685II-C Flash Speedlite para c...</td>\n      <td>Internacional</td>\n      <td>2</td>\n    </tr>\n    <tr>\n      <th>14</th>\n      <td>2022-08-01</td>\n      <td>https://www.amazon.com.br/TT685IIC-TT685II-C-S...</td>\n      <td>AMAZON</td>\n      <td>YouTin</td>\n      <td>796.00</td>\n      <td>10</td>\n      <td>79.60</td>\n      <td>796.00</td>\n      <td>B09L72JMPG</td>\n      <td>Godox TT685IIC TT685II-C E-TTL Flash S...</td>\n      <td>Internacional</td>\n      <td>0</td>\n    </tr>\n    <tr>\n      <th>15</th>\n      <td>2022-08-01</td>\n      <td>https://www.amazon.com.br/Godox-c%C3%A2mera-Sp...</td>\n      <td>AMAZON</td>\n      <td>More Shot</td>\n      <td>1428.00</td>\n      <td>10</td>\n      <td>142.80</td>\n      <td>1428.00</td>\n      <td>B0B1TKHRV6</td>\n      <td>Godox Flash V1-C com X2T-C para câmera...</td>\n      <td>Internacional</td>\n      <td>0</td>\n    </tr>\n    <tr>\n      <th>16</th>\n      <td>2022-08-01</td>\n      <td>https://www.amazon.com.br/Flash-Godox-Tt685-Ca...</td>\n      <td>AMAZON</td>\n      <td>GS Equipamentos de Áudio e Vídeo</td>\n      <td>1049.90</td>\n      <td>10</td>\n      <td>104.99</td>\n      <td>1049.90</td>\n      <td>B07DB66WP4</td>\n      <td>Flash Godox Tt685 N Ttl Para Camera Ni...</td>\n      <td>Internacional</td>\n      <td>2</td>\n    </tr>\n    <tr>\n      <th>17</th>\n      <td>2022-08-01</td>\n      <td>https://www.amazon.com.br/V860III-C-Disparador...</td>\n      <td>AMAZON</td>\n      <td>More Shot</td>\n      <td>1259.00</td>\n      <td>10</td>\n      <td>125.90</td>\n      <td>1259.00</td>\n      <td>B0B1DLJ39T</td>\n      <td>Godox V860III-C c/ X2T-C Disparador Fl...</td>\n      <td>Internacional</td>\n      <td>0</td>\n    </tr>\n    <tr>\n      <th>18</th>\n      <td>2022-08-01</td>\n      <td>https://www.amazon.com.br/Fujifilm-Speedlite-F...</td>\n      <td>AMAZON</td>\n      <td>More Shot</td>\n      <td>1428.00</td>\n      <td>10</td>\n      <td>142.80</td>\n      <td>1428.00</td>\n      <td>B0B21455PL</td>\n      <td>Godox Flash V1-F c/ X2T-F para câmera ...</td>\n      <td>Internacional</td>\n      <td>0</td>\n    </tr>\n    <tr>\n      <th>19</th>\n      <td>2022-08-01</td>\n      <td>https://www.amazon.com.br/Flash-Godox-TT685-c%...</td>\n      <td>AMAZON</td>\n      <td>Fênix Foto E Vídeo</td>\n      <td>978.99</td>\n      <td>10</td>\n      <td>97.98</td>\n      <td>979.80</td>\n      <td>B01GNZKM7Q</td>\n      <td>Flash Godox TT685 TTL para câmeras Mar...</td>\n      <td>Internacional</td>\n      <td>2</td>\n    </tr>\n    <tr>\n      <th>20</th>\n      <td>2022-08-01</td>\n      <td>https://www.amazon.com.br/Godox-TT685II-S-Spee...</td>\n      <td>AMAZON</td>\n      <td>Pixel Equipamentos</td>\n      <td>969.99</td>\n      <td>10</td>\n      <td>97.08</td>\n      <td>970.80</td>\n      <td>B09L4N35VM</td>\n      <td>Godox TT685II-S Flash Speedlite para c...</td>\n      <td>Internacional</td>\n      <td>0</td>\n    </tr>\n    <tr>\n      <th>21</th>\n      <td>2022-08-01</td>\n      <td>https://www.amazon.com.br/GODOX-disparador-sin...</td>\n      <td>AMAZON</td>\n      <td>More Shot</td>\n      <td>1199.00</td>\n      <td>10</td>\n      <td>119.90</td>\n      <td>1199.00</td>\n      <td>B0B1DH48X9</td>\n      <td>GODOX Kit V860II-C com disparador X2T-...</td>\n      <td>Internacional</td>\n      <td>0</td>\n    </tr>\n    <tr>\n      <th>22</th>\n      <td>2022-08-01</td>\n      <td>https://www.amazon.com.br/calau-YN600EX-RT-Pro...</td>\n      <td>AMAZON</td>\n      <td>Berryland-AN</td>\n      <td>1010.15</td>\n      <td>10</td>\n      <td>101.06</td>\n      <td>1010.60</td>\n      <td>B0B4NZMKZK</td>\n      <td>calau YN600EX-RT II Professional criat...</td>\n      <td>Internacional</td>\n      <td>0</td>\n    </tr>\n    <tr>\n      <th>23</th>\n      <td>2022-08-01</td>\n      <td>https://www.amazon.com.br/Flash-Speedlite-Yong...</td>\n      <td>AMAZON</td>\n      <td>QanHorse</td>\n      <td>942.00</td>\n      <td>10</td>\n      <td>94.20</td>\n      <td>942.00</td>\n      <td>B00OUU7W8O</td>\n      <td>YONGNUO YN600EX-RT YN600-EX-RT Auto TT...</td>\n      <td>Internacional</td>\n      <td>5</td>\n    </tr>\n    <tr>\n      <th>24</th>\n      <td>2022-08-01</td>\n      <td>https://www.amazon.com.br/calau-Transmissor-Co...</td>\n      <td>AMAZON</td>\n      <td>Berryland-AN</td>\n      <td>646.58</td>\n      <td>10</td>\n      <td>64.73</td>\n      <td>647.30</td>\n      <td>B0B4SRGS68</td>\n      <td>calau YN-E3-RT II Transmissor Flash Sp...</td>\n      <td>Internacional</td>\n      <td>0</td>\n    </tr>\n    <tr>\n      <th>25</th>\n      <td>2022-08-01</td>\n      <td>https://www.amazon.com.br/YONGNUO-Speedlite-at...</td>\n      <td>AMAZON</td>\n      <td>More Shot</td>\n      <td>729.00</td>\n      <td>10</td>\n      <td>72.90</td>\n      <td>729.00</td>\n      <td>B01MZHVV54</td>\n      <td>YONGNUO Flash Speedlite sem fio atuali...</td>\n      <td>Internacional</td>\n      <td>0</td>\n    </tr>\n    <tr>\n      <th>26</th>\n      <td>2022-08-01</td>\n      <td>https://www.amazon.com.br/Mibee-Speedlite-Reci...</td>\n      <td>AMAZON</td>\n      <td>quchengdu</td>\n      <td>769.89</td>\n      <td>10</td>\n      <td>77.07</td>\n      <td>770.70</td>\n      <td>B0B5GSJWJM</td>\n      <td>Mibee YN565EX III/N Sem Fio TTL Escrav...</td>\n      <td>Internacional</td>\n      <td>0</td>\n    </tr>\n    <tr>\n      <th>27</th>\n      <td>2022-08-01</td>\n      <td>https://www.amazon.com.br/Flash-Yougnuo-Acess%...</td>\n      <td>AMAZON</td>\n      <td>Amazon</td>\n      <td>1385.65</td>\n      <td>1</td>\n      <td>1.58</td>\n      <td>1.58</td>\n      <td>B00BZ62NQC</td>\n      <td>Flash Speedlite YN-565EX N, Yougnuo, A...</td>\n      <td>Internacional</td>\n      <td>0</td>\n    </tr>\n    <tr>\n      <th>28</th>\n      <td>2022-08-01</td>\n      <td>https://www.amazon.com.br/Aiqinhai-Substitui%C...</td>\n      <td>AMAZON</td>\n      <td>Aleecc</td>\n      <td>713.86</td>\n      <td>10</td>\n      <td>71.44</td>\n      <td>714.40</td>\n      <td>B0B74DHK62</td>\n      <td>Aiqinhai Substituição da lâmina de lâm...</td>\n      <td>Internacional</td>\n      <td>0</td>\n    </tr>\n    <tr>\n      <th>29</th>\n      <td>2022-08-01</td>\n      <td>https://www.amazon.com.br/Flash-Circular-Yongn...</td>\n      <td>AMAZON</td>\n      <td>FULLLED</td>\n      <td>990.00</td>\n      <td>10</td>\n      <td>99.00</td>\n      <td>990.00</td>\n      <td>B07MZRJVD1</td>\n      <td>Flash Circular Yongnuo YN-14EX II TTL ...</td>\n      <td>Internacional</td>\n      <td>9</td>\n    </tr>\n    <tr>\n      <th>30</th>\n      <td>2022-08-01</td>\n      <td>https://www.amazon.com.br/Mibee-Reciclagem-Vel...</td>\n      <td>AMAZON</td>\n      <td>quchengdu</td>\n      <td>780.89</td>\n      <td>10</td>\n      <td>78.17</td>\n      <td>781.70</td>\n      <td>B0B5GQNV6H</td>\n      <td>Mibee YN565EX III sem fio TTL Slave Fl...</td>\n      <td>Internacional</td>\n      <td>0</td>\n    </tr>\n    <tr>\n      <th>31</th>\n      <td>2022-08-01</td>\n      <td>https://www.amazon.com.br/Eastdall-YN600EX-RT-...</td>\n      <td>AMAZON</td>\n      <td>Berryland-AN</td>\n      <td>1543.27</td>\n      <td>10</td>\n      <td>154.39</td>\n      <td>1543.90</td>\n      <td>B09L8GC7DQ</td>\n      <td>Eastdall YN600EX-RT II Professional cr...</td>\n      <td>Internacional</td>\n      <td>0</td>\n    </tr>\n    <tr>\n      <th>32</th>\n      <td>2022-08-01</td>\n      <td>https://www.amazon.com.br/YONGNUO-Speedlite-At...</td>\n      <td>AMAZON</td>\n      <td>More Shot</td>\n      <td>599.00</td>\n      <td>10</td>\n      <td>59.90</td>\n      <td>599.00</td>\n      <td>B09N78FYCL</td>\n      <td>YONGNUO YN565EX III com difusor e filt...</td>\n      <td>Internacional</td>\n      <td>0</td>\n    </tr>\n    <tr>\n      <th>33</th>\n      <td>2022-08-01</td>\n      <td>https://www.amazon.com.br/Domary-YN600EX-RT-Pr...</td>\n      <td>AMAZON</td>\n      <td>Cenhoni</td>\n      <td>1201.90</td>\n      <td>10</td>\n      <td>120.19</td>\n      <td>1201.90</td>\n      <td>B09GFDMWQF</td>\n      <td>Domary YN600EX-RT II Profissional Crea...</td>\n      <td>Internacional</td>\n      <td>0</td>\n    </tr>\n    <tr>\n      <th>34</th>\n      <td>2022-08-01</td>\n      <td>https://www.amazon.com.br/mingzhe-Transmissor-...</td>\n      <td>AMAZON</td>\n      <td>Maykalin</td>\n      <td>862.75</td>\n      <td>10</td>\n      <td>86.32</td>\n      <td>863.20</td>\n      <td>B0B6MKJ93M</td>\n      <td>mingzhe YN-E3-RT II Transmissor de Fla...</td>\n      <td>Internacional</td>\n      <td>0</td>\n    </tr>\n    <tr>\n      <th>35</th>\n      <td>2022-08-01</td>\n      <td>https://www.amazon.com.br/YN600EX-RT-Professio...</td>\n      <td>AMAZON</td>\n      <td>Docooler</td>\n      <td>793.00</td>\n      <td>10</td>\n      <td>79.30</td>\n      <td>793.00</td>\n      <td>B0B4JP2XDR</td>\n      <td>YN600EX-RT II Professional criativa TT...</td>\n      <td>Internacional</td>\n      <td>0</td>\n    </tr>\n    <tr>\n      <th>36</th>\n      <td>2022-08-01</td>\n      <td>https://www.amazon.com.br/Miaoqian-YN600EX-RT-...</td>\n      <td>AMAZON</td>\n      <td>T-shell</td>\n      <td>1467.59</td>\n      <td>10</td>\n      <td>146.84</td>\n      <td>1468.40</td>\n      <td>B09BYLMT8H</td>\n      <td>Miaoqian YN600EX-RT II Profissional Cr...</td>\n      <td>Internacional</td>\n      <td>0</td>\n    </tr>\n    <tr>\n      <th>37</th>\n      <td>2022-08-01</td>\n      <td>https://www.amazon.com.br/Transmissor-Compat%C...</td>\n      <td>AMAZON</td>\n      <td>Docooler</td>\n      <td>535.00</td>\n      <td>10</td>\n      <td>53.50</td>\n      <td>535.00</td>\n      <td>B0B17VVCLB</td>\n      <td>YN-E3-RT II Transmissor Flash Speedlit...</td>\n      <td>Internacional</td>\n      <td>0</td>\n    </tr>\n    <tr>\n      <th>38</th>\n      <td>2022-08-01</td>\n      <td>https://www.amazon.com.br/Flash-Speedlite-Yong...</td>\n      <td>AMAZON</td>\n      <td>Distribuidora Cecadi LTDA</td>\n      <td>1120.00</td>\n      <td>10</td>\n      <td>112.00</td>\n      <td>1120.00</td>\n      <td>B00R29OF2G</td>\n      <td>Flash Speedlite Yongnuo YN-600EX-RT pa...</td>\n      <td>Internacional</td>\n      <td>0</td>\n    </tr>\n    <tr>\n      <th>39</th>\n      <td>2022-08-01</td>\n      <td>https://www.amazon.com.br/Flash-Yougnuo-Acess%...</td>\n      <td>AMAZON</td>\n      <td>QanHorse</td>\n      <td>769.00</td>\n      <td>10</td>\n      <td>76.90</td>\n      <td>769.00</td>\n      <td>B01N21BEMD</td>\n      <td>Flash Speedlite YN600EX-RT II, Yougnuo...</td>\n      <td>Internacional</td>\n      <td>9</td>\n    </tr>\n    <tr>\n      <th>40</th>\n      <td>2022-08-01</td>\n      <td>https://www.amazon.com.br/Speedlite-Reciclagem...</td>\n      <td>AMAZON</td>\n      <td>Docooler</td>\n      <td>503.00</td>\n      <td>10</td>\n      <td>50.30</td>\n      <td>503.00</td>\n      <td>B0B1789NMX</td>\n      <td>YN565EX III/N Sem Fio TTL Escravo Flas...</td>\n      <td>Internacional</td>\n      <td>0</td>\n    </tr>\n    <tr>\n      <th>41</th>\n      <td>2022-08-01</td>\n      <td>https://www.amazon.com.br/mingzhe-YN600EX-RT-P...</td>\n      <td>AMAZON</td>\n      <td>Maykalin</td>\n      <td>1274.97</td>\n      <td>10</td>\n      <td>127.56</td>\n      <td>1275.60</td>\n      <td>B0B6MNKTKX</td>\n      <td>mingzhe YN600EX-RT II Profissional Cri...</td>\n      <td>Internacional</td>\n      <td>0</td>\n    </tr>\n    <tr>\n      <th>43</th>\n      <td>2022-08-01</td>\n      <td>https://www.amazon.com.br/Moniss-YN600EX-RT-Pr...</td>\n      <td>AMAZON</td>\n      <td>Mingsa</td>\n      <td>1370.59</td>\n      <td>10</td>\n      <td>137.14</td>\n      <td>1371.40</td>\n      <td>B09FTC2D44</td>\n      <td>Moniss YN600EX-RT II Profissional Crea...</td>\n      <td>Internacional</td>\n      <td>0</td>\n    </tr>\n    <tr>\n      <th>44</th>\n      <td>2022-08-01</td>\n      <td>https://www.amazon.com.br/Bonnu-YN600EX-RT-Pro...</td>\n      <td>AMAZON</td>\n      <td>cloudoar</td>\n      <td>1010.15</td>\n      <td>10</td>\n      <td>101.06</td>\n      <td>1010.60</td>\n      <td>B0B2WXD8LD</td>\n      <td>Bonnu YN600EX-RT II Professional criat...</td>\n      <td>Internacional</td>\n      <td>0</td>\n    </tr>\n    <tr>\n      <th>45</th>\n      <td>2022-08-01</td>\n      <td>https://www.amazon.com.br/Flash-Speedlite-Yong...</td>\n      <td>AMAZON</td>\n      <td>coravo</td>\n      <td>688.00</td>\n      <td>10</td>\n      <td>68.80</td>\n      <td>688.00</td>\n      <td>B076DX39BJ</td>\n      <td>Flash Speedlite Yongnuo Yn-568ex Iii p...</td>\n      <td>Internacional</td>\n      <td>5</td>\n    </tr>\n    <tr>\n      <th>46</th>\n      <td>2022-08-01</td>\n      <td>https://www.amazon.com.br/Aiqinhai-Speedlite-C...</td>\n      <td>AMAZON</td>\n      <td>Aleecc</td>\n      <td>735.53</td>\n      <td>10</td>\n      <td>73.58</td>\n      <td>735.80</td>\n      <td>B0B748WJWS</td>\n      <td>Aiqinhai YN-E3-RT II Flash Speedlite n...</td>\n      <td>Internacional</td>\n      <td>0</td>\n    </tr>\n    <tr>\n      <th>47</th>\n      <td>2022-08-01</td>\n      <td>https://www.amazon.com.br/Flash-Yongnuo-Speedl...</td>\n      <td>AMAZON</td>\n      <td>QanHorse</td>\n      <td>711.70</td>\n      <td>10</td>\n      <td>71.17</td>\n      <td>711.70</td>\n      <td>B01E8I6E8Q</td>\n      <td>YONGNUO YN685 GN60 2.4G System ITTL HS...</td>\n      <td>Internacional</td>\n      <td>3</td>\n    </tr>\n    <tr>\n      <th>48</th>\n      <td>2022-08-01</td>\n      <td>https://www.amazon.com.br/Bonnu-Transmissor-Co...</td>\n      <td>AMAZON</td>\n      <td>cloudoar</td>\n      <td>646.58</td>\n      <td>10</td>\n      <td>64.73</td>\n      <td>647.30</td>\n      <td>B0B2WTQLJY</td>\n      <td>Bonnu YN-E3-RT II Transmissor Flash Sp...</td>\n      <td>Internacional</td>\n      <td>0</td>\n    </tr>\n    <tr>\n      <th>49</th>\n      <td>2022-08-01</td>\n      <td>https://www.amazon.com.br/Kiboule-Transmissor-...</td>\n      <td>AMAZON</td>\n      <td>Kiboule</td>\n      <td>545.99</td>\n      <td>10</td>\n      <td>54.68</td>\n      <td>546.80</td>\n      <td>B0B454Y56Q</td>\n      <td>Kiboule YN-E3-RT II Transmissor de Fla...</td>\n      <td>Internacional</td>\n      <td>0</td>\n    </tr>\n    <tr>\n      <th>50</th>\n      <td>2022-08-01</td>\n      <td>https://www.amazon.com.br/mingzhe-Speedlite-re...</td>\n      <td>AMAZON</td>\n      <td>Maykalin</td>\n      <td>825.28</td>\n      <td>10</td>\n      <td>82.60</td>\n      <td>826.00</td>\n      <td>B0B6MYVSX5</td>\n      <td>mingzhe YN565EX III/N Flash escravo TT...</td>\n      <td>Internacional</td>\n      <td>0</td>\n    </tr>\n    <tr>\n      <th>51</th>\n      <td>2022-08-01</td>\n      <td>https://www.amazon.com.br/YN600EX-RT-Professio...</td>\n      <td>AMAZON</td>\n      <td>Aiyujia</td>\n      <td>1108.39</td>\n      <td>10</td>\n      <td>110.92</td>\n      <td>1109.20</td>\n      <td>B0B1ZJ4J43</td>\n      <td>YN600EX-RT II Professional criativa TT...</td>\n      <td>Internacional</td>\n      <td>0</td>\n    </tr>\n    <tr>\n      <th>52</th>\n      <td>2022-08-01</td>\n      <td>https://www.amazon.com.br/Mibee-YN600EX-RT-Pro...</td>\n      <td>AMAZON</td>\n      <td>quchengdu</td>\n      <td>1300.89</td>\n      <td>10</td>\n      <td>130.17</td>\n      <td>1301.70</td>\n      <td>B0B5GPKCVM</td>\n      <td>Mibee YN600EX-RT II Professional criat...</td>\n      <td>Internacional</td>\n      <td>0</td>\n    </tr>\n    <tr>\n      <th>53</th>\n      <td>2022-08-01</td>\n      <td>https://www.amazon.com.br/Mibee-Transmissor-Co...</td>\n      <td>AMAZON</td>\n      <td>quchengdu</td>\n      <td>804.89</td>\n      <td>10</td>\n      <td>80.57</td>\n      <td>805.70</td>\n      <td>B0B5GQXZ1D</td>\n      <td>Mibee YN-E3-RT II Transmissor Flash Sp...</td>\n      <td>Internacional</td>\n      <td>0</td>\n    </tr>\n    <tr>\n      <th>54</th>\n      <td>2022-08-01</td>\n      <td>https://www.amazon.com.br/Flash-Yongnuo-YN565E...</td>\n      <td>AMAZON</td>\n      <td>Foto DHM Express</td>\n      <td>700.00</td>\n      <td>10</td>\n      <td>70.00</td>\n      <td>700.00</td>\n      <td>B07KRJGJS2</td>\n      <td>Flash Yongnuo YN565EX III para Canon c...</td>\n      <td>Internacional</td>\n      <td>3</td>\n    </tr>\n    <tr>\n      <th>55</th>\n      <td>2022-08-01</td>\n      <td>https://www.amazon.com.br/LAOJIA-YN600EX-RT-Pr...</td>\n      <td>AMAZON</td>\n      <td>Minimini</td>\n      <td>1104.99</td>\n      <td>10</td>\n      <td>110.58</td>\n      <td>1105.80</td>\n      <td>B0B41ZBXSN</td>\n      <td>LAOJIA Flash TTL,YN600EX-RT II Profess...</td>\n      <td>Internacional</td>\n      <td>0</td>\n    </tr>\n    <tr>\n      <th>56</th>\n      <td>2022-08-01</td>\n      <td>https://www.amazon.com.br/Sailsbury-YN600EX-RT...</td>\n      <td>AMAZON</td>\n      <td>moedoll</td>\n      <td>1124.99</td>\n      <td>10</td>\n      <td>112.58</td>\n      <td>1125.80</td>\n      <td>B09W2SNZXH</td>\n      <td>Flash Ttl,Sailsbury YN600EX-RT II Prof...</td>\n      <td>Internacional</td>\n      <td>0</td>\n    </tr>\n    <tr>\n      <th>57</th>\n      <td>2022-08-01</td>\n      <td>https://www.amazon.com.br/Flash-Speedlite-Yong...</td>\n      <td>AMAZON</td>\n      <td>SLRCOMPANY</td>\n      <td>990.00</td>\n      <td>10</td>\n      <td>99.00</td>\n      <td>990.00</td>\n      <td>B01MQTDAD8</td>\n      <td>YONGNUO YN968EX-RT YN968EX GN60 LED Fl...</td>\n      <td>Internacional</td>\n      <td>6</td>\n    </tr>\n    <tr>\n      <th>58</th>\n      <td>2022-08-01</td>\n      <td>https://www.amazon.com.br/Flash-Yongnuo-565EX-...</td>\n      <td>AMAZON</td>\n      <td>coravo</td>\n      <td>623.00</td>\n      <td>10</td>\n      <td>62.30</td>\n      <td>623.00</td>\n      <td>B07V9HQMVP</td>\n      <td>Flash Yongnuo 565EX III para Nikon</td>\n      <td>Internacional</td>\n      <td>3</td>\n    </tr>\n    <tr>\n      <th>59</th>\n      <td>2022-08-01</td>\n      <td>https://www.amazon.com.br/Aiqinhai-YN600EX-RT-...</td>\n      <td>AMAZON</td>\n      <td>Aleecc</td>\n      <td>1149.17</td>\n      <td>10</td>\n      <td>114.98</td>\n      <td>1149.80</td>\n      <td>B0B7487KLJ</td>\n      <td>Aiqinhai YN600EX-RT II Professional cr...</td>\n      <td>Internacional</td>\n      <td>0</td>\n    </tr>\n    <tr>\n      <th>60</th>\n      <td>2022-08-01</td>\n      <td>https://www.amazon.com.br/Flash-Yongnuo-565-II...</td>\n      <td>AMAZON</td>\n      <td>More Shot</td>\n      <td>585.00</td>\n      <td>10</td>\n      <td>58.50</td>\n      <td>585.00</td>\n      <td>B07H7GCV4J</td>\n      <td>Flash Yongnuo YN 565 EX III Speedlite ...</td>\n      <td>Internacional</td>\n      <td>8</td>\n    </tr>\n  </tbody>\n</table>\n</div>"
     },
     "execution_count": 21,
     "metadata": {},
     "output_type": "execute_result"
    }
   ],
   "source": [
    "Df_final = Df_final[Df_final['PRICE'].str.len() < 10]\n",
    "Df_final"
   ],
   "metadata": {
    "collapsed": false,
    "pycharm": {
     "name": "#%%\n"
    }
   }
  },
  {
   "cell_type": "code",
   "execution_count": 58,
   "outputs": [
    {
     "data": {
      "text/plain": "           DATE                                                URL  \\\n0    2022-08-01  https://www.amazon.com.br/Toshiba-Canvio-Advan...   \n1    2022-08-01  https://www.amazon.com.br/Toshiba-HDTB330XK3CA...   \n8    2022-08-01  https://www.amazon.com.br/Externo-Port%C3%A1ti...   \n12   2022-08-01  https://www.amazon.com.br/Externo-Portatil-Tos...   \n34   2022-08-01  https://www.amazon.com.br/seagate-externo-port...   \n35   2022-08-01  https://www.amazon.com.br/Seagate-Expansion-ST...   \n41   2022-08-01  https://www.amazon.com.br/Seagate-FireCuda-Gam...   \n52   2022-08-01  https://www.amazon.com.br/Desktop-Seagate-Back...   \n67   2022-08-01  https://www.amazon.com.br/Port%C3%A1til-Seagat...   \n74   2022-08-01  https://www.amazon.com.br/Seagate-port%C3%A1ti...   \n99   2022-08-01  https://www.amazon.com.br/Seagate-Expans%C3%A3...   \n103  2022-08-01  https://www.amazon.com.br/Seagate-Disco-r%C3%A...   \n128  2022-08-01  https://www.amazon.com.br/Seagate-externo-serv...   \n\n    MARKETPLACE  SELLER                                              PRICE  \\\n0        AMAZON  Amazon  /gp/offer-listing/B08JKGHHHQ/ref=dp_olp_unknow...   \n1        AMAZON  Amazon  /gp/offer-listing/B00T5ME88Y/ref=dp_olp_unknow...   \n8        AMAZON  Amazon  /gp/offer-listing/B00N2S6ZUQ/ref=dp_olp_unknow...   \n12       AMAZON  Amazon  /gp/offer-listing/B00N2S73UC/ref=dp_olp_unknow...   \n34       AMAZON  Amazon  /gp/offer-listing/B0711V6Q3K/ref=dp_olp_unknow...   \n35       AMAZON  Amazon  /gp/offer-listing/B07VBPG5HZ/ref=dp_olp_unknow...   \n41       AMAZON  Amazon  /gp/offer-listing/B08Y1QYWR5/ref=dp_olp_unknow...   \n52       AMAZON  Amazon  /gp/offer-listing/B01K4241D0/ref=dp_olp_unknow...   \n67       AMAZON  Amazon  /gp/offer-listing/B076H6TZ7L/ref=dp_olp_unknow...   \n74       AMAZON  Amazon  /gp/offer-listing/B08JDS8HM7/ref=dp_olp_unknow...   \n99       AMAZON  Amazon  /gp/offer-listing/B093BVXYSV/ref=dp_olp_unknow...   \n103      AMAZON  Amazon  /gp/offer-listing/B093BWYJ9Q/ref=dp_olp_unknow...   \n128      AMAZON  Amazon  /gp/offer-listing/B08KSJ7Z5F/ref=dp_olp_unknow...   \n\n     PARCEL  INSTALLMENT  INSTALLMENT_PAYMENT          ID  \\\n0         0          0.0                  0.0  B08JKGHHHQ   \n1         0          0.0                  0.0  B00T5ME88Y   \n8         0          0.0                  0.0  B00N2S6ZUQ   \n12        0          0.0                  0.0  B00N2S73UC   \n34        0          0.0                  0.0  B0711V6Q3K   \n35        0          0.0                  0.0  B07VBPG5HZ   \n41        0          0.0                  0.0  B08Y1QYWR5   \n52        0          0.0                  0.0  B01K4241D0   \n67        0          0.0                  0.0  B076H6TZ7L   \n74        0          0.0                  0.0  B08JDS8HM7   \n99        0          0.0                  0.0  B093BVXYSV   \n103       0          0.0                  0.0  B093BWYJ9Q   \n128       0          0.0                  0.0  B08KSJ7Z5F   \n\n                                               PRODUCT  INTERNACIONAL  MORE  \n0            TOSHIBA Canvio Advance Disco rígido ex...  Internacional     0  \n1            Toshiba Canvio Basics Portátil Externo...  Internacional     0  \n8            HD Externo Portátil Toshiba Canvio Bas...  Internacional     0  \n12           TOSHIBA Canvio Basics Disco rígido por...  Internacional     0  \n34           HD seagate externo portátil game drive...  Internacional     0  \n35           Seagate Expansion STEA5000402 disco rí...  Internacional     0  \n41           Seagate FireCuda Gaming Hub Disco rígi...  Internacional     0  \n52           Hd Desktop Backup Plus Hub 6Tb, Seagat...  Internacional     0  \n67           HD Seagate Externo Portátil Game Drive...  Internacional     0  \n74           Seagate One Touch, disco rígido extern...  Internacional     0  \n99           Seagate Expansão STKP4000400 Disco ríg...  Internacional     0  \n103          Seagate Disco rígido externo USB 3.0 d...  Internacional     0  \n128          Seagate One Touch 4 TB Disco externo H...  Internacional     0  ",
      "text/html": "<div>\n<style scoped>\n    .dataframe tbody tr th:only-of-type {\n        vertical-align: middle;\n    }\n\n    .dataframe tbody tr th {\n        vertical-align: top;\n    }\n\n    .dataframe thead th {\n        text-align: right;\n    }\n</style>\n<table border=\"1\" class=\"dataframe\">\n  <thead>\n    <tr style=\"text-align: right;\">\n      <th></th>\n      <th>DATE</th>\n      <th>URL</th>\n      <th>MARKETPLACE</th>\n      <th>SELLER</th>\n      <th>PRICE</th>\n      <th>PARCEL</th>\n      <th>INSTALLMENT</th>\n      <th>INSTALLMENT_PAYMENT</th>\n      <th>ID</th>\n      <th>PRODUCT</th>\n      <th>INTERNACIONAL</th>\n      <th>MORE</th>\n    </tr>\n  </thead>\n  <tbody>\n    <tr>\n      <th>0</th>\n      <td>2022-08-01</td>\n      <td>https://www.amazon.com.br/Toshiba-Canvio-Advan...</td>\n      <td>AMAZON</td>\n      <td>Amazon</td>\n      <td>/gp/offer-listing/B08JKGHHHQ/ref=dp_olp_unknow...</td>\n      <td>0</td>\n      <td>0.0</td>\n      <td>0.0</td>\n      <td>B08JKGHHHQ</td>\n      <td>TOSHIBA Canvio Advance Disco rígido ex...</td>\n      <td>Internacional</td>\n      <td>0</td>\n    </tr>\n    <tr>\n      <th>1</th>\n      <td>2022-08-01</td>\n      <td>https://www.amazon.com.br/Toshiba-HDTB330XK3CA...</td>\n      <td>AMAZON</td>\n      <td>Amazon</td>\n      <td>/gp/offer-listing/B00T5ME88Y/ref=dp_olp_unknow...</td>\n      <td>0</td>\n      <td>0.0</td>\n      <td>0.0</td>\n      <td>B00T5ME88Y</td>\n      <td>Toshiba Canvio Basics Portátil Externo...</td>\n      <td>Internacional</td>\n      <td>0</td>\n    </tr>\n    <tr>\n      <th>8</th>\n      <td>2022-08-01</td>\n      <td>https://www.amazon.com.br/Externo-Port%C3%A1ti...</td>\n      <td>AMAZON</td>\n      <td>Amazon</td>\n      <td>/gp/offer-listing/B00N2S6ZUQ/ref=dp_olp_unknow...</td>\n      <td>0</td>\n      <td>0.0</td>\n      <td>0.0</td>\n      <td>B00N2S6ZUQ</td>\n      <td>HD Externo Portátil Toshiba Canvio Bas...</td>\n      <td>Internacional</td>\n      <td>0</td>\n    </tr>\n    <tr>\n      <th>12</th>\n      <td>2022-08-01</td>\n      <td>https://www.amazon.com.br/Externo-Portatil-Tos...</td>\n      <td>AMAZON</td>\n      <td>Amazon</td>\n      <td>/gp/offer-listing/B00N2S73UC/ref=dp_olp_unknow...</td>\n      <td>0</td>\n      <td>0.0</td>\n      <td>0.0</td>\n      <td>B00N2S73UC</td>\n      <td>TOSHIBA Canvio Basics Disco rígido por...</td>\n      <td>Internacional</td>\n      <td>0</td>\n    </tr>\n    <tr>\n      <th>34</th>\n      <td>2022-08-01</td>\n      <td>https://www.amazon.com.br/seagate-externo-port...</td>\n      <td>AMAZON</td>\n      <td>Amazon</td>\n      <td>/gp/offer-listing/B0711V6Q3K/ref=dp_olp_unknow...</td>\n      <td>0</td>\n      <td>0.0</td>\n      <td>0.0</td>\n      <td>B0711V6Q3K</td>\n      <td>HD seagate externo portátil game drive...</td>\n      <td>Internacional</td>\n      <td>0</td>\n    </tr>\n    <tr>\n      <th>35</th>\n      <td>2022-08-01</td>\n      <td>https://www.amazon.com.br/Seagate-Expansion-ST...</td>\n      <td>AMAZON</td>\n      <td>Amazon</td>\n      <td>/gp/offer-listing/B07VBPG5HZ/ref=dp_olp_unknow...</td>\n      <td>0</td>\n      <td>0.0</td>\n      <td>0.0</td>\n      <td>B07VBPG5HZ</td>\n      <td>Seagate Expansion STEA5000402 disco rí...</td>\n      <td>Internacional</td>\n      <td>0</td>\n    </tr>\n    <tr>\n      <th>41</th>\n      <td>2022-08-01</td>\n      <td>https://www.amazon.com.br/Seagate-FireCuda-Gam...</td>\n      <td>AMAZON</td>\n      <td>Amazon</td>\n      <td>/gp/offer-listing/B08Y1QYWR5/ref=dp_olp_unknow...</td>\n      <td>0</td>\n      <td>0.0</td>\n      <td>0.0</td>\n      <td>B08Y1QYWR5</td>\n      <td>Seagate FireCuda Gaming Hub Disco rígi...</td>\n      <td>Internacional</td>\n      <td>0</td>\n    </tr>\n    <tr>\n      <th>52</th>\n      <td>2022-08-01</td>\n      <td>https://www.amazon.com.br/Desktop-Seagate-Back...</td>\n      <td>AMAZON</td>\n      <td>Amazon</td>\n      <td>/gp/offer-listing/B01K4241D0/ref=dp_olp_unknow...</td>\n      <td>0</td>\n      <td>0.0</td>\n      <td>0.0</td>\n      <td>B01K4241D0</td>\n      <td>Hd Desktop Backup Plus Hub 6Tb, Seagat...</td>\n      <td>Internacional</td>\n      <td>0</td>\n    </tr>\n    <tr>\n      <th>67</th>\n      <td>2022-08-01</td>\n      <td>https://www.amazon.com.br/Port%C3%A1til-Seagat...</td>\n      <td>AMAZON</td>\n      <td>Amazon</td>\n      <td>/gp/offer-listing/B076H6TZ7L/ref=dp_olp_unknow...</td>\n      <td>0</td>\n      <td>0.0</td>\n      <td>0.0</td>\n      <td>B076H6TZ7L</td>\n      <td>HD Seagate Externo Portátil Game Drive...</td>\n      <td>Internacional</td>\n      <td>0</td>\n    </tr>\n    <tr>\n      <th>74</th>\n      <td>2022-08-01</td>\n      <td>https://www.amazon.com.br/Seagate-port%C3%A1ti...</td>\n      <td>AMAZON</td>\n      <td>Amazon</td>\n      <td>/gp/offer-listing/B08JDS8HM7/ref=dp_olp_unknow...</td>\n      <td>0</td>\n      <td>0.0</td>\n      <td>0.0</td>\n      <td>B08JDS8HM7</td>\n      <td>Seagate One Touch, disco rígido extern...</td>\n      <td>Internacional</td>\n      <td>0</td>\n    </tr>\n    <tr>\n      <th>99</th>\n      <td>2022-08-01</td>\n      <td>https://www.amazon.com.br/Seagate-Expans%C3%A3...</td>\n      <td>AMAZON</td>\n      <td>Amazon</td>\n      <td>/gp/offer-listing/B093BVXYSV/ref=dp_olp_unknow...</td>\n      <td>0</td>\n      <td>0.0</td>\n      <td>0.0</td>\n      <td>B093BVXYSV</td>\n      <td>Seagate Expansão STKP4000400 Disco ríg...</td>\n      <td>Internacional</td>\n      <td>0</td>\n    </tr>\n    <tr>\n      <th>103</th>\n      <td>2022-08-01</td>\n      <td>https://www.amazon.com.br/Seagate-Disco-r%C3%A...</td>\n      <td>AMAZON</td>\n      <td>Amazon</td>\n      <td>/gp/offer-listing/B093BWYJ9Q/ref=dp_olp_unknow...</td>\n      <td>0</td>\n      <td>0.0</td>\n      <td>0.0</td>\n      <td>B093BWYJ9Q</td>\n      <td>Seagate Disco rígido externo USB 3.0 d...</td>\n      <td>Internacional</td>\n      <td>0</td>\n    </tr>\n    <tr>\n      <th>128</th>\n      <td>2022-08-01</td>\n      <td>https://www.amazon.com.br/Seagate-externo-serv...</td>\n      <td>AMAZON</td>\n      <td>Amazon</td>\n      <td>/gp/offer-listing/B08KSJ7Z5F/ref=dp_olp_unknow...</td>\n      <td>0</td>\n      <td>0.0</td>\n      <td>0.0</td>\n      <td>B08KSJ7Z5F</td>\n      <td>Seagate One Touch 4 TB Disco externo H...</td>\n      <td>Internacional</td>\n      <td>0</td>\n    </tr>\n  </tbody>\n</table>\n</div>"
     },
     "execution_count": 58,
     "metadata": {},
     "output_type": "execute_result"
    }
   ],
   "source": [
    "#Criar a condicional da coluna More\n",
    "Df_button_sellers = Df_final[Df_final['PRICE'].str.len() > 10]\n",
    "Df_button_sellers"
   ],
   "metadata": {
    "collapsed": false,
    "pycharm": {
     "name": "#%%\n"
    }
   }
  },
  {
   "cell_type": "code",
   "execution_count": 59,
   "outputs": [],
   "source": [
    "def Get_Button_Sellers(ASIN):\n",
    "    global Amazon_Button_Sellers\n",
    "\n",
    "    time.sleep(5)\n",
    "\n",
    "    new_url = \"https://www.amazon.com.br/gp/product/ajax/?asin=\" + ASIN + \"&pageno=1&experienceId=aodAjaxMain\"\n",
    "\n",
    "    driver.get(new_url)\n",
    "\n",
    "    time.sleep(5)\n",
    "\n",
    "    body_el = driver.find_element(By.CSS_SELECTOR, 'body')\n",
    "    html_str = body_el.get_attribute('innerHTML')\n",
    "\n",
    "    Soup = BeautifulSoup(html_str, 'html.parser')\n",
    "\n",
    "    for seller in Soup.find_all(class_='a-size-small a-color-base'):\n",
    "        Amazon_Button_Sellers.append(seller.text)\n",
    "\n",
    "\n",
    "    Amazon_Button_Sellers =  [s for s in Amazon_Button_Sellers if not 'avaliações' in s]\n",
    "    Amazon_Button_Sellers =  [s for s in Amazon_Button_Sellers if not ' Amazon.com.br ' in s]\n",
    "    Amazon_Button_Sellers =  [s for s in Amazon_Button_Sellers if not 'avaliação' in s]\n",
    "    Amazon_Button_Sellers =  [s for s in Amazon_Button_Sellers if not 'Recém-lançado' in s]\n",
    "\n",
    "    for price in Soup.find_all(class_='a-offscreen'):\n",
    "        Amazon_Button_Price.append(price.text)\n",
    "        Amazon_Button_ASIN.append(ASIN)"
   ],
   "metadata": {
    "collapsed": false,
    "pycharm": {
     "name": "#%%\n"
    }
   }
  },
  {
   "cell_type": "code",
   "execution_count": 60,
   "outputs": [
    {
     "name": "stderr",
     "output_type": "stream",
     "text": [
      "100%|██████████| 13/13 [02:18<00:00, 10.63s/it]\n"
     ]
    }
   ],
   "source": [
    "for item in tqdm(Df_button_sellers['ID']):\n",
    "    Get_Button_Sellers(item)"
   ],
   "metadata": {
    "collapsed": false,
    "pycharm": {
     "name": "#%%\n"
    }
   }
  },
  {
   "cell_type": "code",
   "execution_count": 61,
   "outputs": [
    {
     "name": "stdout",
     "output_type": "stream",
     "text": [
      "19\n",
      "19\n",
      "19\n"
     ]
    }
   ],
   "source": [
    "print(len(Amazon_Button_Sellers))\n",
    "print(len(Amazon_Button_Price))\n",
    "print(len(Amazon_Button_ASIN))"
   ],
   "metadata": {
    "collapsed": false,
    "pycharm": {
     "name": "#%%\n"
    }
   }
  },
  {
   "cell_type": "code",
   "execution_count": 62,
   "outputs": [
    {
     "data": {
      "text/plain": "            ID        DATE MARKETPLACE                          SELLER  \\\n0   B08JKGHHHQ  2022-08-01      AMAZON                      BUY SUPPLY   \n1   B00T5ME88Y  2022-08-01      AMAZON                      BUY SUPPLY   \n2   B00N2S6ZUQ  2022-08-01      AMAZON                      BUY SUPPLY   \n3   B00N2S73UC  2022-08-01      AMAZON                      BUY SUPPLY   \n4   B0711V6Q3K  2022-08-01      AMAZON                        Tendinfo   \n5   B0711V6Q3K  2022-08-01      AMAZON                        Tendinfo   \n6   B07VBPG5HZ  2022-08-01      AMAZON                        BRVENDAS   \n7   B08Y1QYWR5  2022-08-01      AMAZON                      ComegaCity   \n8   B01K4241D0  2022-08-01      AMAZON          Mundo dos Computadores   \n9   B01K4241D0  2022-08-01      AMAZON          Mundo dos Computadores   \n10  B01K4241D0  2022-08-01      AMAZON            Mundo da Informatica   \n11  B01K4241D0  2022-08-01      AMAZON                    Rebello Shop   \n12  B01K4241D0  2022-08-01      AMAZON                     Tudo à Beça   \n13  B076H6TZ7L  2022-08-01      AMAZON           Triplenet Pricing INC   \n14  B076H6TZ7L  2022-08-01      AMAZON  WAZ - Fanáticos por Tecnologia   \n15  B08JDS8HM7  2022-08-01      AMAZON           Triplenet Pricing INC   \n16  B093BVXYSV  2022-08-01      AMAZON                      ComegaCity   \n17  B093BWYJ9Q  2022-08-01      AMAZON                      ComegaCity   \n18  B08KSJ7Z5F  2022-08-01      AMAZON                      ComegaCity   \n\n      PRICE  PARCEL  INSTALLMENT  INSTALLMENT_PAYMENT INTERNACIONAL  \\\n0    874.00      10       87.400               8740.0          ERRO   \n1   1541.00      10      154.100              15410.0          ERRO   \n2    747.00      10       74.700               7470.0          ERRO   \n3    733.00      10       73.300               7330.0          ERRO   \n4   1349.00      10      134.900              13490.0          ERRO   \n5   1349.80      10      134.980              13498.0          ERRO   \n6   2000.00      10      200.000              20000.0          ERRO   \n7   6873.08      10      687.308              68730.8          ERRO   \n8   1159.00      10      115.900              11590.0          ERRO   \n9   1165.40      10      116.540              11654.0          ERRO   \n10  1179.00      10      117.900              11790.0          ERRO   \n11  1285.90      10      128.590              12859.0          ERRO   \n12  1377.72      10      137.772              13777.2          ERRO   \n13  1254.55      10      125.455              12545.5          ERRO   \n14  1294.11      10      129.411              12941.1          ERRO   \n15   805.43      10       80.543               8054.3          ERRO   \n16  1967.63      10      196.763              19676.3          ERRO   \n17  5521.48      10      552.148              55214.8          ERRO   \n18  1908.03      10      190.803              19080.3          ERRO   \n\n                                                  URL  \\\n0   https://www.amazon.com.br/Toshiba-Canvio-Advan...   \n1   https://www.amazon.com.br/Toshiba-HDTB330XK3CA...   \n2   https://www.amazon.com.br/Externo-Port%C3%A1ti...   \n3   https://www.amazon.com.br/Externo-Portatil-Tos...   \n4   https://www.amazon.com.br/seagate-externo-port...   \n5   https://www.amazon.com.br/seagate-externo-port...   \n6   https://www.amazon.com.br/Seagate-Expansion-ST...   \n7   https://www.amazon.com.br/Seagate-FireCuda-Gam...   \n8   https://www.amazon.com.br/Desktop-Seagate-Back...   \n9   https://www.amazon.com.br/Desktop-Seagate-Back...   \n10  https://www.amazon.com.br/Desktop-Seagate-Back...   \n11  https://www.amazon.com.br/Desktop-Seagate-Back...   \n12  https://www.amazon.com.br/Desktop-Seagate-Back...   \n13  https://www.amazon.com.br/Port%C3%A1til-Seagat...   \n14  https://www.amazon.com.br/Port%C3%A1til-Seagat...   \n15  https://www.amazon.com.br/Seagate-port%C3%A1ti...   \n16  https://www.amazon.com.br/Seagate-Expans%C3%A3...   \n17  https://www.amazon.com.br/Seagate-Disco-r%C3%A...   \n18  https://www.amazon.com.br/Seagate-externo-serv...   \n\n                                              PRODUCT  \n0           TOSHIBA Canvio Advance Disco rígido ex...  \n1           Toshiba Canvio Basics Portátil Externo...  \n2           HD Externo Portátil Toshiba Canvio Bas...  \n3           TOSHIBA Canvio Basics Disco rígido por...  \n4           HD seagate externo portátil game drive...  \n5           HD seagate externo portátil game drive...  \n6           Seagate Expansion STEA5000402 disco rí...  \n7           Seagate FireCuda Gaming Hub Disco rígi...  \n8           Hd Desktop Backup Plus Hub 6Tb, Seagat...  \n9           Hd Desktop Backup Plus Hub 6Tb, Seagat...  \n10          Hd Desktop Backup Plus Hub 6Tb, Seagat...  \n11          Hd Desktop Backup Plus Hub 6Tb, Seagat...  \n12          Hd Desktop Backup Plus Hub 6Tb, Seagat...  \n13          HD Seagate Externo Portátil Game Drive...  \n14          HD Seagate Externo Portátil Game Drive...  \n15          Seagate One Touch, disco rígido extern...  \n16          Seagate Expansão STKP4000400 Disco ríg...  \n17          Seagate Disco rígido externo USB 3.0 d...  \n18          Seagate One Touch 4 TB Disco externo H...  ",
      "text/html": "<div>\n<style scoped>\n    .dataframe tbody tr th:only-of-type {\n        vertical-align: middle;\n    }\n\n    .dataframe tbody tr th {\n        vertical-align: top;\n    }\n\n    .dataframe thead th {\n        text-align: right;\n    }\n</style>\n<table border=\"1\" class=\"dataframe\">\n  <thead>\n    <tr style=\"text-align: right;\">\n      <th></th>\n      <th>ID</th>\n      <th>DATE</th>\n      <th>MARKETPLACE</th>\n      <th>SELLER</th>\n      <th>PRICE</th>\n      <th>PARCEL</th>\n      <th>INSTALLMENT</th>\n      <th>INSTALLMENT_PAYMENT</th>\n      <th>INTERNACIONAL</th>\n      <th>URL</th>\n      <th>PRODUCT</th>\n    </tr>\n  </thead>\n  <tbody>\n    <tr>\n      <th>0</th>\n      <td>B08JKGHHHQ</td>\n      <td>2022-08-01</td>\n      <td>AMAZON</td>\n      <td>BUY SUPPLY</td>\n      <td>874.00</td>\n      <td>10</td>\n      <td>87.400</td>\n      <td>8740.0</td>\n      <td>ERRO</td>\n      <td>https://www.amazon.com.br/Toshiba-Canvio-Advan...</td>\n      <td>TOSHIBA Canvio Advance Disco rígido ex...</td>\n    </tr>\n    <tr>\n      <th>1</th>\n      <td>B00T5ME88Y</td>\n      <td>2022-08-01</td>\n      <td>AMAZON</td>\n      <td>BUY SUPPLY</td>\n      <td>1541.00</td>\n      <td>10</td>\n      <td>154.100</td>\n      <td>15410.0</td>\n      <td>ERRO</td>\n      <td>https://www.amazon.com.br/Toshiba-HDTB330XK3CA...</td>\n      <td>Toshiba Canvio Basics Portátil Externo...</td>\n    </tr>\n    <tr>\n      <th>2</th>\n      <td>B00N2S6ZUQ</td>\n      <td>2022-08-01</td>\n      <td>AMAZON</td>\n      <td>BUY SUPPLY</td>\n      <td>747.00</td>\n      <td>10</td>\n      <td>74.700</td>\n      <td>7470.0</td>\n      <td>ERRO</td>\n      <td>https://www.amazon.com.br/Externo-Port%C3%A1ti...</td>\n      <td>HD Externo Portátil Toshiba Canvio Bas...</td>\n    </tr>\n    <tr>\n      <th>3</th>\n      <td>B00N2S73UC</td>\n      <td>2022-08-01</td>\n      <td>AMAZON</td>\n      <td>BUY SUPPLY</td>\n      <td>733.00</td>\n      <td>10</td>\n      <td>73.300</td>\n      <td>7330.0</td>\n      <td>ERRO</td>\n      <td>https://www.amazon.com.br/Externo-Portatil-Tos...</td>\n      <td>TOSHIBA Canvio Basics Disco rígido por...</td>\n    </tr>\n    <tr>\n      <th>4</th>\n      <td>B0711V6Q3K</td>\n      <td>2022-08-01</td>\n      <td>AMAZON</td>\n      <td>Tendinfo</td>\n      <td>1349.00</td>\n      <td>10</td>\n      <td>134.900</td>\n      <td>13490.0</td>\n      <td>ERRO</td>\n      <td>https://www.amazon.com.br/seagate-externo-port...</td>\n      <td>HD seagate externo portátil game drive...</td>\n    </tr>\n    <tr>\n      <th>5</th>\n      <td>B0711V6Q3K</td>\n      <td>2022-08-01</td>\n      <td>AMAZON</td>\n      <td>Tendinfo</td>\n      <td>1349.80</td>\n      <td>10</td>\n      <td>134.980</td>\n      <td>13498.0</td>\n      <td>ERRO</td>\n      <td>https://www.amazon.com.br/seagate-externo-port...</td>\n      <td>HD seagate externo portátil game drive...</td>\n    </tr>\n    <tr>\n      <th>6</th>\n      <td>B07VBPG5HZ</td>\n      <td>2022-08-01</td>\n      <td>AMAZON</td>\n      <td>BRVENDAS</td>\n      <td>2000.00</td>\n      <td>10</td>\n      <td>200.000</td>\n      <td>20000.0</td>\n      <td>ERRO</td>\n      <td>https://www.amazon.com.br/Seagate-Expansion-ST...</td>\n      <td>Seagate Expansion STEA5000402 disco rí...</td>\n    </tr>\n    <tr>\n      <th>7</th>\n      <td>B08Y1QYWR5</td>\n      <td>2022-08-01</td>\n      <td>AMAZON</td>\n      <td>ComegaCity</td>\n      <td>6873.08</td>\n      <td>10</td>\n      <td>687.308</td>\n      <td>68730.8</td>\n      <td>ERRO</td>\n      <td>https://www.amazon.com.br/Seagate-FireCuda-Gam...</td>\n      <td>Seagate FireCuda Gaming Hub Disco rígi...</td>\n    </tr>\n    <tr>\n      <th>8</th>\n      <td>B01K4241D0</td>\n      <td>2022-08-01</td>\n      <td>AMAZON</td>\n      <td>Mundo dos Computadores</td>\n      <td>1159.00</td>\n      <td>10</td>\n      <td>115.900</td>\n      <td>11590.0</td>\n      <td>ERRO</td>\n      <td>https://www.amazon.com.br/Desktop-Seagate-Back...</td>\n      <td>Hd Desktop Backup Plus Hub 6Tb, Seagat...</td>\n    </tr>\n    <tr>\n      <th>9</th>\n      <td>B01K4241D0</td>\n      <td>2022-08-01</td>\n      <td>AMAZON</td>\n      <td>Mundo dos Computadores</td>\n      <td>1165.40</td>\n      <td>10</td>\n      <td>116.540</td>\n      <td>11654.0</td>\n      <td>ERRO</td>\n      <td>https://www.amazon.com.br/Desktop-Seagate-Back...</td>\n      <td>Hd Desktop Backup Plus Hub 6Tb, Seagat...</td>\n    </tr>\n    <tr>\n      <th>10</th>\n      <td>B01K4241D0</td>\n      <td>2022-08-01</td>\n      <td>AMAZON</td>\n      <td>Mundo da Informatica</td>\n      <td>1179.00</td>\n      <td>10</td>\n      <td>117.900</td>\n      <td>11790.0</td>\n      <td>ERRO</td>\n      <td>https://www.amazon.com.br/Desktop-Seagate-Back...</td>\n      <td>Hd Desktop Backup Plus Hub 6Tb, Seagat...</td>\n    </tr>\n    <tr>\n      <th>11</th>\n      <td>B01K4241D0</td>\n      <td>2022-08-01</td>\n      <td>AMAZON</td>\n      <td>Rebello Shop</td>\n      <td>1285.90</td>\n      <td>10</td>\n      <td>128.590</td>\n      <td>12859.0</td>\n      <td>ERRO</td>\n      <td>https://www.amazon.com.br/Desktop-Seagate-Back...</td>\n      <td>Hd Desktop Backup Plus Hub 6Tb, Seagat...</td>\n    </tr>\n    <tr>\n      <th>12</th>\n      <td>B01K4241D0</td>\n      <td>2022-08-01</td>\n      <td>AMAZON</td>\n      <td>Tudo à Beça</td>\n      <td>1377.72</td>\n      <td>10</td>\n      <td>137.772</td>\n      <td>13777.2</td>\n      <td>ERRO</td>\n      <td>https://www.amazon.com.br/Desktop-Seagate-Back...</td>\n      <td>Hd Desktop Backup Plus Hub 6Tb, Seagat...</td>\n    </tr>\n    <tr>\n      <th>13</th>\n      <td>B076H6TZ7L</td>\n      <td>2022-08-01</td>\n      <td>AMAZON</td>\n      <td>Triplenet Pricing INC</td>\n      <td>1254.55</td>\n      <td>10</td>\n      <td>125.455</td>\n      <td>12545.5</td>\n      <td>ERRO</td>\n      <td>https://www.amazon.com.br/Port%C3%A1til-Seagat...</td>\n      <td>HD Seagate Externo Portátil Game Drive...</td>\n    </tr>\n    <tr>\n      <th>14</th>\n      <td>B076H6TZ7L</td>\n      <td>2022-08-01</td>\n      <td>AMAZON</td>\n      <td>WAZ - Fanáticos por Tecnologia</td>\n      <td>1294.11</td>\n      <td>10</td>\n      <td>129.411</td>\n      <td>12941.1</td>\n      <td>ERRO</td>\n      <td>https://www.amazon.com.br/Port%C3%A1til-Seagat...</td>\n      <td>HD Seagate Externo Portátil Game Drive...</td>\n    </tr>\n    <tr>\n      <th>15</th>\n      <td>B08JDS8HM7</td>\n      <td>2022-08-01</td>\n      <td>AMAZON</td>\n      <td>Triplenet Pricing INC</td>\n      <td>805.43</td>\n      <td>10</td>\n      <td>80.543</td>\n      <td>8054.3</td>\n      <td>ERRO</td>\n      <td>https://www.amazon.com.br/Seagate-port%C3%A1ti...</td>\n      <td>Seagate One Touch, disco rígido extern...</td>\n    </tr>\n    <tr>\n      <th>16</th>\n      <td>B093BVXYSV</td>\n      <td>2022-08-01</td>\n      <td>AMAZON</td>\n      <td>ComegaCity</td>\n      <td>1967.63</td>\n      <td>10</td>\n      <td>196.763</td>\n      <td>19676.3</td>\n      <td>ERRO</td>\n      <td>https://www.amazon.com.br/Seagate-Expans%C3%A3...</td>\n      <td>Seagate Expansão STKP4000400 Disco ríg...</td>\n    </tr>\n    <tr>\n      <th>17</th>\n      <td>B093BWYJ9Q</td>\n      <td>2022-08-01</td>\n      <td>AMAZON</td>\n      <td>ComegaCity</td>\n      <td>5521.48</td>\n      <td>10</td>\n      <td>552.148</td>\n      <td>55214.8</td>\n      <td>ERRO</td>\n      <td>https://www.amazon.com.br/Seagate-Disco-r%C3%A...</td>\n      <td>Seagate Disco rígido externo USB 3.0 d...</td>\n    </tr>\n    <tr>\n      <th>18</th>\n      <td>B08KSJ7Z5F</td>\n      <td>2022-08-01</td>\n      <td>AMAZON</td>\n      <td>ComegaCity</td>\n      <td>1908.03</td>\n      <td>10</td>\n      <td>190.803</td>\n      <td>19080.3</td>\n      <td>ERRO</td>\n      <td>https://www.amazon.com.br/Seagate-externo-serv...</td>\n      <td>Seagate One Touch 4 TB Disco externo H...</td>\n    </tr>\n  </tbody>\n</table>\n</div>"
     },
     "execution_count": 62,
     "metadata": {},
     "output_type": "execute_result"
    }
   ],
   "source": [
    "Dataframe_Button = pd.DataFrame()\n",
    "Dataframe_Button['ID'] = Amazon_Button_ASIN\n",
    "\n",
    "Dataframe_Button['DATE'] = pd.to_datetime('today', errors='ignore').date()\n",
    "\n",
    "Dataframe_Button['MARKETPLACE'] = 'AMAZON'\n",
    "\n",
    "Dataframe_Button['SELLER'] = Amazon_Button_Sellers\n",
    "\n",
    "Dataframe_Button['PRICE'] = Amazon_Button_Price\n",
    "Dataframe_Button['PRICE'] = Dataframe_Button['PRICE'].str.replace(\".\",\"\", regex=True)\n",
    "Dataframe_Button['PRICE'] = Dataframe_Button['PRICE'].str.replace(\"R$\",\"\", regex=False)\n",
    "Dataframe_Button['PRICE'] = Dataframe_Button['PRICE'].str.replace(\",\",\".\", regex=True)\n",
    "Dataframe_Button['PRICE'] = Dataframe_Button['PRICE'].astype('float')\n",
    "\n",
    "Dataframe_Button['PARCEL'] = 10\n",
    "\n",
    "Dataframe_Button['INSTALLMENT'] = Dataframe_Button['PRICE'] / Dataframe_Button['PARCEL']\n",
    "\n",
    "Dataframe_Button['INSTALLMENT_PAYMENT'] = Dataframe_Button['PRICE'] * Dataframe_Button['PARCEL']\n",
    "\n",
    "Dataframe_Button['INTERNACIONAL'] = 'ERRO'\n",
    "\n",
    "url_names = []\n",
    "for id in Dataframe_Button['ID']:\n",
    "    url_names.append(Df_final.loc[Df_final['ID'] == id,'URL'].values[0])\n",
    "\n",
    "products_names = []\n",
    "for id in Dataframe_Button['ID']:\n",
    "    products_names.append(Df_final.loc[Df_final['ID'] == id,'PRODUCT'].values[0])\n",
    "\n",
    "Dataframe_Button['URL'] = url_names\n",
    "Dataframe_Button['PRODUCT'] = products_names\n",
    "\n",
    "Dataframe_Button"
   ],
   "metadata": {
    "collapsed": false,
    "pycharm": {
     "name": "#%%\n"
    }
   }
  },
  {
   "cell_type": "code",
   "execution_count": 63,
   "outputs": [
    {
     "name": "stdout",
     "output_type": "stream",
     "text": [
      "131\n",
      "19\n"
     ]
    }
   ],
   "source": [
    "print(Df_final.shape[0])\n",
    "print(Dataframe_Button.shape[0])"
   ],
   "metadata": {
    "collapsed": false,
    "pycharm": {
     "name": "#%%\n"
    }
   }
  },
  {
   "cell_type": "code",
   "execution_count": 64,
   "outputs": [
    {
     "name": "stdout",
     "output_type": "stream",
     "text": [
      "118\n"
     ]
    }
   ],
   "source": [
    "Df_final = Df_final[Df_final['PRICE'].str.len() < 10]\n",
    "print(Df_final.shape[0])"
   ],
   "metadata": {
    "collapsed": false,
    "pycharm": {
     "name": "#%%\n"
    }
   }
  },
  {
   "cell_type": "code",
   "execution_count": 65,
   "outputs": [
    {
     "name": "stdout",
     "output_type": "stream",
     "text": [
      "137\n"
     ]
    }
   ],
   "source": [
    "Df_final_with_button = pd.concat([Df_final, Dataframe_Button])\n",
    "print(Df_final_with_button.shape[0])"
   ],
   "metadata": {
    "collapsed": false,
    "pycharm": {
     "name": "#%%\n"
    }
   }
  },
  {
   "cell_type": "code",
   "execution_count": 66,
   "outputs": [],
   "source": [
    "Df_final_with_button = Df_final_with_button[Df_final_with_button['PRICE'] != 'Erro']"
   ],
   "metadata": {
    "collapsed": false,
    "pycharm": {
     "name": "#%%\n"
    }
   }
  },
  {
   "cell_type": "code",
   "execution_count": 67,
   "outputs": [],
   "source": [
    "Df_final_with_button['PRICE'] = Df_final_with_button['PRICE'].astype(\"float\")"
   ],
   "metadata": {
    "collapsed": false,
    "pycharm": {
     "name": "#%%\n"
    }
   }
  },
  {
   "cell_type": "code",
   "execution_count": 68,
   "outputs": [],
   "source": [
    "Df_final_with_button = Df_final_with_button[Df_final_with_button['PRICE'] > 100.99]"
   ],
   "metadata": {
    "collapsed": false,
    "pycharm": {
     "name": "#%%\n"
    }
   }
  },
  {
   "cell_type": "code",
   "execution_count": 69,
   "outputs": [],
   "source": [
    "Df_final_with_button['MORE'] = Df_final_with_button['MORE'].fillna(0.0)\n",
    "Df_final_with_button['MORE'] = Df_final_with_button['MORE'].astype('int')"
   ],
   "metadata": {
    "collapsed": false,
    "pycharm": {
     "name": "#%%\n"
    }
   }
  },
  {
   "cell_type": "code",
   "execution_count": 70,
   "outputs": [
    {
     "data": {
      "text/plain": "          DATE                                                URL MARKETPLACE  \\\n2   2022-08-01  https://www.amazon.com.br/Externo-Toshiba-Canv...      AMAZON   \n3   2022-08-01  https://www.amazon.com.br/Toshiba-Port%C3%A1ti...      AMAZON   \n4   2022-08-01  https://www.amazon.com.br/Externo-Port%C3%A1ti...      AMAZON   \n5   2022-08-01  https://www.amazon.com.br/Western-Digital-WDBU...      AMAZON   \n6   2022-08-01  https://www.amazon.com.br/externo-Seagate-Expa...      AMAZON   \n..         ...                                                ...         ...   \n14  2022-08-01  https://www.amazon.com.br/Port%C3%A1til-Seagat...      AMAZON   \n15  2022-08-01  https://www.amazon.com.br/Seagate-port%C3%A1ti...      AMAZON   \n16  2022-08-01  https://www.amazon.com.br/Seagate-Expans%C3%A3...      AMAZON   \n17  2022-08-01  https://www.amazon.com.br/Seagate-Disco-r%C3%A...      AMAZON   \n18  2022-08-01  https://www.amazon.com.br/Seagate-externo-serv...      AMAZON   \n\n                            SELLER    PRICE  PARCEL  INSTALLMENT  \\\n2                      OctoShop BR   871.04      10       87.140   \n3                         Tendinfo   998.90      10       99.890   \n4                         Tendinfo  1525.00      10      152.500   \n5                       Webeletron   419.99      10       42.080   \n6                     LOJA DA MADA   439.00      10       43.900   \n..                             ...      ...     ...          ...   \n14  WAZ - Fanáticos por Tecnologia  1294.11      10      129.411   \n15           Triplenet Pricing INC   805.43      10       80.543   \n16                      ComegaCity  1967.63      10      196.763   \n17                      ComegaCity  5521.48      10      552.148   \n18                      ComegaCity  1908.03      10      190.803   \n\n    INSTALLMENT_PAYMENT          ID  \\\n2                 871.4  B08JKJ9XLN   \n3                 998.9  B079H83D53   \n4                1525.0  B07KQX5VHY   \n5                 420.8  B06W55K9N6   \n6                 439.0  B07Q3SPNJ2   \n..                  ...         ...   \n14              12941.1  B076H6TZ7L   \n15               8054.3  B08JDS8HM7   \n16              19676.3  B093BVXYSV   \n17              55214.8  B093BWYJ9Q   \n18              19080.3  B08KSJ7Z5F   \n\n                                              PRODUCT  INTERNACIONAL  MORE  \n2           HD Externo Portátil Toshiba 2TB Canvio...  Internacional     4  \n3           HD Externo Portátil Toshiba Canvio Adv...  Internacional     0  \n4           HD Externo Portátil Toshiba Canvio Adv...  Internacional     0  \n5           Western Digital WDBU6Y0020BBK Externo ...  Internacional    15  \n6           HD externo Seagate Expansion 2TB portá...  Internacional    15  \n..                                                ...            ...   ...  \n14          HD Seagate Externo Portátil Game Drive...           ERRO     0  \n15          Seagate One Touch, disco rígido extern...           ERRO     0  \n16          Seagate Expansão STKP4000400 Disco ríg...           ERRO     0  \n17          Seagate Disco rígido externo USB 3.0 d...           ERRO     0  \n18          Seagate One Touch 4 TB Disco externo H...           ERRO     0  \n\n[136 rows x 12 columns]",
      "text/html": "<div>\n<style scoped>\n    .dataframe tbody tr th:only-of-type {\n        vertical-align: middle;\n    }\n\n    .dataframe tbody tr th {\n        vertical-align: top;\n    }\n\n    .dataframe thead th {\n        text-align: right;\n    }\n</style>\n<table border=\"1\" class=\"dataframe\">\n  <thead>\n    <tr style=\"text-align: right;\">\n      <th></th>\n      <th>DATE</th>\n      <th>URL</th>\n      <th>MARKETPLACE</th>\n      <th>SELLER</th>\n      <th>PRICE</th>\n      <th>PARCEL</th>\n      <th>INSTALLMENT</th>\n      <th>INSTALLMENT_PAYMENT</th>\n      <th>ID</th>\n      <th>PRODUCT</th>\n      <th>INTERNACIONAL</th>\n      <th>MORE</th>\n    </tr>\n  </thead>\n  <tbody>\n    <tr>\n      <th>2</th>\n      <td>2022-08-01</td>\n      <td>https://www.amazon.com.br/Externo-Toshiba-Canv...</td>\n      <td>AMAZON</td>\n      <td>OctoShop BR</td>\n      <td>871.04</td>\n      <td>10</td>\n      <td>87.140</td>\n      <td>871.4</td>\n      <td>B08JKJ9XLN</td>\n      <td>HD Externo Portátil Toshiba 2TB Canvio...</td>\n      <td>Internacional</td>\n      <td>4</td>\n    </tr>\n    <tr>\n      <th>3</th>\n      <td>2022-08-01</td>\n      <td>https://www.amazon.com.br/Toshiba-Port%C3%A1ti...</td>\n      <td>AMAZON</td>\n      <td>Tendinfo</td>\n      <td>998.90</td>\n      <td>10</td>\n      <td>99.890</td>\n      <td>998.9</td>\n      <td>B079H83D53</td>\n      <td>HD Externo Portátil Toshiba Canvio Adv...</td>\n      <td>Internacional</td>\n      <td>0</td>\n    </tr>\n    <tr>\n      <th>4</th>\n      <td>2022-08-01</td>\n      <td>https://www.amazon.com.br/Externo-Port%C3%A1ti...</td>\n      <td>AMAZON</td>\n      <td>Tendinfo</td>\n      <td>1525.00</td>\n      <td>10</td>\n      <td>152.500</td>\n      <td>1525.0</td>\n      <td>B07KQX5VHY</td>\n      <td>HD Externo Portátil Toshiba Canvio Adv...</td>\n      <td>Internacional</td>\n      <td>0</td>\n    </tr>\n    <tr>\n      <th>5</th>\n      <td>2022-08-01</td>\n      <td>https://www.amazon.com.br/Western-Digital-WDBU...</td>\n      <td>AMAZON</td>\n      <td>Webeletron</td>\n      <td>419.99</td>\n      <td>10</td>\n      <td>42.080</td>\n      <td>420.8</td>\n      <td>B06W55K9N6</td>\n      <td>Western Digital WDBU6Y0020BBK Externo ...</td>\n      <td>Internacional</td>\n      <td>15</td>\n    </tr>\n    <tr>\n      <th>6</th>\n      <td>2022-08-01</td>\n      <td>https://www.amazon.com.br/externo-Seagate-Expa...</td>\n      <td>AMAZON</td>\n      <td>LOJA DA MADA</td>\n      <td>439.00</td>\n      <td>10</td>\n      <td>43.900</td>\n      <td>439.0</td>\n      <td>B07Q3SPNJ2</td>\n      <td>HD externo Seagate Expansion 2TB portá...</td>\n      <td>Internacional</td>\n      <td>15</td>\n    </tr>\n    <tr>\n      <th>...</th>\n      <td>...</td>\n      <td>...</td>\n      <td>...</td>\n      <td>...</td>\n      <td>...</td>\n      <td>...</td>\n      <td>...</td>\n      <td>...</td>\n      <td>...</td>\n      <td>...</td>\n      <td>...</td>\n      <td>...</td>\n    </tr>\n    <tr>\n      <th>14</th>\n      <td>2022-08-01</td>\n      <td>https://www.amazon.com.br/Port%C3%A1til-Seagat...</td>\n      <td>AMAZON</td>\n      <td>WAZ - Fanáticos por Tecnologia</td>\n      <td>1294.11</td>\n      <td>10</td>\n      <td>129.411</td>\n      <td>12941.1</td>\n      <td>B076H6TZ7L</td>\n      <td>HD Seagate Externo Portátil Game Drive...</td>\n      <td>ERRO</td>\n      <td>0</td>\n    </tr>\n    <tr>\n      <th>15</th>\n      <td>2022-08-01</td>\n      <td>https://www.amazon.com.br/Seagate-port%C3%A1ti...</td>\n      <td>AMAZON</td>\n      <td>Triplenet Pricing INC</td>\n      <td>805.43</td>\n      <td>10</td>\n      <td>80.543</td>\n      <td>8054.3</td>\n      <td>B08JDS8HM7</td>\n      <td>Seagate One Touch, disco rígido extern...</td>\n      <td>ERRO</td>\n      <td>0</td>\n    </tr>\n    <tr>\n      <th>16</th>\n      <td>2022-08-01</td>\n      <td>https://www.amazon.com.br/Seagate-Expans%C3%A3...</td>\n      <td>AMAZON</td>\n      <td>ComegaCity</td>\n      <td>1967.63</td>\n      <td>10</td>\n      <td>196.763</td>\n      <td>19676.3</td>\n      <td>B093BVXYSV</td>\n      <td>Seagate Expansão STKP4000400 Disco ríg...</td>\n      <td>ERRO</td>\n      <td>0</td>\n    </tr>\n    <tr>\n      <th>17</th>\n      <td>2022-08-01</td>\n      <td>https://www.amazon.com.br/Seagate-Disco-r%C3%A...</td>\n      <td>AMAZON</td>\n      <td>ComegaCity</td>\n      <td>5521.48</td>\n      <td>10</td>\n      <td>552.148</td>\n      <td>55214.8</td>\n      <td>B093BWYJ9Q</td>\n      <td>Seagate Disco rígido externo USB 3.0 d...</td>\n      <td>ERRO</td>\n      <td>0</td>\n    </tr>\n    <tr>\n      <th>18</th>\n      <td>2022-08-01</td>\n      <td>https://www.amazon.com.br/Seagate-externo-serv...</td>\n      <td>AMAZON</td>\n      <td>ComegaCity</td>\n      <td>1908.03</td>\n      <td>10</td>\n      <td>190.803</td>\n      <td>19080.3</td>\n      <td>B08KSJ7Z5F</td>\n      <td>Seagate One Touch 4 TB Disco externo H...</td>\n      <td>ERRO</td>\n      <td>0</td>\n    </tr>\n  </tbody>\n</table>\n<p>136 rows × 12 columns</p>\n</div>"
     },
     "execution_count": 70,
     "metadata": {},
     "output_type": "execute_result"
    }
   ],
   "source": [
    "Df_final_with_button"
   ],
   "metadata": {
    "collapsed": false,
    "pycharm": {
     "name": "#%%\n"
    }
   }
  },
  {
   "cell_type": "code",
   "execution_count": 71,
   "metadata": {
    "pycharm": {
     "name": "#%%\n"
    }
   },
   "outputs": [
    {
     "data": {
      "text/plain": "           DATE                                                URL  \\\n2    2022-08-01  https://www.amazon.com.br/Externo-Toshiba-Canv...   \n5    2022-08-01  https://www.amazon.com.br/Western-Digital-WDBU...   \n6    2022-08-01  https://www.amazon.com.br/externo-Seagate-Expa...   \n7    2022-08-01  https://www.amazon.com.br/EXT-SEAGATE-500GB-US...   \n9    2022-08-01  https://www.amazon.com.br/HD-1TB-Toshiba-HDTC9...   \n..          ...                                                ...   \n124  2022-08-01  https://www.amazon.com.br/Seagate-Disco-r%C3%A...   \n125  2022-08-01  https://www.amazon.com.br/Externo-Toshiba-Canv...   \n126  2022-08-01  https://www.amazon.com.br/Seagate-externo-foto...   \n127  2022-08-01  https://www.amazon.com.br/Seagate-Disco-r%C3%A...   \n129  2022-08-01  https://www.amazon.com.br/Externo-1TB-Toshiba-...   \n\n    MARKETPLACE                 SELLER    PRICE  PARCEL  INSTALLMENT  \\\n2        AMAZON            OctoShop BR   871.04      10        87.14   \n5        AMAZON             Webeletron   419.99      10        42.08   \n6        AMAZON           LOJA DA MADA   439.00      10        43.90   \n7        AMAZON                HEROWEN   233.78       7        33.44   \n9        AMAZON            OctoShop BR   662.29      10        66.31   \n..          ...                    ...      ...     ...          ...   \n124      AMAZON           Amazin Group  1082.71      10       108.28   \n125      AMAZON            OctoShop BR   795.43      10        79.57   \n126      AMAZON  Triplenet Pricing INC  3150.05      10       315.05   \n127      AMAZON  Triplenet Pricing INC  2883.87      10       288.45   \n129      AMAZON            OctoShop BR   662.29      10        66.31   \n\n     INSTALLMENT_PAYMENT          ID  \\\n2                 871.40  B08JKJ9XLN   \n5                 420.80  B06W55K9N6   \n6                 439.00  B07Q3SPNJ2   \n7                 234.08  B00UNA1IPI   \n9                 663.10  B079H8PZPV   \n..                   ...         ...   \n124              1082.80  B08Y1QRTBM   \n125               795.70  B08JKHPV1V   \n126              3150.50  B093WZHS1G   \n127              2884.50  B093BWLBYY   \n129               663.10  B079H7VYY6   \n\n                                               PRODUCT  INTERNACIONAL  MORE  \n2            HD Externo Portátil Toshiba 2TB Canvio...  Internacional     4  \n5            Western Digital WDBU6Y0020BBK Externo ...  Internacional    15  \n6            HD externo Seagate Expansion 2TB portá...  Internacional    15  \n7            Seagate HD EXT. 500GB USB 3.0 EXPANSIO...  Internacional    10  \n9            HD Externo Portátil Toshiba Canvio Adv...  Internacional     2  \n..                                                 ...            ...   ...  \n124          Seagate Disco rígido externo portátil ...  Internacional     6  \n125          HD Externo Portátil Toshiba 2TB Canvio...  Internacional     5  \n126          Seagate One Touch Hub, 8 TB, disco ríg...  Internacional     3  \n127          Seagate Disco rígido externo USB 3.0 d...  Internacional     3  \n129          HD Externo Portátil Toshiba Canvio Adv...  Internacional     2  \n\n[98 rows x 12 columns]",
      "text/html": "<div>\n<style scoped>\n    .dataframe tbody tr th:only-of-type {\n        vertical-align: middle;\n    }\n\n    .dataframe tbody tr th {\n        vertical-align: top;\n    }\n\n    .dataframe thead th {\n        text-align: right;\n    }\n</style>\n<table border=\"1\" class=\"dataframe\">\n  <thead>\n    <tr style=\"text-align: right;\">\n      <th></th>\n      <th>DATE</th>\n      <th>URL</th>\n      <th>MARKETPLACE</th>\n      <th>SELLER</th>\n      <th>PRICE</th>\n      <th>PARCEL</th>\n      <th>INSTALLMENT</th>\n      <th>INSTALLMENT_PAYMENT</th>\n      <th>ID</th>\n      <th>PRODUCT</th>\n      <th>INTERNACIONAL</th>\n      <th>MORE</th>\n    </tr>\n  </thead>\n  <tbody>\n    <tr>\n      <th>2</th>\n      <td>2022-08-01</td>\n      <td>https://www.amazon.com.br/Externo-Toshiba-Canv...</td>\n      <td>AMAZON</td>\n      <td>OctoShop BR</td>\n      <td>871.04</td>\n      <td>10</td>\n      <td>87.14</td>\n      <td>871.40</td>\n      <td>B08JKJ9XLN</td>\n      <td>HD Externo Portátil Toshiba 2TB Canvio...</td>\n      <td>Internacional</td>\n      <td>4</td>\n    </tr>\n    <tr>\n      <th>5</th>\n      <td>2022-08-01</td>\n      <td>https://www.amazon.com.br/Western-Digital-WDBU...</td>\n      <td>AMAZON</td>\n      <td>Webeletron</td>\n      <td>419.99</td>\n      <td>10</td>\n      <td>42.08</td>\n      <td>420.80</td>\n      <td>B06W55K9N6</td>\n      <td>Western Digital WDBU6Y0020BBK Externo ...</td>\n      <td>Internacional</td>\n      <td>15</td>\n    </tr>\n    <tr>\n      <th>6</th>\n      <td>2022-08-01</td>\n      <td>https://www.amazon.com.br/externo-Seagate-Expa...</td>\n      <td>AMAZON</td>\n      <td>LOJA DA MADA</td>\n      <td>439.00</td>\n      <td>10</td>\n      <td>43.90</td>\n      <td>439.00</td>\n      <td>B07Q3SPNJ2</td>\n      <td>HD externo Seagate Expansion 2TB portá...</td>\n      <td>Internacional</td>\n      <td>15</td>\n    </tr>\n    <tr>\n      <th>7</th>\n      <td>2022-08-01</td>\n      <td>https://www.amazon.com.br/EXT-SEAGATE-500GB-US...</td>\n      <td>AMAZON</td>\n      <td>HEROWEN</td>\n      <td>233.78</td>\n      <td>7</td>\n      <td>33.44</td>\n      <td>234.08</td>\n      <td>B00UNA1IPI</td>\n      <td>Seagate HD EXT. 500GB USB 3.0 EXPANSIO...</td>\n      <td>Internacional</td>\n      <td>10</td>\n    </tr>\n    <tr>\n      <th>9</th>\n      <td>2022-08-01</td>\n      <td>https://www.amazon.com.br/HD-1TB-Toshiba-HDTC9...</td>\n      <td>AMAZON</td>\n      <td>OctoShop BR</td>\n      <td>662.29</td>\n      <td>10</td>\n      <td>66.31</td>\n      <td>663.10</td>\n      <td>B079H8PZPV</td>\n      <td>HD Externo Portátil Toshiba Canvio Adv...</td>\n      <td>Internacional</td>\n      <td>2</td>\n    </tr>\n    <tr>\n      <th>...</th>\n      <td>...</td>\n      <td>...</td>\n      <td>...</td>\n      <td>...</td>\n      <td>...</td>\n      <td>...</td>\n      <td>...</td>\n      <td>...</td>\n      <td>...</td>\n      <td>...</td>\n      <td>...</td>\n      <td>...</td>\n    </tr>\n    <tr>\n      <th>124</th>\n      <td>2022-08-01</td>\n      <td>https://www.amazon.com.br/Seagate-Disco-r%C3%A...</td>\n      <td>AMAZON</td>\n      <td>Amazin Group</td>\n      <td>1082.71</td>\n      <td>10</td>\n      <td>108.28</td>\n      <td>1082.80</td>\n      <td>B08Y1QRTBM</td>\n      <td>Seagate Disco rígido externo portátil ...</td>\n      <td>Internacional</td>\n      <td>6</td>\n    </tr>\n    <tr>\n      <th>125</th>\n      <td>2022-08-01</td>\n      <td>https://www.amazon.com.br/Externo-Toshiba-Canv...</td>\n      <td>AMAZON</td>\n      <td>OctoShop BR</td>\n      <td>795.43</td>\n      <td>10</td>\n      <td>79.57</td>\n      <td>795.70</td>\n      <td>B08JKHPV1V</td>\n      <td>HD Externo Portátil Toshiba 2TB Canvio...</td>\n      <td>Internacional</td>\n      <td>5</td>\n    </tr>\n    <tr>\n      <th>126</th>\n      <td>2022-08-01</td>\n      <td>https://www.amazon.com.br/Seagate-externo-foto...</td>\n      <td>AMAZON</td>\n      <td>Triplenet Pricing INC</td>\n      <td>3150.05</td>\n      <td>10</td>\n      <td>315.05</td>\n      <td>3150.50</td>\n      <td>B093WZHS1G</td>\n      <td>Seagate One Touch Hub, 8 TB, disco ríg...</td>\n      <td>Internacional</td>\n      <td>3</td>\n    </tr>\n    <tr>\n      <th>127</th>\n      <td>2022-08-01</td>\n      <td>https://www.amazon.com.br/Seagate-Disco-r%C3%A...</td>\n      <td>AMAZON</td>\n      <td>Triplenet Pricing INC</td>\n      <td>2883.87</td>\n      <td>10</td>\n      <td>288.45</td>\n      <td>2884.50</td>\n      <td>B093BWLBYY</td>\n      <td>Seagate Disco rígido externo USB 3.0 d...</td>\n      <td>Internacional</td>\n      <td>3</td>\n    </tr>\n    <tr>\n      <th>129</th>\n      <td>2022-08-01</td>\n      <td>https://www.amazon.com.br/Externo-1TB-Toshiba-...</td>\n      <td>AMAZON</td>\n      <td>OctoShop BR</td>\n      <td>662.29</td>\n      <td>10</td>\n      <td>66.31</td>\n      <td>663.10</td>\n      <td>B079H7VYY6</td>\n      <td>HD Externo Portátil Toshiba Canvio Adv...</td>\n      <td>Internacional</td>\n      <td>2</td>\n    </tr>\n  </tbody>\n</table>\n<p>98 rows × 12 columns</p>\n</div>"
     },
     "execution_count": 71,
     "metadata": {},
     "output_type": "execute_result"
    }
   ],
   "source": [
    "Df_more_offers = Df_final[Df_final['MORE'] != 0]\n",
    "Df_more_offers"
   ]
  },
  {
   "cell_type": "code",
   "execution_count": 72,
   "metadata": {
    "pycharm": {
     "name": "#%%\n"
    }
   },
   "outputs": [],
   "source": [
    "def search_more_offers_1(ASIN):\n",
    "    global Amazon_seller_more\n",
    "    \n",
    "    time.sleep(5)\n",
    "\n",
    "    new_url = \"https://www.amazon.com.br/gp/product/ajax/?asin=\" + ASIN + \"&pageno=1&experienceId=aodAjaxMain\"\n",
    "\n",
    "    driver.get(new_url)\n",
    "    \n",
    "    time.sleep(5)\n",
    "\n",
    "    body_el = driver.find_element(By.CSS_SELECTOR, 'body')\n",
    "    html_str = body_el.get_attribute('innerHTML')\n",
    "\n",
    "    Soup = BeautifulSoup(html_str, 'html.parser')\n",
    "\n",
    "    for seller in Soup.find_all(class_='a-size-small a-color-base')[4:]:\n",
    "        Amazon_seller_more.append(seller.text)\n",
    "\n",
    "\n",
    "    Amazon_seller_more =  [s for s in Amazon_seller_more if not 'avaliações' in s]\n",
    "    Amazon_seller_more =  [s for s in Amazon_seller_more if not ' Amazon.com.br ' in s]\n",
    "    Amazon_seller_more =  [s for s in Amazon_seller_more if not 'avaliação' in s]\n",
    "    Amazon_seller_more =  [s for s in Amazon_seller_more if not 'Recém-lançado' in s]\n",
    "\n",
    "    for price in Soup.find_all(class_='a-offscreen')[2:]:\n",
    "        Amazon_price_more.append(price.text)\n",
    "        Amazon_ID_More.append(ASIN)"
   ]
  },
  {
   "cell_type": "code",
   "execution_count": 73,
   "outputs": [],
   "source": [
    "def search_more_offers_2(ASIN):\n",
    "    global Amazon_seller_more\n",
    "\n",
    "    time.sleep(5)\n",
    "\n",
    "    new_url = \"https://www.amazon.com.br/gp/product/ajax/?asin=\" + ASIN + \"&pageno=2&experienceId=aodAjaxMain\"\n",
    "\n",
    "    driver.get(new_url)\n",
    "\n",
    "    time.sleep(5)\n",
    "\n",
    "    body_el = driver.find_element(By.CSS_SELECTOR, 'body')\n",
    "    html_str = body_el.get_attribute('innerHTML')\n",
    "\n",
    "    Soup = BeautifulSoup(html_str, 'html.parser')\n",
    "\n",
    "    for seller in Soup.find_all(class_='a-size-small a-color-base'):\n",
    "        Amazon_seller_more.append(seller.text)\n",
    "\n",
    "\n",
    "    Amazon_seller_more =  [s for s in Amazon_seller_more if not 'avaliações' in s]\n",
    "    Amazon_seller_more =  [s for s in Amazon_seller_more if not ' Amazon.com.br ' in s]\n",
    "    Amazon_seller_more =  [s for s in Amazon_seller_more if not 'avaliação' in s]\n",
    "    Amazon_seller_more =  [s for s in Amazon_seller_more if not 'Recém-lançado' in s]\n",
    "\n",
    "    for price in Soup.find_all(class_='a-offscreen'):\n",
    "        Amazon_price_more.append(price.text)\n",
    "        Amazon_ID_More.append(ASIN)"
   ],
   "metadata": {
    "collapsed": false,
    "pycharm": {
     "name": "#%%\n"
    }
   }
  },
  {
   "cell_type": "code",
   "execution_count": 74,
   "outputs": [],
   "source": [
    "def search_more_offers_3(ASIN):\n",
    "    global Amazon_seller_more\n",
    "\n",
    "    time.sleep(5)\n",
    "\n",
    "    new_url = \"https://www.amazon.com.br/gp/product/ajax/?asin=\" + ASIN + \"&pageno=3&experienceId=aodAjaxMain\"\n",
    "\n",
    "    driver.get(new_url)\n",
    "\n",
    "    time.sleep(5)\n",
    "\n",
    "    body_el = driver.find_element(By.CSS_SELECTOR, 'body')\n",
    "    html_str = body_el.get_attribute('innerHTML')\n",
    "\n",
    "    Soup = BeautifulSoup(html_str, 'html.parser')\n",
    "\n",
    "    for seller in Soup.find_all(class_='a-size-small a-color-base'):\n",
    "        Amazon_seller_more.append(seller.text)\n",
    "\n",
    "\n",
    "    Amazon_seller_more =  [s for s in Amazon_seller_more if not 'avaliações' in s]\n",
    "    Amazon_seller_more =  [s for s in Amazon_seller_more if not ' Amazon.com.br ' in s]\n",
    "    Amazon_seller_more =  [s for s in Amazon_seller_more if not 'avaliação' in s]\n",
    "    Amazon_seller_more =  [s for s in Amazon_seller_more if not 'Recém-lançado' in s]\n",
    "\n",
    "    for price in Soup.find_all(class_='a-offscreen'):\n",
    "        Amazon_price_more.append(price.text)\n",
    "        Amazon_ID_More.append(ASIN)"
   ],
   "metadata": {
    "collapsed": false,
    "pycharm": {
     "name": "#%%\n"
    }
   }
  },
  {
   "cell_type": "code",
   "execution_count": 75,
   "outputs": [],
   "source": [
    "def search_more_offers_4(ASIN):\n",
    "    global Amazon_seller_more\n",
    "\n",
    "    time.sleep(5)\n",
    "\n",
    "    new_url = \"https://www.amazon.com.br/gp/product/ajax/?asin=\" + ASIN + \"&pageno=4&experienceId=aodAjaxMain\"\n",
    "\n",
    "    driver.get(new_url)\n",
    "\n",
    "    time.sleep(5)\n",
    "\n",
    "    body_el = driver.find_element(By.CSS_SELECTOR, 'body')\n",
    "    html_str = body_el.get_attribute('innerHTML')\n",
    "\n",
    "    Soup = BeautifulSoup(html_str, 'html.parser')\n",
    "\n",
    "    for seller in Soup.find_all(class_='a-size-small a-color-base'):\n",
    "        Amazon_seller_more.append(seller.text)\n",
    "\n",
    "\n",
    "    Amazon_seller_more =  [s for s in Amazon_seller_more if not 'avaliações' in s]\n",
    "    Amazon_seller_more =  [s for s in Amazon_seller_more if not ' Amazon.com.br ' in s]\n",
    "    Amazon_seller_more =  [s for s in Amazon_seller_more if not 'avaliação' in s]\n",
    "    Amazon_seller_more =  [s for s in Amazon_seller_more if not 'Recém-lançado' in s]\n",
    "\n",
    "    for price in Soup.find_all(class_='a-offscreen'):\n",
    "        Amazon_price_more.append(price.text)\n",
    "        Amazon_ID_More.append(ASIN)"
   ],
   "metadata": {
    "collapsed": false,
    "pycharm": {
     "name": "#%%\n"
    }
   }
  },
  {
   "cell_type": "code",
   "execution_count": 76,
   "outputs": [],
   "source": [
    "def search_more_offers_5(ASIN):\n",
    "    global Amazon_seller_more\n",
    "\n",
    "    time.sleep(5)\n",
    "\n",
    "    new_url = \"https://www.amazon.com.br/gp/product/ajax/?asin=\" + ASIN + \"&pageno=5&experienceId=aodAjaxMain\"\n",
    "\n",
    "    driver.get(new_url)\n",
    "\n",
    "    time.sleep(5)\n",
    "\n",
    "    body_el = driver.find_element(By.CSS_SELECTOR, 'body')\n",
    "    html_str = body_el.get_attribute('innerHTML')\n",
    "\n",
    "    Soup = BeautifulSoup(html_str, 'html.parser')\n",
    "\n",
    "    for seller in Soup.find_all(class_='a-size-small a-color-base'):\n",
    "        Amazon_seller_more.append(seller.text)\n",
    "\n",
    "\n",
    "    Amazon_seller_more =  [s for s in Amazon_seller_more if not 'avaliações' in s]\n",
    "    Amazon_seller_more =  [s for s in Amazon_seller_more if not ' Amazon.com.br ' in s]\n",
    "    Amazon_seller_more =  [s for s in Amazon_seller_more if not 'avaliação' in s]\n",
    "    Amazon_seller_more =  [s for s in Amazon_seller_more if not 'Recém-lançado' in s]\n",
    "\n",
    "    for price in Soup.find_all(class_='a-offscreen'):\n",
    "        Amazon_price_more.append(price.text)\n",
    "        Amazon_ID_More.append(ASIN)"
   ],
   "metadata": {
    "collapsed": false,
    "pycharm": {
     "name": "#%%\n"
    }
   }
  },
  {
   "cell_type": "code",
   "execution_count": 77,
   "metadata": {
    "pycharm": {
     "name": "#%%\n"
    }
   },
   "outputs": [],
   "source": [
    "for id,more in zip(Df_more_offers.ID, Df_more_offers.MORE):\n",
    "    if more < 10:\n",
    "        search_more_offers_1(id)\n",
    "    elif (more > 10) and (more < 20):\n",
    "        search_more_offers_1(id)\n",
    "        search_more_offers_2(id)\n",
    "    elif (more > 20) and (more < 30):\n",
    "        search_more_offers_1(id)\n",
    "        search_more_offers_2(id)\n",
    "        search_more_offers_3(id)\n",
    "    elif (more > 30) and (more < 40):\n",
    "        search_more_offers_1(id)\n",
    "        search_more_offers_2(id)\n",
    "        search_more_offers_3(id)\n",
    "        search_more_offers_4(id)\n",
    "    elif (more > 40) and (more < 50):\n",
    "        search_more_offers_1(id)\n",
    "        search_more_offers_2(id)\n",
    "        search_more_offers_3(id)\n",
    "        search_more_offers_4(id)\n",
    "        search_more_offers_5(id)"
   ]
  },
  {
   "cell_type": "code",
   "execution_count": 78,
   "outputs": [
    {
     "name": "stdout",
     "output_type": "stream",
     "text": [
      "531\n",
      "531\n",
      "531\n"
     ]
    }
   ],
   "source": [
    "print(len(Amazon_seller_more))\n",
    "print(len(Amazon_ID_More))\n",
    "print(len(Amazon_price_more))"
   ],
   "metadata": {
    "collapsed": false,
    "pycharm": {
     "name": "#%%\n"
    }
   }
  },
  {
   "cell_type": "code",
   "execution_count": 40,
   "outputs": [
    {
     "ename": "KeyboardInterrupt",
     "evalue": "",
     "output_type": "error",
     "traceback": [
      "\u001B[1;31m---------------------------------------------------------------------------\u001B[0m",
      "\u001B[1;31mKeyboardInterrupt\u001B[0m                         Traceback (most recent call last)",
      "Input \u001B[1;32mIn [40]\u001B[0m, in \u001B[0;36m<cell line: 5>\u001B[1;34m()\u001B[0m\n\u001B[0;32m      1\u001B[0m new_url \u001B[38;5;241m=\u001B[39m \u001B[38;5;124m\"\u001B[39m\u001B[38;5;124mhttps://www.amazon.com.br/gp/product/ajax/?asin=\u001B[39m\u001B[38;5;124m\"\u001B[39m \u001B[38;5;241m+\u001B[39m \u001B[38;5;124m\"\u001B[39m\u001B[38;5;124mB079NWPZTF\u001B[39m\u001B[38;5;124m\"\u001B[39m \u001B[38;5;241m+\u001B[39m \u001B[38;5;124m\"\u001B[39m\u001B[38;5;124m&pageno=1&experienceId=aodAjaxMain\u001B[39m\u001B[38;5;124m\"\u001B[39m\n\u001B[0;32m      3\u001B[0m driver\u001B[38;5;241m.\u001B[39mget(new_url)\n\u001B[1;32m----> 5\u001B[0m \u001B[43mtime\u001B[49m\u001B[38;5;241;43m.\u001B[39;49m\u001B[43msleep\u001B[49m\u001B[43m(\u001B[49m\u001B[38;5;241;43m5\u001B[39;49m\u001B[43m)\u001B[49m\n\u001B[0;32m      7\u001B[0m body_el \u001B[38;5;241m=\u001B[39m driver\u001B[38;5;241m.\u001B[39mfind_element(By\u001B[38;5;241m.\u001B[39mCSS_SELECTOR, \u001B[38;5;124m'\u001B[39m\u001B[38;5;124mbody\u001B[39m\u001B[38;5;124m'\u001B[39m)\n\u001B[0;32m      8\u001B[0m html_str \u001B[38;5;241m=\u001B[39m body_el\u001B[38;5;241m.\u001B[39mget_attribute(\u001B[38;5;124m'\u001B[39m\u001B[38;5;124minnerHTML\u001B[39m\u001B[38;5;124m'\u001B[39m)\n",
      "\u001B[1;31mKeyboardInterrupt\u001B[0m: "
     ]
    }
   ],
   "source": [
    "new_url = \"https://www.amazon.com.br/gp/product/ajax/?asin=\" + \"B079NWPZTF\" + \"&pageno=1&experienceId=aodAjaxMain\"\n",
    "\n",
    "driver.get(new_url)\n",
    "\n",
    "time.sleep(5)\n",
    "\n",
    "body_el = driver.find_element(By.CSS_SELECTOR, 'body')\n",
    "html_str = body_el.get_attribute('innerHTML')\n",
    "\n",
    "Soup = BeautifulSoup(html_str, 'html.parser')\n",
    "\n",
    "for seller in Soup.find_all(class_='a-size-small a-color-base')[4:]:\n",
    "    Amazon_seller_more.append(seller.text)\n",
    "\n",
    "\n",
    "Amazon_seller_more =  [s for s in Amazon_seller_more if not 'avaliações' in s]\n",
    "Amazon_seller_more =  [s for s in Amazon_seller_more if not ' Amazon.com.br ' in s]\n",
    "Amazon_seller_more =  [s for s in Amazon_seller_more if not 'avaliação' in s]\n",
    "Amazon_seller_more =  [s for s in Amazon_seller_more if not 'Recém-lançado' in s]\n",
    "\n",
    "for price in Soup.find_all(class_='a-offscreen')[2:]:\n",
    "    Amazon_price_more.append(price.text)\n",
    "    Amazon_ID_More.append('B079NWPZTF')"
   ],
   "metadata": {
    "collapsed": false,
    "pycharm": {
     "name": "#%%\n"
    }
   }
  },
  {
   "cell_type": "code",
   "execution_count": null,
   "outputs": [],
   "source": [
    "for name in Amazon_seller_more:\n",
    "    print(name)"
   ],
   "metadata": {
    "collapsed": false,
    "pycharm": {
     "name": "#%%\n"
    }
   }
  },
  {
   "cell_type": "code",
   "execution_count": null,
   "outputs": [],
   "source": [
    "for price in Amazon_price_more:\n",
    "    print(price)"
   ],
   "metadata": {
    "collapsed": false,
    "pycharm": {
     "name": "#%%\n"
    }
   }
  },
  {
   "cell_type": "code",
   "execution_count": null,
   "metadata": {
    "pycharm": {
     "name": "#%%\n"
    }
   },
   "outputs": [],
   "source": [
    "print(len(Amazon_seller_more))\n",
    "print(len(Amazon_ID_More))\n",
    "print(len(Amazon_price_more))"
   ]
  },
  {
   "cell_type": "code",
   "execution_count": null,
   "outputs": [],
   "source": [
    "Amazon_seller_more = []\n",
    "Amazon_price_more = []"
   ],
   "metadata": {
    "collapsed": false,
    "pycharm": {
     "name": "#%%\n"
    }
   }
  },
  {
   "cell_type": "code",
   "execution_count": null,
   "outputs": [],
   "source": [
    "Amazon_seller_more"
   ],
   "metadata": {
    "collapsed": false,
    "pycharm": {
     "name": "#%%\n"
    }
   }
  },
  {
   "cell_type": "code",
   "execution_count": null,
   "outputs": [],
   "source": [
    "Amazon_seller_more.append(\"Erro\")"
   ],
   "metadata": {
    "collapsed": false,
    "pycharm": {
     "name": "#%%\n"
    }
   }
  },
  {
   "cell_type": "code",
   "execution_count": null,
   "outputs": [],
   "source": [
    "Dataframe = pd.DataFrame()\n",
    "\n",
    "Dataframe['ID'] = Amazon_ID_More\n",
    "Dataframe['SELLER'] = Amazon_seller_more\n",
    "Dataframe['PRICE'] = Amazon_price_more"
   ],
   "metadata": {
    "collapsed": false,
    "pycharm": {
     "name": "#%%\n"
    }
   }
  },
  {
   "cell_type": "code",
   "execution_count": null,
   "outputs": [],
   "source": [
    "Dataframe"
   ],
   "metadata": {
    "collapsed": false,
    "pycharm": {
     "name": "#%%\n"
    }
   }
  },
  {
   "cell_type": "code",
   "execution_count": null,
   "outputs": [],
   "source": [
    "Amazon_seller_more"
   ],
   "metadata": {
    "collapsed": false,
    "pycharm": {
     "name": "#%%\n"
    }
   }
  },
  {
   "cell_type": "code",
   "execution_count": null,
   "outputs": [],
   "source": [
    "Amazon_price_more"
   ],
   "metadata": {
    "collapsed": false,
    "pycharm": {
     "name": "#%%\n"
    }
   }
  },
  {
   "cell_type": "code",
   "execution_count": 79,
   "metadata": {
    "pycharm": {
     "name": "#%%\n"
    }
   },
   "outputs": [
    {
     "data": {
      "text/plain": "             ID        DATE MARKETPLACE         SELLER    PRICE  PARCEL  \\\n0    B08JKJ9XLN  2022-08-01      AMAZON  PedroAMSeller   839.00      10   \n1    B08JKJ9XLN  2022-08-01      AMAZON     BUY SUPPLY   923.00      10   \n2    B08JKJ9XLN  2022-08-01      AMAZON       Tendinfo  1099.00      10   \n3    B06W55K9N6  2022-08-01      AMAZON     LOJA FENIX   429.00      10   \n4    B06W55K9N6  2022-08-01      AMAZON      NANU SHOP   431.00      10   \n..          ...         ...         ...            ...      ...     ...   \n526  B093WZHS1G  2022-08-01      AMAZON     ComegaCity  3150.04      10   \n527  B093WZHS1G  2022-08-01      AMAZON     Rover Mall  3038.83      10   \n528  B093BWLBYY  2022-08-01      AMAZON     ComegaCity  2883.86      10   \n529  B093BWLBYY  2022-08-01      AMAZON     Rover Mall  2777.65      10   \n530  B079H7VYY6  2022-08-01      AMAZON     MaraShopBr   619.78      10   \n\n     INSTALLMENT  INSTALLMENT_PAYMENT INTERNACIONAL  \\\n0         83.900               8390.0          ERRO   \n1         92.300               9230.0          ERRO   \n2        109.900              10990.0          ERRO   \n3         42.900               4290.0          ERRO   \n4         43.100               4310.0          ERRO   \n..           ...                  ...           ...   \n526      315.004              31500.4          ERRO   \n527      303.883              30388.3          ERRO   \n528      288.386              28838.6          ERRO   \n529      277.765              27776.5          ERRO   \n530       61.978               6197.8          ERRO   \n\n                                                   URL  \\\n0    https://www.amazon.com.br/Externo-Toshiba-Canv...   \n1    https://www.amazon.com.br/Externo-Toshiba-Canv...   \n2    https://www.amazon.com.br/Externo-Toshiba-Canv...   \n3    https://www.amazon.com.br/Western-Digital-WDBU...   \n4    https://www.amazon.com.br/Western-Digital-WDBU...   \n..                                                 ...   \n526  https://www.amazon.com.br/Seagate-externo-foto...   \n527  https://www.amazon.com.br/Seagate-externo-foto...   \n528  https://www.amazon.com.br/Seagate-Disco-r%C3%A...   \n529  https://www.amazon.com.br/Seagate-Disco-r%C3%A...   \n530  https://www.amazon.com.br/Externo-1TB-Toshiba-...   \n\n                                               PRODUCT  \n0            HD Externo Portátil Toshiba 2TB Canvio...  \n1            HD Externo Portátil Toshiba 2TB Canvio...  \n2            HD Externo Portátil Toshiba 2TB Canvio...  \n3            Western Digital WDBU6Y0020BBK Externo ...  \n4            Western Digital WDBU6Y0020BBK Externo ...  \n..                                                 ...  \n526          Seagate One Touch Hub, 8 TB, disco ríg...  \n527          Seagate One Touch Hub, 8 TB, disco ríg...  \n528          Seagate Disco rígido externo USB 3.0 d...  \n529          Seagate Disco rígido externo USB 3.0 d...  \n530          HD Externo Portátil Toshiba Canvio Adv...  \n\n[531 rows x 11 columns]",
      "text/html": "<div>\n<style scoped>\n    .dataframe tbody tr th:only-of-type {\n        vertical-align: middle;\n    }\n\n    .dataframe tbody tr th {\n        vertical-align: top;\n    }\n\n    .dataframe thead th {\n        text-align: right;\n    }\n</style>\n<table border=\"1\" class=\"dataframe\">\n  <thead>\n    <tr style=\"text-align: right;\">\n      <th></th>\n      <th>ID</th>\n      <th>DATE</th>\n      <th>MARKETPLACE</th>\n      <th>SELLER</th>\n      <th>PRICE</th>\n      <th>PARCEL</th>\n      <th>INSTALLMENT</th>\n      <th>INSTALLMENT_PAYMENT</th>\n      <th>INTERNACIONAL</th>\n      <th>URL</th>\n      <th>PRODUCT</th>\n    </tr>\n  </thead>\n  <tbody>\n    <tr>\n      <th>0</th>\n      <td>B08JKJ9XLN</td>\n      <td>2022-08-01</td>\n      <td>AMAZON</td>\n      <td>PedroAMSeller</td>\n      <td>839.00</td>\n      <td>10</td>\n      <td>83.900</td>\n      <td>8390.0</td>\n      <td>ERRO</td>\n      <td>https://www.amazon.com.br/Externo-Toshiba-Canv...</td>\n      <td>HD Externo Portátil Toshiba 2TB Canvio...</td>\n    </tr>\n    <tr>\n      <th>1</th>\n      <td>B08JKJ9XLN</td>\n      <td>2022-08-01</td>\n      <td>AMAZON</td>\n      <td>BUY SUPPLY</td>\n      <td>923.00</td>\n      <td>10</td>\n      <td>92.300</td>\n      <td>9230.0</td>\n      <td>ERRO</td>\n      <td>https://www.amazon.com.br/Externo-Toshiba-Canv...</td>\n      <td>HD Externo Portátil Toshiba 2TB Canvio...</td>\n    </tr>\n    <tr>\n      <th>2</th>\n      <td>B08JKJ9XLN</td>\n      <td>2022-08-01</td>\n      <td>AMAZON</td>\n      <td>Tendinfo</td>\n      <td>1099.00</td>\n      <td>10</td>\n      <td>109.900</td>\n      <td>10990.0</td>\n      <td>ERRO</td>\n      <td>https://www.amazon.com.br/Externo-Toshiba-Canv...</td>\n      <td>HD Externo Portátil Toshiba 2TB Canvio...</td>\n    </tr>\n    <tr>\n      <th>3</th>\n      <td>B06W55K9N6</td>\n      <td>2022-08-01</td>\n      <td>AMAZON</td>\n      <td>LOJA FENIX</td>\n      <td>429.00</td>\n      <td>10</td>\n      <td>42.900</td>\n      <td>4290.0</td>\n      <td>ERRO</td>\n      <td>https://www.amazon.com.br/Western-Digital-WDBU...</td>\n      <td>Western Digital WDBU6Y0020BBK Externo ...</td>\n    </tr>\n    <tr>\n      <th>4</th>\n      <td>B06W55K9N6</td>\n      <td>2022-08-01</td>\n      <td>AMAZON</td>\n      <td>NANU SHOP</td>\n      <td>431.00</td>\n      <td>10</td>\n      <td>43.100</td>\n      <td>4310.0</td>\n      <td>ERRO</td>\n      <td>https://www.amazon.com.br/Western-Digital-WDBU...</td>\n      <td>Western Digital WDBU6Y0020BBK Externo ...</td>\n    </tr>\n    <tr>\n      <th>...</th>\n      <td>...</td>\n      <td>...</td>\n      <td>...</td>\n      <td>...</td>\n      <td>...</td>\n      <td>...</td>\n      <td>...</td>\n      <td>...</td>\n      <td>...</td>\n      <td>...</td>\n      <td>...</td>\n    </tr>\n    <tr>\n      <th>526</th>\n      <td>B093WZHS1G</td>\n      <td>2022-08-01</td>\n      <td>AMAZON</td>\n      <td>ComegaCity</td>\n      <td>3150.04</td>\n      <td>10</td>\n      <td>315.004</td>\n      <td>31500.4</td>\n      <td>ERRO</td>\n      <td>https://www.amazon.com.br/Seagate-externo-foto...</td>\n      <td>Seagate One Touch Hub, 8 TB, disco ríg...</td>\n    </tr>\n    <tr>\n      <th>527</th>\n      <td>B093WZHS1G</td>\n      <td>2022-08-01</td>\n      <td>AMAZON</td>\n      <td>Rover Mall</td>\n      <td>3038.83</td>\n      <td>10</td>\n      <td>303.883</td>\n      <td>30388.3</td>\n      <td>ERRO</td>\n      <td>https://www.amazon.com.br/Seagate-externo-foto...</td>\n      <td>Seagate One Touch Hub, 8 TB, disco ríg...</td>\n    </tr>\n    <tr>\n      <th>528</th>\n      <td>B093BWLBYY</td>\n      <td>2022-08-01</td>\n      <td>AMAZON</td>\n      <td>ComegaCity</td>\n      <td>2883.86</td>\n      <td>10</td>\n      <td>288.386</td>\n      <td>28838.6</td>\n      <td>ERRO</td>\n      <td>https://www.amazon.com.br/Seagate-Disco-r%C3%A...</td>\n      <td>Seagate Disco rígido externo USB 3.0 d...</td>\n    </tr>\n    <tr>\n      <th>529</th>\n      <td>B093BWLBYY</td>\n      <td>2022-08-01</td>\n      <td>AMAZON</td>\n      <td>Rover Mall</td>\n      <td>2777.65</td>\n      <td>10</td>\n      <td>277.765</td>\n      <td>27776.5</td>\n      <td>ERRO</td>\n      <td>https://www.amazon.com.br/Seagate-Disco-r%C3%A...</td>\n      <td>Seagate Disco rígido externo USB 3.0 d...</td>\n    </tr>\n    <tr>\n      <th>530</th>\n      <td>B079H7VYY6</td>\n      <td>2022-08-01</td>\n      <td>AMAZON</td>\n      <td>MaraShopBr</td>\n      <td>619.78</td>\n      <td>10</td>\n      <td>61.978</td>\n      <td>6197.8</td>\n      <td>ERRO</td>\n      <td>https://www.amazon.com.br/Externo-1TB-Toshiba-...</td>\n      <td>HD Externo Portátil Toshiba Canvio Adv...</td>\n    </tr>\n  </tbody>\n</table>\n<p>531 rows × 11 columns</p>\n</div>"
     },
     "execution_count": 79,
     "metadata": {},
     "output_type": "execute_result"
    }
   ],
   "source": [
    "Dataframe_More = pd.DataFrame()\n",
    "Dataframe_More['ID'] = Amazon_ID_More\n",
    "\n",
    "Dataframe_More['DATE'] = pd.to_datetime('today', errors='ignore').date()\n",
    "\n",
    "Dataframe_More['MARKETPLACE'] = 'AMAZON'\n",
    "\n",
    "Dataframe_More['SELLER'] = Amazon_seller_more\n",
    "\n",
    "Dataframe_More['PRICE'] = Amazon_price_more\n",
    "Dataframe_More['PRICE'] = Dataframe_More['PRICE'].str.replace(\".\",\"\", regex=True)\n",
    "Dataframe_More['PRICE'] = Dataframe_More['PRICE'].str.replace(\"R$\",\"\", regex=False)\n",
    "Dataframe_More['PRICE'] = Dataframe_More['PRICE'].str.replace(\",\",\".\", regex=True)\n",
    "Dataframe_More['PRICE'] = Dataframe_More['PRICE'].astype('float')\n",
    "\n",
    "Dataframe_More['PARCEL'] = 10\n",
    "\n",
    "Dataframe_More['INSTALLMENT'] = Dataframe_More['PRICE'] / Dataframe_More['PARCEL']\n",
    "\n",
    "Dataframe_More['INSTALLMENT_PAYMENT'] = Dataframe_More['PRICE'] * Dataframe_More['PARCEL']\n",
    "\n",
    "Dataframe_More['INTERNACIONAL'] = 'ERRO'\n",
    "\n",
    "url_names = []\n",
    "for id in Dataframe_More['ID']:\n",
    "    url_names.append(Df_final.loc[Df_final['ID'] == id,'URL'].values[0])\n",
    "\n",
    "products_names = []\n",
    "for id in Dataframe_More['ID']:\n",
    "    products_names.append(Df_final.loc[Df_final['ID'] == id,'PRODUCT'].values[0])\n",
    "\n",
    "Dataframe_More['URL'] = url_names\n",
    "Dataframe_More['PRODUCT'] = products_names\n",
    "\n",
    "Dataframe_More"
   ]
  },
  {
   "cell_type": "code",
   "execution_count": 80,
   "outputs": [],
   "source": [
    "Df_True_Final = pd.concat([Df_final_with_button, Dataframe_More])\n",
    "Df_True_Final = Df_True_Final.sort_values(by='ID')"
   ],
   "metadata": {
    "collapsed": false,
    "pycharm": {
     "name": "#%%\n"
    }
   }
  },
  {
   "cell_type": "code",
   "execution_count": 81,
   "outputs": [],
   "source": [
    "Df_True_Final = Df_True_Final[Df_True_Final['PRICE'] > 100.00]"
   ],
   "metadata": {
    "collapsed": false,
    "pycharm": {
     "name": "#%%\n"
    }
   }
  },
  {
   "cell_type": "code",
   "execution_count": 82,
   "outputs": [
    {
     "data": {
      "text/plain": "           DATE                                                URL  \\\n362  2022-08-01  https://www.amazon.com.br/Seagate-na8hll4n-HD-...   \n66   2022-08-01  https://www.amazon.com.br/Seagate-na8hll4n-HD-...   \n373  2022-08-01  https://www.amazon.com.br/Seagate-na8hll4n-HD-...   \n372  2022-08-01  https://www.amazon.com.br/Seagate-na8hll4n-HD-...   \n370  2022-08-01  https://www.amazon.com.br/Seagate-na8hll4n-HD-...   \n..          ...                                                ...   \n529  2022-08-01  https://www.amazon.com.br/Seagate-Disco-r%C3%A...   \n17   2022-08-01  https://www.amazon.com.br/Seagate-Disco-r%C3%A...   \n526  2022-08-01  https://www.amazon.com.br/Seagate-externo-foto...   \n527  2022-08-01  https://www.amazon.com.br/Seagate-externo-foto...   \n126  2022-08-01  https://www.amazon.com.br/Seagate-externo-foto...   \n\n    MARKETPLACE                  SELLER    PRICE  PARCEL  INSTALLMENT  \\\n362      AMAZON               NANU SHOP   668.99      10       66.899   \n66       AMAZON            LOJA DA MADA   669.99      10       67.080   \n373      AMAZON            Acessoriotec  1500.00      10      150.000   \n372      AMAZON  Mundo dos Computadores   719.54      10       71.954   \n370      AMAZON               Style Vip   750.00      10       75.000   \n..          ...                     ...      ...     ...          ...   \n529      AMAZON              Rover Mall  2777.65      10      277.765   \n17       AMAZON              ComegaCity  5521.48      10      552.148   \n526      AMAZON              ComegaCity  3150.04      10      315.004   \n527      AMAZON              Rover Mall  3038.83      10      303.883   \n126      AMAZON   Triplenet Pricing INC  3150.05      10      315.050   \n\n     INSTALLMENT_PAYMENT          ID  \\\n362               6689.9  B0065KEVA4   \n66                 670.8  B0065KEVA4   \n373              15000.0  B0065KEVA4   \n372               7195.4  B0065KEVA4   \n370               7500.0  B0065KEVA4   \n..                   ...         ...   \n529              27776.5  B093BWLBYY   \n17               55214.8  B093BWYJ9Q   \n526              31500.4  B093WZHS1G   \n527              30388.3  B093WZHS1G   \n126               3150.5  B093WZHS1G   \n\n                                               PRODUCT  INTERNACIONAL  MORE  \n362                      HD Externo Seagate 4tb                  ERRO   NaN  \n66                       HD Externo Seagate 4tb         Internacional  13.0  \n373                      HD Externo Seagate 4tb                  ERRO   NaN  \n372                      HD Externo Seagate 4tb                  ERRO   NaN  \n370                      HD Externo Seagate 4tb                  ERRO   NaN  \n..                                                 ...            ...   ...  \n529          Seagate Disco rígido externo USB 3.0 d...           ERRO   NaN  \n17           Seagate Disco rígido externo USB 3.0 d...           ERRO   0.0  \n526          Seagate One Touch Hub, 8 TB, disco ríg...           ERRO   NaN  \n527          Seagate One Touch Hub, 8 TB, disco ríg...           ERRO   NaN  \n126          Seagate One Touch Hub, 8 TB, disco ríg...  Internacional   3.0  \n\n[667 rows x 12 columns]",
      "text/html": "<div>\n<style scoped>\n    .dataframe tbody tr th:only-of-type {\n        vertical-align: middle;\n    }\n\n    .dataframe tbody tr th {\n        vertical-align: top;\n    }\n\n    .dataframe thead th {\n        text-align: right;\n    }\n</style>\n<table border=\"1\" class=\"dataframe\">\n  <thead>\n    <tr style=\"text-align: right;\">\n      <th></th>\n      <th>DATE</th>\n      <th>URL</th>\n      <th>MARKETPLACE</th>\n      <th>SELLER</th>\n      <th>PRICE</th>\n      <th>PARCEL</th>\n      <th>INSTALLMENT</th>\n      <th>INSTALLMENT_PAYMENT</th>\n      <th>ID</th>\n      <th>PRODUCT</th>\n      <th>INTERNACIONAL</th>\n      <th>MORE</th>\n    </tr>\n  </thead>\n  <tbody>\n    <tr>\n      <th>362</th>\n      <td>2022-08-01</td>\n      <td>https://www.amazon.com.br/Seagate-na8hll4n-HD-...</td>\n      <td>AMAZON</td>\n      <td>NANU SHOP</td>\n      <td>668.99</td>\n      <td>10</td>\n      <td>66.899</td>\n      <td>6689.9</td>\n      <td>B0065KEVA4</td>\n      <td>HD Externo Seagate 4tb</td>\n      <td>ERRO</td>\n      <td>NaN</td>\n    </tr>\n    <tr>\n      <th>66</th>\n      <td>2022-08-01</td>\n      <td>https://www.amazon.com.br/Seagate-na8hll4n-HD-...</td>\n      <td>AMAZON</td>\n      <td>LOJA DA MADA</td>\n      <td>669.99</td>\n      <td>10</td>\n      <td>67.080</td>\n      <td>670.8</td>\n      <td>B0065KEVA4</td>\n      <td>HD Externo Seagate 4tb</td>\n      <td>Internacional</td>\n      <td>13.0</td>\n    </tr>\n    <tr>\n      <th>373</th>\n      <td>2022-08-01</td>\n      <td>https://www.amazon.com.br/Seagate-na8hll4n-HD-...</td>\n      <td>AMAZON</td>\n      <td>Acessoriotec</td>\n      <td>1500.00</td>\n      <td>10</td>\n      <td>150.000</td>\n      <td>15000.0</td>\n      <td>B0065KEVA4</td>\n      <td>HD Externo Seagate 4tb</td>\n      <td>ERRO</td>\n      <td>NaN</td>\n    </tr>\n    <tr>\n      <th>372</th>\n      <td>2022-08-01</td>\n      <td>https://www.amazon.com.br/Seagate-na8hll4n-HD-...</td>\n      <td>AMAZON</td>\n      <td>Mundo dos Computadores</td>\n      <td>719.54</td>\n      <td>10</td>\n      <td>71.954</td>\n      <td>7195.4</td>\n      <td>B0065KEVA4</td>\n      <td>HD Externo Seagate 4tb</td>\n      <td>ERRO</td>\n      <td>NaN</td>\n    </tr>\n    <tr>\n      <th>370</th>\n      <td>2022-08-01</td>\n      <td>https://www.amazon.com.br/Seagate-na8hll4n-HD-...</td>\n      <td>AMAZON</td>\n      <td>Style Vip</td>\n      <td>750.00</td>\n      <td>10</td>\n      <td>75.000</td>\n      <td>7500.0</td>\n      <td>B0065KEVA4</td>\n      <td>HD Externo Seagate 4tb</td>\n      <td>ERRO</td>\n      <td>NaN</td>\n    </tr>\n    <tr>\n      <th>...</th>\n      <td>...</td>\n      <td>...</td>\n      <td>...</td>\n      <td>...</td>\n      <td>...</td>\n      <td>...</td>\n      <td>...</td>\n      <td>...</td>\n      <td>...</td>\n      <td>...</td>\n      <td>...</td>\n      <td>...</td>\n    </tr>\n    <tr>\n      <th>529</th>\n      <td>2022-08-01</td>\n      <td>https://www.amazon.com.br/Seagate-Disco-r%C3%A...</td>\n      <td>AMAZON</td>\n      <td>Rover Mall</td>\n      <td>2777.65</td>\n      <td>10</td>\n      <td>277.765</td>\n      <td>27776.5</td>\n      <td>B093BWLBYY</td>\n      <td>Seagate Disco rígido externo USB 3.0 d...</td>\n      <td>ERRO</td>\n      <td>NaN</td>\n    </tr>\n    <tr>\n      <th>17</th>\n      <td>2022-08-01</td>\n      <td>https://www.amazon.com.br/Seagate-Disco-r%C3%A...</td>\n      <td>AMAZON</td>\n      <td>ComegaCity</td>\n      <td>5521.48</td>\n      <td>10</td>\n      <td>552.148</td>\n      <td>55214.8</td>\n      <td>B093BWYJ9Q</td>\n      <td>Seagate Disco rígido externo USB 3.0 d...</td>\n      <td>ERRO</td>\n      <td>0.0</td>\n    </tr>\n    <tr>\n      <th>526</th>\n      <td>2022-08-01</td>\n      <td>https://www.amazon.com.br/Seagate-externo-foto...</td>\n      <td>AMAZON</td>\n      <td>ComegaCity</td>\n      <td>3150.04</td>\n      <td>10</td>\n      <td>315.004</td>\n      <td>31500.4</td>\n      <td>B093WZHS1G</td>\n      <td>Seagate One Touch Hub, 8 TB, disco ríg...</td>\n      <td>ERRO</td>\n      <td>NaN</td>\n    </tr>\n    <tr>\n      <th>527</th>\n      <td>2022-08-01</td>\n      <td>https://www.amazon.com.br/Seagate-externo-foto...</td>\n      <td>AMAZON</td>\n      <td>Rover Mall</td>\n      <td>3038.83</td>\n      <td>10</td>\n      <td>303.883</td>\n      <td>30388.3</td>\n      <td>B093WZHS1G</td>\n      <td>Seagate One Touch Hub, 8 TB, disco ríg...</td>\n      <td>ERRO</td>\n      <td>NaN</td>\n    </tr>\n    <tr>\n      <th>126</th>\n      <td>2022-08-01</td>\n      <td>https://www.amazon.com.br/Seagate-externo-foto...</td>\n      <td>AMAZON</td>\n      <td>Triplenet Pricing INC</td>\n      <td>3150.05</td>\n      <td>10</td>\n      <td>315.050</td>\n      <td>3150.5</td>\n      <td>B093WZHS1G</td>\n      <td>Seagate One Touch Hub, 8 TB, disco ríg...</td>\n      <td>Internacional</td>\n      <td>3.0</td>\n    </tr>\n  </tbody>\n</table>\n<p>667 rows × 12 columns</p>\n</div>"
     },
     "execution_count": 82,
     "metadata": {},
     "output_type": "execute_result"
    }
   ],
   "source": [
    "Df_True_Final"
   ],
   "metadata": {
    "collapsed": false,
    "pycharm": {
     "name": "#%%\n"
    }
   }
  },
  {
   "cell_type": "code",
   "execution_count": 83,
   "outputs": [],
   "source": [
    "Df_True_Final.to_excel(r\"C:\\Users\\pedro\\Documents\\Turte Brand Protection\\Turtle_Software_Artemis\\Data\\Brand_Search_Test\\Amazon_Toshiba.xlsx\", index=False)"
   ],
   "metadata": {
    "collapsed": false,
    "pycharm": {
     "name": "#%%\n"
    }
   }
  },
  {
   "cell_type": "code",
   "execution_count": 46,
   "outputs": [
    {
     "data": {
      "text/plain": "          DATE                                                URL MARKETPLACE  \\\n0   2022-06-10  https://www.amazon.com.br/Digitalizadora-gr%C3...      AMAZON   \n2   2022-06-10  https://www.amazon.com.br/Folha-Textura-Macia-...      AMAZON   \n3   2022-06-10  https://www.amazon.com.br/Display-Interativo-C...      AMAZON   \n5   2022-06-10  https://www.amazon.com.br/Mesa-Digitalizadora-...      AMAZON   \n6   2022-06-10  https://www.amazon.com.br/Display-Interativo-W...      AMAZON   \n7   2022-06-10  https://www.amazon.com.br/Display-Interativo-W...      AMAZON   \n8   2022-06-10  https://www.amazon.com.br/Caneta-Wacom-Tablets...      AMAZON   \n9   2022-06-10  https://www.amazon.com.br/Caneta-Tablet-Wacom-...      AMAZON   \n10  2022-06-10  https://www.amazon.com.br/Caneta-Tablet-Wacom-...      AMAZON   \n11  2022-06-10  https://www.amazon.com.br/Caneta-Tablet-Wacom-...      AMAZON   \n12  2022-06-10  https://www.amazon.com.br/Folha-Textura-%C3%81...      AMAZON   \n13  2022-06-10  https://www.amazon.com.br/Caneta-Tablet-Wacom-...      AMAZON   \n14  2022-06-10  https://www.amazon.com.br/Folha-Textura-Padr%C...      AMAZON   \n15  2022-06-10  https://www.amazon.com.br/Mesa-Digitalizadora-...      AMAZON   \n16  2022-06-10  https://www.amazon.com.br/Mesa-Digitalizadora-...      AMAZON   \n17  2022-06-10  https://www.amazon.com.br/Digitalizadora-Wacom...      AMAZON   \n18  2022-06-10  https://www.amazon.com.br/Caneta-Tablet-Wacom-...      AMAZON   \n19  2022-06-10  https://www.amazon.com.br/Digitalizadora-Deco-...      AMAZON   \n21  2022-06-10  https://www.amazon.com.br/Digitalizadora-desen...      AMAZON   \n23  2022-06-10  https://www.amazon.com.br/desenho-V2-compat%C3...      AMAZON   \n24  2022-06-10  https://www.amazon.com.br/NEFUTRY-pontas-canet...      AMAZON   \n25  2022-06-10  https://www.amazon.com.br/Mesa-Digitalizadora-...      AMAZON   \n26  2022-06-10  https://www.amazon.com.br/digitalizadora-10moo...      AMAZON   \n27  2022-06-10  https://www.amazon.com.br/H420-Graphics-Drawin...      AMAZON   \n28  2022-06-10  https://www.amazon.com.br/Caneta-Wacom-Tablets...      AMAZON   \n29  2022-06-10  https://www.amazon.com.br/Flat-MOP6125-Verde-F...      AMAZON   \n30  2022-06-10  https://www.amazon.com.br/MESA-DIGITALIZADORA-...      AMAZON   \n31  2022-06-10  https://www.amazon.com.br/Caneta-Wacom-Reposi%...      AMAZON   \n32  2022-06-10  https://www.amazon.com.br/MESA-DIGITALIZADORA-...      AMAZON   \n33  2022-06-10  https://www.amazon.com.br/Mesa-Digitalizadora-...      AMAZON   \n34  2022-06-10  https://www.amazon.com.br/Funien-eletr%C3%B4ni...      AMAZON   \n35  2022-06-10  https://www.amazon.com.br/desenho-ajust%C3%A1v...      AMAZON   \n37  2022-06-10  https://www.amazon.com.br/Digitalizadora-Gaomo...      AMAZON   \n40  2022-06-10  https://www.amazon.com.br/Case-Wacom-Cintiq-13...      AMAZON   \n42  2022-06-10  https://www.amazon.com.br/Ponta-de-caneta-padr...      AMAZON   \n\n                    SELLER    PRICE  PARCEL  INSTALLMENT  INSTALLMENT_PAYMENT  \\\n0            MilleniumShop   469.95      10        47.04               470.40   \n2                   Amazon   151.72       5        30.36               151.80   \n3                   Amazon  6390.00       6         6.32                37.92   \n5                NETVENDAS   219.99       7        31.47               220.29   \n6                   Amazon  4037.49      10       403.83              4038.30   \n7                   Amazon  2889.99       3         3.11                 9.33   \n8                   Amazon   579.90     644       644.33            414948.52   \n9                  INPOWER  1329.00      10       132.90              1329.00   \n10                  Amazon  4716.36      10       471.69              4716.90   \n11          W-TECH IMPORTS  5997.00      10       599.70              5997.00   \n12                  Amazon   299.00       9        33.24               299.16   \n13                  Amazon  3299.99      10       330.08              3300.80   \n14                  Amazon   128.30       4        32.09               128.36   \n15                 INPOWER   199.00       6        33.20               199.20   \n16      Megaprice Comercio   340.40      10        34.04               340.40   \n17       O MUNDO PARA VOCÊ  1879.00      10       187.90              1879.00   \n18                  Amazon  1199.90       1         1.65                 1.65   \n19  Gadget Shop Express BR   245.80       8        30.76               246.08   \n21              Imports Br   424.49      10        42.53               425.30   \n23           MEIREMAGAZINE   495.90      10        49.59               495.90   \n24       Ami Ventures Inc.   375.00      10        37.50               375.00   \n25              Mula Games   399.90      10        39.99               399.90   \n26           yanazeoficial   342.86      10        34.34               343.40   \n27        HD Store Oficial   229.87       7        32.89               230.23   \n28                  Amazon   629.00     740       740.00            547600.00   \n29                  Amazon    27.60       0         0.00                 0.00   \n30               octo.shop  2464.60      10       246.46              2464.60   \n31                  Amazon   299.00       9        33.24               299.16   \n32               Abre Alas   324.12      10        32.43               324.30   \n33                  Amazon   218.41     229       229.90             52647.10   \n34               macrovava    78.99       2        39.50                79.00   \n35                  Comdry   469.35      10        46.98               469.80   \n37           MilleniumShop  2157.70      10       215.77              2157.70   \n40                  Amazon   224.16       7        32.04               224.28   \n42                 2K Shop   239.99       7        34.31               240.17   \n\n            ID                                            PRODUCT  \\\n0   B087NNZSR8          Mesa Digitalizadora XP-PEN Star G960S ...   \n2   B07195N1C6          Folha De Textura Wacom Macia - Tamanho...   \n3   B07L77GTTY          Display Interativo Cintiq 16, Wacom, D...   \n5   B07S1RR3FR          Mesa Digitalizadora One by Wacom CTL47...   \n6   B094489GDW          Display Interativo Wacom One, DTC133W0...   \n7   B082LZXQ6B          Display Interativo Wacom One, DTC133W0...   \n8   B079J2FSQ7          Mesa Digitalizadora Wacom Bluetooth Pe...   \n9   B079NWPZTF          Mesa Digitalizadora Wacom Média Blueto...   \n10  B01MTZ9CCD          Mesa Digitalizadora Wacom Intuos Pro L...   \n11  B01MSXN9M5          Mesa Digitalizadora Intuos Pro Paper G...   \n12  B071DWY2WP          Folha Textura Wacom Áspera G - Ack1223...   \n13  B01MQU5LW7          Mesa Digitalizadora Wacom Intuos Pro M...   \n14  B07195NDY9          Folha De Textura Wacom G - Ack122312. ...   \n15  B0785S55QQ          Wacom One CTL472 - Mesa Digitalizadora...   \n16  B079HL9YSF          Wacom CTL4100 - Mesa Digitalizadora In...   \n17  B07PPQH867          Mesa Digitalizadora Pro Wacom Intuos, ...   \n18  B079NWPZTG          Mesa Digitalizadora Wacom Intuos Pen &...   \n19  B08BCDWMF9          Mesa Digitalizadora Deco Mini 7 Portát...   \n21  B07VKB37HZ          Mesa Digitalizadora XP-PEN Deco01 V2 p...   \n23  B07DPC98DT          Tablet de desenho gráfico Huion H610 P...   \n24  B079LZW3B5          NEFUTRY 30 pontas de caneta padrão de ...   \n25  B096H6MY4X          Mesa Digitalizadora Multilaser 10 Pole...   \n26  B08MDL38KD          Mesa digitalizadora 10moons 10 Polegad...   \n27  B00DM24HNE          Huion H420 OSU Tablet Graphics Drawing...   \n28  B079J7DCXN          Mesa Digitalizadora Wacom Bluetooth Pe...   \n29  B08D9SFNWK          Mop Flat Plus Microfibra Varre e Tira ...   \n30  B08FXLLSRX          XP-PEN MESA DIGITALIZADORA DISPLAY ART...   \n31  B07CYRWTZF          Caneta Wacom De Reposição 4K Intuos CT...   \n32  B08GLTSGQ9             MESA DIGITALIZADORA DECO MINI 7          \n33  B096G7VVCK          Mesa Digitalizadora Multilaser 6 poleg...   \n34  B08NGB17CF          Tablet de escrita Funien, tablet LCD d...   \n35  B08HJC8SD5          Bloco de desenho digital, tablet de de...   \n37  B07YFG742J          Mesa Digitalizadora Gaomon PD1161 11,6...   \n40  B0757XLLZL          Case Wacom Cintiq 13 / Companion - ACK...   \n42  B007TARHDW                Ponta de caneta padrão Wacom          \n\n    INTERNACIONAL  MORE  \n0   Internacional     4  \n2   Internacional     0  \n3   Internacional     3  \n5   Internacional     8  \n6   Internacional     2  \n7   Internacional     9  \n8   Internacional    16  \n9   Internacional     9  \n10  Internacional     5  \n11  Internacional     4  \n12  Internacional     3  \n13  Internacional     5  \n14  Internacional     2  \n15  Internacional    45  \n16  Internacional    33  \n17  Internacional    10  \n18  Internacional    11  \n19  Internacional     8  \n21  Internacional    19  \n23  Internacional     6  \n24  Internacional     2  \n25  Internacional     8  \n26  Internacional     2  \n27  Internacional     3  \n28  Internacional    10  \n29  Internacional     6  \n30  Internacional     5  \n31  Internacional     6  \n32  Internacional     8  \n33  Internacional     8  \n34  Internacional     0  \n35  Internacional     2  \n37  Internacional     2  \n40  Internacional     2  \n42  Internacional     0  ",
      "text/html": "<div>\n<style scoped>\n    .dataframe tbody tr th:only-of-type {\n        vertical-align: middle;\n    }\n\n    .dataframe tbody tr th {\n        vertical-align: top;\n    }\n\n    .dataframe thead th {\n        text-align: right;\n    }\n</style>\n<table border=\"1\" class=\"dataframe\">\n  <thead>\n    <tr style=\"text-align: right;\">\n      <th></th>\n      <th>DATE</th>\n      <th>URL</th>\n      <th>MARKETPLACE</th>\n      <th>SELLER</th>\n      <th>PRICE</th>\n      <th>PARCEL</th>\n      <th>INSTALLMENT</th>\n      <th>INSTALLMENT_PAYMENT</th>\n      <th>ID</th>\n      <th>PRODUCT</th>\n      <th>INTERNACIONAL</th>\n      <th>MORE</th>\n    </tr>\n  </thead>\n  <tbody>\n    <tr>\n      <th>0</th>\n      <td>2022-06-10</td>\n      <td>https://www.amazon.com.br/Digitalizadora-gr%C3...</td>\n      <td>AMAZON</td>\n      <td>MilleniumShop</td>\n      <td>469.95</td>\n      <td>10</td>\n      <td>47.04</td>\n      <td>470.40</td>\n      <td>B087NNZSR8</td>\n      <td>Mesa Digitalizadora XP-PEN Star G960S ...</td>\n      <td>Internacional</td>\n      <td>4</td>\n    </tr>\n    <tr>\n      <th>2</th>\n      <td>2022-06-10</td>\n      <td>https://www.amazon.com.br/Folha-Textura-Macia-...</td>\n      <td>AMAZON</td>\n      <td>Amazon</td>\n      <td>151.72</td>\n      <td>5</td>\n      <td>30.36</td>\n      <td>151.80</td>\n      <td>B07195N1C6</td>\n      <td>Folha De Textura Wacom Macia - Tamanho...</td>\n      <td>Internacional</td>\n      <td>0</td>\n    </tr>\n    <tr>\n      <th>3</th>\n      <td>2022-06-10</td>\n      <td>https://www.amazon.com.br/Display-Interativo-C...</td>\n      <td>AMAZON</td>\n      <td>Amazon</td>\n      <td>6390.00</td>\n      <td>6</td>\n      <td>6.32</td>\n      <td>37.92</td>\n      <td>B07L77GTTY</td>\n      <td>Display Interativo Cintiq 16, Wacom, D...</td>\n      <td>Internacional</td>\n      <td>3</td>\n    </tr>\n    <tr>\n      <th>5</th>\n      <td>2022-06-10</td>\n      <td>https://www.amazon.com.br/Mesa-Digitalizadora-...</td>\n      <td>AMAZON</td>\n      <td>NETVENDAS</td>\n      <td>219.99</td>\n      <td>7</td>\n      <td>31.47</td>\n      <td>220.29</td>\n      <td>B07S1RR3FR</td>\n      <td>Mesa Digitalizadora One by Wacom CTL47...</td>\n      <td>Internacional</td>\n      <td>8</td>\n    </tr>\n    <tr>\n      <th>6</th>\n      <td>2022-06-10</td>\n      <td>https://www.amazon.com.br/Display-Interativo-W...</td>\n      <td>AMAZON</td>\n      <td>Amazon</td>\n      <td>4037.49</td>\n      <td>10</td>\n      <td>403.83</td>\n      <td>4038.30</td>\n      <td>B094489GDW</td>\n      <td>Display Interativo Wacom One, DTC133W0...</td>\n      <td>Internacional</td>\n      <td>2</td>\n    </tr>\n    <tr>\n      <th>7</th>\n      <td>2022-06-10</td>\n      <td>https://www.amazon.com.br/Display-Interativo-W...</td>\n      <td>AMAZON</td>\n      <td>Amazon</td>\n      <td>2889.99</td>\n      <td>3</td>\n      <td>3.11</td>\n      <td>9.33</td>\n      <td>B082LZXQ6B</td>\n      <td>Display Interativo Wacom One, DTC133W0...</td>\n      <td>Internacional</td>\n      <td>9</td>\n    </tr>\n    <tr>\n      <th>8</th>\n      <td>2022-06-10</td>\n      <td>https://www.amazon.com.br/Caneta-Wacom-Tablets...</td>\n      <td>AMAZON</td>\n      <td>Amazon</td>\n      <td>579.90</td>\n      <td>644</td>\n      <td>644.33</td>\n      <td>414948.52</td>\n      <td>B079J2FSQ7</td>\n      <td>Mesa Digitalizadora Wacom Bluetooth Pe...</td>\n      <td>Internacional</td>\n      <td>16</td>\n    </tr>\n    <tr>\n      <th>9</th>\n      <td>2022-06-10</td>\n      <td>https://www.amazon.com.br/Caneta-Tablet-Wacom-...</td>\n      <td>AMAZON</td>\n      <td>INPOWER</td>\n      <td>1329.00</td>\n      <td>10</td>\n      <td>132.90</td>\n      <td>1329.00</td>\n      <td>B079NWPZTF</td>\n      <td>Mesa Digitalizadora Wacom Média Blueto...</td>\n      <td>Internacional</td>\n      <td>9</td>\n    </tr>\n    <tr>\n      <th>10</th>\n      <td>2022-06-10</td>\n      <td>https://www.amazon.com.br/Caneta-Tablet-Wacom-...</td>\n      <td>AMAZON</td>\n      <td>Amazon</td>\n      <td>4716.36</td>\n      <td>10</td>\n      <td>471.69</td>\n      <td>4716.90</td>\n      <td>B01MTZ9CCD</td>\n      <td>Mesa Digitalizadora Wacom Intuos Pro L...</td>\n      <td>Internacional</td>\n      <td>5</td>\n    </tr>\n    <tr>\n      <th>11</th>\n      <td>2022-06-10</td>\n      <td>https://www.amazon.com.br/Caneta-Tablet-Wacom-...</td>\n      <td>AMAZON</td>\n      <td>W-TECH IMPORTS</td>\n      <td>5997.00</td>\n      <td>10</td>\n      <td>599.70</td>\n      <td>5997.00</td>\n      <td>B01MSXN9M5</td>\n      <td>Mesa Digitalizadora Intuos Pro Paper G...</td>\n      <td>Internacional</td>\n      <td>4</td>\n    </tr>\n    <tr>\n      <th>12</th>\n      <td>2022-06-10</td>\n      <td>https://www.amazon.com.br/Folha-Textura-%C3%81...</td>\n      <td>AMAZON</td>\n      <td>Amazon</td>\n      <td>299.00</td>\n      <td>9</td>\n      <td>33.24</td>\n      <td>299.16</td>\n      <td>B071DWY2WP</td>\n      <td>Folha Textura Wacom Áspera G - Ack1223...</td>\n      <td>Internacional</td>\n      <td>3</td>\n    </tr>\n    <tr>\n      <th>13</th>\n      <td>2022-06-10</td>\n      <td>https://www.amazon.com.br/Caneta-Tablet-Wacom-...</td>\n      <td>AMAZON</td>\n      <td>Amazon</td>\n      <td>3299.99</td>\n      <td>10</td>\n      <td>330.08</td>\n      <td>3300.80</td>\n      <td>B01MQU5LW7</td>\n      <td>Mesa Digitalizadora Wacom Intuos Pro M...</td>\n      <td>Internacional</td>\n      <td>5</td>\n    </tr>\n    <tr>\n      <th>14</th>\n      <td>2022-06-10</td>\n      <td>https://www.amazon.com.br/Folha-Textura-Padr%C...</td>\n      <td>AMAZON</td>\n      <td>Amazon</td>\n      <td>128.30</td>\n      <td>4</td>\n      <td>32.09</td>\n      <td>128.36</td>\n      <td>B07195NDY9</td>\n      <td>Folha De Textura Wacom G - Ack122312. ...</td>\n      <td>Internacional</td>\n      <td>2</td>\n    </tr>\n    <tr>\n      <th>15</th>\n      <td>2022-06-10</td>\n      <td>https://www.amazon.com.br/Mesa-Digitalizadora-...</td>\n      <td>AMAZON</td>\n      <td>INPOWER</td>\n      <td>199.00</td>\n      <td>6</td>\n      <td>33.20</td>\n      <td>199.20</td>\n      <td>B0785S55QQ</td>\n      <td>Wacom One CTL472 - Mesa Digitalizadora...</td>\n      <td>Internacional</td>\n      <td>45</td>\n    </tr>\n    <tr>\n      <th>16</th>\n      <td>2022-06-10</td>\n      <td>https://www.amazon.com.br/Mesa-Digitalizadora-...</td>\n      <td>AMAZON</td>\n      <td>Megaprice Comercio</td>\n      <td>340.40</td>\n      <td>10</td>\n      <td>34.04</td>\n      <td>340.40</td>\n      <td>B079HL9YSF</td>\n      <td>Wacom CTL4100 - Mesa Digitalizadora In...</td>\n      <td>Internacional</td>\n      <td>33</td>\n    </tr>\n    <tr>\n      <th>17</th>\n      <td>2022-06-10</td>\n      <td>https://www.amazon.com.br/Digitalizadora-Wacom...</td>\n      <td>AMAZON</td>\n      <td>O MUNDO PARA VOCÊ</td>\n      <td>1879.00</td>\n      <td>10</td>\n      <td>187.90</td>\n      <td>1879.00</td>\n      <td>B07PPQH867</td>\n      <td>Mesa Digitalizadora Pro Wacom Intuos, ...</td>\n      <td>Internacional</td>\n      <td>10</td>\n    </tr>\n    <tr>\n      <th>18</th>\n      <td>2022-06-10</td>\n      <td>https://www.amazon.com.br/Caneta-Tablet-Wacom-...</td>\n      <td>AMAZON</td>\n      <td>Amazon</td>\n      <td>1199.90</td>\n      <td>1</td>\n      <td>1.65</td>\n      <td>1.65</td>\n      <td>B079NWPZTG</td>\n      <td>Mesa Digitalizadora Wacom Intuos Pen &amp;...</td>\n      <td>Internacional</td>\n      <td>11</td>\n    </tr>\n    <tr>\n      <th>19</th>\n      <td>2022-06-10</td>\n      <td>https://www.amazon.com.br/Digitalizadora-Deco-...</td>\n      <td>AMAZON</td>\n      <td>Gadget Shop Express BR</td>\n      <td>245.80</td>\n      <td>8</td>\n      <td>30.76</td>\n      <td>246.08</td>\n      <td>B08BCDWMF9</td>\n      <td>Mesa Digitalizadora Deco Mini 7 Portát...</td>\n      <td>Internacional</td>\n      <td>8</td>\n    </tr>\n    <tr>\n      <th>21</th>\n      <td>2022-06-10</td>\n      <td>https://www.amazon.com.br/Digitalizadora-desen...</td>\n      <td>AMAZON</td>\n      <td>Imports Br</td>\n      <td>424.49</td>\n      <td>10</td>\n      <td>42.53</td>\n      <td>425.30</td>\n      <td>B07VKB37HZ</td>\n      <td>Mesa Digitalizadora XP-PEN Deco01 V2 p...</td>\n      <td>Internacional</td>\n      <td>19</td>\n    </tr>\n    <tr>\n      <th>23</th>\n      <td>2022-06-10</td>\n      <td>https://www.amazon.com.br/desenho-V2-compat%C3...</td>\n      <td>AMAZON</td>\n      <td>MEIREMAGAZINE</td>\n      <td>495.90</td>\n      <td>10</td>\n      <td>49.59</td>\n      <td>495.90</td>\n      <td>B07DPC98DT</td>\n      <td>Tablet de desenho gráfico Huion H610 P...</td>\n      <td>Internacional</td>\n      <td>6</td>\n    </tr>\n    <tr>\n      <th>24</th>\n      <td>2022-06-10</td>\n      <td>https://www.amazon.com.br/NEFUTRY-pontas-canet...</td>\n      <td>AMAZON</td>\n      <td>Ami Ventures Inc.</td>\n      <td>375.00</td>\n      <td>10</td>\n      <td>37.50</td>\n      <td>375.00</td>\n      <td>B079LZW3B5</td>\n      <td>NEFUTRY 30 pontas de caneta padrão de ...</td>\n      <td>Internacional</td>\n      <td>2</td>\n    </tr>\n    <tr>\n      <th>25</th>\n      <td>2022-06-10</td>\n      <td>https://www.amazon.com.br/Mesa-Digitalizadora-...</td>\n      <td>AMAZON</td>\n      <td>Mula Games</td>\n      <td>399.90</td>\n      <td>10</td>\n      <td>39.99</td>\n      <td>399.90</td>\n      <td>B096H6MY4X</td>\n      <td>Mesa Digitalizadora Multilaser 10 Pole...</td>\n      <td>Internacional</td>\n      <td>8</td>\n    </tr>\n    <tr>\n      <th>26</th>\n      <td>2022-06-10</td>\n      <td>https://www.amazon.com.br/digitalizadora-10moo...</td>\n      <td>AMAZON</td>\n      <td>yanazeoficial</td>\n      <td>342.86</td>\n      <td>10</td>\n      <td>34.34</td>\n      <td>343.40</td>\n      <td>B08MDL38KD</td>\n      <td>Mesa digitalizadora 10moons 10 Polegad...</td>\n      <td>Internacional</td>\n      <td>2</td>\n    </tr>\n    <tr>\n      <th>27</th>\n      <td>2022-06-10</td>\n      <td>https://www.amazon.com.br/H420-Graphics-Drawin...</td>\n      <td>AMAZON</td>\n      <td>HD Store Oficial</td>\n      <td>229.87</td>\n      <td>7</td>\n      <td>32.89</td>\n      <td>230.23</td>\n      <td>B00DM24HNE</td>\n      <td>Huion H420 OSU Tablet Graphics Drawing...</td>\n      <td>Internacional</td>\n      <td>3</td>\n    </tr>\n    <tr>\n      <th>28</th>\n      <td>2022-06-10</td>\n      <td>https://www.amazon.com.br/Caneta-Wacom-Tablets...</td>\n      <td>AMAZON</td>\n      <td>Amazon</td>\n      <td>629.00</td>\n      <td>740</td>\n      <td>740.00</td>\n      <td>547600.00</td>\n      <td>B079J7DCXN</td>\n      <td>Mesa Digitalizadora Wacom Bluetooth Pe...</td>\n      <td>Internacional</td>\n      <td>10</td>\n    </tr>\n    <tr>\n      <th>29</th>\n      <td>2022-06-10</td>\n      <td>https://www.amazon.com.br/Flat-MOP6125-Verde-F...</td>\n      <td>AMAZON</td>\n      <td>Amazon</td>\n      <td>27.60</td>\n      <td>0</td>\n      <td>0.00</td>\n      <td>0.00</td>\n      <td>B08D9SFNWK</td>\n      <td>Mop Flat Plus Microfibra Varre e Tira ...</td>\n      <td>Internacional</td>\n      <td>6</td>\n    </tr>\n    <tr>\n      <th>30</th>\n      <td>2022-06-10</td>\n      <td>https://www.amazon.com.br/MESA-DIGITALIZADORA-...</td>\n      <td>AMAZON</td>\n      <td>octo.shop</td>\n      <td>2464.60</td>\n      <td>10</td>\n      <td>246.46</td>\n      <td>2464.60</td>\n      <td>B08FXLLSRX</td>\n      <td>XP-PEN MESA DIGITALIZADORA DISPLAY ART...</td>\n      <td>Internacional</td>\n      <td>5</td>\n    </tr>\n    <tr>\n      <th>31</th>\n      <td>2022-06-10</td>\n      <td>https://www.amazon.com.br/Caneta-Wacom-Reposi%...</td>\n      <td>AMAZON</td>\n      <td>Amazon</td>\n      <td>299.00</td>\n      <td>9</td>\n      <td>33.24</td>\n      <td>299.16</td>\n      <td>B07CYRWTZF</td>\n      <td>Caneta Wacom De Reposição 4K Intuos CT...</td>\n      <td>Internacional</td>\n      <td>6</td>\n    </tr>\n    <tr>\n      <th>32</th>\n      <td>2022-06-10</td>\n      <td>https://www.amazon.com.br/MESA-DIGITALIZADORA-...</td>\n      <td>AMAZON</td>\n      <td>Abre Alas</td>\n      <td>324.12</td>\n      <td>10</td>\n      <td>32.43</td>\n      <td>324.30</td>\n      <td>B08GLTSGQ9</td>\n      <td>MESA DIGITALIZADORA DECO MINI 7</td>\n      <td>Internacional</td>\n      <td>8</td>\n    </tr>\n    <tr>\n      <th>33</th>\n      <td>2022-06-10</td>\n      <td>https://www.amazon.com.br/Mesa-Digitalizadora-...</td>\n      <td>AMAZON</td>\n      <td>Amazon</td>\n      <td>218.41</td>\n      <td>229</td>\n      <td>229.90</td>\n      <td>52647.10</td>\n      <td>B096G7VVCK</td>\n      <td>Mesa Digitalizadora Multilaser 6 poleg...</td>\n      <td>Internacional</td>\n      <td>8</td>\n    </tr>\n    <tr>\n      <th>34</th>\n      <td>2022-06-10</td>\n      <td>https://www.amazon.com.br/Funien-eletr%C3%B4ni...</td>\n      <td>AMAZON</td>\n      <td>macrovava</td>\n      <td>78.99</td>\n      <td>2</td>\n      <td>39.50</td>\n      <td>79.00</td>\n      <td>B08NGB17CF</td>\n      <td>Tablet de escrita Funien, tablet LCD d...</td>\n      <td>Internacional</td>\n      <td>0</td>\n    </tr>\n    <tr>\n      <th>35</th>\n      <td>2022-06-10</td>\n      <td>https://www.amazon.com.br/desenho-ajust%C3%A1v...</td>\n      <td>AMAZON</td>\n      <td>Comdry</td>\n      <td>469.35</td>\n      <td>10</td>\n      <td>46.98</td>\n      <td>469.80</td>\n      <td>B08HJC8SD5</td>\n      <td>Bloco de desenho digital, tablet de de...</td>\n      <td>Internacional</td>\n      <td>2</td>\n    </tr>\n    <tr>\n      <th>37</th>\n      <td>2022-06-10</td>\n      <td>https://www.amazon.com.br/Digitalizadora-Gaomo...</td>\n      <td>AMAZON</td>\n      <td>MilleniumShop</td>\n      <td>2157.70</td>\n      <td>10</td>\n      <td>215.77</td>\n      <td>2157.70</td>\n      <td>B07YFG742J</td>\n      <td>Mesa Digitalizadora Gaomon PD1161 11,6...</td>\n      <td>Internacional</td>\n      <td>2</td>\n    </tr>\n    <tr>\n      <th>40</th>\n      <td>2022-06-10</td>\n      <td>https://www.amazon.com.br/Case-Wacom-Cintiq-13...</td>\n      <td>AMAZON</td>\n      <td>Amazon</td>\n      <td>224.16</td>\n      <td>7</td>\n      <td>32.04</td>\n      <td>224.28</td>\n      <td>B0757XLLZL</td>\n      <td>Case Wacom Cintiq 13 / Companion - ACK...</td>\n      <td>Internacional</td>\n      <td>2</td>\n    </tr>\n    <tr>\n      <th>42</th>\n      <td>2022-06-10</td>\n      <td>https://www.amazon.com.br/Ponta-de-caneta-padr...</td>\n      <td>AMAZON</td>\n      <td>2K Shop</td>\n      <td>239.99</td>\n      <td>7</td>\n      <td>34.31</td>\n      <td>240.17</td>\n      <td>B007TARHDW</td>\n      <td>Ponta de caneta padrão Wacom</td>\n      <td>Internacional</td>\n      <td>0</td>\n    </tr>\n  </tbody>\n</table>\n</div>"
     },
     "execution_count": 46,
     "metadata": {},
     "output_type": "execute_result"
    }
   ],
   "source": [
    " Df_final"
   ],
   "metadata": {
    "collapsed": false,
    "pycharm": {
     "name": "#%%\n"
    }
   }
  },
  {
   "cell_type": "code",
   "execution_count": 37,
   "outputs": [],
   "source": [
    "Df_final.to_excel(r\"C:\\Users\\pedro\\Documents\\Turte Brand Protection\\Turtle_Thinker_Alpha_0.1\\AMAZON.xlsx\", index=False)\n",
    "Dataframe_Button.to_excel(r\"C:\\Users\\pedro\\Documents\\Turte Brand Protection\\Turtle_Thinker_Alpha_0.1\\AMAZON_BUTTON.xlsx\", index=False)\n",
    "Dataframe_More.to_excel(r\"C:\\Users\\pedro\\Documents\\Turte Brand Protection\\Turtle_Thinker_Alpha_0.1\\AMAZON_MORE.xlsx\", index=False)"
   ],
   "metadata": {
    "collapsed": false,
    "pycharm": {
     "name": "#%%\n"
    }
   }
  },
  {
   "cell_type": "code",
   "execution_count": 35,
   "outputs": [
    {
     "data": {
      "text/plain": "          DATE                                                URL MARKETPLACE  \\\n6   2022-06-06  https://www.amazon.com.br/C%C3%82MERA-GOPRO-HE...      AMAZON   \n14  2022-06-06  https://www.amazon.com.br/C%C3%82MERA-GOPRO-HE...      AMAZON   \n15  2022-06-06  https://www.amazon.com.br/C%C3%A2mera-Cart%C3%...      AMAZON   \n35  2022-06-06  https://www.amazon.com.br/fengny-Substitui%C3%...      AMAZON   \n39  2022-06-06  https://www.amazon.com.br/Acess%C3%B3rios-para...      AMAZON   \n40  2022-06-06  https://www.amazon.com.br/Zwbfu-acess%C3%B3rio...      AMAZON   \n44  2022-06-06  https://www.amazon.com.br/Insta360-imperme%C3%...      AMAZON   \n48  2022-06-06  https://www.amazon.com.br/Conjunto-acess%C3%B3...      AMAZON   \n49  2022-06-06  https://www.amazon.com.br/Kit-50-Acess%C3%B3ri...      AMAZON   \n50  2022-06-06  https://www.amazon.com.br/PORTA-USB-PARA-PRONL...      AMAZON   \n52  2022-06-06  https://www.amazon.com.br/GoPole-Alcan%C3%A7a-...      AMAZON   \n54  2022-06-06  https://www.amazon.com.br/Cucudy-subaqu%C3%A1t...      AMAZON   \n60  2022-06-06  https://www.amazon.com.br/Porta-Lateral-GoPro-...      AMAZON   \n62  2022-06-06  https://www.amazon.com.br/GoPro-Porta-Lateral-...      AMAZON   \n64  2022-06-06  https://www.amazon.com.br/Zwbfu-XTGP559-prote%...      AMAZON   \n65  2022-06-06  https://www.amazon.com.br/Porta-Lateral-Compat...      AMAZON   \n67  2022-06-06  https://www.amazon.com.br/Trip%C3%A9-Bast%C3%A...      AMAZON   \n\n            SELLER    PRICE  PARCEL  INSTALLMENT  INSTALLMENT_PAYMENT  \\\n6   GRUPO MAVERICK  3099.99      10       310.08              3100.80   \n14  GRUPO MAVERICK  3099.99      10       310.08              3100.80   \n15    LIVE IMPORTS  3099.00      10       309.90              3099.00   \n35        kokorest   183.40       6        30.60               183.60   \n39          FUNPro   275.00       9        30.60               275.40   \n40          Jeneza   177.99       5        35.63               178.15   \n44     EVO Gimbals  3636.86      10       363.74              3637.40   \n48        Minimini    75.00       2        37.50                75.00   \n49          Amazon   342.14      10        34.25               342.50   \n50  GRUPO MAVERICK   299.99       9        33.35               300.15   \n52          FUNPro   208.40       6        34.75               208.50   \n54          Jeneza    95.18       3        31.74                95.22   \n60  GRUPO MAVERICK    59.99       0         0.00                 0.00   \n62  GRUPO MAVERICK   189.99       6        31.69               190.14   \n64          Jeneza   316.99      10        31.78               317.80   \n65          FUNPro    34.90       0         0.00                 0.00   \n67          FUNPro   142.00       4        35.50               142.00   \n\n            ID                                            PRODUCT  \\\n6   B09LZ9655F          CÂMERA GOPRO HERO 8 BLACK - POWER BUND...   \n14  B09MG3XKZJ          CÂMERA GOPRO HERO 8 BLACK – SPECIAL BU...   \n15  B08R2XCM9K          Câmera GoPro HERO9 Black à Prova D'águ...   \n35  B09ZPB2QW3          fengny Substituição de controle remoto...   \n39  B086M7FK58          Kit de Acessórios para GoPro Hero 8 Bl...   \n40  B09GJMPY6R          Zwbfu Kit de acessórios para câmera de...   \n44  B08M3B9754          Insta360 Câmera de ação impermeável ON...   \n48  B082X8HPLL          Conjunto de acessórios para câmera Mob...   \n49  B07LFLJBW4          Kit 50 Em 1 De Acessórios Para Gopro  ...   \n50  B09BBJTF8R          PORTA USB PARA USO PRONLONGADO HERO 9 ...   \n52  B00B3YFDBS          GoPole Alcança de extensão de 14 a 101...   \n54  B08TTPW7DW          Cucudy Câmera de ação capa protetora à...   \n60  B08JCR3NTZ          Porta Lateral Compatível com GoPro Her...   \n62  B01L2CPKOK          Porta Lateral de Reposição para Hero6,...   \n64  B09GJGW62Z          Zwbfu Câmera XTGP559 Porta de cúpula c...   \n65  B09D8NZV8J          Porta Lateral Compatível com GoPro Her...   \n67  B08HV3FYQJ          Mini Tripé e Bastão para GoPro e Câmer...   \n\n    INTERNACIONAL  MORE  \n6   Internacional     0  \n14  Internacional     0  \n15  Internacional     0  \n35  Internacional     0  \n39  Internacional     0  \n40  Internacional     0  \n44  Internacional     0  \n48  Internacional     0  \n49  Internacional     0  \n50  Internacional     0  \n52  Internacional     0  \n54  Internacional     0  \n60  Internacional     0  \n62  Internacional     0  \n64  Internacional     0  \n65  Internacional     0  \n67  Internacional     0  ",
      "text/html": "<div>\n<style scoped>\n    .dataframe tbody tr th:only-of-type {\n        vertical-align: middle;\n    }\n\n    .dataframe tbody tr th {\n        vertical-align: top;\n    }\n\n    .dataframe thead th {\n        text-align: right;\n    }\n</style>\n<table border=\"1\" class=\"dataframe\">\n  <thead>\n    <tr style=\"text-align: right;\">\n      <th></th>\n      <th>DATE</th>\n      <th>URL</th>\n      <th>MARKETPLACE</th>\n      <th>SELLER</th>\n      <th>PRICE</th>\n      <th>PARCEL</th>\n      <th>INSTALLMENT</th>\n      <th>INSTALLMENT_PAYMENT</th>\n      <th>ID</th>\n      <th>PRODUCT</th>\n      <th>INTERNACIONAL</th>\n      <th>MORE</th>\n    </tr>\n  </thead>\n  <tbody>\n    <tr>\n      <th>6</th>\n      <td>2022-06-06</td>\n      <td>https://www.amazon.com.br/C%C3%82MERA-GOPRO-HE...</td>\n      <td>AMAZON</td>\n      <td>GRUPO MAVERICK</td>\n      <td>3099.99</td>\n      <td>10</td>\n      <td>310.08</td>\n      <td>3100.80</td>\n      <td>B09LZ9655F</td>\n      <td>CÂMERA GOPRO HERO 8 BLACK - POWER BUND...</td>\n      <td>Internacional</td>\n      <td>0</td>\n    </tr>\n    <tr>\n      <th>14</th>\n      <td>2022-06-06</td>\n      <td>https://www.amazon.com.br/C%C3%82MERA-GOPRO-HE...</td>\n      <td>AMAZON</td>\n      <td>GRUPO MAVERICK</td>\n      <td>3099.99</td>\n      <td>10</td>\n      <td>310.08</td>\n      <td>3100.80</td>\n      <td>B09MG3XKZJ</td>\n      <td>CÂMERA GOPRO HERO 8 BLACK – SPECIAL BU...</td>\n      <td>Internacional</td>\n      <td>0</td>\n    </tr>\n    <tr>\n      <th>15</th>\n      <td>2022-06-06</td>\n      <td>https://www.amazon.com.br/C%C3%A2mera-Cart%C3%...</td>\n      <td>AMAZON</td>\n      <td>LIVE IMPORTS</td>\n      <td>3099.00</td>\n      <td>10</td>\n      <td>309.90</td>\n      <td>3099.00</td>\n      <td>B08R2XCM9K</td>\n      <td>Câmera GoPro HERO9 Black à Prova D'águ...</td>\n      <td>Internacional</td>\n      <td>0</td>\n    </tr>\n    <tr>\n      <th>35</th>\n      <td>2022-06-06</td>\n      <td>https://www.amazon.com.br/fengny-Substitui%C3%...</td>\n      <td>AMAZON</td>\n      <td>kokorest</td>\n      <td>183.40</td>\n      <td>6</td>\n      <td>30.60</td>\n      <td>183.60</td>\n      <td>B09ZPB2QW3</td>\n      <td>fengny Substituição de controle remoto...</td>\n      <td>Internacional</td>\n      <td>0</td>\n    </tr>\n    <tr>\n      <th>39</th>\n      <td>2022-06-06</td>\n      <td>https://www.amazon.com.br/Acess%C3%B3rios-para...</td>\n      <td>AMAZON</td>\n      <td>FUNPro</td>\n      <td>275.00</td>\n      <td>9</td>\n      <td>30.60</td>\n      <td>275.40</td>\n      <td>B086M7FK58</td>\n      <td>Kit de Acessórios para GoPro Hero 8 Bl...</td>\n      <td>Internacional</td>\n      <td>0</td>\n    </tr>\n    <tr>\n      <th>40</th>\n      <td>2022-06-06</td>\n      <td>https://www.amazon.com.br/Zwbfu-acess%C3%B3rio...</td>\n      <td>AMAZON</td>\n      <td>Jeneza</td>\n      <td>177.99</td>\n      <td>5</td>\n      <td>35.63</td>\n      <td>178.15</td>\n      <td>B09GJMPY6R</td>\n      <td>Zwbfu Kit de acessórios para câmera de...</td>\n      <td>Internacional</td>\n      <td>0</td>\n    </tr>\n    <tr>\n      <th>44</th>\n      <td>2022-06-06</td>\n      <td>https://www.amazon.com.br/Insta360-imperme%C3%...</td>\n      <td>AMAZON</td>\n      <td>EVO Gimbals</td>\n      <td>3636.86</td>\n      <td>10</td>\n      <td>363.74</td>\n      <td>3637.40</td>\n      <td>B08M3B9754</td>\n      <td>Insta360 Câmera de ação impermeável ON...</td>\n      <td>Internacional</td>\n      <td>0</td>\n    </tr>\n    <tr>\n      <th>48</th>\n      <td>2022-06-06</td>\n      <td>https://www.amazon.com.br/Conjunto-acess%C3%B3...</td>\n      <td>AMAZON</td>\n      <td>Minimini</td>\n      <td>75.00</td>\n      <td>2</td>\n      <td>37.50</td>\n      <td>75.00</td>\n      <td>B082X8HPLL</td>\n      <td>Conjunto de acessórios para câmera Mob...</td>\n      <td>Internacional</td>\n      <td>0</td>\n    </tr>\n    <tr>\n      <th>49</th>\n      <td>2022-06-06</td>\n      <td>https://www.amazon.com.br/Kit-50-Acess%C3%B3ri...</td>\n      <td>AMAZON</td>\n      <td>Amazon</td>\n      <td>342.14</td>\n      <td>10</td>\n      <td>34.25</td>\n      <td>342.50</td>\n      <td>B07LFLJBW4</td>\n      <td>Kit 50 Em 1 De Acessórios Para Gopro  ...</td>\n      <td>Internacional</td>\n      <td>0</td>\n    </tr>\n    <tr>\n      <th>50</th>\n      <td>2022-06-06</td>\n      <td>https://www.amazon.com.br/PORTA-USB-PARA-PRONL...</td>\n      <td>AMAZON</td>\n      <td>GRUPO MAVERICK</td>\n      <td>299.99</td>\n      <td>9</td>\n      <td>33.35</td>\n      <td>300.15</td>\n      <td>B09BBJTF8R</td>\n      <td>PORTA USB PARA USO PRONLONGADO HERO 9 ...</td>\n      <td>Internacional</td>\n      <td>0</td>\n    </tr>\n    <tr>\n      <th>52</th>\n      <td>2022-06-06</td>\n      <td>https://www.amazon.com.br/GoPole-Alcan%C3%A7a-...</td>\n      <td>AMAZON</td>\n      <td>FUNPro</td>\n      <td>208.40</td>\n      <td>6</td>\n      <td>34.75</td>\n      <td>208.50</td>\n      <td>B00B3YFDBS</td>\n      <td>GoPole Alcança de extensão de 14 a 101...</td>\n      <td>Internacional</td>\n      <td>0</td>\n    </tr>\n    <tr>\n      <th>54</th>\n      <td>2022-06-06</td>\n      <td>https://www.amazon.com.br/Cucudy-subaqu%C3%A1t...</td>\n      <td>AMAZON</td>\n      <td>Jeneza</td>\n      <td>95.18</td>\n      <td>3</td>\n      <td>31.74</td>\n      <td>95.22</td>\n      <td>B08TTPW7DW</td>\n      <td>Cucudy Câmera de ação capa protetora à...</td>\n      <td>Internacional</td>\n      <td>0</td>\n    </tr>\n    <tr>\n      <th>60</th>\n      <td>2022-06-06</td>\n      <td>https://www.amazon.com.br/Porta-Lateral-GoPro-...</td>\n      <td>AMAZON</td>\n      <td>GRUPO MAVERICK</td>\n      <td>59.99</td>\n      <td>0</td>\n      <td>0.00</td>\n      <td>0.00</td>\n      <td>B08JCR3NTZ</td>\n      <td>Porta Lateral Compatível com GoPro Her...</td>\n      <td>Internacional</td>\n      <td>0</td>\n    </tr>\n    <tr>\n      <th>62</th>\n      <td>2022-06-06</td>\n      <td>https://www.amazon.com.br/GoPro-Porta-Lateral-...</td>\n      <td>AMAZON</td>\n      <td>GRUPO MAVERICK</td>\n      <td>189.99</td>\n      <td>6</td>\n      <td>31.69</td>\n      <td>190.14</td>\n      <td>B01L2CPKOK</td>\n      <td>Porta Lateral de Reposição para Hero6,...</td>\n      <td>Internacional</td>\n      <td>0</td>\n    </tr>\n    <tr>\n      <th>64</th>\n      <td>2022-06-06</td>\n      <td>https://www.amazon.com.br/Zwbfu-XTGP559-prote%...</td>\n      <td>AMAZON</td>\n      <td>Jeneza</td>\n      <td>316.99</td>\n      <td>10</td>\n      <td>31.78</td>\n      <td>317.80</td>\n      <td>B09GJGW62Z</td>\n      <td>Zwbfu Câmera XTGP559 Porta de cúpula c...</td>\n      <td>Internacional</td>\n      <td>0</td>\n    </tr>\n    <tr>\n      <th>65</th>\n      <td>2022-06-06</td>\n      <td>https://www.amazon.com.br/Porta-Lateral-Compat...</td>\n      <td>AMAZON</td>\n      <td>FUNPro</td>\n      <td>34.90</td>\n      <td>0</td>\n      <td>0.00</td>\n      <td>0.00</td>\n      <td>B09D8NZV8J</td>\n      <td>Porta Lateral Compatível com GoPro Her...</td>\n      <td>Internacional</td>\n      <td>0</td>\n    </tr>\n    <tr>\n      <th>67</th>\n      <td>2022-06-06</td>\n      <td>https://www.amazon.com.br/Trip%C3%A9-Bast%C3%A...</td>\n      <td>AMAZON</td>\n      <td>FUNPro</td>\n      <td>142.00</td>\n      <td>4</td>\n      <td>35.50</td>\n      <td>142.00</td>\n      <td>B08HV3FYQJ</td>\n      <td>Mini Tripé e Bastão para GoPro e Câmer...</td>\n      <td>Internacional</td>\n      <td>0</td>\n    </tr>\n  </tbody>\n</table>\n</div>"
     },
     "execution_count": 35,
     "metadata": {},
     "output_type": "execute_result"
    }
   ],
   "source": [
    "Df_final_copy = Df_final[Df_final['PRICE'].str.len() < 10]\n",
    "Df_final_copy = Df_final_copy[Df_final_copy['MORE'] == 0]\n",
    "Df_final_copy"
   ],
   "metadata": {
    "collapsed": false,
    "pycharm": {
     "name": "#%%\n"
    }
   }
  },
  {
   "cell_type": "code",
   "execution_count": 36,
   "outputs": [
    {
     "data": {
      "text/plain": "          DATE                                                URL MARKETPLACE  \\\n6   2022-06-06  https://www.amazon.com.br/C%C3%82MERA-GOPRO-HE...      AMAZON   \n14  2022-06-06  https://www.amazon.com.br/C%C3%82MERA-GOPRO-HE...      AMAZON   \n15  2022-06-06  https://www.amazon.com.br/C%C3%A2mera-Cart%C3%...      AMAZON   \n35  2022-06-06  https://www.amazon.com.br/fengny-Substitui%C3%...      AMAZON   \n39  2022-06-06  https://www.amazon.com.br/Acess%C3%B3rios-para...      AMAZON   \n40  2022-06-06  https://www.amazon.com.br/Zwbfu-acess%C3%B3rio...      AMAZON   \n44  2022-06-06  https://www.amazon.com.br/Insta360-imperme%C3%...      AMAZON   \n48  2022-06-06  https://www.amazon.com.br/Conjunto-acess%C3%B3...      AMAZON   \n49  2022-06-06  https://www.amazon.com.br/Kit-50-Acess%C3%B3ri...      AMAZON   \n50  2022-06-06  https://www.amazon.com.br/PORTA-USB-PARA-PRONL...      AMAZON   \n52  2022-06-06  https://www.amazon.com.br/GoPole-Alcan%C3%A7a-...      AMAZON   \n54  2022-06-06  https://www.amazon.com.br/Cucudy-subaqu%C3%A1t...      AMAZON   \n60  2022-06-06  https://www.amazon.com.br/Porta-Lateral-GoPro-...      AMAZON   \n62  2022-06-06  https://www.amazon.com.br/GoPro-Porta-Lateral-...      AMAZON   \n64  2022-06-06  https://www.amazon.com.br/Zwbfu-XTGP559-prote%...      AMAZON   \n65  2022-06-06  https://www.amazon.com.br/Porta-Lateral-Compat...      AMAZON   \n67  2022-06-06  https://www.amazon.com.br/Trip%C3%A9-Bast%C3%A...      AMAZON   \n\n            SELLER    PRICE  PARCEL  INSTALLMENT  INSTALLMENT_PAYMENT  \\\n6   GRUPO MAVERICK  3099.99      10       310.08              3100.80   \n14  GRUPO MAVERICK  3099.99      10       310.08              3100.80   \n15    LIVE IMPORTS  3099.00      10       309.90              3099.00   \n35        kokorest   183.40       6        30.60               183.60   \n39          FUNPro   275.00       9        30.60               275.40   \n40          Jeneza   177.99       5        35.63               178.15   \n44     EVO Gimbals  3636.86      10       363.74              3637.40   \n48        Minimini    75.00       2        37.50                75.00   \n49          Amazon   342.14      10        34.25               342.50   \n50  GRUPO MAVERICK   299.99       9        33.35               300.15   \n52          FUNPro   208.40       6        34.75               208.50   \n54          Jeneza    95.18       3        31.74                95.22   \n60  GRUPO MAVERICK    59.99       0         0.00                 0.00   \n62  GRUPO MAVERICK   189.99       6        31.69               190.14   \n64          Jeneza   316.99      10        31.78               317.80   \n65          FUNPro    34.90       0         0.00                 0.00   \n67          FUNPro   142.00       4        35.50               142.00   \n\n            ID                                            PRODUCT  \\\n6   B09LZ9655F          CÂMERA GOPRO HERO 8 BLACK - POWER BUND...   \n14  B09MG3XKZJ          CÂMERA GOPRO HERO 8 BLACK – SPECIAL BU...   \n15  B08R2XCM9K          Câmera GoPro HERO9 Black à Prova D'águ...   \n35  B09ZPB2QW3          fengny Substituição de controle remoto...   \n39  B086M7FK58          Kit de Acessórios para GoPro Hero 8 Bl...   \n40  B09GJMPY6R          Zwbfu Kit de acessórios para câmera de...   \n44  B08M3B9754          Insta360 Câmera de ação impermeável ON...   \n48  B082X8HPLL          Conjunto de acessórios para câmera Mob...   \n49  B07LFLJBW4          Kit 50 Em 1 De Acessórios Para Gopro  ...   \n50  B09BBJTF8R          PORTA USB PARA USO PRONLONGADO HERO 9 ...   \n52  B00B3YFDBS          GoPole Alcança de extensão de 14 a 101...   \n54  B08TTPW7DW          Cucudy Câmera de ação capa protetora à...   \n60  B08JCR3NTZ          Porta Lateral Compatível com GoPro Her...   \n62  B01L2CPKOK          Porta Lateral de Reposição para Hero6,...   \n64  B09GJGW62Z          Zwbfu Câmera XTGP559 Porta de cúpula c...   \n65  B09D8NZV8J          Porta Lateral Compatível com GoPro Her...   \n67  B08HV3FYQJ          Mini Tripé e Bastão para GoPro e Câmer...   \n\n    INTERNACIONAL  MORE  \n6   Internacional     0  \n14  Internacional     0  \n15  Internacional     0  \n35  Internacional     0  \n39  Internacional     0  \n40  Internacional     0  \n44  Internacional     0  \n48  Internacional     0  \n49  Internacional     0  \n50  Internacional     0  \n52  Internacional     0  \n54  Internacional     0  \n60  Internacional     0  \n62  Internacional     0  \n64  Internacional     0  \n65  Internacional     0  \n67  Internacional     0  ",
      "text/html": "<div>\n<style scoped>\n    .dataframe tbody tr th:only-of-type {\n        vertical-align: middle;\n    }\n\n    .dataframe tbody tr th {\n        vertical-align: top;\n    }\n\n    .dataframe thead th {\n        text-align: right;\n    }\n</style>\n<table border=\"1\" class=\"dataframe\">\n  <thead>\n    <tr style=\"text-align: right;\">\n      <th></th>\n      <th>DATE</th>\n      <th>URL</th>\n      <th>MARKETPLACE</th>\n      <th>SELLER</th>\n      <th>PRICE</th>\n      <th>PARCEL</th>\n      <th>INSTALLMENT</th>\n      <th>INSTALLMENT_PAYMENT</th>\n      <th>ID</th>\n      <th>PRODUCT</th>\n      <th>INTERNACIONAL</th>\n      <th>MORE</th>\n    </tr>\n  </thead>\n  <tbody>\n    <tr>\n      <th>6</th>\n      <td>2022-06-06</td>\n      <td>https://www.amazon.com.br/C%C3%82MERA-GOPRO-HE...</td>\n      <td>AMAZON</td>\n      <td>GRUPO MAVERICK</td>\n      <td>3099.99</td>\n      <td>10</td>\n      <td>310.08</td>\n      <td>3100.80</td>\n      <td>B09LZ9655F</td>\n      <td>CÂMERA GOPRO HERO 8 BLACK - POWER BUND...</td>\n      <td>Internacional</td>\n      <td>0</td>\n    </tr>\n    <tr>\n      <th>14</th>\n      <td>2022-06-06</td>\n      <td>https://www.amazon.com.br/C%C3%82MERA-GOPRO-HE...</td>\n      <td>AMAZON</td>\n      <td>GRUPO MAVERICK</td>\n      <td>3099.99</td>\n      <td>10</td>\n      <td>310.08</td>\n      <td>3100.80</td>\n      <td>B09MG3XKZJ</td>\n      <td>CÂMERA GOPRO HERO 8 BLACK – SPECIAL BU...</td>\n      <td>Internacional</td>\n      <td>0</td>\n    </tr>\n    <tr>\n      <th>15</th>\n      <td>2022-06-06</td>\n      <td>https://www.amazon.com.br/C%C3%A2mera-Cart%C3%...</td>\n      <td>AMAZON</td>\n      <td>LIVE IMPORTS</td>\n      <td>3099.00</td>\n      <td>10</td>\n      <td>309.90</td>\n      <td>3099.00</td>\n      <td>B08R2XCM9K</td>\n      <td>Câmera GoPro HERO9 Black à Prova D'águ...</td>\n      <td>Internacional</td>\n      <td>0</td>\n    </tr>\n    <tr>\n      <th>35</th>\n      <td>2022-06-06</td>\n      <td>https://www.amazon.com.br/fengny-Substitui%C3%...</td>\n      <td>AMAZON</td>\n      <td>kokorest</td>\n      <td>183.40</td>\n      <td>6</td>\n      <td>30.60</td>\n      <td>183.60</td>\n      <td>B09ZPB2QW3</td>\n      <td>fengny Substituição de controle remoto...</td>\n      <td>Internacional</td>\n      <td>0</td>\n    </tr>\n    <tr>\n      <th>39</th>\n      <td>2022-06-06</td>\n      <td>https://www.amazon.com.br/Acess%C3%B3rios-para...</td>\n      <td>AMAZON</td>\n      <td>FUNPro</td>\n      <td>275.00</td>\n      <td>9</td>\n      <td>30.60</td>\n      <td>275.40</td>\n      <td>B086M7FK58</td>\n      <td>Kit de Acessórios para GoPro Hero 8 Bl...</td>\n      <td>Internacional</td>\n      <td>0</td>\n    </tr>\n    <tr>\n      <th>40</th>\n      <td>2022-06-06</td>\n      <td>https://www.amazon.com.br/Zwbfu-acess%C3%B3rio...</td>\n      <td>AMAZON</td>\n      <td>Jeneza</td>\n      <td>177.99</td>\n      <td>5</td>\n      <td>35.63</td>\n      <td>178.15</td>\n      <td>B09GJMPY6R</td>\n      <td>Zwbfu Kit de acessórios para câmera de...</td>\n      <td>Internacional</td>\n      <td>0</td>\n    </tr>\n    <tr>\n      <th>44</th>\n      <td>2022-06-06</td>\n      <td>https://www.amazon.com.br/Insta360-imperme%C3%...</td>\n      <td>AMAZON</td>\n      <td>EVO Gimbals</td>\n      <td>3636.86</td>\n      <td>10</td>\n      <td>363.74</td>\n      <td>3637.40</td>\n      <td>B08M3B9754</td>\n      <td>Insta360 Câmera de ação impermeável ON...</td>\n      <td>Internacional</td>\n      <td>0</td>\n    </tr>\n    <tr>\n      <th>48</th>\n      <td>2022-06-06</td>\n      <td>https://www.amazon.com.br/Conjunto-acess%C3%B3...</td>\n      <td>AMAZON</td>\n      <td>Minimini</td>\n      <td>75.00</td>\n      <td>2</td>\n      <td>37.50</td>\n      <td>75.00</td>\n      <td>B082X8HPLL</td>\n      <td>Conjunto de acessórios para câmera Mob...</td>\n      <td>Internacional</td>\n      <td>0</td>\n    </tr>\n    <tr>\n      <th>49</th>\n      <td>2022-06-06</td>\n      <td>https://www.amazon.com.br/Kit-50-Acess%C3%B3ri...</td>\n      <td>AMAZON</td>\n      <td>Amazon</td>\n      <td>342.14</td>\n      <td>10</td>\n      <td>34.25</td>\n      <td>342.50</td>\n      <td>B07LFLJBW4</td>\n      <td>Kit 50 Em 1 De Acessórios Para Gopro  ...</td>\n      <td>Internacional</td>\n      <td>0</td>\n    </tr>\n    <tr>\n      <th>50</th>\n      <td>2022-06-06</td>\n      <td>https://www.amazon.com.br/PORTA-USB-PARA-PRONL...</td>\n      <td>AMAZON</td>\n      <td>GRUPO MAVERICK</td>\n      <td>299.99</td>\n      <td>9</td>\n      <td>33.35</td>\n      <td>300.15</td>\n      <td>B09BBJTF8R</td>\n      <td>PORTA USB PARA USO PRONLONGADO HERO 9 ...</td>\n      <td>Internacional</td>\n      <td>0</td>\n    </tr>\n    <tr>\n      <th>52</th>\n      <td>2022-06-06</td>\n      <td>https://www.amazon.com.br/GoPole-Alcan%C3%A7a-...</td>\n      <td>AMAZON</td>\n      <td>FUNPro</td>\n      <td>208.40</td>\n      <td>6</td>\n      <td>34.75</td>\n      <td>208.50</td>\n      <td>B00B3YFDBS</td>\n      <td>GoPole Alcança de extensão de 14 a 101...</td>\n      <td>Internacional</td>\n      <td>0</td>\n    </tr>\n    <tr>\n      <th>54</th>\n      <td>2022-06-06</td>\n      <td>https://www.amazon.com.br/Cucudy-subaqu%C3%A1t...</td>\n      <td>AMAZON</td>\n      <td>Jeneza</td>\n      <td>95.18</td>\n      <td>3</td>\n      <td>31.74</td>\n      <td>95.22</td>\n      <td>B08TTPW7DW</td>\n      <td>Cucudy Câmera de ação capa protetora à...</td>\n      <td>Internacional</td>\n      <td>0</td>\n    </tr>\n    <tr>\n      <th>60</th>\n      <td>2022-06-06</td>\n      <td>https://www.amazon.com.br/Porta-Lateral-GoPro-...</td>\n      <td>AMAZON</td>\n      <td>GRUPO MAVERICK</td>\n      <td>59.99</td>\n      <td>0</td>\n      <td>0.00</td>\n      <td>0.00</td>\n      <td>B08JCR3NTZ</td>\n      <td>Porta Lateral Compatível com GoPro Her...</td>\n      <td>Internacional</td>\n      <td>0</td>\n    </tr>\n    <tr>\n      <th>62</th>\n      <td>2022-06-06</td>\n      <td>https://www.amazon.com.br/GoPro-Porta-Lateral-...</td>\n      <td>AMAZON</td>\n      <td>GRUPO MAVERICK</td>\n      <td>189.99</td>\n      <td>6</td>\n      <td>31.69</td>\n      <td>190.14</td>\n      <td>B01L2CPKOK</td>\n      <td>Porta Lateral de Reposição para Hero6,...</td>\n      <td>Internacional</td>\n      <td>0</td>\n    </tr>\n    <tr>\n      <th>64</th>\n      <td>2022-06-06</td>\n      <td>https://www.amazon.com.br/Zwbfu-XTGP559-prote%...</td>\n      <td>AMAZON</td>\n      <td>Jeneza</td>\n      <td>316.99</td>\n      <td>10</td>\n      <td>31.78</td>\n      <td>317.80</td>\n      <td>B09GJGW62Z</td>\n      <td>Zwbfu Câmera XTGP559 Porta de cúpula c...</td>\n      <td>Internacional</td>\n      <td>0</td>\n    </tr>\n    <tr>\n      <th>65</th>\n      <td>2022-06-06</td>\n      <td>https://www.amazon.com.br/Porta-Lateral-Compat...</td>\n      <td>AMAZON</td>\n      <td>FUNPro</td>\n      <td>34.90</td>\n      <td>0</td>\n      <td>0.00</td>\n      <td>0.00</td>\n      <td>B09D8NZV8J</td>\n      <td>Porta Lateral Compatível com GoPro Her...</td>\n      <td>Internacional</td>\n      <td>0</td>\n    </tr>\n    <tr>\n      <th>67</th>\n      <td>2022-06-06</td>\n      <td>https://www.amazon.com.br/Trip%C3%A9-Bast%C3%A...</td>\n      <td>AMAZON</td>\n      <td>FUNPro</td>\n      <td>142.00</td>\n      <td>4</td>\n      <td>35.50</td>\n      <td>142.00</td>\n      <td>B08HV3FYQJ</td>\n      <td>Mini Tripé e Bastão para GoPro e Câmer...</td>\n      <td>Internacional</td>\n      <td>0</td>\n    </tr>\n  </tbody>\n</table>\n</div>"
     },
     "execution_count": 36,
     "metadata": {},
     "output_type": "execute_result"
    }
   ],
   "source": [
    "Df_final_copy"
   ],
   "metadata": {
    "collapsed": false,
    "pycharm": {
     "name": "#%%\n"
    }
   }
  },
  {
   "cell_type": "code",
   "execution_count": 130,
   "outputs": [],
   "source": [
    "url_names = []\n",
    "for id in Dataframe_More['ID']:\n",
    "    url_names.append(Df_final.loc[Df_final['ID'] == id,'URL'])"
   ],
   "metadata": {
    "collapsed": false,
    "pycharm": {
     "name": "#%%\n"
    }
   }
  },
  {
   "cell_type": "code",
   "execution_count": 132,
   "outputs": [
    {
     "data": {
      "text/plain": "21"
     },
     "execution_count": 132,
     "metadata": {},
     "output_type": "execute_result"
    }
   ],
   "source": [
    "len(url_names)"
   ],
   "metadata": {
    "collapsed": false,
    "pycharm": {
     "name": "#%%\n"
    }
   }
  },
  {
   "cell_type": "code",
   "execution_count": 114,
   "outputs": [
    {
     "ename": "ValueError",
     "evalue": "Can only compare identically-labeled Series objects",
     "output_type": "error",
     "traceback": [
      "\u001B[1;31m---------------------------------------------------------------------------\u001B[0m",
      "\u001B[1;31mValueError\u001B[0m                                Traceback (most recent call last)",
      "Input \u001B[1;32mIn [114]\u001B[0m, in \u001B[0;36m<cell line: 1>\u001B[1;34m()\u001B[0m\n\u001B[1;32m----> 1\u001B[0m Df_final\u001B[38;5;241m.\u001B[39mloc[\u001B[43mDf_final\u001B[49m\u001B[43m[\u001B[49m\u001B[38;5;124;43m'\u001B[39;49m\u001B[38;5;124;43mID\u001B[39;49m\u001B[38;5;124;43m'\u001B[39;49m\u001B[43m]\u001B[49m\u001B[43m \u001B[49m\u001B[38;5;241;43m==\u001B[39;49m\u001B[43m \u001B[49m\u001B[43mDataframe_More\u001B[49m\u001B[43m[\u001B[49m\u001B[38;5;124;43m'\u001B[39;49m\u001B[38;5;124;43mID\u001B[39;49m\u001B[38;5;124;43m'\u001B[39;49m\u001B[43m]\u001B[49m,\u001B[38;5;124m'\u001B[39m\u001B[38;5;124mURL\u001B[39m\u001B[38;5;124m'\u001B[39m]\n",
      "File \u001B[1;32m~\\AppData\\Local\\Programs\\Python\\Python310\\lib\\site-packages\\pandas\\core\\ops\\common.py:70\u001B[0m, in \u001B[0;36m_unpack_zerodim_and_defer.<locals>.new_method\u001B[1;34m(self, other)\u001B[0m\n\u001B[0;32m     66\u001B[0m             \u001B[38;5;28;01mreturn\u001B[39;00m \u001B[38;5;28mNotImplemented\u001B[39m\n\u001B[0;32m     68\u001B[0m other \u001B[38;5;241m=\u001B[39m item_from_zerodim(other)\n\u001B[1;32m---> 70\u001B[0m \u001B[38;5;28;01mreturn\u001B[39;00m \u001B[43mmethod\u001B[49m\u001B[43m(\u001B[49m\u001B[38;5;28;43mself\u001B[39;49m\u001B[43m,\u001B[49m\u001B[43m \u001B[49m\u001B[43mother\u001B[49m\u001B[43m)\u001B[49m\n",
      "File \u001B[1;32m~\\AppData\\Local\\Programs\\Python\\Python310\\lib\\site-packages\\pandas\\core\\arraylike.py:40\u001B[0m, in \u001B[0;36mOpsMixin.__eq__\u001B[1;34m(self, other)\u001B[0m\n\u001B[0;32m     38\u001B[0m \u001B[38;5;129m@unpack_zerodim_and_defer\u001B[39m(\u001B[38;5;124m\"\u001B[39m\u001B[38;5;124m__eq__\u001B[39m\u001B[38;5;124m\"\u001B[39m)\n\u001B[0;32m     39\u001B[0m \u001B[38;5;28;01mdef\u001B[39;00m \u001B[38;5;21m__eq__\u001B[39m(\u001B[38;5;28mself\u001B[39m, other):\n\u001B[1;32m---> 40\u001B[0m     \u001B[38;5;28;01mreturn\u001B[39;00m \u001B[38;5;28;43mself\u001B[39;49m\u001B[38;5;241;43m.\u001B[39;49m\u001B[43m_cmp_method\u001B[49m\u001B[43m(\u001B[49m\u001B[43mother\u001B[49m\u001B[43m,\u001B[49m\u001B[43m \u001B[49m\u001B[43moperator\u001B[49m\u001B[38;5;241;43m.\u001B[39;49m\u001B[43meq\u001B[49m\u001B[43m)\u001B[49m\n",
      "File \u001B[1;32m~\\AppData\\Local\\Programs\\Python\\Python310\\lib\\site-packages\\pandas\\core\\series.py:5617\u001B[0m, in \u001B[0;36mSeries._cmp_method\u001B[1;34m(self, other, op)\u001B[0m\n\u001B[0;32m   5614\u001B[0m res_name \u001B[38;5;241m=\u001B[39m ops\u001B[38;5;241m.\u001B[39mget_op_result_name(\u001B[38;5;28mself\u001B[39m, other)\n\u001B[0;32m   5616\u001B[0m \u001B[38;5;28;01mif\u001B[39;00m \u001B[38;5;28misinstance\u001B[39m(other, Series) \u001B[38;5;129;01mand\u001B[39;00m \u001B[38;5;129;01mnot\u001B[39;00m \u001B[38;5;28mself\u001B[39m\u001B[38;5;241m.\u001B[39m_indexed_same(other):\n\u001B[1;32m-> 5617\u001B[0m     \u001B[38;5;28;01mraise\u001B[39;00m \u001B[38;5;167;01mValueError\u001B[39;00m(\u001B[38;5;124m\"\u001B[39m\u001B[38;5;124mCan only compare identically-labeled Series objects\u001B[39m\u001B[38;5;124m\"\u001B[39m)\n\u001B[0;32m   5619\u001B[0m lvalues \u001B[38;5;241m=\u001B[39m \u001B[38;5;28mself\u001B[39m\u001B[38;5;241m.\u001B[39m_values\n\u001B[0;32m   5620\u001B[0m rvalues \u001B[38;5;241m=\u001B[39m extract_array(other, extract_numpy\u001B[38;5;241m=\u001B[39m\u001B[38;5;28;01mTrue\u001B[39;00m, extract_range\u001B[38;5;241m=\u001B[39m\u001B[38;5;28;01mTrue\u001B[39;00m)\n",
      "\u001B[1;31mValueError\u001B[0m: Can only compare identically-labeled Series objects"
     ]
    }
   ],
   "source": [
    "Df_final.loc[Df_final['ID'] == Dataframe_More['ID'],'URL']"
   ],
   "metadata": {
    "collapsed": false,
    "pycharm": {
     "name": "#%%\n"
    }
   }
  },
  {
   "cell_type": "code",
   "execution_count": 57,
   "outputs": [],
   "source": [
    "Df_teste = pd.concat([Df_final, Dataframe_Button])\n",
    "Df_teste = Df_teste.sort_values(by='ID')"
   ],
   "metadata": {
    "collapsed": false,
    "pycharm": {
     "name": "#%%\n"
    }
   }
  },
  {
   "cell_type": "code",
   "execution_count": 58,
   "outputs": [
    {
     "data": {
      "text/plain": "          DATE                                                URL MARKETPLACE  \\\n44  2022-05-31  https://www.amazon.com.br/GoPole-Alcan%C3%A7a-...      AMAZON   \n22  2022-05-31  https://www.amazon.com.br/GoPro-Sistema-HERO3-...      AMAZON   \n14  2022-05-31  https://www.amazon.com.br/GOPOLE-Reach-Mini-ex...      AMAZON   \n62  2022-05-31  https://www.amazon.com.br/transporte-acess%C3%...      AMAZON   \n26  2022-05-31  https://www.amazon.com.br/GoPro-Porta-Lateral-...      AMAZON   \n20  2022-05-31  https://www.amazon.com.br/C%C3%A2mera-Digital-...      AMAZON   \n19  2022-05-31  https://www.amazon.com.br/C%C3%A2mera-Digital-...      AMAZON   \n13  2022-05-31  https://www.amazon.com.br/C%C3%A2mera-GoPro-MA...      AMAZON   \n12  2022-05-31  https://www.amazon.com.br/C%C3%A2mera-GoPro-MA...      AMAZON   \n11  2022-05-31  https://www.amazon.com.br/Camera-Digital-12-1M...      AMAZON   \n10  2022-05-31  https://www.amazon.com.br/Camera-Digital-12-1M...      AMAZON   \n9   2022-05-31  https://www.amazon.com.br/Camera-Digital-12-1M...      AMAZON   \n1   2022-05-31  https://www.amazon.com.br/C%C3%A2mera-Black-Pr...      AMAZON   \n43  2022-05-31  https://www.amazon.com.br/Kit-50-Acess%C3%B3ri...      AMAZON   \n15  2022-05-31  https://www.amazon.com.br/Kit-Gopro-Hero-Pe%C3...      AMAZON   \n28  2022-05-31  https://www.amazon.com.br/Mochila-ajust%C3%A1v...      AMAZON   \n7   2022-05-31  https://www.amazon.com.br/Gopro-Black-prova-D%...      AMAZON   \n6   2022-05-31  https://www.amazon.com.br/Gopro-Black-prova-D%...      AMAZON   \n8   2022-05-31  https://www.amazon.com.br/Gopro-Black-prova-D%...      AMAZON   \n40  2022-05-31  https://www.amazon.com.br/Conjunto-acess%C3%B3...      AMAZON   \n34  2022-05-31  https://www.amazon.com.br/Acess%C3%B3rios-para...      AMAZON   \n17  2022-05-31  https://www.amazon.com.br/CABO-USB-PARA-TIPO-P...      AMAZON   \n16  2022-05-31  https://www.amazon.com.br/CABO-USB-PARA-TIPO-P...      AMAZON   \n24  2022-05-31  https://www.amazon.com.br/Cart%C3%A3o-mem%C3%B...      AMAZON   \n23  2022-05-31  https://www.amazon.com.br/GoPro-CHDHX-901-RW-H...      AMAZON   \n65  2022-05-31  https://www.amazon.com.br/Trip%C3%A9-Bast%C3%A...      AMAZON   \n25  2022-05-31  https://www.amazon.com.br/Porta-Lateral-GoPro-...      AMAZON   \n3   2022-05-31  https://www.amazon.com.br/C%C3%A2mera-GoPro-Fr...      AMAZON   \n63  2022-05-31  https://www.amazon.com.br/Insta360-imperme%C3%...      AMAZON   \n53  2022-05-31  https://www.amazon.com.br/Cucudy-subaqu%C3%A1t...      AMAZON   \n2   2022-05-31  https://www.amazon.com.br/C%C3%82MERA-GOPRO-BL...      AMAZON   \n0   2022-05-31  https://www.amazon.com.br/C%C3%82MERA-GOPRO-BL...      AMAZON   \n1   2022-05-31  https://www.amazon.com.br/C%C3%82MERA-GOPRO-BL...      AMAZON   \n21  2022-05-31  https://www.amazon.com.br/compat%C3%ADvel-aces...      AMAZON   \n18  2022-05-31  https://www.amazon.com.br/PORTA-USB-PARA-PRONL...      AMAZON   \n64  2022-05-31  https://www.amazon.com.br/Porta-Lateral-Compat...      AMAZON   \n61  2022-05-31  https://www.amazon.com.br/Zwbfu-XTGP559-prote%...      AMAZON   \n38  2022-05-31  https://www.amazon.com.br/Zwbfu-acess%C3%B3rio...      AMAZON   \n27  2022-05-31  https://www.amazon.com.br/grande-angular-c%C3%...      AMAZON   \n5   2022-05-31  https://www.amazon.com.br/C%C3%82MERA-GOPRO-HE...      AMAZON   \n4   2022-05-31  https://www.amazon.com.br/C%C3%82MERA-GOPRO-HE...      AMAZON   \n35  2022-05-31  https://www.amazon.com.br/fengny-Substitui%C3%...      AMAZON   \n\n                   SELLER    PRICE  PARCEL  INSTALLMENT  INSTALLMENT_PAYMENT  \\\n44                 FUNPro   208.40       6       34.750               208.50   \n22            LIG Celular    189.9      10       18.990              1899.00   \n14      Ami Ventures Inc.   1034.0      10      103.400             10340.00   \n62             wecome2021   158.00       5       31.600               158.00   \n26         GRUPO MAVERICK   189.99      10       18.999              1899.90   \n20       Tech With Expert   4602.0      10      460.200             46020.00   \n19     Porto Seguro Store   3190.0      10      319.000             31900.00   \n13           LIVE IMPORTS   3499.0      10      349.900             34990.00   \n12         GRUPO MAVERICK  3485.21      10      348.521             34852.10   \n11      João e Maria Shop  2574.05      10      257.405             25740.50   \n10         Center Shop RS   2490.0      10      249.000             24900.00   \n9          GRUPO MAVERICK  2399.99      10      239.999             23999.90   \n1             Detona Shop  2269.53      10      226.980              2269.80   \n43                 Amazon   342.14      10       34.250               342.50   \n15          biaeletronico    299.0      10       29.900              2990.00   \n28             BUY SUPPLY   412.74      10       41.274              4127.40   \n7            LIVE IMPORTS   2299.0      10      229.900             22990.00   \n6             King Pro St   2283.6      10      228.360             22836.00   \n8          GRUPO MAVERICK   2599.0      10      259.900             25990.00   \n40               Minimini    75.00       2       37.500                75.00   \n34                 FUNPro   275.00       9       30.600               275.40   \n17     Preech Informática    47.43      10        4.743               474.30   \n16                BC INFO    35.13      10        3.513               351.30   \n24  Triplenet Pricing INC   811.19      10       81.119              8111.90   \n23           LIVE IMPORTS   2699.0      10      269.900             26990.00   \n65                 FUNPro   142.00       4       35.500               142.00   \n25         GRUPO MAVERICK    59.99      10        5.999               599.90   \n3          GRUPO MAVERICK  3399.99      10      339.999             33999.90   \n63            EVO Gimbals  3636.86      10      363.740              3637.40   \n53                 Jeneza    95.18       3       31.740                95.22   \n2          GRUPO MAVERICK  3199.99      10      319.999             31999.90   \n0            LIVE IMPORTS   2599.0      10      259.900             25990.00   \n1            LIVE IMPORTS   2599.0      10      259.900             25990.00   \n21             BUY SUPPLY   501.45      10       50.145              5014.50   \n18         GRUPO MAVERICK   299.99      10       29.999              2999.90   \n64                 FUNPro    34.90       0        0.000                 0.00   \n61                 Jeneza   316.99      10       31.780               317.80   \n38                 Jeneza   177.99       5       35.630               178.15   \n27              bizoffttk    415.5      10       41.550              4155.00   \n5          GRUPO MAVERICK  3099.99      10      309.999             30999.90   \n4          GRUPO MAVERICK  3099.99      10      309.999             30999.90   \n35               kokorest   183.40       6       30.600               183.60   \n\n            ID                                            PRODUCT  \\\n44  B00B3YFDBS          GoPole Alcança de extensão de 14 a 101...   \n22  B00J9RO4U2          GoPro Sistema Dual Hero para HERO3+ (c...   \n14  B01C397F1C          GOPOLE Reach Mini – Haste de extensão ...   \n62  B01H6OP92G          Estojo de transporte para GoPro Hero(2...   \n26  B01L2CPKOK          Porta Lateral de Reposição para Hero6,...   \n20  B0792MJLNM             Câmera Fusion 360, GoPro, Preto          \n19  B0792MJLNM             Câmera Fusion 360, GoPro, Preto          \n13  B07BPVPV14                 Câmera GoPro MAX 360, Preto          \n12  B07BPVPV14                 Câmera GoPro MAX 360, Preto          \n11  B07GSVDFTQ          Camera Digital GoPro Hero 7 Black Ultr...   \n10  B07GSVDFTQ          Camera Digital GoPro Hero 7 Black Ultr...   \n9   B07GSVDFTQ          Camera Digital GoPro Hero 7 Black Ultr...   \n1   B07JH83VBW          Câmera Hero 7 Black à Prova D’água 12M...   \n43  B07LFLJBW4          Kit 50 Em 1 De Acessórios Para Gopro  ...   \n15  B07TCY5FNV          Kit Para Gopro Hero Com 9 Peças Maleta...   \n28  B07WNPTF3T          Mochila com alça de ombro para câmera ...   \n7   B07WSRXMS8          Gopro Hero 8 Black 4k à prova D'água C...   \n6   B07WSRXMS8          Gopro Hero 8 Black 4k à prova D'água C...   \n8   B07WSRXMS8          Gopro Hero 8 Black 4k à prova D'água C...   \n40  B082X8HPLL          Conjunto de acessórios para câmera Mob...   \n34  B086M7FK58          Kit de Acessórios para GoPro Hero 8 Bl...   \n17  B089X297QT          CABO PARA CELULAR SMARTPHONE USB A 2.0...   \n16  B089X297QT          CABO PARA CELULAR SMARTPHONE USB A 2.0...   \n24  B08GYG5SVQ          Cartão de memória SanDisk 400 GB Ultra...   \n23  B08HPCFCSV           GoPro - HERO9 Preto, CHDHX-901-RW          \n65  B08HV3FYQJ          Mini Tripé e Bastão para GoPro e Câmer...   \n25  B08JCR3NTZ          Porta Lateral Compatível com GoPro Her...   \n3   B08KXN6BNH          Câmera GoPro HERO9 Black à Prova D'águ...   \n63  B08M3B9754          Insta360 Câmera de ação impermeável ON...   \n53  B08TTPW7DW          Cucudy Câmera de ação capa protetora à...   \n2   B08ZSVP9T7          CÂMERA GOPRO HERO 8 BLACK ESSENCIAL BU...   \n0   B08ZSVP9T7          CÂMERA GOPRO HERO 8 BLACK ESSENCIAL BU...   \n1   B08ZSVP9T7          CÂMERA GOPRO HERO 8 BLACK ESSENCIAL BU...   \n21  B099KJRQ4V          Capa à prova d'água para GoPro Hero 9,...   \n18  B09BBJTF8R          PORTA USB PARA USO PRONLONGADO HERO 9 ...   \n64  B09D8NZV8J          Porta Lateral Compatível com GoPro Her...   \n61  B09GJGW62Z          Zwbfu Câmera XTGP559 Porta de cúpula c...   \n38  B09GJMPY6R          Zwbfu Kit de acessórios para câmera de...   \n27  B09JVT24PJ          Lente grande angular, câmera esportiva...   \n5   B09LZ9655F          CÂMERA GOPRO HERO 8 BLACK - POWER BUND...   \n4   B09MG3XKZJ          CÂMERA GOPRO HERO 8 BLACK – SPECIAL BU...   \n35  B09ZPB2QW3          fengny Substituição de controle remoto...   \n\n    INTERNACIONAL  MORE  \n44  Internacional   0.0  \n22           ERRO   NaN  \n14           ERRO   NaN  \n62  Internacional   0.0  \n26           ERRO   NaN  \n20           ERRO   NaN  \n19           ERRO   NaN  \n13           ERRO   NaN  \n12           ERRO   NaN  \n11           ERRO   NaN  \n10           ERRO   NaN  \n9            ERRO   NaN  \n1   Internacional   0.0  \n43  Internacional   0.0  \n15           ERRO   NaN  \n28           ERRO   NaN  \n7            ERRO   NaN  \n6            ERRO   NaN  \n8            ERRO   NaN  \n40  Internacional   0.0  \n34  Internacional   0.0  \n17           ERRO   NaN  \n16           ERRO   NaN  \n24           ERRO   NaN  \n23           ERRO   NaN  \n65  Internacional   0.0  \n25           ERRO   NaN  \n3            ERRO   NaN  \n63  Internacional   0.0  \n53  Internacional   0.0  \n2            ERRO   NaN  \n0            ERRO   NaN  \n1            ERRO   NaN  \n21           ERRO   NaN  \n18           ERRO   NaN  \n64  Internacional   0.0  \n61  Internacional   0.0  \n38  Internacional   0.0  \n27           ERRO   NaN  \n5            ERRO   NaN  \n4            ERRO   NaN  \n35  Internacional   0.0  ",
      "text/html": "<div>\n<style scoped>\n    .dataframe tbody tr th:only-of-type {\n        vertical-align: middle;\n    }\n\n    .dataframe tbody tr th {\n        vertical-align: top;\n    }\n\n    .dataframe thead th {\n        text-align: right;\n    }\n</style>\n<table border=\"1\" class=\"dataframe\">\n  <thead>\n    <tr style=\"text-align: right;\">\n      <th></th>\n      <th>DATE</th>\n      <th>URL</th>\n      <th>MARKETPLACE</th>\n      <th>SELLER</th>\n      <th>PRICE</th>\n      <th>PARCEL</th>\n      <th>INSTALLMENT</th>\n      <th>INSTALLMENT_PAYMENT</th>\n      <th>ID</th>\n      <th>PRODUCT</th>\n      <th>INTERNACIONAL</th>\n      <th>MORE</th>\n    </tr>\n  </thead>\n  <tbody>\n    <tr>\n      <th>44</th>\n      <td>2022-05-31</td>\n      <td>https://www.amazon.com.br/GoPole-Alcan%C3%A7a-...</td>\n      <td>AMAZON</td>\n      <td>FUNPro</td>\n      <td>208.40</td>\n      <td>6</td>\n      <td>34.750</td>\n      <td>208.50</td>\n      <td>B00B3YFDBS</td>\n      <td>GoPole Alcança de extensão de 14 a 101...</td>\n      <td>Internacional</td>\n      <td>0.0</td>\n    </tr>\n    <tr>\n      <th>22</th>\n      <td>2022-05-31</td>\n      <td>https://www.amazon.com.br/GoPro-Sistema-HERO3-...</td>\n      <td>AMAZON</td>\n      <td>LIG Celular</td>\n      <td>189.9</td>\n      <td>10</td>\n      <td>18.990</td>\n      <td>1899.00</td>\n      <td>B00J9RO4U2</td>\n      <td>GoPro Sistema Dual Hero para HERO3+ (c...</td>\n      <td>ERRO</td>\n      <td>NaN</td>\n    </tr>\n    <tr>\n      <th>14</th>\n      <td>2022-05-31</td>\n      <td>https://www.amazon.com.br/GOPOLE-Reach-Mini-ex...</td>\n      <td>AMAZON</td>\n      <td>Ami Ventures Inc.</td>\n      <td>1034.0</td>\n      <td>10</td>\n      <td>103.400</td>\n      <td>10340.00</td>\n      <td>B01C397F1C</td>\n      <td>GOPOLE Reach Mini – Haste de extensão ...</td>\n      <td>ERRO</td>\n      <td>NaN</td>\n    </tr>\n    <tr>\n      <th>62</th>\n      <td>2022-05-31</td>\n      <td>https://www.amazon.com.br/transporte-acess%C3%...</td>\n      <td>AMAZON</td>\n      <td>wecome2021</td>\n      <td>158.00</td>\n      <td>5</td>\n      <td>31.600</td>\n      <td>158.00</td>\n      <td>B01H6OP92G</td>\n      <td>Estojo de transporte para GoPro Hero(2...</td>\n      <td>Internacional</td>\n      <td>0.0</td>\n    </tr>\n    <tr>\n      <th>26</th>\n      <td>2022-05-31</td>\n      <td>https://www.amazon.com.br/GoPro-Porta-Lateral-...</td>\n      <td>AMAZON</td>\n      <td>GRUPO MAVERICK</td>\n      <td>189.99</td>\n      <td>10</td>\n      <td>18.999</td>\n      <td>1899.90</td>\n      <td>B01L2CPKOK</td>\n      <td>Porta Lateral de Reposição para Hero6,...</td>\n      <td>ERRO</td>\n      <td>NaN</td>\n    </tr>\n    <tr>\n      <th>20</th>\n      <td>2022-05-31</td>\n      <td>https://www.amazon.com.br/C%C3%A2mera-Digital-...</td>\n      <td>AMAZON</td>\n      <td>Tech With Expert</td>\n      <td>4602.0</td>\n      <td>10</td>\n      <td>460.200</td>\n      <td>46020.00</td>\n      <td>B0792MJLNM</td>\n      <td>Câmera Fusion 360, GoPro, Preto</td>\n      <td>ERRO</td>\n      <td>NaN</td>\n    </tr>\n    <tr>\n      <th>19</th>\n      <td>2022-05-31</td>\n      <td>https://www.amazon.com.br/C%C3%A2mera-Digital-...</td>\n      <td>AMAZON</td>\n      <td>Porto Seguro Store</td>\n      <td>3190.0</td>\n      <td>10</td>\n      <td>319.000</td>\n      <td>31900.00</td>\n      <td>B0792MJLNM</td>\n      <td>Câmera Fusion 360, GoPro, Preto</td>\n      <td>ERRO</td>\n      <td>NaN</td>\n    </tr>\n    <tr>\n      <th>13</th>\n      <td>2022-05-31</td>\n      <td>https://www.amazon.com.br/C%C3%A2mera-GoPro-MA...</td>\n      <td>AMAZON</td>\n      <td>LIVE IMPORTS</td>\n      <td>3499.0</td>\n      <td>10</td>\n      <td>349.900</td>\n      <td>34990.00</td>\n      <td>B07BPVPV14</td>\n      <td>Câmera GoPro MAX 360, Preto</td>\n      <td>ERRO</td>\n      <td>NaN</td>\n    </tr>\n    <tr>\n      <th>12</th>\n      <td>2022-05-31</td>\n      <td>https://www.amazon.com.br/C%C3%A2mera-GoPro-MA...</td>\n      <td>AMAZON</td>\n      <td>GRUPO MAVERICK</td>\n      <td>3485.21</td>\n      <td>10</td>\n      <td>348.521</td>\n      <td>34852.10</td>\n      <td>B07BPVPV14</td>\n      <td>Câmera GoPro MAX 360, Preto</td>\n      <td>ERRO</td>\n      <td>NaN</td>\n    </tr>\n    <tr>\n      <th>11</th>\n      <td>2022-05-31</td>\n      <td>https://www.amazon.com.br/Camera-Digital-12-1M...</td>\n      <td>AMAZON</td>\n      <td>João e Maria Shop</td>\n      <td>2574.05</td>\n      <td>10</td>\n      <td>257.405</td>\n      <td>25740.50</td>\n      <td>B07GSVDFTQ</td>\n      <td>Camera Digital GoPro Hero 7 Black Ultr...</td>\n      <td>ERRO</td>\n      <td>NaN</td>\n    </tr>\n    <tr>\n      <th>10</th>\n      <td>2022-05-31</td>\n      <td>https://www.amazon.com.br/Camera-Digital-12-1M...</td>\n      <td>AMAZON</td>\n      <td>Center Shop RS</td>\n      <td>2490.0</td>\n      <td>10</td>\n      <td>249.000</td>\n      <td>24900.00</td>\n      <td>B07GSVDFTQ</td>\n      <td>Camera Digital GoPro Hero 7 Black Ultr...</td>\n      <td>ERRO</td>\n      <td>NaN</td>\n    </tr>\n    <tr>\n      <th>9</th>\n      <td>2022-05-31</td>\n      <td>https://www.amazon.com.br/Camera-Digital-12-1M...</td>\n      <td>AMAZON</td>\n      <td>GRUPO MAVERICK</td>\n      <td>2399.99</td>\n      <td>10</td>\n      <td>239.999</td>\n      <td>23999.90</td>\n      <td>B07GSVDFTQ</td>\n      <td>Camera Digital GoPro Hero 7 Black Ultr...</td>\n      <td>ERRO</td>\n      <td>NaN</td>\n    </tr>\n    <tr>\n      <th>1</th>\n      <td>2022-05-31</td>\n      <td>https://www.amazon.com.br/C%C3%A2mera-Black-Pr...</td>\n      <td>AMAZON</td>\n      <td>Detona Shop</td>\n      <td>2269.53</td>\n      <td>10</td>\n      <td>226.980</td>\n      <td>2269.80</td>\n      <td>B07JH83VBW</td>\n      <td>Câmera Hero 7 Black à Prova D’água 12M...</td>\n      <td>Internacional</td>\n      <td>0.0</td>\n    </tr>\n    <tr>\n      <th>43</th>\n      <td>2022-05-31</td>\n      <td>https://www.amazon.com.br/Kit-50-Acess%C3%B3ri...</td>\n      <td>AMAZON</td>\n      <td>Amazon</td>\n      <td>342.14</td>\n      <td>10</td>\n      <td>34.250</td>\n      <td>342.50</td>\n      <td>B07LFLJBW4</td>\n      <td>Kit 50 Em 1 De Acessórios Para Gopro  ...</td>\n      <td>Internacional</td>\n      <td>0.0</td>\n    </tr>\n    <tr>\n      <th>15</th>\n      <td>2022-05-31</td>\n      <td>https://www.amazon.com.br/Kit-Gopro-Hero-Pe%C3...</td>\n      <td>AMAZON</td>\n      <td>biaeletronico</td>\n      <td>299.0</td>\n      <td>10</td>\n      <td>29.900</td>\n      <td>2990.00</td>\n      <td>B07TCY5FNV</td>\n      <td>Kit Para Gopro Hero Com 9 Peças Maleta...</td>\n      <td>ERRO</td>\n      <td>NaN</td>\n    </tr>\n    <tr>\n      <th>28</th>\n      <td>2022-05-31</td>\n      <td>https://www.amazon.com.br/Mochila-ajust%C3%A1v...</td>\n      <td>AMAZON</td>\n      <td>BUY SUPPLY</td>\n      <td>412.74</td>\n      <td>10</td>\n      <td>41.274</td>\n      <td>4127.40</td>\n      <td>B07WNPTF3T</td>\n      <td>Mochila com alça de ombro para câmera ...</td>\n      <td>ERRO</td>\n      <td>NaN</td>\n    </tr>\n    <tr>\n      <th>7</th>\n      <td>2022-05-31</td>\n      <td>https://www.amazon.com.br/Gopro-Black-prova-D%...</td>\n      <td>AMAZON</td>\n      <td>LIVE IMPORTS</td>\n      <td>2299.0</td>\n      <td>10</td>\n      <td>229.900</td>\n      <td>22990.00</td>\n      <td>B07WSRXMS8</td>\n      <td>Gopro Hero 8 Black 4k à prova D'água C...</td>\n      <td>ERRO</td>\n      <td>NaN</td>\n    </tr>\n    <tr>\n      <th>6</th>\n      <td>2022-05-31</td>\n      <td>https://www.amazon.com.br/Gopro-Black-prova-D%...</td>\n      <td>AMAZON</td>\n      <td>King Pro St</td>\n      <td>2283.6</td>\n      <td>10</td>\n      <td>228.360</td>\n      <td>22836.00</td>\n      <td>B07WSRXMS8</td>\n      <td>Gopro Hero 8 Black 4k à prova D'água C...</td>\n      <td>ERRO</td>\n      <td>NaN</td>\n    </tr>\n    <tr>\n      <th>8</th>\n      <td>2022-05-31</td>\n      <td>https://www.amazon.com.br/Gopro-Black-prova-D%...</td>\n      <td>AMAZON</td>\n      <td>GRUPO MAVERICK</td>\n      <td>2599.0</td>\n      <td>10</td>\n      <td>259.900</td>\n      <td>25990.00</td>\n      <td>B07WSRXMS8</td>\n      <td>Gopro Hero 8 Black 4k à prova D'água C...</td>\n      <td>ERRO</td>\n      <td>NaN</td>\n    </tr>\n    <tr>\n      <th>40</th>\n      <td>2022-05-31</td>\n      <td>https://www.amazon.com.br/Conjunto-acess%C3%B3...</td>\n      <td>AMAZON</td>\n      <td>Minimini</td>\n      <td>75.00</td>\n      <td>2</td>\n      <td>37.500</td>\n      <td>75.00</td>\n      <td>B082X8HPLL</td>\n      <td>Conjunto de acessórios para câmera Mob...</td>\n      <td>Internacional</td>\n      <td>0.0</td>\n    </tr>\n    <tr>\n      <th>34</th>\n      <td>2022-05-31</td>\n      <td>https://www.amazon.com.br/Acess%C3%B3rios-para...</td>\n      <td>AMAZON</td>\n      <td>FUNPro</td>\n      <td>275.00</td>\n      <td>9</td>\n      <td>30.600</td>\n      <td>275.40</td>\n      <td>B086M7FK58</td>\n      <td>Kit de Acessórios para GoPro Hero 8 Bl...</td>\n      <td>Internacional</td>\n      <td>0.0</td>\n    </tr>\n    <tr>\n      <th>17</th>\n      <td>2022-05-31</td>\n      <td>https://www.amazon.com.br/CABO-USB-PARA-TIPO-P...</td>\n      <td>AMAZON</td>\n      <td>Preech Informática</td>\n      <td>47.43</td>\n      <td>10</td>\n      <td>4.743</td>\n      <td>474.30</td>\n      <td>B089X297QT</td>\n      <td>CABO PARA CELULAR SMARTPHONE USB A 2.0...</td>\n      <td>ERRO</td>\n      <td>NaN</td>\n    </tr>\n    <tr>\n      <th>16</th>\n      <td>2022-05-31</td>\n      <td>https://www.amazon.com.br/CABO-USB-PARA-TIPO-P...</td>\n      <td>AMAZON</td>\n      <td>BC INFO</td>\n      <td>35.13</td>\n      <td>10</td>\n      <td>3.513</td>\n      <td>351.30</td>\n      <td>B089X297QT</td>\n      <td>CABO PARA CELULAR SMARTPHONE USB A 2.0...</td>\n      <td>ERRO</td>\n      <td>NaN</td>\n    </tr>\n    <tr>\n      <th>24</th>\n      <td>2022-05-31</td>\n      <td>https://www.amazon.com.br/Cart%C3%A3o-mem%C3%B...</td>\n      <td>AMAZON</td>\n      <td>Triplenet Pricing INC</td>\n      <td>811.19</td>\n      <td>10</td>\n      <td>81.119</td>\n      <td>8111.90</td>\n      <td>B08GYG5SVQ</td>\n      <td>Cartão de memória SanDisk 400 GB Ultra...</td>\n      <td>ERRO</td>\n      <td>NaN</td>\n    </tr>\n    <tr>\n      <th>23</th>\n      <td>2022-05-31</td>\n      <td>https://www.amazon.com.br/GoPro-CHDHX-901-RW-H...</td>\n      <td>AMAZON</td>\n      <td>LIVE IMPORTS</td>\n      <td>2699.0</td>\n      <td>10</td>\n      <td>269.900</td>\n      <td>26990.00</td>\n      <td>B08HPCFCSV</td>\n      <td>GoPro - HERO9 Preto, CHDHX-901-RW</td>\n      <td>ERRO</td>\n      <td>NaN</td>\n    </tr>\n    <tr>\n      <th>65</th>\n      <td>2022-05-31</td>\n      <td>https://www.amazon.com.br/Trip%C3%A9-Bast%C3%A...</td>\n      <td>AMAZON</td>\n      <td>FUNPro</td>\n      <td>142.00</td>\n      <td>4</td>\n      <td>35.500</td>\n      <td>142.00</td>\n      <td>B08HV3FYQJ</td>\n      <td>Mini Tripé e Bastão para GoPro e Câmer...</td>\n      <td>Internacional</td>\n      <td>0.0</td>\n    </tr>\n    <tr>\n      <th>25</th>\n      <td>2022-05-31</td>\n      <td>https://www.amazon.com.br/Porta-Lateral-GoPro-...</td>\n      <td>AMAZON</td>\n      <td>GRUPO MAVERICK</td>\n      <td>59.99</td>\n      <td>10</td>\n      <td>5.999</td>\n      <td>599.90</td>\n      <td>B08JCR3NTZ</td>\n      <td>Porta Lateral Compatível com GoPro Her...</td>\n      <td>ERRO</td>\n      <td>NaN</td>\n    </tr>\n    <tr>\n      <th>3</th>\n      <td>2022-05-31</td>\n      <td>https://www.amazon.com.br/C%C3%A2mera-GoPro-Fr...</td>\n      <td>AMAZON</td>\n      <td>GRUPO MAVERICK</td>\n      <td>3399.99</td>\n      <td>10</td>\n      <td>339.999</td>\n      <td>33999.90</td>\n      <td>B08KXN6BNH</td>\n      <td>Câmera GoPro HERO9 Black à Prova D'águ...</td>\n      <td>ERRO</td>\n      <td>NaN</td>\n    </tr>\n    <tr>\n      <th>63</th>\n      <td>2022-05-31</td>\n      <td>https://www.amazon.com.br/Insta360-imperme%C3%...</td>\n      <td>AMAZON</td>\n      <td>EVO Gimbals</td>\n      <td>3636.86</td>\n      <td>10</td>\n      <td>363.740</td>\n      <td>3637.40</td>\n      <td>B08M3B9754</td>\n      <td>Insta360 Câmera de ação impermeável ON...</td>\n      <td>Internacional</td>\n      <td>0.0</td>\n    </tr>\n    <tr>\n      <th>53</th>\n      <td>2022-05-31</td>\n      <td>https://www.amazon.com.br/Cucudy-subaqu%C3%A1t...</td>\n      <td>AMAZON</td>\n      <td>Jeneza</td>\n      <td>95.18</td>\n      <td>3</td>\n      <td>31.740</td>\n      <td>95.22</td>\n      <td>B08TTPW7DW</td>\n      <td>Cucudy Câmera de ação capa protetora à...</td>\n      <td>Internacional</td>\n      <td>0.0</td>\n    </tr>\n    <tr>\n      <th>2</th>\n      <td>2022-05-31</td>\n      <td>https://www.amazon.com.br/C%C3%82MERA-GOPRO-BL...</td>\n      <td>AMAZON</td>\n      <td>GRUPO MAVERICK</td>\n      <td>3199.99</td>\n      <td>10</td>\n      <td>319.999</td>\n      <td>31999.90</td>\n      <td>B08ZSVP9T7</td>\n      <td>CÂMERA GOPRO HERO 8 BLACK ESSENCIAL BU...</td>\n      <td>ERRO</td>\n      <td>NaN</td>\n    </tr>\n    <tr>\n      <th>0</th>\n      <td>2022-05-31</td>\n      <td>https://www.amazon.com.br/C%C3%82MERA-GOPRO-BL...</td>\n      <td>AMAZON</td>\n      <td>LIVE IMPORTS</td>\n      <td>2599.0</td>\n      <td>10</td>\n      <td>259.900</td>\n      <td>25990.00</td>\n      <td>B08ZSVP9T7</td>\n      <td>CÂMERA GOPRO HERO 8 BLACK ESSENCIAL BU...</td>\n      <td>ERRO</td>\n      <td>NaN</td>\n    </tr>\n    <tr>\n      <th>1</th>\n      <td>2022-05-31</td>\n      <td>https://www.amazon.com.br/C%C3%82MERA-GOPRO-BL...</td>\n      <td>AMAZON</td>\n      <td>LIVE IMPORTS</td>\n      <td>2599.0</td>\n      <td>10</td>\n      <td>259.900</td>\n      <td>25990.00</td>\n      <td>B08ZSVP9T7</td>\n      <td>CÂMERA GOPRO HERO 8 BLACK ESSENCIAL BU...</td>\n      <td>ERRO</td>\n      <td>NaN</td>\n    </tr>\n    <tr>\n      <th>21</th>\n      <td>2022-05-31</td>\n      <td>https://www.amazon.com.br/compat%C3%ADvel-aces...</td>\n      <td>AMAZON</td>\n      <td>BUY SUPPLY</td>\n      <td>501.45</td>\n      <td>10</td>\n      <td>50.145</td>\n      <td>5014.50</td>\n      <td>B099KJRQ4V</td>\n      <td>Capa à prova d'água para GoPro Hero 9,...</td>\n      <td>ERRO</td>\n      <td>NaN</td>\n    </tr>\n    <tr>\n      <th>18</th>\n      <td>2022-05-31</td>\n      <td>https://www.amazon.com.br/PORTA-USB-PARA-PRONL...</td>\n      <td>AMAZON</td>\n      <td>GRUPO MAVERICK</td>\n      <td>299.99</td>\n      <td>10</td>\n      <td>29.999</td>\n      <td>2999.90</td>\n      <td>B09BBJTF8R</td>\n      <td>PORTA USB PARA USO PRONLONGADO HERO 9 ...</td>\n      <td>ERRO</td>\n      <td>NaN</td>\n    </tr>\n    <tr>\n      <th>64</th>\n      <td>2022-05-31</td>\n      <td>https://www.amazon.com.br/Porta-Lateral-Compat...</td>\n      <td>AMAZON</td>\n      <td>FUNPro</td>\n      <td>34.90</td>\n      <td>0</td>\n      <td>0.000</td>\n      <td>0.00</td>\n      <td>B09D8NZV8J</td>\n      <td>Porta Lateral Compatível com GoPro Her...</td>\n      <td>Internacional</td>\n      <td>0.0</td>\n    </tr>\n    <tr>\n      <th>61</th>\n      <td>2022-05-31</td>\n      <td>https://www.amazon.com.br/Zwbfu-XTGP559-prote%...</td>\n      <td>AMAZON</td>\n      <td>Jeneza</td>\n      <td>316.99</td>\n      <td>10</td>\n      <td>31.780</td>\n      <td>317.80</td>\n      <td>B09GJGW62Z</td>\n      <td>Zwbfu Câmera XTGP559 Porta de cúpula c...</td>\n      <td>Internacional</td>\n      <td>0.0</td>\n    </tr>\n    <tr>\n      <th>38</th>\n      <td>2022-05-31</td>\n      <td>https://www.amazon.com.br/Zwbfu-acess%C3%B3rio...</td>\n      <td>AMAZON</td>\n      <td>Jeneza</td>\n      <td>177.99</td>\n      <td>5</td>\n      <td>35.630</td>\n      <td>178.15</td>\n      <td>B09GJMPY6R</td>\n      <td>Zwbfu Kit de acessórios para câmera de...</td>\n      <td>Internacional</td>\n      <td>0.0</td>\n    </tr>\n    <tr>\n      <th>27</th>\n      <td>2022-05-31</td>\n      <td>https://www.amazon.com.br/grande-angular-c%C3%...</td>\n      <td>AMAZON</td>\n      <td>bizoffttk</td>\n      <td>415.5</td>\n      <td>10</td>\n      <td>41.550</td>\n      <td>4155.00</td>\n      <td>B09JVT24PJ</td>\n      <td>Lente grande angular, câmera esportiva...</td>\n      <td>ERRO</td>\n      <td>NaN</td>\n    </tr>\n    <tr>\n      <th>5</th>\n      <td>2022-05-31</td>\n      <td>https://www.amazon.com.br/C%C3%82MERA-GOPRO-HE...</td>\n      <td>AMAZON</td>\n      <td>GRUPO MAVERICK</td>\n      <td>3099.99</td>\n      <td>10</td>\n      <td>309.999</td>\n      <td>30999.90</td>\n      <td>B09LZ9655F</td>\n      <td>CÂMERA GOPRO HERO 8 BLACK - POWER BUND...</td>\n      <td>ERRO</td>\n      <td>NaN</td>\n    </tr>\n    <tr>\n      <th>4</th>\n      <td>2022-05-31</td>\n      <td>https://www.amazon.com.br/C%C3%82MERA-GOPRO-HE...</td>\n      <td>AMAZON</td>\n      <td>GRUPO MAVERICK</td>\n      <td>3099.99</td>\n      <td>10</td>\n      <td>309.999</td>\n      <td>30999.90</td>\n      <td>B09MG3XKZJ</td>\n      <td>CÂMERA GOPRO HERO 8 BLACK – SPECIAL BU...</td>\n      <td>ERRO</td>\n      <td>NaN</td>\n    </tr>\n    <tr>\n      <th>35</th>\n      <td>2022-05-31</td>\n      <td>https://www.amazon.com.br/fengny-Substitui%C3%...</td>\n      <td>AMAZON</td>\n      <td>kokorest</td>\n      <td>183.40</td>\n      <td>6</td>\n      <td>30.600</td>\n      <td>183.60</td>\n      <td>B09ZPB2QW3</td>\n      <td>fengny Substituição de controle remoto...</td>\n      <td>Internacional</td>\n      <td>0.0</td>\n    </tr>\n  </tbody>\n</table>\n</div>"
     },
     "execution_count": 58,
     "metadata": {},
     "output_type": "execute_result"
    }
   ],
   "source": [
    "Df_teste"
   ],
   "metadata": {
    "collapsed": false,
    "pycharm": {
     "name": "#%%\n"
    }
   }
  },
  {
   "cell_type": "code",
   "execution_count": 37,
   "outputs": [
    {
     "data": {
      "text/plain": "          DATE                                                URL MARKETPLACE  \\\n6   2022-06-06  https://www.amazon.com.br/C%C3%82MERA-GOPRO-HE...      AMAZON   \n14  2022-06-06  https://www.amazon.com.br/C%C3%82MERA-GOPRO-HE...      AMAZON   \n15  2022-06-06  https://www.amazon.com.br/C%C3%A2mera-Cart%C3%...      AMAZON   \n35  2022-06-06  https://www.amazon.com.br/fengny-Substitui%C3%...      AMAZON   \n39  2022-06-06  https://www.amazon.com.br/Acess%C3%B3rios-para...      AMAZON   \n40  2022-06-06  https://www.amazon.com.br/Zwbfu-acess%C3%B3rio...      AMAZON   \n44  2022-06-06  https://www.amazon.com.br/Insta360-imperme%C3%...      AMAZON   \n48  2022-06-06  https://www.amazon.com.br/Conjunto-acess%C3%B3...      AMAZON   \n49  2022-06-06  https://www.amazon.com.br/Kit-50-Acess%C3%B3ri...      AMAZON   \n50  2022-06-06  https://www.amazon.com.br/PORTA-USB-PARA-PRONL...      AMAZON   \n52  2022-06-06  https://www.amazon.com.br/GoPole-Alcan%C3%A7a-...      AMAZON   \n54  2022-06-06  https://www.amazon.com.br/Cucudy-subaqu%C3%A1t...      AMAZON   \n60  2022-06-06  https://www.amazon.com.br/Porta-Lateral-GoPro-...      AMAZON   \n62  2022-06-06  https://www.amazon.com.br/GoPro-Porta-Lateral-...      AMAZON   \n64  2022-06-06  https://www.amazon.com.br/Zwbfu-XTGP559-prote%...      AMAZON   \n65  2022-06-06  https://www.amazon.com.br/Porta-Lateral-Compat...      AMAZON   \n67  2022-06-06  https://www.amazon.com.br/Trip%C3%A9-Bast%C3%A...      AMAZON   \n0   2022-06-06  https://www.amazon.com.br/GOPOLE-Reach-Mini-ex...      AMAZON   \n1   2022-06-06  https://www.amazon.com.br/GoPro-CHDHX-901-RW-H...      AMAZON   \n2   2022-06-06  https://www.amazon.com.br/Cart%C3%A3o-Memoria-...      AMAZON   \n3   2022-06-06  https://www.amazon.com.br/esportiva-polegada-S...      AMAZON   \n4   2022-06-06  https://www.amazon.com.br/C%C3%A2mera-Digital-...      AMAZON   \n5   2022-06-06  https://www.amazon.com.br/C%C3%A2mera-Digital-...      AMAZON   \n6   2022-06-06  https://www.amazon.com.br/Kit-Gopro-Hero-Pe%C3...      AMAZON   \n7   2022-06-06  https://www.amazon.com.br/CABO-USB-PARA-TIPO-P...      AMAZON   \n8   2022-06-06  https://www.amazon.com.br/CABO-USB-PARA-TIPO-P...      AMAZON   \n9   2022-06-06  https://www.amazon.com.br/compat%C3%ADvel-aces...      AMAZON   \n10  2022-06-06  https://www.amazon.com.br/GoPro-Sistema-HERO3-...      AMAZON   \n11  2022-06-06  https://www.amazon.com.br/Cart%C3%A3o-mem%C3%B...      AMAZON   \n12  2022-06-06  https://www.amazon.com.br/Mochila-ajust%C3%A1v...      AMAZON   \n13  2022-06-06  https://www.amazon.com.br/grande-angular-c%C3%...      AMAZON   \n\n                   SELLER    PRICE  PARCEL  INSTALLMENT  INSTALLMENT_PAYMENT  \\\n6          GRUPO MAVERICK  3099.99      10      310.080              3100.80   \n14         GRUPO MAVERICK  3099.99      10      310.080              3100.80   \n15           LIVE IMPORTS  3099.00      10      309.900              3099.00   \n35               kokorest   183.40       6       30.600               183.60   \n39                 FUNPro   275.00       9       30.600               275.40   \n40                 Jeneza   177.99       5       35.630               178.15   \n44            EVO Gimbals  3636.86      10      363.740              3637.40   \n48               Minimini    75.00       2       37.500                75.00   \n49                 Amazon   342.14      10       34.250               342.50   \n50         GRUPO MAVERICK   299.99       9       33.350               300.15   \n52                 FUNPro   208.40       6       34.750               208.50   \n54                 Jeneza    95.18       3       31.740                95.22   \n60         GRUPO MAVERICK    59.99       0        0.000                 0.00   \n62         GRUPO MAVERICK   189.99       6       31.690               190.14   \n64                 Jeneza   316.99      10       31.780               317.80   \n65                 FUNPro    34.90       0        0.000                 0.00   \n67                 FUNPro   142.00       4       35.500               142.00   \n0       Ami Ventures Inc.    894.0      10       89.400              8940.00   \n1            LIVE IMPORTS   2699.0      10      269.900             26990.00   \n2              Tech-Place   174.14      10       17.414              1741.40   \n3              BUY SUPPLY   701.03      10       70.103              7010.30   \n4      Porto Seguro Store   3190.0      10      319.000             31900.00   \n5        Tech With Expert   4602.0      10      460.200             46020.00   \n6           biaeletronico    299.0      10       29.900              2990.00   \n7                 BC INFO    35.13      10        3.513               351.30   \n8      Preech Informática    47.43      10        4.743               474.30   \n9              BUY SUPPLY   501.45      10       50.145              5014.50   \n10            LIG Celular    189.9      10       18.990              1899.00   \n11  Triplenet Pricing INC    891.0      10       89.100              8910.00   \n12             BUY SUPPLY   412.74      10       41.274              4127.40   \n13              bizoffttk   423.53      10       42.353              4235.30   \n\n            ID                                            PRODUCT  \\\n6   B09LZ9655F          CÂMERA GOPRO HERO 8 BLACK - POWER BUND...   \n14  B09MG3XKZJ          CÂMERA GOPRO HERO 8 BLACK – SPECIAL BU...   \n15  B08R2XCM9K          Câmera GoPro HERO9 Black à Prova D'águ...   \n35  B09ZPB2QW3          fengny Substituição de controle remoto...   \n39  B086M7FK58          Kit de Acessórios para GoPro Hero 8 Bl...   \n40  B09GJMPY6R          Zwbfu Kit de acessórios para câmera de...   \n44  B08M3B9754          Insta360 Câmera de ação impermeável ON...   \n48  B082X8HPLL          Conjunto de acessórios para câmera Mob...   \n49  B07LFLJBW4          Kit 50 Em 1 De Acessórios Para Gopro  ...   \n50  B09BBJTF8R          PORTA USB PARA USO PRONLONGADO HERO 9 ...   \n52  B00B3YFDBS          GoPole Alcança de extensão de 14 a 101...   \n54  B08TTPW7DW          Cucudy Câmera de ação capa protetora à...   \n60  B08JCR3NTZ          Porta Lateral Compatível com GoPro Her...   \n62  B01L2CPKOK          Porta Lateral de Reposição para Hero6,...   \n64  B09GJGW62Z          Zwbfu Câmera XTGP559 Porta de cúpula c...   \n65  B09D8NZV8J          Porta Lateral Compatível com GoPro Her...   \n67  B08HV3FYQJ          Mini Tripé e Bastão para GoPro e Câmer...   \n0   B01C397F1C          GOPOLE Reach Mini – Haste de extensão ...   \n1   B08HPCFCSV           GoPro - HERO9 Preto, CHDHX-901-RW          \n2   B081VX1L3K          Cartão Memoria MicroSd 256GB Extreme P...   \n3   B07DW46BG4          Câmera de ação Vemont 1080P 12 MP Câme...   \n4   B0792MJLNM             Câmera Fusion 360, GoPro, Preto          \n5   B0792MJLNM             Câmera Fusion 360, GoPro, Preto          \n6   B07TCY5FNV          Kit Para Gopro Hero Com 9 Peças Maleta...   \n7   B089X297QT          CABO PARA CELULAR SMARTPHONE USB A 2.0...   \n8   B089X297QT          CABO PARA CELULAR SMARTPHONE USB A 2.0...   \n9   B099KJRQ4V          Capa à prova d'água para GoPro Hero 9,...   \n10  B00J9RO4U2          GoPro Sistema Dual Hero para HERO3+ (c...   \n11  B08GYG5SVQ          Cartão de memória SanDisk 400 GB Ultra...   \n12  B07WNPTF3T          Mochila com alça de ombro para câmera ...   \n13  B09JVT24PJ          Lente grande angular, câmera esportiva...   \n\n    INTERNACIONAL  MORE  \n6   Internacional   0.0  \n14  Internacional   0.0  \n15  Internacional   0.0  \n35  Internacional   0.0  \n39  Internacional   0.0  \n40  Internacional   0.0  \n44  Internacional   0.0  \n48  Internacional   0.0  \n49  Internacional   0.0  \n50  Internacional   0.0  \n52  Internacional   0.0  \n54  Internacional   0.0  \n60  Internacional   0.0  \n62  Internacional   0.0  \n64  Internacional   0.0  \n65  Internacional   0.0  \n67  Internacional   0.0  \n0            ERRO   NaN  \n1            ERRO   NaN  \n2            ERRO   NaN  \n3            ERRO   NaN  \n4            ERRO   NaN  \n5            ERRO   NaN  \n6            ERRO   NaN  \n7            ERRO   NaN  \n8            ERRO   NaN  \n9            ERRO   NaN  \n10           ERRO   NaN  \n11           ERRO   NaN  \n12           ERRO   NaN  \n13           ERRO   NaN  ",
      "text/html": "<div>\n<style scoped>\n    .dataframe tbody tr th:only-of-type {\n        vertical-align: middle;\n    }\n\n    .dataframe tbody tr th {\n        vertical-align: top;\n    }\n\n    .dataframe thead th {\n        text-align: right;\n    }\n</style>\n<table border=\"1\" class=\"dataframe\">\n  <thead>\n    <tr style=\"text-align: right;\">\n      <th></th>\n      <th>DATE</th>\n      <th>URL</th>\n      <th>MARKETPLACE</th>\n      <th>SELLER</th>\n      <th>PRICE</th>\n      <th>PARCEL</th>\n      <th>INSTALLMENT</th>\n      <th>INSTALLMENT_PAYMENT</th>\n      <th>ID</th>\n      <th>PRODUCT</th>\n      <th>INTERNACIONAL</th>\n      <th>MORE</th>\n    </tr>\n  </thead>\n  <tbody>\n    <tr>\n      <th>6</th>\n      <td>2022-06-06</td>\n      <td>https://www.amazon.com.br/C%C3%82MERA-GOPRO-HE...</td>\n      <td>AMAZON</td>\n      <td>GRUPO MAVERICK</td>\n      <td>3099.99</td>\n      <td>10</td>\n      <td>310.080</td>\n      <td>3100.80</td>\n      <td>B09LZ9655F</td>\n      <td>CÂMERA GOPRO HERO 8 BLACK - POWER BUND...</td>\n      <td>Internacional</td>\n      <td>0.0</td>\n    </tr>\n    <tr>\n      <th>14</th>\n      <td>2022-06-06</td>\n      <td>https://www.amazon.com.br/C%C3%82MERA-GOPRO-HE...</td>\n      <td>AMAZON</td>\n      <td>GRUPO MAVERICK</td>\n      <td>3099.99</td>\n      <td>10</td>\n      <td>310.080</td>\n      <td>3100.80</td>\n      <td>B09MG3XKZJ</td>\n      <td>CÂMERA GOPRO HERO 8 BLACK – SPECIAL BU...</td>\n      <td>Internacional</td>\n      <td>0.0</td>\n    </tr>\n    <tr>\n      <th>15</th>\n      <td>2022-06-06</td>\n      <td>https://www.amazon.com.br/C%C3%A2mera-Cart%C3%...</td>\n      <td>AMAZON</td>\n      <td>LIVE IMPORTS</td>\n      <td>3099.00</td>\n      <td>10</td>\n      <td>309.900</td>\n      <td>3099.00</td>\n      <td>B08R2XCM9K</td>\n      <td>Câmera GoPro HERO9 Black à Prova D'águ...</td>\n      <td>Internacional</td>\n      <td>0.0</td>\n    </tr>\n    <tr>\n      <th>35</th>\n      <td>2022-06-06</td>\n      <td>https://www.amazon.com.br/fengny-Substitui%C3%...</td>\n      <td>AMAZON</td>\n      <td>kokorest</td>\n      <td>183.40</td>\n      <td>6</td>\n      <td>30.600</td>\n      <td>183.60</td>\n      <td>B09ZPB2QW3</td>\n      <td>fengny Substituição de controle remoto...</td>\n      <td>Internacional</td>\n      <td>0.0</td>\n    </tr>\n    <tr>\n      <th>39</th>\n      <td>2022-06-06</td>\n      <td>https://www.amazon.com.br/Acess%C3%B3rios-para...</td>\n      <td>AMAZON</td>\n      <td>FUNPro</td>\n      <td>275.00</td>\n      <td>9</td>\n      <td>30.600</td>\n      <td>275.40</td>\n      <td>B086M7FK58</td>\n      <td>Kit de Acessórios para GoPro Hero 8 Bl...</td>\n      <td>Internacional</td>\n      <td>0.0</td>\n    </tr>\n    <tr>\n      <th>40</th>\n      <td>2022-06-06</td>\n      <td>https://www.amazon.com.br/Zwbfu-acess%C3%B3rio...</td>\n      <td>AMAZON</td>\n      <td>Jeneza</td>\n      <td>177.99</td>\n      <td>5</td>\n      <td>35.630</td>\n      <td>178.15</td>\n      <td>B09GJMPY6R</td>\n      <td>Zwbfu Kit de acessórios para câmera de...</td>\n      <td>Internacional</td>\n      <td>0.0</td>\n    </tr>\n    <tr>\n      <th>44</th>\n      <td>2022-06-06</td>\n      <td>https://www.amazon.com.br/Insta360-imperme%C3%...</td>\n      <td>AMAZON</td>\n      <td>EVO Gimbals</td>\n      <td>3636.86</td>\n      <td>10</td>\n      <td>363.740</td>\n      <td>3637.40</td>\n      <td>B08M3B9754</td>\n      <td>Insta360 Câmera de ação impermeável ON...</td>\n      <td>Internacional</td>\n      <td>0.0</td>\n    </tr>\n    <tr>\n      <th>48</th>\n      <td>2022-06-06</td>\n      <td>https://www.amazon.com.br/Conjunto-acess%C3%B3...</td>\n      <td>AMAZON</td>\n      <td>Minimini</td>\n      <td>75.00</td>\n      <td>2</td>\n      <td>37.500</td>\n      <td>75.00</td>\n      <td>B082X8HPLL</td>\n      <td>Conjunto de acessórios para câmera Mob...</td>\n      <td>Internacional</td>\n      <td>0.0</td>\n    </tr>\n    <tr>\n      <th>49</th>\n      <td>2022-06-06</td>\n      <td>https://www.amazon.com.br/Kit-50-Acess%C3%B3ri...</td>\n      <td>AMAZON</td>\n      <td>Amazon</td>\n      <td>342.14</td>\n      <td>10</td>\n      <td>34.250</td>\n      <td>342.50</td>\n      <td>B07LFLJBW4</td>\n      <td>Kit 50 Em 1 De Acessórios Para Gopro  ...</td>\n      <td>Internacional</td>\n      <td>0.0</td>\n    </tr>\n    <tr>\n      <th>50</th>\n      <td>2022-06-06</td>\n      <td>https://www.amazon.com.br/PORTA-USB-PARA-PRONL...</td>\n      <td>AMAZON</td>\n      <td>GRUPO MAVERICK</td>\n      <td>299.99</td>\n      <td>9</td>\n      <td>33.350</td>\n      <td>300.15</td>\n      <td>B09BBJTF8R</td>\n      <td>PORTA USB PARA USO PRONLONGADO HERO 9 ...</td>\n      <td>Internacional</td>\n      <td>0.0</td>\n    </tr>\n    <tr>\n      <th>52</th>\n      <td>2022-06-06</td>\n      <td>https://www.amazon.com.br/GoPole-Alcan%C3%A7a-...</td>\n      <td>AMAZON</td>\n      <td>FUNPro</td>\n      <td>208.40</td>\n      <td>6</td>\n      <td>34.750</td>\n      <td>208.50</td>\n      <td>B00B3YFDBS</td>\n      <td>GoPole Alcança de extensão de 14 a 101...</td>\n      <td>Internacional</td>\n      <td>0.0</td>\n    </tr>\n    <tr>\n      <th>54</th>\n      <td>2022-06-06</td>\n      <td>https://www.amazon.com.br/Cucudy-subaqu%C3%A1t...</td>\n      <td>AMAZON</td>\n      <td>Jeneza</td>\n      <td>95.18</td>\n      <td>3</td>\n      <td>31.740</td>\n      <td>95.22</td>\n      <td>B08TTPW7DW</td>\n      <td>Cucudy Câmera de ação capa protetora à...</td>\n      <td>Internacional</td>\n      <td>0.0</td>\n    </tr>\n    <tr>\n      <th>60</th>\n      <td>2022-06-06</td>\n      <td>https://www.amazon.com.br/Porta-Lateral-GoPro-...</td>\n      <td>AMAZON</td>\n      <td>GRUPO MAVERICK</td>\n      <td>59.99</td>\n      <td>0</td>\n      <td>0.000</td>\n      <td>0.00</td>\n      <td>B08JCR3NTZ</td>\n      <td>Porta Lateral Compatível com GoPro Her...</td>\n      <td>Internacional</td>\n      <td>0.0</td>\n    </tr>\n    <tr>\n      <th>62</th>\n      <td>2022-06-06</td>\n      <td>https://www.amazon.com.br/GoPro-Porta-Lateral-...</td>\n      <td>AMAZON</td>\n      <td>GRUPO MAVERICK</td>\n      <td>189.99</td>\n      <td>6</td>\n      <td>31.690</td>\n      <td>190.14</td>\n      <td>B01L2CPKOK</td>\n      <td>Porta Lateral de Reposição para Hero6,...</td>\n      <td>Internacional</td>\n      <td>0.0</td>\n    </tr>\n    <tr>\n      <th>64</th>\n      <td>2022-06-06</td>\n      <td>https://www.amazon.com.br/Zwbfu-XTGP559-prote%...</td>\n      <td>AMAZON</td>\n      <td>Jeneza</td>\n      <td>316.99</td>\n      <td>10</td>\n      <td>31.780</td>\n      <td>317.80</td>\n      <td>B09GJGW62Z</td>\n      <td>Zwbfu Câmera XTGP559 Porta de cúpula c...</td>\n      <td>Internacional</td>\n      <td>0.0</td>\n    </tr>\n    <tr>\n      <th>65</th>\n      <td>2022-06-06</td>\n      <td>https://www.amazon.com.br/Porta-Lateral-Compat...</td>\n      <td>AMAZON</td>\n      <td>FUNPro</td>\n      <td>34.90</td>\n      <td>0</td>\n      <td>0.000</td>\n      <td>0.00</td>\n      <td>B09D8NZV8J</td>\n      <td>Porta Lateral Compatível com GoPro Her...</td>\n      <td>Internacional</td>\n      <td>0.0</td>\n    </tr>\n    <tr>\n      <th>67</th>\n      <td>2022-06-06</td>\n      <td>https://www.amazon.com.br/Trip%C3%A9-Bast%C3%A...</td>\n      <td>AMAZON</td>\n      <td>FUNPro</td>\n      <td>142.00</td>\n      <td>4</td>\n      <td>35.500</td>\n      <td>142.00</td>\n      <td>B08HV3FYQJ</td>\n      <td>Mini Tripé e Bastão para GoPro e Câmer...</td>\n      <td>Internacional</td>\n      <td>0.0</td>\n    </tr>\n    <tr>\n      <th>0</th>\n      <td>2022-06-06</td>\n      <td>https://www.amazon.com.br/GOPOLE-Reach-Mini-ex...</td>\n      <td>AMAZON</td>\n      <td>Ami Ventures Inc.</td>\n      <td>894.0</td>\n      <td>10</td>\n      <td>89.400</td>\n      <td>8940.00</td>\n      <td>B01C397F1C</td>\n      <td>GOPOLE Reach Mini – Haste de extensão ...</td>\n      <td>ERRO</td>\n      <td>NaN</td>\n    </tr>\n    <tr>\n      <th>1</th>\n      <td>2022-06-06</td>\n      <td>https://www.amazon.com.br/GoPro-CHDHX-901-RW-H...</td>\n      <td>AMAZON</td>\n      <td>LIVE IMPORTS</td>\n      <td>2699.0</td>\n      <td>10</td>\n      <td>269.900</td>\n      <td>26990.00</td>\n      <td>B08HPCFCSV</td>\n      <td>GoPro - HERO9 Preto, CHDHX-901-RW</td>\n      <td>ERRO</td>\n      <td>NaN</td>\n    </tr>\n    <tr>\n      <th>2</th>\n      <td>2022-06-06</td>\n      <td>https://www.amazon.com.br/Cart%C3%A3o-Memoria-...</td>\n      <td>AMAZON</td>\n      <td>Tech-Place</td>\n      <td>174.14</td>\n      <td>10</td>\n      <td>17.414</td>\n      <td>1741.40</td>\n      <td>B081VX1L3K</td>\n      <td>Cartão Memoria MicroSd 256GB Extreme P...</td>\n      <td>ERRO</td>\n      <td>NaN</td>\n    </tr>\n    <tr>\n      <th>3</th>\n      <td>2022-06-06</td>\n      <td>https://www.amazon.com.br/esportiva-polegada-S...</td>\n      <td>AMAZON</td>\n      <td>BUY SUPPLY</td>\n      <td>701.03</td>\n      <td>10</td>\n      <td>70.103</td>\n      <td>7010.30</td>\n      <td>B07DW46BG4</td>\n      <td>Câmera de ação Vemont 1080P 12 MP Câme...</td>\n      <td>ERRO</td>\n      <td>NaN</td>\n    </tr>\n    <tr>\n      <th>4</th>\n      <td>2022-06-06</td>\n      <td>https://www.amazon.com.br/C%C3%A2mera-Digital-...</td>\n      <td>AMAZON</td>\n      <td>Porto Seguro Store</td>\n      <td>3190.0</td>\n      <td>10</td>\n      <td>319.000</td>\n      <td>31900.00</td>\n      <td>B0792MJLNM</td>\n      <td>Câmera Fusion 360, GoPro, Preto</td>\n      <td>ERRO</td>\n      <td>NaN</td>\n    </tr>\n    <tr>\n      <th>5</th>\n      <td>2022-06-06</td>\n      <td>https://www.amazon.com.br/C%C3%A2mera-Digital-...</td>\n      <td>AMAZON</td>\n      <td>Tech With Expert</td>\n      <td>4602.0</td>\n      <td>10</td>\n      <td>460.200</td>\n      <td>46020.00</td>\n      <td>B0792MJLNM</td>\n      <td>Câmera Fusion 360, GoPro, Preto</td>\n      <td>ERRO</td>\n      <td>NaN</td>\n    </tr>\n    <tr>\n      <th>6</th>\n      <td>2022-06-06</td>\n      <td>https://www.amazon.com.br/Kit-Gopro-Hero-Pe%C3...</td>\n      <td>AMAZON</td>\n      <td>biaeletronico</td>\n      <td>299.0</td>\n      <td>10</td>\n      <td>29.900</td>\n      <td>2990.00</td>\n      <td>B07TCY5FNV</td>\n      <td>Kit Para Gopro Hero Com 9 Peças Maleta...</td>\n      <td>ERRO</td>\n      <td>NaN</td>\n    </tr>\n    <tr>\n      <th>7</th>\n      <td>2022-06-06</td>\n      <td>https://www.amazon.com.br/CABO-USB-PARA-TIPO-P...</td>\n      <td>AMAZON</td>\n      <td>BC INFO</td>\n      <td>35.13</td>\n      <td>10</td>\n      <td>3.513</td>\n      <td>351.30</td>\n      <td>B089X297QT</td>\n      <td>CABO PARA CELULAR SMARTPHONE USB A 2.0...</td>\n      <td>ERRO</td>\n      <td>NaN</td>\n    </tr>\n    <tr>\n      <th>8</th>\n      <td>2022-06-06</td>\n      <td>https://www.amazon.com.br/CABO-USB-PARA-TIPO-P...</td>\n      <td>AMAZON</td>\n      <td>Preech Informática</td>\n      <td>47.43</td>\n      <td>10</td>\n      <td>4.743</td>\n      <td>474.30</td>\n      <td>B089X297QT</td>\n      <td>CABO PARA CELULAR SMARTPHONE USB A 2.0...</td>\n      <td>ERRO</td>\n      <td>NaN</td>\n    </tr>\n    <tr>\n      <th>9</th>\n      <td>2022-06-06</td>\n      <td>https://www.amazon.com.br/compat%C3%ADvel-aces...</td>\n      <td>AMAZON</td>\n      <td>BUY SUPPLY</td>\n      <td>501.45</td>\n      <td>10</td>\n      <td>50.145</td>\n      <td>5014.50</td>\n      <td>B099KJRQ4V</td>\n      <td>Capa à prova d'água para GoPro Hero 9,...</td>\n      <td>ERRO</td>\n      <td>NaN</td>\n    </tr>\n    <tr>\n      <th>10</th>\n      <td>2022-06-06</td>\n      <td>https://www.amazon.com.br/GoPro-Sistema-HERO3-...</td>\n      <td>AMAZON</td>\n      <td>LIG Celular</td>\n      <td>189.9</td>\n      <td>10</td>\n      <td>18.990</td>\n      <td>1899.00</td>\n      <td>B00J9RO4U2</td>\n      <td>GoPro Sistema Dual Hero para HERO3+ (c...</td>\n      <td>ERRO</td>\n      <td>NaN</td>\n    </tr>\n    <tr>\n      <th>11</th>\n      <td>2022-06-06</td>\n      <td>https://www.amazon.com.br/Cart%C3%A3o-mem%C3%B...</td>\n      <td>AMAZON</td>\n      <td>Triplenet Pricing INC</td>\n      <td>891.0</td>\n      <td>10</td>\n      <td>89.100</td>\n      <td>8910.00</td>\n      <td>B08GYG5SVQ</td>\n      <td>Cartão de memória SanDisk 400 GB Ultra...</td>\n      <td>ERRO</td>\n      <td>NaN</td>\n    </tr>\n    <tr>\n      <th>12</th>\n      <td>2022-06-06</td>\n      <td>https://www.amazon.com.br/Mochila-ajust%C3%A1v...</td>\n      <td>AMAZON</td>\n      <td>BUY SUPPLY</td>\n      <td>412.74</td>\n      <td>10</td>\n      <td>41.274</td>\n      <td>4127.40</td>\n      <td>B07WNPTF3T</td>\n      <td>Mochila com alça de ombro para câmera ...</td>\n      <td>ERRO</td>\n      <td>NaN</td>\n    </tr>\n    <tr>\n      <th>13</th>\n      <td>2022-06-06</td>\n      <td>https://www.amazon.com.br/grande-angular-c%C3%...</td>\n      <td>AMAZON</td>\n      <td>bizoffttk</td>\n      <td>423.53</td>\n      <td>10</td>\n      <td>42.353</td>\n      <td>4235.30</td>\n      <td>B09JVT24PJ</td>\n      <td>Lente grande angular, câmera esportiva...</td>\n      <td>ERRO</td>\n      <td>NaN</td>\n    </tr>\n  </tbody>\n</table>\n</div>"
     },
     "execution_count": 37,
     "metadata": {},
     "output_type": "execute_result"
    }
   ],
   "source": [
    "Df_Final_Final = pd.concat([Df_final_copy, Dataframe_Button])\n",
    "Df_Final_Final"
   ],
   "metadata": {
    "collapsed": false,
    "pycharm": {
     "name": "#%%\n"
    }
   }
  },
  {
   "cell_type": "code",
   "execution_count": 38,
   "outputs": [
    {
     "data": {
      "text/plain": "           DATE                                                URL  \\\n6    2022-06-06  https://www.amazon.com.br/C%C3%82MERA-GOPRO-HE...   \n14   2022-06-06  https://www.amazon.com.br/C%C3%82MERA-GOPRO-HE...   \n15   2022-06-06  https://www.amazon.com.br/C%C3%A2mera-Cart%C3%...   \n35   2022-06-06  https://www.amazon.com.br/fengny-Substitui%C3%...   \n39   2022-06-06  https://www.amazon.com.br/Acess%C3%B3rios-para...   \n..          ...                                                ...   \n154  2022-06-06  https://www.amazon.com.br/Dji-Osmo-Pocket-2-Co...   \n155  2022-06-06  https://www.amazon.com.br/Lateral-Reposi%C3%A7...   \n156  2022-06-06  https://www.amazon.com.br/Lateral-Reposi%C3%A7...   \n157  2022-06-06  https://www.amazon.com.br/Insta360-C%C3%A2mera...   \n158  2022-06-06  https://www.amazon.com.br/C%C3%A2mera-Filmador...   \n\n    MARKETPLACE               SELLER    PRICE  PARCEL  INSTALLMENT  \\\n6        AMAZON       GRUPO MAVERICK  3099.99      10      310.080   \n14       AMAZON       GRUPO MAVERICK  3099.99      10      310.080   \n15       AMAZON         LIVE IMPORTS  3099.00      10      309.900   \n35       AMAZON             kokorest   183.40       6       30.600   \n39       AMAZON               FUNPro   275.00       9       30.600   \n..          ...                  ...      ...     ...          ...   \n154      AMAZON  Lucas Lapa PhotoPro   5999.0      10      599.900   \n155      AMAZON               FUNPro     91.9      10        9.190   \n156      AMAZON       GRUPO MAVERICK   149.99      10       14.999   \n157      AMAZON      Imperioshopping   4621.9      10      462.190   \n158      AMAZON    Loja do Filmmaker   5759.0      10      575.900   \n\n     INSTALLMENT_PAYMENT          ID  \\\n6                 3100.8  B09LZ9655F   \n14                3100.8  B09MG3XKZJ   \n15                3099.0  B08R2XCM9K   \n35                 183.6  B09ZPB2QW3   \n39                 275.4  B086M7FK58   \n..                   ...         ...   \n154              59990.0  B08HWCCS6S   \n155                919.0  B07GDG1D6H   \n156               1499.9  B07GDG1D6H   \n157              46219.0  B08YRZP1QN   \n158              57590.0  B083R4VMMC   \n\n                                               PRODUCT  INTERNACIONAL  MORE  \n6            CÂMERA GOPRO HERO 8 BLACK - POWER BUND...  Internacional   0.0  \n14           CÂMERA GOPRO HERO 8 BLACK – SPECIAL BU...  Internacional   0.0  \n15           Câmera GoPro HERO9 Black à Prova D'águ...  Internacional   0.0  \n35           fengny Substituição de controle remoto...  Internacional   0.0  \n39           Kit de Acessórios para GoPro Hero 8 Bl...  Internacional   0.0  \n..                                                 ...            ...   ...  \n154                     Dji Osmo Pocket 2 Combo                  ERRO   NaN  \n155          GoPro Acessório de câmera de substitui...           ERRO   NaN  \n156          GoPro Acessório de câmera de substitui...           ERRO   NaN  \n157          Insta360 Câmera ONE X2 360 com tela se...           ERRO   NaN  \n158          Câmera de ação Insta360 One R Edição T...           ERRO   NaN  \n\n[190 rows x 12 columns]",
      "text/html": "<div>\n<style scoped>\n    .dataframe tbody tr th:only-of-type {\n        vertical-align: middle;\n    }\n\n    .dataframe tbody tr th {\n        vertical-align: top;\n    }\n\n    .dataframe thead th {\n        text-align: right;\n    }\n</style>\n<table border=\"1\" class=\"dataframe\">\n  <thead>\n    <tr style=\"text-align: right;\">\n      <th></th>\n      <th>DATE</th>\n      <th>URL</th>\n      <th>MARKETPLACE</th>\n      <th>SELLER</th>\n      <th>PRICE</th>\n      <th>PARCEL</th>\n      <th>INSTALLMENT</th>\n      <th>INSTALLMENT_PAYMENT</th>\n      <th>ID</th>\n      <th>PRODUCT</th>\n      <th>INTERNACIONAL</th>\n      <th>MORE</th>\n    </tr>\n  </thead>\n  <tbody>\n    <tr>\n      <th>6</th>\n      <td>2022-06-06</td>\n      <td>https://www.amazon.com.br/C%C3%82MERA-GOPRO-HE...</td>\n      <td>AMAZON</td>\n      <td>GRUPO MAVERICK</td>\n      <td>3099.99</td>\n      <td>10</td>\n      <td>310.080</td>\n      <td>3100.8</td>\n      <td>B09LZ9655F</td>\n      <td>CÂMERA GOPRO HERO 8 BLACK - POWER BUND...</td>\n      <td>Internacional</td>\n      <td>0.0</td>\n    </tr>\n    <tr>\n      <th>14</th>\n      <td>2022-06-06</td>\n      <td>https://www.amazon.com.br/C%C3%82MERA-GOPRO-HE...</td>\n      <td>AMAZON</td>\n      <td>GRUPO MAVERICK</td>\n      <td>3099.99</td>\n      <td>10</td>\n      <td>310.080</td>\n      <td>3100.8</td>\n      <td>B09MG3XKZJ</td>\n      <td>CÂMERA GOPRO HERO 8 BLACK – SPECIAL BU...</td>\n      <td>Internacional</td>\n      <td>0.0</td>\n    </tr>\n    <tr>\n      <th>15</th>\n      <td>2022-06-06</td>\n      <td>https://www.amazon.com.br/C%C3%A2mera-Cart%C3%...</td>\n      <td>AMAZON</td>\n      <td>LIVE IMPORTS</td>\n      <td>3099.00</td>\n      <td>10</td>\n      <td>309.900</td>\n      <td>3099.0</td>\n      <td>B08R2XCM9K</td>\n      <td>Câmera GoPro HERO9 Black à Prova D'águ...</td>\n      <td>Internacional</td>\n      <td>0.0</td>\n    </tr>\n    <tr>\n      <th>35</th>\n      <td>2022-06-06</td>\n      <td>https://www.amazon.com.br/fengny-Substitui%C3%...</td>\n      <td>AMAZON</td>\n      <td>kokorest</td>\n      <td>183.40</td>\n      <td>6</td>\n      <td>30.600</td>\n      <td>183.6</td>\n      <td>B09ZPB2QW3</td>\n      <td>fengny Substituição de controle remoto...</td>\n      <td>Internacional</td>\n      <td>0.0</td>\n    </tr>\n    <tr>\n      <th>39</th>\n      <td>2022-06-06</td>\n      <td>https://www.amazon.com.br/Acess%C3%B3rios-para...</td>\n      <td>AMAZON</td>\n      <td>FUNPro</td>\n      <td>275.00</td>\n      <td>9</td>\n      <td>30.600</td>\n      <td>275.4</td>\n      <td>B086M7FK58</td>\n      <td>Kit de Acessórios para GoPro Hero 8 Bl...</td>\n      <td>Internacional</td>\n      <td>0.0</td>\n    </tr>\n    <tr>\n      <th>...</th>\n      <td>...</td>\n      <td>...</td>\n      <td>...</td>\n      <td>...</td>\n      <td>...</td>\n      <td>...</td>\n      <td>...</td>\n      <td>...</td>\n      <td>...</td>\n      <td>...</td>\n      <td>...</td>\n      <td>...</td>\n    </tr>\n    <tr>\n      <th>154</th>\n      <td>2022-06-06</td>\n      <td>https://www.amazon.com.br/Dji-Osmo-Pocket-2-Co...</td>\n      <td>AMAZON</td>\n      <td>Lucas Lapa PhotoPro</td>\n      <td>5999.0</td>\n      <td>10</td>\n      <td>599.900</td>\n      <td>59990.0</td>\n      <td>B08HWCCS6S</td>\n      <td>Dji Osmo Pocket 2 Combo</td>\n      <td>ERRO</td>\n      <td>NaN</td>\n    </tr>\n    <tr>\n      <th>155</th>\n      <td>2022-06-06</td>\n      <td>https://www.amazon.com.br/Lateral-Reposi%C3%A7...</td>\n      <td>AMAZON</td>\n      <td>FUNPro</td>\n      <td>91.9</td>\n      <td>10</td>\n      <td>9.190</td>\n      <td>919.0</td>\n      <td>B07GDG1D6H</td>\n      <td>GoPro Acessório de câmera de substitui...</td>\n      <td>ERRO</td>\n      <td>NaN</td>\n    </tr>\n    <tr>\n      <th>156</th>\n      <td>2022-06-06</td>\n      <td>https://www.amazon.com.br/Lateral-Reposi%C3%A7...</td>\n      <td>AMAZON</td>\n      <td>GRUPO MAVERICK</td>\n      <td>149.99</td>\n      <td>10</td>\n      <td>14.999</td>\n      <td>1499.9</td>\n      <td>B07GDG1D6H</td>\n      <td>GoPro Acessório de câmera de substitui...</td>\n      <td>ERRO</td>\n      <td>NaN</td>\n    </tr>\n    <tr>\n      <th>157</th>\n      <td>2022-06-06</td>\n      <td>https://www.amazon.com.br/Insta360-C%C3%A2mera...</td>\n      <td>AMAZON</td>\n      <td>Imperioshopping</td>\n      <td>4621.9</td>\n      <td>10</td>\n      <td>462.190</td>\n      <td>46219.0</td>\n      <td>B08YRZP1QN</td>\n      <td>Insta360 Câmera ONE X2 360 com tela se...</td>\n      <td>ERRO</td>\n      <td>NaN</td>\n    </tr>\n    <tr>\n      <th>158</th>\n      <td>2022-06-06</td>\n      <td>https://www.amazon.com.br/C%C3%A2mera-Filmador...</td>\n      <td>AMAZON</td>\n      <td>Loja do Filmmaker</td>\n      <td>5759.0</td>\n      <td>10</td>\n      <td>575.900</td>\n      <td>57590.0</td>\n      <td>B083R4VMMC</td>\n      <td>Câmera de ação Insta360 One R Edição T...</td>\n      <td>ERRO</td>\n      <td>NaN</td>\n    </tr>\n  </tbody>\n</table>\n<p>190 rows × 12 columns</p>\n</div>"
     },
     "execution_count": 38,
     "metadata": {},
     "output_type": "execute_result"
    }
   ],
   "source": [
    "Df_Final_Final = pd.concat([Df_final_copy, Dataframe_Button, Dataframe_More])\n",
    "Df_Final_Final"
   ],
   "metadata": {
    "collapsed": false,
    "pycharm": {
     "name": "#%%\n"
    }
   }
  },
  {
   "cell_type": "code",
   "execution_count": 39,
   "outputs": [],
   "source": [
    "Df_Final_Final.to_excel(r\"C:\\Users\\pedro\\Documents\\Turte Brand Protection\\AMAZON_FINAL_GOPRO.xlsx\", index=False)"
   ],
   "metadata": {
    "collapsed": false,
    "pycharm": {
     "name": "#%%\n"
    }
   }
  },
  {
   "cell_type": "code",
   "execution_count": 59,
   "outputs": [
    {
     "data": {
      "text/plain": "           DATE                                                URL  \\\n44   2022-05-31  https://www.amazon.com.br/GoPole-Alcan%C3%A7a-...   \n22   2022-05-31  https://www.amazon.com.br/GoPro-Sistema-HERO3-...   \n14   2022-05-31  https://www.amazon.com.br/GOPOLE-Reach-Mini-ex...   \n62   2022-05-31  https://www.amazon.com.br/transporte-acess%C3%...   \n26   2022-05-31  https://www.amazon.com.br/GoPro-Porta-Lateral-...   \n..          ...                                                ...   \n144  2022-05-31  https://www.amazon.com.br/Dji-Osmo-Pocket-2-Co...   \n145  2022-05-31  https://www.amazon.com.br/Dji-Osmo-Pocket-2-Co...   \n146  2022-05-31  https://www.amazon.com.br/Dji-Osmo-Pocket-2-Co...   \n147  2022-05-31  https://www.amazon.com.br/Dji-Osmo-Pocket-2-Co...   \n148  2022-05-31  https://www.amazon.com.br/C%C3%A2mera-Filmador...   \n\n    MARKETPLACE               SELLER    PRICE  PARCEL  INSTALLMENT  \\\n44       AMAZON               FUNPro   208.40       6       34.750   \n22       AMAZON          LIG Celular    189.9      10       18.990   \n14       AMAZON    Ami Ventures Inc.   1034.0      10      103.400   \n62       AMAZON           wecome2021   158.00       5       31.600   \n26       AMAZON       GRUPO MAVERICK   189.99      10       18.999   \n..          ...                  ...      ...     ...          ...   \n144      AMAZON          BalbinoShop  3899.99      10      389.999   \n145      AMAZON              GearNPC   5000.0      10      500.000   \n146      AMAZON              eFacini   5072.9      10      507.290   \n147      AMAZON  Lucas Lapa PhotoPro   5999.0      10      599.900   \n148      AMAZON    Loja do Filmmaker   5759.0      10      575.900   \n\n     INSTALLMENT_PAYMENT          ID  \\\n44                 208.5  B00B3YFDBS   \n22                1899.0  B00J9RO4U2   \n14               10340.0  B01C397F1C   \n62                 158.0  B01H6OP92G   \n26                1899.9  B01L2CPKOK   \n..                   ...         ...   \n144              38999.9  B08HWCCS6S   \n145              50000.0  B08HWCCS6S   \n146              50729.0  B08HWCCS6S   \n147              59990.0  B08HWCCS6S   \n148              57590.0  B083R4VMMC   \n\n                                               PRODUCT  INTERNACIONAL  MORE  \n44           GoPole Alcança de extensão de 14 a 101...  Internacional   0.0  \n22           GoPro Sistema Dual Hero para HERO3+ (c...           ERRO   NaN  \n14           GOPOLE Reach Mini – Haste de extensão ...           ERRO   NaN  \n62           Estojo de transporte para GoPro Hero(2...  Internacional   0.0  \n26           Porta Lateral de Reposição para Hero6,...           ERRO   NaN  \n..                                                 ...            ...   ...  \n144                     Dji Osmo Pocket 2 Combo                  ERRO   NaN  \n145                     Dji Osmo Pocket 2 Combo                  ERRO   NaN  \n146                     Dji Osmo Pocket 2 Combo                  ERRO   NaN  \n147                     Dji Osmo Pocket 2 Combo                  ERRO   NaN  \n148          Câmera de ação Insta360 One R Edição T...           ERRO   NaN  \n\n[191 rows x 12 columns]",
      "text/html": "<div>\n<style scoped>\n    .dataframe tbody tr th:only-of-type {\n        vertical-align: middle;\n    }\n\n    .dataframe tbody tr th {\n        vertical-align: top;\n    }\n\n    .dataframe thead th {\n        text-align: right;\n    }\n</style>\n<table border=\"1\" class=\"dataframe\">\n  <thead>\n    <tr style=\"text-align: right;\">\n      <th></th>\n      <th>DATE</th>\n      <th>URL</th>\n      <th>MARKETPLACE</th>\n      <th>SELLER</th>\n      <th>PRICE</th>\n      <th>PARCEL</th>\n      <th>INSTALLMENT</th>\n      <th>INSTALLMENT_PAYMENT</th>\n      <th>ID</th>\n      <th>PRODUCT</th>\n      <th>INTERNACIONAL</th>\n      <th>MORE</th>\n    </tr>\n  </thead>\n  <tbody>\n    <tr>\n      <th>44</th>\n      <td>2022-05-31</td>\n      <td>https://www.amazon.com.br/GoPole-Alcan%C3%A7a-...</td>\n      <td>AMAZON</td>\n      <td>FUNPro</td>\n      <td>208.40</td>\n      <td>6</td>\n      <td>34.750</td>\n      <td>208.5</td>\n      <td>B00B3YFDBS</td>\n      <td>GoPole Alcança de extensão de 14 a 101...</td>\n      <td>Internacional</td>\n      <td>0.0</td>\n    </tr>\n    <tr>\n      <th>22</th>\n      <td>2022-05-31</td>\n      <td>https://www.amazon.com.br/GoPro-Sistema-HERO3-...</td>\n      <td>AMAZON</td>\n      <td>LIG Celular</td>\n      <td>189.9</td>\n      <td>10</td>\n      <td>18.990</td>\n      <td>1899.0</td>\n      <td>B00J9RO4U2</td>\n      <td>GoPro Sistema Dual Hero para HERO3+ (c...</td>\n      <td>ERRO</td>\n      <td>NaN</td>\n    </tr>\n    <tr>\n      <th>14</th>\n      <td>2022-05-31</td>\n      <td>https://www.amazon.com.br/GOPOLE-Reach-Mini-ex...</td>\n      <td>AMAZON</td>\n      <td>Ami Ventures Inc.</td>\n      <td>1034.0</td>\n      <td>10</td>\n      <td>103.400</td>\n      <td>10340.0</td>\n      <td>B01C397F1C</td>\n      <td>GOPOLE Reach Mini – Haste de extensão ...</td>\n      <td>ERRO</td>\n      <td>NaN</td>\n    </tr>\n    <tr>\n      <th>62</th>\n      <td>2022-05-31</td>\n      <td>https://www.amazon.com.br/transporte-acess%C3%...</td>\n      <td>AMAZON</td>\n      <td>wecome2021</td>\n      <td>158.00</td>\n      <td>5</td>\n      <td>31.600</td>\n      <td>158.0</td>\n      <td>B01H6OP92G</td>\n      <td>Estojo de transporte para GoPro Hero(2...</td>\n      <td>Internacional</td>\n      <td>0.0</td>\n    </tr>\n    <tr>\n      <th>26</th>\n      <td>2022-05-31</td>\n      <td>https://www.amazon.com.br/GoPro-Porta-Lateral-...</td>\n      <td>AMAZON</td>\n      <td>GRUPO MAVERICK</td>\n      <td>189.99</td>\n      <td>10</td>\n      <td>18.999</td>\n      <td>1899.9</td>\n      <td>B01L2CPKOK</td>\n      <td>Porta Lateral de Reposição para Hero6,...</td>\n      <td>ERRO</td>\n      <td>NaN</td>\n    </tr>\n    <tr>\n      <th>...</th>\n      <td>...</td>\n      <td>...</td>\n      <td>...</td>\n      <td>...</td>\n      <td>...</td>\n      <td>...</td>\n      <td>...</td>\n      <td>...</td>\n      <td>...</td>\n      <td>...</td>\n      <td>...</td>\n      <td>...</td>\n    </tr>\n    <tr>\n      <th>144</th>\n      <td>2022-05-31</td>\n      <td>https://www.amazon.com.br/Dji-Osmo-Pocket-2-Co...</td>\n      <td>AMAZON</td>\n      <td>BalbinoShop</td>\n      <td>3899.99</td>\n      <td>10</td>\n      <td>389.999</td>\n      <td>38999.9</td>\n      <td>B08HWCCS6S</td>\n      <td>Dji Osmo Pocket 2 Combo</td>\n      <td>ERRO</td>\n      <td>NaN</td>\n    </tr>\n    <tr>\n      <th>145</th>\n      <td>2022-05-31</td>\n      <td>https://www.amazon.com.br/Dji-Osmo-Pocket-2-Co...</td>\n      <td>AMAZON</td>\n      <td>GearNPC</td>\n      <td>5000.0</td>\n      <td>10</td>\n      <td>500.000</td>\n      <td>50000.0</td>\n      <td>B08HWCCS6S</td>\n      <td>Dji Osmo Pocket 2 Combo</td>\n      <td>ERRO</td>\n      <td>NaN</td>\n    </tr>\n    <tr>\n      <th>146</th>\n      <td>2022-05-31</td>\n      <td>https://www.amazon.com.br/Dji-Osmo-Pocket-2-Co...</td>\n      <td>AMAZON</td>\n      <td>eFacini</td>\n      <td>5072.9</td>\n      <td>10</td>\n      <td>507.290</td>\n      <td>50729.0</td>\n      <td>B08HWCCS6S</td>\n      <td>Dji Osmo Pocket 2 Combo</td>\n      <td>ERRO</td>\n      <td>NaN</td>\n    </tr>\n    <tr>\n      <th>147</th>\n      <td>2022-05-31</td>\n      <td>https://www.amazon.com.br/Dji-Osmo-Pocket-2-Co...</td>\n      <td>AMAZON</td>\n      <td>Lucas Lapa PhotoPro</td>\n      <td>5999.0</td>\n      <td>10</td>\n      <td>599.900</td>\n      <td>59990.0</td>\n      <td>B08HWCCS6S</td>\n      <td>Dji Osmo Pocket 2 Combo</td>\n      <td>ERRO</td>\n      <td>NaN</td>\n    </tr>\n    <tr>\n      <th>148</th>\n      <td>2022-05-31</td>\n      <td>https://www.amazon.com.br/C%C3%A2mera-Filmador...</td>\n      <td>AMAZON</td>\n      <td>Loja do Filmmaker</td>\n      <td>5759.0</td>\n      <td>10</td>\n      <td>575.900</td>\n      <td>57590.0</td>\n      <td>B083R4VMMC</td>\n      <td>Câmera de ação Insta360 One R Edição T...</td>\n      <td>ERRO</td>\n      <td>NaN</td>\n    </tr>\n  </tbody>\n</table>\n<p>191 rows × 12 columns</p>\n</div>"
     },
     "execution_count": 59,
     "metadata": {},
     "output_type": "execute_result"
    }
   ],
   "source": [
    "Df_final_mesmo = pd.concat([Df_teste, Dataframe_More])\n",
    "Df_final_mesmo"
   ],
   "metadata": {
    "collapsed": false,
    "pycharm": {
     "name": "#%%\n"
    }
   }
  },
  {
   "cell_type": "code",
   "execution_count": 60,
   "outputs": [],
   "source": [
    "Df_final_mesmo.to_excel(r\"C:\\Users\\pedro\\Documents\\Turte Brand Protection\\AMAZON_FINAL_GOPRO.xlsx\", index=False)"
   ],
   "metadata": {
    "collapsed": false,
    "pycharm": {
     "name": "#%%\n"
    }
   }
  },
  {
   "cell_type": "code",
   "execution_count": 105,
   "outputs": [
    {
     "ename": "ValueError",
     "evalue": "Can only compare identically-labeled Series objects",
     "output_type": "error",
     "traceback": [
      "\u001B[1;31m---------------------------------------------------------------------------\u001B[0m",
      "\u001B[1;31mValueError\u001B[0m                                Traceback (most recent call last)",
      "Input \u001B[1;32mIn [105]\u001B[0m, in \u001B[0;36m<cell line: 2>\u001B[1;34m()\u001B[0m\n\u001B[0;32m      1\u001B[0m Dataframe_More[\u001B[38;5;124m'\u001B[39m\u001B[38;5;124mDATE\u001B[39m\u001B[38;5;124m'\u001B[39m] \u001B[38;5;241m=\u001B[39m pd\u001B[38;5;241m.\u001B[39mto_datetime(\u001B[38;5;124m'\u001B[39m\u001B[38;5;124mtoday\u001B[39m\u001B[38;5;124m'\u001B[39m, errors\u001B[38;5;241m=\u001B[39m\u001B[38;5;124m'\u001B[39m\u001B[38;5;124mignore\u001B[39m\u001B[38;5;124m'\u001B[39m)\u001B[38;5;241m.\u001B[39mdate()\n\u001B[1;32m----> 2\u001B[0m Dataframe_More[\u001B[38;5;124m'\u001B[39m\u001B[38;5;124mURL\u001B[39m\u001B[38;5;124m'\u001B[39m] \u001B[38;5;241m=\u001B[39m [Df_final\u001B[38;5;241m.\u001B[39mloc[\u001B[43mDf_final\u001B[49m\u001B[43m[\u001B[49m\u001B[38;5;124;43m'\u001B[39;49m\u001B[38;5;124;43mID\u001B[39;49m\u001B[38;5;124;43m'\u001B[39;49m\u001B[43m]\u001B[49m\u001B[43m \u001B[49m\u001B[38;5;241;43m==\u001B[39;49m\u001B[43m \u001B[49m\u001B[43mDataframe_More\u001B[49m\u001B[43m[\u001B[49m\u001B[38;5;124;43m'\u001B[39;49m\u001B[38;5;124;43mID\u001B[39;49m\u001B[38;5;124;43m'\u001B[39;49m\u001B[43m]\u001B[49m, \u001B[38;5;124m'\u001B[39m\u001B[38;5;124mURL\u001B[39m\u001B[38;5;124m'\u001B[39m]]\n",
      "File \u001B[1;32m~\\AppData\\Local\\Programs\\Python\\Python310\\lib\\site-packages\\pandas\\core\\ops\\common.py:70\u001B[0m, in \u001B[0;36m_unpack_zerodim_and_defer.<locals>.new_method\u001B[1;34m(self, other)\u001B[0m\n\u001B[0;32m     66\u001B[0m             \u001B[38;5;28;01mreturn\u001B[39;00m \u001B[38;5;28mNotImplemented\u001B[39m\n\u001B[0;32m     68\u001B[0m other \u001B[38;5;241m=\u001B[39m item_from_zerodim(other)\n\u001B[1;32m---> 70\u001B[0m \u001B[38;5;28;01mreturn\u001B[39;00m \u001B[43mmethod\u001B[49m\u001B[43m(\u001B[49m\u001B[38;5;28;43mself\u001B[39;49m\u001B[43m,\u001B[49m\u001B[43m \u001B[49m\u001B[43mother\u001B[49m\u001B[43m)\u001B[49m\n",
      "File \u001B[1;32m~\\AppData\\Local\\Programs\\Python\\Python310\\lib\\site-packages\\pandas\\core\\arraylike.py:40\u001B[0m, in \u001B[0;36mOpsMixin.__eq__\u001B[1;34m(self, other)\u001B[0m\n\u001B[0;32m     38\u001B[0m \u001B[38;5;129m@unpack_zerodim_and_defer\u001B[39m(\u001B[38;5;124m\"\u001B[39m\u001B[38;5;124m__eq__\u001B[39m\u001B[38;5;124m\"\u001B[39m)\n\u001B[0;32m     39\u001B[0m \u001B[38;5;28;01mdef\u001B[39;00m \u001B[38;5;21m__eq__\u001B[39m(\u001B[38;5;28mself\u001B[39m, other):\n\u001B[1;32m---> 40\u001B[0m     \u001B[38;5;28;01mreturn\u001B[39;00m \u001B[38;5;28;43mself\u001B[39;49m\u001B[38;5;241;43m.\u001B[39;49m\u001B[43m_cmp_method\u001B[49m\u001B[43m(\u001B[49m\u001B[43mother\u001B[49m\u001B[43m,\u001B[49m\u001B[43m \u001B[49m\u001B[43moperator\u001B[49m\u001B[38;5;241;43m.\u001B[39;49m\u001B[43meq\u001B[49m\u001B[43m)\u001B[49m\n",
      "File \u001B[1;32m~\\AppData\\Local\\Programs\\Python\\Python310\\lib\\site-packages\\pandas\\core\\series.py:5617\u001B[0m, in \u001B[0;36mSeries._cmp_method\u001B[1;34m(self, other, op)\u001B[0m\n\u001B[0;32m   5614\u001B[0m res_name \u001B[38;5;241m=\u001B[39m ops\u001B[38;5;241m.\u001B[39mget_op_result_name(\u001B[38;5;28mself\u001B[39m, other)\n\u001B[0;32m   5616\u001B[0m \u001B[38;5;28;01mif\u001B[39;00m \u001B[38;5;28misinstance\u001B[39m(other, Series) \u001B[38;5;129;01mand\u001B[39;00m \u001B[38;5;129;01mnot\u001B[39;00m \u001B[38;5;28mself\u001B[39m\u001B[38;5;241m.\u001B[39m_indexed_same(other):\n\u001B[1;32m-> 5617\u001B[0m     \u001B[38;5;28;01mraise\u001B[39;00m \u001B[38;5;167;01mValueError\u001B[39;00m(\u001B[38;5;124m\"\u001B[39m\u001B[38;5;124mCan only compare identically-labeled Series objects\u001B[39m\u001B[38;5;124m\"\u001B[39m)\n\u001B[0;32m   5619\u001B[0m lvalues \u001B[38;5;241m=\u001B[39m \u001B[38;5;28mself\u001B[39m\u001B[38;5;241m.\u001B[39m_values\n\u001B[0;32m   5620\u001B[0m rvalues \u001B[38;5;241m=\u001B[39m extract_array(other, extract_numpy\u001B[38;5;241m=\u001B[39m\u001B[38;5;28;01mTrue\u001B[39;00m, extract_range\u001B[38;5;241m=\u001B[39m\u001B[38;5;28;01mTrue\u001B[39;00m)\n",
      "\u001B[1;31mValueError\u001B[0m: Can only compare identically-labeled Series objects"
     ]
    }
   ],
   "source": [
    "Dataframe_More['DATE'] = pd.to_datetime('today', errors='ignore').date()\n",
    "#Dataframe_More['URL'] = [Df_final.loc[Df_final['ID'] == Dataframe_More['ID'], 'URL']]"
   ],
   "metadata": {
    "collapsed": false,
    "pycharm": {
     "name": "#%%\n"
    }
   }
  },
  {
   "cell_type": "code",
   "execution_count": 117,
   "outputs": [
    {
     "data": {
      "text/plain": "            ID                      Seller        Price        DATE  \\\n0   B07WSRXMS8                LIVE IMPORTS  R$ 2.299,00  2022-05-21   \n1   B07WSRXMS8                 King Pro St  R$ 2.289,00  2022-05-21   \n2   B07WSRXMS8              GRUPO MAVERICK  R$ 2.599,00  2022-05-21   \n3   B09D15SFMQ                LIVE IMPORTS  R$ 3.207,25  2022-05-21   \n4   B09D15SFMQ                 King Pro St  R$ 3.219,00  2022-05-21   \n5   B09D15SFMQ              GRUPO MAVERICK  R$ 4.299,99  2022-05-21   \n6   B09D15SFMQ                     MeuDome  R$ 4.799,00  2022-05-21   \n7   B08R2XCM9K                  EOS IMPORT  R$ 2.999,00  2022-05-21   \n8   B08KXN6BNH                 King Pro St  R$ 2.599,00  2022-05-21   \n9   B08KXN6BNH                 King Pro St  R$ 2.739,00  2022-05-21   \n10  B08KXN6BNH              GRUPO MAVERICK  R$ 3.399,99  2022-05-21   \n11  B08ZSVP9T7                  EOS IMPORT  R$ 2.599,00  2022-05-21   \n12  B08ZSVP9T7                LIVE IMPORTS  R$ 2.599,00  2022-05-21   \n13  B08ZSVP9T7                LIVE IMPORTS  R$ 2.599,00  2022-05-21   \n14  B08ZSVP9T7              GRUPO MAVERICK  R$ 3.199,99  2022-05-21   \n15  B07RJMK2GV                    QanHorse  R$ 1.983,00  2022-05-21   \n16  B07RJMK2GV   Xalo Comercio de Produtos  R$ 2.420,00  2022-05-21   \n17  B07RJMK2GV                     BC INFO  R$ 2.712,67  2022-05-21   \n18  B07RJMK2GV     Bits & Bytes Tecnologia  R$ 2.851,27  2022-05-21   \n19  B07RJMK2GV              Elefante Store  R$ 3.605,23  2022-05-21   \n20  B07RJMK2GV           DigitalShoppStore  R$ 4.100,00  2022-05-21   \n\n                                                  URL  \n0   https://www.amazon.com.br/Gopro-Black-prova-D%...  \n1   https://www.amazon.com.br/GoPro-Frontal-HyperS...  \n2   https://www.amazon.com.br/C%C3%A2mera-GoPro-HE...  \n3   https://www.amazon.com.br/C%C3%A2mera-Cart%C3%...  \n4   https://www.amazon.com.br/C%C3%A2mera-GoPro-Fr...  \n5   https://www.amazon.com.br/C%C3%82MERA-GOPRO-BL...  \n6   https://www.amazon.com.br/C%C3%A2mera-Digital-...  \n7   https://www.amazon.com.br/Camera-DJI-Osmo-Acti...  \n8                                                 NaN  \n9                                                 NaN  \n10                                                NaN  \n11                                                NaN  \n12                                                NaN  \n13                                                NaN  \n14                                                NaN  \n15                                                NaN  \n16                                                NaN  \n17                                                NaN  \n18                                                NaN  \n19                                                NaN  \n20                                                NaN  ",
      "text/html": "<div>\n<style scoped>\n    .dataframe tbody tr th:only-of-type {\n        vertical-align: middle;\n    }\n\n    .dataframe tbody tr th {\n        vertical-align: top;\n    }\n\n    .dataframe thead th {\n        text-align: right;\n    }\n</style>\n<table border=\"1\" class=\"dataframe\">\n  <thead>\n    <tr style=\"text-align: right;\">\n      <th></th>\n      <th>ID</th>\n      <th>Seller</th>\n      <th>Price</th>\n      <th>DATE</th>\n      <th>URL</th>\n    </tr>\n  </thead>\n  <tbody>\n    <tr>\n      <th>0</th>\n      <td>B07WSRXMS8</td>\n      <td>LIVE IMPORTS</td>\n      <td>R$ 2.299,00</td>\n      <td>2022-05-21</td>\n      <td>https://www.amazon.com.br/Gopro-Black-prova-D%...</td>\n    </tr>\n    <tr>\n      <th>1</th>\n      <td>B07WSRXMS8</td>\n      <td>King Pro St</td>\n      <td>R$ 2.289,00</td>\n      <td>2022-05-21</td>\n      <td>https://www.amazon.com.br/GoPro-Frontal-HyperS...</td>\n    </tr>\n    <tr>\n      <th>2</th>\n      <td>B07WSRXMS8</td>\n      <td>GRUPO MAVERICK</td>\n      <td>R$ 2.599,00</td>\n      <td>2022-05-21</td>\n      <td>https://www.amazon.com.br/C%C3%A2mera-GoPro-HE...</td>\n    </tr>\n    <tr>\n      <th>3</th>\n      <td>B09D15SFMQ</td>\n      <td>LIVE IMPORTS</td>\n      <td>R$ 3.207,25</td>\n      <td>2022-05-21</td>\n      <td>https://www.amazon.com.br/C%C3%A2mera-Cart%C3%...</td>\n    </tr>\n    <tr>\n      <th>4</th>\n      <td>B09D15SFMQ</td>\n      <td>King Pro St</td>\n      <td>R$ 3.219,00</td>\n      <td>2022-05-21</td>\n      <td>https://www.amazon.com.br/C%C3%A2mera-GoPro-Fr...</td>\n    </tr>\n    <tr>\n      <th>5</th>\n      <td>B09D15SFMQ</td>\n      <td>GRUPO MAVERICK</td>\n      <td>R$ 4.299,99</td>\n      <td>2022-05-21</td>\n      <td>https://www.amazon.com.br/C%C3%82MERA-GOPRO-BL...</td>\n    </tr>\n    <tr>\n      <th>6</th>\n      <td>B09D15SFMQ</td>\n      <td>MeuDome</td>\n      <td>R$ 4.799,00</td>\n      <td>2022-05-21</td>\n      <td>https://www.amazon.com.br/C%C3%A2mera-Digital-...</td>\n    </tr>\n    <tr>\n      <th>7</th>\n      <td>B08R2XCM9K</td>\n      <td>EOS IMPORT</td>\n      <td>R$ 2.999,00</td>\n      <td>2022-05-21</td>\n      <td>https://www.amazon.com.br/Camera-DJI-Osmo-Acti...</td>\n    </tr>\n    <tr>\n      <th>8</th>\n      <td>B08KXN6BNH</td>\n      <td>King Pro St</td>\n      <td>R$ 2.599,00</td>\n      <td>2022-05-21</td>\n      <td>NaN</td>\n    </tr>\n    <tr>\n      <th>9</th>\n      <td>B08KXN6BNH</td>\n      <td>King Pro St</td>\n      <td>R$ 2.739,00</td>\n      <td>2022-05-21</td>\n      <td>NaN</td>\n    </tr>\n    <tr>\n      <th>10</th>\n      <td>B08KXN6BNH</td>\n      <td>GRUPO MAVERICK</td>\n      <td>R$ 3.399,99</td>\n      <td>2022-05-21</td>\n      <td>NaN</td>\n    </tr>\n    <tr>\n      <th>11</th>\n      <td>B08ZSVP9T7</td>\n      <td>EOS IMPORT</td>\n      <td>R$ 2.599,00</td>\n      <td>2022-05-21</td>\n      <td>NaN</td>\n    </tr>\n    <tr>\n      <th>12</th>\n      <td>B08ZSVP9T7</td>\n      <td>LIVE IMPORTS</td>\n      <td>R$ 2.599,00</td>\n      <td>2022-05-21</td>\n      <td>NaN</td>\n    </tr>\n    <tr>\n      <th>13</th>\n      <td>B08ZSVP9T7</td>\n      <td>LIVE IMPORTS</td>\n      <td>R$ 2.599,00</td>\n      <td>2022-05-21</td>\n      <td>NaN</td>\n    </tr>\n    <tr>\n      <th>14</th>\n      <td>B08ZSVP9T7</td>\n      <td>GRUPO MAVERICK</td>\n      <td>R$ 3.199,99</td>\n      <td>2022-05-21</td>\n      <td>NaN</td>\n    </tr>\n    <tr>\n      <th>15</th>\n      <td>B07RJMK2GV</td>\n      <td>QanHorse</td>\n      <td>R$ 1.983,00</td>\n      <td>2022-05-21</td>\n      <td>NaN</td>\n    </tr>\n    <tr>\n      <th>16</th>\n      <td>B07RJMK2GV</td>\n      <td>Xalo Comercio de Produtos</td>\n      <td>R$ 2.420,00</td>\n      <td>2022-05-21</td>\n      <td>NaN</td>\n    </tr>\n    <tr>\n      <th>17</th>\n      <td>B07RJMK2GV</td>\n      <td>BC INFO</td>\n      <td>R$ 2.712,67</td>\n      <td>2022-05-21</td>\n      <td>NaN</td>\n    </tr>\n    <tr>\n      <th>18</th>\n      <td>B07RJMK2GV</td>\n      <td>Bits &amp; Bytes Tecnologia</td>\n      <td>R$ 2.851,27</td>\n      <td>2022-05-21</td>\n      <td>NaN</td>\n    </tr>\n    <tr>\n      <th>19</th>\n      <td>B07RJMK2GV</td>\n      <td>Elefante Store</td>\n      <td>R$ 3.605,23</td>\n      <td>2022-05-21</td>\n      <td>NaN</td>\n    </tr>\n    <tr>\n      <th>20</th>\n      <td>B07RJMK2GV</td>\n      <td>DigitalShoppStore</td>\n      <td>R$ 4.100,00</td>\n      <td>2022-05-21</td>\n      <td>NaN</td>\n    </tr>\n  </tbody>\n</table>\n</div>"
     },
     "execution_count": 117,
     "metadata": {},
     "output_type": "execute_result"
    }
   ],
   "source": [
    "Dataframe_More"
   ],
   "metadata": {
    "collapsed": false,
    "pycharm": {
     "name": "#%%\n"
    }
   }
  },
  {
   "cell_type": "code",
   "execution_count": 63,
   "outputs": [
    {
     "data": {
      "text/plain": "         DATE                                                URL MARKETPLACE  \\\n0  2022-05-21  https://www.amazon.com.br/Gopro-Black-prova-D%...      AMAZON   \n1  2022-05-21  https://www.amazon.com.br/GoPro-Frontal-HyperS...      AMAZON   \n2  2022-05-21  https://www.amazon.com.br/C%C3%A2mera-GoPro-HE...      AMAZON   \n3  2022-05-21  https://www.amazon.com.br/C%C3%A2mera-Cart%C3%...      AMAZON   \n4  2022-05-21  https://www.amazon.com.br/C%C3%A2mera-GoPro-Fr...      AMAZON   \n5  2022-05-21  https://www.amazon.com.br/C%C3%82MERA-GOPRO-BL...      AMAZON   \n6  2022-05-21  https://www.amazon.com.br/C%C3%A2mera-Digital-...      AMAZON   \n7  2022-05-21  https://www.amazon.com.br/Camera-DJI-Osmo-Acti...      AMAZON   \n\n       SELLER    PRICE  PARCEL  INSTALLMENT  INSTALLMENT_PAYMENT          ID  \\\n0  EOS IMPORT  2299.00      10       229.90               2299.0  B07WSRXMS8   \n1  EOS IMPORT  3207.25      10       320.77               3207.7  B09D15SFMQ   \n2      Amazon  4688.20      10       468.82               4688.2  B093JKGDJZ   \n3  EOS IMPORT  3000.00      10       300.00               3000.0  B08R2XCM9K   \n4  EOS IMPORT  2540.73      10       254.10               2541.0  B08KXN6BNH   \n5  EOS IMPORT  2599.00      10       259.90               2599.0  B08ZSVP9T7   \n6  EOS IMPORT  3799.00      10       379.90               3799.0  B087ZP2GW4   \n7  HuaYe Tech  1982.90      10       198.29               1982.9  B07RJMK2GV   \n\n                                             PRODUCT  INTERNACIONAL  \n0          Gopro Hero 8 Black 4k à prova D'água C...  Internacional  \n1          Câmera GoPro HERO10 Black à Prova com ...  Internacional  \n2          Câmera GoPro HERO9 Black - Kit Trip Pr...  Internacional  \n3          Câmera GoPro HERO9 Black à Prova D'águ...  Internacional  \n4          Câmera GoPro HERO9 Black à Prova D'águ...  Internacional  \n5          CÂMERA GOPRO HERO 8 BLACK ESSENCIAL BU...  Internacional  \n6          Câmera Digital GoPro Max 360o - CHDHZ-...  Internacional  \n7          Camera DJI Osmo Action 4K Sensor CMOS ...  Internacional  ",
      "text/html": "<div>\n<style scoped>\n    .dataframe tbody tr th:only-of-type {\n        vertical-align: middle;\n    }\n\n    .dataframe tbody tr th {\n        vertical-align: top;\n    }\n\n    .dataframe thead th {\n        text-align: right;\n    }\n</style>\n<table border=\"1\" class=\"dataframe\">\n  <thead>\n    <tr style=\"text-align: right;\">\n      <th></th>\n      <th>DATE</th>\n      <th>URL</th>\n      <th>MARKETPLACE</th>\n      <th>SELLER</th>\n      <th>PRICE</th>\n      <th>PARCEL</th>\n      <th>INSTALLMENT</th>\n      <th>INSTALLMENT_PAYMENT</th>\n      <th>ID</th>\n      <th>PRODUCT</th>\n      <th>INTERNACIONAL</th>\n    </tr>\n  </thead>\n  <tbody>\n    <tr>\n      <th>0</th>\n      <td>2022-05-21</td>\n      <td>https://www.amazon.com.br/Gopro-Black-prova-D%...</td>\n      <td>AMAZON</td>\n      <td>EOS IMPORT</td>\n      <td>2299.00</td>\n      <td>10</td>\n      <td>229.90</td>\n      <td>2299.0</td>\n      <td>B07WSRXMS8</td>\n      <td>Gopro Hero 8 Black 4k à prova D'água C...</td>\n      <td>Internacional</td>\n    </tr>\n    <tr>\n      <th>1</th>\n      <td>2022-05-21</td>\n      <td>https://www.amazon.com.br/GoPro-Frontal-HyperS...</td>\n      <td>AMAZON</td>\n      <td>EOS IMPORT</td>\n      <td>3207.25</td>\n      <td>10</td>\n      <td>320.77</td>\n      <td>3207.7</td>\n      <td>B09D15SFMQ</td>\n      <td>Câmera GoPro HERO10 Black à Prova com ...</td>\n      <td>Internacional</td>\n    </tr>\n    <tr>\n      <th>2</th>\n      <td>2022-05-21</td>\n      <td>https://www.amazon.com.br/C%C3%A2mera-GoPro-HE...</td>\n      <td>AMAZON</td>\n      <td>Amazon</td>\n      <td>4688.20</td>\n      <td>10</td>\n      <td>468.82</td>\n      <td>4688.2</td>\n      <td>B093JKGDJZ</td>\n      <td>Câmera GoPro HERO9 Black - Kit Trip Pr...</td>\n      <td>Internacional</td>\n    </tr>\n    <tr>\n      <th>3</th>\n      <td>2022-05-21</td>\n      <td>https://www.amazon.com.br/C%C3%A2mera-Cart%C3%...</td>\n      <td>AMAZON</td>\n      <td>EOS IMPORT</td>\n      <td>3000.00</td>\n      <td>10</td>\n      <td>300.00</td>\n      <td>3000.0</td>\n      <td>B08R2XCM9K</td>\n      <td>Câmera GoPro HERO9 Black à Prova D'águ...</td>\n      <td>Internacional</td>\n    </tr>\n    <tr>\n      <th>4</th>\n      <td>2022-05-21</td>\n      <td>https://www.amazon.com.br/C%C3%A2mera-GoPro-Fr...</td>\n      <td>AMAZON</td>\n      <td>EOS IMPORT</td>\n      <td>2540.73</td>\n      <td>10</td>\n      <td>254.10</td>\n      <td>2541.0</td>\n      <td>B08KXN6BNH</td>\n      <td>Câmera GoPro HERO9 Black à Prova D'águ...</td>\n      <td>Internacional</td>\n    </tr>\n    <tr>\n      <th>5</th>\n      <td>2022-05-21</td>\n      <td>https://www.amazon.com.br/C%C3%82MERA-GOPRO-BL...</td>\n      <td>AMAZON</td>\n      <td>EOS IMPORT</td>\n      <td>2599.00</td>\n      <td>10</td>\n      <td>259.90</td>\n      <td>2599.0</td>\n      <td>B08ZSVP9T7</td>\n      <td>CÂMERA GOPRO HERO 8 BLACK ESSENCIAL BU...</td>\n      <td>Internacional</td>\n    </tr>\n    <tr>\n      <th>6</th>\n      <td>2022-05-21</td>\n      <td>https://www.amazon.com.br/C%C3%A2mera-Digital-...</td>\n      <td>AMAZON</td>\n      <td>EOS IMPORT</td>\n      <td>3799.00</td>\n      <td>10</td>\n      <td>379.90</td>\n      <td>3799.0</td>\n      <td>B087ZP2GW4</td>\n      <td>Câmera Digital GoPro Max 360o - CHDHZ-...</td>\n      <td>Internacional</td>\n    </tr>\n    <tr>\n      <th>7</th>\n      <td>2022-05-21</td>\n      <td>https://www.amazon.com.br/Camera-DJI-Osmo-Acti...</td>\n      <td>AMAZON</td>\n      <td>HuaYe Tech</td>\n      <td>1982.90</td>\n      <td>10</td>\n      <td>198.29</td>\n      <td>1982.9</td>\n      <td>B07RJMK2GV</td>\n      <td>Camera DJI Osmo Action 4K Sensor CMOS ...</td>\n      <td>Internacional</td>\n    </tr>\n  </tbody>\n</table>\n</div>"
     },
     "execution_count": 63,
     "metadata": {},
     "output_type": "execute_result"
    }
   ],
   "source": [
    "#Df_final = Df_final.drop(columns=['MORE'])\n",
    "Df_final"
   ],
   "metadata": {
    "collapsed": false,
    "pycharm": {
     "name": "#%%\n"
    }
   }
  },
  {
   "cell_type": "code",
   "execution_count": null,
   "outputs": [],
   "source": [],
   "metadata": {
    "collapsed": false,
    "pycharm": {
     "name": "#%%\n"
    }
   }
  },
  {
   "cell_type": "code",
   "execution_count": 39,
   "metadata": {
    "pycharm": {
     "name": "#%%\n"
    }
   },
   "outputs": [],
   "source": [
    "Df_teste.to_excel(r\"C:\\Users\\pedro\\Documents\\Turte Brand Protection\\Turtle_Thinker_Alpha_0.1\\Motorola_Amazon.xlsx\", index=False)"
   ]
  },
  {
   "cell_type": "code",
   "execution_count": 33,
   "metadata": {
    "pycharm": {
     "name": "#%%\n"
    }
   },
   "outputs": [
    {
     "name": "stdout",
     "output_type": "stream",
     "text": [
      "187\n"
     ]
    }
   ],
   "source": [
    "Amazon_seller_more =  [s for s in Amazon_seller_more if len(s) > 1]\n",
    "print(len(Amazon_seller_more))"
   ]
  },
  {
   "cell_type": "code",
   "execution_count": 39,
   "metadata": {
    "pycharm": {
     "name": "#%%\n"
    }
   },
   "outputs": [
    {
     "name": "stdout",
     "output_type": "stream",
     "text": [
      "0\n"
     ]
    }
   ],
   "source": [
    "Amazon_seller_more =  [s for s in Amazon_seller_more if not 'Política de devolução' in s]\n",
    "Amazon_seller_more =  [s for s in Amazon_seller_more if not 'Apagar tudo' in s]\n",
    "\n",
    "print(len(Amazon_seller_more))"
   ]
  },
  {
   "cell_type": "code",
   "execution_count": null,
   "metadata": {
    "pycharm": {
     "name": "#%%\n"
    }
   },
   "outputs": [],
   "source": []
  },
  {
   "cell_type": "code",
   "execution_count": 37,
   "metadata": {
    "pycharm": {
     "name": "#%%\n"
    }
   },
   "outputs": [
    {
     "data": {
      "text/plain": [
       "[' Tudo à Beça',\n",
       " 'Política de devolução',\n",
       " ' Gigantec',\n",
       " 'Política de devolução',\n",
       " ' INFOSHOP.',\n",
       " 'Política de devolução',\n",
       " ' Thaun Shop',\n",
       " 'Política de devolução',\n",
       " ' Tendinfo',\n",
       " 'Política de devolução',\n",
       " ' Triplenet Pricing INC',\n",
       " 'Política de devolução',\n",
       " '',\n",
       " 'Apagar tudo',\n",
       " ' O MUNDO PARA VOCÊ',\n",
       " 'Política de devolução',\n",
       " ' ZAPATA STORE SP',\n",
       " 'Política de devolução',\n",
       " ' OFICINA DOS BITS',\n",
       " 'Política de devolução',\n",
       " ' Syma Solutions',\n",
       " 'Política de devolução',\n",
       " ' Conect Magazine',\n",
       " 'Política de devolução',\n",
       " ' IBYTE',\n",
       " 'Política de devolução',\n",
       " ' Triplenet Pricing INC',\n",
       " 'Política de devolução',\n",
       " ' Triplenet Pricing INC',\n",
       " 'Política de devolução',\n",
       " ' MAGIC WORLD ELETRONICOS',\n",
       " 'Política de devolução',\n",
       " ' REX INFORMATICA',\n",
       " 'Política de devolução',\n",
       " ' Tudo à Beça',\n",
       " 'Política de devolução',\n",
       " ' W-TECH IMPORTS',\n",
       " 'Política de devolução',\n",
       " ' Kadri Tecnologia',\n",
       " 'Política de devolução',\n",
       " ' E-SPOT',\n",
       " 'Política de devolução',\n",
       " ' Tendinfo',\n",
       " 'Política de devolução',\n",
       " '',\n",
       " 'Apagar tudo',\n",
       " ' Mil Coisas Drop',\n",
       " 'Política de devolução',\n",
       " ' Mil Coisas droship',\n",
       " 'Política de devolução',\n",
       " 'Política de devolução ',\n",
       " ' BalbinoShop',\n",
       " 'Política de devolução',\n",
       " ' Loja iPlace',\n",
       " 'Política de devolução',\n",
       " ' E-SPOT',\n",
       " 'Política de devolução',\n",
       " ' W-TECH IMPORTS',\n",
       " 'Política de devolução',\n",
       " ' Tendinfo',\n",
       " 'Política de devolução',\n",
       " '',\n",
       " 'Apagar tudo',\n",
       " ' Triplenet Pricing INC',\n",
       " 'Política de devolução',\n",
       " ' DONA JUREMA BOUTIK',\n",
       " 'Política de devolução',\n",
       " ' E-SPOT',\n",
       " 'Política de devolução',\n",
       " ' Triplenet Pricing INC',\n",
       " 'Política de devolução',\n",
       " '',\n",
       " 'Apagar tudo',\n",
       " 'Política de devolução ',\n",
       " ' Tendinfo',\n",
       " 'Política de devolução',\n",
       " ' Megaprice Comercio',\n",
       " 'Política de devolução',\n",
       " ' O MUNDO PARA VOCÊ',\n",
       " 'Política de devolução',\n",
       " ' Mil Coisas droship',\n",
       " 'Política de devolução',\n",
       " ' Angel Eletronicos',\n",
       " 'Política de devolução',\n",
       " ' MAGIC WORLD ELETRONICOS',\n",
       " 'Política de devolução',\n",
       " ' REX INFORMATICA',\n",
       " 'Política de devolução',\n",
       " ' Olist',\n",
       " 'Política de devolução',\n",
       " ' JHP Store',\n",
       " 'Política de devolução',\n",
       " ' Tudo à Beça',\n",
       " 'Política de devolução',\n",
       " ' TopTeck Produtos para Automação Residencial',\n",
       " 'Política de devolução',\n",
       " ' Triplenet Pricing INC',\n",
       " 'Política de devolução',\n",
       " ' Gigantec',\n",
       " 'Política de devolução',\n",
       " ' W-TECH IMPORTS',\n",
       " 'Política de devolução',\n",
       " ' E-SPOT',\n",
       " 'Política de devolução',\n",
       " ' Tendinfo',\n",
       " 'Política de devolução',\n",
       " '',\n",
       " 'Apagar tudo',\n",
       " ' INPOWER',\n",
       " 'Política de devolução',\n",
       " 'Política de devolução ',\n",
       " ' Megaprice Comercio',\n",
       " 'Política de devolução',\n",
       " ' MAGIC WORLD ELETRONICOS',\n",
       " 'Política de devolução',\n",
       " ' REX INFORMATICA',\n",
       " 'Política de devolução',\n",
       " ' PHOENIX ELETRONICOS',\n",
       " 'Política de devolução',\n",
       " ' Tudo à Beça',\n",
       " 'Política de devolução',\n",
       " ' Gigantec',\n",
       " 'Política de devolução',\n",
       " ' Angel Eletronicos',\n",
       " 'Política de devolução',\n",
       " ' SHOPAR INFO',\n",
       " 'Política de devolução',\n",
       " '',\n",
       " 'Apagar tudo',\n",
       " ' Vintage Vibes Br',\n",
       " 'Política de devolução',\n",
       " ' XPPEN-Feel Delicate Touch',\n",
       " 'Política de devolução',\n",
       " ' Dark Gamer',\n",
       " 'Política de devolução',\n",
       " ' Triplenet Pricing INC',\n",
       " 'Política de devolução',\n",
       " ' E-SHOP CITY',\n",
       " 'Política de devolução',\n",
       " ' O MUNDO PARA VOCÊ',\n",
       " 'Política de devolução',\n",
       " ' Tudo à Beça',\n",
       " 'Política de devolução',\n",
       " ' Gigantec',\n",
       " 'Política de devolução',\n",
       " ' HD Store Oficial',\n",
       " 'Política de devolução',\n",
       " ' Triplenet Pricing INC',\n",
       " 'Política de devolução',\n",
       " ' E-SPOT',\n",
       " 'Política de devolução',\n",
       " ' Loja iPlace',\n",
       " 'Política de devolução',\n",
       " ' W-TECH IMPORTS',\n",
       " 'Política de devolução',\n",
       " ' Tendinfo',\n",
       " 'Política de devolução',\n",
       " '',\n",
       " 'Apagar tudo',\n",
       " ' Promotion.Shop 💎',\n",
       " 'Política de devolução',\n",
       " ' E-SHOP CITY',\n",
       " 'Política de devolução',\n",
       " ' DONA JUREMA BOUTIK',\n",
       " 'Política de devolução',\n",
       " ' Thaun Shop',\n",
       " 'Política de devolução',\n",
       " ' INFOSHOP.',\n",
       " 'Política de devolução',\n",
       " ' Gigantec',\n",
       " 'Política de devolução',\n",
       " ' Tudo à Beça',\n",
       " 'Política de devolução',\n",
       " ' OFICINA DOS BITS',\n",
       " 'Política de devolução',\n",
       " ' W-TECH IMPORTS',\n",
       " 'Política de devolução',\n",
       " ' TechShed',\n",
       " 'Política de devolução',\n",
       " ' Triplenet Pricing INC',\n",
       " 'Política de devolução',\n",
       " ' E-SPOT',\n",
       " 'Política de devolução',\n",
       " ' Bits & Bytes Tecnologia',\n",
       " 'Política de devolução',\n",
       " ' HD Store Oficial',\n",
       " 'Política de devolução',\n",
       " ' Tudo à Beça',\n",
       " 'Política de devolução',\n",
       " ' EVOLUÇÃO IMPORT',\n",
       " 'Política de devolução',\n",
       " ' Qualitech Informática',\n",
       " 'Política de devolução',\n",
       " ' TechShed',\n",
       " 'Política de devolução',\n",
       " ' Gigantec',\n",
       " 'Política de devolução',\n",
       " ' OFICINA DOS BITS',\n",
       " 'Política de devolução',\n",
       " ' Triplenet Pricing INC',\n",
       " 'Política de devolução',\n",
       " ' W-TECH IMPORTS',\n",
       " 'Política de devolução',\n",
       " ' E-SPOT',\n",
       " 'Política de devolução',\n",
       " ' Triplenet Pricing INC',\n",
       " 'Política de devolução',\n",
       " ' W-TECH IMPORTS',\n",
       " 'Política de devolução',\n",
       " ' Gigantec',\n",
       " 'Política de devolução',\n",
       " ' Tendinfo',\n",
       " 'Política de devolução',\n",
       " '',\n",
       " 'Apagar tudo',\n",
       " ' E-SHOP CITY',\n",
       " 'Política de devolução',\n",
       " '',\n",
       " 'Apagar tudo',\n",
       " ' Gdgets4u',\n",
       " 'Política de devolução',\n",
       " ' Tudo Tem Shopp',\n",
       " 'Política de devolução',\n",
       " ' MRASHOP',\n",
       " 'Política de devolução',\n",
       " ' Joc Comercial',\n",
       " 'Política de devolução',\n",
       " ' PLANETASHOP2',\n",
       " 'Política de devolução',\n",
       " ' Mondial Shop',\n",
       " 'Política de devolução',\n",
       " ' Imports Br',\n",
       " 'Política de devolução',\n",
       " ' Pagani Mall',\n",
       " 'Política de devolução',\n",
       " ' VitrineGae',\n",
       " 'Política de devolução',\n",
       " ' Gadget Shop Express BR',\n",
       " 'Política de devolução',\n",
       " '',\n",
       " 'Apagar tudo',\n",
       " ' Gdgets4u',\n",
       " 'Política de devolução',\n",
       " ' Pagani Mall',\n",
       " 'Política de devolução',\n",
       " ' Gadget Shop Express BR',\n",
       " 'Política de devolução',\n",
       " ' VitrineGae',\n",
       " 'Política de devolução',\n",
       " ' TOTAL INFO',\n",
       " 'Política de devolução',\n",
       " ' ALB SHOP',\n",
       " 'Política de devolução',\n",
       " ' Alfa Tecnológico',\n",
       " 'Política de devolução',\n",
       " ' XPPEN-Feel Delicate Touch',\n",
       " 'Política de devolução',\n",
       " ' Tendinfo',\n",
       " 'Política de devolução',\n",
       " ' MEIREMAGAZINE',\n",
       " 'Política de devolução',\n",
       " '',\n",
       " 'Apagar tudo',\n",
       " ' MilleniumShop',\n",
       " 'Política de devolução',\n",
       " ' Ignis Imports',\n",
       " 'Política de devolução',\n",
       " ' Promotion.Shop 💎',\n",
       " 'Política de devolução',\n",
       " ' MRASHOP',\n",
       " 'Política de devolução',\n",
       " ' shoploop',\n",
       " 'Política de devolução',\n",
       " ' VitrineGae',\n",
       " 'Política de devolução',\n",
       " ' PLANETASHOP2',\n",
       " 'Política de devolução',\n",
       " ' Pagani Mall',\n",
       " 'Política de devolução',\n",
       " ' Eletro Mania ✔️',\n",
       " 'Política de devolução',\n",
       " ' NewGifts',\n",
       " 'Política de devolução',\n",
       " '',\n",
       " 'Apagar tudo',\n",
       " ' MRASHOP',\n",
       " 'Política de devolução',\n",
       " ' Pagani Mall',\n",
       " 'Política de devolução',\n",
       " ' MEIREMAGAZINE',\n",
       " 'Política de devolução',\n",
       " ' Ami Ventures Inc.',\n",
       " 'Política de devolução',\n",
       " '',\n",
       " 'Apagar tudo',\n",
       " 'Política de devolução ',\n",
       " ' Tudo à Beça',\n",
       " 'Política de devolução',\n",
       " ' INFOGORDO',\n",
       " 'Política de devolução',\n",
       " ' HD Store Oficial',\n",
       " 'Política de devolução',\n",
       " ' Gigantec',\n",
       " 'Política de devolução',\n",
       " ' Triplenet Pricing INC',\n",
       " 'Política de devolução',\n",
       " ' Loja iPlace',\n",
       " 'Política de devolução',\n",
       " ' E-SPOT',\n",
       " 'Política de devolução',\n",
       " ' DOTCOMP',\n",
       " 'Política de devolução',\n",
       " \" Castro's Outlet\",\n",
       " 'Política de devolução',\n",
       " ' Obabox Oficial',\n",
       " 'Política de devolução',\n",
       " ' Mula Games',\n",
       " 'Política de devolução',\n",
       " ' Mustache Books',\n",
       " 'Política de devolução',\n",
       " ' LT2 SHOP',\n",
       " 'Política de devolução',\n",
       " ' OFICINA DOS BITS',\n",
       " 'Política de devolução',\n",
       " ' Elementar Tech',\n",
       " 'Política de devolução',\n",
       " ' Ami Ventures Inc.',\n",
       " 'Política de devolução',\n",
       " ' Tendinfo',\n",
       " 'Política de devolução',\n",
       " ' Tendinfo',\n",
       " 'Política de devolução',\n",
       " ' MMPLACE OFICIAL',\n",
       " 'Política de devolução',\n",
       " ' Mula Games',\n",
       " 'Política de devolução',\n",
       " ' Gigantec',\n",
       " 'Política de devolução',\n",
       " ' Mustache Books',\n",
       " 'Política de devolução',\n",
       " ' LT2 SHOP',\n",
       " 'Política de devolução',\n",
       " ' OFICINA DOS BITS',\n",
       " 'Política de devolução',\n",
       " ' Elementar Tech',\n",
       " 'Política de devolução',\n",
       " ' E-SHOP CITY',\n",
       " 'Política de devolução',\n",
       " ' EGAMER',\n",
       " 'Política de devolução',\n",
       " ' TURUM',\n",
       " 'Política de devolução',\n",
       " ' TURUM MG',\n",
       " 'Política de devolução',\n",
       " ' OFICINA DOS BITS',\n",
       " 'Política de devolução',\n",
       " ' PI-DIL CHEGOU DIGITAL ⭐⭐⭐⭐⭐',\n",
       " 'Política de devolução',\n",
       " '',\n",
       " 'Apagar tudo',\n",
       " ' octo.shop',\n",
       " 'Política de devolução',\n",
       " ' INFOGORDO',\n",
       " 'Política de devolução',\n",
       " 'Política de devolução ',\n",
       " ' OFICINA DOS BITS',\n",
       " 'Política de devolução',\n",
       " '',\n",
       " 'Apagar tudo',\n",
       " ' Triplenet Pricing INC',\n",
       " 'Política de devolução',\n",
       " ' HD Store Oficial',\n",
       " 'Política de devolução']"
      ]
     },
     "execution_count": 37,
     "metadata": {},
     "output_type": "execute_result"
    }
   ],
   "source": [
    "Amazon_seller_more"
   ]
  },
  {
   "cell_type": "code",
   "execution_count": 33,
   "metadata": {
    "pycharm": {
     "name": "#%%\n"
    }
   },
   "outputs": [],
   "source": [
    "Amazon_ID_More = []"
   ]
  },
  {
   "cell_type": "code",
   "execution_count": null,
   "metadata": {
    "pycharm": {
     "name": "#%%\n"
    }
   },
   "outputs": [],
   "source": [
    "Amazon_seller_more = []\n",
    "Amazon_price_more = []\n"
   ]
  },
  {
   "cell_type": "code",
   "execution_count": null,
   "metadata": {
    "pycharm": {
     "name": "#%%\n"
    }
   },
   "outputs": [],
   "source": [
    "Amazon_seller_more"
   ]
  },
  {
   "cell_type": "code",
   "execution_count": null,
   "metadata": {
    "pycharm": {
     "name": "#%%\n"
    }
   },
   "outputs": [],
   "source": [
    "Amazon_price_more"
   ]
  },
  {
   "cell_type": "code",
   "execution_count": null,
   "metadata": {
    "pycharm": {
     "name": "#%%\n"
    }
   },
   "outputs": [],
   "source": [
    "\n",
    "new_url = \"https://www.amazon.com.br/gp/product/ajax/?asin=\" + \"B09D15SFMQ\" + \"&pageno=1&experienceId=aodAjaxMain\"\n",
    "\n",
    "driver.get(new_url)\n",
    "\n",
    "time.sleep(5)\n",
    "\n",
    "body_el = driver.find_element(By.CSS_SELECTOR, 'body')\n",
    "html_str = body_el.get_attribute('innerHTML')\n",
    "\n",
    "Soup = BeautifulSoup(html_str, 'html.parser')\n",
    "\n",
    "for seller in Soup.find_all(class_='a-size-small a-link-normal')[4:]:\n",
    "    print(seller.text)\n",
    "\n",
    "for price in Soup.find_all(class_='a-offscreen')[2:]:\n",
    "    print(price.text)\n"
   ]
  },
  {
   "cell_type": "code",
   "execution_count": null,
   "metadata": {
    "pycharm": {
     "name": "#%%\n"
    }
   },
   "outputs": [],
   "source": []
  },
  {
   "cell_type": "code",
   "execution_count": null,
   "metadata": {
    "pycharm": {
     "name": "#%%\n"
    }
   },
   "outputs": [],
   "source": []
  },
  {
   "cell_type": "code",
   "execution_count": null,
   "metadata": {
    "pycharm": {
     "name": "#%%\n"
    }
   },
   "outputs": [],
   "source": []
  },
  {
   "cell_type": "code",
   "execution_count": null,
   "metadata": {
    "pycharm": {
     "name": "#%%\n"
    }
   },
   "outputs": [],
   "source": [
    "for url in Df_more_offers['ID']:\n",
    "    time.sleep(3)\n",
    "\n",
    "    search = \"https://www.amazon.com.br/gp/product/ajax/?asin=\" + url + \"&pageno=1&experienceId=aodAjaxMain\"\n",
    "\n",
    "    driver.get(search)\n",
    "    body_el = driver.find_element(By.CSS_SELECTOR, 'body')\n",
    "    html_str = body_el.get_attribute('innerHTML')\n",
    "\n",
    "    print(search)\n",
    "\n",
    "    Soup = BeautifulSoup(html_str, 'html.parser')\n",
    "\n",
    "    for seller in Soup.find_all(class_='a-size-small a-link-normal'):\n",
    "        print(seller.text)"
   ]
  },
  {
   "cell_type": "code",
   "execution_count": null,
   "metadata": {
    "pycharm": {
     "name": "#%%\n"
    }
   },
   "outputs": [],
   "source": []
  },
  {
   "cell_type": "code",
   "execution_count": null,
   "metadata": {
    "pycharm": {
     "name": "#%%\n"
    }
   },
   "outputs": [],
   "source": []
  },
  {
   "cell_type": "code",
   "execution_count": null,
   "metadata": {
    "pycharm": {
     "name": "#%%\n"
    }
   },
   "outputs": [],
   "source": []
  },
  {
   "cell_type": "code",
   "execution_count": null,
   "metadata": {
    "pycharm": {
     "name": "#%%\n"
    }
   },
   "outputs": [],
   "source": []
  },
  {
   "cell_type": "code",
   "execution_count": null,
   "metadata": {
    "pycharm": {
     "name": "#%%\n"
    }
   },
   "outputs": [],
   "source": []
  },
  {
   "cell_type": "code",
   "execution_count": null,
   "metadata": {
    "pycharm": {
     "name": "#%%\n"
    }
   },
   "outputs": [],
   "source": [
    "#Teste gráfico \n",
    "import matplotlib.pyplot as plt"
   ]
  },
  {
   "cell_type": "code",
   "execution_count": null,
   "metadata": {
    "pycharm": {
     "name": "#%%\n"
    }
   },
   "outputs": [],
   "source": [
    "plt.figure(figsize=(10,10))\n",
    "plt.boxplot(x=Df_final['PRICE'], vert=False)\n",
    "plt.show()"
   ]
  },
  {
   "cell_type": "code",
   "execution_count": null,
   "metadata": {
    "pycharm": {
     "name": "#%%\n"
    }
   },
   "outputs": [],
   "source": [
    "df_products = Df_final[Df_final['PRICE'] > 800]"
   ]
  },
  {
   "cell_type": "code",
   "execution_count": null,
   "metadata": {
    "pycharm": {
     "name": "#%%\n"
    }
   },
   "outputs": [],
   "source": [
    "df_products"
   ]
  },
  {
   "cell_type": "code",
   "execution_count": null,
   "metadata": {
    "pycharm": {
     "name": "#%%\n"
    }
   },
   "outputs": [],
   "source": []
  }
 ],
 "metadata": {
  "interpreter": {
   "hash": "c3503f95e0e8f4afdf6702396a7a2a29cae9f67572acfe092405dcaa2579b817"
  },
  "kernelspec": {
   "display_name": "Python 3.10.4 64-bit",
   "language": "python",
   "name": "python3"
  },
  "language_info": {
   "codemirror_mode": {
    "name": "ipython",
    "version": 3
   },
   "file_extension": ".py",
   "mimetype": "text/x-python",
   "name": "python",
   "nbconvert_exporter": "python",
   "pygments_lexer": "ipython3",
   "version": "3.10.4"
  },
  "orig_nbformat": 4
 },
 "nbformat": 4,
 "nbformat_minor": 2
}