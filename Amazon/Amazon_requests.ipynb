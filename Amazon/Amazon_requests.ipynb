{
 "cells": [
  {
   "cell_type": "code",
   "execution_count": 89,
   "outputs": [],
   "source": [
    "#Importando as bibliotecas\n",
    "import pandas as pd\n",
    "import time\n",
    "from bs4 import BeautifulSoup\n",
    "from tqdm import tqdm\n",
    "import sqlite3\n",
    "import datetime\n",
    "import os\n",
    "import random\n",
    "import requests"
   ],
   "metadata": {
    "collapsed": false,
    "pycharm": {
     "name": "#%%\n"
    }
   }
  },
  {
   "cell_type": "code",
   "execution_count": 90,
   "outputs": [],
   "source": [
    "Urls_amazon = []\n",
    "Urls_amazon_more = []\n",
    "Products_Links = []\n",
    "Amazon_price = []\n",
    "Amazon_seller = []\n",
    "Amazon_title = []\n",
    "Amazon_installment_price_full = []\n",
    "internacional_list = []\n",
    "more_offers_list = []\n",
    "\n",
    "\n",
    "#Listas Button Sellers\n",
    "Amazon_Button_Sellers = []\n",
    "Amazon_Button_Price = []\n",
    "Amazon_Button_ASIN = []\n",
    "\n",
    "#Listas More Sellers\n",
    "Amazon_seller_more = []\n",
    "Amazon_price_more = []\n",
    "Amazon_title_more = []\n",
    "Amazon_ID_More = []"
   ],
   "metadata": {
    "collapsed": false,
    "pycharm": {
     "name": "#%%\n"
    }
   }
  },
  {
   "cell_type": "code",
   "execution_count": 91,
   "outputs": [],
   "source": [
    "def Random_user_agents(marketplace):\n",
    "\n",
    "    #Criando a lista de user-agents\n",
    "    User_agents_list = [\"Mozilla/5.0 (X11; Linux x86_64) AppleWebKit/537.36 (KHTML, like Gecko) Ubuntu Chromium/37.0.2062.94 Chrome/37.0.2062.94 Safari/537.36\",\n",
    "                        \"Mozilla/5.0 (Windows NT 6.1; WOW64) AppleWebKit/537.36 (KHTML, like Gecko) Chrome/45.0.2454.85 Safari/537.36\",\n",
    "                        \"Mozilla/5.0 (Windows NT 6.1; WOW64; Trident/7.0; rv:11.0) like Gecko\",\n",
    "                        \"Mozilla/5.0 (Windows NT 6.1; WOW64; rv:40.0) Gecko/20100101 Firefox/40.0\",\n",
    "                        \"Mozilla/5.0 (Macintosh; Intel Mac OS X 10_10_5) AppleWebKit/600.8.9 (KHTML, like Gecko) Version/8.0.8 Safari/600.8.9\",\n",
    "                        \"Mozilla/5.0 (iPad; CPU OS 8_4_1 like Mac OS X) AppleWebKit/600.1.4 (KHTML, like Gecko) Version/8.0 Mobile/12H321 Safari/600.1.4\",\n",
    "                        \"Mozilla/5.0 (Windows NT 6.3; WOW64) AppleWebKit/537.36 (KHTML, like Gecko) Chrome/45.0.2454.85 Safari/537.36\",\n",
    "                        \"Mozilla/5.0 (Windows NT 10.0; WOW64) AppleWebKit/537.36 (KHTML, like Gecko) Chrome/45.0.2454.85 Safari/537.36\",\n",
    "                        \"Mozilla/5.0 (X11; Linux x86_64) AppleWebKit/537.36 (KHTML, like Gecko) Ubuntu Chromium/37.0.2062.94 Chrome/37.0.2062.94 Safari/537.36\",\n",
    "                        \"Mozilla/5.0 (Windows NT 6.1; WOW64) AppleWebKit/537.36 (KHTML, like Gecko) Chrome/45.0.2454.85 Safari/537.36\",\n",
    "                        \"Mozilla/5.0 (Windows NT 6.1; WOW64; Trident/7.0; rv:11.0) like Gecko\",\n",
    "                        \"Mozilla/5.0 (Windows NT 6.1; WOW64; rv:40.0) Gecko/20100101 Firefox/40.0\",\n",
    "                        \"Mozilla/5.0 (Macintosh; Intel Mac OS X 10_10_5) AppleWebKit/600.8.9 (KHTML, like Gecko) Version/8.0.8 Safari/600.8.9\",\n",
    "                        \"Mozilla/5.0 (iPad; CPU OS 8_4_1 like Mac OS X) AppleWebKit/600.1.4 (KHTML, like Gecko) Version/8.0 Mobile/12H321 Safari/600.1.4\",\n",
    "                        \"Mozilla/5.0 (Windows NT 6.3; WOW64) AppleWebKit/537.36 (KHTML, like Gecko) Chrome/45.0.2454.85 Safari/537.36\",\n",
    "                        \"Mozilla/5.0 (Windows NT 10.0; WOW64) AppleWebKit/537.36 (KHTML, like Gecko) Chrome/45.0.2454.85 Safari/537.36\",\n",
    "                        \"Mozilla/5.0 (Windows NT 6.1; WOW64) AppleWebKit/537.36 (KHTML, like Gecko) Chrome/44.0.2403.157 Safari/537.36\",\n",
    "                        \"Mozilla/5.0 (iPhone; CPU iPhone OS 8_4_1 like Mac OS X) AppleWebKit/600.1.4 (KHTML, like Gecko) Version/8.0 Mobile/12H321 Safari/600.1.4\",\n",
    "                        \"Mozilla/5.0 (Windows NT 10.0; WOW64; Trident/7.0; rv:11.0) like Gecko\",\n",
    "                        \"Mozilla/5.0 (iPad; CPU OS 7_1_2 like Mac OS X) AppleWebKit/537.51.2 (KHTML, like Gecko) Version/7.0 Mobile/11D257 Safari/9537.53\",\n",
    "                        \"Mozilla/5.0 (compatible; MSIE 9.0; Windows NT 6.1; Trident/5.0)\",\n",
    "                        \"Mozilla/5.0 (Macintosh; Intel Mac OS X 10_9_5) AppleWebKit/537.36 (KHTML, like Gecko) Chrome/45.0.2454.85 Safari/537.36\",\n",
    "                        \"Mozilla/5.0 (Macintosh; Intel Mac OS X 10_10_4) AppleWebKit/537.36 (KHTML, like Gecko) Chrome/45.0.2454.85 Safari/537.36\",\n",
    "                        \"Mozilla/5.0 (Macintosh; Intel Mac OS X 10.9; rv:40.0) Gecko/20100101 Firefox/40.0\",\n",
    "                        \"Mozilla/5.0 (compatible; MSIE 10.0; Windows NT 6.1; Trident/6.0)\",\n",
    "                        \"Mozilla/5.0 (Windows NT 6.0) AppleWebKit/537.36 (KHTML, like Gecko) Chrome/45.0.2454.85 Safari/537.36\",\n",
    "                        \"Mozilla/5.0 (Windows NT 6.3; WOW64) AppleWebKit/537.36 (KHTML, like Gecko) Chrome/44.0.2403.157 Safari/537.36\",\n",
    "                        \"Mozilla/5.0 (X11; CrOS x86_64 7077.134.0) AppleWebKit/537.36 (KHTML, like Gecko) Chrome/44.0.2403.156 Safari/537.36\",\n",
    "                        \"Mozilla/5.0 (Macintosh; Intel Mac OS X 10_9_5) AppleWebKit/600.7.12 (KHTML, like Gecko) Version/7.1.7 Safari/537.85.16\",\n",
    "                        \"Mozilla/5.0 (Windows NT 6.0; rv:40.0) Gecko/20100101 Firefox/40.0\",\n",
    "                        \"Mozilla/5.0 (Macintosh; Intel Mac OS X 10.6; rv:40.0) Gecko/20100101 Firefox/40.0\",\n",
    "                        \"Mozilla/5.0 (iPad; CPU OS 8_1_3 like Mac OS X) AppleWebKit/600.1.4 (KHTML, like Gecko) Version/8.0 Mobile/12B466 Safari/600.1.4\",\n",
    "                        \"Mozilla/5.0 (Macintosh; Intel Mac OS X 10_10_2) AppleWebKit/600.3.18 (KHTML, like Gecko) Version/8.0.3 Safari/600.3.18\",\n",
    "                        \"Mozilla/5.0 (Macintosh; Intel Mac OS X 10_10_3) AppleWebKit/537.36 (KHTML, like Gecko) Chrome/45.0.2454.85 Safari/537.36\",\n",
    "                        \"Mozilla/5.0 (Windows NT 6.2; WOW64) AppleWebKit/537.36 (KHTML, like Gecko) Chrome/45.0.2454.85 Safari/537.36\",\n",
    "                        \"Mozilla/5.0 (Windows NT 6.1; Win64; x64; Trident/7.0; rv:11.0) like Gecko\",\n",
    "                        \"Mozilla/5.0 (Macintosh; Intel Mac OS X 10_10_5) AppleWebKit/537.36 (KHTML, like Gecko) Chrome/44.0.2403.157 Safari/537.36\",\n",
    "                        \"Mozilla/5.0 (iPad; CPU OS 8_1_2 like Mac OS X) AppleWebKit/600.1.4 (KHTML, like Gecko) Version/8.0 Mobile/12B440 Safari/600.1.4\",\n",
    "                        \"Mozilla/5.0 (Linux; U; Android 4.0.3; en-us; KFTT Build/IML74K) AppleWebKit/537.36 (KHTML, like Gecko) Silk/3.68 like Chrome/39.0.2171.93 Safari/537.36\",\n",
    "                        \"Mozilla/5.0 (iPad; CPU OS 8_2 like Mac OS X) AppleWebKit/600.1.4 (KHTML, like Gecko) Version/8.0 Mobile/12D508 Safari/600.1.4\",\n",
    "                        \"Mozilla/5.0 (Windows NT 6.1; WOW64; rv:39.0) Gecko/20100101 Firefox/39.0\",\n",
    "                        \"Mozilla/5.0 (iPad; CPU OS 7_1_1 like Mac OS X) AppleWebKit/537.51.2 (KHTML, like Gecko) Version/7.0 Mobile/11D201 Safari/9537.53\",\n",
    "                        \"Mozilla/5.0 (Linux; U; Android 4.4.3; en-us; KFTHWI Build/KTU84M) AppleWebKit/537.36 (KHTML, like Gecko) Silk/3.68 like Chrome/39.0.2171.93 Safari/537.36\",\n",
    "                        \"Mozilla/5.0 (Macintosh; Intel Mac OS X 10_9_5) AppleWebKit/600.6.3 (KHTML, like Gecko) Version/7.1.6 Safari/537.85.15\",\n",
    "                        \"Mozilla/5.0 (Macintosh; Intel Mac OS X 10_10_2) AppleWebKit/600.4.10 (KHTML, like Gecko) Version/8.0.4 Safari/600.4.10\",\n",
    "                        \"Mozilla/5.0 (Macintosh; Intel Mac OS X 10.7; rv:40.0) Gecko/20100101 Firefox/40.0\",\n",
    "                        \"Mozilla/5.0 (Macintosh; Intel Mac OS X 10_9_5) AppleWebKit/537.78.2 (KHTML, like Gecko) Version/7.0.6 Safari/537.78.2\",\n",
    "                        \"Mozilla/5.0 (iPad; CPU OS 8_4_1 like Mac OS X) AppleWebKit/600.1.4 (KHTML, like Gecko) CriOS/45.0.2454.68 Mobile/12H321 Safari/600.1.4\",\n",
    "                        \"Mozilla/5.0 (Windows NT 6.3; Win64; x64; Trident/7.0; Touch; rv:11.0) like Gecko\",\n",
    "                        \"Mozilla/5.0 (Macintosh; Intel Mac OS X 10_6_8) AppleWebKit/537.36 (KHTML, like Gecko) Chrome/45.0.2454.85 Safari/537.36\",\n",
    "                        \"Mozilla/5.0 (iPad; CPU OS 8_1 like Mac OS X) AppleWebKit/600.1.4 (KHTML, like Gecko) Version/8.0 Mobile/12B410 Safari/600.1.4\",\n",
    "                        \"Mozilla/5.0 (iPad; CPU OS 7_0_4 like Mac OS X) AppleWebKit/537.51.1 (KHTML, like Gecko) Version/7.0 Mobile/11B554a Safari/9537.53\",\n",
    "                        \"Mozilla/5.0 (Windows NT 6.0; WOW64) AppleWebKit/537.36 (KHTML, like Gecko) Chrome/45.0.2454.85 Safari/537.36\",\n",
    "                        \"Mozilla/5.0 (Windows NT 6.3; Win64; x64; Trident/7.0; rv:11.0) like Gecko\",\n",
    "                        \"Mozilla/5.0 (Windows NT 6.3; WOW64; Trident/7.0; TNJB; rv:11.0) like Gecko\",\n",
    "                        \"Mozilla/5.0 (Windows NT 6.1; WOW64) AppleWebKit/537.36 (KHTML, like Gecko) Chrome/31.0.1650.63 Safari/537.36\",\n",
    "                        \"Mozilla/5.0 (Windows NT 6.3; ARM; Trident/7.0; Touch; rv:11.0) like Gecko\",\n",
    "                        \"Mozilla/5.0 (Windows NT 6.1; Win64; x64) AppleWebKit/537.36 (KHTML, like Gecko) Chrome/45.0.2454.85 Safari/537.36\"]\n",
    "\n",
    "    #Escolhendo o user aleatório\n",
    "    Choice_user_agent = random.choice(User_agents_list)\n",
    "\n",
    "    headers = {'authority':'www.' + marketplace + '.com.br',\n",
    "               'user-agent':Choice_user_agent}\n",
    "\n",
    "\n",
    "    return headers"
   ],
   "metadata": {
    "collapsed": false,
    "pycharm": {
     "name": "#%%\n"
    }
   }
  },
  {
   "cell_type": "code",
   "execution_count": 92,
   "outputs": [],
   "source": [
    "def getting_n_creating_amazon(brand):\n",
    "\n",
    "    Database_path = r\"C:\\Users\\pedro\\Documents\\Turte Brand Protection\\Turtle_Thinker_Alpha_0.1\" + \"\\Data\\\\\" + brand + \"\\\\\" + brand + \".db\"\n",
    "\n",
    "    table = brand + \"_products\"\n",
    "\n",
    "    #Criando a Query\n",
    "    query = \"SELECT * FROM \" + table\n",
    "\n",
    "    #Entrando dentro do databse\n",
    "    connection = sqlite3.connect(Database_path)\n",
    "\n",
    "    #Criando o dataset em brando\n",
    "    df = pd.read_sql_query(query, connection)\n",
    "\n",
    "    #Passando todo o Dataframe para LowerCase\n",
    "    df = df.apply(lambda x: x.astype(str).str.lower())\n",
    "\n",
    "    #Arrumando espaços vazios\n",
    "    # Arrumano os espaços vazios\n",
    "    df['Product_Name'] = df['Product_Name'].str.replace(\" \", \"+\")\n",
    "\n",
    "    # Criando uma nova coluna no database com a formatação certa\n",
    "    df['Urls'] = df['Brand'] + \"+\" + df['Product_Name']\n",
    "\n",
    "    # Criando a nova coluna que são as urls de pesquisa\n",
    "    df['Urls_search'] = \"https://www.amazon.com.br/s?k=\" + df['Urls']\n",
    "\n",
    "    return df"
   ],
   "metadata": {
    "collapsed": false,
    "pycharm": {
     "name": "#%%\n"
    }
   }
  },
  {
   "cell_type": "code",
   "execution_count": 93,
   "outputs": [
    {
     "data": {
      "text/plain": "   Brand Product_Name Product_Description           Urls  \\\n0  gopro       hero+8       câmera hero 8   gopro+hero+8   \n1  gopro       hero+9       câmera hero 9   gopro+hero+9   \n2  gopro      hero+10      câmera hero 10  gopro+hero+10   \n3  gopro      max+360      câmera max 360  gopro+max+360   \n\n                                   Urls_search  \n0   https://www.amazon.com.br/s?k=gopro+hero+8  \n1   https://www.amazon.com.br/s?k=gopro+hero+9  \n2  https://www.amazon.com.br/s?k=gopro+hero+10  \n3  https://www.amazon.com.br/s?k=gopro+max+360  ",
      "text/html": "<div>\n<style scoped>\n    .dataframe tbody tr th:only-of-type {\n        vertical-align: middle;\n    }\n\n    .dataframe tbody tr th {\n        vertical-align: top;\n    }\n\n    .dataframe thead th {\n        text-align: right;\n    }\n</style>\n<table border=\"1\" class=\"dataframe\">\n  <thead>\n    <tr style=\"text-align: right;\">\n      <th></th>\n      <th>Brand</th>\n      <th>Product_Name</th>\n      <th>Product_Description</th>\n      <th>Urls</th>\n      <th>Urls_search</th>\n    </tr>\n  </thead>\n  <tbody>\n    <tr>\n      <th>0</th>\n      <td>gopro</td>\n      <td>hero+8</td>\n      <td>câmera hero 8</td>\n      <td>gopro+hero+8</td>\n      <td>https://www.amazon.com.br/s?k=gopro+hero+8</td>\n    </tr>\n    <tr>\n      <th>1</th>\n      <td>gopro</td>\n      <td>hero+9</td>\n      <td>câmera hero 9</td>\n      <td>gopro+hero+9</td>\n      <td>https://www.amazon.com.br/s?k=gopro+hero+9</td>\n    </tr>\n    <tr>\n      <th>2</th>\n      <td>gopro</td>\n      <td>hero+10</td>\n      <td>câmera hero 10</td>\n      <td>gopro+hero+10</td>\n      <td>https://www.amazon.com.br/s?k=gopro+hero+10</td>\n    </tr>\n    <tr>\n      <th>3</th>\n      <td>gopro</td>\n      <td>max+360</td>\n      <td>câmera max 360</td>\n      <td>gopro+max+360</td>\n      <td>https://www.amazon.com.br/s?k=gopro+max+360</td>\n    </tr>\n  </tbody>\n</table>\n</div>"
     },
     "execution_count": 93,
     "metadata": {},
     "output_type": "execute_result"
    }
   ],
   "source": [
    "Df_Products_raw = getting_n_creating_amazon(\"GoPro\")\n",
    "Df_Products_raw"
   ],
   "metadata": {
    "collapsed": false,
    "pycharm": {
     "name": "#%%\n"
    }
   }
  },
  {
   "cell_type": "code",
   "execution_count": 94,
   "outputs": [],
   "source": [
    "def Search_Links(url):\n",
    "    global Urls_amazon\n",
    "\n",
    "    Headers_Amazon = Random_user_agents(\"Amazon\")\n",
    "    response = requests.get(url, headers=Headers_Amazon)\n",
    "\n",
    "    html = response.text\n",
    "\n",
    "    Soup = BeautifulSoup(html, 'html.parser')\n",
    "\n",
    "    for link in Soup.find_all(\"a\",href=True):\n",
    "        Urls_amazon.append(\"https://www.amazon.com.br\" + link['href'])\n",
    "\n",
    "    Urls_amazon = [s for s in Urls_amazon if '/dp/' in s]\n",
    "    Urls_amazon = [s for s in Urls_amazon if not '#customerReviews' in s]\n",
    "    Urls_amazon = list(dict.fromkeys(Urls_amazon))\n",
    "\n",
    "    try:\n",
    "        next_page = \"https://www.amazon.com.br\" + Soup.find(class_='s-pagination-item s-pagination-next s-pagination-button s-pagination-separator')['href']\n",
    "        Search_Links(next_page)\n",
    "    except:\n",
    "        pass\n"
   ],
   "metadata": {
    "collapsed": false,
    "pycharm": {
     "name": "#%%\n"
    }
   }
  },
  {
   "cell_type": "code",
   "execution_count": 95,
   "outputs": [],
   "source": [
    "for url in Df_Products_raw['Urls_search']:\n",
    "    Search_Links(url)"
   ],
   "metadata": {
    "collapsed": false,
    "pycharm": {
     "name": "#%%\n"
    }
   }
  },
  {
   "cell_type": "code",
   "execution_count": 96,
   "outputs": [
    {
     "name": "stdout",
     "output_type": "stream",
     "text": [
      "678\n"
     ]
    }
   ],
   "source": [
    "print(len(Urls_amazon))"
   ],
   "metadata": {
    "collapsed": false,
    "pycharm": {
     "name": "#%%\n"
    }
   }
  },
  {
   "cell_type": "code",
   "execution_count": 97,
   "outputs": [],
   "source": [
    "#Limpando as urls\n",
    "def clean_link(brand,urls):\n",
    "    #Criando a conexão com a tabela de exclusão\n",
    "    Database_exclusion = r\"C:\\Users\\pedro\\Documents\\Turte Brand Protection\\Turtle_Software\" + \"\\Data\\\\\" + brand + \"\\\\\" + brand + \".db\"\n",
    "\n",
    "    #Criando a Query\n",
    "    query = \"SELECT * FROM Exclusao\"\n",
    "\n",
    "    connection = sqlite3.connect(Database_exclusion)\n",
    "\n",
    "    #Criando o dataset em brando\n",
    "    df_itens = pd.read_sql_query(query, connection)\n",
    "\n",
    "    clean_urls = pd.DataFrame()\n",
    "\n",
    "    clean_urls['Urls_Completas'] = urls\n",
    "    clean_urls['Urls_limpas'] = clean_urls['Urls_Completas'].str.partition(\"ref\")[0]\n",
    "\n",
    "    Urls_limpas = clean_urls['Urls_limpas'].tolist()\n",
    "\n",
    "    for word in df_itens['Words']:\n",
    "        Urls_limpas = [s for s in Urls_limpas if not word in s]\n",
    "\n",
    "    clean_urls = pd.DataFrame()\n",
    "\n",
    "    clean_urls['Urls_finais'] = Urls_limpas\n",
    "\n",
    "    clean_urls['ASIN'] = clean_urls['Urls_finais'].str.partition(\"/dp/\")[2].str.partition(\"/\")[0]\n",
    "\n",
    "    clean_urls.drop_duplicates(subset='ASIN',inplace=True)\n",
    "    clean_urls.reset_index(inplace=True, drop=True)\n",
    "    return clean_urls"
   ],
   "metadata": {
    "collapsed": false,
    "pycharm": {
     "name": "#%%\n"
    }
   }
  },
  {
   "cell_type": "code",
   "execution_count": 98,
   "outputs": [],
   "source": [
    "New_urls_df = clean_link('GoPro',Urls_amazon)"
   ],
   "metadata": {
    "collapsed": false,
    "pycharm": {
     "name": "#%%\n"
    }
   }
  },
  {
   "cell_type": "code",
   "execution_count": 99,
   "outputs": [
    {
     "data": {
      "text/plain": "                                          Urls_finais        ASIN\n0   https://www.amazon.com.br/Gopro-Black-prova-D%...  B07WSRXMS8\n1   https://www.amazon.com.br/C%C3%82MERA-GOPRO-BL...  B08ZSVP9T7\n2   https://www.amazon.com.br/GoPro-Media-Mod-HERO...  B0813VSY2V\n3   https://www.amazon.com.br/C%C3%A2mera-GoPro-Fr...  B08KXN6BNH\n4   https://www.amazon.com.br/C%C3%A2mera-Cart%C3%...  B08R2XCM9K\n..                                                ...         ...\n87  https://www.amazon.com.br/Sombrinhas-Ilumina%C...  B098BJLP4C\n88  https://www.amazon.com.br/sat%C3%A9lite-ORBIT3...  B0752NQMP2\n89  https://www.amazon.com.br/grande-angular-c%C3%...  B09JVT24PJ\n90  https://www.amazon.com.br/C%C3%A2mera-Filmador...  B083R4VMMC\n91  https://www.amazon.com.br/Insta360-C%C3%A2mera...  B08YRZP1QN\n\n[92 rows x 2 columns]",
      "text/html": "<div>\n<style scoped>\n    .dataframe tbody tr th:only-of-type {\n        vertical-align: middle;\n    }\n\n    .dataframe tbody tr th {\n        vertical-align: top;\n    }\n\n    .dataframe thead th {\n        text-align: right;\n    }\n</style>\n<table border=\"1\" class=\"dataframe\">\n  <thead>\n    <tr style=\"text-align: right;\">\n      <th></th>\n      <th>Urls_finais</th>\n      <th>ASIN</th>\n    </tr>\n  </thead>\n  <tbody>\n    <tr>\n      <th>0</th>\n      <td>https://www.amazon.com.br/Gopro-Black-prova-D%...</td>\n      <td>B07WSRXMS8</td>\n    </tr>\n    <tr>\n      <th>1</th>\n      <td>https://www.amazon.com.br/C%C3%82MERA-GOPRO-BL...</td>\n      <td>B08ZSVP9T7</td>\n    </tr>\n    <tr>\n      <th>2</th>\n      <td>https://www.amazon.com.br/GoPro-Media-Mod-HERO...</td>\n      <td>B0813VSY2V</td>\n    </tr>\n    <tr>\n      <th>3</th>\n      <td>https://www.amazon.com.br/C%C3%A2mera-GoPro-Fr...</td>\n      <td>B08KXN6BNH</td>\n    </tr>\n    <tr>\n      <th>4</th>\n      <td>https://www.amazon.com.br/C%C3%A2mera-Cart%C3%...</td>\n      <td>B08R2XCM9K</td>\n    </tr>\n    <tr>\n      <th>...</th>\n      <td>...</td>\n      <td>...</td>\n    </tr>\n    <tr>\n      <th>87</th>\n      <td>https://www.amazon.com.br/Sombrinhas-Ilumina%C...</td>\n      <td>B098BJLP4C</td>\n    </tr>\n    <tr>\n      <th>88</th>\n      <td>https://www.amazon.com.br/sat%C3%A9lite-ORBIT3...</td>\n      <td>B0752NQMP2</td>\n    </tr>\n    <tr>\n      <th>89</th>\n      <td>https://www.amazon.com.br/grande-angular-c%C3%...</td>\n      <td>B09JVT24PJ</td>\n    </tr>\n    <tr>\n      <th>90</th>\n      <td>https://www.amazon.com.br/C%C3%A2mera-Filmador...</td>\n      <td>B083R4VMMC</td>\n    </tr>\n    <tr>\n      <th>91</th>\n      <td>https://www.amazon.com.br/Insta360-C%C3%A2mera...</td>\n      <td>B08YRZP1QN</td>\n    </tr>\n  </tbody>\n</table>\n<p>92 rows × 2 columns</p>\n</div>"
     },
     "execution_count": 99,
     "metadata": {},
     "output_type": "execute_result"
    }
   ],
   "source": [
    "New_urls_df"
   ],
   "metadata": {
    "collapsed": false,
    "pycharm": {
     "name": "#%%\n"
    }
   }
  },
  {
   "cell_type": "code",
   "execution_count": 82,
   "outputs": [],
   "source": [
    "def search_attributes(url):\n",
    "    time.sleep(5)\n",
    "    Headers_Amazon = Random_user_agents(\"Amazon\")\n",
    "    response = requests.get(url, headers=Headers_Amazon)\n",
    "\n",
    "    html = response.text\n",
    "\n",
    "    #Criando o Soup\n",
    "    soup = BeautifulSoup(html, 'html.parser')\n",
    "\n",
    "    #Fazendo o try do nome do vendedor\n",
    "    try:\n",
    "        seller = soup.find(\"a\", attrs={\"id\":'sellerProfileTriggerId'}).text\n",
    "        Amazon_seller.append(seller)\n",
    "    except:\n",
    "        Amazon_seller.append(\"Erro\")\n",
    "\n",
    "    #Fazendo o try do preço do produto a vista\n",
    "    try:\n",
    "        Div_Price = soup.find('div', attrs={\"data-feature-name\":\"corePrice\"})\n",
    "        price = Div_Price.find(class_='a-offscreen').text\n",
    "        Amazon_price.append(price)\n",
    "    except:\n",
    "        try:\n",
    "            Amazon_price.append(soup.find(class_='a-button-text')['href'])\n",
    "        except:\n",
    "            Amazon_price.append(\"Erro\")\n",
    "\n",
    "    #Pegando o título do produto\n",
    "    try:\n",
    "        title = soup.find(id='productTitle').text\n",
    "        Amazon_title.append(title)\n",
    "    except:\n",
    "        Amazon_title.append('Erro')\n",
    "\n",
    "    #Pegando o internacional\n",
    "    try:\n",
    "        soup.find('img', attrs={'data-a-hires':'https://images-na.ssl-images-amazon.com/images/G/32/foreignseller/Foreign_Seller_Badge_v2._CB403622375_.png'})\n",
    "        internacional_list.append(\"Internacional\")\n",
    "    except:\n",
    "        internacional_list.append(\"Nacional\")\n",
    "\n",
    "    #Fazendo o try para pegar o preço da parcela\n",
    "    try:\n",
    "        installment = soup.find(class_='best-offer-name a-text-bold').text\n",
    "        Amazon_installment_price_full.append(installment)\n",
    "    except:\n",
    "        Amazon_installment_price_full.append(\"0\")\n",
    "\n",
    "    #Fazendo o try para ver se tem mais ofertas\n",
    "    try:\n",
    "        Main_Div_More_offers = soup.find('div', attrs={\"id\":\"olpLinkWidget_feature_div\"})\n",
    "        Div_More_offers = Main_Div_More_offers.find('div', attrs={'class':'a-section olp-link-widget'})\n",
    "        Div_More_offers_text = Div_More_offers.find('div', attrs={'class':'olp-text-box'}).text\n",
    "        more_offers_list.append(Div_More_offers_text)\n",
    "    except:\n",
    "        more_offers_list.append(\"Comparar outras 0 ofertas\")"
   ],
   "metadata": {
    "collapsed": false,
    "pycharm": {
     "name": "#%%\n"
    }
   }
  },
  {
   "cell_type": "code",
   "execution_count": 83,
   "outputs": [
    {
     "name": "stderr",
     "output_type": "stream",
     "text": [
      "100%|██████████| 43/43 [04:47<00:00,  6.69s/it]\n"
     ]
    }
   ],
   "source": [
    "for url in tqdm(New_urls_df['Urls_finais']):\n",
    "    search_attributes(url)"
   ],
   "metadata": {
    "collapsed": false,
    "pycharm": {
     "name": "#%%\n"
    }
   }
  },
  {
   "cell_type": "code",
   "execution_count": 84,
   "outputs": [],
   "source": [
    "def Dataframe_First(url, sellers, preco, installment, titulo, more_url):\n",
    "    # Criando o DataFrame\n",
    "    Dataset_amazon = pd.DataFrame()\n",
    "\n",
    "    #\n",
    "    Hoje = pd.to_datetime('today', errors='ignore').date()\n",
    "\n",
    "    # Colocando os dados\n",
    "    Dataset_amazon['URL'] = url\n",
    "\n",
    "    Dataset_amazon['DATE'] = Hoje\n",
    "\n",
    "    Dataset_amazon['MARKETPLACE'] = \"AMAZON\"\n",
    "\n",
    "    #Arrumando a coluna de sellers\n",
    "    Dataset_amazon['SELLER'] = sellers\n",
    "    Dataset_amazon['SELLER'] = Dataset_amazon['SELLER'].str.replace(\"Erro\",\"Amazon\", regex=False)\n",
    "\n",
    "    #Arrumando o preço\n",
    "    Dataset_amazon['PRICE'] = preco\n",
    "    Dataset_amazon['PRICE'] = Dataset_amazon['PRICE'].str.replace(\".\",\"\", regex=True)\n",
    "    Dataset_amazon['PRICE'] = Dataset_amazon['PRICE'].str.replace(\"R$\",\"\", regex=False)\n",
    "    Dataset_amazon['PRICE'] = Dataset_amazon['PRICE'].str.replace(\",\",\".\", regex=True)\n",
    "\n",
    "    #Arrumando os valores de installment\n",
    "    Dataset_amazon['INSTALLMENT FULL'] = installment\n",
    "    Dataset_amazon['PARCEL'] = Dataset_amazon['INSTALLMENT FULL'].str.extract('(\\d+)')\n",
    "    Dataset_amazon['PARCEL'] = Dataset_amazon['PARCEL'].astype(\"int\")\n",
    "    Dataset_amazon['parcel_price_bruto'] = Dataset_amazon['INSTALLMENT FULL'].str.partition(\"R$\")[2].str.partition(\" \")[2].str.partition(\" \")[0]\n",
    "    Dataset_amazon['Installment3'] = Dataset_amazon['parcel_price_bruto'].str.extract('(\\d+)')\n",
    "    Dataset_amazon['parcel_price_bruto'] = Dataset_amazon['INSTALLMENT FULL'].str.partition(\"R$\")[2].str.partition(\" \")[2].str.partition(\" \")[0].str.partition(\",\")[2]\n",
    "    Dataset_amazon['Installment4'] = Dataset_amazon['parcel_price_bruto'].str.extract('(\\d+)')\n",
    "    Dataset_amazon['INSTALLMENT'] = Dataset_amazon['Installment3'] + \".\" + Dataset_amazon['Installment4']\n",
    "    Dataset_amazon['INSTALLMENT'] = Dataset_amazon['INSTALLMENT'].astype(\"float\")\n",
    "    Dataset_amazon['INSTALLMENT'] = Dataset_amazon['INSTALLMENT'].fillna(0)\n",
    "    Dataset_amazon['INSTALLMENT_PAYMENT'] = Dataset_amazon['PARCEL'] * Dataset_amazon['INSTALLMENT']\n",
    "\n",
    "\n",
    "    Dataset_amazon['ID'] = Dataset_amazon['URL'].str.partition('/dp/')[2].str.partition('/')[0]\n",
    "    Dataset_amazon['PRODUCT'] = titulo\n",
    "    Dataset_amazon['INTERNACIONAL'] = internacional_list\n",
    "\n",
    "    #Arrumando valores de mais sellers\n",
    "    Dataset_amazon['MORE'] = more_url\n",
    "    Dataset_amazon['MORE'] = Dataset_amazon['MORE'].str.partition(\"outras \")[2].str.partition(\" ofertas\")[0]\n",
    "\n",
    "    Dataset_amazon['MORE'] = Dataset_amazon['MORE'].astype('int')\n",
    "\n",
    "\n",
    "    Dataset_amazon = Dataset_amazon.drop(columns=[\"INSTALLMENT FULL\", \"Installment3\", \"Installment4\", \"parcel_price_bruto\"])\n",
    "\n",
    "    #Colocando na ordem correta\n",
    "    Dataset_amazon = Dataset_amazon[['DATE', 'URL', 'MARKETPLACE', 'SELLER', 'PRICE', 'PARCEL', 'INSTALLMENT', 'INSTALLMENT_PAYMENT', 'ID', 'PRODUCT','INTERNACIONAL', 'MORE']]\n",
    "    Dataset_amazon = Dataset_amazon.reset_index(drop=True)\n",
    "\n",
    "    return Dataset_amazon"
   ],
   "metadata": {
    "collapsed": false,
    "pycharm": {
     "name": "#%%\n"
    }
   }
  },
  {
   "cell_type": "code",
   "execution_count": 85,
   "outputs": [],
   "source": [
    "First_Dataframe = Dataframe_First(New_urls_df['Urls_finais'], Amazon_seller, Amazon_price, Amazon_installment_price_full, Amazon_title, more_offers_list)"
   ],
   "metadata": {
    "collapsed": false,
    "pycharm": {
     "name": "#%%\n"
    }
   }
  },
  {
   "cell_type": "code",
   "execution_count": 86,
   "outputs": [
    {
     "data": {
      "text/plain": "          DATE                                                URL MARKETPLACE  \\\n0   2022-07-06  https://www.amazon.com.br/Gopro-Black-prova-D%...      AMAZON   \n1   2022-07-06  https://www.amazon.com.br/C%C3%82MERA-GOPRO-BL...      AMAZON   \n2   2022-07-06  https://www.amazon.com.br/GoPro-Media-Mod-HERO...      AMAZON   \n3   2022-07-06  https://www.amazon.com.br/C%C3%A2mera-GoPro-Fr...      AMAZON   \n4   2022-07-06  https://www.amazon.com.br/C%C3%A2mera-Cart%C3%...      AMAZON   \n5   2022-07-06  https://www.amazon.com.br/C%C3%A2mera-GoPro-Ba...      AMAZON   \n6   2022-07-06  https://www.amazon.com.br/GoPro-AJFRC-001-Roll...      AMAZON   \n7   2022-07-06  https://www.amazon.com.br/Kit-esportivo-Neewer...      AMAZON   \n8   2022-07-06  https://www.amazon.com.br/C%C3%82MERA-GOPRO-HE...      AMAZON   \n9   2022-07-06  https://www.amazon.com.br/BATERIA-RECARREG%C3%...      AMAZON   \n10  2022-07-06  https://www.amazon.com.br/C%C3%A2mera-GoPro-Ca...      AMAZON   \n11  2022-07-06  https://www.amazon.com.br/Cart%C3%A3o-SanDisk-...      AMAZON   \n12  2022-07-06  https://www.amazon.com.br/GoPro-Gopro-Grande-E...      AMAZON   \n13  2022-07-06  https://www.amazon.com.br/GoPro-Cabe%C3%A7a-Qu...      AMAZON   \n14  2022-07-06  https://www.amazon.com.br/Mergulho-GoPro-AADIV...      AMAZON   \n15  2022-07-06  https://www.amazon.com.br/Camera-Digital-12-1M...      AMAZON   \n16  2022-07-06  https://www.amazon.com.br/MEM%C3%93RIA-SANDISK...      AMAZON   \n17  2022-07-06  https://www.amazon.com.br/GoPro-M%C3%B3dulo-m%...      AMAZON   \n18  2022-07-06  https://www.amazon.com.br/ELGIN-Bateria-CR2032...      AMAZON   \n19  2022-07-06  https://www.amazon.com.br/C%C3%A2mera-GoPro-MA...      AMAZON   \n20  2022-07-06  https://www.amazon.com.br/GoPro-3-Way-Official...      AMAZON   \n21  2022-07-06  https://www.amazon.com.br/GoPro-Bateria-Recarr...      AMAZON   \n22  2022-07-06  https://www.amazon.com.br/Clipe-Girat%C3%B3rio...      AMAZON   \n23  2022-07-06  https://www.amazon.com.br/Mem%C3%B3ria-MicroSD...      AMAZON   \n24  2022-07-06  https://www.amazon.com.br/Aventura-C%C3%A2mera...      AMAZON   \n25  2022-07-06  https://www.amazon.com.br/GoPro-M%C3%B3dulo-le...      AMAZON   \n26  2022-07-06  https://www.amazon.com.br/GoPro-Frontal-HyperS...      AMAZON   \n27  2022-07-06  https://www.amazon.com.br/Kit-Gopro-Hero-Pe%C3...      AMAZON   \n28  2022-07-06  https://www.amazon.com.br/GoPro-Light-Mod-HERO...      AMAZON   \n29  2022-07-06  https://www.amazon.com.br/GoPro-HERO10-Hero-Pr...      AMAZON   \n30  2022-07-06  https://www.amazon.com.br/Arma%C3%A7%C3%A3o-Pa...      AMAZON   \n31  2022-07-06  https://www.amazon.com.br/SanDisk-Cart%C3%A3o-...      AMAZON   \n32  2022-07-06  https://www.amazon.com.br/GoPro-Garra-Manual-T...      AMAZON   \n33  2022-07-06  https://www.amazon.com.br/Cart%C3%A3o-Micro-Sa...      AMAZON   \n34  2022-07-06  https://www.amazon.com.br/GoPro-Bateria-Recarr...      AMAZON   \n35  2022-07-06  https://www.amazon.com.br/Bateria-Recarreg%C3%...      AMAZON   \n36  2022-07-06  https://www.amazon.com.br/Trip%C3%A9-Bast%C3%A...      AMAZON   \n37  2022-07-06  https://www.amazon.com.br/Al%C3%A7a-Pulso-M%C3...      AMAZON   \n38  2022-07-06  https://www.amazon.com.br/C%C3%A2mera-Digital-...      AMAZON   \n39  2022-07-06                 https://www.amazon.com.br/T-Photo-      AMAZON   \n40  2022-07-06  https://www.amazon.com.br/Sombrinhas-Ilumina%C...      AMAZON   \n41  2022-07-06  https://www.amazon.com.br/sat%C3%A9lite-ORBIT3...      AMAZON   \n42  2022-07-06  https://www.amazon.com.br/Insta360-imperme%C3%...      AMAZON   \n\n                  SELLER                                              PRICE  \\\n0             INTRA-SHOP                                            2499.99   \n1         GRUPO MAVERICK                                            3199.99   \n2        Shop12Adventure                                             649.90   \n3                 Amazon                                            2609.11   \n4           LIVE IMPORTS                                            3399.00   \n5                 Amazon                                            4699.00   \n6                 Amazon                                             216.37   \n7   NO1ACCESSORY LIMITED                                             263.00   \n8         GRUPO MAVERICK                                            3099.99   \n9        Shop12Adventure                                             319.90   \n10               MeuDome                                            2599.00   \n11            LOJA FENIX                                              53.90   \n12       Shop12Adventure                                             428.00   \n13               MeuDome                                             209.00   \n14       Digital Proshop                                             128.00   \n15        GRUPO MAVERICK                                            2399.99   \n16       MARIA.D.L.G LLC                                             192.53   \n17                Amazon                                             955.09   \n18     COMERCIAL AOA LUZ                                              10.90   \n19        GRUPO MAVERICK                                            3485.21   \n20             octo.shop                                             558.83   \n21          PLANETASHOP2                                             229.00   \n22        GRUPO MAVERICK                                             249.99   \n23           MONSTERSTOK                                             117.75   \n24         Markotec Foto                                             344.09   \n25            EletroTech                                             849.90   \n26        GRUPO MAVERICK                                            4299.99   \n27                 TURUM                                             199.90   \n28      Harma Store LTDA                                             538.99   \n29                Amazon  /gp/offer-listing/B09G9KHMCT/ref=dp_olp_unknow...   \n30            EletroTech                                             219.90   \n31           CRISS SHOP.                                              85.70   \n32      Alfa Tecnológico                                             154.95   \n33             Orbitinfo                                             183.00   \n34        GRUPO MAVERICK                                             159.99   \n35        GRUPO MAVERICK                                             419.99   \n36                FUNPro                                             101.90   \n37               MeuDome                                             399.00   \n38                Amazon  /gp/offer-listing/B0792MJLNM/ref=dp_olp_unknow...   \n39                Amazon                                               Erro   \n40              4FITNESS                                             169.90   \n41             M Z Photo                                            1595.09   \n42                Amazon  /gp/offer-listing/B08M3B9754/ref=dp_olp_unknow...   \n\n    PARCEL  INSTALLMENT  INSTALLMENT_PAYMENT          ID  \\\n0       10       250.08              2500.80  B07WSRXMS8   \n1       10       320.08              3200.80  B08ZSVP9T7   \n2       10        64.99               649.90  B0813VSY2V   \n3        2         2.00                 4.00  B08KXN6BNH   \n4       10       339.90              3399.00  B08R2XCM9K   \n5       10       469.90              4699.00  B09JDKPTSV   \n6        7        30.91               216.37  B083ZWTZ5T   \n7        8        32.91               263.28  B01171X0UW   \n8       10       310.08              3100.80  B09MG3XKZJ   \n9       10        31.99               319.90  B09NSYNM3J   \n10      10       259.90              2599.00  B07HT1FSBT   \n11       0         0.00                 0.00  B074B4BFHJ   \n12      10        42.80               428.00  B06XHJZLXG   \n13       6        34.85               209.10  B00F19PYR4   \n14       4        32.00               128.00  B01L2CP126   \n15      10       240.08              2400.80  B07GSVDFTQ   \n16       6        32.13               192.78  B07G3H5RBT   \n17      10        95.59               955.90  B08FRSB1CM   \n18       0         0.00                 0.00  B0755PWFSN   \n19      10       348.53              3485.30  B07BPVPV14   \n20      10        55.91               559.10  B092RK7H4C   \n21       7        32.74               229.18  B08FRRPYXT   \n22       8        31.31               250.48  B083LS7N8P   \n23       3        39.25               117.75  B07F5N2SPM   \n24      10        34.49               344.90  B07GD1M8WC   \n25      10        84.99               849.90  B08QCBP1S6   \n26      10       430.08              4300.80  B09D15SFMQ   \n27       6        33.35               200.10  B07TCY5FNV   \n28      10        53.98               539.80  B08378B8BJ   \n29       0         0.00                 0.00  B09G9KHMCT   \n30       7        31.44               220.08  B01L2CP62G   \n31       2        42.85                85.70  B07HHD7C7T   \n32       5        30.99               154.95  B0755PDKCN   \n33       6        30.50               183.00  B07FCMKK5X   \n34       5        32.03               160.15  B01LWKCIQN   \n35      10        42.08               420.80  B07XFYL2B3   \n36       3        33.98               101.94  B08HV3FYQJ   \n37      10        39.90               399.00  B06XHKQKDH   \n38       0         0.00                 0.00  B0792MJLNM   \n39       0         0.00                 0.00               \n40       5        33.98               169.90  B098BJLP4C   \n41       0         0.00                 0.00  B0752NQMP2   \n42       0         0.00                 0.00  B08M3B9754   \n\n                                              PRODUCT  INTERNACIONAL  MORE  \n0           Gopro Hero 8 Black 4k à prova D'água C...  Internacional     5  \n1           CÂMERA GOPRO HERO 8 BLACK ESSENCIAL BU...  Internacional     3  \n2           GoPro Módulo de mídia - HERO8 Black   ...  Internacional     6  \n3           Câmera GoPro HERO9 Black à Prova D'águ...  Internacional     4  \n4           Câmera GoPro HERO9 Black à Prova D'águ...  Internacional     0  \n5           Câmera GoPro HERO10 Black + Kit de Ace...  Internacional     0  \n6                               GoPro Rollcage         Internacional     3  \n7           Neewer Kit de acessórios para câmera d...  Internacional     3  \n8           CÂMERA GOPRO HERO 8 BLACK – SPECIAL BU...  Internacional     0  \n9           BATERIA RECARREGÁVEL ENDURO HERO 9 BLA...  Internacional     3  \n10          Câmera, GoPro, HERO7 Black Specialty, ...  Internacional     2  \n11          Cartão SanDisk Ultra SDSQUNS-064G-GN3M...  Internacional    16  \n12          Grande Extension Pole para Todos os Mo...  Internacional     2  \n13          Faixa de Cabeça e Quickclip para Todos...  Internacional     7  \n14          Super Suit Caixa de Mergulho GoPro par...  Internacional    13  \n15          Camera Digital GoPro Hero 7 Black Ultr...  Internacional     4  \n16          SanDisk CARTÃO DE MEMÓRIA MICRO SD 128...  Internacional    23  \n17          GoPro Módulo de Mídia - HERO10 e HERO9...  Internacional     7  \n18          Elgin CR2032, Bateria de Litio 3V, Bli...  Internacional    20  \n19                 Câmera GoPro MAX 360, Preto         Internacional     3  \n20          GoPro 3-Way 2.0 (GoPro Official Mount)...  Internacional     9  \n21          GoPro Bateria Recarregável para as Câm...  Internacional    16  \n22          Clipe Giratório Magnético GoPro para C...  Internacional     2  \n23          Cartão de Memória MicroSDXC 128GB Sand...  Internacional     0  \n24          Kit de Aventura GoPro para Câmeras HER...  Internacional     4  \n25          GoPro Módulo de lente Max - HERO9, pre...  Internacional     5  \n26          Câmera GoPro HERO10 Black à Prova com ...  Internacional     5  \n27          Kit Para Gopro Hero Com 9 Peças Maleta...  Internacional     3  \n28          GoPro Light Mod - Acessório oficial Go...  Internacional     4  \n29          GoPro HERO10 (Hero 10) Preto - Câmera ...  Internacional     0  \n30          Armação GoPro The Frame (HERO7 Black, ...  Internacional     5  \n31          SanDisk Cartão Ultra SDSQUNS-128G-GN6M...  Internacional    18  \n32          Garra Manual para Todos os Modelos Her...  Internacional     4  \n33          Cartão de memória SanDisk 128 GB Extre...  Internacional     9  \n34          Bateria Recarregável para Hero5, Hero6...  Internacional     9  \n35          GoPro Bateria Recarregável para a Câme...  Internacional     4  \n36          Mini Tripé e Bastão para GoPro e Câmer...  Internacional     0  \n37                   Alça de Pulso E Mão GoPro         Internacional     3  \n38             Câmera Fusion 360, GoPro, Preto         Internacional     0  \n39                                               Erro  Internacional     0  \n40          2 Sombrinhas Refletora 109cm p/Ilumina...  Internacional     0  \n41          KODAK Pacote de satélite ORBIT360_4K-W...  Internacional     0  \n42          Insta360 Câmera de ação impermeável ON...  Internacional     0  ",
      "text/html": "<div>\n<style scoped>\n    .dataframe tbody tr th:only-of-type {\n        vertical-align: middle;\n    }\n\n    .dataframe tbody tr th {\n        vertical-align: top;\n    }\n\n    .dataframe thead th {\n        text-align: right;\n    }\n</style>\n<table border=\"1\" class=\"dataframe\">\n  <thead>\n    <tr style=\"text-align: right;\">\n      <th></th>\n      <th>DATE</th>\n      <th>URL</th>\n      <th>MARKETPLACE</th>\n      <th>SELLER</th>\n      <th>PRICE</th>\n      <th>PARCEL</th>\n      <th>INSTALLMENT</th>\n      <th>INSTALLMENT_PAYMENT</th>\n      <th>ID</th>\n      <th>PRODUCT</th>\n      <th>INTERNACIONAL</th>\n      <th>MORE</th>\n    </tr>\n  </thead>\n  <tbody>\n    <tr>\n      <th>0</th>\n      <td>2022-07-06</td>\n      <td>https://www.amazon.com.br/Gopro-Black-prova-D%...</td>\n      <td>AMAZON</td>\n      <td>INTRA-SHOP</td>\n      <td>2499.99</td>\n      <td>10</td>\n      <td>250.08</td>\n      <td>2500.80</td>\n      <td>B07WSRXMS8</td>\n      <td>Gopro Hero 8 Black 4k à prova D'água C...</td>\n      <td>Internacional</td>\n      <td>5</td>\n    </tr>\n    <tr>\n      <th>1</th>\n      <td>2022-07-06</td>\n      <td>https://www.amazon.com.br/C%C3%82MERA-GOPRO-BL...</td>\n      <td>AMAZON</td>\n      <td>GRUPO MAVERICK</td>\n      <td>3199.99</td>\n      <td>10</td>\n      <td>320.08</td>\n      <td>3200.80</td>\n      <td>B08ZSVP9T7</td>\n      <td>CÂMERA GOPRO HERO 8 BLACK ESSENCIAL BU...</td>\n      <td>Internacional</td>\n      <td>3</td>\n    </tr>\n    <tr>\n      <th>2</th>\n      <td>2022-07-06</td>\n      <td>https://www.amazon.com.br/GoPro-Media-Mod-HERO...</td>\n      <td>AMAZON</td>\n      <td>Shop12Adventure</td>\n      <td>649.90</td>\n      <td>10</td>\n      <td>64.99</td>\n      <td>649.90</td>\n      <td>B0813VSY2V</td>\n      <td>GoPro Módulo de mídia - HERO8 Black   ...</td>\n      <td>Internacional</td>\n      <td>6</td>\n    </tr>\n    <tr>\n      <th>3</th>\n      <td>2022-07-06</td>\n      <td>https://www.amazon.com.br/C%C3%A2mera-GoPro-Fr...</td>\n      <td>AMAZON</td>\n      <td>Amazon</td>\n      <td>2609.11</td>\n      <td>2</td>\n      <td>2.00</td>\n      <td>4.00</td>\n      <td>B08KXN6BNH</td>\n      <td>Câmera GoPro HERO9 Black à Prova D'águ...</td>\n      <td>Internacional</td>\n      <td>4</td>\n    </tr>\n    <tr>\n      <th>4</th>\n      <td>2022-07-06</td>\n      <td>https://www.amazon.com.br/C%C3%A2mera-Cart%C3%...</td>\n      <td>AMAZON</td>\n      <td>LIVE IMPORTS</td>\n      <td>3399.00</td>\n      <td>10</td>\n      <td>339.90</td>\n      <td>3399.00</td>\n      <td>B08R2XCM9K</td>\n      <td>Câmera GoPro HERO9 Black à Prova D'águ...</td>\n      <td>Internacional</td>\n      <td>0</td>\n    </tr>\n    <tr>\n      <th>5</th>\n      <td>2022-07-06</td>\n      <td>https://www.amazon.com.br/C%C3%A2mera-GoPro-Ba...</td>\n      <td>AMAZON</td>\n      <td>Amazon</td>\n      <td>4699.00</td>\n      <td>10</td>\n      <td>469.90</td>\n      <td>4699.00</td>\n      <td>B09JDKPTSV</td>\n      <td>Câmera GoPro HERO10 Black + Kit de Ace...</td>\n      <td>Internacional</td>\n      <td>0</td>\n    </tr>\n    <tr>\n      <th>6</th>\n      <td>2022-07-06</td>\n      <td>https://www.amazon.com.br/GoPro-AJFRC-001-Roll...</td>\n      <td>AMAZON</td>\n      <td>Amazon</td>\n      <td>216.37</td>\n      <td>7</td>\n      <td>30.91</td>\n      <td>216.37</td>\n      <td>B083ZWTZ5T</td>\n      <td>GoPro Rollcage</td>\n      <td>Internacional</td>\n      <td>3</td>\n    </tr>\n    <tr>\n      <th>7</th>\n      <td>2022-07-06</td>\n      <td>https://www.amazon.com.br/Kit-esportivo-Neewer...</td>\n      <td>AMAZON</td>\n      <td>NO1ACCESSORY LIMITED</td>\n      <td>263.00</td>\n      <td>8</td>\n      <td>32.91</td>\n      <td>263.28</td>\n      <td>B01171X0UW</td>\n      <td>Neewer Kit de acessórios para câmera d...</td>\n      <td>Internacional</td>\n      <td>3</td>\n    </tr>\n    <tr>\n      <th>8</th>\n      <td>2022-07-06</td>\n      <td>https://www.amazon.com.br/C%C3%82MERA-GOPRO-HE...</td>\n      <td>AMAZON</td>\n      <td>GRUPO MAVERICK</td>\n      <td>3099.99</td>\n      <td>10</td>\n      <td>310.08</td>\n      <td>3100.80</td>\n      <td>B09MG3XKZJ</td>\n      <td>CÂMERA GOPRO HERO 8 BLACK – SPECIAL BU...</td>\n      <td>Internacional</td>\n      <td>0</td>\n    </tr>\n    <tr>\n      <th>9</th>\n      <td>2022-07-06</td>\n      <td>https://www.amazon.com.br/BATERIA-RECARREG%C3%...</td>\n      <td>AMAZON</td>\n      <td>Shop12Adventure</td>\n      <td>319.90</td>\n      <td>10</td>\n      <td>31.99</td>\n      <td>319.90</td>\n      <td>B09NSYNM3J</td>\n      <td>BATERIA RECARREGÁVEL ENDURO HERO 9 BLA...</td>\n      <td>Internacional</td>\n      <td>3</td>\n    </tr>\n    <tr>\n      <th>10</th>\n      <td>2022-07-06</td>\n      <td>https://www.amazon.com.br/C%C3%A2mera-GoPro-Ca...</td>\n      <td>AMAZON</td>\n      <td>MeuDome</td>\n      <td>2599.00</td>\n      <td>10</td>\n      <td>259.90</td>\n      <td>2599.00</td>\n      <td>B07HT1FSBT</td>\n      <td>Câmera, GoPro, HERO7 Black Specialty, ...</td>\n      <td>Internacional</td>\n      <td>2</td>\n    </tr>\n    <tr>\n      <th>11</th>\n      <td>2022-07-06</td>\n      <td>https://www.amazon.com.br/Cart%C3%A3o-SanDisk-...</td>\n      <td>AMAZON</td>\n      <td>LOJA FENIX</td>\n      <td>53.90</td>\n      <td>0</td>\n      <td>0.00</td>\n      <td>0.00</td>\n      <td>B074B4BFHJ</td>\n      <td>Cartão SanDisk Ultra SDSQUNS-064G-GN3M...</td>\n      <td>Internacional</td>\n      <td>16</td>\n    </tr>\n    <tr>\n      <th>12</th>\n      <td>2022-07-06</td>\n      <td>https://www.amazon.com.br/GoPro-Gopro-Grande-E...</td>\n      <td>AMAZON</td>\n      <td>Shop12Adventure</td>\n      <td>428.00</td>\n      <td>10</td>\n      <td>42.80</td>\n      <td>428.00</td>\n      <td>B06XHJZLXG</td>\n      <td>Grande Extension Pole para Todos os Mo...</td>\n      <td>Internacional</td>\n      <td>2</td>\n    </tr>\n    <tr>\n      <th>13</th>\n      <td>2022-07-06</td>\n      <td>https://www.amazon.com.br/GoPro-Cabe%C3%A7a-Qu...</td>\n      <td>AMAZON</td>\n      <td>MeuDome</td>\n      <td>209.00</td>\n      <td>6</td>\n      <td>34.85</td>\n      <td>209.10</td>\n      <td>B00F19PYR4</td>\n      <td>Faixa de Cabeça e Quickclip para Todos...</td>\n      <td>Internacional</td>\n      <td>7</td>\n    </tr>\n    <tr>\n      <th>14</th>\n      <td>2022-07-06</td>\n      <td>https://www.amazon.com.br/Mergulho-GoPro-AADIV...</td>\n      <td>AMAZON</td>\n      <td>Digital Proshop</td>\n      <td>128.00</td>\n      <td>4</td>\n      <td>32.00</td>\n      <td>128.00</td>\n      <td>B01L2CP126</td>\n      <td>Super Suit Caixa de Mergulho GoPro par...</td>\n      <td>Internacional</td>\n      <td>13</td>\n    </tr>\n    <tr>\n      <th>15</th>\n      <td>2022-07-06</td>\n      <td>https://www.amazon.com.br/Camera-Digital-12-1M...</td>\n      <td>AMAZON</td>\n      <td>GRUPO MAVERICK</td>\n      <td>2399.99</td>\n      <td>10</td>\n      <td>240.08</td>\n      <td>2400.80</td>\n      <td>B07GSVDFTQ</td>\n      <td>Camera Digital GoPro Hero 7 Black Ultr...</td>\n      <td>Internacional</td>\n      <td>4</td>\n    </tr>\n    <tr>\n      <th>16</th>\n      <td>2022-07-06</td>\n      <td>https://www.amazon.com.br/MEM%C3%93RIA-SANDISK...</td>\n      <td>AMAZON</td>\n      <td>MARIA.D.L.G LLC</td>\n      <td>192.53</td>\n      <td>6</td>\n      <td>32.13</td>\n      <td>192.78</td>\n      <td>B07G3H5RBT</td>\n      <td>SanDisk CARTÃO DE MEMÓRIA MICRO SD 128...</td>\n      <td>Internacional</td>\n      <td>23</td>\n    </tr>\n    <tr>\n      <th>17</th>\n      <td>2022-07-06</td>\n      <td>https://www.amazon.com.br/GoPro-M%C3%B3dulo-m%...</td>\n      <td>AMAZON</td>\n      <td>Amazon</td>\n      <td>955.09</td>\n      <td>10</td>\n      <td>95.59</td>\n      <td>955.90</td>\n      <td>B08FRSB1CM</td>\n      <td>GoPro Módulo de Mídia - HERO10 e HERO9...</td>\n      <td>Internacional</td>\n      <td>7</td>\n    </tr>\n    <tr>\n      <th>18</th>\n      <td>2022-07-06</td>\n      <td>https://www.amazon.com.br/ELGIN-Bateria-CR2032...</td>\n      <td>AMAZON</td>\n      <td>COMERCIAL AOA LUZ</td>\n      <td>10.90</td>\n      <td>0</td>\n      <td>0.00</td>\n      <td>0.00</td>\n      <td>B0755PWFSN</td>\n      <td>Elgin CR2032, Bateria de Litio 3V, Bli...</td>\n      <td>Internacional</td>\n      <td>20</td>\n    </tr>\n    <tr>\n      <th>19</th>\n      <td>2022-07-06</td>\n      <td>https://www.amazon.com.br/C%C3%A2mera-GoPro-MA...</td>\n      <td>AMAZON</td>\n      <td>GRUPO MAVERICK</td>\n      <td>3485.21</td>\n      <td>10</td>\n      <td>348.53</td>\n      <td>3485.30</td>\n      <td>B07BPVPV14</td>\n      <td>Câmera GoPro MAX 360, Preto</td>\n      <td>Internacional</td>\n      <td>3</td>\n    </tr>\n    <tr>\n      <th>20</th>\n      <td>2022-07-06</td>\n      <td>https://www.amazon.com.br/GoPro-3-Way-Official...</td>\n      <td>AMAZON</td>\n      <td>octo.shop</td>\n      <td>558.83</td>\n      <td>10</td>\n      <td>55.91</td>\n      <td>559.10</td>\n      <td>B092RK7H4C</td>\n      <td>GoPro 3-Way 2.0 (GoPro Official Mount)...</td>\n      <td>Internacional</td>\n      <td>9</td>\n    </tr>\n    <tr>\n      <th>21</th>\n      <td>2022-07-06</td>\n      <td>https://www.amazon.com.br/GoPro-Bateria-Recarr...</td>\n      <td>AMAZON</td>\n      <td>PLANETASHOP2</td>\n      <td>229.00</td>\n      <td>7</td>\n      <td>32.74</td>\n      <td>229.18</td>\n      <td>B08FRRPYXT</td>\n      <td>GoPro Bateria Recarregável para as Câm...</td>\n      <td>Internacional</td>\n      <td>16</td>\n    </tr>\n    <tr>\n      <th>22</th>\n      <td>2022-07-06</td>\n      <td>https://www.amazon.com.br/Clipe-Girat%C3%B3rio...</td>\n      <td>AMAZON</td>\n      <td>GRUPO MAVERICK</td>\n      <td>249.99</td>\n      <td>8</td>\n      <td>31.31</td>\n      <td>250.48</td>\n      <td>B083LS7N8P</td>\n      <td>Clipe Giratório Magnético GoPro para C...</td>\n      <td>Internacional</td>\n      <td>2</td>\n    </tr>\n    <tr>\n      <th>23</th>\n      <td>2022-07-06</td>\n      <td>https://www.amazon.com.br/Mem%C3%B3ria-MicroSD...</td>\n      <td>AMAZON</td>\n      <td>MONSTERSTOK</td>\n      <td>117.75</td>\n      <td>3</td>\n      <td>39.25</td>\n      <td>117.75</td>\n      <td>B07F5N2SPM</td>\n      <td>Cartão de Memória MicroSDXC 128GB Sand...</td>\n      <td>Internacional</td>\n      <td>0</td>\n    </tr>\n    <tr>\n      <th>24</th>\n      <td>2022-07-06</td>\n      <td>https://www.amazon.com.br/Aventura-C%C3%A2mera...</td>\n      <td>AMAZON</td>\n      <td>Markotec Foto</td>\n      <td>344.09</td>\n      <td>10</td>\n      <td>34.49</td>\n      <td>344.90</td>\n      <td>B07GD1M8WC</td>\n      <td>Kit de Aventura GoPro para Câmeras HER...</td>\n      <td>Internacional</td>\n      <td>4</td>\n    </tr>\n    <tr>\n      <th>25</th>\n      <td>2022-07-06</td>\n      <td>https://www.amazon.com.br/GoPro-M%C3%B3dulo-le...</td>\n      <td>AMAZON</td>\n      <td>EletroTech</td>\n      <td>849.90</td>\n      <td>10</td>\n      <td>84.99</td>\n      <td>849.90</td>\n      <td>B08QCBP1S6</td>\n      <td>GoPro Módulo de lente Max - HERO9, pre...</td>\n      <td>Internacional</td>\n      <td>5</td>\n    </tr>\n    <tr>\n      <th>26</th>\n      <td>2022-07-06</td>\n      <td>https://www.amazon.com.br/GoPro-Frontal-HyperS...</td>\n      <td>AMAZON</td>\n      <td>GRUPO MAVERICK</td>\n      <td>4299.99</td>\n      <td>10</td>\n      <td>430.08</td>\n      <td>4300.80</td>\n      <td>B09D15SFMQ</td>\n      <td>Câmera GoPro HERO10 Black à Prova com ...</td>\n      <td>Internacional</td>\n      <td>5</td>\n    </tr>\n    <tr>\n      <th>27</th>\n      <td>2022-07-06</td>\n      <td>https://www.amazon.com.br/Kit-Gopro-Hero-Pe%C3...</td>\n      <td>AMAZON</td>\n      <td>TURUM</td>\n      <td>199.90</td>\n      <td>6</td>\n      <td>33.35</td>\n      <td>200.10</td>\n      <td>B07TCY5FNV</td>\n      <td>Kit Para Gopro Hero Com 9 Peças Maleta...</td>\n      <td>Internacional</td>\n      <td>3</td>\n    </tr>\n    <tr>\n      <th>28</th>\n      <td>2022-07-06</td>\n      <td>https://www.amazon.com.br/GoPro-Light-Mod-HERO...</td>\n      <td>AMAZON</td>\n      <td>Harma Store LTDA</td>\n      <td>538.99</td>\n      <td>10</td>\n      <td>53.98</td>\n      <td>539.80</td>\n      <td>B08378B8BJ</td>\n      <td>GoPro Light Mod - Acessório oficial Go...</td>\n      <td>Internacional</td>\n      <td>4</td>\n    </tr>\n    <tr>\n      <th>29</th>\n      <td>2022-07-06</td>\n      <td>https://www.amazon.com.br/GoPro-HERO10-Hero-Pr...</td>\n      <td>AMAZON</td>\n      <td>Amazon</td>\n      <td>/gp/offer-listing/B09G9KHMCT/ref=dp_olp_unknow...</td>\n      <td>0</td>\n      <td>0.00</td>\n      <td>0.00</td>\n      <td>B09G9KHMCT</td>\n      <td>GoPro HERO10 (Hero 10) Preto - Câmera ...</td>\n      <td>Internacional</td>\n      <td>0</td>\n    </tr>\n    <tr>\n      <th>30</th>\n      <td>2022-07-06</td>\n      <td>https://www.amazon.com.br/Arma%C3%A7%C3%A3o-Pa...</td>\n      <td>AMAZON</td>\n      <td>EletroTech</td>\n      <td>219.90</td>\n      <td>7</td>\n      <td>31.44</td>\n      <td>220.08</td>\n      <td>B01L2CP62G</td>\n      <td>Armação GoPro The Frame (HERO7 Black, ...</td>\n      <td>Internacional</td>\n      <td>5</td>\n    </tr>\n    <tr>\n      <th>31</th>\n      <td>2022-07-06</td>\n      <td>https://www.amazon.com.br/SanDisk-Cart%C3%A3o-...</td>\n      <td>AMAZON</td>\n      <td>CRISS SHOP.</td>\n      <td>85.70</td>\n      <td>2</td>\n      <td>42.85</td>\n      <td>85.70</td>\n      <td>B07HHD7C7T</td>\n      <td>SanDisk Cartão Ultra SDSQUNS-128G-GN6M...</td>\n      <td>Internacional</td>\n      <td>18</td>\n    </tr>\n    <tr>\n      <th>32</th>\n      <td>2022-07-06</td>\n      <td>https://www.amazon.com.br/GoPro-Garra-Manual-T...</td>\n      <td>AMAZON</td>\n      <td>Alfa Tecnológico</td>\n      <td>154.95</td>\n      <td>5</td>\n      <td>30.99</td>\n      <td>154.95</td>\n      <td>B0755PDKCN</td>\n      <td>Garra Manual para Todos os Modelos Her...</td>\n      <td>Internacional</td>\n      <td>4</td>\n    </tr>\n    <tr>\n      <th>33</th>\n      <td>2022-07-06</td>\n      <td>https://www.amazon.com.br/Cart%C3%A3o-Micro-Sa...</td>\n      <td>AMAZON</td>\n      <td>Orbitinfo</td>\n      <td>183.00</td>\n      <td>6</td>\n      <td>30.50</td>\n      <td>183.00</td>\n      <td>B07FCMKK5X</td>\n      <td>Cartão de memória SanDisk 128 GB Extre...</td>\n      <td>Internacional</td>\n      <td>9</td>\n    </tr>\n    <tr>\n      <th>34</th>\n      <td>2022-07-06</td>\n      <td>https://www.amazon.com.br/GoPro-Bateria-Recarr...</td>\n      <td>AMAZON</td>\n      <td>GRUPO MAVERICK</td>\n      <td>159.99</td>\n      <td>5</td>\n      <td>32.03</td>\n      <td>160.15</td>\n      <td>B01LWKCIQN</td>\n      <td>Bateria Recarregável para Hero5, Hero6...</td>\n      <td>Internacional</td>\n      <td>9</td>\n    </tr>\n    <tr>\n      <th>35</th>\n      <td>2022-07-06</td>\n      <td>https://www.amazon.com.br/Bateria-Recarreg%C3%...</td>\n      <td>AMAZON</td>\n      <td>GRUPO MAVERICK</td>\n      <td>419.99</td>\n      <td>10</td>\n      <td>42.08</td>\n      <td>420.80</td>\n      <td>B07XFYL2B3</td>\n      <td>GoPro Bateria Recarregável para a Câme...</td>\n      <td>Internacional</td>\n      <td>4</td>\n    </tr>\n    <tr>\n      <th>36</th>\n      <td>2022-07-06</td>\n      <td>https://www.amazon.com.br/Trip%C3%A9-Bast%C3%A...</td>\n      <td>AMAZON</td>\n      <td>FUNPro</td>\n      <td>101.90</td>\n      <td>3</td>\n      <td>33.98</td>\n      <td>101.94</td>\n      <td>B08HV3FYQJ</td>\n      <td>Mini Tripé e Bastão para GoPro e Câmer...</td>\n      <td>Internacional</td>\n      <td>0</td>\n    </tr>\n    <tr>\n      <th>37</th>\n      <td>2022-07-06</td>\n      <td>https://www.amazon.com.br/Al%C3%A7a-Pulso-M%C3...</td>\n      <td>AMAZON</td>\n      <td>MeuDome</td>\n      <td>399.00</td>\n      <td>10</td>\n      <td>39.90</td>\n      <td>399.00</td>\n      <td>B06XHKQKDH</td>\n      <td>Alça de Pulso E Mão GoPro</td>\n      <td>Internacional</td>\n      <td>3</td>\n    </tr>\n    <tr>\n      <th>38</th>\n      <td>2022-07-06</td>\n      <td>https://www.amazon.com.br/C%C3%A2mera-Digital-...</td>\n      <td>AMAZON</td>\n      <td>Amazon</td>\n      <td>/gp/offer-listing/B0792MJLNM/ref=dp_olp_unknow...</td>\n      <td>0</td>\n      <td>0.00</td>\n      <td>0.00</td>\n      <td>B0792MJLNM</td>\n      <td>Câmera Fusion 360, GoPro, Preto</td>\n      <td>Internacional</td>\n      <td>0</td>\n    </tr>\n    <tr>\n      <th>39</th>\n      <td>2022-07-06</td>\n      <td>https://www.amazon.com.br/T-Photo-</td>\n      <td>AMAZON</td>\n      <td>Amazon</td>\n      <td>Erro</td>\n      <td>0</td>\n      <td>0.00</td>\n      <td>0.00</td>\n      <td></td>\n      <td>Erro</td>\n      <td>Internacional</td>\n      <td>0</td>\n    </tr>\n    <tr>\n      <th>40</th>\n      <td>2022-07-06</td>\n      <td>https://www.amazon.com.br/Sombrinhas-Ilumina%C...</td>\n      <td>AMAZON</td>\n      <td>4FITNESS</td>\n      <td>169.90</td>\n      <td>5</td>\n      <td>33.98</td>\n      <td>169.90</td>\n      <td>B098BJLP4C</td>\n      <td>2 Sombrinhas Refletora 109cm p/Ilumina...</td>\n      <td>Internacional</td>\n      <td>0</td>\n    </tr>\n    <tr>\n      <th>41</th>\n      <td>2022-07-06</td>\n      <td>https://www.amazon.com.br/sat%C3%A9lite-ORBIT3...</td>\n      <td>AMAZON</td>\n      <td>M Z Photo</td>\n      <td>1595.09</td>\n      <td>0</td>\n      <td>0.00</td>\n      <td>0.00</td>\n      <td>B0752NQMP2</td>\n      <td>KODAK Pacote de satélite ORBIT360_4K-W...</td>\n      <td>Internacional</td>\n      <td>0</td>\n    </tr>\n    <tr>\n      <th>42</th>\n      <td>2022-07-06</td>\n      <td>https://www.amazon.com.br/Insta360-imperme%C3%...</td>\n      <td>AMAZON</td>\n      <td>Amazon</td>\n      <td>/gp/offer-listing/B08M3B9754/ref=dp_olp_unknow...</td>\n      <td>0</td>\n      <td>0.00</td>\n      <td>0.00</td>\n      <td>B08M3B9754</td>\n      <td>Insta360 Câmera de ação impermeável ON...</td>\n      <td>Internacional</td>\n      <td>0</td>\n    </tr>\n  </tbody>\n</table>\n</div>"
     },
     "execution_count": 86,
     "metadata": {},
     "output_type": "execute_result"
    }
   ],
   "source": [
    "First_Dataframe"
   ],
   "metadata": {
    "collapsed": false,
    "pycharm": {
     "name": "#%%\n"
    }
   }
  },
  {
   "cell_type": "code",
   "execution_count": null,
   "outputs": [],
   "source": [],
   "metadata": {
    "collapsed": false,
    "pycharm": {
     "name": "#%%\n"
    }
   }
  }
 ],
 "metadata": {
  "kernelspec": {
   "display_name": "Python 3",
   "language": "python",
   "name": "python3"
  },
  "language_info": {
   "codemirror_mode": {
    "name": "ipython",
    "version": 2
   },
   "file_extension": ".py",
   "mimetype": "text/x-python",
   "name": "python",
   "nbconvert_exporter": "python",
   "pygments_lexer": "ipython2",
   "version": "2.7.6"
  }
 },
 "nbformat": 4,
 "nbformat_minor": 0
}