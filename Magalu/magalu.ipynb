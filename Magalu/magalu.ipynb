{
 "cells": [
  {
   "cell_type": "code",
   "execution_count": 1,
   "metadata": {
    "pycharm": {
     "name": "#%%\n"
    }
   },
   "outputs": [],
   "source": [
    "#IMPORTANDO BIBLIOTECAS\n",
    "import requests\n",
    "import json\n",
    "import pandas as pd\n",
    "import sqlite3\n",
    "import time\n",
    "from tqdm import tqdm\n",
    "import datetime\n",
    "import os"
   ]
  },
  {
   "cell_type": "code",
   "execution_count": 2,
   "metadata": {
    "pycharm": {
     "name": "#%%\n"
    }
   },
   "outputs": [],
   "source": [
    "#GUARDANDO LISTAS\n",
    "Urls_Magalu = []\n",
    "Sellers_Magalu = []\n",
    "Country_Magalu = []\n",
    "Price_Magalu = []\n",
    "SKU_Magalu = []\n",
    "Title_Magalu = []\n",
    "Installment_Magalu_quantidade = []\n",
    "Installment_Magalu_valor_parcela = []\n",
    "Installment_Magalu_valor_total = []"
   ]
  },
  {
   "cell_type": "code",
   "execution_count": 3,
   "outputs": [],
   "source": [
    "import pymysql"
   ],
   "metadata": {
    "collapsed": false,
    "pycharm": {
     "name": "#%%\n"
    }
   }
  },
  {
   "cell_type": "code",
   "execution_count": 4,
   "metadata": {
    "pycharm": {
     "name": "#%%\n"
    }
   },
   "outputs": [],
   "source": [
    "def getting_n_creating_magazine_urls(brand):\n",
    "    connection = pymysql.connect(host='mysqlserver.cnzboqhfvndh.sa-east-1.rds.amazonaws.com',\n",
    "                                 user='admin',\n",
    "                                 password='turtle316712',\n",
    "                                 database='Products_Brands',\n",
    "                                 cursorclass=pymysql.cursors.DictCursor)\n",
    "\n",
    "    #Criando o caminho do Databae\n",
    "    c = connection.cursor()\n",
    "\n",
    "    #Criando a Query\n",
    "    Sql_query = \"SELECT * FROM Products WHERE Brand = '%s'\" % (brand)\n",
    "\n",
    "    #Conectando com o banco de dados\n",
    "    c.execute(Sql_query)\n",
    "    result = c.fetchall()\n",
    "    c.close()\n",
    "    connection.close()\n",
    "\n",
    "    #Passando todos o dataframe para Lowercase\n",
    "    df = pd.DataFrame()\n",
    "    df['Brand'] = [item['Brand'] for item in result]\n",
    "    df['Product_Name'] = [item['Name'] for item in result]\n",
    "\n",
    "    # Criando uma nova coluna no database com a formatação certa\n",
    "    df['Urls'] = df['Brand'] + \"+\" + df['Product_Name']\n",
    "\n",
    "    # Criando a nova coluna que são as urls de pesquisa\n",
    "    df['Urls_search'] = \"https://www.magazineluiza.com.br/_next/data/ZIpIaOx0q3rMCfEgx3tvz/busca/\" + \\\n",
    "    df['Brand'][0] + \"%2B\" + df['Product_Name'] + \".json?slug=busca&slug=\" + \\\n",
    "    df['Brand'][0] + \"%2B\" + df['Product_Name']\n",
    "\n",
    "    return df"
   ]
  },
  {
   "cell_type": "code",
   "execution_count": 5,
   "metadata": {
    "pycharm": {
     "name": "#%%\n"
    }
   },
   "outputs": [
    {
     "data": {
      "text/plain": "   Brand Product_Name               Urls  \\\n0  Wacom       CTL472       Wacom+CTL472   \n1  Wacom      CTL4100      Wacom+CTL4100   \n2  Wacom  CTL4100WLE0  Wacom+CTL4100WLE0   \n3  Wacom  CTL4100WLK0  Wacom+CTL4100WLK0   \n4  Wacom  CTL6100WLK0  Wacom+CTL6100WLK0   \n5  Wacom    DTC133W0A    Wacom+DTC133W0A   \n6  Wacom       PTH460       Wacom+PTH460   \n7  Wacom   DTK1660K0A   Wacom+DTK1660K0A   \n8  Wacom       PTH660       Wacom+PTH660   \n9  Wacom  CTL6100WLE0  Wacom+CTL6100WLE0   \n\n                                         Urls_search  \n0  https://www.magazineluiza.com.br/_next/data/ZI...  \n1  https://www.magazineluiza.com.br/_next/data/ZI...  \n2  https://www.magazineluiza.com.br/_next/data/ZI...  \n3  https://www.magazineluiza.com.br/_next/data/ZI...  \n4  https://www.magazineluiza.com.br/_next/data/ZI...  \n5  https://www.magazineluiza.com.br/_next/data/ZI...  \n6  https://www.magazineluiza.com.br/_next/data/ZI...  \n7  https://www.magazineluiza.com.br/_next/data/ZI...  \n8  https://www.magazineluiza.com.br/_next/data/ZI...  \n9  https://www.magazineluiza.com.br/_next/data/ZI...  ",
      "text/html": "<div>\n<style scoped>\n    .dataframe tbody tr th:only-of-type {\n        vertical-align: middle;\n    }\n\n    .dataframe tbody tr th {\n        vertical-align: top;\n    }\n\n    .dataframe thead th {\n        text-align: right;\n    }\n</style>\n<table border=\"1\" class=\"dataframe\">\n  <thead>\n    <tr style=\"text-align: right;\">\n      <th></th>\n      <th>Brand</th>\n      <th>Product_Name</th>\n      <th>Urls</th>\n      <th>Urls_search</th>\n    </tr>\n  </thead>\n  <tbody>\n    <tr>\n      <th>0</th>\n      <td>Wacom</td>\n      <td>CTL472</td>\n      <td>Wacom+CTL472</td>\n      <td>https://www.magazineluiza.com.br/_next/data/ZI...</td>\n    </tr>\n    <tr>\n      <th>1</th>\n      <td>Wacom</td>\n      <td>CTL4100</td>\n      <td>Wacom+CTL4100</td>\n      <td>https://www.magazineluiza.com.br/_next/data/ZI...</td>\n    </tr>\n    <tr>\n      <th>2</th>\n      <td>Wacom</td>\n      <td>CTL4100WLE0</td>\n      <td>Wacom+CTL4100WLE0</td>\n      <td>https://www.magazineluiza.com.br/_next/data/ZI...</td>\n    </tr>\n    <tr>\n      <th>3</th>\n      <td>Wacom</td>\n      <td>CTL4100WLK0</td>\n      <td>Wacom+CTL4100WLK0</td>\n      <td>https://www.magazineluiza.com.br/_next/data/ZI...</td>\n    </tr>\n    <tr>\n      <th>4</th>\n      <td>Wacom</td>\n      <td>CTL6100WLK0</td>\n      <td>Wacom+CTL6100WLK0</td>\n      <td>https://www.magazineluiza.com.br/_next/data/ZI...</td>\n    </tr>\n    <tr>\n      <th>5</th>\n      <td>Wacom</td>\n      <td>DTC133W0A</td>\n      <td>Wacom+DTC133W0A</td>\n      <td>https://www.magazineluiza.com.br/_next/data/ZI...</td>\n    </tr>\n    <tr>\n      <th>6</th>\n      <td>Wacom</td>\n      <td>PTH460</td>\n      <td>Wacom+PTH460</td>\n      <td>https://www.magazineluiza.com.br/_next/data/ZI...</td>\n    </tr>\n    <tr>\n      <th>7</th>\n      <td>Wacom</td>\n      <td>DTK1660K0A</td>\n      <td>Wacom+DTK1660K0A</td>\n      <td>https://www.magazineluiza.com.br/_next/data/ZI...</td>\n    </tr>\n    <tr>\n      <th>8</th>\n      <td>Wacom</td>\n      <td>PTH660</td>\n      <td>Wacom+PTH660</td>\n      <td>https://www.magazineluiza.com.br/_next/data/ZI...</td>\n    </tr>\n    <tr>\n      <th>9</th>\n      <td>Wacom</td>\n      <td>CTL6100WLE0</td>\n      <td>Wacom+CTL6100WLE0</td>\n      <td>https://www.magazineluiza.com.br/_next/data/ZI...</td>\n    </tr>\n  </tbody>\n</table>\n</div>"
     },
     "execution_count": 5,
     "metadata": {},
     "output_type": "execute_result"
    }
   ],
   "source": [
    "Df_products_raw = getting_n_creating_magazine_urls(\"Wacom\")\n",
    "Df_products_raw"
   ]
  },
  {
   "cell_type": "code",
   "execution_count": 33,
   "outputs": [
    {
     "data": {
      "text/plain": "'https://www.magazineluiza.com.br/_next/data/ZIpIaOx0q3rMCfEgx3tvz/busca/Boya%2Bmc2.json?slug=busca&slug=Boya%2Bmc2'"
     },
     "execution_count": 33,
     "metadata": {},
     "output_type": "execute_result"
    }
   ],
   "source": [
    "Df_products_raw['Urls_search'][0]"
   ],
   "metadata": {
    "collapsed": false,
    "pycharm": {
     "name": "#%%\n"
    }
   }
  },
  {
   "cell_type": "code",
   "execution_count": 5,
   "outputs": [],
   "source": [
    "urls = 'https://www.magazineluiza.com.br/_next/data/ZIpIaOx0q3rMCfEgx3tvz/busca/toshiba%2Bhd%2Bexterno%2Bcanvio%2Bbasics%2B1tb.json?path1=toshiba%2Bhd%2Bexterno%2Bcanvio%2Bbasics%2B1tb','https://www.magazineluiza.com.br/_next/data/ZIpIaOx0q3rMCfEgx3tvz/busca/hd%2Bexterno%2Bseagate%2Bexpansion%2B1tb.json?path1=hd%2Bexterno%2Bseagate%2Bexpansion%2B1tb'"
   ],
   "metadata": {
    "collapsed": false,
    "pycharm": {
     "name": "#%%\n"
    }
   }
  },
  {
   "cell_type": "code",
   "execution_count": null,
   "outputs": [],
   "source": [
    "Toshiba HD externo Canvio Basics\n",
    "HD Externo Seagate Expansion"
   ],
   "metadata": {
    "collapsed": false,
    "pycharm": {
     "name": "#%%\n"
    }
   }
  },
  {
   "cell_type": "code",
   "execution_count": null,
   "outputs": [],
   "source": [],
   "metadata": {
    "collapsed": false,
    "pycharm": {
     "name": "#%%\n"
    }
   }
  },
  {
   "cell_type": "code",
   "execution_count": 6,
   "metadata": {
    "pycharm": {
     "name": "#%%\n"
    }
   },
   "outputs": [],
   "source": [
    "headers_magalu = {\"user-agent\":\"Mozilla/5.0 (Windows NT 10.0; Win64; x64) AppleWebKit/537.36 (KHTML, like Gecko) Chrome/100.0.4896.127 Safari/537.36 OPR/86.0.4363.59\"}"
   ]
  },
  {
   "cell_type": "code",
   "execution_count": 7,
   "outputs": [
    {
     "ename": "InvalidSchema",
     "evalue": "No connection adapters were found for \"('https://www.magazineluiza.com.br/_next/data/ZIpIaOx0q3rMCfEgx3tvz/busca/Godox%2Bsk300.json?slug=busca&slug=Godox%2Bsk300', 'https://www.magazineluiza.com.br/_next/data/ZIpIaOx0q3rMCfEgx3tvz/busca/YN600EXRT.json?slug=busca&slug=YN600EXRT')\"",
     "output_type": "error",
     "traceback": [
      "\u001B[1;31m---------------------------------------------------------------------------\u001B[0m",
      "\u001B[1;31mInvalidSchema\u001B[0m                             Traceback (most recent call last)",
      "Input \u001B[1;32mIn [7]\u001B[0m, in \u001B[0;36m<cell line: 1>\u001B[1;34m()\u001B[0m\n\u001B[1;32m----> 1\u001B[0m response \u001B[38;5;241m=\u001B[39m \u001B[43mrequests\u001B[49m\u001B[38;5;241;43m.\u001B[39;49m\u001B[43mget\u001B[49m\u001B[43m(\u001B[49m\u001B[43murl\u001B[49m\u001B[43m,\u001B[49m\u001B[43m \u001B[49m\u001B[43mheaders\u001B[49m\u001B[38;5;241;43m=\u001B[39;49m\u001B[43mheaders_magalu\u001B[49m\u001B[43m)\u001B[49m\n\u001B[0;32m      2\u001B[0m texto_json \u001B[38;5;241m=\u001B[39m response\u001B[38;5;241m.\u001B[39mjson()\n",
      "File \u001B[1;32m~\\AppData\\Local\\Programs\\Python\\Python310\\lib\\site-packages\\requests\\api.py:75\u001B[0m, in \u001B[0;36mget\u001B[1;34m(url, params, **kwargs)\u001B[0m\n\u001B[0;32m     64\u001B[0m \u001B[38;5;28;01mdef\u001B[39;00m \u001B[38;5;21mget\u001B[39m(url, params\u001B[38;5;241m=\u001B[39m\u001B[38;5;28;01mNone\u001B[39;00m, \u001B[38;5;241m*\u001B[39m\u001B[38;5;241m*\u001B[39mkwargs):\n\u001B[0;32m     65\u001B[0m     \u001B[38;5;124mr\u001B[39m\u001B[38;5;124;03m\"\"\"Sends a GET request.\u001B[39;00m\n\u001B[0;32m     66\u001B[0m \n\u001B[0;32m     67\u001B[0m \u001B[38;5;124;03m    :param url: URL for the new :class:`Request` object.\u001B[39;00m\n\u001B[1;32m   (...)\u001B[0m\n\u001B[0;32m     72\u001B[0m \u001B[38;5;124;03m    :rtype: requests.Response\u001B[39;00m\n\u001B[0;32m     73\u001B[0m \u001B[38;5;124;03m    \"\"\"\u001B[39;00m\n\u001B[1;32m---> 75\u001B[0m     \u001B[38;5;28;01mreturn\u001B[39;00m request(\u001B[38;5;124m'\u001B[39m\u001B[38;5;124mget\u001B[39m\u001B[38;5;124m'\u001B[39m, url, params\u001B[38;5;241m=\u001B[39mparams, \u001B[38;5;241m*\u001B[39m\u001B[38;5;241m*\u001B[39mkwargs)\n",
      "File \u001B[1;32m~\\AppData\\Local\\Programs\\Python\\Python310\\lib\\site-packages\\requests\\api.py:61\u001B[0m, in \u001B[0;36mrequest\u001B[1;34m(method, url, **kwargs)\u001B[0m\n\u001B[0;32m     57\u001B[0m \u001B[38;5;66;03m# By using the 'with' statement we are sure the session is closed, thus we\u001B[39;00m\n\u001B[0;32m     58\u001B[0m \u001B[38;5;66;03m# avoid leaving sockets open which can trigger a ResourceWarning in some\u001B[39;00m\n\u001B[0;32m     59\u001B[0m \u001B[38;5;66;03m# cases, and look like a memory leak in others.\u001B[39;00m\n\u001B[0;32m     60\u001B[0m \u001B[38;5;28;01mwith\u001B[39;00m sessions\u001B[38;5;241m.\u001B[39mSession() \u001B[38;5;28;01mas\u001B[39;00m session:\n\u001B[1;32m---> 61\u001B[0m     \u001B[38;5;28;01mreturn\u001B[39;00m session\u001B[38;5;241m.\u001B[39mrequest(method\u001B[38;5;241m=\u001B[39mmethod, url\u001B[38;5;241m=\u001B[39murl, \u001B[38;5;241m*\u001B[39m\u001B[38;5;241m*\u001B[39mkwargs)\n",
      "File \u001B[1;32m~\\AppData\\Local\\Programs\\Python\\Python310\\lib\\site-packages\\requests\\sessions.py:529\u001B[0m, in \u001B[0;36mSession.request\u001B[1;34m(self, method, url, params, data, headers, cookies, files, auth, timeout, allow_redirects, proxies, hooks, stream, verify, cert, json)\u001B[0m\n\u001B[0;32m    524\u001B[0m send_kwargs \u001B[38;5;241m=\u001B[39m {\n\u001B[0;32m    525\u001B[0m     \u001B[38;5;124m'\u001B[39m\u001B[38;5;124mtimeout\u001B[39m\u001B[38;5;124m'\u001B[39m: timeout,\n\u001B[0;32m    526\u001B[0m     \u001B[38;5;124m'\u001B[39m\u001B[38;5;124mallow_redirects\u001B[39m\u001B[38;5;124m'\u001B[39m: allow_redirects,\n\u001B[0;32m    527\u001B[0m }\n\u001B[0;32m    528\u001B[0m send_kwargs\u001B[38;5;241m.\u001B[39mupdate(settings)\n\u001B[1;32m--> 529\u001B[0m resp \u001B[38;5;241m=\u001B[39m \u001B[38;5;28mself\u001B[39m\u001B[38;5;241m.\u001B[39msend(prep, \u001B[38;5;241m*\u001B[39m\u001B[38;5;241m*\u001B[39msend_kwargs)\n\u001B[0;32m    531\u001B[0m \u001B[38;5;28;01mreturn\u001B[39;00m resp\n",
      "File \u001B[1;32m~\\AppData\\Local\\Programs\\Python\\Python310\\lib\\site-packages\\requests\\sessions.py:639\u001B[0m, in \u001B[0;36mSession.send\u001B[1;34m(self, request, **kwargs)\u001B[0m\n\u001B[0;32m    636\u001B[0m hooks \u001B[38;5;241m=\u001B[39m request\u001B[38;5;241m.\u001B[39mhooks\n\u001B[0;32m    638\u001B[0m \u001B[38;5;66;03m# Get the appropriate adapter to use\u001B[39;00m\n\u001B[1;32m--> 639\u001B[0m adapter \u001B[38;5;241m=\u001B[39m \u001B[38;5;28;43mself\u001B[39;49m\u001B[38;5;241;43m.\u001B[39;49m\u001B[43mget_adapter\u001B[49m\u001B[43m(\u001B[49m\u001B[43murl\u001B[49m\u001B[38;5;241;43m=\u001B[39;49m\u001B[43mrequest\u001B[49m\u001B[38;5;241;43m.\u001B[39;49m\u001B[43murl\u001B[49m\u001B[43m)\u001B[49m\n\u001B[0;32m    641\u001B[0m \u001B[38;5;66;03m# Start time (approximately) of the request\u001B[39;00m\n\u001B[0;32m    642\u001B[0m start \u001B[38;5;241m=\u001B[39m preferred_clock()\n",
      "File \u001B[1;32m~\\AppData\\Local\\Programs\\Python\\Python310\\lib\\site-packages\\requests\\sessions.py:732\u001B[0m, in \u001B[0;36mSession.get_adapter\u001B[1;34m(self, url)\u001B[0m\n\u001B[0;32m    729\u001B[0m         \u001B[38;5;28;01mreturn\u001B[39;00m adapter\n\u001B[0;32m    731\u001B[0m \u001B[38;5;66;03m# Nothing matches :-/\u001B[39;00m\n\u001B[1;32m--> 732\u001B[0m \u001B[38;5;28;01mraise\u001B[39;00m InvalidSchema(\u001B[38;5;124m\"\u001B[39m\u001B[38;5;124mNo connection adapters were found for \u001B[39m\u001B[38;5;132;01m{!r}\u001B[39;00m\u001B[38;5;124m\"\u001B[39m\u001B[38;5;241m.\u001B[39mformat(url))\n",
      "\u001B[1;31mInvalidSchema\u001B[0m: No connection adapters were found for \"('https://www.magazineluiza.com.br/_next/data/ZIpIaOx0q3rMCfEgx3tvz/busca/Godox%2Bsk300.json?slug=busca&slug=Godox%2Bsk300', 'https://www.magazineluiza.com.br/_next/data/ZIpIaOx0q3rMCfEgx3tvz/busca/YN600EXRT.json?slug=busca&slug=YN600EXRT')\""
     ]
    }
   ],
   "source": [
    "response = requests.get(url, headers=headers_magalu)\n",
    "texto_json = response.json()"
   ],
   "metadata": {
    "collapsed": false,
    "pycharm": {
     "name": "#%%\n"
    }
   }
  },
  {
   "cell_type": "code",
   "execution_count": null,
   "outputs": [],
   "source": [
    "texto_json['pageProps']['data']['search']['products']"
   ],
   "metadata": {
    "collapsed": false,
    "pycharm": {
     "name": "#%%\n"
    }
   }
  },
  {
   "cell_type": "code",
   "execution_count": 7,
   "metadata": {
    "pycharm": {
     "name": "#%%\n"
    }
   },
   "outputs": [],
   "source": [
    "def get_attributes(url):\n",
    "    time.sleep(20)\n",
    "\n",
    "    response = requests.get(url, headers=headers_magalu)\n",
    "    text_json = response.json()\n",
    "\n",
    "    # URL\n",
    "    id_url = 0\n",
    "    for i in text_json['pageProps']['data']['search']['products']:\n",
    "        try:\n",
    "            Urls_Magalu.append(text_json['pageProps']['data']['search']['products'][id_url]['url'])\n",
    "        except:\n",
    "            Urls_Magalu.append(\"ERRO\")\n",
    "\n",
    "        id_url = id_url + 1\n",
    "\n",
    "    # ID\n",
    "    id_number = 0\n",
    "    for i in text_json['pageProps']['data']['search']['products']:\n",
    "        try:\n",
    "            SKU_Magalu.append(text_json['pageProps']['data']['search']['products'][id_number]['variationId'])\n",
    "        except:\n",
    "            SKU_Magalu.append(\"ERRO\")\n",
    "\n",
    "        id_number = id_number + 1\n",
    "\n",
    "    # SELLER\n",
    "    id_seller = 0\n",
    "    for i in text_json['pageProps']['data']['search']['products']:\n",
    "        try:\n",
    "            Sellers_Magalu.append(\n",
    "                text_json['pageProps']['data']['search']['products'][id_seller]['seller']['description'])\n",
    "        except:\n",
    "            Sellers_Magalu.append(\"ERRO\")\n",
    "\n",
    "        id_seller = id_seller + 1\n",
    "\n",
    "    # COUNTRY\n",
    "    id_country = 0\n",
    "    for i in text_json['pageProps']['data']['search']['products']:\n",
    "        try:\n",
    "            Country_Magalu.append(\n",
    "                text_json['pageProps']['data']['search']['products'][id_country]['seller']['details']['address'][\n",
    "                    'country'])\n",
    "        except:\n",
    "            Country_Magalu.append(\"ERRO\")\n",
    "\n",
    "        id_country = id_country + 1\n",
    "\n",
    "    # PREÇO\n",
    "    id_price = 0\n",
    "    for i in text_json['pageProps']['data']['search']['products']:\n",
    "        try:\n",
    "            Price_Magalu.append(text_json['pageProps']['data']['search']['products'][id_price]['price']['bestPrice'])\n",
    "        except:\n",
    "            Price_Magalu.append(\"ERRO\")\n",
    "\n",
    "        id_price = id_price + 1\n",
    "\n",
    "    # TITULO\n",
    "    id_title = 0\n",
    "    for i in text_json['pageProps']['data']['search']['products']:\n",
    "        try:\n",
    "            Title_Magalu.append(text_json['pageProps']['data']['search']['products'][id_title]['title'])\n",
    "        except:\n",
    "            Title_Magalu.append(\"ERRO\")\n",
    "\n",
    "        id_title = id_title + 1\n",
    "\n",
    "    # INSTALLMENT QUANTIDADE\n",
    "    id_installment_quantidade = 0\n",
    "    for i in text_json['pageProps']['data']['search']['products']:\n",
    "        try:\n",
    "            Installment_Magalu_quantidade.append(\n",
    "                text_json['pageProps']['data']['search']['products'][id_installment_quantidade]['installment'][\n",
    "                    'quantity'])\n",
    "        except:\n",
    "            Installment_Magalu_quantidade.append(\"ERRO\")\n",
    "\n",
    "        id_installment_quantidade = id_installment_quantidade + 1\n",
    "\n",
    "    # INSTALLMENT VALOR POR PARCELA\n",
    "    id_installment_valor_parcela = 0\n",
    "    for i in text_json['pageProps']['data']['search']['products']:\n",
    "        try:\n",
    "            Installment_Magalu_valor_parcela.append(\n",
    "                text_json['pageProps']['data']['search']['products'][id_installment_valor_parcela]['installment'][\n",
    "                    'amount'])\n",
    "        except:\n",
    "            Installment_Magalu_valor_parcela.append(\"ERRO\")\n",
    "\n",
    "        id_installment_valor_parcela = id_installment_valor_parcela + 1\n",
    "\n",
    "    # INSTALLMENT VALOR TOTAL\n",
    "    id_installment_valor_total = 0\n",
    "    for i in text_json['pageProps']['data']['search']['products']:\n",
    "        try:\n",
    "            Installment_Magalu_valor_total.append(\n",
    "                text_json['pageProps']['data']['search']['products'][id_installment_valor_total]['installment'][\n",
    "                    'totalAmount'])\n",
    "        except:\n",
    "            Installment_Magalu_valor_total.append(\"ERRO\")\n",
    "\n",
    "        id_installment_valor_total = id_installment_valor_total + 1"
   ]
  },
  {
   "cell_type": "code",
   "execution_count": 8,
   "metadata": {
    "pycharm": {
     "name": "#%%\n"
    }
   },
   "outputs": [
    {
     "name": "stderr",
     "output_type": "stream",
     "text": [
      "100%|██████████| 10/10 [03:33<00:00, 21.32s/it]\n"
     ]
    }
   ],
   "source": [
    "for url in tqdm(Df_products_raw['Urls_search']):\n",
    "    get_attributes(url)"
   ]
  },
  {
   "cell_type": "code",
   "execution_count": 43,
   "outputs": [],
   "source": [
    "get_attributes(url)"
   ],
   "metadata": {
    "collapsed": false,
    "pycharm": {
     "name": "#%%\n"
    }
   }
  },
  {
   "cell_type": "code",
   "execution_count": 34,
   "outputs": [],
   "source": [
    "Urls = ['https://www.magazineluiza.com.br/_next/data/cpGkZe7hwv0NoZfmUVN-U/busca/dji%2Bmavic%2Bmini%2B2%2Bfly%2Bcombo.json?slug=busca&slug=dji%2Bmavic%2Bmini%2B2%2Bfly%2Bcombo',\n",
    "        'https://www.magazineluiza.com.br/_next/data/cpGkZe7hwv0NoZfmUVN-U/busca/dji%2Bmini%2Bse%2Bfly%2Bmore%2Bcombo.json?slug=busca&slug=dji%2Bmini%2Bse%2Bfly%2Bmore%2Bcombo']"
   ],
   "metadata": {
    "collapsed": false,
    "pycharm": {
     "name": "#%%\n"
    }
   }
  },
  {
   "cell_type": "code",
   "execution_count": 35,
   "outputs": [
    {
     "name": "stderr",
     "output_type": "stream",
     "text": [
      "100%|██████████| 2/2 [00:41<00:00, 20.72s/it]\n"
     ]
    }
   ],
   "source": [
    "for url in tqdm(Urls):\n",
    "    get_attributes(url)"
   ],
   "metadata": {
    "collapsed": false,
    "pycharm": {
     "name": "#%%\n"
    }
   }
  },
  {
   "cell_type": "code",
   "execution_count": 9,
   "metadata": {
    "pycharm": {
     "name": "#%%\n"
    }
   },
   "outputs": [],
   "source": [
    "def creating_dataframe(urls, sellers, price, installment, parcel, installment_total, sku, title, brand):\n",
    "    Dataframe = pd.DataFrame()\n",
    "\n",
    "    Hoje = pd.to_datetime('today', errors='ignore').date()\n",
    "\n",
    "    Dataframe['Urls_2'] = urls\n",
    "\n",
    "    Dataframe['DATE'] = Hoje\n",
    "\n",
    "    Dataframe['URL'] = \"https://www.magazineluiza.com.br/\" + Dataframe['Urls_2']\n",
    "    Dataframe['MARKETPLACE'] = 'MAGAZINE LUIZA'\n",
    "    Dataframe['SELLER'] = sellers\n",
    "\n",
    "    Dataframe['PRICE'] = price\n",
    "    Dataframe['PRICE'] = Dataframe['PRICE'].astype('float')\n",
    "\n",
    "\n",
    "    Dataframe['INSTALLMENT'] = installment\n",
    "\n",
    "    Dataframe['PARCEL'] = parcel\n",
    "\n",
    "\n",
    "    Dataframe['INSTALLMENT_PAYMENT'] = installment_total\n",
    "    #Dataframe['INSTALLMENT_PAYMENT'] = Dataframe['INSTALLMENT_PAYMENT'].astype('float')\n",
    "\n",
    "    Dataframe['ID'] = sku\n",
    "    Dataframe['PRODUCT'] = title\n",
    "\n",
    "    if brand == \"GoPro\":\n",
    "        Dataframe = Dataframe[Dataframe['PRICE'] > 1000]\n",
    "    elif brand == 'Motorola':\n",
    "        Dataframe = Dataframe[Dataframe['PRICE'] > 100]\n",
    "    elif brand == 'Wacom':\n",
    "        Dataframe = Dataframe[Dataframe['PRICE'] > 100]\n",
    "\n",
    "    #Colocando na ordem correta\n",
    "    Dataframe = Dataframe[['DATE', 'URL', 'MARKETPLACE', 'SELLER', 'PRICE', 'PARCEL', 'INSTALLMENT', 'INSTALLMENT_PAYMENT', 'ID', 'PRODUCT']]\n",
    "\n",
    "    Dataframe['INSTALLMENT'] = Dataframe['INSTALLMENT'].astype('float')\n",
    "    Dataframe['PARCEL'] = Dataframe['PARCEL'].astype('int')\n",
    "    Dataframe['INSTALLMENT_PAYMENT'] = Dataframe['INSTALLMENT_PAYMENT'].astype('float')\n",
    "\n",
    "    return Dataframe"
   ]
  },
  {
   "cell_type": "code",
   "execution_count": 10,
   "metadata": {
    "pycharm": {
     "name": "#%%\n"
    }
   },
   "outputs": [],
   "source": [
    "dataset_magalu = creating_dataframe(Urls_Magalu, Sellers_Magalu, Price_Magalu, Installment_Magalu_valor_parcela, Installment_Magalu_quantidade, Installment_Magalu_valor_total, SKU_Magalu, Title_Magalu, 'Wacom')"
   ]
  },
  {
   "cell_type": "code",
   "execution_count": 11,
   "metadata": {
    "pycharm": {
     "name": "#%%\n"
    }
   },
   "outputs": [
    {
     "data": {
      "text/plain": "          DATE                                                URL  \\\n0   2022-08-01  https://www.magazineluiza.com.br/mesa-digitali...   \n1   2022-08-01  https://www.magazineluiza.com.br/mesa-digitali...   \n2   2022-08-01  https://www.magazineluiza.com.br/mesa-digitali...   \n3   2022-08-01  https://www.magazineluiza.com.br/mesa-digitali...   \n4   2022-08-01  https://www.magazineluiza.com.br/mesa-digitali...   \n..         ...                                                ...   \n92  2022-08-01  https://www.magazineluiza.com.br/mesa-digitali...   \n93  2022-08-01  https://www.magazineluiza.com.br/caneta-wacom-...   \n94  2022-08-01  https://www.magazineluiza.com.br/mesa-digitali...   \n95  2022-08-01  https://www.magazineluiza.com.br/mesa-digitali...   \n96  2022-08-01  https://www.magazineluiza.com.br/mesa-digitali...   \n\n       MARKETPLACE                   SELLER    PRICE  PARCEL  INSTALLMENT  \\\n0   MAGAZINE LUIZA         BRDF Informática   489.00       9        54.33   \n1   MAGAZINE LUIZA                Move Tech   357.93       6        61.50   \n2   MAGAZINE LUIZA               Info Store   387.95       7        57.14   \n3   MAGAZINE LUIZA  Universal Informática 5   359.00       6        59.83   \n4   MAGAZINE LUIZA  Casa Da Informática Phb   499.90       9        55.54   \n..             ...                      ...      ...     ...          ...   \n92  MAGAZINE LUIZA           W-Tech Imports  3531.21      10       379.70   \n93  MAGAZINE LUIZA                   e-spot   949.90      10        94.99   \n94  MAGAZINE LUIZA                   e-spot  1659.90      10       165.99   \n95  MAGAZINE LUIZA                  Inpower  1475.10      10       163.90   \n96  MAGAZINE LUIZA       Miranda Computação  1970.27      10       207.40   \n\n    INSTALLMENT_PAYMENT          ID  \\\n0                489.00  gda617467j   \n1                369.00  hg2dj8ja7b   \n2                399.95  gk38jg1077   \n3                359.00  efjk7g95dg   \n4                499.90  fbg576ek2e   \n..                  ...         ...   \n92              3797.00  ba17h1c372   \n93               949.90  gfak2efjc9   \n94              1659.90  khg7205477   \n95              1639.00  eah018g7h7   \n96              2073.97  ha211gfj8c   \n\n                                              PRODUCT  \n0                    Mesa Digitalizadora Wacom CTL472  \n1      Mesa Digitalizadora Wacom Pequena - One CTL472  \n2             Mesa Digitalizadora One By Wacom CTL472  \n3   Mesa Digitalizadora One by Wacom CTL472 Pequen...  \n4      Mesa Digitalizadora Wacom Pequena - One CTL472  \n..                                                ...  \n92  Mesa Digitalizadora Wacom Intuos Pro Media PTH660  \n93  Caneta Wacom Ballpoint p/ Intuos Pro (PTH660/8...  \n94  Mesa Digitalizadora Wacom Intuos Bluetooth Méd...  \n95  Mesa Digitalizadora Wacom Intuos M Bluetooth P...  \n96  Mesa Digitalizadora Intuos Bluetooth, Média, V...  \n\n[93 rows x 10 columns]",
      "text/html": "<div>\n<style scoped>\n    .dataframe tbody tr th:only-of-type {\n        vertical-align: middle;\n    }\n\n    .dataframe tbody tr th {\n        vertical-align: top;\n    }\n\n    .dataframe thead th {\n        text-align: right;\n    }\n</style>\n<table border=\"1\" class=\"dataframe\">\n  <thead>\n    <tr style=\"text-align: right;\">\n      <th></th>\n      <th>DATE</th>\n      <th>URL</th>\n      <th>MARKETPLACE</th>\n      <th>SELLER</th>\n      <th>PRICE</th>\n      <th>PARCEL</th>\n      <th>INSTALLMENT</th>\n      <th>INSTALLMENT_PAYMENT</th>\n      <th>ID</th>\n      <th>PRODUCT</th>\n    </tr>\n  </thead>\n  <tbody>\n    <tr>\n      <th>0</th>\n      <td>2022-08-01</td>\n      <td>https://www.magazineluiza.com.br/mesa-digitali...</td>\n      <td>MAGAZINE LUIZA</td>\n      <td>BRDF Informática</td>\n      <td>489.00</td>\n      <td>9</td>\n      <td>54.33</td>\n      <td>489.00</td>\n      <td>gda617467j</td>\n      <td>Mesa Digitalizadora Wacom CTL472</td>\n    </tr>\n    <tr>\n      <th>1</th>\n      <td>2022-08-01</td>\n      <td>https://www.magazineluiza.com.br/mesa-digitali...</td>\n      <td>MAGAZINE LUIZA</td>\n      <td>Move Tech</td>\n      <td>357.93</td>\n      <td>6</td>\n      <td>61.50</td>\n      <td>369.00</td>\n      <td>hg2dj8ja7b</td>\n      <td>Mesa Digitalizadora Wacom Pequena - One CTL472</td>\n    </tr>\n    <tr>\n      <th>2</th>\n      <td>2022-08-01</td>\n      <td>https://www.magazineluiza.com.br/mesa-digitali...</td>\n      <td>MAGAZINE LUIZA</td>\n      <td>Info Store</td>\n      <td>387.95</td>\n      <td>7</td>\n      <td>57.14</td>\n      <td>399.95</td>\n      <td>gk38jg1077</td>\n      <td>Mesa Digitalizadora One By Wacom CTL472</td>\n    </tr>\n    <tr>\n      <th>3</th>\n      <td>2022-08-01</td>\n      <td>https://www.magazineluiza.com.br/mesa-digitali...</td>\n      <td>MAGAZINE LUIZA</td>\n      <td>Universal Informática 5</td>\n      <td>359.00</td>\n      <td>6</td>\n      <td>59.83</td>\n      <td>359.00</td>\n      <td>efjk7g95dg</td>\n      <td>Mesa Digitalizadora One by Wacom CTL472 Pequen...</td>\n    </tr>\n    <tr>\n      <th>4</th>\n      <td>2022-08-01</td>\n      <td>https://www.magazineluiza.com.br/mesa-digitali...</td>\n      <td>MAGAZINE LUIZA</td>\n      <td>Casa Da Informática Phb</td>\n      <td>499.90</td>\n      <td>9</td>\n      <td>55.54</td>\n      <td>499.90</td>\n      <td>fbg576ek2e</td>\n      <td>Mesa Digitalizadora Wacom Pequena - One CTL472</td>\n    </tr>\n    <tr>\n      <th>...</th>\n      <td>...</td>\n      <td>...</td>\n      <td>...</td>\n      <td>...</td>\n      <td>...</td>\n      <td>...</td>\n      <td>...</td>\n      <td>...</td>\n      <td>...</td>\n      <td>...</td>\n    </tr>\n    <tr>\n      <th>92</th>\n      <td>2022-08-01</td>\n      <td>https://www.magazineluiza.com.br/mesa-digitali...</td>\n      <td>MAGAZINE LUIZA</td>\n      <td>W-Tech Imports</td>\n      <td>3531.21</td>\n      <td>10</td>\n      <td>379.70</td>\n      <td>3797.00</td>\n      <td>ba17h1c372</td>\n      <td>Mesa Digitalizadora Wacom Intuos Pro Media PTH660</td>\n    </tr>\n    <tr>\n      <th>93</th>\n      <td>2022-08-01</td>\n      <td>https://www.magazineluiza.com.br/caneta-wacom-...</td>\n      <td>MAGAZINE LUIZA</td>\n      <td>e-spot</td>\n      <td>949.90</td>\n      <td>10</td>\n      <td>94.99</td>\n      <td>949.90</td>\n      <td>gfak2efjc9</td>\n      <td>Caneta Wacom Ballpoint p/ Intuos Pro (PTH660/8...</td>\n    </tr>\n    <tr>\n      <th>94</th>\n      <td>2022-08-01</td>\n      <td>https://www.magazineluiza.com.br/mesa-digitali...</td>\n      <td>MAGAZINE LUIZA</td>\n      <td>e-spot</td>\n      <td>1659.90</td>\n      <td>10</td>\n      <td>165.99</td>\n      <td>1659.90</td>\n      <td>khg7205477</td>\n      <td>Mesa Digitalizadora Wacom Intuos Bluetooth Méd...</td>\n    </tr>\n    <tr>\n      <th>95</th>\n      <td>2022-08-01</td>\n      <td>https://www.magazineluiza.com.br/mesa-digitali...</td>\n      <td>MAGAZINE LUIZA</td>\n      <td>Inpower</td>\n      <td>1475.10</td>\n      <td>10</td>\n      <td>163.90</td>\n      <td>1639.00</td>\n      <td>eah018g7h7</td>\n      <td>Mesa Digitalizadora Wacom Intuos M Bluetooth P...</td>\n    </tr>\n    <tr>\n      <th>96</th>\n      <td>2022-08-01</td>\n      <td>https://www.magazineluiza.com.br/mesa-digitali...</td>\n      <td>MAGAZINE LUIZA</td>\n      <td>Miranda Computação</td>\n      <td>1970.27</td>\n      <td>10</td>\n      <td>207.40</td>\n      <td>2073.97</td>\n      <td>ha211gfj8c</td>\n      <td>Mesa Digitalizadora Intuos Bluetooth, Média, V...</td>\n    </tr>\n  </tbody>\n</table>\n<p>93 rows × 10 columns</p>\n</div>"
     },
     "execution_count": 11,
     "metadata": {},
     "output_type": "execute_result"
    }
   ],
   "source": [
    "dataset_magalu"
   ]
  },
  {
   "cell_type": "code",
   "execution_count": 12,
   "outputs": [],
   "source": [
    "dataset_magalu.to_excel(r\"C:\\Users\\pedro\\Documents\\Turte Brand Protection\\Turtle_Software_Artemis\\Data\\Brands_Downloads\\Wacom\\Magazine_Wacom.xlsx\", index=False)"
   ],
   "metadata": {
    "collapsed": false,
    "pycharm": {
     "name": "#%%\n"
    }
   }
  },
  {
   "cell_type": "markdown",
   "source": [],
   "metadata": {
    "collapsed": false,
    "pycharm": {
     "name": "#%% md\n"
    }
   }
  },
  {
   "cell_type": "code",
   "execution_count": 58,
   "outputs": [
    {
     "data": {
      "text/plain": "Empty DataFrame\nColumns: [DATE, URL, MARKETPLACE, SELLER, PRICE, PARCEL, INSTALLMENT, INSTALLMENT_PAYMENT, ID, PRODUCT]\nIndex: []",
      "text/html": "<div>\n<style scoped>\n    .dataframe tbody tr th:only-of-type {\n        vertical-align: middle;\n    }\n\n    .dataframe tbody tr th {\n        vertical-align: top;\n    }\n\n    .dataframe thead th {\n        text-align: right;\n    }\n</style>\n<table border=\"1\" class=\"dataframe\">\n  <thead>\n    <tr style=\"text-align: right;\">\n      <th></th>\n      <th>DATE</th>\n      <th>URL</th>\n      <th>MARKETPLACE</th>\n      <th>SELLER</th>\n      <th>PRICE</th>\n      <th>PARCEL</th>\n      <th>INSTALLMENT</th>\n      <th>INSTALLMENT_PAYMENT</th>\n      <th>ID</th>\n      <th>PRODUCT</th>\n    </tr>\n  </thead>\n  <tbody>\n  </tbody>\n</table>\n</div>"
     },
     "execution_count": 58,
     "metadata": {},
     "output_type": "execute_result"
    }
   ],
   "source": [
    "dataset_magalu[dataset_magalu['INSTALLMENT'] == 'ERRO']"
   ],
   "metadata": {
    "collapsed": false,
    "pycharm": {
     "name": "#%%\n"
    }
   }
  },
  {
   "cell_type": "code",
   "execution_count": 71,
   "outputs": [
    {
     "data": {
      "text/plain": "DATE                    object\nURL                     object\nMARKETPLACE             object\nSELLER                  object\nPRICE                  float64\nPARCEL                   int32\nINSTALLMENT            float64\nINSTALLMENT_PAYMENT    float64\nID                      object\nPRODUCT                 object\ndtype: object"
     },
     "execution_count": 71,
     "metadata": {},
     "output_type": "execute_result"
    }
   ],
   "source": [
    "dataset_magalu.dtypes"
   ],
   "metadata": {
    "collapsed": false,
    "pycharm": {
     "name": "#%%\n"
    }
   }
  },
  {
   "cell_type": "code",
   "execution_count": 40,
   "metadata": {
    "pycharm": {
     "name": "#%%\n"
    }
   },
   "outputs": [
    {
     "data": {
      "text/plain": "'C:\\\\Users\\\\pedro\\\\Documents\\\\Turte Brand Protection\\\\Turtle_Thinker_Alpha_0.1\\\\Testes_Spiders'"
     },
     "execution_count": 40,
     "metadata": {},
     "output_type": "execute_result"
    }
   ],
   "source": [
    "current = os.getcwd()\n",
    "current"
   ]
  },
  {
   "cell_type": "code",
   "execution_count": 41,
   "metadata": {
    "pycharm": {
     "name": "#%%\n"
    }
   },
   "outputs": [],
   "source": [
    "path = current + '\\Teste_Magalu.xlsx'"
   ]
  },
  {
   "cell_type": "code",
   "execution_count": 21,
   "metadata": {
    "pycharm": {
     "name": "#%%\n"
    }
   },
   "outputs": [
    {
     "data": {
      "text/plain": [
       "'c:\\\\Users\\\\pedro\\\\Documents\\\\Turte Brand Protection\\\\Turtle_Thinker_Alpha_0.1\\\\Testes_Spiders\\\\Teste_Magalu.xlsx'"
      ]
     },
     "execution_count": 21,
     "metadata": {},
     "output_type": "execute_result"
    }
   ],
   "source": [
    "path"
   ]
  },
  {
   "cell_type": "code",
   "execution_count": 73,
   "metadata": {
    "pycharm": {
     "name": "#%%\n"
    }
   },
   "outputs": [],
   "source": [
    "dataset_magalu.to_excel(path, index=False)"
   ]
  },
  {
   "cell_type": "code",
   "execution_count": 16,
   "metadata": {
    "pycharm": {
     "name": "#%%\n"
    }
   },
   "outputs": [
    {
     "data": {
      "text/plain": [
       "DATE                    object\n",
       "URL                     object\n",
       "MARKETPLACE             object\n",
       "SELLER                  object\n",
       "PRICE                  float64\n",
       "PARCEL                  object\n",
       "INSTALLMENT             object\n",
       "INSTALLMENT_PAYMENT     object\n",
       "ID                      object\n",
       "PRODUCT                 object\n",
       "dtype: object"
      ]
     },
     "execution_count": 16,
     "metadata": {},
     "output_type": "execute_result"
    }
   ],
   "source": [
    "dataset_magalu.dtypes"
   ]
  },
  {
   "cell_type": "code",
   "execution_count": null,
   "metadata": {
    "pycharm": {
     "name": "#%%\n"
    }
   },
   "outputs": [],
   "source": []
  }
 ],
 "metadata": {
  "interpreter": {
   "hash": "c3503f95e0e8f4afdf6702396a7a2a29cae9f67572acfe092405dcaa2579b817"
  },
  "kernelspec": {
   "display_name": "Python 3.10.4 64-bit",
   "language": "python",
   "name": "python3"
  },
  "language_info": {
   "codemirror_mode": {
    "name": "ipython",
    "version": 3
   },
   "file_extension": ".py",
   "mimetype": "text/x-python",
   "name": "python",
   "nbconvert_exporter": "python",
   "pygments_lexer": "ipython3",
   "version": "3.10.4"
  },
  "orig_nbformat": 4
 },
 "nbformat": 4,
 "nbformat_minor": 2
}