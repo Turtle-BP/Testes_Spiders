{
 "cells": [
  {
   "cell_type": "code",
   "execution_count": 1,
   "metadata": {
    "pycharm": {
     "name": "#%%\n"
    }
   },
   "outputs": [],
   "source": [
    "#IMPORTANDO BIBLIOTECAS\n",
    "from bs4 import BeautifulSoup\n",
    "import requests\n",
    "import json\n",
    "import pandas as pd\n",
    "import sqlite3\n",
    "import time\n",
    "from tqdm import tqdm\n",
    "import os\n",
    "import random"
   ]
  },
  {
   "cell_type": "code",
   "execution_count": 2,
   "outputs": [],
   "source": [
    "def Random_user_agents(marketplace):\n",
    "\n",
    "    #Criando a lista de user-agents\n",
    "    User_agents_list = [\"Mozilla/5.0 (X11; Linux x86_64) AppleWebKit/537.36 (KHTML, like Gecko) Ubuntu Chromium/37.0.2062.94 Chrome/37.0.2062.94 Safari/537.36\",\n",
    "                        \"Mozilla/5.0 (Windows NT 6.1; WOW64) AppleWebKit/537.36 (KHTML, like Gecko) Chrome/45.0.2454.85 Safari/537.36\",\n",
    "                        \"Mozilla/5.0 (Windows NT 6.1; WOW64; Trident/7.0; rv:11.0) like Gecko\",\n",
    "                        \"Mozilla/5.0 (Windows NT 6.1; WOW64; rv:40.0) Gecko/20100101 Firefox/40.0\",\n",
    "                        \"Mozilla/5.0 (Macintosh; Intel Mac OS X 10_10_5) AppleWebKit/600.8.9 (KHTML, like Gecko) Version/8.0.8 Safari/600.8.9\",\n",
    "                        \"Mozilla/5.0 (iPad; CPU OS 8_4_1 like Mac OS X) AppleWebKit/600.1.4 (KHTML, like Gecko) Version/8.0 Mobile/12H321 Safari/600.1.4\",\n",
    "                        \"Mozilla/5.0 (Windows NT 6.3; WOW64) AppleWebKit/537.36 (KHTML, like Gecko) Chrome/45.0.2454.85 Safari/537.36\",\n",
    "                        \"Mozilla/5.0 (Windows NT 10.0; WOW64) AppleWebKit/537.36 (KHTML, like Gecko) Chrome/45.0.2454.85 Safari/537.36\",\n",
    "                        \"Mozilla/5.0 (X11; Linux x86_64) AppleWebKit/537.36 (KHTML, like Gecko) Ubuntu Chromium/37.0.2062.94 Chrome/37.0.2062.94 Safari/537.36\",\n",
    "                        \"Mozilla/5.0 (Windows NT 6.1; WOW64) AppleWebKit/537.36 (KHTML, like Gecko) Chrome/45.0.2454.85 Safari/537.36\",\n",
    "                        \"Mozilla/5.0 (Windows NT 6.1; WOW64; Trident/7.0; rv:11.0) like Gecko\",\n",
    "                        \"Mozilla/5.0 (Windows NT 6.1; WOW64; rv:40.0) Gecko/20100101 Firefox/40.0\",\n",
    "                        \"Mozilla/5.0 (Macintosh; Intel Mac OS X 10_10_5) AppleWebKit/600.8.9 (KHTML, like Gecko) Version/8.0.8 Safari/600.8.9\",\n",
    "                        \"Mozilla/5.0 (iPad; CPU OS 8_4_1 like Mac OS X) AppleWebKit/600.1.4 (KHTML, like Gecko) Version/8.0 Mobile/12H321 Safari/600.1.4\",\n",
    "                        \"Mozilla/5.0 (Windows NT 6.3; WOW64) AppleWebKit/537.36 (KHTML, like Gecko) Chrome/45.0.2454.85 Safari/537.36\",\n",
    "                        \"Mozilla/5.0 (Windows NT 10.0; WOW64) AppleWebKit/537.36 (KHTML, like Gecko) Chrome/45.0.2454.85 Safari/537.36\",\n",
    "                        \"Mozilla/5.0 (Windows NT 6.1; WOW64) AppleWebKit/537.36 (KHTML, like Gecko) Chrome/44.0.2403.157 Safari/537.36\",\n",
    "                        \"Mozilla/5.0 (iPhone; CPU iPhone OS 8_4_1 like Mac OS X) AppleWebKit/600.1.4 (KHTML, like Gecko) Version/8.0 Mobile/12H321 Safari/600.1.4\",\n",
    "                        \"Mozilla/5.0 (Windows NT 10.0; WOW64; Trident/7.0; rv:11.0) like Gecko\",\n",
    "                        \"Mozilla/5.0 (iPad; CPU OS 7_1_2 like Mac OS X) AppleWebKit/537.51.2 (KHTML, like Gecko) Version/7.0 Mobile/11D257 Safari/9537.53\",\n",
    "                        \"Mozilla/5.0 (compatible; MSIE 9.0; Windows NT 6.1; Trident/5.0)\",\n",
    "                        \"Mozilla/5.0 (Macintosh; Intel Mac OS X 10_9_5) AppleWebKit/537.36 (KHTML, like Gecko) Chrome/45.0.2454.85 Safari/537.36\",\n",
    "                        \"Mozilla/5.0 (Macintosh; Intel Mac OS X 10_10_4) AppleWebKit/537.36 (KHTML, like Gecko) Chrome/45.0.2454.85 Safari/537.36\",\n",
    "                        \"Mozilla/5.0 (Macintosh; Intel Mac OS X 10.9; rv:40.0) Gecko/20100101 Firefox/40.0\",\n",
    "                        \"Mozilla/5.0 (compatible; MSIE 10.0; Windows NT 6.1; Trident/6.0)\",\n",
    "                        \"Mozilla/5.0 (Windows NT 6.0) AppleWebKit/537.36 (KHTML, like Gecko) Chrome/45.0.2454.85 Safari/537.36\",\n",
    "                        \"Mozilla/5.0 (Windows NT 6.3; WOW64) AppleWebKit/537.36 (KHTML, like Gecko) Chrome/44.0.2403.157 Safari/537.36\",\n",
    "                        \"Mozilla/5.0 (X11; CrOS x86_64 7077.134.0) AppleWebKit/537.36 (KHTML, like Gecko) Chrome/44.0.2403.156 Safari/537.36\",\n",
    "                        \"Mozilla/5.0 (Macintosh; Intel Mac OS X 10_9_5) AppleWebKit/600.7.12 (KHTML, like Gecko) Version/7.1.7 Safari/537.85.16\",\n",
    "                        \"Mozilla/5.0 (Windows NT 6.0; rv:40.0) Gecko/20100101 Firefox/40.0\",\n",
    "                        \"Mozilla/5.0 (Macintosh; Intel Mac OS X 10.6; rv:40.0) Gecko/20100101 Firefox/40.0\",\n",
    "                        \"Mozilla/5.0 (iPad; CPU OS 8_1_3 like Mac OS X) AppleWebKit/600.1.4 (KHTML, like Gecko) Version/8.0 Mobile/12B466 Safari/600.1.4\",\n",
    "                        \"Mozilla/5.0 (Macintosh; Intel Mac OS X 10_10_2) AppleWebKit/600.3.18 (KHTML, like Gecko) Version/8.0.3 Safari/600.3.18\",\n",
    "                        \"Mozilla/5.0 (Macintosh; Intel Mac OS X 10_10_3) AppleWebKit/537.36 (KHTML, like Gecko) Chrome/45.0.2454.85 Safari/537.36\",\n",
    "                        \"Mozilla/5.0 (Windows NT 6.2; WOW64) AppleWebKit/537.36 (KHTML, like Gecko) Chrome/45.0.2454.85 Safari/537.36\",\n",
    "                        \"Mozilla/5.0 (Windows NT 6.1; Win64; x64; Trident/7.0; rv:11.0) like Gecko\",\n",
    "                        \"Mozilla/5.0 (Macintosh; Intel Mac OS X 10_10_5) AppleWebKit/537.36 (KHTML, like Gecko) Chrome/44.0.2403.157 Safari/537.36\",\n",
    "                        \"Mozilla/5.0 (iPad; CPU OS 8_1_2 like Mac OS X) AppleWebKit/600.1.4 (KHTML, like Gecko) Version/8.0 Mobile/12B440 Safari/600.1.4\",\n",
    "                        \"Mozilla/5.0 (Linux; U; Android 4.0.3; en-us; KFTT Build/IML74K) AppleWebKit/537.36 (KHTML, like Gecko) Silk/3.68 like Chrome/39.0.2171.93 Safari/537.36\",\n",
    "                        \"Mozilla/5.0 (iPad; CPU OS 8_2 like Mac OS X) AppleWebKit/600.1.4 (KHTML, like Gecko) Version/8.0 Mobile/12D508 Safari/600.1.4\",\n",
    "                        \"Mozilla/5.0 (Windows NT 6.1; WOW64; rv:39.0) Gecko/20100101 Firefox/39.0\",\n",
    "                        \"Mozilla/5.0 (iPad; CPU OS 7_1_1 like Mac OS X) AppleWebKit/537.51.2 (KHTML, like Gecko) Version/7.0 Mobile/11D201 Safari/9537.53\",\n",
    "                        \"Mozilla/5.0 (Linux; U; Android 4.4.3; en-us; KFTHWI Build/KTU84M) AppleWebKit/537.36 (KHTML, like Gecko) Silk/3.68 like Chrome/39.0.2171.93 Safari/537.36\",\n",
    "                        \"Mozilla/5.0 (Macintosh; Intel Mac OS X 10_9_5) AppleWebKit/600.6.3 (KHTML, like Gecko) Version/7.1.6 Safari/537.85.15\",\n",
    "                        \"Mozilla/5.0 (Macintosh; Intel Mac OS X 10_10_2) AppleWebKit/600.4.10 (KHTML, like Gecko) Version/8.0.4 Safari/600.4.10\",\n",
    "                        \"Mozilla/5.0 (Macintosh; Intel Mac OS X 10.7; rv:40.0) Gecko/20100101 Firefox/40.0\",\n",
    "                        \"Mozilla/5.0 (Macintosh; Intel Mac OS X 10_9_5) AppleWebKit/537.78.2 (KHTML, like Gecko) Version/7.0.6 Safari/537.78.2\",\n",
    "                        \"Mozilla/5.0 (iPad; CPU OS 8_4_1 like Mac OS X) AppleWebKit/600.1.4 (KHTML, like Gecko) CriOS/45.0.2454.68 Mobile/12H321 Safari/600.1.4\",\n",
    "                        \"Mozilla/5.0 (Windows NT 6.3; Win64; x64; Trident/7.0; Touch; rv:11.0) like Gecko\",\n",
    "                        \"Mozilla/5.0 (Macintosh; Intel Mac OS X 10_6_8) AppleWebKit/537.36 (KHTML, like Gecko) Chrome/45.0.2454.85 Safari/537.36\",\n",
    "                        \"Mozilla/5.0 (iPad; CPU OS 8_1 like Mac OS X) AppleWebKit/600.1.4 (KHTML, like Gecko) Version/8.0 Mobile/12B410 Safari/600.1.4\",\n",
    "                        \"Mozilla/5.0 (iPad; CPU OS 7_0_4 like Mac OS X) AppleWebKit/537.51.1 (KHTML, like Gecko) Version/7.0 Mobile/11B554a Safari/9537.53\",\n",
    "                        \"Mozilla/5.0 (Windows NT 6.0; WOW64) AppleWebKit/537.36 (KHTML, like Gecko) Chrome/45.0.2454.85 Safari/537.36\",\n",
    "                        \"Mozilla/5.0 (Windows NT 6.3; Win64; x64; Trident/7.0; rv:11.0) like Gecko\",\n",
    "                        \"Mozilla/5.0 (Windows NT 6.3; WOW64; Trident/7.0; TNJB; rv:11.0) like Gecko\",\n",
    "                        \"Mozilla/5.0 (Windows NT 6.1; WOW64) AppleWebKit/537.36 (KHTML, like Gecko) Chrome/31.0.1650.63 Safari/537.36\",\n",
    "                        \"Mozilla/5.0 (Windows NT 6.3; ARM; Trident/7.0; Touch; rv:11.0) like Gecko\",\n",
    "                        \"Mozilla/5.0 (Windows NT 6.1; Win64; x64) AppleWebKit/537.36 (KHTML, like Gecko) Chrome/45.0.2454.85 Safari/537.36\"]\n",
    "\n",
    "    #Escolhendo o user aleatório\n",
    "    Choice_user_agent = random.choice(User_agents_list)\n",
    "\n",
    "    headers = {'authority':'www.' + marketplace + '.com.br',\n",
    "               'user-agent':'Mozilla/5.0 (Windows NT 10.0; Win64; x64) AppleWebKit/537.36 (KHTML, like Gecko) Chrome/103.0.5060.114 Safari/537.36 OPR/89.0.4447.48',\n",
    "               'scheme':'https',\n",
    "               'accept':'text/html,application/xhtml+xml,application/xml;q=0.9,image/avif,image/webp,image/apng,*/*;q=0.8,application/signed-exchange;v=b3;q=0.9',\n",
    "               'sec-ch-ua':'\"Opera\";v=\"89\", \"Chromium\";v=\"103\", \"_Not:A-Brand\";v=\"24\"',\n",
    "               'sec-ch-ua-platform':'\"Windows\"',\n",
    "               'upgrade-insecure-requests':'1',\n",
    "               'sec-fetch-user': '?1',\n",
    "               'sec-fetch-site': 'same-origin'\n",
    "               }\n",
    "\n",
    "\n",
    "    return headers"
   ],
   "metadata": {
    "collapsed": false,
    "pycharm": {
     "name": "#%%\n"
    }
   }
  },
  {
   "cell_type": "code",
   "execution_count": 3,
   "metadata": {
    "pycharm": {
     "name": "#%%\n"
    }
   },
   "outputs": [],
   "source": [
    "#GUARDANDO LISTAS\n",
    "Links_Americanas = []\n",
    "Urls_Americanas = []\n",
    "Sellers_Americanas = []\n",
    "Country_Americanas = []\n",
    "Price_Americanas = []\n",
    "SKU_Americanas = []\n",
    "Title_Americanas = []\n",
    "Installment_Americanas_quantidade = []\n",
    "Installment_Americanas_valor_parcela = []\n",
    "Installment_Americanas_valor_total = []\n",
    "More_offers_americanas = []"
   ]
  },
  {
   "cell_type": "code",
   "execution_count": 4,
   "outputs": [],
   "source": [
    "import pymysql"
   ],
   "metadata": {
    "collapsed": false,
    "pycharm": {
     "name": "#%%\n"
    }
   }
  },
  {
   "cell_type": "code",
   "execution_count": 5,
   "metadata": {
    "pycharm": {
     "name": "#%%\n"
    }
   },
   "outputs": [],
   "source": [
    "def getting_n_creating_americanas_urls(brand):\n",
    "    connection = pymysql.connect(host='mysqlserver.cnzboqhfvndh.sa-east-1.rds.amazonaws.com',\n",
    "                                 user='admin',\n",
    "                                 password='turtle316712',\n",
    "                                 database='Products_Brands',\n",
    "                                 cursorclass=pymysql.cursors.DictCursor)\n",
    "\n",
    "    #Criando o caminho do Databae\n",
    "    c = connection.cursor()\n",
    "\n",
    "    #Criando a Query\n",
    "    Sql_query = \"SELECT * FROM Products WHERE Brand = '%s'\" % (brand)\n",
    "\n",
    "    #Conectando com o banco de dados\n",
    "    c.execute(Sql_query)\n",
    "    result = c.fetchall()\n",
    "    c.close()\n",
    "    connection.close()\n",
    "\n",
    "    #Passando todos o dataframe para Lowercase\n",
    "    df = pd.DataFrame()\n",
    "    df['Brand'] = [item['Brand'] for item in result]\n",
    "    df['Product_Name'] = [item['Name'] for item in result]\n",
    "\n",
    "    #Arrumando espaços vazios\n",
    "    # Arrumano os espaços vazios\n",
    "    df['Product_Name'] = df['Product_Name'].str.replace(\" \", \"-\")\n",
    "\n",
    "    # Criando uma nova coluna no database com a formatação certa\n",
    "    df['Urls'] = df['Brand'] + \"-\" + df['Product_Name']\n",
    "\n",
    "    # Criando a nova coluna que são as urls de pesquisa\n",
    "    df['Urls_search'] = \"https://www.americanas.com.br/busca/\" + df['Urls']\n",
    "\n",
    "    return df"
   ]
  },
  {
   "cell_type": "code",
   "execution_count": 6,
   "metadata": {
    "pycharm": {
     "name": "#%%\n"
    }
   },
   "outputs": [
    {
     "data": {
      "text/plain": "   Brand Product_Name               Urls  \\\n0  Wacom       CTL472       Wacom-CTL472   \n1  Wacom      CTL4100      Wacom-CTL4100   \n2  Wacom  CTL4100WLE0  Wacom-CTL4100WLE0   \n3  Wacom  CTL4100WLK0  Wacom-CTL4100WLK0   \n4  Wacom  CTL6100WLK0  Wacom-CTL6100WLK0   \n5  Wacom    DTC133W0A    Wacom-DTC133W0A   \n6  Wacom       PTH460       Wacom-PTH460   \n7  Wacom   DTK1660K0A   Wacom-DTK1660K0A   \n8  Wacom       PTH660       Wacom-PTH660   \n9  Wacom  CTL6100WLE0  Wacom-CTL6100WLE0   \n\n                                         Urls_search  \n0   https://www.americanas.com.br/busca/Wacom-CTL472  \n1  https://www.americanas.com.br/busca/Wacom-CTL4100  \n2  https://www.americanas.com.br/busca/Wacom-CTL4...  \n3  https://www.americanas.com.br/busca/Wacom-CTL4...  \n4  https://www.americanas.com.br/busca/Wacom-CTL6...  \n5  https://www.americanas.com.br/busca/Wacom-DTC1...  \n6   https://www.americanas.com.br/busca/Wacom-PTH460  \n7  https://www.americanas.com.br/busca/Wacom-DTK1...  \n8   https://www.americanas.com.br/busca/Wacom-PTH660  \n9  https://www.americanas.com.br/busca/Wacom-CTL6...  ",
      "text/html": "<div>\n<style scoped>\n    .dataframe tbody tr th:only-of-type {\n        vertical-align: middle;\n    }\n\n    .dataframe tbody tr th {\n        vertical-align: top;\n    }\n\n    .dataframe thead th {\n        text-align: right;\n    }\n</style>\n<table border=\"1\" class=\"dataframe\">\n  <thead>\n    <tr style=\"text-align: right;\">\n      <th></th>\n      <th>Brand</th>\n      <th>Product_Name</th>\n      <th>Urls</th>\n      <th>Urls_search</th>\n    </tr>\n  </thead>\n  <tbody>\n    <tr>\n      <th>0</th>\n      <td>Wacom</td>\n      <td>CTL472</td>\n      <td>Wacom-CTL472</td>\n      <td>https://www.americanas.com.br/busca/Wacom-CTL472</td>\n    </tr>\n    <tr>\n      <th>1</th>\n      <td>Wacom</td>\n      <td>CTL4100</td>\n      <td>Wacom-CTL4100</td>\n      <td>https://www.americanas.com.br/busca/Wacom-CTL4100</td>\n    </tr>\n    <tr>\n      <th>2</th>\n      <td>Wacom</td>\n      <td>CTL4100WLE0</td>\n      <td>Wacom-CTL4100WLE0</td>\n      <td>https://www.americanas.com.br/busca/Wacom-CTL4...</td>\n    </tr>\n    <tr>\n      <th>3</th>\n      <td>Wacom</td>\n      <td>CTL4100WLK0</td>\n      <td>Wacom-CTL4100WLK0</td>\n      <td>https://www.americanas.com.br/busca/Wacom-CTL4...</td>\n    </tr>\n    <tr>\n      <th>4</th>\n      <td>Wacom</td>\n      <td>CTL6100WLK0</td>\n      <td>Wacom-CTL6100WLK0</td>\n      <td>https://www.americanas.com.br/busca/Wacom-CTL6...</td>\n    </tr>\n    <tr>\n      <th>5</th>\n      <td>Wacom</td>\n      <td>DTC133W0A</td>\n      <td>Wacom-DTC133W0A</td>\n      <td>https://www.americanas.com.br/busca/Wacom-DTC1...</td>\n    </tr>\n    <tr>\n      <th>6</th>\n      <td>Wacom</td>\n      <td>PTH460</td>\n      <td>Wacom-PTH460</td>\n      <td>https://www.americanas.com.br/busca/Wacom-PTH460</td>\n    </tr>\n    <tr>\n      <th>7</th>\n      <td>Wacom</td>\n      <td>DTK1660K0A</td>\n      <td>Wacom-DTK1660K0A</td>\n      <td>https://www.americanas.com.br/busca/Wacom-DTK1...</td>\n    </tr>\n    <tr>\n      <th>8</th>\n      <td>Wacom</td>\n      <td>PTH660</td>\n      <td>Wacom-PTH660</td>\n      <td>https://www.americanas.com.br/busca/Wacom-PTH660</td>\n    </tr>\n    <tr>\n      <th>9</th>\n      <td>Wacom</td>\n      <td>CTL6100WLE0</td>\n      <td>Wacom-CTL6100WLE0</td>\n      <td>https://www.americanas.com.br/busca/Wacom-CTL6...</td>\n    </tr>\n  </tbody>\n</table>\n</div>"
     },
     "execution_count": 6,
     "metadata": {},
     "output_type": "execute_result"
    }
   ],
   "source": [
    "Df_Products_Links = getting_n_creating_americanas_urls(\"Wacom\")\n",
    "Df_Products_Links"
   ]
  },
  {
   "cell_type": "code",
   "execution_count": 7,
   "outputs": [
    {
     "data": {
      "text/plain": "'https://www.americanas.com.br/busca/Boya-mc2'"
     },
     "execution_count": 7,
     "metadata": {},
     "output_type": "execute_result"
    }
   ],
   "source": [
    "Df_Products_Links['Urls_search'][0]"
   ],
   "metadata": {
    "collapsed": false,
    "pycharm": {
     "name": "#%%\n"
    }
   }
  },
  {
   "cell_type": "markdown",
   "source": [],
   "metadata": {
    "collapsed": false,
    "pycharm": {
     "name": "#%% md\n"
    }
   }
  },
  {
   "cell_type": "code",
   "execution_count": 24,
   "outputs": [],
   "source": [
    "urls = ['https://www.americanas.com.br/busca/Toshiba-HD-externo-Canvio-Basics','https://www.americanas.com.br/busca/HD-Externo-Seagate-Expansion']"
   ],
   "metadata": {
    "collapsed": false,
    "pycharm": {
     "name": "#%%\n"
    }
   }
  },
  {
   "cell_type": "code",
   "execution_count": 7,
   "metadata": {
    "pycharm": {
     "name": "#%%\n"
    }
   },
   "outputs": [],
   "source": [
    "def search_links(url):\n",
    "    global Links_Americanas\n",
    "\n",
    "    time.sleep(15)\n",
    "\n",
    "    Headers_Choice = Random_user_agents(\"Americanas\")\n",
    "\n",
    "    response = requests.get(url, headers=Headers_Choice)\n",
    "\n",
    "    print(response.status_code)\n",
    "    \n",
    "    if response.status_code != 200:\n",
    "        Headers_Choice = Random_user_agents(\"Americanas\")\n",
    "        response = requests.get(url, headers=Headers_Choice)\n",
    "\n",
    "    else:\n",
    "        pass\n",
    "\n",
    "    html = response.text\n",
    "\n",
    "    bs = BeautifulSoup(html, 'html.parser')\n",
    "\n",
    "    for link in bs.find_all(\"a\", href=True):\n",
    "        Links_Americanas.append(\"https://www.americanas.com.br\" + link['href'])\n",
    "\n",
    "    Links_Americanas = [s for s in Links_Americanas if 'produto' in s]\n",
    "    Links_Americanas = [s for s in Links_Americanas if not 'theater' in s]\n",
    "    Links_Americanas = [s for s in Links_Americanas if 'offerId' in s]"
   ]
  },
  {
   "cell_type": "code",
   "execution_count": 8,
   "metadata": {
    "pycharm": {
     "name": "#%%\n"
    }
   },
   "outputs": [
    {
     "name": "stderr",
     "output_type": "stream",
     "text": [
      " 10%|█         | 1/10 [00:15<02:23, 15.98s/it]"
     ]
    },
    {
     "name": "stdout",
     "output_type": "stream",
     "text": [
      "200\n"
     ]
    },
    {
     "name": "stderr",
     "output_type": "stream",
     "text": [
      " 20%|██        | 2/10 [00:33<02:14, 16.77s/it]"
     ]
    },
    {
     "name": "stdout",
     "output_type": "stream",
     "text": [
      "200\n"
     ]
    },
    {
     "name": "stderr",
     "output_type": "stream",
     "text": [
      " 30%|███       | 3/10 [00:49<01:55, 16.51s/it]"
     ]
    },
    {
     "name": "stdout",
     "output_type": "stream",
     "text": [
      "200\n"
     ]
    },
    {
     "name": "stderr",
     "output_type": "stream",
     "text": [
      " 40%|████      | 4/10 [01:05<01:38, 16.37s/it]"
     ]
    },
    {
     "name": "stdout",
     "output_type": "stream",
     "text": [
      "200\n"
     ]
    },
    {
     "name": "stderr",
     "output_type": "stream",
     "text": [
      " 50%|█████     | 5/10 [01:21<01:20, 16.14s/it]"
     ]
    },
    {
     "name": "stdout",
     "output_type": "stream",
     "text": [
      "200\n"
     ]
    },
    {
     "name": "stderr",
     "output_type": "stream",
     "text": [
      " 60%|██████    | 6/10 [01:37<01:04, 16.13s/it]"
     ]
    },
    {
     "name": "stdout",
     "output_type": "stream",
     "text": [
      "200\n"
     ]
    },
    {
     "name": "stderr",
     "output_type": "stream",
     "text": [
      " 70%|███████   | 7/10 [01:53<00:48, 16.18s/it]"
     ]
    },
    {
     "name": "stdout",
     "output_type": "stream",
     "text": [
      "200\n"
     ]
    },
    {
     "name": "stderr",
     "output_type": "stream",
     "text": [
      " 80%|████████  | 8/10 [02:09<00:32, 16.16s/it]"
     ]
    },
    {
     "name": "stdout",
     "output_type": "stream",
     "text": [
      "200\n"
     ]
    },
    {
     "name": "stderr",
     "output_type": "stream",
     "text": [
      " 90%|█████████ | 9/10 [02:25<00:16, 16.04s/it]"
     ]
    },
    {
     "name": "stdout",
     "output_type": "stream",
     "text": [
      "200\n"
     ]
    },
    {
     "name": "stderr",
     "output_type": "stream",
     "text": [
      "100%|██████████| 10/10 [02:41<00:00, 16.15s/it]"
     ]
    },
    {
     "name": "stdout",
     "output_type": "stream",
     "text": [
      "200\n"
     ]
    },
    {
     "name": "stderr",
     "output_type": "stream",
     "text": [
      "\n"
     ]
    }
   ],
   "source": [
    "for url in tqdm(Df_Products_Links['Urls_search']):\n",
    "    search_links(url)"
   ]
  },
  {
   "cell_type": "code",
   "execution_count": 10,
   "outputs": [
    {
     "name": "stdout",
     "output_type": "stream",
     "text": [
      "200\n"
     ]
    }
   ],
   "source": [
    "search_links(url)"
   ],
   "metadata": {
    "collapsed": false,
    "pycharm": {
     "name": "#%%\n"
    }
   }
  },
  {
   "cell_type": "code",
   "execution_count": 9,
   "outputs": [
    {
     "data": {
      "text/plain": "'https://www.americanas.com.br/produto/5224534212?pfm_carac=wacom-ctl472&pfm_index=6&pfm_page=search&pfm_pos=grid&pfm_type=search_page&offerId=629af1352376eb9c7269988c'"
     },
     "execution_count": 9,
     "metadata": {},
     "output_type": "execute_result"
    }
   ],
   "source": [
    "Links_Americanas[5]"
   ],
   "metadata": {
    "collapsed": false,
    "pycharm": {
     "name": "#%%\n"
    }
   }
  },
  {
   "cell_type": "code",
   "execution_count": 12,
   "outputs": [
    {
     "name": "stdout",
     "output_type": "stream",
     "text": [
      "403\n",
      "{'authority': 'www.Americanas.com.br', 'user-agent': 'Mozilla/5.0 (Windows NT 6.3; Win64; x64; Trident/7.0; rv:11.0) like Gecko', 'scheme': 'https', 'accept': 'text/html,application/xhtml+xml,application/xml;q=0.9,image/avif,image/webp,image/apng,*/*;q=0.8,application/signed-exchange;v=b3;q=0.9', 'sec-ch-ua': '\"Opera\";v=\"89\", \"Chromium\";v=\"103\", \"_Not:A-Brand\";v=\"24\"', 'sec-ch-ua-platform': '\"Windows\"', 'upgrade-insecure-requests': '1', 'sec-fetch-user': '?1', 'sec-fetch-site': 'same-origin'}\n"
     ]
    }
   ],
   "source": [
    "Headers_Choice = Random_user_agents(\"Americanas\")\n",
    "Headrs_Manual = {'authority':'www.americanas.com.br', 'method':'GET','path':'/produto/5224534212','scheme':'https', 'accept':'text/html,application/xhtml+xml,application/xml;q=0.9,image/avif,image/webp,image/apng,*/*;q=0.8,application/signed-exchange;v=b3;q=0.9','user-agent':'Mozilla/5.0 (Windows NT 6.0; rv:40.0) Gecko/20100101 Firefox/40.0'}\n",
    "\n",
    "\n",
    "response = requests.get('https://www.americanas.com.br/produto/5224534212/', headers=Headers_Choice)\n",
    "print(response.status_code)\n",
    "print(Headers_Choice)"
   ],
   "metadata": {
    "collapsed": false,
    "pycharm": {
     "name": "#%%\n"
    }
   }
  },
  {
   "cell_type": "code",
   "execution_count": 13,
   "outputs": [
    {
     "name": "stdout",
     "output_type": "stream",
     "text": [
      "403\n",
      "403\n",
      "403\n",
      "403\n",
      "403\n",
      "403\n",
      "403\n",
      "403\n",
      "403\n",
      "403\n",
      "403\n",
      "403\n",
      "403\n",
      "403\n",
      "403\n",
      "403\n",
      "403\n",
      "403\n",
      "403\n",
      "403\n",
      "403\n",
      "403\n",
      "403\n",
      "403\n",
      "403\n",
      "403\n",
      "403\n",
      "403\n",
      "403\n",
      "403\n",
      "403\n",
      "403\n",
      "403\n",
      "403\n",
      "403\n",
      "403\n",
      "403\n",
      "403\n",
      "403\n",
      "403\n",
      "403\n",
      "403\n",
      "403\n",
      "403\n",
      "403\n",
      "403\n",
      "403\n",
      "403\n",
      "403\n",
      "403\n",
      "403\n",
      "403\n",
      "403\n",
      "403\n",
      "403\n",
      "403\n",
      "403\n",
      "403\n",
      "403\n",
      "403\n",
      "403\n",
      "403\n",
      "403\n",
      "403\n"
     ]
    },
    {
     "ename": "KeyboardInterrupt",
     "evalue": "",
     "output_type": "error",
     "traceback": [
      "\u001B[1;31m---------------------------------------------------------------------------\u001B[0m",
      "\u001B[1;31mKeyboardInterrupt\u001B[0m                         Traceback (most recent call last)",
      "Input \u001B[1;32mIn [13]\u001B[0m, in \u001B[0;36m<cell line: 3>\u001B[1;34m()\u001B[0m\n\u001B[0;32m      3\u001B[0m \u001B[38;5;28;01mwhile\u001B[39;00m response\u001B[38;5;241m.\u001B[39mstatus_code \u001B[38;5;241m!=\u001B[39m \u001B[38;5;241m200\u001B[39m:\n\u001B[0;32m      4\u001B[0m     Headers_Choice \u001B[38;5;241m=\u001B[39m Random_user_agents(\u001B[38;5;124m\"\u001B[39m\u001B[38;5;124mAmericanas\u001B[39m\u001B[38;5;124m\"\u001B[39m)\n\u001B[1;32m----> 5\u001B[0m     response \u001B[38;5;241m=\u001B[39m \u001B[43mrequests\u001B[49m\u001B[38;5;241;43m.\u001B[39;49m\u001B[43mget\u001B[49m\u001B[43m(\u001B[49m\u001B[38;5;124;43m'\u001B[39;49m\u001B[38;5;124;43mhttps://www.americanas.com.br/produto/5224534212/\u001B[39;49m\u001B[38;5;124;43m'\u001B[39;49m\u001B[43m,\u001B[49m\u001B[43m \u001B[49m\u001B[43mheaders\u001B[49m\u001B[38;5;241;43m=\u001B[39;49m\u001B[43mHeaders_Choice\u001B[49m\u001B[43m)\u001B[49m\n\u001B[0;32m      6\u001B[0m     \u001B[38;5;28mprint\u001B[39m(response\u001B[38;5;241m.\u001B[39mstatus_code)\n",
      "File \u001B[1;32m~\\AppData\\Local\\Programs\\Python\\Python310\\lib\\site-packages\\requests\\api.py:75\u001B[0m, in \u001B[0;36mget\u001B[1;34m(url, params, **kwargs)\u001B[0m\n\u001B[0;32m     64\u001B[0m \u001B[38;5;28;01mdef\u001B[39;00m \u001B[38;5;21mget\u001B[39m(url, params\u001B[38;5;241m=\u001B[39m\u001B[38;5;28;01mNone\u001B[39;00m, \u001B[38;5;241m*\u001B[39m\u001B[38;5;241m*\u001B[39mkwargs):\n\u001B[0;32m     65\u001B[0m     \u001B[38;5;124mr\u001B[39m\u001B[38;5;124;03m\"\"\"Sends a GET request.\u001B[39;00m\n\u001B[0;32m     66\u001B[0m \n\u001B[0;32m     67\u001B[0m \u001B[38;5;124;03m    :param url: URL for the new :class:`Request` object.\u001B[39;00m\n\u001B[1;32m   (...)\u001B[0m\n\u001B[0;32m     72\u001B[0m \u001B[38;5;124;03m    :rtype: requests.Response\u001B[39;00m\n\u001B[0;32m     73\u001B[0m \u001B[38;5;124;03m    \"\"\"\u001B[39;00m\n\u001B[1;32m---> 75\u001B[0m     \u001B[38;5;28;01mreturn\u001B[39;00m request(\u001B[38;5;124m'\u001B[39m\u001B[38;5;124mget\u001B[39m\u001B[38;5;124m'\u001B[39m, url, params\u001B[38;5;241m=\u001B[39mparams, \u001B[38;5;241m*\u001B[39m\u001B[38;5;241m*\u001B[39mkwargs)\n",
      "File \u001B[1;32m~\\AppData\\Local\\Programs\\Python\\Python310\\lib\\site-packages\\requests\\api.py:61\u001B[0m, in \u001B[0;36mrequest\u001B[1;34m(method, url, **kwargs)\u001B[0m\n\u001B[0;32m     57\u001B[0m \u001B[38;5;66;03m# By using the 'with' statement we are sure the session is closed, thus we\u001B[39;00m\n\u001B[0;32m     58\u001B[0m \u001B[38;5;66;03m# avoid leaving sockets open which can trigger a ResourceWarning in some\u001B[39;00m\n\u001B[0;32m     59\u001B[0m \u001B[38;5;66;03m# cases, and look like a memory leak in others.\u001B[39;00m\n\u001B[0;32m     60\u001B[0m \u001B[38;5;28;01mwith\u001B[39;00m sessions\u001B[38;5;241m.\u001B[39mSession() \u001B[38;5;28;01mas\u001B[39;00m session:\n\u001B[1;32m---> 61\u001B[0m     \u001B[38;5;28;01mreturn\u001B[39;00m session\u001B[38;5;241m.\u001B[39mrequest(method\u001B[38;5;241m=\u001B[39mmethod, url\u001B[38;5;241m=\u001B[39murl, \u001B[38;5;241m*\u001B[39m\u001B[38;5;241m*\u001B[39mkwargs)\n",
      "File \u001B[1;32m~\\AppData\\Local\\Programs\\Python\\Python310\\lib\\site-packages\\requests\\sessions.py:529\u001B[0m, in \u001B[0;36mSession.request\u001B[1;34m(self, method, url, params, data, headers, cookies, files, auth, timeout, allow_redirects, proxies, hooks, stream, verify, cert, json)\u001B[0m\n\u001B[0;32m    524\u001B[0m send_kwargs \u001B[38;5;241m=\u001B[39m {\n\u001B[0;32m    525\u001B[0m     \u001B[38;5;124m'\u001B[39m\u001B[38;5;124mtimeout\u001B[39m\u001B[38;5;124m'\u001B[39m: timeout,\n\u001B[0;32m    526\u001B[0m     \u001B[38;5;124m'\u001B[39m\u001B[38;5;124mallow_redirects\u001B[39m\u001B[38;5;124m'\u001B[39m: allow_redirects,\n\u001B[0;32m    527\u001B[0m }\n\u001B[0;32m    528\u001B[0m send_kwargs\u001B[38;5;241m.\u001B[39mupdate(settings)\n\u001B[1;32m--> 529\u001B[0m resp \u001B[38;5;241m=\u001B[39m \u001B[38;5;28mself\u001B[39m\u001B[38;5;241m.\u001B[39msend(prep, \u001B[38;5;241m*\u001B[39m\u001B[38;5;241m*\u001B[39msend_kwargs)\n\u001B[0;32m    531\u001B[0m \u001B[38;5;28;01mreturn\u001B[39;00m resp\n",
      "File \u001B[1;32m~\\AppData\\Local\\Programs\\Python\\Python310\\lib\\site-packages\\requests\\sessions.py:645\u001B[0m, in \u001B[0;36mSession.send\u001B[1;34m(self, request, **kwargs)\u001B[0m\n\u001B[0;32m    642\u001B[0m start \u001B[38;5;241m=\u001B[39m preferred_clock()\n\u001B[0;32m    644\u001B[0m \u001B[38;5;66;03m# Send the request\u001B[39;00m\n\u001B[1;32m--> 645\u001B[0m r \u001B[38;5;241m=\u001B[39m adapter\u001B[38;5;241m.\u001B[39msend(request, \u001B[38;5;241m*\u001B[39m\u001B[38;5;241m*\u001B[39mkwargs)\n\u001B[0;32m    647\u001B[0m \u001B[38;5;66;03m# Total elapsed time of the request (approximately)\u001B[39;00m\n\u001B[0;32m    648\u001B[0m elapsed \u001B[38;5;241m=\u001B[39m preferred_clock() \u001B[38;5;241m-\u001B[39m start\n",
      "File \u001B[1;32m~\\AppData\\Local\\Programs\\Python\\Python310\\lib\\site-packages\\requests\\adapters.py:440\u001B[0m, in \u001B[0;36mHTTPAdapter.send\u001B[1;34m(self, request, stream, timeout, verify, cert, proxies)\u001B[0m\n\u001B[0;32m    438\u001B[0m \u001B[38;5;28;01mtry\u001B[39;00m:\n\u001B[0;32m    439\u001B[0m     \u001B[38;5;28;01mif\u001B[39;00m \u001B[38;5;129;01mnot\u001B[39;00m chunked:\n\u001B[1;32m--> 440\u001B[0m         resp \u001B[38;5;241m=\u001B[39m \u001B[43mconn\u001B[49m\u001B[38;5;241;43m.\u001B[39;49m\u001B[43murlopen\u001B[49m\u001B[43m(\u001B[49m\n\u001B[0;32m    441\u001B[0m \u001B[43m            \u001B[49m\u001B[43mmethod\u001B[49m\u001B[38;5;241;43m=\u001B[39;49m\u001B[43mrequest\u001B[49m\u001B[38;5;241;43m.\u001B[39;49m\u001B[43mmethod\u001B[49m\u001B[43m,\u001B[49m\n\u001B[0;32m    442\u001B[0m \u001B[43m            \u001B[49m\u001B[43murl\u001B[49m\u001B[38;5;241;43m=\u001B[39;49m\u001B[43murl\u001B[49m\u001B[43m,\u001B[49m\n\u001B[0;32m    443\u001B[0m \u001B[43m            \u001B[49m\u001B[43mbody\u001B[49m\u001B[38;5;241;43m=\u001B[39;49m\u001B[43mrequest\u001B[49m\u001B[38;5;241;43m.\u001B[39;49m\u001B[43mbody\u001B[49m\u001B[43m,\u001B[49m\n\u001B[0;32m    444\u001B[0m \u001B[43m            \u001B[49m\u001B[43mheaders\u001B[49m\u001B[38;5;241;43m=\u001B[39;49m\u001B[43mrequest\u001B[49m\u001B[38;5;241;43m.\u001B[39;49m\u001B[43mheaders\u001B[49m\u001B[43m,\u001B[49m\n\u001B[0;32m    445\u001B[0m \u001B[43m            \u001B[49m\u001B[43mredirect\u001B[49m\u001B[38;5;241;43m=\u001B[39;49m\u001B[38;5;28;43;01mFalse\u001B[39;49;00m\u001B[43m,\u001B[49m\n\u001B[0;32m    446\u001B[0m \u001B[43m            \u001B[49m\u001B[43massert_same_host\u001B[49m\u001B[38;5;241;43m=\u001B[39;49m\u001B[38;5;28;43;01mFalse\u001B[39;49;00m\u001B[43m,\u001B[49m\n\u001B[0;32m    447\u001B[0m \u001B[43m            \u001B[49m\u001B[43mpreload_content\u001B[49m\u001B[38;5;241;43m=\u001B[39;49m\u001B[38;5;28;43;01mFalse\u001B[39;49;00m\u001B[43m,\u001B[49m\n\u001B[0;32m    448\u001B[0m \u001B[43m            \u001B[49m\u001B[43mdecode_content\u001B[49m\u001B[38;5;241;43m=\u001B[39;49m\u001B[38;5;28;43;01mFalse\u001B[39;49;00m\u001B[43m,\u001B[49m\n\u001B[0;32m    449\u001B[0m \u001B[43m            \u001B[49m\u001B[43mretries\u001B[49m\u001B[38;5;241;43m=\u001B[39;49m\u001B[38;5;28;43mself\u001B[39;49m\u001B[38;5;241;43m.\u001B[39;49m\u001B[43mmax_retries\u001B[49m\u001B[43m,\u001B[49m\n\u001B[0;32m    450\u001B[0m \u001B[43m            \u001B[49m\u001B[43mtimeout\u001B[49m\u001B[38;5;241;43m=\u001B[39;49m\u001B[43mtimeout\u001B[49m\n\u001B[0;32m    451\u001B[0m \u001B[43m        \u001B[49m\u001B[43m)\u001B[49m\n\u001B[0;32m    453\u001B[0m     \u001B[38;5;66;03m# Send the request.\u001B[39;00m\n\u001B[0;32m    454\u001B[0m     \u001B[38;5;28;01melse\u001B[39;00m:\n\u001B[0;32m    455\u001B[0m         \u001B[38;5;28;01mif\u001B[39;00m \u001B[38;5;28mhasattr\u001B[39m(conn, \u001B[38;5;124m'\u001B[39m\u001B[38;5;124mproxy_pool\u001B[39m\u001B[38;5;124m'\u001B[39m):\n",
      "File \u001B[1;32m~\\AppData\\Local\\Programs\\Python\\Python310\\lib\\site-packages\\urllib3\\connectionpool.py:703\u001B[0m, in \u001B[0;36mHTTPConnectionPool.urlopen\u001B[1;34m(self, method, url, body, headers, retries, redirect, assert_same_host, timeout, pool_timeout, release_conn, chunked, body_pos, **response_kw)\u001B[0m\n\u001B[0;32m    700\u001B[0m     \u001B[38;5;28mself\u001B[39m\u001B[38;5;241m.\u001B[39m_prepare_proxy(conn)\n\u001B[0;32m    702\u001B[0m \u001B[38;5;66;03m# Make the request on the httplib connection object.\u001B[39;00m\n\u001B[1;32m--> 703\u001B[0m httplib_response \u001B[38;5;241m=\u001B[39m \u001B[38;5;28;43mself\u001B[39;49m\u001B[38;5;241;43m.\u001B[39;49m\u001B[43m_make_request\u001B[49m\u001B[43m(\u001B[49m\n\u001B[0;32m    704\u001B[0m \u001B[43m    \u001B[49m\u001B[43mconn\u001B[49m\u001B[43m,\u001B[49m\n\u001B[0;32m    705\u001B[0m \u001B[43m    \u001B[49m\u001B[43mmethod\u001B[49m\u001B[43m,\u001B[49m\n\u001B[0;32m    706\u001B[0m \u001B[43m    \u001B[49m\u001B[43murl\u001B[49m\u001B[43m,\u001B[49m\n\u001B[0;32m    707\u001B[0m \u001B[43m    \u001B[49m\u001B[43mtimeout\u001B[49m\u001B[38;5;241;43m=\u001B[39;49m\u001B[43mtimeout_obj\u001B[49m\u001B[43m,\u001B[49m\n\u001B[0;32m    708\u001B[0m \u001B[43m    \u001B[49m\u001B[43mbody\u001B[49m\u001B[38;5;241;43m=\u001B[39;49m\u001B[43mbody\u001B[49m\u001B[43m,\u001B[49m\n\u001B[0;32m    709\u001B[0m \u001B[43m    \u001B[49m\u001B[43mheaders\u001B[49m\u001B[38;5;241;43m=\u001B[39;49m\u001B[43mheaders\u001B[49m\u001B[43m,\u001B[49m\n\u001B[0;32m    710\u001B[0m \u001B[43m    \u001B[49m\u001B[43mchunked\u001B[49m\u001B[38;5;241;43m=\u001B[39;49m\u001B[43mchunked\u001B[49m\u001B[43m,\u001B[49m\n\u001B[0;32m    711\u001B[0m \u001B[43m\u001B[49m\u001B[43m)\u001B[49m\n\u001B[0;32m    713\u001B[0m \u001B[38;5;66;03m# If we're going to release the connection in ``finally:``, then\u001B[39;00m\n\u001B[0;32m    714\u001B[0m \u001B[38;5;66;03m# the response doesn't need to know about the connection. Otherwise\u001B[39;00m\n\u001B[0;32m    715\u001B[0m \u001B[38;5;66;03m# it will also try to release it and we'll have a double-release\u001B[39;00m\n\u001B[0;32m    716\u001B[0m \u001B[38;5;66;03m# mess.\u001B[39;00m\n\u001B[0;32m    717\u001B[0m response_conn \u001B[38;5;241m=\u001B[39m conn \u001B[38;5;28;01mif\u001B[39;00m \u001B[38;5;129;01mnot\u001B[39;00m release_conn \u001B[38;5;28;01melse\u001B[39;00m \u001B[38;5;28;01mNone\u001B[39;00m\n",
      "File \u001B[1;32m~\\AppData\\Local\\Programs\\Python\\Python310\\lib\\site-packages\\urllib3\\connectionpool.py:449\u001B[0m, in \u001B[0;36mHTTPConnectionPool._make_request\u001B[1;34m(self, conn, method, url, timeout, chunked, **httplib_request_kw)\u001B[0m\n\u001B[0;32m    444\u001B[0m             httplib_response \u001B[38;5;241m=\u001B[39m conn\u001B[38;5;241m.\u001B[39mgetresponse()\n\u001B[0;32m    445\u001B[0m         \u001B[38;5;28;01mexcept\u001B[39;00m \u001B[38;5;167;01mBaseException\u001B[39;00m \u001B[38;5;28;01mas\u001B[39;00m e:\n\u001B[0;32m    446\u001B[0m             \u001B[38;5;66;03m# Remove the TypeError from the exception chain in\u001B[39;00m\n\u001B[0;32m    447\u001B[0m             \u001B[38;5;66;03m# Python 3 (including for exceptions like SystemExit).\u001B[39;00m\n\u001B[0;32m    448\u001B[0m             \u001B[38;5;66;03m# Otherwise it looks like a bug in the code.\u001B[39;00m\n\u001B[1;32m--> 449\u001B[0m             \u001B[43msix\u001B[49m\u001B[38;5;241;43m.\u001B[39;49m\u001B[43mraise_from\u001B[49m\u001B[43m(\u001B[49m\u001B[43me\u001B[49m\u001B[43m,\u001B[49m\u001B[43m \u001B[49m\u001B[38;5;28;43;01mNone\u001B[39;49;00m\u001B[43m)\u001B[49m\n\u001B[0;32m    450\u001B[0m \u001B[38;5;28;01mexcept\u001B[39;00m (SocketTimeout, BaseSSLError, SocketError) \u001B[38;5;28;01mas\u001B[39;00m e:\n\u001B[0;32m    451\u001B[0m     \u001B[38;5;28mself\u001B[39m\u001B[38;5;241m.\u001B[39m_raise_timeout(err\u001B[38;5;241m=\u001B[39me, url\u001B[38;5;241m=\u001B[39murl, timeout_value\u001B[38;5;241m=\u001B[39mread_timeout)\n",
      "File \u001B[1;32m<string>:3\u001B[0m, in \u001B[0;36mraise_from\u001B[1;34m(value, from_value)\u001B[0m\n",
      "File \u001B[1;32m~\\AppData\\Local\\Programs\\Python\\Python310\\lib\\site-packages\\urllib3\\connectionpool.py:444\u001B[0m, in \u001B[0;36mHTTPConnectionPool._make_request\u001B[1;34m(self, conn, method, url, timeout, chunked, **httplib_request_kw)\u001B[0m\n\u001B[0;32m    441\u001B[0m \u001B[38;5;28;01mexcept\u001B[39;00m \u001B[38;5;167;01mTypeError\u001B[39;00m:\n\u001B[0;32m    442\u001B[0m     \u001B[38;5;66;03m# Python 3\u001B[39;00m\n\u001B[0;32m    443\u001B[0m     \u001B[38;5;28;01mtry\u001B[39;00m:\n\u001B[1;32m--> 444\u001B[0m         httplib_response \u001B[38;5;241m=\u001B[39m \u001B[43mconn\u001B[49m\u001B[38;5;241;43m.\u001B[39;49m\u001B[43mgetresponse\u001B[49m\u001B[43m(\u001B[49m\u001B[43m)\u001B[49m\n\u001B[0;32m    445\u001B[0m     \u001B[38;5;28;01mexcept\u001B[39;00m \u001B[38;5;167;01mBaseException\u001B[39;00m \u001B[38;5;28;01mas\u001B[39;00m e:\n\u001B[0;32m    446\u001B[0m         \u001B[38;5;66;03m# Remove the TypeError from the exception chain in\u001B[39;00m\n\u001B[0;32m    447\u001B[0m         \u001B[38;5;66;03m# Python 3 (including for exceptions like SystemExit).\u001B[39;00m\n\u001B[0;32m    448\u001B[0m         \u001B[38;5;66;03m# Otherwise it looks like a bug in the code.\u001B[39;00m\n\u001B[0;32m    449\u001B[0m         six\u001B[38;5;241m.\u001B[39mraise_from(e, \u001B[38;5;28;01mNone\u001B[39;00m)\n",
      "File \u001B[1;32m~\\AppData\\Local\\Programs\\Python\\Python310\\lib\\http\\client.py:1374\u001B[0m, in \u001B[0;36mHTTPConnection.getresponse\u001B[1;34m(self)\u001B[0m\n\u001B[0;32m   1372\u001B[0m \u001B[38;5;28;01mtry\u001B[39;00m:\n\u001B[0;32m   1373\u001B[0m     \u001B[38;5;28;01mtry\u001B[39;00m:\n\u001B[1;32m-> 1374\u001B[0m         \u001B[43mresponse\u001B[49m\u001B[38;5;241;43m.\u001B[39;49m\u001B[43mbegin\u001B[49m\u001B[43m(\u001B[49m\u001B[43m)\u001B[49m\n\u001B[0;32m   1375\u001B[0m     \u001B[38;5;28;01mexcept\u001B[39;00m \u001B[38;5;167;01mConnectionError\u001B[39;00m:\n\u001B[0;32m   1376\u001B[0m         \u001B[38;5;28mself\u001B[39m\u001B[38;5;241m.\u001B[39mclose()\n",
      "File \u001B[1;32m~\\AppData\\Local\\Programs\\Python\\Python310\\lib\\http\\client.py:318\u001B[0m, in \u001B[0;36mHTTPResponse.begin\u001B[1;34m(self)\u001B[0m\n\u001B[0;32m    316\u001B[0m \u001B[38;5;66;03m# read until we get a non-100 response\u001B[39;00m\n\u001B[0;32m    317\u001B[0m \u001B[38;5;28;01mwhile\u001B[39;00m \u001B[38;5;28;01mTrue\u001B[39;00m:\n\u001B[1;32m--> 318\u001B[0m     version, status, reason \u001B[38;5;241m=\u001B[39m \u001B[38;5;28;43mself\u001B[39;49m\u001B[38;5;241;43m.\u001B[39;49m\u001B[43m_read_status\u001B[49m\u001B[43m(\u001B[49m\u001B[43m)\u001B[49m\n\u001B[0;32m    319\u001B[0m     \u001B[38;5;28;01mif\u001B[39;00m status \u001B[38;5;241m!=\u001B[39m CONTINUE:\n\u001B[0;32m    320\u001B[0m         \u001B[38;5;28;01mbreak\u001B[39;00m\n",
      "File \u001B[1;32m~\\AppData\\Local\\Programs\\Python\\Python310\\lib\\http\\client.py:279\u001B[0m, in \u001B[0;36mHTTPResponse._read_status\u001B[1;34m(self)\u001B[0m\n\u001B[0;32m    278\u001B[0m \u001B[38;5;28;01mdef\u001B[39;00m \u001B[38;5;21m_read_status\u001B[39m(\u001B[38;5;28mself\u001B[39m):\n\u001B[1;32m--> 279\u001B[0m     line \u001B[38;5;241m=\u001B[39m \u001B[38;5;28mstr\u001B[39m(\u001B[38;5;28;43mself\u001B[39;49m\u001B[38;5;241;43m.\u001B[39;49m\u001B[43mfp\u001B[49m\u001B[38;5;241;43m.\u001B[39;49m\u001B[43mreadline\u001B[49m\u001B[43m(\u001B[49m\u001B[43m_MAXLINE\u001B[49m\u001B[43m \u001B[49m\u001B[38;5;241;43m+\u001B[39;49m\u001B[43m \u001B[49m\u001B[38;5;241;43m1\u001B[39;49m\u001B[43m)\u001B[49m, \u001B[38;5;124m\"\u001B[39m\u001B[38;5;124miso-8859-1\u001B[39m\u001B[38;5;124m\"\u001B[39m)\n\u001B[0;32m    280\u001B[0m     \u001B[38;5;28;01mif\u001B[39;00m \u001B[38;5;28mlen\u001B[39m(line) \u001B[38;5;241m>\u001B[39m _MAXLINE:\n\u001B[0;32m    281\u001B[0m         \u001B[38;5;28;01mraise\u001B[39;00m LineTooLong(\u001B[38;5;124m\"\u001B[39m\u001B[38;5;124mstatus line\u001B[39m\u001B[38;5;124m\"\u001B[39m)\n",
      "File \u001B[1;32m~\\AppData\\Local\\Programs\\Python\\Python310\\lib\\socket.py:705\u001B[0m, in \u001B[0;36mSocketIO.readinto\u001B[1;34m(self, b)\u001B[0m\n\u001B[0;32m    703\u001B[0m \u001B[38;5;28;01mwhile\u001B[39;00m \u001B[38;5;28;01mTrue\u001B[39;00m:\n\u001B[0;32m    704\u001B[0m     \u001B[38;5;28;01mtry\u001B[39;00m:\n\u001B[1;32m--> 705\u001B[0m         \u001B[38;5;28;01mreturn\u001B[39;00m \u001B[38;5;28;43mself\u001B[39;49m\u001B[38;5;241;43m.\u001B[39;49m\u001B[43m_sock\u001B[49m\u001B[38;5;241;43m.\u001B[39;49m\u001B[43mrecv_into\u001B[49m\u001B[43m(\u001B[49m\u001B[43mb\u001B[49m\u001B[43m)\u001B[49m\n\u001B[0;32m    706\u001B[0m     \u001B[38;5;28;01mexcept\u001B[39;00m timeout:\n\u001B[0;32m    707\u001B[0m         \u001B[38;5;28mself\u001B[39m\u001B[38;5;241m.\u001B[39m_timeout_occurred \u001B[38;5;241m=\u001B[39m \u001B[38;5;28;01mTrue\u001B[39;00m\n",
      "File \u001B[1;32m~\\AppData\\Local\\Programs\\Python\\Python310\\lib\\ssl.py:1273\u001B[0m, in \u001B[0;36mSSLSocket.recv_into\u001B[1;34m(self, buffer, nbytes, flags)\u001B[0m\n\u001B[0;32m   1269\u001B[0m     \u001B[38;5;28;01mif\u001B[39;00m flags \u001B[38;5;241m!=\u001B[39m \u001B[38;5;241m0\u001B[39m:\n\u001B[0;32m   1270\u001B[0m         \u001B[38;5;28;01mraise\u001B[39;00m \u001B[38;5;167;01mValueError\u001B[39;00m(\n\u001B[0;32m   1271\u001B[0m           \u001B[38;5;124m\"\u001B[39m\u001B[38;5;124mnon-zero flags not allowed in calls to recv_into() on \u001B[39m\u001B[38;5;132;01m%s\u001B[39;00m\u001B[38;5;124m\"\u001B[39m \u001B[38;5;241m%\u001B[39m\n\u001B[0;32m   1272\u001B[0m           \u001B[38;5;28mself\u001B[39m\u001B[38;5;241m.\u001B[39m\u001B[38;5;18m__class__\u001B[39m)\n\u001B[1;32m-> 1273\u001B[0m     \u001B[38;5;28;01mreturn\u001B[39;00m \u001B[38;5;28;43mself\u001B[39;49m\u001B[38;5;241;43m.\u001B[39;49m\u001B[43mread\u001B[49m\u001B[43m(\u001B[49m\u001B[43mnbytes\u001B[49m\u001B[43m,\u001B[49m\u001B[43m \u001B[49m\u001B[43mbuffer\u001B[49m\u001B[43m)\u001B[49m\n\u001B[0;32m   1274\u001B[0m \u001B[38;5;28;01melse\u001B[39;00m:\n\u001B[0;32m   1275\u001B[0m     \u001B[38;5;28;01mreturn\u001B[39;00m \u001B[38;5;28msuper\u001B[39m()\u001B[38;5;241m.\u001B[39mrecv_into(buffer, nbytes, flags)\n",
      "File \u001B[1;32m~\\AppData\\Local\\Programs\\Python\\Python310\\lib\\ssl.py:1129\u001B[0m, in \u001B[0;36mSSLSocket.read\u001B[1;34m(self, len, buffer)\u001B[0m\n\u001B[0;32m   1127\u001B[0m \u001B[38;5;28;01mtry\u001B[39;00m:\n\u001B[0;32m   1128\u001B[0m     \u001B[38;5;28;01mif\u001B[39;00m buffer \u001B[38;5;129;01mis\u001B[39;00m \u001B[38;5;129;01mnot\u001B[39;00m \u001B[38;5;28;01mNone\u001B[39;00m:\n\u001B[1;32m-> 1129\u001B[0m         \u001B[38;5;28;01mreturn\u001B[39;00m \u001B[38;5;28;43mself\u001B[39;49m\u001B[38;5;241;43m.\u001B[39;49m\u001B[43m_sslobj\u001B[49m\u001B[38;5;241;43m.\u001B[39;49m\u001B[43mread\u001B[49m\u001B[43m(\u001B[49m\u001B[38;5;28;43mlen\u001B[39;49m\u001B[43m,\u001B[49m\u001B[43m \u001B[49m\u001B[43mbuffer\u001B[49m\u001B[43m)\u001B[49m\n\u001B[0;32m   1130\u001B[0m     \u001B[38;5;28;01melse\u001B[39;00m:\n\u001B[0;32m   1131\u001B[0m         \u001B[38;5;28;01mreturn\u001B[39;00m \u001B[38;5;28mself\u001B[39m\u001B[38;5;241m.\u001B[39m_sslobj\u001B[38;5;241m.\u001B[39mread(\u001B[38;5;28mlen\u001B[39m)\n",
      "\u001B[1;31mKeyboardInterrupt\u001B[0m: "
     ]
    }
   ],
   "source": [
    "response = requests.get('https://www.americanas.com.br/produto/5224534212/', headers=Headers_Choice)\n",
    "\n",
    "while response.status_code != 200:\n",
    "    Headers_Choice = Random_user_agents(\"Americanas\")\n",
    "    response = requests.get('https://www.americanas.com.br/produto/5224534212/', headers=Headers_Choice)\n",
    "    print(response.status_code)"
   ],
   "metadata": {
    "collapsed": false,
    "pycharm": {
     "name": "#%%\n"
    }
   }
  },
  {
   "cell_type": "code",
   "execution_count": 9,
   "metadata": {
    "pycharm": {
     "name": "#%%\n"
    }
   },
   "outputs": [],
   "source": [
    "def get_atributes(url):\n",
    "    time.sleep(30)\n",
    "\n",
    "    Headers_Choice = Random_user_agents(\"Americanas\")\n",
    "\n",
    "    response = requests.get(url, headers=Headers_Choice)\n",
    "\n",
    "    if response.status_code != 200:\n",
    "        \n",
    "        Headers_Choice = Random_user_agents(\"Americanas\")\n",
    "        response = requests.get(url, headers=Headers_Choice)\n",
    "\n",
    "    else:\n",
    "        pass\n",
    "\n",
    "    html = response.text\n",
    "\n",
    "    soup = BeautifulSoup(html, 'html.parser')\n",
    "\n",
    "    #Title\n",
    "    try:\n",
    "        Title_Americanas.append(soup.find(class_='product-title__Title-sc-1hlrxcw-0 jyetLr').text)\n",
    "    except:\n",
    "        Title_Americanas.append(\"Erro\")\n",
    "\n",
    "    #Preço\n",
    "    try:\n",
    "        Price_Americanas.append(soup.find(class_='styles__PriceText-sc-x06r9i-0 dUTOlD priceSales').text)\n",
    "    except:\n",
    "        Price_Americanas.append('Erro')\n",
    "\n",
    "    #Installment\n",
    "    try:\n",
    "        Installment_Americanas_valor_parcela.append(soup.find(class_='payment-installment-text__Text-sc-12txe9z-0 bfFyfi').text)\n",
    "    except:\n",
    "        Installment_Americanas_valor_parcela.append(\"Erro\")\n",
    "\n",
    "    #Seller\n",
    "    try:\n",
    "        Sellers_Americanas.append(soup.find(class_='offers-box__Wrapper-sc-189v1x3-0 kegaFO').text)\n",
    "    except:\n",
    "        Sellers_Americanas.append(\"Erro\")\n",
    "\n",
    "    #More offers \n",
    "    try:\n",
    "        More_offers_americanas.append(soup.find(class_='more-offers__Touchable-sc-15yqej3-2 hYfNEd')['href'])\n",
    "    except:\n",
    "        More_offers_americanas.append(\"Erro\")"
   ]
  },
  {
   "cell_type": "code",
   "execution_count": 10,
   "outputs": [
    {
     "name": "stderr",
     "output_type": "stream",
     "text": [
      "100%|██████████| 92/92 [46:49<00:00, 30.54s/it]\n"
     ]
    }
   ],
   "source": [
    "for url in tqdm(Links_Americanas):\n",
    "    get_atributes(url)"
   ],
   "metadata": {
    "collapsed": false,
    "pycharm": {
     "name": "#%%\n"
    }
   }
  },
  {
   "cell_type": "code",
   "execution_count": 11,
   "metadata": {
    "pycharm": {
     "name": "#%%\n"
    }
   },
   "outputs": [],
   "source": [
    "def create_dataframe(url, sellers, price, installment, title):\n",
    "    df_raw = pd.DataFrame()\n",
    "\n",
    "    Hoje = pd.to_datetime('today', errors='ignore').date()\n",
    "\n",
    "    df_raw['URL'] = url\n",
    "\n",
    "    df_raw['DATE'] = Hoje\n",
    "\n",
    "    df_raw['MARKETPLACE'] = 'Americanas'\n",
    "\n",
    "    df_raw['SELLER'] = sellers\n",
    "    df_raw['SELLER'] = df_raw['SELLER'].str.replace(\"Este produto é vendido e entregue por \",\"\")\n",
    "    df_raw['SELLER'] = df_raw['SELLER'].str.replace(\"Este produto é vendido por \",\"\")\n",
    "    df_raw['SELLER'] = df_raw['SELLER'].str.partition(\".\")[0]\n",
    "    df_raw['SELLER'] = df_raw['SELLER'].str.partition(\" e\")[0]\n",
    "\n",
    "    df_raw['PRICE'] = price\n",
    "\n",
    "\n",
    "\n",
    "    df_raw['PRICE'] = df_raw['PRICE'].str.replace(\"R$ \", \"\", regex=False)\n",
    "    df_raw['PRICE'] = df_raw['PRICE'].str.replace(\".\",\"\")\n",
    "    df_raw['PRICE'] = df_raw['PRICE'].str.replace(\",\",\".\")\n",
    "\n",
    "\n",
    "\n",
    "    df_raw['Installment_full'] = installment\n",
    "    df_raw['PARCEL'] = df_raw['Installment_full'].str.partition('x')[0].str.partition(\"até \")[2]\n",
    "\n",
    "    df_raw['INSTALLMENT'] = df_raw['Installment_full'].str.partition(\"x\")[2].str.partition(\"R$ \")[2]\n",
    "    df_raw['INSTALLMENT'] = df_raw['INSTALLMENT'].str.replace(\".\",\"\")\n",
    "    df_raw['INSTALLMENT'] = df_raw['INSTALLMENT'].str.replace(\",\",\".\")\n",
    "\n",
    "    df_raw['PRODUCT'] = title\n",
    "\n",
    "    df_raw['MORE'] = More_offers_americanas\n",
    "\n",
    "\n",
    "    df_raw['ID'] = df_raw['URL'].str.partition(\"produto/\")[2].str.partition('?')[0]\n",
    "\n",
    "\n",
    "    #df_raw = df_raw[df_raw['PRICE'] != \"Erro\"]\n",
    "    #df_raw['PRICE'] = df_raw['PRICE'].astype('float')\n",
    "\n",
    "    #df_raw = df_raw[df_raw['PARCEL'] != \"\"]\n",
    "\n",
    "    #df_raw['PARCEL'] = df_raw['PARCEL'].astype('int')\n",
    "    #df_raw['PRICE'] = df_raw['PRICE'].astype('float')\n",
    "\n",
    "    #df_raw = df_raw[df_raw['PRICE'] < 15000]\n",
    "    #df_raw = df_raw[df_raw['PRICE'] > 100]\n",
    "\n",
    "    #df_raw['INSTALLMENT'] = df_raw['INSTALLMENT'].astype(\"float\")\n",
    "\n",
    "    #df_raw['INSTALLMENT_PAYMENT'] = df_raw['PARCEL'] * df_raw['INSTALLMENT']\n",
    "\n",
    "    #df_raw = df_raw[['DATE', 'URL', 'MARKETPLACE', 'SELLER', 'PRICE', 'PARCEL', 'INSTALLMENT', 'INSTALLMENT_PAYMENT','ID', 'PRODUCT',  'MORE']]\n",
    "\n",
    "    df_raw = df_raw.drop_duplicates(subset=['ID'])\n",
    "\n",
    "\n",
    "    return df_raw"
   ]
  },
  {
   "cell_type": "code",
   "execution_count": 12,
   "outputs": [
    {
     "name": "stderr",
     "output_type": "stream",
     "text": [
      "  0%|          | 0/92 [00:30<?, ?it/s]\n",
      "\n",
      "KeyboardInterrupt\n",
      "\n"
     ]
    }
   ],
   "source": [
    "for url in tqdm(Links_Americanas):\n",
    "    get_atributes(url)"
   ],
   "metadata": {
    "collapsed": false,
    "pycharm": {
     "name": "#%%\n"
    }
   }
  },
  {
   "cell_type": "code",
   "execution_count": 13,
   "metadata": {
    "pycharm": {
     "name": "#%%\n"
    }
   },
   "outputs": [
    {
     "name": "stderr",
     "output_type": "stream",
     "text": [
      "C:\\Users\\pedro\\AppData\\Local\\Temp\\ipykernel_40344\\3388690346.py:23: FutureWarning: The default value of regex will change from True to False in a future version. In addition, single character regular expressions will *not* be treated as literal strings when regex=True.\n",
      "  df_raw['PRICE'] = df_raw['PRICE'].str.replace(\".\",\"\")\n",
      "C:\\Users\\pedro\\AppData\\Local\\Temp\\ipykernel_40344\\3388690346.py:32: FutureWarning: The default value of regex will change from True to False in a future version. In addition, single character regular expressions will *not* be treated as literal strings when regex=True.\n",
      "  df_raw['INSTALLMENT'] = df_raw['INSTALLMENT'].str.replace(\".\",\"\")\n"
     ]
    }
   ],
   "source": [
    "Dataset_Americanas = create_dataframe(Links_Americanas, Sellers_Americanas, Price_Americanas, Installment_Americanas_valor_parcela, Title_Americanas)"
   ]
  },
  {
   "cell_type": "code",
   "execution_count": 14,
   "metadata": {
    "pycharm": {
     "name": "#%%\n"
    }
   },
   "outputs": [
    {
     "data": {
      "text/plain": "                                                  URL        DATE MARKETPLACE  \\\n0   https://www.americanas.com.br/produto/13371036...  2022-08-04  Americanas   \n1   https://www.americanas.com.br/produto/47032984...  2022-08-04  Americanas   \n2   https://www.americanas.com.br/produto/52035112...  2022-08-04  Americanas   \n3   https://www.americanas.com.br/produto/47989815...  2022-08-04  Americanas   \n4   https://www.americanas.com.br/produto/46056856...  2022-08-04  Americanas   \n..                                                ...         ...         ...   \n86  https://www.americanas.com.br/produto/54331407...  2022-08-04  Americanas   \n88  https://www.americanas.com.br/produto/23011597...  2022-08-04  Americanas   \n89  https://www.americanas.com.br/produto/39226383...  2022-08-04  Americanas   \n90  https://www.americanas.com.br/produto/53174562...  2022-08-04  Americanas   \n91  https://www.americanas.com.br/produto/54197610...  2022-08-04  Americanas   \n\n                     SELLER   PRICE                 Installment_full PARCEL  \\\n0                    Pichau  307.90               até 6x de R$ 51,31      6   \n1   Olist Department Store   559.00               até 8x de R$ 69,87      8   \n2             SHOP BIG BOSS  259.51  R$ 294,90 em até 5x de R$ 58,98      5   \n3          KADRI TECNOLOGIA  328.90               até 6x de R$ 54,81      6   \n4             LOJA VANGUARD  494.60               até 8x de R$ 61,82      8   \n..                      ...     ...                              ...    ...   \n86                     Erro    Erro                             Erro          \n88                     Erro    Erro                             Erro          \n89                     Erro    Erro                             Erro          \n90                     Erro    Erro                             Erro          \n91                     Erro    Erro                             Erro          \n\n   INSTALLMENT                                            PRODUCT  \\\n0        51.31            Mesa Digitalizadora One By Wacom CTL472   \n1        69.87            Mesa Digitalizadora One By Wacom Ctl472   \n2        58.98             Wacom One CTL472 - Mesa Digitalizadora   \n3        54.81    Mesa digitalizadora CTL472 one by wacom redwood   \n4        61.82  Mesa digitalizadora wacom one by pequena usb -...   \n..         ...                                                ...   \n86                                                           Erro   \n88                                                           Erro   \n89                                                           Erro   \n90                                                           Erro   \n91                                                           Erro   \n\n                                                 MORE          ID  \n0   /parceiros/133710364?buyboxToken=smartbuybox-a...   133710364  \n1                                                Erro  4703298499  \n2                                                Erro  5203511290  \n3                                                Erro  4798981505  \n4                                                Erro  4605685663  \n..                                                ...         ...  \n86                                               Erro  5433140703  \n88                                               Erro  2301159787  \n89                                               Erro  3922638369  \n90                                               Erro  5317456209  \n91                                               Erro  5419761079  \n\n[79 rows x 11 columns]",
      "text/html": "<div>\n<style scoped>\n    .dataframe tbody tr th:only-of-type {\n        vertical-align: middle;\n    }\n\n    .dataframe tbody tr th {\n        vertical-align: top;\n    }\n\n    .dataframe thead th {\n        text-align: right;\n    }\n</style>\n<table border=\"1\" class=\"dataframe\">\n  <thead>\n    <tr style=\"text-align: right;\">\n      <th></th>\n      <th>URL</th>\n      <th>DATE</th>\n      <th>MARKETPLACE</th>\n      <th>SELLER</th>\n      <th>PRICE</th>\n      <th>Installment_full</th>\n      <th>PARCEL</th>\n      <th>INSTALLMENT</th>\n      <th>PRODUCT</th>\n      <th>MORE</th>\n      <th>ID</th>\n    </tr>\n  </thead>\n  <tbody>\n    <tr>\n      <th>0</th>\n      <td>https://www.americanas.com.br/produto/13371036...</td>\n      <td>2022-08-04</td>\n      <td>Americanas</td>\n      <td>Pichau</td>\n      <td>307.90</td>\n      <td>até 6x de R$ 51,31</td>\n      <td>6</td>\n      <td>51.31</td>\n      <td>Mesa Digitalizadora One By Wacom CTL472</td>\n      <td>/parceiros/133710364?buyboxToken=smartbuybox-a...</td>\n      <td>133710364</td>\n    </tr>\n    <tr>\n      <th>1</th>\n      <td>https://www.americanas.com.br/produto/47032984...</td>\n      <td>2022-08-04</td>\n      <td>Americanas</td>\n      <td>Olist Department Store</td>\n      <td>559.00</td>\n      <td>até 8x de R$ 69,87</td>\n      <td>8</td>\n      <td>69.87</td>\n      <td>Mesa Digitalizadora One By Wacom Ctl472</td>\n      <td>Erro</td>\n      <td>4703298499</td>\n    </tr>\n    <tr>\n      <th>2</th>\n      <td>https://www.americanas.com.br/produto/52035112...</td>\n      <td>2022-08-04</td>\n      <td>Americanas</td>\n      <td>SHOP BIG BOSS</td>\n      <td>259.51</td>\n      <td>R$ 294,90 em até 5x de R$ 58,98</td>\n      <td>5</td>\n      <td>58.98</td>\n      <td>Wacom One CTL472 - Mesa Digitalizadora</td>\n      <td>Erro</td>\n      <td>5203511290</td>\n    </tr>\n    <tr>\n      <th>3</th>\n      <td>https://www.americanas.com.br/produto/47989815...</td>\n      <td>2022-08-04</td>\n      <td>Americanas</td>\n      <td>KADRI TECNOLOGIA</td>\n      <td>328.90</td>\n      <td>até 6x de R$ 54,81</td>\n      <td>6</td>\n      <td>54.81</td>\n      <td>Mesa digitalizadora CTL472 one by wacom redwood</td>\n      <td>Erro</td>\n      <td>4798981505</td>\n    </tr>\n    <tr>\n      <th>4</th>\n      <td>https://www.americanas.com.br/produto/46056856...</td>\n      <td>2022-08-04</td>\n      <td>Americanas</td>\n      <td>LOJA VANGUARD</td>\n      <td>494.60</td>\n      <td>até 8x de R$ 61,82</td>\n      <td>8</td>\n      <td>61.82</td>\n      <td>Mesa digitalizadora wacom one by pequena usb -...</td>\n      <td>Erro</td>\n      <td>4605685663</td>\n    </tr>\n    <tr>\n      <th>...</th>\n      <td>...</td>\n      <td>...</td>\n      <td>...</td>\n      <td>...</td>\n      <td>...</td>\n      <td>...</td>\n      <td>...</td>\n      <td>...</td>\n      <td>...</td>\n      <td>...</td>\n      <td>...</td>\n    </tr>\n    <tr>\n      <th>86</th>\n      <td>https://www.americanas.com.br/produto/54331407...</td>\n      <td>2022-08-04</td>\n      <td>Americanas</td>\n      <td>Erro</td>\n      <td>Erro</td>\n      <td>Erro</td>\n      <td></td>\n      <td></td>\n      <td>Erro</td>\n      <td>Erro</td>\n      <td>5433140703</td>\n    </tr>\n    <tr>\n      <th>88</th>\n      <td>https://www.americanas.com.br/produto/23011597...</td>\n      <td>2022-08-04</td>\n      <td>Americanas</td>\n      <td>Erro</td>\n      <td>Erro</td>\n      <td>Erro</td>\n      <td></td>\n      <td></td>\n      <td>Erro</td>\n      <td>Erro</td>\n      <td>2301159787</td>\n    </tr>\n    <tr>\n      <th>89</th>\n      <td>https://www.americanas.com.br/produto/39226383...</td>\n      <td>2022-08-04</td>\n      <td>Americanas</td>\n      <td>Erro</td>\n      <td>Erro</td>\n      <td>Erro</td>\n      <td></td>\n      <td></td>\n      <td>Erro</td>\n      <td>Erro</td>\n      <td>3922638369</td>\n    </tr>\n    <tr>\n      <th>90</th>\n      <td>https://www.americanas.com.br/produto/53174562...</td>\n      <td>2022-08-04</td>\n      <td>Americanas</td>\n      <td>Erro</td>\n      <td>Erro</td>\n      <td>Erro</td>\n      <td></td>\n      <td></td>\n      <td>Erro</td>\n      <td>Erro</td>\n      <td>5317456209</td>\n    </tr>\n    <tr>\n      <th>91</th>\n      <td>https://www.americanas.com.br/produto/54197610...</td>\n      <td>2022-08-04</td>\n      <td>Americanas</td>\n      <td>Erro</td>\n      <td>Erro</td>\n      <td>Erro</td>\n      <td></td>\n      <td></td>\n      <td>Erro</td>\n      <td>Erro</td>\n      <td>5419761079</td>\n    </tr>\n  </tbody>\n</table>\n<p>79 rows × 11 columns</p>\n</div>"
     },
     "execution_count": 14,
     "metadata": {},
     "output_type": "execute_result"
    }
   ],
   "source": [
    "Dataset_Americanas"
   ]
  },
  {
   "cell_type": "code",
   "execution_count": null,
   "outputs": [],
   "source": [
    "Dataset_More_sellers = Dataset_Americanas[Dataset_Americanas['MORE'].str.len() > 10]\n",
    "Dataset_More_sellers['MORE'] = 'https://www.americanas.com.br' + Dataset_More_sellers['MORE'].str.partition(\"?\")[0] + \"?productSku=\" + Dataset_More_sellers['ID']\n",
    "Dataset_More_sellers"
   ],
   "metadata": {
    "collapsed": false,
    "pycharm": {
     "name": "#%%\n"
    }
   }
  },
  {
   "cell_type": "code",
   "execution_count": null,
   "outputs": [],
   "source": [
    "More_price = []\n",
    "More_Installment = []\n",
    "More_Seller = []\n",
    "More_url = []"
   ],
   "metadata": {
    "collapsed": false,
    "pycharm": {
     "name": "#%%\n"
    }
   }
  },
  {
   "cell_type": "code",
   "execution_count": null,
   "outputs": [],
   "source": [
    "for url in tqdm(Dataset_More_sellers['MORE']):\n",
    "    time.sleep(10)\n",
    "\n",
    "    Headers_Choice = Random_user_agents(\"Americanas\")\n",
    "\n",
    "    response = requests.get(url, headers=Headers_Choice)\n",
    "\n",
    "    if response.status_code != 200:\n",
    "\n",
    "        Headers_Choice = Random_user_agents(\"Americanas\")\n",
    "        response = requests.get(url, headers=Headers_Choice)\n",
    "\n",
    "    else:\n",
    "        pass\n",
    "\n",
    "    html = response.text\n",
    "\n",
    "    soup = BeautifulSoup(html, 'html.parser')\n",
    "\n",
    "    #Title\n",
    "    try:\n",
    "        for price in soup.find_all(class_='product-title__Title-sc-1hlrxcw-0 jyetLr')[1:]:\n",
    "            More_price.append(price.text)\n",
    "            More_url.append(url)\n",
    "    except:\n",
    "        More_price.append(\"Erro\")\n",
    "\n",
    "    #Preço\n",
    "    try:\n",
    "        for installment in soup.find_all(class_='styles__PriceText-sc-x06r9i-0 dUTOlD priceSales')[1:]:\n",
    "            More_Installment.append(installment.text)\n",
    "    except:\n",
    "        More_Installment.append('Erro')\n",
    "\n",
    "    #Installment\n",
    "    try:\n",
    "        for seller in soup.find_all(class_='components__Link-sc-as1sfg-0 dYwwnK')[1:]:\n",
    "            More_Seller.append(seller.text)\n",
    "    except:\n",
    "        More_Seller.append(\"Erro\")"
   ],
   "metadata": {
    "collapsed": false,
    "pycharm": {
     "name": "#%%\n"
    }
   }
  },
  {
   "cell_type": "code",
   "execution_count": null,
   "outputs": [],
   "source": [
    "More_Seller_2 = [s for s in More_Seller if not 'Americanas' in s]"
   ],
   "metadata": {
    "collapsed": false,
    "pycharm": {
     "name": "#%%\n"
    }
   }
  },
  {
   "cell_type": "code",
   "execution_count": null,
   "outputs": [],
   "source": [
    "print(len(More_price))\n",
    "print(len(More_Installment))\n",
    "print(len(More_Seller))\n",
    "print(len(More_Seller_2))"
   ],
   "metadata": {
    "collapsed": false,
    "pycharm": {
     "name": "#%%\n"
    }
   }
  },
  {
   "cell_type": "code",
   "execution_count": null,
   "outputs": [],
   "source": [
    "Dataset_More = pd.DataFrame()\n",
    "Dataset_More['URL'] = More_url\n",
    "Dataset_More['DATA'] = pd.to_datetime('today', errors='ignore').date()\n",
    "Dataset_More['MARKETPLACE'] = 'Americanas'\n",
    "Dataset_More['SELLER'] = More_Seller_2\n",
    "\n",
    "Dataset_More['PRICE'] = More_price\n",
    "Dataset_More['PRICE'] = Dataset_More['PRICE'].str.partition(\"R$\")[2]\n",
    "Dataset_More['PRICE'] = Dataset_More['PRICE'].str.replace(\".\",\"\")\n",
    "Dataset_More['PRICE'] = Dataset_More['PRICE'].str.replace(\",\",\".\")\n",
    "Dataset_More['PRICE'] = Dataset_More['PRICE'].astype(\"float\")\n",
    "\n",
    "Dataset_More['INSTALLMENT_BRUTO'] = More_Installment\n",
    "Dataset_More['PARCEL'] = Dataset_More['INSTALLMENT_BRUTO'].str.partition(\"x\")[0]\n",
    "Dataset_More['PARCEL'] = Dataset_More['PARCEL'].str.partition(\"até \")[2]\n",
    "# Dataset_More['PARCEL'] = Dataset_More['PARCEL'].astype(\"int\")\n",
    "# Dataset_More['PARCEL'] = Dataset_More['PARCEL'] / 10\n",
    "#\n",
    "# Dataset_More['INSTALLMENT'] = Dataset_More['PRICE'] / Dataset_More['PARCEL']\n",
    "\n",
    "#Dataset_More = Dataset_More[['DATE', 'URL', 'MARKETPLACE', 'SELLER', 'PRICE', 'PARCEL', 'INSTALLMENT', 'INSTALLMENT_PAYMENT','ID', 'PRODUCT',  'MORE']]\n",
    "\n",
    "Dataset_More"
   ],
   "metadata": {
    "collapsed": false,
    "pycharm": {
     "name": "#%%\n"
    }
   }
  },
  {
   "cell_type": "code",
   "execution_count": 15,
   "outputs": [],
   "source": [
    "Dataset_Americanas.to_excel(r\"C:\\Users\\pedro\\Documents\\Turte Brand Protection\\Turtle_Software_Artemis\\Data\\Brands_Downloads\\Wacom\\Americanas_Wacom.xlsx\", index=False)"
   ],
   "metadata": {
    "collapsed": false,
    "pycharm": {
     "name": "#%%\n"
    }
   }
  },
  {
   "cell_type": "markdown",
   "source": [],
   "metadata": {
    "collapsed": false,
    "pycharm": {
     "name": "#%% md\n"
    }
   }
  },
  {
   "cell_type": "code",
   "execution_count": null,
   "outputs": [],
   "source": [
    "More_price"
   ],
   "metadata": {
    "collapsed": false,
    "pycharm": {
     "name": "#%%\n"
    }
   }
  },
  {
   "cell_type": "code",
   "execution_count": null,
   "outputs": [],
   "source": [
    "More_Seller_2"
   ],
   "metadata": {
    "collapsed": false,
    "pycharm": {
     "name": "#%%\n"
    }
   }
  },
  {
   "cell_type": "code",
   "execution_count": null,
   "outputs": [],
   "source": [
    "More_url"
   ],
   "metadata": {
    "collapsed": false,
    "pycharm": {
     "name": "#%%\n"
    }
   }
  },
  {
   "cell_type": "code",
   "execution_count": null,
   "outputs": [],
   "source": [
    "Dataset_More_sellers['MORE'][1]"
   ],
   "metadata": {
    "collapsed": false,
    "pycharm": {
     "name": "#%%\n"
    }
   }
  },
  {
   "cell_type": "code",
   "execution_count": null,
   "outputs": [],
   "source": [
    "Headers_Choice = Random_user_agents(\"Americanas\")\n",
    "\n",
    "response = requests.get(Dataset_More_sellers['MORE'][1], headers=Headers_Choice)\n",
    "\n",
    "html = response.text\n",
    "\n",
    "soup = BeautifulSoup(html, 'html.parser')\n",
    "\n",
    "for seller in soup.find_all(class_='sold-and-delivery__Seller-sc-1fgd6h1-2 ebhdBh')[1:]:\n",
    "    print(seller.text)"
   ],
   "metadata": {
    "collapsed": false,
    "pycharm": {
     "name": "#%%\n"
    }
   }
  },
  {
   "cell_type": "code",
   "execution_count": null,
   "outputs": [],
   "source": [
    "More_Seller"
   ],
   "metadata": {
    "collapsed": false,
    "pycharm": {
     "name": "#%%\n"
    }
   }
  },
  {
   "cell_type": "code",
   "execution_count": null,
   "outputs": [],
   "source": [
    "Dataset_Americanas.to_excel(r\"C:\\Users\\pedro\\Documents\\Turte Brand Protection\\Turtle_Software_Artemis\\Data\\Brands_Downloads\\Americanas_Wacom.xlsx\", index=False)"
   ],
   "metadata": {
    "collapsed": false,
    "pycharm": {
     "name": "#%%\n"
    }
   }
  },
  {
   "cell_type": "code",
   "execution_count": null,
   "outputs": [],
   "source": [],
   "metadata": {
    "collapsed": false,
    "pycharm": {
     "name": "#%%\n"
    }
   }
  }
 ],
 "metadata": {
  "interpreter": {
   "hash": "c3503f95e0e8f4afdf6702396a7a2a29cae9f67572acfe092405dcaa2579b817"
  },
  "kernelspec": {
   "display_name": "Python 3.10.4 64-bit",
   "language": "python",
   "name": "python3"
  },
  "language_info": {
   "codemirror_mode": {
    "name": "ipython",
    "version": 3
   },
   "file_extension": ".py",
   "mimetype": "text/x-python",
   "name": "python",
   "nbconvert_exporter": "python",
   "pygments_lexer": "ipython3",
   "version": "3.10.4"
  },
  "orig_nbformat": 4
 },
 "nbformat": 4,
 "nbformat_minor": 2
}