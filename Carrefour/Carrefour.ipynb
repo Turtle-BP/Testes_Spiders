{
 "cells": [
  {
   "cell_type": "code",
   "execution_count": 1,
   "metadata": {
    "pycharm": {
     "name": "#%%\n"
    }
   },
   "outputs": [],
   "source": [
    "import pandas as pd\n",
    "import time\n",
    "from bs4 import BeautifulSoup\n",
    "from tqdm import tqdm\n",
    "from urllib.request import urlopen\n",
    "import requests\n",
    "import sqlite3\n",
    "import json\n",
    "import sqlite3\n",
    "import os\n"
   ]
  },
  {
   "cell_type": "code",
   "execution_count": 2,
   "metadata": {
    "pycharm": {
     "name": "#%%\n"
    }
   },
   "outputs": [],
   "source": [
    "#GUARDANDO LISTAS\n",
    "Urls_Carrefour = []\n",
    "Sellers_Carrefour = []\n",
    "Country_Carrefour = []\n",
    "Price_Carrefour = []\n",
    "Price_Carrefour_2 = []\n",
    "SKU_Carrefour = []\n",
    "Title_Carrefour = []\n",
    "Installment_Carrefour_quantidade = []\n",
    "Installment_Carrefour_valor_parcela = []\n",
    "Installment_Carrefour_valor_total = []"
   ]
  },
  {
   "cell_type": "code",
   "execution_count": 3,
   "metadata": {
    "pycharm": {
     "name": "#%%\n"
    }
   },
   "outputs": [],
   "source": [
    "header = {'authority':'www.carrefour.com.br', 'scheme':'https', 'accept':'application/json','user-agent':'Mozilla/5.0 (Windows NT 10.0; Win64; x64) AppleWebKit/537.36 (KHTML, like Gecko) Chrome/100.0.4896.75 Safari/537.36'}\n"
   ]
  },
  {
   "cell_type": "code",
   "execution_count": 4,
   "outputs": [],
   "source": [
    "import pymysql"
   ],
   "metadata": {
    "collapsed": false,
    "pycharm": {
     "name": "#%%\n"
    }
   }
  },
  {
   "cell_type": "code",
   "execution_count": 5,
   "metadata": {
    "pycharm": {
     "name": "#%%\n"
    }
   },
   "outputs": [],
   "source": [
    "\n",
    "def getting_n_creating_carrefour_urls(brand):\n",
    "    connection = pymysql.connect(host='mysqlserver.cnzboqhfvndh.sa-east-1.rds.amazonaws.com',\n",
    "                                user='admin',\n",
    "                                password='turtle316712',\n",
    "                                database='Products_Brands',\n",
    "                                cursorclass=pymysql.cursors.DictCursor)\n",
    "\n",
    "    #Criando o caminho do Databae\n",
    "    c = connection.cursor()\n",
    "\n",
    "    #Criando a Query\n",
    "    Sql_query = \"SELECT * FROM Products WHERE Brand = '%s'\" % (brand)\n",
    "\n",
    "    #Conectando com o banco de dados\n",
    "    c.execute(Sql_query)\n",
    "    result = c.fetchall()\n",
    "    c.close()\n",
    "    connection.close()\n",
    "\n",
    "    #Passando todos o dataframe para Lowercase\n",
    "    df = pd.DataFrame()\n",
    "    df['Brand'] = [item['Brand'] for item in result]\n",
    "    df['Product_Name'] = [item['Name'] for item in result]\n",
    "\n",
    "    #Arrumando espaços vazios\n",
    "    # Arrumano os espaços vazios\n",
    "    df['Product_Name'] = df['Product_Name'].str.replace(\" \", \"%20\")\n",
    "    df['Product_Name'] = df['Product_Name'].str.replace(\"-\", \"%20\")\n",
    "\n",
    "    # Criando uma nova coluna no database com a formatação certa\n",
    "    df['Urls'] = df['Brand'] + \"%20\" + df['Product_Name']\n",
    "\n",
    "    # Criando a nova coluna que são as urls de pesquisa\n",
    "    df['Urls_search'] = \"https://www.carrefour.com.br/busca/\" + df['Urls']\n",
    "\n",
    "    return df"
   ]
  },
  {
   "cell_type": "code",
   "execution_count": 6,
   "metadata": {
    "pycharm": {
     "name": "#%%\n"
    }
   },
   "outputs": [
    {
     "data": {
      "text/plain": "   Brand Product_Name                 Urls  \\\n0  Wacom       CTL472       Wacom%20CTL472   \n1  Wacom      CTL4100      Wacom%20CTL4100   \n2  Wacom  CTL4100WLE0  Wacom%20CTL4100WLE0   \n3  Wacom  CTL4100WLK0  Wacom%20CTL4100WLK0   \n4  Wacom  CTL6100WLK0  Wacom%20CTL6100WLK0   \n5  Wacom    DTC133W0A    Wacom%20DTC133W0A   \n6  Wacom       PTH460       Wacom%20PTH460   \n7  Wacom   DTK1660K0A   Wacom%20DTK1660K0A   \n8  Wacom       PTH660       Wacom%20PTH660   \n9  Wacom  CTL6100WLE0  Wacom%20CTL6100WLE0   \n\n                                         Urls_search  \n0  https://www.carrefour.com.br/busca/Wacom%20CTL472  \n1  https://www.carrefour.com.br/busca/Wacom%20CTL...  \n2  https://www.carrefour.com.br/busca/Wacom%20CTL...  \n3  https://www.carrefour.com.br/busca/Wacom%20CTL...  \n4  https://www.carrefour.com.br/busca/Wacom%20CTL...  \n5  https://www.carrefour.com.br/busca/Wacom%20DTC...  \n6  https://www.carrefour.com.br/busca/Wacom%20PTH460  \n7  https://www.carrefour.com.br/busca/Wacom%20DTK...  \n8  https://www.carrefour.com.br/busca/Wacom%20PTH660  \n9  https://www.carrefour.com.br/busca/Wacom%20CTL...  ",
      "text/html": "<div>\n<style scoped>\n    .dataframe tbody tr th:only-of-type {\n        vertical-align: middle;\n    }\n\n    .dataframe tbody tr th {\n        vertical-align: top;\n    }\n\n    .dataframe thead th {\n        text-align: right;\n    }\n</style>\n<table border=\"1\" class=\"dataframe\">\n  <thead>\n    <tr style=\"text-align: right;\">\n      <th></th>\n      <th>Brand</th>\n      <th>Product_Name</th>\n      <th>Urls</th>\n      <th>Urls_search</th>\n    </tr>\n  </thead>\n  <tbody>\n    <tr>\n      <th>0</th>\n      <td>Wacom</td>\n      <td>CTL472</td>\n      <td>Wacom%20CTL472</td>\n      <td>https://www.carrefour.com.br/busca/Wacom%20CTL472</td>\n    </tr>\n    <tr>\n      <th>1</th>\n      <td>Wacom</td>\n      <td>CTL4100</td>\n      <td>Wacom%20CTL4100</td>\n      <td>https://www.carrefour.com.br/busca/Wacom%20CTL...</td>\n    </tr>\n    <tr>\n      <th>2</th>\n      <td>Wacom</td>\n      <td>CTL4100WLE0</td>\n      <td>Wacom%20CTL4100WLE0</td>\n      <td>https://www.carrefour.com.br/busca/Wacom%20CTL...</td>\n    </tr>\n    <tr>\n      <th>3</th>\n      <td>Wacom</td>\n      <td>CTL4100WLK0</td>\n      <td>Wacom%20CTL4100WLK0</td>\n      <td>https://www.carrefour.com.br/busca/Wacom%20CTL...</td>\n    </tr>\n    <tr>\n      <th>4</th>\n      <td>Wacom</td>\n      <td>CTL6100WLK0</td>\n      <td>Wacom%20CTL6100WLK0</td>\n      <td>https://www.carrefour.com.br/busca/Wacom%20CTL...</td>\n    </tr>\n    <tr>\n      <th>5</th>\n      <td>Wacom</td>\n      <td>DTC133W0A</td>\n      <td>Wacom%20DTC133W0A</td>\n      <td>https://www.carrefour.com.br/busca/Wacom%20DTC...</td>\n    </tr>\n    <tr>\n      <th>6</th>\n      <td>Wacom</td>\n      <td>PTH460</td>\n      <td>Wacom%20PTH460</td>\n      <td>https://www.carrefour.com.br/busca/Wacom%20PTH460</td>\n    </tr>\n    <tr>\n      <th>7</th>\n      <td>Wacom</td>\n      <td>DTK1660K0A</td>\n      <td>Wacom%20DTK1660K0A</td>\n      <td>https://www.carrefour.com.br/busca/Wacom%20DTK...</td>\n    </tr>\n    <tr>\n      <th>8</th>\n      <td>Wacom</td>\n      <td>PTH660</td>\n      <td>Wacom%20PTH660</td>\n      <td>https://www.carrefour.com.br/busca/Wacom%20PTH660</td>\n    </tr>\n    <tr>\n      <th>9</th>\n      <td>Wacom</td>\n      <td>CTL6100WLE0</td>\n      <td>Wacom%20CTL6100WLE0</td>\n      <td>https://www.carrefour.com.br/busca/Wacom%20CTL...</td>\n    </tr>\n  </tbody>\n</table>\n</div>"
     },
     "execution_count": 6,
     "metadata": {},
     "output_type": "execute_result"
    }
   ],
   "source": [
    "Df_products = getting_n_creating_carrefour_urls(\"Wacom\")\n",
    "Df_products"
   ]
  },
  {
   "cell_type": "code",
   "execution_count": 21,
   "outputs": [
    {
     "data": {
      "text/plain": "'https://www.carrefour.com.br/busca/Boya%20mc2'"
     },
     "execution_count": 21,
     "metadata": {},
     "output_type": "execute_result"
    }
   ],
   "source": [
    "Df_products['Urls_search'][0]"
   ],
   "metadata": {
    "collapsed": false,
    "pycharm": {
     "name": "#%%\n"
    }
   }
  },
  {
   "cell_type": "code",
   "execution_count": 17,
   "outputs": [],
   "source": [
    "urls = ['https://www.carrefour.com.br/busca/Toshiba%20HD%20externo%20canvio%20basics%201tb','https://www.carrefour.com.br/busca/Seagate%20hd%20externo%201tb']"
   ],
   "metadata": {
    "collapsed": false,
    "pycharm": {
     "name": "#%%\n"
    }
   }
  },
  {
   "cell_type": "code",
   "execution_count": 7,
   "metadata": {
    "pycharm": {
     "name": "#%%\n"
    }
   },
   "outputs": [],
   "source": [
    "def get_atributes(url):\n",
    "    time.sleep(5)\n",
    "\n",
    "    response = requests.get(url, headers=header)\n",
    "    html = response.text\n",
    "\n",
    "    bs = BeautifulSoup(html, 'html.parser')\n",
    "\n",
    "    template = bs.find('template', attrs={'data-type':'json','data-varname':'__STATE__'})\n",
    "\n",
    "    text = template.contents[1].string\n",
    "\n",
    "    data = json.loads(text)\n",
    "\n",
    "    principal_key = list(data.keys())\n",
    "\n",
    "    keys_principal = []\n",
    "\n",
    "    for key in principal_key:\n",
    "        keys_principal.append(key)\n",
    "\n",
    "    keys_principal = [s for s in keys_principal if 'Product' in s]\n",
    "    keys_principal = [s for s in keys_principal if not '$' in s]\n",
    "\n",
    "    Data_json = pd.DataFrame()\n",
    "    Data_json['Keys'] = keys_principal\n",
    "    Data_json['Code'] = Data_json['Keys'].str.partition(\":\")[2].str.partition(\".\")[0]\n",
    "    Data_json = Data_json.drop_duplicates(subset=['Code'])\n",
    "    Data_json['Price_id'] = \"$\" + Data_json['Keys'] + '.items({\\\"filter\\\":\\\"ALL_AVAILABLE\\\"}).0.sellers.0.commertialOffer'\n",
    "    Data_json['Sellers_id'] = Data_json['Keys'] + '.items({\\\"filter\\\":\\\"ALL_AVAILABLE\\\"}).0.sellers.0'\n",
    "\n",
    "    #Pegando title\n",
    "    for key in Data_json['Keys']:\n",
    "        try:\n",
    "            Title_Carrefour.append(data[key]['productName'])\n",
    "        except:\n",
    "            Title_Carrefour.append(\"Erro\")\n",
    "\n",
    "    #Pegando SKU\n",
    "    for key in Data_json['Keys']:\n",
    "        try:\n",
    "            SKU_Carrefour.append(data[key]['productReference'])\n",
    "        except:\n",
    "            SKU_Carrefour.append(\"Erro\")\n",
    "\n",
    "    #Pegando Url\n",
    "    for key in Data_json['Keys']:\n",
    "        try:\n",
    "            Urls_Carrefour.append(\"www.carrefour.com.br\" + data[key]['link'])\n",
    "        except:\n",
    "            Urls_Carrefour.append(\"Erro\")\n",
    "\n",
    "    #Pegando Price\n",
    "    for key in Data_json['Price_id']:\n",
    "        try:\n",
    "            Price_Carrefour.append(data[key]['Price'])\n",
    "        except:\n",
    "            Price_Carrefour.append(\"Erro\")\n",
    "\n",
    "    #Pegando Price 2\n",
    "    for key in Data_json['Price_id']:\n",
    "        try:\n",
    "            Price_Carrefour_2.append(data[key]['spotPrice'])\n",
    "        except:\n",
    "            Price_Carrefour_2.append(\"Erro\")\n",
    "\n",
    "    #Pegando Seller\n",
    "    for key in Data_json['Sellers_id']:\n",
    "        try:\n",
    "            Sellers_Carrefour.append(data[key]['sellerName'])\n",
    "        except:\n",
    "            Sellers_Carrefour.append(\"Erro\")"
   ]
  },
  {
   "cell_type": "code",
   "execution_count": 8,
   "metadata": {
    "pycharm": {
     "name": "#%%\n"
    }
   },
   "outputs": [
    {
     "name": "stderr",
     "output_type": "stream",
     "text": [
      "100%|██████████| 10/10 [01:29<00:00,  8.94s/it]\n"
     ]
    }
   ],
   "source": [
    "for url in tqdm(Df_products['Urls_search']):\n",
    "    get_atributes(url)"
   ]
  },
  {
   "cell_type": "code",
   "execution_count": 24,
   "outputs": [],
   "source": [
    "get_atributes(url)"
   ],
   "metadata": {
    "collapsed": false,
    "pycharm": {
     "name": "#%%\n"
    }
   }
  },
  {
   "cell_type": "code",
   "execution_count": 9,
   "metadata": {
    "pycharm": {
     "name": "#%%\n"
    }
   },
   "outputs": [],
   "source": [
    "def creating_dataframe(urls, loja, title, price, price_2, sellers, sku):\n",
    "    Dataset = pd.DataFrame()\n",
    "\n",
    "    Dataset['Urls'] = urls\n",
    "    Dataset['Loja'] = loja\n",
    "    Dataset['Title'] = title\n",
    "    Dataset['Price'] = price\n",
    "    Dataset['Price_2'] = price_2\n",
    "    Dataset['Sellers'] = sellers\n",
    "    Dataset['SKU'] = sku\n",
    "\n",
    "    return Dataset"
   ]
  },
  {
   "cell_type": "code",
   "execution_count": 10,
   "metadata": {
    "pycharm": {
     "name": "#%%\n"
    }
   },
   "outputs": [],
   "source": [
    "Dataset_Carrefour = creating_dataframe(Urls_Carrefour,\"CARREFOUR\",Title_Carrefour,Price_Carrefour,Price_Carrefour_2,Sellers_Carrefour,SKU_Carrefour)"
   ]
  },
  {
   "cell_type": "code",
   "execution_count": 11,
   "metadata": {
    "pycharm": {
     "name": "#%%\n"
    }
   },
   "outputs": [
    {
     "data": {
      "text/plain": "                                                 Urls       Loja  \\\n0   www.carrefour.com.br/mesa-digitalizadora-one-b...  CARREFOUR   \n1   www.carrefour.com.br/mesa-digitalizadora-wacom...  CARREFOUR   \n2   www.carrefour.com.br/tablet-152-x-95mm-mesa-di...  CARREFOUR   \n3   www.carrefour.com.br/mesa-digitalizadora-ctl47...  CARREFOUR   \n4   www.carrefour.com.br/mesa-digitalizadora-wacom...  CARREFOUR   \n..                                                ...        ...   \n72  www.carrefour.com.br/mesa-digitalizadora-wacom...  CARREFOUR   \n73  www.carrefour.com.br/mesadigitalizadorawacomct...  CARREFOUR   \n74  www.carrefour.com.br/mesa-digitalizadora-wacom...  CARREFOUR   \n75  www.carrefour.com.br/mesa-digitalizadora-wacom...  CARREFOUR   \n76  www.carrefour.com.br/mesa-digitalizadora-wacom...  CARREFOUR   \n\n                                                Title   Price  Price_2  \\\n0       Mesa Digitalizadora One By Wacom CTL472 Preta   339.9    339.9   \n1   Mesa Digitalizadora Wacom By One - Pequena - C...     0.0      0.0   \n2   Tablet - 152 x 95mm - Mesa digitalizadora One ...     0.0      0.0   \n3     Mesa Digitalizadora CTL472 One By Wacom Redwood     0.0      0.0   \n4   Mesa Digitalizadora Wacom CTL472 One By Pequen...     0.0      0.0   \n..                                                ...     ...      ...   \n72  Mesa Digitalizadora Wacom CTL-6100WL 4096 Pont...  1520.0   1520.0   \n73  Mesa Digitalizadora Wacom Ctl6100wle0 Intuos M...     0.0      0.0   \n74  Mesa Digitalizadora Wacom Intuos Creative Medi...  1749.0   1749.0   \n75  Mesa Digitalizadora Wacom Intuos Media com Blu...     0.0      0.0   \n76  Mesa Digitalizadora Wacom Intuos Creative Medi...     0.0      0.0   \n\n                                    Sellers                     SKU  \n0                                     Olist                 6156460  \n1                                 Carrefour  MP21128371W-MV21128370  \n2                                  Loja Waz              MP11513260  \n3                                 Carrefour              MP11862600  \n4                                 Carrefour             MP908133350  \n..                                      ...                     ...  \n72                                  INPOWER              MP19610271  \n73  ALLIANCEINFORMATICA COMERCIO ELETRONICO             MP922638005  \n74                                    Olist             MP928010958  \n75                                Trade Hub              MP14322562  \n76                        O VAREJAO DIGITAL             MP911378080  \n\n[77 rows x 7 columns]",
      "text/html": "<div>\n<style scoped>\n    .dataframe tbody tr th:only-of-type {\n        vertical-align: middle;\n    }\n\n    .dataframe tbody tr th {\n        vertical-align: top;\n    }\n\n    .dataframe thead th {\n        text-align: right;\n    }\n</style>\n<table border=\"1\" class=\"dataframe\">\n  <thead>\n    <tr style=\"text-align: right;\">\n      <th></th>\n      <th>Urls</th>\n      <th>Loja</th>\n      <th>Title</th>\n      <th>Price</th>\n      <th>Price_2</th>\n      <th>Sellers</th>\n      <th>SKU</th>\n    </tr>\n  </thead>\n  <tbody>\n    <tr>\n      <th>0</th>\n      <td>www.carrefour.com.br/mesa-digitalizadora-one-b...</td>\n      <td>CARREFOUR</td>\n      <td>Mesa Digitalizadora One By Wacom CTL472 Preta</td>\n      <td>339.9</td>\n      <td>339.9</td>\n      <td>Olist</td>\n      <td>6156460</td>\n    </tr>\n    <tr>\n      <th>1</th>\n      <td>www.carrefour.com.br/mesa-digitalizadora-wacom...</td>\n      <td>CARREFOUR</td>\n      <td>Mesa Digitalizadora Wacom By One - Pequena - C...</td>\n      <td>0.0</td>\n      <td>0.0</td>\n      <td>Carrefour</td>\n      <td>MP21128371W-MV21128370</td>\n    </tr>\n    <tr>\n      <th>2</th>\n      <td>www.carrefour.com.br/tablet-152-x-95mm-mesa-di...</td>\n      <td>CARREFOUR</td>\n      <td>Tablet - 152 x 95mm - Mesa digitalizadora One ...</td>\n      <td>0.0</td>\n      <td>0.0</td>\n      <td>Loja Waz</td>\n      <td>MP11513260</td>\n    </tr>\n    <tr>\n      <th>3</th>\n      <td>www.carrefour.com.br/mesa-digitalizadora-ctl47...</td>\n      <td>CARREFOUR</td>\n      <td>Mesa Digitalizadora CTL472 One By Wacom Redwood</td>\n      <td>0.0</td>\n      <td>0.0</td>\n      <td>Carrefour</td>\n      <td>MP11862600</td>\n    </tr>\n    <tr>\n      <th>4</th>\n      <td>www.carrefour.com.br/mesa-digitalizadora-wacom...</td>\n      <td>CARREFOUR</td>\n      <td>Mesa Digitalizadora Wacom CTL472 One By Pequen...</td>\n      <td>0.0</td>\n      <td>0.0</td>\n      <td>Carrefour</td>\n      <td>MP908133350</td>\n    </tr>\n    <tr>\n      <th>...</th>\n      <td>...</td>\n      <td>...</td>\n      <td>...</td>\n      <td>...</td>\n      <td>...</td>\n      <td>...</td>\n      <td>...</td>\n    </tr>\n    <tr>\n      <th>72</th>\n      <td>www.carrefour.com.br/mesa-digitalizadora-wacom...</td>\n      <td>CARREFOUR</td>\n      <td>Mesa Digitalizadora Wacom CTL-6100WL 4096 Pont...</td>\n      <td>1520.0</td>\n      <td>1520.0</td>\n      <td>INPOWER</td>\n      <td>MP19610271</td>\n    </tr>\n    <tr>\n      <th>73</th>\n      <td>www.carrefour.com.br/mesadigitalizadorawacomct...</td>\n      <td>CARREFOUR</td>\n      <td>Mesa Digitalizadora Wacom Ctl6100wle0 Intuos M...</td>\n      <td>0.0</td>\n      <td>0.0</td>\n      <td>ALLIANCEINFORMATICA COMERCIO ELETRONICO</td>\n      <td>MP922638005</td>\n    </tr>\n    <tr>\n      <th>74</th>\n      <td>www.carrefour.com.br/mesa-digitalizadora-wacom...</td>\n      <td>CARREFOUR</td>\n      <td>Mesa Digitalizadora Wacom Intuos Creative Medi...</td>\n      <td>1749.0</td>\n      <td>1749.0</td>\n      <td>Olist</td>\n      <td>MP928010958</td>\n    </tr>\n    <tr>\n      <th>75</th>\n      <td>www.carrefour.com.br/mesa-digitalizadora-wacom...</td>\n      <td>CARREFOUR</td>\n      <td>Mesa Digitalizadora Wacom Intuos Media com Blu...</td>\n      <td>0.0</td>\n      <td>0.0</td>\n      <td>Trade Hub</td>\n      <td>MP14322562</td>\n    </tr>\n    <tr>\n      <th>76</th>\n      <td>www.carrefour.com.br/mesa-digitalizadora-wacom...</td>\n      <td>CARREFOUR</td>\n      <td>Mesa Digitalizadora Wacom Intuos Creative Medi...</td>\n      <td>0.0</td>\n      <td>0.0</td>\n      <td>O VAREJAO DIGITAL</td>\n      <td>MP911378080</td>\n    </tr>\n  </tbody>\n</table>\n<p>77 rows × 7 columns</p>\n</div>"
     },
     "execution_count": 11,
     "metadata": {},
     "output_type": "execute_result"
    }
   ],
   "source": [
    "Dataset_Carrefour"
   ]
  },
  {
   "cell_type": "code",
   "execution_count": 12,
   "metadata": {
    "pycharm": {
     "name": "#%%\n"
    }
   },
   "outputs": [],
   "source": [
    "Dataset_Carrefour.to_excel(r\"C:\\Users\\pedro\\Documents\\Turte Brand Protection\\Turtle_Software_Artemis\\Data\\Brands_Downloads\\Wacom\\Carrefour_Wacom.xlsx\", index=False)"
   ]
  },
  {
   "cell_type": "code",
   "execution_count": null,
   "metadata": {
    "pycharm": {
     "name": "#%%\n"
    }
   },
   "outputs": [],
   "source": []
  }
 ],
 "metadata": {
  "interpreter": {
   "hash": "c3503f95e0e8f4afdf6702396a7a2a29cae9f67572acfe092405dcaa2579b817"
  },
  "kernelspec": {
   "display_name": "Python 3.10.4 64-bit",
   "language": "python",
   "name": "python3"
  },
  "language_info": {
   "codemirror_mode": {
    "name": "ipython",
    "version": 3
   },
   "file_extension": ".py",
   "mimetype": "text/x-python",
   "name": "python",
   "nbconvert_exporter": "python",
   "pygments_lexer": "ipython3",
   "version": "3.10.4"
  },
  "orig_nbformat": 4
 },
 "nbformat": 4,
 "nbformat_minor": 2
}