{
 "cells": [
  {
   "cell_type": "code",
   "execution_count": 27,
   "metadata": {
    "pycharm": {
     "name": "#%%\n"
    }
   },
   "outputs": [],
   "source": [
    "#Importando as bibliotecas\n",
    "import requests\n",
    "from bs4 import BeautifulSoup\n",
    "import pandas as pd\n",
    "import time\n",
    "import sqlite3\n",
    "from tqdm import tqdm\n",
    "import os\n",
    "import random"
   ]
  },
  {
   "cell_type": "code",
   "execution_count": 28,
   "outputs": [],
   "source": [
    "def Random_user_agents(marketplace):\n",
    "\n",
    "    #Criando a lista de user-agents\n",
    "    User_agents_list = [\"Mozilla/5.0 (X11; Linux x86_64) AppleWebKit/537.36 (KHTML, like Gecko) Ubuntu Chromium/37.0.2062.94 Chrome/37.0.2062.94 Safari/537.36\",\n",
    "                        \"Mozilla/5.0 (Windows NT 6.1; WOW64) AppleWebKit/537.36 (KHTML, like Gecko) Chrome/45.0.2454.85 Safari/537.36\",\n",
    "                        \"Mozilla/5.0 (Windows NT 6.1; WOW64; Trident/7.0; rv:11.0) like Gecko\",\n",
    "                        \"Mozilla/5.0 (Windows NT 6.1; WOW64; rv:40.0) Gecko/20100101 Firefox/40.0\",\n",
    "                        \"Mozilla/5.0 (Macintosh; Intel Mac OS X 10_10_5) AppleWebKit/600.8.9 (KHTML, like Gecko) Version/8.0.8 Safari/600.8.9\",\n",
    "                        \"Mozilla/5.0 (iPad; CPU OS 8_4_1 like Mac OS X) AppleWebKit/600.1.4 (KHTML, like Gecko) Version/8.0 Mobile/12H321 Safari/600.1.4\",\n",
    "                        \"Mozilla/5.0 (Windows NT 6.3; WOW64) AppleWebKit/537.36 (KHTML, like Gecko) Chrome/45.0.2454.85 Safari/537.36\",\n",
    "                        \"Mozilla/5.0 (Windows NT 10.0; WOW64) AppleWebKit/537.36 (KHTML, like Gecko) Chrome/45.0.2454.85 Safari/537.36\",\n",
    "                        \"Mozilla/5.0 (X11; Linux x86_64) AppleWebKit/537.36 (KHTML, like Gecko) Ubuntu Chromium/37.0.2062.94 Chrome/37.0.2062.94 Safari/537.36\",\n",
    "                        \"Mozilla/5.0 (Windows NT 6.1; WOW64) AppleWebKit/537.36 (KHTML, like Gecko) Chrome/45.0.2454.85 Safari/537.36\",\n",
    "                        \"Mozilla/5.0 (Windows NT 6.1; WOW64; Trident/7.0; rv:11.0) like Gecko\",\n",
    "                        \"Mozilla/5.0 (Windows NT 6.1; WOW64; rv:40.0) Gecko/20100101 Firefox/40.0\",\n",
    "                        \"Mozilla/5.0 (Macintosh; Intel Mac OS X 10_10_5) AppleWebKit/600.8.9 (KHTML, like Gecko) Version/8.0.8 Safari/600.8.9\",\n",
    "                        \"Mozilla/5.0 (iPad; CPU OS 8_4_1 like Mac OS X) AppleWebKit/600.1.4 (KHTML, like Gecko) Version/8.0 Mobile/12H321 Safari/600.1.4\",\n",
    "                        \"Mozilla/5.0 (Windows NT 6.3; WOW64) AppleWebKit/537.36 (KHTML, like Gecko) Chrome/45.0.2454.85 Safari/537.36\",\n",
    "                        \"Mozilla/5.0 (Windows NT 10.0; WOW64) AppleWebKit/537.36 (KHTML, like Gecko) Chrome/45.0.2454.85 Safari/537.36\",\n",
    "                        \"Mozilla/5.0 (Windows NT 6.1; WOW64) AppleWebKit/537.36 (KHTML, like Gecko) Chrome/44.0.2403.157 Safari/537.36\",\n",
    "                        \"Mozilla/5.0 (iPhone; CPU iPhone OS 8_4_1 like Mac OS X) AppleWebKit/600.1.4 (KHTML, like Gecko) Version/8.0 Mobile/12H321 Safari/600.1.4\",\n",
    "                        \"Mozilla/5.0 (Windows NT 10.0; WOW64; Trident/7.0; rv:11.0) like Gecko\",\n",
    "                        \"Mozilla/5.0 (iPad; CPU OS 7_1_2 like Mac OS X) AppleWebKit/537.51.2 (KHTML, like Gecko) Version/7.0 Mobile/11D257 Safari/9537.53\",\n",
    "                        \"Mozilla/5.0 (compatible; MSIE 9.0; Windows NT 6.1; Trident/5.0)\",\n",
    "                        \"Mozilla/5.0 (Macintosh; Intel Mac OS X 10_9_5) AppleWebKit/537.36 (KHTML, like Gecko) Chrome/45.0.2454.85 Safari/537.36\",\n",
    "                        \"Mozilla/5.0 (Macintosh; Intel Mac OS X 10_10_4) AppleWebKit/537.36 (KHTML, like Gecko) Chrome/45.0.2454.85 Safari/537.36\",\n",
    "                        \"Mozilla/5.0 (Macintosh; Intel Mac OS X 10.9; rv:40.0) Gecko/20100101 Firefox/40.0\",\n",
    "                        \"Mozilla/5.0 (compatible; MSIE 10.0; Windows NT 6.1; Trident/6.0)\",\n",
    "                        \"Mozilla/5.0 (Windows NT 6.0) AppleWebKit/537.36 (KHTML, like Gecko) Chrome/45.0.2454.85 Safari/537.36\",\n",
    "                        \"Mozilla/5.0 (Windows NT 6.3; WOW64) AppleWebKit/537.36 (KHTML, like Gecko) Chrome/44.0.2403.157 Safari/537.36\",\n",
    "                        \"Mozilla/5.0 (X11; CrOS x86_64 7077.134.0) AppleWebKit/537.36 (KHTML, like Gecko) Chrome/44.0.2403.156 Safari/537.36\",\n",
    "                        \"Mozilla/5.0 (Macintosh; Intel Mac OS X 10_9_5) AppleWebKit/600.7.12 (KHTML, like Gecko) Version/7.1.7 Safari/537.85.16\",\n",
    "                        \"Mozilla/5.0 (Windows NT 6.0; rv:40.0) Gecko/20100101 Firefox/40.0\",\n",
    "                        \"Mozilla/5.0 (Macintosh; Intel Mac OS X 10.6; rv:40.0) Gecko/20100101 Firefox/40.0\",\n",
    "                        \"Mozilla/5.0 (iPad; CPU OS 8_1_3 like Mac OS X) AppleWebKit/600.1.4 (KHTML, like Gecko) Version/8.0 Mobile/12B466 Safari/600.1.4\",\n",
    "                        \"Mozilla/5.0 (Macintosh; Intel Mac OS X 10_10_2) AppleWebKit/600.3.18 (KHTML, like Gecko) Version/8.0.3 Safari/600.3.18\",\n",
    "                        \"Mozilla/5.0 (Macintosh; Intel Mac OS X 10_10_3) AppleWebKit/537.36 (KHTML, like Gecko) Chrome/45.0.2454.85 Safari/537.36\",\n",
    "                        \"Mozilla/5.0 (Windows NT 6.2; WOW64) AppleWebKit/537.36 (KHTML, like Gecko) Chrome/45.0.2454.85 Safari/537.36\",\n",
    "                        \"Mozilla/5.0 (Windows NT 6.1; Win64; x64; Trident/7.0; rv:11.0) like Gecko\",\n",
    "                        \"Mozilla/5.0 (Macintosh; Intel Mac OS X 10_10_5) AppleWebKit/537.36 (KHTML, like Gecko) Chrome/44.0.2403.157 Safari/537.36\",\n",
    "                        \"Mozilla/5.0 (iPad; CPU OS 8_1_2 like Mac OS X) AppleWebKit/600.1.4 (KHTML, like Gecko) Version/8.0 Mobile/12B440 Safari/600.1.4\",\n",
    "                        \"Mozilla/5.0 (Linux; U; Android 4.0.3; en-us; KFTT Build/IML74K) AppleWebKit/537.36 (KHTML, like Gecko) Silk/3.68 like Chrome/39.0.2171.93 Safari/537.36\",\n",
    "                        \"Mozilla/5.0 (iPad; CPU OS 8_2 like Mac OS X) AppleWebKit/600.1.4 (KHTML, like Gecko) Version/8.0 Mobile/12D508 Safari/600.1.4\",\n",
    "                        \"Mozilla/5.0 (Windows NT 6.1; WOW64; rv:39.0) Gecko/20100101 Firefox/39.0\",\n",
    "                        \"Mozilla/5.0 (iPad; CPU OS 7_1_1 like Mac OS X) AppleWebKit/537.51.2 (KHTML, like Gecko) Version/7.0 Mobile/11D201 Safari/9537.53\",\n",
    "                        \"Mozilla/5.0 (Linux; U; Android 4.4.3; en-us; KFTHWI Build/KTU84M) AppleWebKit/537.36 (KHTML, like Gecko) Silk/3.68 like Chrome/39.0.2171.93 Safari/537.36\",\n",
    "                        \"Mozilla/5.0 (Macintosh; Intel Mac OS X 10_9_5) AppleWebKit/600.6.3 (KHTML, like Gecko) Version/7.1.6 Safari/537.85.15\",\n",
    "                        \"Mozilla/5.0 (Macintosh; Intel Mac OS X 10_10_2) AppleWebKit/600.4.10 (KHTML, like Gecko) Version/8.0.4 Safari/600.4.10\",\n",
    "                        \"Mozilla/5.0 (Macintosh; Intel Mac OS X 10.7; rv:40.0) Gecko/20100101 Firefox/40.0\",\n",
    "                        \"Mozilla/5.0 (Macintosh; Intel Mac OS X 10_9_5) AppleWebKit/537.78.2 (KHTML, like Gecko) Version/7.0.6 Safari/537.78.2\",\n",
    "                        \"Mozilla/5.0 (iPad; CPU OS 8_4_1 like Mac OS X) AppleWebKit/600.1.4 (KHTML, like Gecko) CriOS/45.0.2454.68 Mobile/12H321 Safari/600.1.4\",\n",
    "                        \"Mozilla/5.0 (Windows NT 6.3; Win64; x64; Trident/7.0; Touch; rv:11.0) like Gecko\",\n",
    "                        \"Mozilla/5.0 (Macintosh; Intel Mac OS X 10_6_8) AppleWebKit/537.36 (KHTML, like Gecko) Chrome/45.0.2454.85 Safari/537.36\",\n",
    "                        \"Mozilla/5.0 (iPad; CPU OS 8_1 like Mac OS X) AppleWebKit/600.1.4 (KHTML, like Gecko) Version/8.0 Mobile/12B410 Safari/600.1.4\",\n",
    "                        \"Mozilla/5.0 (iPad; CPU OS 7_0_4 like Mac OS X) AppleWebKit/537.51.1 (KHTML, like Gecko) Version/7.0 Mobile/11B554a Safari/9537.53\",\n",
    "                        \"Mozilla/5.0 (Windows NT 6.0; WOW64) AppleWebKit/537.36 (KHTML, like Gecko) Chrome/45.0.2454.85 Safari/537.36\",\n",
    "                        \"Mozilla/5.0 (Windows NT 6.3; Win64; x64; Trident/7.0; rv:11.0) like Gecko\",\n",
    "                        \"Mozilla/5.0 (Windows NT 6.3; WOW64; Trident/7.0; TNJB; rv:11.0) like Gecko\",\n",
    "                        \"Mozilla/5.0 (Windows NT 6.1; WOW64) AppleWebKit/537.36 (KHTML, like Gecko) Chrome/31.0.1650.63 Safari/537.36\",\n",
    "                        \"Mozilla/5.0 (Windows NT 6.3; ARM; Trident/7.0; Touch; rv:11.0) like Gecko\",\n",
    "                        \"Mozilla/5.0 (Windows NT 6.1; Win64; x64) AppleWebKit/537.36 (KHTML, like Gecko) Chrome/45.0.2454.85 Safari/537.36\"]\n",
    "\n",
    "    #Escolhendo o user aleatório\n",
    "    Choice_user_agent = random.choice(User_agents_list)\n",
    "\n",
    "    headers = {'authority':'www.' + marketplace + '.com.br',\n",
    "               'user-agent':Choice_user_agent}\n",
    "\n",
    "\n",
    "    return headers"
   ],
   "metadata": {
    "collapsed": false,
    "pycharm": {
     "name": "#%%\n"
    }
   }
  },
  {
   "cell_type": "code",
   "execution_count": 29,
   "metadata": {
    "pycharm": {
     "name": "#%%\n"
    }
   },
   "outputs": [],
   "source": [
    "Links_Kabum = []\n",
    "Urls_Kabum = []\n",
    "Sellers_Kabum = []\n",
    "Country_Kabum = []\n",
    "Price_Kabum = []\n",
    "SKU_Kabum = []\n",
    "Title_Kabum = []\n",
    "Installment_Kabum_quantidade = []\n",
    "Installment_Kabum_valor_parcela = []\n",
    "Installment_Kabum_valor_total = []"
   ]
  },
  {
   "cell_type": "code",
   "execution_count": 30,
   "metadata": {
    "pycharm": {
     "name": "#%%\n"
    }
   },
   "outputs": [],
   "source": [
    "def getting_n_creating_kabum(brand):\n",
    "\n",
    "    Database_path = r\"C:\\Users\\pedro\\Documents\\Turte Brand Protection\\Turtle_Thinker_Alpha_0.1\" + \"\\Data\\\\\" + brand + \"\\\\\" + brand + \".db\"\n",
    "\n",
    "    table = brand + \"_products\"\n",
    "\n",
    "    #Criando a Query\n",
    "    query = \"SELECT * FROM \" + table\n",
    "\n",
    "    #Entrando dentro do databse\n",
    "    connection = sqlite3.connect(Database_path)\n",
    "\n",
    "    #Criando o dataset em brando\n",
    "    df = pd.read_sql_query(query, connection)\n",
    "\n",
    "    #Passando todo o Dataframe para LowerCase\n",
    "    df = df.apply(lambda x: x.astype(str).str.lower())\n",
    "\n",
    "    #Arrumando espaços vazios\n",
    "    # Arrumano os espaços vazios\n",
    "    df['Product_Name'] = df['Product_Name'].str.replace(\" \", \"+\")\n",
    "    df['Product_Name'] = df['Product_Name'].str.replace(\"-\", \"+\")\n",
    "\n",
    "    # Criando uma nova coluna no database com a formatação certa\n",
    "    df['Urls'] = df['Brand'] + \"+\" + df['Product_Name']\n",
    "\n",
    "    # Criando a nova coluna que são as urls de pesquisa\n",
    "    df['Urls_search'] = \"https://www.kabum.com.br/busca?query=\" + df['Urls']\n",
    "\n",
    "    return df"
   ]
  },
  {
   "cell_type": "code",
   "execution_count": 5,
   "metadata": {
    "pycharm": {
     "name": "#%%\n"
    }
   },
   "outputs": [
    {
     "data": {
      "text/plain": "   Brand Product_Name                                 Product_Descrition  \\\n0  wacom       ctl472  ctl 472 - mesa digitalizadora one by wacom peq...   \n1  wacom      ctl4100  ctl4100 - mesa digitalizadora wacom intuos sma...   \n2  wacom  ctl4100wle0  ctl4100wle0 - mesa digitalizadora wacom intuos...   \n3  wacom  ctl4100wlk0  ctl4100wlk0 - mesa digitalizadora wacom intuos...   \n4  wacom  ctl6100wlk0  ctl6100wlk0 - mesa digitalizadora wacom intuos...   \n5  wacom    dtc133w0a  dtc133w0a - mesa digitalizadora wacom one crea...   \n6  wacom       pth460  pth460 - mesa digitalizadora wacom intuos pro ...   \n7  wacom   dtk1660k0a  dtk1660k0a - display interativo wacom cintiq 1...   \n8  wacom       pth660  pth660 - mesa digitalizadora wacom intuos pro ...   \n9  wacom  ctl6100wle0  ctl6100wle0 - mesa digitalizadora wacom intuos...   \n\n                Urls                                        Urls_search  \n0       wacom+ctl472  https://www.kabum.com.br/busca?query=wacom+ctl472  \n1      wacom+ctl4100  https://www.kabum.com.br/busca?query=wacom+ctl...  \n2  wacom+ctl4100wle0  https://www.kabum.com.br/busca?query=wacom+ctl...  \n3  wacom+ctl4100wlk0  https://www.kabum.com.br/busca?query=wacom+ctl...  \n4  wacom+ctl6100wlk0  https://www.kabum.com.br/busca?query=wacom+ctl...  \n5    wacom+dtc133w0a  https://www.kabum.com.br/busca?query=wacom+dtc...  \n6       wacom+pth460  https://www.kabum.com.br/busca?query=wacom+pth460  \n7   wacom+dtk1660k0a  https://www.kabum.com.br/busca?query=wacom+dtk...  \n8       wacom+pth660  https://www.kabum.com.br/busca?query=wacom+pth660  \n9  wacom+ctl6100wle0  https://www.kabum.com.br/busca?query=wacom+ctl...  ",
      "text/html": "<div>\n<style scoped>\n    .dataframe tbody tr th:only-of-type {\n        vertical-align: middle;\n    }\n\n    .dataframe tbody tr th {\n        vertical-align: top;\n    }\n\n    .dataframe thead th {\n        text-align: right;\n    }\n</style>\n<table border=\"1\" class=\"dataframe\">\n  <thead>\n    <tr style=\"text-align: right;\">\n      <th></th>\n      <th>Brand</th>\n      <th>Product_Name</th>\n      <th>Product_Descrition</th>\n      <th>Urls</th>\n      <th>Urls_search</th>\n    </tr>\n  </thead>\n  <tbody>\n    <tr>\n      <th>0</th>\n      <td>wacom</td>\n      <td>ctl472</td>\n      <td>ctl 472 - mesa digitalizadora one by wacom peq...</td>\n      <td>wacom+ctl472</td>\n      <td>https://www.kabum.com.br/busca?query=wacom+ctl472</td>\n    </tr>\n    <tr>\n      <th>1</th>\n      <td>wacom</td>\n      <td>ctl4100</td>\n      <td>ctl4100 - mesa digitalizadora wacom intuos sma...</td>\n      <td>wacom+ctl4100</td>\n      <td>https://www.kabum.com.br/busca?query=wacom+ctl...</td>\n    </tr>\n    <tr>\n      <th>2</th>\n      <td>wacom</td>\n      <td>ctl4100wle0</td>\n      <td>ctl4100wle0 - mesa digitalizadora wacom intuos...</td>\n      <td>wacom+ctl4100wle0</td>\n      <td>https://www.kabum.com.br/busca?query=wacom+ctl...</td>\n    </tr>\n    <tr>\n      <th>3</th>\n      <td>wacom</td>\n      <td>ctl4100wlk0</td>\n      <td>ctl4100wlk0 - mesa digitalizadora wacom intuos...</td>\n      <td>wacom+ctl4100wlk0</td>\n      <td>https://www.kabum.com.br/busca?query=wacom+ctl...</td>\n    </tr>\n    <tr>\n      <th>4</th>\n      <td>wacom</td>\n      <td>ctl6100wlk0</td>\n      <td>ctl6100wlk0 - mesa digitalizadora wacom intuos...</td>\n      <td>wacom+ctl6100wlk0</td>\n      <td>https://www.kabum.com.br/busca?query=wacom+ctl...</td>\n    </tr>\n    <tr>\n      <th>5</th>\n      <td>wacom</td>\n      <td>dtc133w0a</td>\n      <td>dtc133w0a - mesa digitalizadora wacom one crea...</td>\n      <td>wacom+dtc133w0a</td>\n      <td>https://www.kabum.com.br/busca?query=wacom+dtc...</td>\n    </tr>\n    <tr>\n      <th>6</th>\n      <td>wacom</td>\n      <td>pth460</td>\n      <td>pth460 - mesa digitalizadora wacom intuos pro ...</td>\n      <td>wacom+pth460</td>\n      <td>https://www.kabum.com.br/busca?query=wacom+pth460</td>\n    </tr>\n    <tr>\n      <th>7</th>\n      <td>wacom</td>\n      <td>dtk1660k0a</td>\n      <td>dtk1660k0a - display interativo wacom cintiq 1...</td>\n      <td>wacom+dtk1660k0a</td>\n      <td>https://www.kabum.com.br/busca?query=wacom+dtk...</td>\n    </tr>\n    <tr>\n      <th>8</th>\n      <td>wacom</td>\n      <td>pth660</td>\n      <td>pth660 - mesa digitalizadora wacom intuos pro ...</td>\n      <td>wacom+pth660</td>\n      <td>https://www.kabum.com.br/busca?query=wacom+pth660</td>\n    </tr>\n    <tr>\n      <th>9</th>\n      <td>wacom</td>\n      <td>ctl6100wle0</td>\n      <td>ctl6100wle0 - mesa digitalizadora wacom intuos...</td>\n      <td>wacom+ctl6100wle0</td>\n      <td>https://www.kabum.com.br/busca?query=wacom+ctl...</td>\n    </tr>\n  </tbody>\n</table>\n</div>"
     },
     "execution_count": 5,
     "metadata": {},
     "output_type": "execute_result"
    }
   ],
   "source": [
    "Df_products_raw = getting_n_creating_kabum(\"Wacom\")\n",
    "Df_products_raw"
   ]
  },
  {
   "cell_type": "code",
   "execution_count": 6,
   "outputs": [
    {
     "data": {
      "text/plain": "'https://www.kabum.com.br/busca?query=wacom+ctl472'"
     },
     "execution_count": 6,
     "metadata": {},
     "output_type": "execute_result"
    }
   ],
   "source": [
    "Df_products_raw['Urls_search'][0]"
   ],
   "metadata": {
    "collapsed": false,
    "pycharm": {
     "name": "#%%\n"
    }
   }
  },
  {
   "cell_type": "code",
   "execution_count": 31,
   "outputs": [],
   "source": [
    "urls = ['https://www.kabum.com.br/busca?query=Toshiba+HD+externo+Canvio+Basics','https://www.kabum.com.br/busca?query=HD+Externo+Seagate+Expansion']"
   ],
   "metadata": {
    "collapsed": false,
    "pycharm": {
     "name": "#%%\n"
    }
   }
  },
  {
   "cell_type": "markdown",
   "source": [],
   "metadata": {
    "collapsed": false,
    "pycharm": {
     "name": "#%% md\n"
    }
   }
  },
  {
   "cell_type": "code",
   "execution_count": 32,
   "metadata": {
    "pycharm": {
     "name": "#%%\n"
    }
   },
   "outputs": [],
   "source": [
    "def search_links(url):\n",
    "    global Links_Kabum\n",
    "\n",
    "    time.sleep(10)\n",
    "\n",
    "    Headers_Kabum = Random_user_agents('kabum')\n",
    "    response = requests.get(url, headers=Headers_Kabum)\n",
    "    html = response.text\n",
    "\n",
    "    Soup = BeautifulSoup(html, 'html.parser')\n",
    "\n",
    "    for a in Soup.find_all(\"a\", href=True):\n",
    "        Links_Kabum.append(\"https://www.kabum.com.br\" + a['href'])\n",
    "\n",
    "    Links_Kabum = [s for s in Links_Kabum if 'produto' in s]"
   ]
  },
  {
   "cell_type": "code",
   "execution_count": 7,
   "outputs": [],
   "source": [
    "urls = ['https://www.kabum.com.br/busca?query=dji+mavic+mini+2+fly+combo','https://www.kabum.com.br/busca?query=dji+mini+se+fly+more+combo']"
   ],
   "metadata": {
    "collapsed": false,
    "pycharm": {
     "name": "#%%\n"
    }
   }
  },
  {
   "cell_type": "code",
   "execution_count": 33,
   "metadata": {
    "pycharm": {
     "name": "#%%\n"
    }
   },
   "outputs": [
    {
     "name": "stderr",
     "output_type": "stream",
     "text": [
      "100%|██████████| 2/2 [00:21<00:00, 10.67s/it]\n"
     ]
    }
   ],
   "source": [
    "for url in tqdm(urls):\n",
    "    search_links(url)"
   ]
  },
  {
   "cell_type": "code",
   "execution_count": 9,
   "outputs": [],
   "source": [
    "search_links(url)"
   ],
   "metadata": {
    "collapsed": false,
    "pycharm": {
     "name": "#%%\n"
    }
   }
  },
  {
   "cell_type": "code",
   "execution_count": 34,
   "metadata": {
    "pycharm": {
     "name": "#%%\n"
    }
   },
   "outputs": [],
   "source": [
    "def get_attributes(url):\n",
    "    time.sleep(10)\n",
    "\n",
    "    Headers_Kabum = Random_user_agents('kabum')\n",
    "    response = requests.get(url, headers=Headers_Kabum)\n",
    "\n",
    "    html = response.text\n",
    "\n",
    "    Soup = BeautifulSoup(html, 'html.parser')\n",
    "\n",
    "    #Titulo\n",
    "    try:\n",
    "        Title_Kabum.append(Soup.find(\"h1\", attrs={'itemprop':'name'}).text)\n",
    "    except:\n",
    "        Title_Kabum.append(\"Erro\")\n",
    "\n",
    "    #Preço\n",
    "    try:\n",
    "        Price_Kabum.append(Soup.find(\"h4\", attrs={'itemprop':'price'}).text)\n",
    "    except:\n",
    "        Price_Kabum.append(\"Erro\")\n",
    "\n",
    "    #Seller\n",
    "    try:\n",
    "        Sellers_Kabum.append(Soup.find('div', attrs={'id':'blocoValores'}).text)\n",
    "    except:\n",
    "        Sellers_Kabum.append(\"Erro\")\n",
    "\n",
    "    #Installment\n",
    "    try:\n",
    "        Installment_Kabum_quantidade.append(Soup.find(class_='cardParcels').text)\n",
    "    except:\n",
    "        Installment_Kabum_quantidade.append(\"Erro\")\n"
   ]
  },
  {
   "cell_type": "code",
   "execution_count": 35,
   "metadata": {
    "pycharm": {
     "name": "#%%\n"
    }
   },
   "outputs": [
    {
     "name": "stderr",
     "output_type": "stream",
     "text": [
      "100%|██████████| 36/36 [06:17<00:00, 10.49s/it]\n"
     ]
    }
   ],
   "source": [
    "for url in tqdm(Links_Kabum):\n",
    "    get_attributes(url)"
   ]
  },
  {
   "cell_type": "code",
   "execution_count": 36,
   "metadata": {
    "pycharm": {
     "name": "#%%\n"
    }
   },
   "outputs": [],
   "source": [
    "def dataset_creation(urls, sellers, prices, installments, titles):\n",
    "    df_raw = pd.DataFrame()\n",
    "\n",
    "    Hoje = pd.to_datetime('today', errors='ignore').date()\n",
    "\n",
    "    df_raw['URL'] = urls\n",
    "\n",
    "    df_raw['DATE'] = Hoje\n",
    "\n",
    "    df_raw['MARKETPLACE'] = 'Kabum'\n",
    "\n",
    "    df_raw['SELLER'] = sellers\n",
    "    df_raw['SELLER'] = df_raw['SELLER'].str.partition(\"Vendido e entregue por: \")[2].str.partition(\" |\")[0]\n",
    "\n",
    "    df_raw['Installment_lixo'] = installments\n",
    "\n",
    "    df_raw['PARCEL'] = df_raw['Installment_lixo'].str.partition(\"x\")[0].str.extract('(\\d+)')\n",
    "\n",
    "    df_raw['INSTALLMENT'] = df_raw['Installment_lixo'].str.partition(\"R$\")[2]\n",
    "    df_raw['INSTALLMENT'] = df_raw['INSTALLMENT'].str.partition(\" \")[0]\n",
    "    df_raw['INSTALLMENT'] = df_raw['INSTALLMENT'].str.replace(\",\",\".\", regex=True)\n",
    "    df_raw['INSTALLMENT'] = df_raw['INSTALLMENT'].str.replace(\"\\xa0\",\"\", regex=False)\n",
    "\n",
    "    df_raw['PRODUCT'] = titles\n",
    "\n",
    "    df_raw['PRICE'] = prices\n",
    "\n",
    "    # df_raw = df_raw[df_raw['PRICE'] != \"Erro\"]\n",
    "\n",
    "    df_raw['PRICE'] = df_raw['PRICE'].str.replace(\"R$\",\"\", regex=False)\n",
    "    df_raw['PRICE'] = df_raw['PRICE'].str.replace(\".\",\"\", regex=False)\n",
    "    df_raw['PRICE'] = df_raw['PRICE'].str.replace(\",\",\".\", regex=False)\n",
    "    df_raw['PRICE'] = df_raw['PRICE'].str.replace(\"\\xa0\",\"\", regex=False)\n",
    "    # df_raw['PRICE'] = df_raw['PRICE'].astype('float')\n",
    "\n",
    "    df_raw['ID'] = df_raw['URL'].str.partition(\"produto/\")[2].str.partition(\"/\")[0]\n",
    "\n",
    "    df_raw = df_raw.drop_duplicates(subset='URL')\n",
    "\n",
    "    # df_raw['INSTALLMENT'] = df_raw['INSTALLMENT'].astype('float')\n",
    "    # df_raw['PARCEL'] = df_raw['PARCEL'].astype('int')\n",
    "\n",
    "    # df_raw['INSTALLMENT_PAYMENT'] = df_raw['PARCEL'] * df_raw['INSTALLMENT']\n",
    "\n",
    "    df_raw = df_raw[['DATE', 'URL', 'MARKETPLACE', 'SELLER', 'PRICE', 'PARCEL','INSTALLMENT','ID','PRODUCT']]\n",
    "\n",
    "    return df_raw"
   ]
  },
  {
   "cell_type": "code",
   "execution_count": 37,
   "metadata": {
    "pycharm": {
     "name": "#%%\n"
    }
   },
   "outputs": [],
   "source": [
    "Dataset_Kabum = dataset_creation(Links_Kabum, Sellers_Kabum, Price_Kabum, Installment_Kabum_quantidade, Title_Kabum)"
   ]
  },
  {
   "cell_type": "code",
   "execution_count": 38,
   "outputs": [
    {
     "data": {
      "text/plain": "          DATE                                                URL MARKETPLACE  \\\n0   2022-08-01  https://www.kabum.com.br/produto/373202/hd-ext...       Kabum   \n1   2022-08-01  https://www.kabum.com.br/produto/133961/hd-ext...       Kabum   \n2   2022-08-01  https://www.kabum.com.br/produto/133963/hd-ext...       Kabum   \n3   2022-08-01  https://www.kabum.com.br/produto/133965/hd-ext...       Kabum   \n4   2022-08-01  https://www.kabum.com.br/produto/220415/hd-ext...       Kabum   \n5   2022-08-01  https://www.kabum.com.br/produto/285219/hd-ext...       Kabum   \n6   2022-08-01  https://www.kabum.com.br/produto/357745/hd-ext...       Kabum   \n7   2022-08-01  https://www.kabum.com.br/produto/357818/hd-ext...       Kabum   \n8   2022-08-01  https://www.kabum.com.br/produto/152869/hd-ext...       Kabum   \n9   2022-08-01  https://www.kabum.com.br/produto/198718/hd-ext...       Kabum   \n10  2022-08-01  https://www.kabum.com.br/produto/199467/hd-ext...       Kabum   \n11  2022-08-01  https://www.kabum.com.br/produto/220993/hd-ext...       Kabum   \n12  2022-08-01  https://www.kabum.com.br/produto/257395/hd-ext...       Kabum   \n13  2022-08-01  https://www.kabum.com.br/produto/265813/hd-ext...       Kabum   \n14  2022-08-01  https://www.kabum.com.br/produto/288676/hd-ext...       Kabum   \n15  2022-08-01  https://www.kabum.com.br/produto/347048/hd-ext...       Kabum   \n16  2022-08-01  https://www.kabum.com.br/produto/228600/hd-ext...       Kabum   \n17  2022-08-01  https://www.kabum.com.br/produto/228601/hd-ext...       Kabum   \n18  2022-08-01  https://www.kabum.com.br/produto/228603/hd-ext...       Kabum   \n19  2022-08-01  https://www.kabum.com.br/produto/228599/hd-ext...       Kabum   \n20  2022-08-01  https://www.kabum.com.br/produto/365363/hd-ext...       Kabum   \n21  2022-08-01  https://www.kabum.com.br/produto/327936/hd-ext...       Kabum   \n22  2022-08-01  https://www.kabum.com.br/produto/220519/hd-ext...       Kabum   \n23  2022-08-01  https://www.kabum.com.br/produto/254923/hd-ext...       Kabum   \n24  2022-08-01  https://www.kabum.com.br/produto/358312/hd-ext...       Kabum   \n25  2022-08-01  https://www.kabum.com.br/produto/135386/hd-ext...       Kabum   \n26  2022-08-01  https://www.kabum.com.br/produto/147608/hd-ext...       Kabum   \n27  2022-08-01  https://www.kabum.com.br/produto/152878/hd-ext...       Kabum   \n28  2022-08-01  https://www.kabum.com.br/produto/162494/hd-ext...       Kabum   \n29  2022-08-01  https://www.kabum.com.br/produto/241045/hd-ext...       Kabum   \n30  2022-08-01  https://www.kabum.com.br/produto/214075/hd-ext...       Kabum   \n31  2022-08-01  https://www.kabum.com.br/produto/236688/hd-sea...       Kabum   \n32  2022-08-01  https://www.kabum.com.br/produto/220323/hd-ext...       Kabum   \n33  2022-08-01  https://www.kabum.com.br/produto/307838/hd-ext...       Kabum   \n34  2022-08-01  https://www.kabum.com.br/produto/307988/hd-ext...       Kabum   \n35  2022-08-01  https://www.kabum.com.br/produto/303485/hd-ext...       Kabum   \n\n                    SELLER    PRICE PARCEL INSTALLMENT      ID  \\\n0               COMPULINK    705.90     10       70.59  373202   \n1       O Varejão Digital    581.51     10       68.41  133961   \n2   MM SANTOS INFORMATICA    299.00     10       29.90  133963   \n3       O Varejão Digital   1182.87     10      118.28  133965   \n4              Loja Ibyte    850.33     10       85.03  220415   \n5       O Varejão Digital    566.69     10       56.66  285219   \n6               COMPULINK    328.43     10       34.57  357745   \n7               COMPULINK    453.72     10       47.76  357818   \n8                              Erro    NaN              152869   \n9                              Erro    NaN              198718   \n10                             Erro    NaN              199467   \n11                             Erro    NaN              220993   \n12                             Erro    NaN              257395   \n13                             Erro    NaN              265813   \n14                             Erro    NaN              288676   \n15                             Erro    NaN              347048   \n16                 KaBuM!    439.90     10       51.75  228600   \n17                 KaBuM!    655.90     10       77.16  228601   \n18                 KaBuM!   1099.90     10      129.40  228603   \n19                 KaBuM!    389.90     10       45.87  228599   \n20               GIGANTEC    668.71     10       75.98  365363   \n21                NetShop   6199.00     10      619.90  327936   \n22     TEITEC INFORMÁTICA   1288.00     10      128.80  220519   \n23                2K SHOP    599.99     10       59.99  254923   \n24                  MYMAX    679.15     10       79.90  358312   \n25    Inpower Informatica    296.10     10       32.90  135386   \n26     TEITEC INFORMÁTICA    580.00     10       58.00  147608   \n27                  MYMAX    424.15     10       49.90  152878   \n28     TEITEC INFORMÁTICA    829.00     10       82.90  162494   \n29                2K SHOP    809.99     10       80.99  241045   \n30     Matron Informática    486.40     10       51.20  214075   \n31               TENDINFO   2329.00     10      232.90  236688   \n32             Loja Ibyte    698.88     10       69.88  220323   \n33                  Laman    439.90     10       43.98  307838   \n34                  Laman    709.90     10       70.98  307988   \n35               GIGANTEC    414.48     10       47.10  303485   \n\n                                              PRODUCT  \n0   HD Externo, 4TB Usb 3.0 Canvio Basics Hdtb440x...  \n1   HD Externo Portatil Toshiba, Canvio Basics, 2T...  \n2   HD Externo Toshiba 1TB, Canvio Basics USB3.0 P...  \n3   HD Externo 4TB Toshiba Canvio Basics USB3.0 Po...  \n4   Hd Externo Portátil 4TB Toshiba Canvio Basics ...  \n5   HD Externo Portatil Toshiba Canvio Basics 1TB ...  \n6   Hd Externo 1tb 2,5 Usb 3.0 Canvio Basics Hdtb4...  \n7   Hd Externo 2tb 2.5 Usb 3.0 Canvio Basics Hdtb4...  \n8   HD Externo 2TB Toshiba Canvio Basics, USB 3.0 ...  \n9   HD Externo 4TB Toshiba Canvio Basics HDTB440XK...  \n10  HD Externo 1TB, Toshiba Canvio Basics, USB 3.0...  \n11  Hd Externo 4tb Usb 3.0 Canvio Basics Hdtb440xk...  \n12  HD Externo 1TB 2,5, USB 3.0 Canvio Basics Hdtb...  \n13  Hd Externo Toshiba 1tb Portátil Canvio Basics ...  \n14  Hd Externo 1tb 2,5 Usb 3.0 Canvio Basics Hdtb4...  \n15  HD Externo Portatil Toshiba, 1TB, Canvio Basic...  \n16  HD Externo Seagate Expansion 2TB, USB, Preto -...  \n17  HD Externo Seagate Expansion 4TB, USB, Preto -...  \n18  HD Externo Seagate Expansion 6TB, USB, Preto -...  \n19  HD Externo Seagate Expansion 1TB, USB, Preto -...  \n20  Hd Externo Seagate Expansion 4tb Usb 3.0 Portá...  \n21  Hd Externo 16tb Usb 3.0 Seagate Expansion - St...  \n22  HD Externo Seagate Expansion, 6TB, USB 3.0, Pr...  \n23        HD Externo Portátil, Seagate Expansion, 1TB  \n24         Hd Externo 4tb Expansion Usb 3.0 - Seagate  \n25  HD Externo Seagate Expansion, 1TB, Portátil, U...  \n26  HD, Externo, Seagate, Expansion, 2TB, Preto, S...  \n27  HD Externo 2TB Seagate Expansion Portátil, USB...  \n28  HD Externo 4TB Seagate Expansion Portátil USB ...  \n29  Hd Externo Seagate, 2TB, Expansion, Portatil, ...  \n30  HD Externo, 2 TB, Seagate, Expansion, USB 3.0 ...  \n31  HD Seagate Externo Expansion, USB 3.0, 8TB, Pr...  \n32  Hd Externo Portátil 2tb Seagate Expansion Usb ...  \n33  Hd Externo Seagate 1tb Expansion Usb 3.0 Porta...  \n34  HD Externo Seagate, 2TB Expansion, Usb 3.0, Po...  \n35  HD Externo, 2TB, 2.5, USB 3.0, Expansion - Stk...  ",
      "text/html": "<div>\n<style scoped>\n    .dataframe tbody tr th:only-of-type {\n        vertical-align: middle;\n    }\n\n    .dataframe tbody tr th {\n        vertical-align: top;\n    }\n\n    .dataframe thead th {\n        text-align: right;\n    }\n</style>\n<table border=\"1\" class=\"dataframe\">\n  <thead>\n    <tr style=\"text-align: right;\">\n      <th></th>\n      <th>DATE</th>\n      <th>URL</th>\n      <th>MARKETPLACE</th>\n      <th>SELLER</th>\n      <th>PRICE</th>\n      <th>PARCEL</th>\n      <th>INSTALLMENT</th>\n      <th>ID</th>\n      <th>PRODUCT</th>\n    </tr>\n  </thead>\n  <tbody>\n    <tr>\n      <th>0</th>\n      <td>2022-08-01</td>\n      <td>https://www.kabum.com.br/produto/373202/hd-ext...</td>\n      <td>Kabum</td>\n      <td>COMPULINK</td>\n      <td>705.90</td>\n      <td>10</td>\n      <td>70.59</td>\n      <td>373202</td>\n      <td>HD Externo, 4TB Usb 3.0 Canvio Basics Hdtb440x...</td>\n    </tr>\n    <tr>\n      <th>1</th>\n      <td>2022-08-01</td>\n      <td>https://www.kabum.com.br/produto/133961/hd-ext...</td>\n      <td>Kabum</td>\n      <td>O Varejão Digital</td>\n      <td>581.51</td>\n      <td>10</td>\n      <td>68.41</td>\n      <td>133961</td>\n      <td>HD Externo Portatil Toshiba, Canvio Basics, 2T...</td>\n    </tr>\n    <tr>\n      <th>2</th>\n      <td>2022-08-01</td>\n      <td>https://www.kabum.com.br/produto/133963/hd-ext...</td>\n      <td>Kabum</td>\n      <td>MM SANTOS INFORMATICA</td>\n      <td>299.00</td>\n      <td>10</td>\n      <td>29.90</td>\n      <td>133963</td>\n      <td>HD Externo Toshiba 1TB, Canvio Basics USB3.0 P...</td>\n    </tr>\n    <tr>\n      <th>3</th>\n      <td>2022-08-01</td>\n      <td>https://www.kabum.com.br/produto/133965/hd-ext...</td>\n      <td>Kabum</td>\n      <td>O Varejão Digital</td>\n      <td>1182.87</td>\n      <td>10</td>\n      <td>118.28</td>\n      <td>133965</td>\n      <td>HD Externo 4TB Toshiba Canvio Basics USB3.0 Po...</td>\n    </tr>\n    <tr>\n      <th>4</th>\n      <td>2022-08-01</td>\n      <td>https://www.kabum.com.br/produto/220415/hd-ext...</td>\n      <td>Kabum</td>\n      <td>Loja Ibyte</td>\n      <td>850.33</td>\n      <td>10</td>\n      <td>85.03</td>\n      <td>220415</td>\n      <td>Hd Externo Portátil 4TB Toshiba Canvio Basics ...</td>\n    </tr>\n    <tr>\n      <th>5</th>\n      <td>2022-08-01</td>\n      <td>https://www.kabum.com.br/produto/285219/hd-ext...</td>\n      <td>Kabum</td>\n      <td>O Varejão Digital</td>\n      <td>566.69</td>\n      <td>10</td>\n      <td>56.66</td>\n      <td>285219</td>\n      <td>HD Externo Portatil Toshiba Canvio Basics 1TB ...</td>\n    </tr>\n    <tr>\n      <th>6</th>\n      <td>2022-08-01</td>\n      <td>https://www.kabum.com.br/produto/357745/hd-ext...</td>\n      <td>Kabum</td>\n      <td>COMPULINK</td>\n      <td>328.43</td>\n      <td>10</td>\n      <td>34.57</td>\n      <td>357745</td>\n      <td>Hd Externo 1tb 2,5 Usb 3.0 Canvio Basics Hdtb4...</td>\n    </tr>\n    <tr>\n      <th>7</th>\n      <td>2022-08-01</td>\n      <td>https://www.kabum.com.br/produto/357818/hd-ext...</td>\n      <td>Kabum</td>\n      <td>COMPULINK</td>\n      <td>453.72</td>\n      <td>10</td>\n      <td>47.76</td>\n      <td>357818</td>\n      <td>Hd Externo 2tb 2.5 Usb 3.0 Canvio Basics Hdtb4...</td>\n    </tr>\n    <tr>\n      <th>8</th>\n      <td>2022-08-01</td>\n      <td>https://www.kabum.com.br/produto/152869/hd-ext...</td>\n      <td>Kabum</td>\n      <td></td>\n      <td>Erro</td>\n      <td>NaN</td>\n      <td></td>\n      <td>152869</td>\n      <td>HD Externo 2TB Toshiba Canvio Basics, USB 3.0 ...</td>\n    </tr>\n    <tr>\n      <th>9</th>\n      <td>2022-08-01</td>\n      <td>https://www.kabum.com.br/produto/198718/hd-ext...</td>\n      <td>Kabum</td>\n      <td></td>\n      <td>Erro</td>\n      <td>NaN</td>\n      <td></td>\n      <td>198718</td>\n      <td>HD Externo 4TB Toshiba Canvio Basics HDTB440XK...</td>\n    </tr>\n    <tr>\n      <th>10</th>\n      <td>2022-08-01</td>\n      <td>https://www.kabum.com.br/produto/199467/hd-ext...</td>\n      <td>Kabum</td>\n      <td></td>\n      <td>Erro</td>\n      <td>NaN</td>\n      <td></td>\n      <td>199467</td>\n      <td>HD Externo 1TB, Toshiba Canvio Basics, USB 3.0...</td>\n    </tr>\n    <tr>\n      <th>11</th>\n      <td>2022-08-01</td>\n      <td>https://www.kabum.com.br/produto/220993/hd-ext...</td>\n      <td>Kabum</td>\n      <td></td>\n      <td>Erro</td>\n      <td>NaN</td>\n      <td></td>\n      <td>220993</td>\n      <td>Hd Externo 4tb Usb 3.0 Canvio Basics Hdtb440xk...</td>\n    </tr>\n    <tr>\n      <th>12</th>\n      <td>2022-08-01</td>\n      <td>https://www.kabum.com.br/produto/257395/hd-ext...</td>\n      <td>Kabum</td>\n      <td></td>\n      <td>Erro</td>\n      <td>NaN</td>\n      <td></td>\n      <td>257395</td>\n      <td>HD Externo 1TB 2,5, USB 3.0 Canvio Basics Hdtb...</td>\n    </tr>\n    <tr>\n      <th>13</th>\n      <td>2022-08-01</td>\n      <td>https://www.kabum.com.br/produto/265813/hd-ext...</td>\n      <td>Kabum</td>\n      <td></td>\n      <td>Erro</td>\n      <td>NaN</td>\n      <td></td>\n      <td>265813</td>\n      <td>Hd Externo Toshiba 1tb Portátil Canvio Basics ...</td>\n    </tr>\n    <tr>\n      <th>14</th>\n      <td>2022-08-01</td>\n      <td>https://www.kabum.com.br/produto/288676/hd-ext...</td>\n      <td>Kabum</td>\n      <td></td>\n      <td>Erro</td>\n      <td>NaN</td>\n      <td></td>\n      <td>288676</td>\n      <td>Hd Externo 1tb 2,5 Usb 3.0 Canvio Basics Hdtb4...</td>\n    </tr>\n    <tr>\n      <th>15</th>\n      <td>2022-08-01</td>\n      <td>https://www.kabum.com.br/produto/347048/hd-ext...</td>\n      <td>Kabum</td>\n      <td></td>\n      <td>Erro</td>\n      <td>NaN</td>\n      <td></td>\n      <td>347048</td>\n      <td>HD Externo Portatil Toshiba, 1TB, Canvio Basic...</td>\n    </tr>\n    <tr>\n      <th>16</th>\n      <td>2022-08-01</td>\n      <td>https://www.kabum.com.br/produto/228600/hd-ext...</td>\n      <td>Kabum</td>\n      <td>KaBuM!</td>\n      <td>439.90</td>\n      <td>10</td>\n      <td>51.75</td>\n      <td>228600</td>\n      <td>HD Externo Seagate Expansion 2TB, USB, Preto -...</td>\n    </tr>\n    <tr>\n      <th>17</th>\n      <td>2022-08-01</td>\n      <td>https://www.kabum.com.br/produto/228601/hd-ext...</td>\n      <td>Kabum</td>\n      <td>KaBuM!</td>\n      <td>655.90</td>\n      <td>10</td>\n      <td>77.16</td>\n      <td>228601</td>\n      <td>HD Externo Seagate Expansion 4TB, USB, Preto -...</td>\n    </tr>\n    <tr>\n      <th>18</th>\n      <td>2022-08-01</td>\n      <td>https://www.kabum.com.br/produto/228603/hd-ext...</td>\n      <td>Kabum</td>\n      <td>KaBuM!</td>\n      <td>1099.90</td>\n      <td>10</td>\n      <td>129.40</td>\n      <td>228603</td>\n      <td>HD Externo Seagate Expansion 6TB, USB, Preto -...</td>\n    </tr>\n    <tr>\n      <th>19</th>\n      <td>2022-08-01</td>\n      <td>https://www.kabum.com.br/produto/228599/hd-ext...</td>\n      <td>Kabum</td>\n      <td>KaBuM!</td>\n      <td>389.90</td>\n      <td>10</td>\n      <td>45.87</td>\n      <td>228599</td>\n      <td>HD Externo Seagate Expansion 1TB, USB, Preto -...</td>\n    </tr>\n    <tr>\n      <th>20</th>\n      <td>2022-08-01</td>\n      <td>https://www.kabum.com.br/produto/365363/hd-ext...</td>\n      <td>Kabum</td>\n      <td>GIGANTEC</td>\n      <td>668.71</td>\n      <td>10</td>\n      <td>75.98</td>\n      <td>365363</td>\n      <td>Hd Externo Seagate Expansion 4tb Usb 3.0 Portá...</td>\n    </tr>\n    <tr>\n      <th>21</th>\n      <td>2022-08-01</td>\n      <td>https://www.kabum.com.br/produto/327936/hd-ext...</td>\n      <td>Kabum</td>\n      <td>NetShop</td>\n      <td>6199.00</td>\n      <td>10</td>\n      <td>619.90</td>\n      <td>327936</td>\n      <td>Hd Externo 16tb Usb 3.0 Seagate Expansion - St...</td>\n    </tr>\n    <tr>\n      <th>22</th>\n      <td>2022-08-01</td>\n      <td>https://www.kabum.com.br/produto/220519/hd-ext...</td>\n      <td>Kabum</td>\n      <td>TEITEC INFORMÁTICA</td>\n      <td>1288.00</td>\n      <td>10</td>\n      <td>128.80</td>\n      <td>220519</td>\n      <td>HD Externo Seagate Expansion, 6TB, USB 3.0, Pr...</td>\n    </tr>\n    <tr>\n      <th>23</th>\n      <td>2022-08-01</td>\n      <td>https://www.kabum.com.br/produto/254923/hd-ext...</td>\n      <td>Kabum</td>\n      <td>2K SHOP</td>\n      <td>599.99</td>\n      <td>10</td>\n      <td>59.99</td>\n      <td>254923</td>\n      <td>HD Externo Portátil, Seagate Expansion, 1TB</td>\n    </tr>\n    <tr>\n      <th>24</th>\n      <td>2022-08-01</td>\n      <td>https://www.kabum.com.br/produto/358312/hd-ext...</td>\n      <td>Kabum</td>\n      <td>MYMAX</td>\n      <td>679.15</td>\n      <td>10</td>\n      <td>79.90</td>\n      <td>358312</td>\n      <td>Hd Externo 4tb Expansion Usb 3.0 - Seagate</td>\n    </tr>\n    <tr>\n      <th>25</th>\n      <td>2022-08-01</td>\n      <td>https://www.kabum.com.br/produto/135386/hd-ext...</td>\n      <td>Kabum</td>\n      <td>Inpower Informatica</td>\n      <td>296.10</td>\n      <td>10</td>\n      <td>32.90</td>\n      <td>135386</td>\n      <td>HD Externo Seagate Expansion, 1TB, Portátil, U...</td>\n    </tr>\n    <tr>\n      <th>26</th>\n      <td>2022-08-01</td>\n      <td>https://www.kabum.com.br/produto/147608/hd-ext...</td>\n      <td>Kabum</td>\n      <td>TEITEC INFORMÁTICA</td>\n      <td>580.00</td>\n      <td>10</td>\n      <td>58.00</td>\n      <td>147608</td>\n      <td>HD, Externo, Seagate, Expansion, 2TB, Preto, S...</td>\n    </tr>\n    <tr>\n      <th>27</th>\n      <td>2022-08-01</td>\n      <td>https://www.kabum.com.br/produto/152878/hd-ext...</td>\n      <td>Kabum</td>\n      <td>MYMAX</td>\n      <td>424.15</td>\n      <td>10</td>\n      <td>49.90</td>\n      <td>152878</td>\n      <td>HD Externo 2TB Seagate Expansion Portátil, USB...</td>\n    </tr>\n    <tr>\n      <th>28</th>\n      <td>2022-08-01</td>\n      <td>https://www.kabum.com.br/produto/162494/hd-ext...</td>\n      <td>Kabum</td>\n      <td>TEITEC INFORMÁTICA</td>\n      <td>829.00</td>\n      <td>10</td>\n      <td>82.90</td>\n      <td>162494</td>\n      <td>HD Externo 4TB Seagate Expansion Portátil USB ...</td>\n    </tr>\n    <tr>\n      <th>29</th>\n      <td>2022-08-01</td>\n      <td>https://www.kabum.com.br/produto/241045/hd-ext...</td>\n      <td>Kabum</td>\n      <td>2K SHOP</td>\n      <td>809.99</td>\n      <td>10</td>\n      <td>80.99</td>\n      <td>241045</td>\n      <td>Hd Externo Seagate, 2TB, Expansion, Portatil, ...</td>\n    </tr>\n    <tr>\n      <th>30</th>\n      <td>2022-08-01</td>\n      <td>https://www.kabum.com.br/produto/214075/hd-ext...</td>\n      <td>Kabum</td>\n      <td>Matron Informática</td>\n      <td>486.40</td>\n      <td>10</td>\n      <td>51.20</td>\n      <td>214075</td>\n      <td>HD Externo, 2 TB, Seagate, Expansion, USB 3.0 ...</td>\n    </tr>\n    <tr>\n      <th>31</th>\n      <td>2022-08-01</td>\n      <td>https://www.kabum.com.br/produto/236688/hd-sea...</td>\n      <td>Kabum</td>\n      <td>TENDINFO</td>\n      <td>2329.00</td>\n      <td>10</td>\n      <td>232.90</td>\n      <td>236688</td>\n      <td>HD Seagate Externo Expansion, USB 3.0, 8TB, Pr...</td>\n    </tr>\n    <tr>\n      <th>32</th>\n      <td>2022-08-01</td>\n      <td>https://www.kabum.com.br/produto/220323/hd-ext...</td>\n      <td>Kabum</td>\n      <td>Loja Ibyte</td>\n      <td>698.88</td>\n      <td>10</td>\n      <td>69.88</td>\n      <td>220323</td>\n      <td>Hd Externo Portátil 2tb Seagate Expansion Usb ...</td>\n    </tr>\n    <tr>\n      <th>33</th>\n      <td>2022-08-01</td>\n      <td>https://www.kabum.com.br/produto/307838/hd-ext...</td>\n      <td>Kabum</td>\n      <td>Laman</td>\n      <td>439.90</td>\n      <td>10</td>\n      <td>43.98</td>\n      <td>307838</td>\n      <td>Hd Externo Seagate 1tb Expansion Usb 3.0 Porta...</td>\n    </tr>\n    <tr>\n      <th>34</th>\n      <td>2022-08-01</td>\n      <td>https://www.kabum.com.br/produto/307988/hd-ext...</td>\n      <td>Kabum</td>\n      <td>Laman</td>\n      <td>709.90</td>\n      <td>10</td>\n      <td>70.98</td>\n      <td>307988</td>\n      <td>HD Externo Seagate, 2TB Expansion, Usb 3.0, Po...</td>\n    </tr>\n    <tr>\n      <th>35</th>\n      <td>2022-08-01</td>\n      <td>https://www.kabum.com.br/produto/303485/hd-ext...</td>\n      <td>Kabum</td>\n      <td>GIGANTEC</td>\n      <td>414.48</td>\n      <td>10</td>\n      <td>47.10</td>\n      <td>303485</td>\n      <td>HD Externo, 2TB, 2.5, USB 3.0, Expansion - Stk...</td>\n    </tr>\n  </tbody>\n</table>\n</div>"
     },
     "execution_count": 38,
     "metadata": {},
     "output_type": "execute_result"
    }
   ],
   "source": [
    "Dataset_Kabum"
   ],
   "metadata": {
    "collapsed": false,
    "pycharm": {
     "name": "#%%\n"
    }
   }
  },
  {
   "cell_type": "code",
   "execution_count": 13,
   "outputs": [
    {
     "ename": "ValueError",
     "evalue": "could not convert string to float: ''",
     "output_type": "error",
     "traceback": [
      "\u001B[1;31m---------------------------------------------------------------------------\u001B[0m",
      "\u001B[1;31mValueError\u001B[0m                                Traceback (most recent call last)",
      "Input \u001B[1;32mIn [13]\u001B[0m, in \u001B[0;36m<cell line: 1>\u001B[1;34m()\u001B[0m\n\u001B[1;32m----> 1\u001B[0m Dataset_Kabum[\u001B[38;5;124m'\u001B[39m\u001B[38;5;124mINSTALLMENT\u001B[39m\u001B[38;5;124m'\u001B[39m] \u001B[38;5;241m=\u001B[39m \u001B[43mDataset_Kabum\u001B[49m\u001B[43m[\u001B[49m\u001B[38;5;124;43m'\u001B[39;49m\u001B[38;5;124;43mINSTALLMENT\u001B[39;49m\u001B[38;5;124;43m'\u001B[39;49m\u001B[43m]\u001B[49m\u001B[38;5;241;43m.\u001B[39;49m\u001B[43mastype\u001B[49m\u001B[43m(\u001B[49m\u001B[38;5;124;43m'\u001B[39;49m\u001B[38;5;124;43mfloat\u001B[39;49m\u001B[38;5;124;43m'\u001B[39;49m\u001B[43m)\u001B[49m\n",
      "File \u001B[1;32m~\\AppData\\Local\\Programs\\Python\\Python310\\lib\\site-packages\\pandas\\core\\generic.py:5912\u001B[0m, in \u001B[0;36mNDFrame.astype\u001B[1;34m(self, dtype, copy, errors)\u001B[0m\n\u001B[0;32m   5905\u001B[0m     results \u001B[38;5;241m=\u001B[39m [\n\u001B[0;32m   5906\u001B[0m         \u001B[38;5;28mself\u001B[39m\u001B[38;5;241m.\u001B[39miloc[:, i]\u001B[38;5;241m.\u001B[39mastype(dtype, copy\u001B[38;5;241m=\u001B[39mcopy)\n\u001B[0;32m   5907\u001B[0m         \u001B[38;5;28;01mfor\u001B[39;00m i \u001B[38;5;129;01min\u001B[39;00m \u001B[38;5;28mrange\u001B[39m(\u001B[38;5;28mlen\u001B[39m(\u001B[38;5;28mself\u001B[39m\u001B[38;5;241m.\u001B[39mcolumns))\n\u001B[0;32m   5908\u001B[0m     ]\n\u001B[0;32m   5910\u001B[0m \u001B[38;5;28;01melse\u001B[39;00m:\n\u001B[0;32m   5911\u001B[0m     \u001B[38;5;66;03m# else, only a single dtype is given\u001B[39;00m\n\u001B[1;32m-> 5912\u001B[0m     new_data \u001B[38;5;241m=\u001B[39m \u001B[38;5;28;43mself\u001B[39;49m\u001B[38;5;241;43m.\u001B[39;49m\u001B[43m_mgr\u001B[49m\u001B[38;5;241;43m.\u001B[39;49m\u001B[43mastype\u001B[49m\u001B[43m(\u001B[49m\u001B[43mdtype\u001B[49m\u001B[38;5;241;43m=\u001B[39;49m\u001B[43mdtype\u001B[49m\u001B[43m,\u001B[49m\u001B[43m \u001B[49m\u001B[43mcopy\u001B[49m\u001B[38;5;241;43m=\u001B[39;49m\u001B[43mcopy\u001B[49m\u001B[43m,\u001B[49m\u001B[43m \u001B[49m\u001B[43merrors\u001B[49m\u001B[38;5;241;43m=\u001B[39;49m\u001B[43merrors\u001B[49m\u001B[43m)\u001B[49m\n\u001B[0;32m   5913\u001B[0m     \u001B[38;5;28;01mreturn\u001B[39;00m \u001B[38;5;28mself\u001B[39m\u001B[38;5;241m.\u001B[39m_constructor(new_data)\u001B[38;5;241m.\u001B[39m__finalize__(\u001B[38;5;28mself\u001B[39m, method\u001B[38;5;241m=\u001B[39m\u001B[38;5;124m\"\u001B[39m\u001B[38;5;124mastype\u001B[39m\u001B[38;5;124m\"\u001B[39m)\n\u001B[0;32m   5915\u001B[0m \u001B[38;5;66;03m# GH 33113: handle empty frame or series\u001B[39;00m\n",
      "File \u001B[1;32m~\\AppData\\Local\\Programs\\Python\\Python310\\lib\\site-packages\\pandas\\core\\internals\\managers.py:419\u001B[0m, in \u001B[0;36mBaseBlockManager.astype\u001B[1;34m(self, dtype, copy, errors)\u001B[0m\n\u001B[0;32m    418\u001B[0m \u001B[38;5;28;01mdef\u001B[39;00m \u001B[38;5;21mastype\u001B[39m(\u001B[38;5;28mself\u001B[39m: T, dtype, copy: \u001B[38;5;28mbool\u001B[39m \u001B[38;5;241m=\u001B[39m \u001B[38;5;28;01mFalse\u001B[39;00m, errors: \u001B[38;5;28mstr\u001B[39m \u001B[38;5;241m=\u001B[39m \u001B[38;5;124m\"\u001B[39m\u001B[38;5;124mraise\u001B[39m\u001B[38;5;124m\"\u001B[39m) \u001B[38;5;241m-\u001B[39m\u001B[38;5;241m>\u001B[39m T:\n\u001B[1;32m--> 419\u001B[0m     \u001B[38;5;28;01mreturn\u001B[39;00m \u001B[38;5;28;43mself\u001B[39;49m\u001B[38;5;241;43m.\u001B[39;49m\u001B[43mapply\u001B[49m\u001B[43m(\u001B[49m\u001B[38;5;124;43m\"\u001B[39;49m\u001B[38;5;124;43mastype\u001B[39;49m\u001B[38;5;124;43m\"\u001B[39;49m\u001B[43m,\u001B[49m\u001B[43m \u001B[49m\u001B[43mdtype\u001B[49m\u001B[38;5;241;43m=\u001B[39;49m\u001B[43mdtype\u001B[49m\u001B[43m,\u001B[49m\u001B[43m \u001B[49m\u001B[43mcopy\u001B[49m\u001B[38;5;241;43m=\u001B[39;49m\u001B[43mcopy\u001B[49m\u001B[43m,\u001B[49m\u001B[43m \u001B[49m\u001B[43merrors\u001B[49m\u001B[38;5;241;43m=\u001B[39;49m\u001B[43merrors\u001B[49m\u001B[43m)\u001B[49m\n",
      "File \u001B[1;32m~\\AppData\\Local\\Programs\\Python\\Python310\\lib\\site-packages\\pandas\\core\\internals\\managers.py:304\u001B[0m, in \u001B[0;36mBaseBlockManager.apply\u001B[1;34m(self, f, align_keys, ignore_failures, **kwargs)\u001B[0m\n\u001B[0;32m    302\u001B[0m         applied \u001B[38;5;241m=\u001B[39m b\u001B[38;5;241m.\u001B[39mapply(f, \u001B[38;5;241m*\u001B[39m\u001B[38;5;241m*\u001B[39mkwargs)\n\u001B[0;32m    303\u001B[0m     \u001B[38;5;28;01melse\u001B[39;00m:\n\u001B[1;32m--> 304\u001B[0m         applied \u001B[38;5;241m=\u001B[39m \u001B[38;5;28mgetattr\u001B[39m(b, f)(\u001B[38;5;241m*\u001B[39m\u001B[38;5;241m*\u001B[39mkwargs)\n\u001B[0;32m    305\u001B[0m \u001B[38;5;28;01mexcept\u001B[39;00m (\u001B[38;5;167;01mTypeError\u001B[39;00m, \u001B[38;5;167;01mNotImplementedError\u001B[39;00m):\n\u001B[0;32m    306\u001B[0m     \u001B[38;5;28;01mif\u001B[39;00m \u001B[38;5;129;01mnot\u001B[39;00m ignore_failures:\n",
      "File \u001B[1;32m~\\AppData\\Local\\Programs\\Python\\Python310\\lib\\site-packages\\pandas\\core\\internals\\blocks.py:580\u001B[0m, in \u001B[0;36mBlock.astype\u001B[1;34m(self, dtype, copy, errors)\u001B[0m\n\u001B[0;32m    562\u001B[0m \u001B[38;5;124;03m\"\"\"\u001B[39;00m\n\u001B[0;32m    563\u001B[0m \u001B[38;5;124;03mCoerce to the new dtype.\u001B[39;00m\n\u001B[0;32m    564\u001B[0m \n\u001B[1;32m   (...)\u001B[0m\n\u001B[0;32m    576\u001B[0m \u001B[38;5;124;03mBlock\u001B[39;00m\n\u001B[0;32m    577\u001B[0m \u001B[38;5;124;03m\"\"\"\u001B[39;00m\n\u001B[0;32m    578\u001B[0m values \u001B[38;5;241m=\u001B[39m \u001B[38;5;28mself\u001B[39m\u001B[38;5;241m.\u001B[39mvalues\n\u001B[1;32m--> 580\u001B[0m new_values \u001B[38;5;241m=\u001B[39m \u001B[43mastype_array_safe\u001B[49m\u001B[43m(\u001B[49m\u001B[43mvalues\u001B[49m\u001B[43m,\u001B[49m\u001B[43m \u001B[49m\u001B[43mdtype\u001B[49m\u001B[43m,\u001B[49m\u001B[43m \u001B[49m\u001B[43mcopy\u001B[49m\u001B[38;5;241;43m=\u001B[39;49m\u001B[43mcopy\u001B[49m\u001B[43m,\u001B[49m\u001B[43m \u001B[49m\u001B[43merrors\u001B[49m\u001B[38;5;241;43m=\u001B[39;49m\u001B[43merrors\u001B[49m\u001B[43m)\u001B[49m\n\u001B[0;32m    582\u001B[0m new_values \u001B[38;5;241m=\u001B[39m maybe_coerce_values(new_values)\n\u001B[0;32m    583\u001B[0m newb \u001B[38;5;241m=\u001B[39m \u001B[38;5;28mself\u001B[39m\u001B[38;5;241m.\u001B[39mmake_block(new_values)\n",
      "File \u001B[1;32m~\\AppData\\Local\\Programs\\Python\\Python310\\lib\\site-packages\\pandas\\core\\dtypes\\cast.py:1292\u001B[0m, in \u001B[0;36mastype_array_safe\u001B[1;34m(values, dtype, copy, errors)\u001B[0m\n\u001B[0;32m   1289\u001B[0m     dtype \u001B[38;5;241m=\u001B[39m dtype\u001B[38;5;241m.\u001B[39mnumpy_dtype\n\u001B[0;32m   1291\u001B[0m \u001B[38;5;28;01mtry\u001B[39;00m:\n\u001B[1;32m-> 1292\u001B[0m     new_values \u001B[38;5;241m=\u001B[39m \u001B[43mastype_array\u001B[49m\u001B[43m(\u001B[49m\u001B[43mvalues\u001B[49m\u001B[43m,\u001B[49m\u001B[43m \u001B[49m\u001B[43mdtype\u001B[49m\u001B[43m,\u001B[49m\u001B[43m \u001B[49m\u001B[43mcopy\u001B[49m\u001B[38;5;241;43m=\u001B[39;49m\u001B[43mcopy\u001B[49m\u001B[43m)\u001B[49m\n\u001B[0;32m   1293\u001B[0m \u001B[38;5;28;01mexcept\u001B[39;00m (\u001B[38;5;167;01mValueError\u001B[39;00m, \u001B[38;5;167;01mTypeError\u001B[39;00m):\n\u001B[0;32m   1294\u001B[0m     \u001B[38;5;66;03m# e.g. astype_nansafe can fail on object-dtype of strings\u001B[39;00m\n\u001B[0;32m   1295\u001B[0m     \u001B[38;5;66;03m#  trying to convert to float\u001B[39;00m\n\u001B[0;32m   1296\u001B[0m     \u001B[38;5;28;01mif\u001B[39;00m errors \u001B[38;5;241m==\u001B[39m \u001B[38;5;124m\"\u001B[39m\u001B[38;5;124mignore\u001B[39m\u001B[38;5;124m\"\u001B[39m:\n",
      "File \u001B[1;32m~\\AppData\\Local\\Programs\\Python\\Python310\\lib\\site-packages\\pandas\\core\\dtypes\\cast.py:1237\u001B[0m, in \u001B[0;36mastype_array\u001B[1;34m(values, dtype, copy)\u001B[0m\n\u001B[0;32m   1234\u001B[0m     values \u001B[38;5;241m=\u001B[39m values\u001B[38;5;241m.\u001B[39mastype(dtype, copy\u001B[38;5;241m=\u001B[39mcopy)\n\u001B[0;32m   1236\u001B[0m \u001B[38;5;28;01melse\u001B[39;00m:\n\u001B[1;32m-> 1237\u001B[0m     values \u001B[38;5;241m=\u001B[39m \u001B[43mastype_nansafe\u001B[49m\u001B[43m(\u001B[49m\u001B[43mvalues\u001B[49m\u001B[43m,\u001B[49m\u001B[43m \u001B[49m\u001B[43mdtype\u001B[49m\u001B[43m,\u001B[49m\u001B[43m \u001B[49m\u001B[43mcopy\u001B[49m\u001B[38;5;241;43m=\u001B[39;49m\u001B[43mcopy\u001B[49m\u001B[43m)\u001B[49m\n\u001B[0;32m   1239\u001B[0m \u001B[38;5;66;03m# in pandas we don't store numpy str dtypes, so convert to object\u001B[39;00m\n\u001B[0;32m   1240\u001B[0m \u001B[38;5;28;01mif\u001B[39;00m \u001B[38;5;28misinstance\u001B[39m(dtype, np\u001B[38;5;241m.\u001B[39mdtype) \u001B[38;5;129;01mand\u001B[39;00m \u001B[38;5;28missubclass\u001B[39m(values\u001B[38;5;241m.\u001B[39mdtype\u001B[38;5;241m.\u001B[39mtype, \u001B[38;5;28mstr\u001B[39m):\n",
      "File \u001B[1;32m~\\AppData\\Local\\Programs\\Python\\Python310\\lib\\site-packages\\pandas\\core\\dtypes\\cast.py:1181\u001B[0m, in \u001B[0;36mastype_nansafe\u001B[1;34m(arr, dtype, copy, skipna)\u001B[0m\n\u001B[0;32m   1177\u001B[0m     \u001B[38;5;28;01mraise\u001B[39;00m \u001B[38;5;167;01mValueError\u001B[39;00m(msg)\n\u001B[0;32m   1179\u001B[0m \u001B[38;5;28;01mif\u001B[39;00m copy \u001B[38;5;129;01mor\u001B[39;00m is_object_dtype(arr\u001B[38;5;241m.\u001B[39mdtype) \u001B[38;5;129;01mor\u001B[39;00m is_object_dtype(dtype):\n\u001B[0;32m   1180\u001B[0m     \u001B[38;5;66;03m# Explicit copy, or required since NumPy can't view from / to object.\u001B[39;00m\n\u001B[1;32m-> 1181\u001B[0m     \u001B[38;5;28;01mreturn\u001B[39;00m \u001B[43marr\u001B[49m\u001B[38;5;241;43m.\u001B[39;49m\u001B[43mastype\u001B[49m\u001B[43m(\u001B[49m\u001B[43mdtype\u001B[49m\u001B[43m,\u001B[49m\u001B[43m \u001B[49m\u001B[43mcopy\u001B[49m\u001B[38;5;241;43m=\u001B[39;49m\u001B[38;5;28;43;01mTrue\u001B[39;49;00m\u001B[43m)\u001B[49m\n\u001B[0;32m   1183\u001B[0m \u001B[38;5;28;01mreturn\u001B[39;00m arr\u001B[38;5;241m.\u001B[39mastype(dtype, copy\u001B[38;5;241m=\u001B[39mcopy)\n",
      "\u001B[1;31mValueError\u001B[0m: could not convert string to float: ''"
     ]
    }
   ],
   "source": [
    "Dataset_Kabum['INSTALLMENT'] = Dataset_Kabum['INSTALLMENT'].astype('float')"
   ],
   "metadata": {
    "collapsed": false,
    "pycharm": {
     "name": "#%%\n"
    }
   }
  },
  {
   "cell_type": "code",
   "execution_count": 35,
   "outputs": [
    {
     "data": {
      "text/plain": "DATE                    object\nURL                     object\nMARKETPLACE             object\nSELLER                  object\nPRICE                  float64\nPARCEL                   int32\nINSTALLMENT            float64\nINSTALLMENT_PAYMENT    float64\nID                      object\nPRODUCT                 object\ndtype: object"
     },
     "execution_count": 35,
     "metadata": {},
     "output_type": "execute_result"
    }
   ],
   "source": [
    "Dataset_Kabum.dtypes"
   ],
   "metadata": {
    "collapsed": false,
    "pycharm": {
     "name": "#%%\n"
    }
   }
  },
  {
   "cell_type": "code",
   "execution_count": 39,
   "metadata": {
    "pycharm": {
     "name": "#%%\n"
    }
   },
   "outputs": [],
   "source": [
    "Dataset_Kabum.to_excel(r\"C:\\Users\\pedro\\Documents\\Turte Brand Protection\\Turtle_Software_Artemis\\Data\\Brand_Search_Test\\Kabum_Toshiba.xlsx\", index=False)"
   ]
  },
  {
   "cell_type": "code",
   "execution_count": 15,
   "metadata": {
    "pycharm": {
     "name": "#%%\n"
    }
   },
   "outputs": [],
   "source": []
  }
 ],
 "metadata": {
  "interpreter": {
   "hash": "c3503f95e0e8f4afdf6702396a7a2a29cae9f67572acfe092405dcaa2579b817"
  },
  "kernelspec": {
   "display_name": "Python 3.10.4 64-bit",
   "language": "python",
   "name": "python3"
  },
  "language_info": {
   "codemirror_mode": {
    "name": "ipython",
    "version": 3
   },
   "file_extension": ".py",
   "mimetype": "text/x-python",
   "name": "python",
   "nbconvert_exporter": "python",
   "pygments_lexer": "ipython3",
   "version": "3.10.4"
  },
  "orig_nbformat": 4
 },
 "nbformat": 4,
 "nbformat_minor": 2
}