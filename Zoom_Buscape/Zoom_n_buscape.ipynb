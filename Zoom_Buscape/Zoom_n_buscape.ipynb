{
 "cells": [
  {
   "cell_type": "code",
   "execution_count": 8,
   "metadata": {
    "collapsed": true,
    "pycharm": {
     "name": "#%%\n"
    }
   },
   "outputs": [],
   "source": [
    "import pandas as pd\n",
    "import time\n",
    "from selenium import webdriver\n",
    "from selenium.webdriver.chrome.options import Options\n",
    "from selenium.webdriver.common.by import By\n",
    "from requests_html import HTML\n",
    "from bs4 import BeautifulSoup\n",
    "from selenium.webdriver.chrome.webdriver import WebDriver\n",
    "from selenium.common.exceptions import WebDriverException\n",
    "from tqdm import tqdm\n",
    "import pymysql\n",
    "import datetime\n",
    "import requests\n",
    "import os"
   ]
  },
  {
   "cell_type": "code",
   "execution_count": 9,
   "outputs": [],
   "source": [
    "#Congiruando o driver\n",
    "options = Options()\n",
    "options.add_argument(\"--headless\")\n",
    "options.add_argument('--disable-gpu')\n",
    "options.add_argument(\"--log-level=3\")\n",
    "options.add_argument('--no-sandbox')\n",
    "options.add_experimental_option('useAutomationExtension', False)\n",
    "options.add_experimental_option('excludeSwitches', ['enable-logging'])"
   ],
   "metadata": {
    "collapsed": false,
    "pycharm": {
     "name": "#%%\n"
    }
   }
  },
  {
   "cell_type": "code",
   "execution_count": 10,
   "outputs": [
    {
     "name": "stderr",
     "output_type": "stream",
     "text": [
      "C:\\Users\\pedro\\AppData\\Local\\Temp\\ipykernel_28248\\1319122002.py:1: DeprecationWarning: executable_path has been deprecated, please pass in a Service object\n",
      "  driver = webdriver.Chrome(r\"C:\\Users\\pedro\\Documents\\Turte Brand Protection\\Turtle_Thinker_Alpha_0.1\\Data\\Selenium\\Selenium_103\", options=options)\n"
     ]
    }
   ],
   "source": [
    "driver = webdriver.Chrome(r\"C:\\Users\\pedro\\Documents\\Turte Brand Protection\\Turtle_Thinker_Alpha_0.1\\Data\\Selenium\\Selenium_103\", options=options)"
   ],
   "metadata": {
    "collapsed": false,
    "pycharm": {
     "name": "#%%\n"
    }
   }
  },
  {
   "cell_type": "code",
   "execution_count": 11,
   "outputs": [],
   "source": [
    "Zoom_Links = []"
   ],
   "metadata": {
    "collapsed": false,
    "pycharm": {
     "name": "#%%\n"
    }
   }
  },
  {
   "cell_type": "code",
   "execution_count": 12,
   "outputs": [],
   "source": [
    "def getting_n_creating_zoom_urls(brand):\n",
    "    connection = pymysql.connect(host='mysqlserver.cnzboqhfvndh.sa-east-1.rds.amazonaws.com',\n",
    "                                 user='admin',\n",
    "                                 password='turtle316712',\n",
    "                                 database='Products_Brands',\n",
    "                                 cursorclass=pymysql.cursors.DictCursor)\n",
    "\n",
    "    #Criando o caminho do Databae\n",
    "    c = connection.cursor()\n",
    "\n",
    "    #Criando a Query\n",
    "    Sql_query = \"SELECT * FROM Products WHERE Brand = '%s'\" % (brand)\n",
    "\n",
    "    #Conectando com o banco de dados\n",
    "    c.execute(Sql_query)\n",
    "    result = c.fetchall()\n",
    "    c.close()\n",
    "    connection.close()\n",
    "\n",
    "    #Passando todos o dataframe para Lowercase\n",
    "    df = pd.DataFrame()\n",
    "    df['Brand'] = [item['Brand'] for item in result]\n",
    "    df['Product_Name'] = [item['Name'] for item in result]\n",
    "\n",
    "    #Arrumando espaços vazios\n",
    "    # Arrumano os espaços vazios\n",
    "    df['Product_Name'] = df['Product_Name'].str.replace(\" \", \"%20\")\n",
    "    df['Product_Name'] = df['Product_Name'].str.replace(\"-\", \"%20\")\n",
    "\n",
    "    # Criando uma nova coluna no database com a formatação certa\n",
    "    df['Urls'] = df['Brand'] + \"%20\" + df['Product_Name']\n",
    "\n",
    "    # Criando a nova coluna que são as urls de pesquisa\n",
    "    df['Urls_search'] = \"https://www.zoom.com.br/search?q=\" + df['Urls']\n",
    "\n",
    "    return df"
   ],
   "metadata": {
    "collapsed": false,
    "pycharm": {
     "name": "#%%\n"
    }
   }
  },
  {
   "cell_type": "code",
   "execution_count": 13,
   "outputs": [
    {
     "data": {
      "text/plain": "   Brand Product_Name                 Urls  \\\n0  Wacom       CTL472       Wacom%20CTL472   \n1  Wacom      CTL4100      Wacom%20CTL4100   \n2  Wacom  CTL4100WLE0  Wacom%20CTL4100WLE0   \n3  Wacom  CTL4100WLK0  Wacom%20CTL4100WLK0   \n4  Wacom  CTL6100WLK0  Wacom%20CTL6100WLK0   \n5  Wacom    DTC133W0A    Wacom%20DTC133W0A   \n6  Wacom       PTH460       Wacom%20PTH460   \n7  Wacom   DTK1660K0A   Wacom%20DTK1660K0A   \n8  Wacom       PTH660       Wacom%20PTH660   \n9  Wacom  CTL6100WLE0  Wacom%20CTL6100WLE0   \n\n                                         Urls_search  \n0    https://www.zoom.com.br/search?q=Wacom%20CTL472  \n1   https://www.zoom.com.br/search?q=Wacom%20CTL4100  \n2  https://www.zoom.com.br/search?q=Wacom%20CTL41...  \n3  https://www.zoom.com.br/search?q=Wacom%20CTL41...  \n4  https://www.zoom.com.br/search?q=Wacom%20CTL61...  \n5  https://www.zoom.com.br/search?q=Wacom%20DTC13...  \n6    https://www.zoom.com.br/search?q=Wacom%20PTH460  \n7  https://www.zoom.com.br/search?q=Wacom%20DTK16...  \n8    https://www.zoom.com.br/search?q=Wacom%20PTH660  \n9  https://www.zoom.com.br/search?q=Wacom%20CTL61...  ",
      "text/html": "<div>\n<style scoped>\n    .dataframe tbody tr th:only-of-type {\n        vertical-align: middle;\n    }\n\n    .dataframe tbody tr th {\n        vertical-align: top;\n    }\n\n    .dataframe thead th {\n        text-align: right;\n    }\n</style>\n<table border=\"1\" class=\"dataframe\">\n  <thead>\n    <tr style=\"text-align: right;\">\n      <th></th>\n      <th>Brand</th>\n      <th>Product_Name</th>\n      <th>Urls</th>\n      <th>Urls_search</th>\n    </tr>\n  </thead>\n  <tbody>\n    <tr>\n      <th>0</th>\n      <td>Wacom</td>\n      <td>CTL472</td>\n      <td>Wacom%20CTL472</td>\n      <td>https://www.zoom.com.br/search?q=Wacom%20CTL472</td>\n    </tr>\n    <tr>\n      <th>1</th>\n      <td>Wacom</td>\n      <td>CTL4100</td>\n      <td>Wacom%20CTL4100</td>\n      <td>https://www.zoom.com.br/search?q=Wacom%20CTL4100</td>\n    </tr>\n    <tr>\n      <th>2</th>\n      <td>Wacom</td>\n      <td>CTL4100WLE0</td>\n      <td>Wacom%20CTL4100WLE0</td>\n      <td>https://www.zoom.com.br/search?q=Wacom%20CTL41...</td>\n    </tr>\n    <tr>\n      <th>3</th>\n      <td>Wacom</td>\n      <td>CTL4100WLK0</td>\n      <td>Wacom%20CTL4100WLK0</td>\n      <td>https://www.zoom.com.br/search?q=Wacom%20CTL41...</td>\n    </tr>\n    <tr>\n      <th>4</th>\n      <td>Wacom</td>\n      <td>CTL6100WLK0</td>\n      <td>Wacom%20CTL6100WLK0</td>\n      <td>https://www.zoom.com.br/search?q=Wacom%20CTL61...</td>\n    </tr>\n    <tr>\n      <th>5</th>\n      <td>Wacom</td>\n      <td>DTC133W0A</td>\n      <td>Wacom%20DTC133W0A</td>\n      <td>https://www.zoom.com.br/search?q=Wacom%20DTC13...</td>\n    </tr>\n    <tr>\n      <th>6</th>\n      <td>Wacom</td>\n      <td>PTH460</td>\n      <td>Wacom%20PTH460</td>\n      <td>https://www.zoom.com.br/search?q=Wacom%20PTH460</td>\n    </tr>\n    <tr>\n      <th>7</th>\n      <td>Wacom</td>\n      <td>DTK1660K0A</td>\n      <td>Wacom%20DTK1660K0A</td>\n      <td>https://www.zoom.com.br/search?q=Wacom%20DTK16...</td>\n    </tr>\n    <tr>\n      <th>8</th>\n      <td>Wacom</td>\n      <td>PTH660</td>\n      <td>Wacom%20PTH660</td>\n      <td>https://www.zoom.com.br/search?q=Wacom%20PTH660</td>\n    </tr>\n    <tr>\n      <th>9</th>\n      <td>Wacom</td>\n      <td>CTL6100WLE0</td>\n      <td>Wacom%20CTL6100WLE0</td>\n      <td>https://www.zoom.com.br/search?q=Wacom%20CTL61...</td>\n    </tr>\n  </tbody>\n</table>\n</div>"
     },
     "execution_count": 13,
     "metadata": {},
     "output_type": "execute_result"
    }
   ],
   "source": [
    "Df_Products = getting_n_creating_zoom_urls('Wacom')\n",
    "Df_Products"
   ],
   "metadata": {
    "collapsed": false,
    "pycharm": {
     "name": "#%%\n"
    }
   }
  },
  {
   "cell_type": "code",
   "execution_count": 14,
   "outputs": [],
   "source": [
    "def get_links(url):\n",
    "    global  Zoom_Links\n",
    "\n",
    "    time.sleep(10)\n",
    "    response = requests.get(url)\n",
    "    html = response.text\n",
    "\n",
    "    Soup = BeautifulSoup(html, 'html.parser')\n",
    "    for a in Soup.find_all(\"a\", href=True):\n",
    "        Zoom_Links.append(a['href'])\n",
    "\n",
    "    Zoom_Links = [s for s in Zoom_Links if 'searchterm' in s]"
   ],
   "metadata": {
    "collapsed": false,
    "pycharm": {
     "name": "#%%\n"
    }
   }
  },
  {
   "cell_type": "code",
   "execution_count": 15,
   "outputs": [
    {
     "name": "stderr",
     "output_type": "stream",
     "text": [
      "100%|██████████| 10/10 [01:47<00:00, 10.74s/it]\n"
     ]
    }
   ],
   "source": [
    "for url in tqdm(Df_Products['Urls_search']):\n",
    "    get_links(url)\n"
   ],
   "metadata": {
    "collapsed": false,
    "pycharm": {
     "name": "#%%\n"
    }
   }
  },
  {
   "cell_type": "code",
   "execution_count": 16,
   "outputs": [
    {
     "name": "stdout",
     "output_type": "stream",
     "text": [
      "63\n"
     ]
    }
   ],
   "source": [
    "print(len(Zoom_Links))"
   ],
   "metadata": {
    "collapsed": false,
    "pycharm": {
     "name": "#%%\n"
    }
   }
  },
  {
   "cell_type": "code",
   "execution_count": 31,
   "outputs": [
    {
     "name": "stdout",
     "output_type": "stream",
     "text": [
      "37\n",
      "26\n",
      "63\n"
     ]
    }
   ],
   "source": [
    "Zoom_Links_with_https = [s for s in Zoom_Links if 'https://' in s]\n",
    "Zoom_Links_without_https = [s for s in Zoom_Links if not 'https://' in s]\n",
    "\n",
    "print(len(Zoom_Links_with_https))\n",
    "print(len(Zoom_Links_without_https))\n",
    "\n",
    "print(int(len(Zoom_Links)))"
   ],
   "metadata": {
    "collapsed": false,
    "pycharm": {
     "name": "#%%\n"
    }
   }
  },
  {
   "cell_type": "code",
   "execution_count": 36,
   "outputs": [],
   "source": [
    "def creating_the_dataframe(urls):\n",
    "    Df = pd.DataFrame()\n",
    "    Df['Urls'] = urls\n",
    "    Df['Beginning'] = Df['Urls'].str.replace(\"https://www.zoom.com.br\",\"\")\n",
    "    Df['Urls_search'] = \"https://www.zoom.com.br\" + Df['Beginning']\n",
    "\n",
    "    return Df"
   ],
   "metadata": {
    "collapsed": false,
    "pycharm": {
     "name": "#%%\n"
    }
   }
  },
  {
   "cell_type": "code",
   "execution_count": 37,
   "outputs": [
    {
     "name": "stderr",
     "output_type": "stream",
     "text": [
      "C:\\Users\\pedro\\AppData\\Local\\Temp\\ipykernel_28248\\2409044783.py:4: FutureWarning: The default value of regex will change from True to False in a future version.\n",
      "  Df['Beginning'] = Df['Urls'].str.replace(\"https://www.zoom.com.br\",\"\")\n"
     ]
    },
    {
     "data": {
      "text/plain": "                                                 Urls  \\\n0   /mesa-digitalizadora/mesa-digitalizadora-wacom...   \n1   /mesa-digitalizadora/wacom-one-ctl472-mesa-dig...   \n2   /mesa-digitalizadora/mesa-digitalizadora-one-b...   \n3   /mesa-digitalizadora/mesa-digitalizadora-one-b...   \n4   https://www.zoom.com.br/lead?oid=788011728&cha...   \n..                                                ...   \n58  /mesa-digitalizadora/mesa-digitalizadora-wacom...   \n59  /mesa-digitalizadora/folha-textura-aspera-para...   \n60  /mesa-digitalizadora/mesa-digitalizadora-wacom...   \n61  /mesa-digitalizadora/mesa-digitalizadora-wacom...   \n62  /mesa-digitalizadora/mesa-digitalizadora-wacom...   \n\n                                            Beginning  \\\n0   /mesa-digitalizadora/mesa-digitalizadora-wacom...   \n1   /mesa-digitalizadora/wacom-one-ctl472-mesa-dig...   \n2   /mesa-digitalizadora/mesa-digitalizadora-one-b...   \n3   /mesa-digitalizadora/mesa-digitalizadora-one-b...   \n4   /lead?oid=788011728&channel=86&index=4&searcht...   \n..                                                ...   \n58  /mesa-digitalizadora/mesa-digitalizadora-wacom...   \n59  /mesa-digitalizadora/folha-textura-aspera-para...   \n60  /mesa-digitalizadora/mesa-digitalizadora-wacom...   \n61  /mesa-digitalizadora/mesa-digitalizadora-wacom...   \n62  /mesa-digitalizadora/mesa-digitalizadora-wacom...   \n\n                                          Urls_search  \n0   https://www.zoom.com.br/mesa-digitalizadora/me...  \n1   https://www.zoom.com.br/mesa-digitalizadora/wa...  \n2   https://www.zoom.com.br/mesa-digitalizadora/me...  \n3   https://www.zoom.com.br/mesa-digitalizadora/me...  \n4   https://www.zoom.com.br/lead?oid=788011728&cha...  \n..                                                ...  \n58  https://www.zoom.com.br/mesa-digitalizadora/me...  \n59  https://www.zoom.com.br/mesa-digitalizadora/fo...  \n60  https://www.zoom.com.br/mesa-digitalizadora/me...  \n61  https://www.zoom.com.br/mesa-digitalizadora/me...  \n62  https://www.zoom.com.br/mesa-digitalizadora/me...  \n\n[63 rows x 3 columns]",
      "text/html": "<div>\n<style scoped>\n    .dataframe tbody tr th:only-of-type {\n        vertical-align: middle;\n    }\n\n    .dataframe tbody tr th {\n        vertical-align: top;\n    }\n\n    .dataframe thead th {\n        text-align: right;\n    }\n</style>\n<table border=\"1\" class=\"dataframe\">\n  <thead>\n    <tr style=\"text-align: right;\">\n      <th></th>\n      <th>Urls</th>\n      <th>Beginning</th>\n      <th>Urls_search</th>\n    </tr>\n  </thead>\n  <tbody>\n    <tr>\n      <th>0</th>\n      <td>/mesa-digitalizadora/mesa-digitalizadora-wacom...</td>\n      <td>/mesa-digitalizadora/mesa-digitalizadora-wacom...</td>\n      <td>https://www.zoom.com.br/mesa-digitalizadora/me...</td>\n    </tr>\n    <tr>\n      <th>1</th>\n      <td>/mesa-digitalizadora/wacom-one-ctl472-mesa-dig...</td>\n      <td>/mesa-digitalizadora/wacom-one-ctl472-mesa-dig...</td>\n      <td>https://www.zoom.com.br/mesa-digitalizadora/wa...</td>\n    </tr>\n    <tr>\n      <th>2</th>\n      <td>/mesa-digitalizadora/mesa-digitalizadora-one-b...</td>\n      <td>/mesa-digitalizadora/mesa-digitalizadora-one-b...</td>\n      <td>https://www.zoom.com.br/mesa-digitalizadora/me...</td>\n    </tr>\n    <tr>\n      <th>3</th>\n      <td>/mesa-digitalizadora/mesa-digitalizadora-one-b...</td>\n      <td>/mesa-digitalizadora/mesa-digitalizadora-one-b...</td>\n      <td>https://www.zoom.com.br/mesa-digitalizadora/me...</td>\n    </tr>\n    <tr>\n      <th>4</th>\n      <td>https://www.zoom.com.br/lead?oid=788011728&amp;cha...</td>\n      <td>/lead?oid=788011728&amp;channel=86&amp;index=4&amp;searcht...</td>\n      <td>https://www.zoom.com.br/lead?oid=788011728&amp;cha...</td>\n    </tr>\n    <tr>\n      <th>...</th>\n      <td>...</td>\n      <td>...</td>\n      <td>...</td>\n    </tr>\n    <tr>\n      <th>58</th>\n      <td>/mesa-digitalizadora/mesa-digitalizadora-wacom...</td>\n      <td>/mesa-digitalizadora/mesa-digitalizadora-wacom...</td>\n      <td>https://www.zoom.com.br/mesa-digitalizadora/me...</td>\n    </tr>\n    <tr>\n      <th>59</th>\n      <td>/mesa-digitalizadora/folha-textura-aspera-para...</td>\n      <td>/mesa-digitalizadora/folha-textura-aspera-para...</td>\n      <td>https://www.zoom.com.br/mesa-digitalizadora/fo...</td>\n    </tr>\n    <tr>\n      <th>60</th>\n      <td>/mesa-digitalizadora/mesa-digitalizadora-wacom...</td>\n      <td>/mesa-digitalizadora/mesa-digitalizadora-wacom...</td>\n      <td>https://www.zoom.com.br/mesa-digitalizadora/me...</td>\n    </tr>\n    <tr>\n      <th>61</th>\n      <td>/mesa-digitalizadora/mesa-digitalizadora-wacom...</td>\n      <td>/mesa-digitalizadora/mesa-digitalizadora-wacom...</td>\n      <td>https://www.zoom.com.br/mesa-digitalizadora/me...</td>\n    </tr>\n    <tr>\n      <th>62</th>\n      <td>/mesa-digitalizadora/mesa-digitalizadora-wacom...</td>\n      <td>/mesa-digitalizadora/mesa-digitalizadora-wacom...</td>\n      <td>https://www.zoom.com.br/mesa-digitalizadora/me...</td>\n    </tr>\n  </tbody>\n</table>\n<p>63 rows × 3 columns</p>\n</div>"
     },
     "execution_count": 37,
     "metadata": {},
     "output_type": "execute_result"
    }
   ],
   "source": [
    "Df_urls = creating_the_dataframe(Zoom_Links)\n",
    "Df_urls"
   ],
   "metadata": {
    "collapsed": false,
    "pycharm": {
     "name": "#%%\n"
    }
   }
  },
  {
   "cell_type": "code",
   "execution_count": 42,
   "outputs": [],
   "source": [
    "Zoom_Price = []\n",
    "Zoom_Seller = []\n",
    "Zoom_Installment = []\n",
    "Zoom_Title = []\n",
    "Zoom_Urls = []"
   ],
   "metadata": {
    "collapsed": false,
    "pycharm": {
     "name": "#%%\n"
    }
   }
  },
  {
   "cell_type": "code",
   "execution_count": 43,
   "outputs": [],
   "source": [
    "def Get_atribuites(url):\n",
    "    time.sleep(20)\n",
    "    response = driver.get(url)\n",
    "    time.sleep(5)\n",
    "    print(url)\n",
    "\n",
    "\n",
    "    try:\n",
    "        driver.find_element(by=By.CLASS_NAME, value=\"Button_Button__GLsxI Button_secondary__lv0si Button_medium__ea4jW Button_mediumAtSmall__x_KxA Button_largeAtLarge__5iZss SeeMore_Button__fveoe\").click()\n",
    "    except:\n",
    "        pass\n",
    "\n",
    "    try:\n",
    "        driver.find_element(by=By.CLASS_NAME, value=\"Button_Button__GLsxI Button_secondary__lv0si Button_medium__ea4jW Button_mediumAtSmall__x_KxA Button_largeAtLarge__5iZss SeeMore_Button__fveoe\").click()\n",
    "    except:\n",
    "        pass\n",
    "\n",
    "    try:\n",
    "        driver.find_element(by=By.CLASS_NAME, value=\"Button_Button__GLsxI Button_secondary__lv0si Button_medium__ea4jW Button_mediumAtSmall__x_KxA Button_largeAtLarge__5iZss SeeMore_Button__fveoe\").click()\n",
    "    except:\n",
    "        pass\n",
    "\n",
    "    body_el = driver.find_element(By.CSS_SELECTOR, 'body')\n",
    "    html_str = body_el.get_attribute('innerHTML')\n",
    "\n",
    "\n",
    "    Soup = BeautifulSoup(html_str, 'html.parser')\n",
    "\n",
    "    #price = Soup.find(class_='Text_Text__bOTfK Text_DesktopHeadingM__pBPKa').text\n",
    "    try:\n",
    "        title = Soup.find(class_='Text_Text__bOTfK Text_MobileSubtitleM__4Op9D Text_DesktopSubtitleMAtLarge__7Nr81').text\n",
    "    except:\n",
    "        title = 'erro'\n",
    "    #Installment = Soup.find(class_='Price_Installments__8hwMt').text\n",
    "    #N_offers = Soup.find(class_='Anchor_Anchor__1FNBP').text\n",
    "\n",
    "    #print(price + '\\n' + title + \"\\n\" + Installment + \"\\n\" + N_offers)\n",
    "    try:\n",
    "        for a in Soup.find_all(class_='Text_Text__bOTfK Text_MobileHeadingM__FRgbv'):\n",
    "            Zoom_Price.append(a.text)\n",
    "            Zoom_Title.append(title)\n",
    "            Zoom_Urls.append(url)\n",
    "    except:\n",
    "        Zoom_Price.append(\"ERRO\")\n",
    "        Zoom_Title.append(\"ERRO\")\n",
    "\n",
    "    try:\n",
    "        for b in Soup.find_all(class_='Text_Text__bOTfK Text_MobileLabelXs__rr7ZF OfferPrice_Installments__006GM'):\n",
    "            Zoom_Installment.append(b.text)\n",
    "    except:\n",
    "        Zoom_Installment.append(\"erro\")\n",
    "\n",
    "    try:\n",
    "        for c in Soup.find_all(class_='OfferMerchant_Merchant__1ZgkP'):\n",
    "            Zoom_Seller.append(c.text)\n",
    "    except:\n",
    "        Zoom_Seller.append('Erro')\n"
   ],
   "metadata": {
    "collapsed": false,
    "pycharm": {
     "name": "#%%\n"
    }
   }
  },
  {
   "cell_type": "code",
   "execution_count": 44,
   "outputs": [
    {
     "name": "stderr",
     "output_type": "stream",
     "text": [
      "  2%|▏         | 1/63 [00:25<26:37, 25.77s/it]"
     ]
    },
    {
     "name": "stdout",
     "output_type": "stream",
     "text": [
      "https://www.zoom.com.br/mesa-digitalizadora/mesa-digitalizadora-wacom-one-by-wacom-ctl472?_lc=88&searchterm=Wacom%20CTL472\n",
      "https://www.zoom.com.br/mesa-digitalizadora/wacom-one-ctl472-mesa-digitalizadora-preto-vermelho?_lc=88&searchterm=Wacom%20CTL472\n"
     ]
    },
    {
     "name": "stderr",
     "output_type": "stream",
     "text": [
      "  5%|▍         | 3/63 [01:17<25:50, 25.85s/it]"
     ]
    },
    {
     "name": "stdout",
     "output_type": "stream",
     "text": [
      "https://www.zoom.com.br/mesa-digitalizadora/mesa-digitalizadora-one-by-wacom-ctl472-pequena?_lc=88&searchterm=Wacom%20CTL472\n"
     ]
    },
    {
     "name": "stderr",
     "output_type": "stream",
     "text": [
      "  6%|▋         | 4/63 [01:43<25:21, 25.78s/it]"
     ]
    },
    {
     "name": "stdout",
     "output_type": "stream",
     "text": [
      "https://www.zoom.com.br/mesa-digitalizadora/mesa-digitalizadora-one-by-wacom-ctl472?_lc=88&searchterm=Wacom%20CTL472\n"
     ]
    },
    {
     "name": "stderr",
     "output_type": "stream",
     "text": [
      "  8%|▊         | 5/63 [02:09<25:10, 26.05s/it]"
     ]
    },
    {
     "name": "stdout",
     "output_type": "stream",
     "text": [
      "https://www.zoom.com.br/lead?oid=788011728&channel=86&index=4&searchterm=Wacom%20CTL472\n"
     ]
    },
    {
     "name": "stderr",
     "output_type": "stream",
     "text": [
      " 10%|▉         | 6/63 [02:36<25:02, 26.37s/it]"
     ]
    },
    {
     "name": "stdout",
     "output_type": "stream",
     "text": [
      "https://www.zoom.com.br/lead?oid=852417963&channel=86&index=5&searchterm=Wacom%20CTL472\n"
     ]
    },
    {
     "name": "stderr",
     "output_type": "stream",
     "text": [
      " 11%|█         | 7/63 [03:02<24:35, 26.34s/it]"
     ]
    },
    {
     "name": "stdout",
     "output_type": "stream",
     "text": [
      "https://www.zoom.com.br/lead?oid=799183152&channel=86&index=6&searchterm=Wacom%20CTL472\n"
     ]
    },
    {
     "name": "stderr",
     "output_type": "stream",
     "text": [
      " 13%|█▎        | 8/63 [03:29<24:11, 26.39s/it]"
     ]
    },
    {
     "name": "stdout",
     "output_type": "stream",
     "text": [
      "https://www.zoom.com.br/lead?oid=798707850&channel=86&index=7&searchterm=Wacom%20CTL472\n"
     ]
    },
    {
     "name": "stderr",
     "output_type": "stream",
     "text": [
      " 14%|█▍        | 9/63 [03:56<23:52, 26.52s/it]"
     ]
    },
    {
     "name": "stdout",
     "output_type": "stream",
     "text": [
      "https://www.zoom.com.br/lead?oid=792195781&channel=86&index=8&searchterm=Wacom%20CTL472\n"
     ]
    },
    {
     "name": "stderr",
     "output_type": "stream",
     "text": [
      " 16%|█▌        | 10/63 [04:22<23:17, 26.37s/it]"
     ]
    },
    {
     "name": "stdout",
     "output_type": "stream",
     "text": [
      "https://www.zoom.com.br/lead?oid=790126596&channel=86&index=9&searchterm=Wacom%20CTL472\n"
     ]
    },
    {
     "name": "stderr",
     "output_type": "stream",
     "text": [
      " 17%|█▋        | 11/63 [04:48<22:43, 26.23s/it]"
     ]
    },
    {
     "name": "stdout",
     "output_type": "stream",
     "text": [
      "https://www.zoom.com.br/lead?oid=782971394&channel=86&index=10&searchterm=Wacom%20CTL472\n"
     ]
    },
    {
     "name": "stderr",
     "output_type": "stream",
     "text": [
      " 19%|█▉        | 12/63 [05:14<22:14, 26.16s/it]"
     ]
    },
    {
     "name": "stdout",
     "output_type": "stream",
     "text": [
      "https://www.zoom.com.br/lead?oid=771058931&channel=86&index=11&searchterm=Wacom%20CTL472\n"
     ]
    },
    {
     "name": "stderr",
     "output_type": "stream",
     "text": [
      " 21%|██        | 13/63 [05:40<21:45, 26.11s/it]"
     ]
    },
    {
     "name": "stdout",
     "output_type": "stream",
     "text": [
      "https://www.zoom.com.br/lead?oid=350461845&channel=86&index=12&searchterm=Wacom%20CTL472\n"
     ]
    },
    {
     "name": "stderr",
     "output_type": "stream",
     "text": [
      " 22%|██▏       | 14/63 [06:05<21:07, 25.88s/it]"
     ]
    },
    {
     "name": "stdout",
     "output_type": "stream",
     "text": [
      "https://www.zoom.com.br/lead?oid=536360373&channel=86&index=13&searchterm=Wacom%20CTL472\n"
     ]
    },
    {
     "name": "stderr",
     "output_type": "stream",
     "text": [
      " 24%|██▍       | 15/63 [06:31<20:44, 25.92s/it]"
     ]
    },
    {
     "name": "stdout",
     "output_type": "stream",
     "text": [
      "https://www.zoom.com.br/lead?oid=789050478&channel=86&index=14&searchterm=Wacom%20CTL472\n"
     ]
    },
    {
     "name": "stderr",
     "output_type": "stream",
     "text": [
      " 25%|██▌       | 16/63 [06:57<20:24, 26.05s/it]"
     ]
    },
    {
     "name": "stdout",
     "output_type": "stream",
     "text": [
      "https://www.zoom.com.br/lead?oid=780903275&channel=86&index=15&searchterm=Wacom%20CTL472\n"
     ]
    },
    {
     "name": "stderr",
     "output_type": "stream",
     "text": [
      " 27%|██▋       | 17/63 [07:23<19:55, 26.00s/it]"
     ]
    },
    {
     "name": "stdout",
     "output_type": "stream",
     "text": [
      "https://www.zoom.com.br/mesa-digitalizadora/mesa-digitalizadora-wacom-intuos-creative-pequena-ctl4100?_lc=88&searchterm=Wacom%20CTL4100\n"
     ]
    },
    {
     "name": "stderr",
     "output_type": "stream",
     "text": [
      " 29%|██▊       | 18/63 [07:50<19:33, 26.07s/it]"
     ]
    },
    {
     "name": "stdout",
     "output_type": "stream",
     "text": [
      "https://www.zoom.com.br/mesa-digitalizadora/mesa-digitalizadora-wacom-intuos-clt4100-original?_lc=88&searchterm=Wacom%20CTL4100\n"
     ]
    },
    {
     "name": "stderr",
     "output_type": "stream",
     "text": [
      " 30%|███       | 19/63 [08:16<19:12, 26.19s/it]"
     ]
    },
    {
     "name": "stdout",
     "output_type": "stream",
     "text": [
      "https://www.zoom.com.br/mesa-digitalizadora/mesa-digitalizadora-wacom-ctl4100?_lc=88&searchterm=Wacom%20CTL4100\n"
     ]
    },
    {
     "name": "stderr",
     "output_type": "stream",
     "text": [
      " 32%|███▏      | 20/63 [08:44<19:10, 26.75s/it]"
     ]
    },
    {
     "name": "stdout",
     "output_type": "stream",
     "text": [
      "https://www.zoom.com.br/lead?oid=72882749&channel=86&index=3&searchterm=Wacom%20CTL4100\n"
     ]
    },
    {
     "name": "stderr",
     "output_type": "stream",
     "text": [
      " 33%|███▎      | 21/63 [09:09<18:25, 26.32s/it]"
     ]
    },
    {
     "name": "stdout",
     "output_type": "stream",
     "text": [
      "https://www.zoom.com.br/lead?oid=526910123&channel=86&index=4&searchterm=Wacom%20CTL4100\n"
     ]
    },
    {
     "name": "stderr",
     "output_type": "stream",
     "text": [
      " 35%|███▍      | 22/63 [09:35<17:55, 26.23s/it]"
     ]
    },
    {
     "name": "stdout",
     "output_type": "stream",
     "text": [
      "https://www.zoom.com.br/lead?oid=800243807&channel=86&index=5&searchterm=Wacom%20CTL4100\n"
     ]
    },
    {
     "name": "stderr",
     "output_type": "stream",
     "text": [
      " 37%|███▋      | 23/63 [10:01<17:23, 26.09s/it]"
     ]
    },
    {
     "name": "stdout",
     "output_type": "stream",
     "text": [
      "https://www.zoom.com.br/lead?oid=792160813&channel=86&index=6&searchterm=Wacom%20CTL4100\n"
     ]
    },
    {
     "name": "stderr",
     "output_type": "stream",
     "text": [
      " 38%|███▊      | 24/63 [10:39<19:12, 29.55s/it]"
     ]
    },
    {
     "name": "stdout",
     "output_type": "stream",
     "text": [
      "https://www.zoom.com.br/lead?oid=791873443&channel=86&index=7&searchterm=Wacom%20CTL4100\n"
     ]
    },
    {
     "name": "stderr",
     "output_type": "stream",
     "text": [
      " 40%|███▉      | 25/63 [11:04<17:58, 28.38s/it]"
     ]
    },
    {
     "name": "stdout",
     "output_type": "stream",
     "text": [
      "https://www.zoom.com.br/lead?oid=788332325&channel=86&index=8&searchterm=Wacom%20CTL4100\n"
     ]
    },
    {
     "name": "stderr",
     "output_type": "stream",
     "text": [
      " 41%|████▏     | 26/63 [11:30<17:03, 27.67s/it]"
     ]
    },
    {
     "name": "stdout",
     "output_type": "stream",
     "text": [
      "https://www.zoom.com.br/lead?oid=787091073&channel=86&index=9&searchterm=Wacom%20CTL4100\n"
     ]
    },
    {
     "name": "stderr",
     "output_type": "stream",
     "text": [
      " 43%|████▎     | 27/63 [11:56<16:18, 27.19s/it]"
     ]
    },
    {
     "name": "stdout",
     "output_type": "stream",
     "text": [
      "https://www.zoom.com.br/lead?oid=782723359&channel=86&index=10&searchterm=Wacom%20CTL4100\n"
     ]
    },
    {
     "name": "stderr",
     "output_type": "stream",
     "text": [
      " 44%|████▍     | 28/63 [12:22<15:38, 26.83s/it]"
     ]
    },
    {
     "name": "stdout",
     "output_type": "stream",
     "text": [
      "https://www.zoom.com.br/lead?oid=772522820&channel=86&index=11&searchterm=Wacom%20CTL4100\n"
     ]
    },
    {
     "name": "stderr",
     "output_type": "stream",
     "text": [
      " 46%|████▌     | 29/63 [12:49<15:08, 26.73s/it]"
     ]
    },
    {
     "name": "stdout",
     "output_type": "stream",
     "text": [
      "https://www.zoom.com.br/lead?oid=770378608&channel=86&index=12&searchterm=Wacom%20CTL4100\n"
     ]
    },
    {
     "name": "stderr",
     "output_type": "stream",
     "text": [
      " 48%|████▊     | 30/63 [13:15<14:35, 26.54s/it]"
     ]
    },
    {
     "name": "stdout",
     "output_type": "stream",
     "text": [
      "https://www.zoom.com.br/lead?oid=750265434&channel=86&index=13&searchterm=Wacom%20CTL4100\n"
     ]
    },
    {
     "name": "stderr",
     "output_type": "stream",
     "text": [
      " 49%|████▉     | 31/63 [13:40<13:57, 26.18s/it]"
     ]
    },
    {
     "name": "stdout",
     "output_type": "stream",
     "text": [
      "https://www.zoom.com.br/lead?oid=553353478&channel=86&index=14&searchterm=Wacom%20CTL4100\n"
     ]
    },
    {
     "name": "stderr",
     "output_type": "stream",
     "text": [
      " 51%|█████     | 32/63 [14:06<13:23, 25.90s/it]"
     ]
    },
    {
     "name": "stdout",
     "output_type": "stream",
     "text": [
      "https://www.zoom.com.br/lead?oid=544616025&channel=86&index=15&searchterm=Wacom%20CTL4100\n"
     ]
    },
    {
     "name": "stderr",
     "output_type": "stream",
     "text": [
      " 52%|█████▏    | 33/63 [14:31<12:54, 25.81s/it]"
     ]
    },
    {
     "name": "stdout",
     "output_type": "stream",
     "text": [
      "https://www.zoom.com.br/lead?oid=526909671&channel=86&index=16&searchterm=Wacom%20CTL4100\n"
     ]
    },
    {
     "name": "stderr",
     "output_type": "stream",
     "text": [
      " 54%|█████▍    | 34/63 [14:57<12:23, 25.65s/it]"
     ]
    },
    {
     "name": "stdout",
     "output_type": "stream",
     "text": [
      "https://www.zoom.com.br/lead?oid=524538770&channel=86&index=17&searchterm=Wacom%20CTL4100\n"
     ]
    },
    {
     "name": "stderr",
     "output_type": "stream",
     "text": [
      " 56%|█████▌    | 35/63 [15:22<11:54, 25.54s/it]"
     ]
    },
    {
     "name": "stdout",
     "output_type": "stream",
     "text": [
      "https://www.zoom.com.br/lead?oid=524153397&channel=86&index=18&searchterm=Wacom%20CTL4100\n"
     ]
    },
    {
     "name": "stderr",
     "output_type": "stream",
     "text": [
      " 57%|█████▋    | 36/63 [15:47<11:27, 25.46s/it]"
     ]
    },
    {
     "name": "stdout",
     "output_type": "stream",
     "text": [
      "https://www.zoom.com.br/lead?oid=521732451&channel=86&index=19&searchterm=Wacom%20CTL4100\n"
     ]
    },
    {
     "name": "stderr",
     "output_type": "stream",
     "text": [
      " 59%|█████▊    | 37/63 [16:13<11:03, 25.53s/it]"
     ]
    },
    {
     "name": "stdout",
     "output_type": "stream",
     "text": [
      "https://www.zoom.com.br/mesa-digitalizadora/mesa-digitalizadora-wacom-bluetooth-pequena-intuos-criativa-ctl4100wle0-verde-e-preta?_lc=88&searchterm=Wacom%20CTL4100WLE0\n"
     ]
    },
    {
     "name": "stderr",
     "output_type": "stream",
     "text": [
      " 60%|██████    | 38/63 [16:38<10:36, 25.47s/it]"
     ]
    },
    {
     "name": "stdout",
     "output_type": "stream",
     "text": [
      "https://www.zoom.com.br/lead?oid=80555454&channel=86&index=1&searchterm=Wacom%20CTL4100WLE0\n"
     ]
    },
    {
     "name": "stderr",
     "output_type": "stream",
     "text": [
      " 62%|██████▏   | 39/63 [17:05<10:19, 25.83s/it]"
     ]
    },
    {
     "name": "stdout",
     "output_type": "stream",
     "text": [
      "https://www.zoom.com.br/lead?oid=587437152&channel=86&index=2&searchterm=Wacom%20CTL4100WLE0\n"
     ]
    },
    {
     "name": "stderr",
     "output_type": "stream",
     "text": [
      " 63%|██████▎   | 40/63 [17:31<09:58, 26.01s/it]"
     ]
    },
    {
     "name": "stdout",
     "output_type": "stream",
     "text": [
      "https://www.zoom.com.br/lead?oid=405877335&channel=86&index=3&searchterm=Wacom%20CTL4100WLE0\n"
     ]
    },
    {
     "name": "stderr",
     "output_type": "stream",
     "text": [
      " 65%|██████▌   | 41/63 [17:57<09:33, 26.05s/it]"
     ]
    },
    {
     "name": "stdout",
     "output_type": "stream",
     "text": [
      "https://www.zoom.com.br/mesa-digitalizadora/mesa-digitalizadora-wacom-intuos-creative-pequena-ctl4100?_lc=88&searchterm=Wacom%20CTL4100WLK0\n"
     ]
    },
    {
     "name": "stderr",
     "output_type": "stream",
     "text": [
      " 67%|██████▋   | 42/63 [18:23<09:04, 25.92s/it]"
     ]
    },
    {
     "name": "stdout",
     "output_type": "stream",
     "text": [
      "https://www.zoom.com.br/mesa-digitalizadora/mesa-digitalizadora-wacom-ctl4100wlk0-intuos-pequena-c-bluetooth?_lc=88&searchterm=Wacom%20CTL4100WLK0\n"
     ]
    },
    {
     "name": "stderr",
     "output_type": "stream",
     "text": [
      " 68%|██████▊   | 43/63 [18:50<08:42, 26.12s/it]"
     ]
    },
    {
     "name": "stdout",
     "output_type": "stream",
     "text": [
      "https://www.zoom.com.br/mesa-digitalizadora/mesa-digitalizadora-wacom-intuos-bluetooth-peq-ctl4100wlk0?_lc=88&searchterm=Wacom%20CTL4100WLK0\n"
     ]
    },
    {
     "name": "stderr",
     "output_type": "stream",
     "text": [
      " 70%|██████▉   | 44/63 [19:16<08:18, 26.25s/it]"
     ]
    },
    {
     "name": "stdout",
     "output_type": "stream",
     "text": [
      "https://www.zoom.com.br/mesa-digitalizadora/mesa-digitalizadora-wacom-intuos-pen-bluetooth-ctl6100wlk0?_lc=88&searchterm=Wacom%20CTL6100WLK0\n"
     ]
    },
    {
     "name": "stderr",
     "output_type": "stream",
     "text": [
      " 71%|███████▏  | 45/63 [19:41<07:46, 25.94s/it]"
     ]
    },
    {
     "name": "stdout",
     "output_type": "stream",
     "text": [
      "https://www.zoom.com.br/lead?oid=544615692&channel=86&index=1&searchterm=Wacom%20CTL6100WLK0\n"
     ]
    },
    {
     "name": "stderr",
     "output_type": "stream",
     "text": [
      " 73%|███████▎  | 46/63 [20:07<07:17, 25.76s/it]"
     ]
    },
    {
     "name": "stdout",
     "output_type": "stream",
     "text": [
      "https://www.zoom.com.br/lead?oid=524153403&channel=86&index=2&searchterm=Wacom%20CTL6100WLK0\n"
     ]
    },
    {
     "name": "stderr",
     "output_type": "stream",
     "text": [
      " 75%|███████▍  | 47/63 [20:33<06:53, 25.84s/it]"
     ]
    },
    {
     "name": "stdout",
     "output_type": "stream",
     "text": [
      "https://www.zoom.com.br/lead?oid=405919350&channel=86&index=3&searchterm=Wacom%20CTL6100WLK0\n"
     ]
    },
    {
     "name": "stderr",
     "output_type": "stream",
     "text": [
      " 76%|███████▌  | 48/63 [20:59<06:30, 26.02s/it]"
     ]
    },
    {
     "name": "stdout",
     "output_type": "stream",
     "text": [
      "https://www.zoom.com.br/mesa-digitalizadora/mesa-digitalizadora-wacom-one-13-3-display-interativo-dtc133w0a1?_lc=88&searchterm=Wacom%20DTC133W0A\n"
     ]
    },
    {
     "name": "stderr",
     "output_type": "stream",
     "text": [
      " 78%|███████▊  | 49/63 [21:24<06:01, 25.80s/it]"
     ]
    },
    {
     "name": "stdout",
     "output_type": "stream",
     "text": [
      "https://www.zoom.com.br/lead?oid=524153394&channel=86&index=1&searchterm=Wacom%20DTC133W0A\n"
     ]
    },
    {
     "name": "stderr",
     "output_type": "stream",
     "text": [
      " 79%|███████▉  | 50/63 [21:50<05:33, 25.64s/it]"
     ]
    },
    {
     "name": "stdout",
     "output_type": "stream",
     "text": [
      "https://www.zoom.com.br/lead?oid=544615687&channel=86&index=2&searchterm=Wacom%20DTC133W0A\n"
     ]
    },
    {
     "name": "stderr",
     "output_type": "stream",
     "text": [
      " 81%|████████  | 51/63 [22:15<05:07, 25.63s/it]"
     ]
    },
    {
     "name": "stdout",
     "output_type": "stream",
     "text": [
      "https://www.zoom.com.br/mesa-digitalizadora/mesa-digitalizadora-wacom-one-creative-pen-display-13-2540-lpi-hdmi-usb-dtc133w0a1?_lc=88&searchterm=Wacom%20DTC133W0A\n"
     ]
    },
    {
     "name": "stderr",
     "output_type": "stream",
     "text": [
      " 83%|████████▎ | 52/63 [22:41<04:41, 25.62s/it]"
     ]
    },
    {
     "name": "stdout",
     "output_type": "stream",
     "text": [
      "https://www.zoom.com.br/lead?oid=344760297&channel=86&index=4&searchterm=Wacom%20DTC133W0A\n"
     ]
    },
    {
     "name": "stderr",
     "output_type": "stream",
     "text": [
      " 84%|████████▍ | 53/63 [23:08<04:19, 25.99s/it]"
     ]
    },
    {
     "name": "stdout",
     "output_type": "stream",
     "text": [
      "https://www.zoom.com.br/mesa-digitalizadora/mesa-digitalizadora-wacom-intuos-pro-pequena-pth460?_lc=88&searchterm=Wacom%20PTH460\n"
     ]
    },
    {
     "name": "stderr",
     "output_type": "stream",
     "text": [
      " 86%|████████▌ | 54/63 [23:34<03:55, 26.13s/it]"
     ]
    },
    {
     "name": "stdout",
     "output_type": "stream",
     "text": [
      "https://www.zoom.com.br/lead?oid=875694268&channel=86&index=1&searchterm=Wacom%20PTH460\n"
     ]
    },
    {
     "name": "stderr",
     "output_type": "stream",
     "text": [
      " 87%|████████▋ | 55/63 [24:01<03:30, 26.32s/it]"
     ]
    },
    {
     "name": "stdout",
     "output_type": "stream",
     "text": [
      "https://www.zoom.com.br/lead?oid=875614320&channel=86&index=2&searchterm=Wacom%20PTH460\n"
     ]
    },
    {
     "name": "stderr",
     "output_type": "stream",
     "text": [
      " 89%|████████▉ | 56/63 [24:27<03:03, 26.17s/it]"
     ]
    },
    {
     "name": "stdout",
     "output_type": "stream",
     "text": [
      "https://www.zoom.com.br/lead?oid=795094182&channel=86&index=3&searchterm=Wacom%20PTH460\n"
     ]
    },
    {
     "name": "stderr",
     "output_type": "stream",
     "text": [
      " 90%|█████████ | 57/63 [24:52<02:35, 25.90s/it]"
     ]
    },
    {
     "name": "stdout",
     "output_type": "stream",
     "text": [
      "https://www.zoom.com.br/lead?oid=544616262&channel=86&index=4&searchterm=Wacom%20PTH460\n"
     ]
    },
    {
     "name": "stderr",
     "output_type": "stream",
     "text": [
      " 92%|█████████▏| 58/63 [25:17<02:08, 25.72s/it]"
     ]
    },
    {
     "name": "stdout",
     "output_type": "stream",
     "text": [
      "https://www.zoom.com.br/lead?oid=419254061&channel=86&index=0&searchterm=Wacom%20DTK1660K0A\n"
     ]
    },
    {
     "name": "stderr",
     "output_type": "stream",
     "text": [
      " 94%|█████████▎| 59/63 [25:43<01:42, 25.70s/it]"
     ]
    },
    {
     "name": "stdout",
     "output_type": "stream",
     "text": [
      "https://www.zoom.com.br/mesa-digitalizadora/mesa-digitalizadora-wacom-intuos-pro-m-pth660-tamanho-medio?_lc=88&searchterm=Wacom%20PTH660\n",
      "https://www.zoom.com.br/mesa-digitalizadora/folha-textura-aspera-para-wacom-intuos-pro-grande-ack122313?_lc=88&searchterm=Wacom%20PTH660\n"
     ]
    },
    {
     "name": "stderr",
     "output_type": "stream",
     "text": [
      " 97%|█████████▋| 61/63 [26:35<00:51, 25.95s/it]"
     ]
    },
    {
     "name": "stdout",
     "output_type": "stream",
     "text": [
      "https://www.zoom.com.br/mesa-digitalizadora/mesa-digitalizadora-wacom-intuos-pro-paper-edition-pth660p?_lc=88&searchterm=Wacom%20PTH660\n"
     ]
    },
    {
     "name": "stderr",
     "output_type": "stream",
     "text": [
      " 98%|█████████▊| 62/63 [27:01<00:25, 25.84s/it]"
     ]
    },
    {
     "name": "stdout",
     "output_type": "stream",
     "text": [
      "https://www.zoom.com.br/mesa-digitalizadora/mesa-digitalizadora-wacom-media-bluetooth-verde-intuos-ctl6100wle0?_lc=88&searchterm=Wacom%20CTL6100WLE0\n"
     ]
    },
    {
     "name": "stderr",
     "output_type": "stream",
     "text": [
      "100%|██████████| 63/63 [27:26<00:00, 26.14s/it]"
     ]
    },
    {
     "name": "stdout",
     "output_type": "stream",
     "text": [
      "https://www.zoom.com.br/mesa-digitalizadora/mesa-digitalizadora-wacom-intuos-m-bluetooth-pistache-ctl6100wle0?_lc=88&searchterm=Wacom%20CTL6100WLE0\n"
     ]
    },
    {
     "name": "stderr",
     "output_type": "stream",
     "text": [
      "\n"
     ]
    }
   ],
   "source": [
    "for url in tqdm(Df_urls['Urls_search']):\n",
    "    Get_atribuites(url)"
   ],
   "metadata": {
    "collapsed": false,
    "pycharm": {
     "name": "#%%\n"
    }
   }
  },
  {
   "cell_type": "code",
   "execution_count": 48,
   "outputs": [],
   "source": [
    "Zoom_Installment.append(\"Erro\")"
   ],
   "metadata": {
    "collapsed": false,
    "pycharm": {
     "name": "#%%\n"
    }
   }
  },
  {
   "cell_type": "code",
   "execution_count": 71,
   "outputs": [
    {
     "data": {
      "text/plain": "                                                 Urls MARKETPLACE  \\\n0   https://www.zoom.com.br/mesa-digitalizadora/me...        ZOOM   \n1   https://www.zoom.com.br/mesa-digitalizadora/me...        ZOOM   \n2   https://www.zoom.com.br/mesa-digitalizadora/me...        ZOOM   \n3   https://www.zoom.com.br/mesa-digitalizadora/me...        ZOOM   \n4   https://www.zoom.com.br/mesa-digitalizadora/me...        ZOOM   \n5   https://www.zoom.com.br/mesa-digitalizadora/me...        ZOOM   \n6   https://www.zoom.com.br/mesa-digitalizadora/me...        ZOOM   \n7   https://www.zoom.com.br/mesa-digitalizadora/me...        ZOOM   \n8   https://www.zoom.com.br/mesa-digitalizadora/me...        ZOOM   \n9   https://www.zoom.com.br/mesa-digitalizadora/me...        ZOOM   \n10  https://www.zoom.com.br/mesa-digitalizadora/wa...        ZOOM   \n11  https://www.zoom.com.br/mesa-digitalizadora/wa...        ZOOM   \n12  https://www.zoom.com.br/mesa-digitalizadora/wa...        ZOOM   \n13  https://www.zoom.com.br/mesa-digitalizadora/me...        ZOOM   \n14  https://www.zoom.com.br/mesa-digitalizadora/me...        ZOOM   \n15  https://www.zoom.com.br/mesa-digitalizadora/me...        ZOOM   \n16  https://www.zoom.com.br/mesa-digitalizadora/me...        ZOOM   \n17  https://www.zoom.com.br/mesa-digitalizadora/me...        ZOOM   \n18  https://www.zoom.com.br/mesa-digitalizadora/me...        ZOOM   \n19  https://www.zoom.com.br/mesa-digitalizadora/me...        ZOOM   \n20  https://www.zoom.com.br/mesa-digitalizadora/me...        ZOOM   \n21  https://www.zoom.com.br/mesa-digitalizadora/me...        ZOOM   \n22  https://www.zoom.com.br/mesa-digitalizadora/me...        ZOOM   \n23  https://www.zoom.com.br/mesa-digitalizadora/me...        ZOOM   \n24  https://www.zoom.com.br/mesa-digitalizadora/me...        ZOOM   \n25  https://www.zoom.com.br/mesa-digitalizadora/me...        ZOOM   \n26  https://www.zoom.com.br/mesa-digitalizadora/me...        ZOOM   \n27  https://www.zoom.com.br/mesa-digitalizadora/me...        ZOOM   \n28  https://www.zoom.com.br/mesa-digitalizadora/me...        ZOOM   \n29  https://www.zoom.com.br/mesa-digitalizadora/me...        ZOOM   \n30  https://www.zoom.com.br/mesa-digitalizadora/me...        ZOOM   \n31  https://www.zoom.com.br/mesa-digitalizadora/me...        ZOOM   \n32  https://www.zoom.com.br/mesa-digitalizadora/me...        ZOOM   \n33  https://www.zoom.com.br/mesa-digitalizadora/me...        ZOOM   \n34  https://www.zoom.com.br/mesa-digitalizadora/me...        ZOOM   \n35  https://www.zoom.com.br/mesa-digitalizadora/me...        ZOOM   \n36  https://www.zoom.com.br/mesa-digitalizadora/me...        ZOOM   \n37  https://www.zoom.com.br/mesa-digitalizadora/me...        ZOOM   \n38  https://www.zoom.com.br/mesa-digitalizadora/me...        ZOOM   \n39  https://www.zoom.com.br/mesa-digitalizadora/me...        ZOOM   \n40  https://www.zoom.com.br/mesa-digitalizadora/me...        ZOOM   \n41  https://www.zoom.com.br/mesa-digitalizadora/me...        ZOOM   \n42  https://www.zoom.com.br/mesa-digitalizadora/me...        ZOOM   \n43  https://www.zoom.com.br/mesa-digitalizadora/me...        ZOOM   \n44  https://www.zoom.com.br/mesa-digitalizadora/me...        ZOOM   \n45  https://www.zoom.com.br/mesa-digitalizadora/me...        ZOOM   \n46  https://www.zoom.com.br/mesa-digitalizadora/fo...        ZOOM   \n47  https://www.zoom.com.br/mesa-digitalizadora/me...        ZOOM   \n48  https://www.zoom.com.br/mesa-digitalizadora/me...        ZOOM   \n49  https://www.zoom.com.br/mesa-digitalizadora/me...        ZOOM   \n50  https://www.zoom.com.br/mesa-digitalizadora/me...        ZOOM   \n\n                 SELLER     PRICE               INSTALLMENT_FULL PARCEL  \\\n0           Casas Bahia    341,45              ou 7x de R$ 48,78      7   \n1        Magazine Luiza    219,90              ou 4x de R$ 64,68      4   \n2   Inpower Eletrônicos    333,00    ou 6x de R$ 55,50 sem juros      6   \n3                 Extra    350,10    ou 4x de R$ 87,52 sem juros      4   \n4                 Ponto    350,10    ou 4x de R$ 87,52 sem juros      4   \n5      Oficina dos Bits    351,24    ou 6x de R$ 58,54 sem juros      6   \n6              MService    499,00              ou 6x de R$ 83,17      6   \n7           Casas Bahia    449,00              ou 9x de R$ 49,89      9   \n8        Magazine Luiza    290,67              ou 5x de R$ 64,59      5   \n9                 Ponto    503,53   ou 10x de R$ 50,35 sem juros     10   \n10               Amazon    283,98    ou 9x de R$ 31,55 sem juros      9   \n11               Amazon    269,00    ou 8x de R$ 33,63 sem juros      8   \n12       Magazine Luiza    530,10             ou 10x de R$ 57,00     10   \n13               KaBuM!    254,99             ou 10x de R$ 29,99     10   \n14               Amazon    269,00    ou 8x de R$ 33,63 sem juros      8   \n15            Carrefour    339,90    ou 6x de R$ 56,65 sem juros      6   \n16       Magazine Luiza    533,40             ou 10x de R$ 54,99     10   \n17               Amazon    418,90   ou 10x de R$ 41,89 sem juros     10   \n18               KaBuM!    649,99             ou 10x de R$ 72,22     10   \n19       Magazine Luiza    619,99             ou 5x de R$ 124,00      5   \n20       Magazine Luiza    648,21             ou 10x de R$ 69,70     10   \n21     Oficina dos Bits    576,24   ou 10x de R$ 57,62 sem juros     10   \n22       Magazine Luiza    756,78             ou 10x de R$ 78,02     10   \n23       Magazine Luiza    499,50             ou 10x de R$ 55,50     10   \n24  Inpower Eletrônicos    549,00    ou 6x de R$ 91,50 sem juros      6   \n25    Zunka Informática    812,14   ou 10x de R$ 81,21 sem juros     10   \n26               Amazon    764,59   ou 10x de R$ 76,46 sem juros     10   \n27               Amazon    653,60   ou 10x de R$ 41,89 sem juros     10   \n28               Amazon    418,90             ou 10x de R$ 72,22     10   \n29               KaBuM!    649,99             ou 5x de R$ 124,00      5   \n30       Magazine Luiza    619,99             ou 10x de R$ 69,70     10   \n31       Magazine Luiza    648,21   ou 10x de R$ 57,62 sem juros     10   \n32     Oficina dos Bits    576,24             ou 10x de R$ 78,02     10   \n33       Magazine Luiza    756,78            ou 10x de R$ 102,27     10   \n34       Magazine Luiza  1.022,68            ou 12x de R$ 112,33     12   \n35       Magazine Luiza  1.145,72             ou 10x de R$ 92,70     10   \n36       Magazine Luiza    862,11  ou 10x de R$ 167,52 sem juros     10   \n37               Amazon  1.675,24  ou 10x de R$ 343,19 sem juros     10   \n38               Amazon  3.431,91  ou 10x de R$ 393,05 sem juros     10   \n39               Amazon  3.930,50            ou 10x de R$ 357,89     10   \n40               KaBuM!  3.399,99  ou 10x de R$ 199,70 sem juros     10   \n41               Amazon  1.997,00            ou 10x de R$ 247,00     10   \n42       Magazine Luiza  2.297,10   ou 6x de R$ 447,75 sem juros      6   \n43         Bits & Bytes  2.686,52  ou 10x de R$ 330,00 sem juros     10   \n44               Amazon  3.299,99            ou 10x de R$ 341,17     10   \n45               KaBuM!  2.899,99    ou 9x de R$ 33,22 sem juros      9   \n46               Amazon    299,00  ou 10x de R$ 697,60 sem juros     10   \n47               Amazon  6.976,00  ou 10x de R$ 150,90 sem juros     10   \n48               Amazon  1.509,00  ou 10x de R$ 132,90 sem juros     10   \n49               Amazon  1.329,00   ou 6x de R$ 249,83 sem juros      6   \n50  Inpower Eletrônicos  1.499,00                           Erro          \n\n   INSTALLMENT                                            PRODUCT  \n0        48,78    Mesa Digitalizadora Wacom One By Wacom - CTL472  \n1        64,68    Mesa Digitalizadora Wacom One By Wacom - CTL472  \n2        55,50    Mesa Digitalizadora Wacom One By Wacom - CTL472  \n3        87,52    Mesa Digitalizadora Wacom One By Wacom - CTL472  \n4        87,52    Mesa Digitalizadora Wacom One By Wacom - CTL472  \n5        58,54    Mesa Digitalizadora Wacom One By Wacom - CTL472  \n6        83,17    Mesa Digitalizadora Wacom One By Wacom - CTL472  \n7        49,89    Mesa Digitalizadora Wacom One By Wacom - CTL472  \n8        64,59    Mesa Digitalizadora Wacom One By Wacom - CTL472  \n9        50,35    Mesa Digitalizadora Wacom One By Wacom - CTL472  \n10       31,55  Wacom One CTL472 - Mesa Digitalizadora, Preto ...  \n11       33,63  Wacom One CTL472 - Mesa Digitalizadora, Preto ...  \n12       57,00  Wacom One CTL472 - Mesa Digitalizadora, Preto ...  \n13       29,99    Mesa Digitalizadora One By Wacom CTL472 Pequena  \n14       33,63    Mesa Digitalizadora One By Wacom CTL472 Pequena  \n15       56,65            Mesa Digitalizadora One by Wacom CTL472  \n16       54,99            Mesa Digitalizadora One by Wacom CTL472  \n17       41,89  Mesa Digitalizadora Wacom Intuos Creative - Pe...  \n18       72,22  Mesa Digitalizadora Wacom Intuos Creative - Pe...  \n19      124,00  Mesa Digitalizadora Wacom Intuos Creative - Pe...  \n20       69,70  Mesa Digitalizadora Wacom Intuos Creative - Pe...  \n21       57,62  Mesa Digitalizadora Wacom Intuos Creative - Pe...  \n22       78,02  Mesa Digitalizadora Wacom Intuos Creative - Pe...  \n23       55,50  Mesa Digitalizadora Wacom Intuos Clt4100 Original  \n24       91,50  Mesa Digitalizadora Wacom Intuos Clt4100 Original  \n25       81,21                  Mesa Digitalizadora Wacom CTL4100  \n26       76,46  Mesa Digitalizadora Wacom Bluetooth Pequena In...  \n27       41,89  Mesa Digitalizadora Wacom Bluetooth Pequena In...  \n28       72,22  Mesa Digitalizadora Wacom Intuos Creative - Pe...  \n29      124,00  Mesa Digitalizadora Wacom Intuos Creative - Pe...  \n30       69,70  Mesa Digitalizadora Wacom Intuos Creative - Pe...  \n31       57,62  Mesa Digitalizadora Wacom Intuos Creative - Pe...  \n32       78,02  Mesa Digitalizadora Wacom Intuos Creative - Pe...  \n33      102,27  Mesa Digitalizadora Wacom Intuos Creative - Pe...  \n34      112,33  Mesa Digitalizadora Wacom Ctl4100Wlk0 Intuos P...  \n35       92,70  Mesa Digitalizadora Wacom Ctl4100Wlk0 Intuos P...  \n36      167,52  Mesa Digitalizadora Wacom Intuos Bluetooth Peq...  \n37      343,19  Mesa Digitalizadora Wacom Intuos Pen & Bluetoo...  \n38      393,05  Mesa Digitalizadora Wacom One 13.3'' Display I...  \n39      357,89  Mesa Digitalizadora Wacom One 13.3'' Display I...  \n40      199,70  Mesa Digitalizadora Wacom One Creative Pen Dis...  \n41      247,00  Mesa Digitalizadora Wacom INTUOS PRO PEQUENA P...  \n42      447,75  Mesa Digitalizadora Wacom INTUOS PRO PEQUENA P...  \n43      330,00  Mesa Digitalizadora Wacom INTUOS PRO PEQUENA P...  \n44      341,17  Mesa Digitalizadora Wacom Intuos Pro M - PTH66...  \n45       33,22  Mesa Digitalizadora Wacom Intuos Pro M - PTH66...  \n46      697,60  Folha Textura Áspera Para Wacom Intuos Pro Gra...  \n47      150,90  Mesa Digitalizadora Wacom Intuos Pro Paper Edi...  \n48      132,90  Mesa Digitalizadora Wacom Média Bluetooth Verd...  \n49      249,83  Mesa Digitalizadora Wacom Média Bluetooth Verd...  \n50              Mesa Digitalizadora Wacom Intuos M Bluetooth P...  ",
      "text/html": "<div>\n<style scoped>\n    .dataframe tbody tr th:only-of-type {\n        vertical-align: middle;\n    }\n\n    .dataframe tbody tr th {\n        vertical-align: top;\n    }\n\n    .dataframe thead th {\n        text-align: right;\n    }\n</style>\n<table border=\"1\" class=\"dataframe\">\n  <thead>\n    <tr style=\"text-align: right;\">\n      <th></th>\n      <th>Urls</th>\n      <th>MARKETPLACE</th>\n      <th>SELLER</th>\n      <th>PRICE</th>\n      <th>INSTALLMENT_FULL</th>\n      <th>PARCEL</th>\n      <th>INSTALLMENT</th>\n      <th>PRODUCT</th>\n    </tr>\n  </thead>\n  <tbody>\n    <tr>\n      <th>0</th>\n      <td>https://www.zoom.com.br/mesa-digitalizadora/me...</td>\n      <td>ZOOM</td>\n      <td>Casas Bahia</td>\n      <td>341,45</td>\n      <td>ou 7x de R$ 48,78</td>\n      <td>7</td>\n      <td>48,78</td>\n      <td>Mesa Digitalizadora Wacom One By Wacom - CTL472</td>\n    </tr>\n    <tr>\n      <th>1</th>\n      <td>https://www.zoom.com.br/mesa-digitalizadora/me...</td>\n      <td>ZOOM</td>\n      <td>Magazine Luiza</td>\n      <td>219,90</td>\n      <td>ou 4x de R$ 64,68</td>\n      <td>4</td>\n      <td>64,68</td>\n      <td>Mesa Digitalizadora Wacom One By Wacom - CTL472</td>\n    </tr>\n    <tr>\n      <th>2</th>\n      <td>https://www.zoom.com.br/mesa-digitalizadora/me...</td>\n      <td>ZOOM</td>\n      <td>Inpower Eletrônicos</td>\n      <td>333,00</td>\n      <td>ou 6x de R$ 55,50 sem juros</td>\n      <td>6</td>\n      <td>55,50</td>\n      <td>Mesa Digitalizadora Wacom One By Wacom - CTL472</td>\n    </tr>\n    <tr>\n      <th>3</th>\n      <td>https://www.zoom.com.br/mesa-digitalizadora/me...</td>\n      <td>ZOOM</td>\n      <td>Extra</td>\n      <td>350,10</td>\n      <td>ou 4x de R$ 87,52 sem juros</td>\n      <td>4</td>\n      <td>87,52</td>\n      <td>Mesa Digitalizadora Wacom One By Wacom - CTL472</td>\n    </tr>\n    <tr>\n      <th>4</th>\n      <td>https://www.zoom.com.br/mesa-digitalizadora/me...</td>\n      <td>ZOOM</td>\n      <td>Ponto</td>\n      <td>350,10</td>\n      <td>ou 4x de R$ 87,52 sem juros</td>\n      <td>4</td>\n      <td>87,52</td>\n      <td>Mesa Digitalizadora Wacom One By Wacom - CTL472</td>\n    </tr>\n    <tr>\n      <th>5</th>\n      <td>https://www.zoom.com.br/mesa-digitalizadora/me...</td>\n      <td>ZOOM</td>\n      <td>Oficina dos Bits</td>\n      <td>351,24</td>\n      <td>ou 6x de R$ 58,54 sem juros</td>\n      <td>6</td>\n      <td>58,54</td>\n      <td>Mesa Digitalizadora Wacom One By Wacom - CTL472</td>\n    </tr>\n    <tr>\n      <th>6</th>\n      <td>https://www.zoom.com.br/mesa-digitalizadora/me...</td>\n      <td>ZOOM</td>\n      <td>MService</td>\n      <td>499,00</td>\n      <td>ou 6x de R$ 83,17</td>\n      <td>6</td>\n      <td>83,17</td>\n      <td>Mesa Digitalizadora Wacom One By Wacom - CTL472</td>\n    </tr>\n    <tr>\n      <th>7</th>\n      <td>https://www.zoom.com.br/mesa-digitalizadora/me...</td>\n      <td>ZOOM</td>\n      <td>Casas Bahia</td>\n      <td>449,00</td>\n      <td>ou 9x de R$ 49,89</td>\n      <td>9</td>\n      <td>49,89</td>\n      <td>Mesa Digitalizadora Wacom One By Wacom - CTL472</td>\n    </tr>\n    <tr>\n      <th>8</th>\n      <td>https://www.zoom.com.br/mesa-digitalizadora/me...</td>\n      <td>ZOOM</td>\n      <td>Magazine Luiza</td>\n      <td>290,67</td>\n      <td>ou 5x de R$ 64,59</td>\n      <td>5</td>\n      <td>64,59</td>\n      <td>Mesa Digitalizadora Wacom One By Wacom - CTL472</td>\n    </tr>\n    <tr>\n      <th>9</th>\n      <td>https://www.zoom.com.br/mesa-digitalizadora/me...</td>\n      <td>ZOOM</td>\n      <td>Ponto</td>\n      <td>503,53</td>\n      <td>ou 10x de R$ 50,35 sem juros</td>\n      <td>10</td>\n      <td>50,35</td>\n      <td>Mesa Digitalizadora Wacom One By Wacom - CTL472</td>\n    </tr>\n    <tr>\n      <th>10</th>\n      <td>https://www.zoom.com.br/mesa-digitalizadora/wa...</td>\n      <td>ZOOM</td>\n      <td>Amazon</td>\n      <td>283,98</td>\n      <td>ou 9x de R$ 31,55 sem juros</td>\n      <td>9</td>\n      <td>31,55</td>\n      <td>Wacom One CTL472 - Mesa Digitalizadora, Preto ...</td>\n    </tr>\n    <tr>\n      <th>11</th>\n      <td>https://www.zoom.com.br/mesa-digitalizadora/wa...</td>\n      <td>ZOOM</td>\n      <td>Amazon</td>\n      <td>269,00</td>\n      <td>ou 8x de R$ 33,63 sem juros</td>\n      <td>8</td>\n      <td>33,63</td>\n      <td>Wacom One CTL472 - Mesa Digitalizadora, Preto ...</td>\n    </tr>\n    <tr>\n      <th>12</th>\n      <td>https://www.zoom.com.br/mesa-digitalizadora/wa...</td>\n      <td>ZOOM</td>\n      <td>Magazine Luiza</td>\n      <td>530,10</td>\n      <td>ou 10x de R$ 57,00</td>\n      <td>10</td>\n      <td>57,00</td>\n      <td>Wacom One CTL472 - Mesa Digitalizadora, Preto ...</td>\n    </tr>\n    <tr>\n      <th>13</th>\n      <td>https://www.zoom.com.br/mesa-digitalizadora/me...</td>\n      <td>ZOOM</td>\n      <td>KaBuM!</td>\n      <td>254,99</td>\n      <td>ou 10x de R$ 29,99</td>\n      <td>10</td>\n      <td>29,99</td>\n      <td>Mesa Digitalizadora One By Wacom CTL472 Pequena</td>\n    </tr>\n    <tr>\n      <th>14</th>\n      <td>https://www.zoom.com.br/mesa-digitalizadora/me...</td>\n      <td>ZOOM</td>\n      <td>Amazon</td>\n      <td>269,00</td>\n      <td>ou 8x de R$ 33,63 sem juros</td>\n      <td>8</td>\n      <td>33,63</td>\n      <td>Mesa Digitalizadora One By Wacom CTL472 Pequena</td>\n    </tr>\n    <tr>\n      <th>15</th>\n      <td>https://www.zoom.com.br/mesa-digitalizadora/me...</td>\n      <td>ZOOM</td>\n      <td>Carrefour</td>\n      <td>339,90</td>\n      <td>ou 6x de R$ 56,65 sem juros</td>\n      <td>6</td>\n      <td>56,65</td>\n      <td>Mesa Digitalizadora One by Wacom CTL472</td>\n    </tr>\n    <tr>\n      <th>16</th>\n      <td>https://www.zoom.com.br/mesa-digitalizadora/me...</td>\n      <td>ZOOM</td>\n      <td>Magazine Luiza</td>\n      <td>533,40</td>\n      <td>ou 10x de R$ 54,99</td>\n      <td>10</td>\n      <td>54,99</td>\n      <td>Mesa Digitalizadora One by Wacom CTL472</td>\n    </tr>\n    <tr>\n      <th>17</th>\n      <td>https://www.zoom.com.br/mesa-digitalizadora/me...</td>\n      <td>ZOOM</td>\n      <td>Amazon</td>\n      <td>418,90</td>\n      <td>ou 10x de R$ 41,89 sem juros</td>\n      <td>10</td>\n      <td>41,89</td>\n      <td>Mesa Digitalizadora Wacom Intuos Creative - Pe...</td>\n    </tr>\n    <tr>\n      <th>18</th>\n      <td>https://www.zoom.com.br/mesa-digitalizadora/me...</td>\n      <td>ZOOM</td>\n      <td>KaBuM!</td>\n      <td>649,99</td>\n      <td>ou 10x de R$ 72,22</td>\n      <td>10</td>\n      <td>72,22</td>\n      <td>Mesa Digitalizadora Wacom Intuos Creative - Pe...</td>\n    </tr>\n    <tr>\n      <th>19</th>\n      <td>https://www.zoom.com.br/mesa-digitalizadora/me...</td>\n      <td>ZOOM</td>\n      <td>Magazine Luiza</td>\n      <td>619,99</td>\n      <td>ou 5x de R$ 124,00</td>\n      <td>5</td>\n      <td>124,00</td>\n      <td>Mesa Digitalizadora Wacom Intuos Creative - Pe...</td>\n    </tr>\n    <tr>\n      <th>20</th>\n      <td>https://www.zoom.com.br/mesa-digitalizadora/me...</td>\n      <td>ZOOM</td>\n      <td>Magazine Luiza</td>\n      <td>648,21</td>\n      <td>ou 10x de R$ 69,70</td>\n      <td>10</td>\n      <td>69,70</td>\n      <td>Mesa Digitalizadora Wacom Intuos Creative - Pe...</td>\n    </tr>\n    <tr>\n      <th>21</th>\n      <td>https://www.zoom.com.br/mesa-digitalizadora/me...</td>\n      <td>ZOOM</td>\n      <td>Oficina dos Bits</td>\n      <td>576,24</td>\n      <td>ou 10x de R$ 57,62 sem juros</td>\n      <td>10</td>\n      <td>57,62</td>\n      <td>Mesa Digitalizadora Wacom Intuos Creative - Pe...</td>\n    </tr>\n    <tr>\n      <th>22</th>\n      <td>https://www.zoom.com.br/mesa-digitalizadora/me...</td>\n      <td>ZOOM</td>\n      <td>Magazine Luiza</td>\n      <td>756,78</td>\n      <td>ou 10x de R$ 78,02</td>\n      <td>10</td>\n      <td>78,02</td>\n      <td>Mesa Digitalizadora Wacom Intuos Creative - Pe...</td>\n    </tr>\n    <tr>\n      <th>23</th>\n      <td>https://www.zoom.com.br/mesa-digitalizadora/me...</td>\n      <td>ZOOM</td>\n      <td>Magazine Luiza</td>\n      <td>499,50</td>\n      <td>ou 10x de R$ 55,50</td>\n      <td>10</td>\n      <td>55,50</td>\n      <td>Mesa Digitalizadora Wacom Intuos Clt4100 Original</td>\n    </tr>\n    <tr>\n      <th>24</th>\n      <td>https://www.zoom.com.br/mesa-digitalizadora/me...</td>\n      <td>ZOOM</td>\n      <td>Inpower Eletrônicos</td>\n      <td>549,00</td>\n      <td>ou 6x de R$ 91,50 sem juros</td>\n      <td>6</td>\n      <td>91,50</td>\n      <td>Mesa Digitalizadora Wacom Intuos Clt4100 Original</td>\n    </tr>\n    <tr>\n      <th>25</th>\n      <td>https://www.zoom.com.br/mesa-digitalizadora/me...</td>\n      <td>ZOOM</td>\n      <td>Zunka Informática</td>\n      <td>812,14</td>\n      <td>ou 10x de R$ 81,21 sem juros</td>\n      <td>10</td>\n      <td>81,21</td>\n      <td>Mesa Digitalizadora Wacom CTL4100</td>\n    </tr>\n    <tr>\n      <th>26</th>\n      <td>https://www.zoom.com.br/mesa-digitalizadora/me...</td>\n      <td>ZOOM</td>\n      <td>Amazon</td>\n      <td>764,59</td>\n      <td>ou 10x de R$ 76,46 sem juros</td>\n      <td>10</td>\n      <td>76,46</td>\n      <td>Mesa Digitalizadora Wacom Bluetooth Pequena In...</td>\n    </tr>\n    <tr>\n      <th>27</th>\n      <td>https://www.zoom.com.br/mesa-digitalizadora/me...</td>\n      <td>ZOOM</td>\n      <td>Amazon</td>\n      <td>653,60</td>\n      <td>ou 10x de R$ 41,89 sem juros</td>\n      <td>10</td>\n      <td>41,89</td>\n      <td>Mesa Digitalizadora Wacom Bluetooth Pequena In...</td>\n    </tr>\n    <tr>\n      <th>28</th>\n      <td>https://www.zoom.com.br/mesa-digitalizadora/me...</td>\n      <td>ZOOM</td>\n      <td>Amazon</td>\n      <td>418,90</td>\n      <td>ou 10x de R$ 72,22</td>\n      <td>10</td>\n      <td>72,22</td>\n      <td>Mesa Digitalizadora Wacom Intuos Creative - Pe...</td>\n    </tr>\n    <tr>\n      <th>29</th>\n      <td>https://www.zoom.com.br/mesa-digitalizadora/me...</td>\n      <td>ZOOM</td>\n      <td>KaBuM!</td>\n      <td>649,99</td>\n      <td>ou 5x de R$ 124,00</td>\n      <td>5</td>\n      <td>124,00</td>\n      <td>Mesa Digitalizadora Wacom Intuos Creative - Pe...</td>\n    </tr>\n    <tr>\n      <th>30</th>\n      <td>https://www.zoom.com.br/mesa-digitalizadora/me...</td>\n      <td>ZOOM</td>\n      <td>Magazine Luiza</td>\n      <td>619,99</td>\n      <td>ou 10x de R$ 69,70</td>\n      <td>10</td>\n      <td>69,70</td>\n      <td>Mesa Digitalizadora Wacom Intuos Creative - Pe...</td>\n    </tr>\n    <tr>\n      <th>31</th>\n      <td>https://www.zoom.com.br/mesa-digitalizadora/me...</td>\n      <td>ZOOM</td>\n      <td>Magazine Luiza</td>\n      <td>648,21</td>\n      <td>ou 10x de R$ 57,62 sem juros</td>\n      <td>10</td>\n      <td>57,62</td>\n      <td>Mesa Digitalizadora Wacom Intuos Creative - Pe...</td>\n    </tr>\n    <tr>\n      <th>32</th>\n      <td>https://www.zoom.com.br/mesa-digitalizadora/me...</td>\n      <td>ZOOM</td>\n      <td>Oficina dos Bits</td>\n      <td>576,24</td>\n      <td>ou 10x de R$ 78,02</td>\n      <td>10</td>\n      <td>78,02</td>\n      <td>Mesa Digitalizadora Wacom Intuos Creative - Pe...</td>\n    </tr>\n    <tr>\n      <th>33</th>\n      <td>https://www.zoom.com.br/mesa-digitalizadora/me...</td>\n      <td>ZOOM</td>\n      <td>Magazine Luiza</td>\n      <td>756,78</td>\n      <td>ou 10x de R$ 102,27</td>\n      <td>10</td>\n      <td>102,27</td>\n      <td>Mesa Digitalizadora Wacom Intuos Creative - Pe...</td>\n    </tr>\n    <tr>\n      <th>34</th>\n      <td>https://www.zoom.com.br/mesa-digitalizadora/me...</td>\n      <td>ZOOM</td>\n      <td>Magazine Luiza</td>\n      <td>1.022,68</td>\n      <td>ou 12x de R$ 112,33</td>\n      <td>12</td>\n      <td>112,33</td>\n      <td>Mesa Digitalizadora Wacom Ctl4100Wlk0 Intuos P...</td>\n    </tr>\n    <tr>\n      <th>35</th>\n      <td>https://www.zoom.com.br/mesa-digitalizadora/me...</td>\n      <td>ZOOM</td>\n      <td>Magazine Luiza</td>\n      <td>1.145,72</td>\n      <td>ou 10x de R$ 92,70</td>\n      <td>10</td>\n      <td>92,70</td>\n      <td>Mesa Digitalizadora Wacom Ctl4100Wlk0 Intuos P...</td>\n    </tr>\n    <tr>\n      <th>36</th>\n      <td>https://www.zoom.com.br/mesa-digitalizadora/me...</td>\n      <td>ZOOM</td>\n      <td>Magazine Luiza</td>\n      <td>862,11</td>\n      <td>ou 10x de R$ 167,52 sem juros</td>\n      <td>10</td>\n      <td>167,52</td>\n      <td>Mesa Digitalizadora Wacom Intuos Bluetooth Peq...</td>\n    </tr>\n    <tr>\n      <th>37</th>\n      <td>https://www.zoom.com.br/mesa-digitalizadora/me...</td>\n      <td>ZOOM</td>\n      <td>Amazon</td>\n      <td>1.675,24</td>\n      <td>ou 10x de R$ 343,19 sem juros</td>\n      <td>10</td>\n      <td>343,19</td>\n      <td>Mesa Digitalizadora Wacom Intuos Pen &amp; Bluetoo...</td>\n    </tr>\n    <tr>\n      <th>38</th>\n      <td>https://www.zoom.com.br/mesa-digitalizadora/me...</td>\n      <td>ZOOM</td>\n      <td>Amazon</td>\n      <td>3.431,91</td>\n      <td>ou 10x de R$ 393,05 sem juros</td>\n      <td>10</td>\n      <td>393,05</td>\n      <td>Mesa Digitalizadora Wacom One 13.3'' Display I...</td>\n    </tr>\n    <tr>\n      <th>39</th>\n      <td>https://www.zoom.com.br/mesa-digitalizadora/me...</td>\n      <td>ZOOM</td>\n      <td>Amazon</td>\n      <td>3.930,50</td>\n      <td>ou 10x de R$ 357,89</td>\n      <td>10</td>\n      <td>357,89</td>\n      <td>Mesa Digitalizadora Wacom One 13.3'' Display I...</td>\n    </tr>\n    <tr>\n      <th>40</th>\n      <td>https://www.zoom.com.br/mesa-digitalizadora/me...</td>\n      <td>ZOOM</td>\n      <td>KaBuM!</td>\n      <td>3.399,99</td>\n      <td>ou 10x de R$ 199,70 sem juros</td>\n      <td>10</td>\n      <td>199,70</td>\n      <td>Mesa Digitalizadora Wacom One Creative Pen Dis...</td>\n    </tr>\n    <tr>\n      <th>41</th>\n      <td>https://www.zoom.com.br/mesa-digitalizadora/me...</td>\n      <td>ZOOM</td>\n      <td>Amazon</td>\n      <td>1.997,00</td>\n      <td>ou 10x de R$ 247,00</td>\n      <td>10</td>\n      <td>247,00</td>\n      <td>Mesa Digitalizadora Wacom INTUOS PRO PEQUENA P...</td>\n    </tr>\n    <tr>\n      <th>42</th>\n      <td>https://www.zoom.com.br/mesa-digitalizadora/me...</td>\n      <td>ZOOM</td>\n      <td>Magazine Luiza</td>\n      <td>2.297,10</td>\n      <td>ou 6x de R$ 447,75 sem juros</td>\n      <td>6</td>\n      <td>447,75</td>\n      <td>Mesa Digitalizadora Wacom INTUOS PRO PEQUENA P...</td>\n    </tr>\n    <tr>\n      <th>43</th>\n      <td>https://www.zoom.com.br/mesa-digitalizadora/me...</td>\n      <td>ZOOM</td>\n      <td>Bits &amp; Bytes</td>\n      <td>2.686,52</td>\n      <td>ou 10x de R$ 330,00 sem juros</td>\n      <td>10</td>\n      <td>330,00</td>\n      <td>Mesa Digitalizadora Wacom INTUOS PRO PEQUENA P...</td>\n    </tr>\n    <tr>\n      <th>44</th>\n      <td>https://www.zoom.com.br/mesa-digitalizadora/me...</td>\n      <td>ZOOM</td>\n      <td>Amazon</td>\n      <td>3.299,99</td>\n      <td>ou 10x de R$ 341,17</td>\n      <td>10</td>\n      <td>341,17</td>\n      <td>Mesa Digitalizadora Wacom Intuos Pro M - PTH66...</td>\n    </tr>\n    <tr>\n      <th>45</th>\n      <td>https://www.zoom.com.br/mesa-digitalizadora/me...</td>\n      <td>ZOOM</td>\n      <td>KaBuM!</td>\n      <td>2.899,99</td>\n      <td>ou 9x de R$ 33,22 sem juros</td>\n      <td>9</td>\n      <td>33,22</td>\n      <td>Mesa Digitalizadora Wacom Intuos Pro M - PTH66...</td>\n    </tr>\n    <tr>\n      <th>46</th>\n      <td>https://www.zoom.com.br/mesa-digitalizadora/fo...</td>\n      <td>ZOOM</td>\n      <td>Amazon</td>\n      <td>299,00</td>\n      <td>ou 10x de R$ 697,60 sem juros</td>\n      <td>10</td>\n      <td>697,60</td>\n      <td>Folha Textura Áspera Para Wacom Intuos Pro Gra...</td>\n    </tr>\n    <tr>\n      <th>47</th>\n      <td>https://www.zoom.com.br/mesa-digitalizadora/me...</td>\n      <td>ZOOM</td>\n      <td>Amazon</td>\n      <td>6.976,00</td>\n      <td>ou 10x de R$ 150,90 sem juros</td>\n      <td>10</td>\n      <td>150,90</td>\n      <td>Mesa Digitalizadora Wacom Intuos Pro Paper Edi...</td>\n    </tr>\n    <tr>\n      <th>48</th>\n      <td>https://www.zoom.com.br/mesa-digitalizadora/me...</td>\n      <td>ZOOM</td>\n      <td>Amazon</td>\n      <td>1.509,00</td>\n      <td>ou 10x de R$ 132,90 sem juros</td>\n      <td>10</td>\n      <td>132,90</td>\n      <td>Mesa Digitalizadora Wacom Média Bluetooth Verd...</td>\n    </tr>\n    <tr>\n      <th>49</th>\n      <td>https://www.zoom.com.br/mesa-digitalizadora/me...</td>\n      <td>ZOOM</td>\n      <td>Amazon</td>\n      <td>1.329,00</td>\n      <td>ou 6x de R$ 249,83 sem juros</td>\n      <td>6</td>\n      <td>249,83</td>\n      <td>Mesa Digitalizadora Wacom Média Bluetooth Verd...</td>\n    </tr>\n    <tr>\n      <th>50</th>\n      <td>https://www.zoom.com.br/mesa-digitalizadora/me...</td>\n      <td>ZOOM</td>\n      <td>Inpower Eletrônicos</td>\n      <td>1.499,00</td>\n      <td>Erro</td>\n      <td></td>\n      <td></td>\n      <td>Mesa Digitalizadora Wacom Intuos M Bluetooth P...</td>\n    </tr>\n  </tbody>\n</table>\n</div>"
     },
     "execution_count": 71,
     "metadata": {},
     "output_type": "execute_result"
    }
   ],
   "source": [
    "Df_final = pd.DataFrame()\n",
    "Df_final['Urls'] = Zoom_Urls\n",
    "Df_final['MARKETPLACE'] = 'ZOOM'\n",
    "Df_final['SELLER'] = Zoom_Seller\n",
    "Df_final['PRICE'] = Zoom_Price\n",
    "Df_final['PRICE'] = Df_final['PRICE'].str.replace(\"à vista\",\"\")\n",
    "Df_final['PRICE'] = Df_final['PRICE'].str.replace(\"R$ \",\"\",regex=False)\n",
    "\n",
    "Df_final['INSTALLMENT_FULL'] = Zoom_Installment\n",
    "Df_final['PARCEL'] = Df_final['INSTALLMENT_FULL'].str.partition(\"ou \")[2].str.partition(\"x\")[0]\n",
    "\n",
    "Df_final['INSTALLMENT'] = Df_final['INSTALLMENT_FULL'].str.partition(\"R$ \")[2].str.partition(\" sem juros\")[0]\n",
    "\n",
    "\n",
    "Df_final['PRODUCT'] = Zoom_Title\n",
    "\n",
    "Df_final"
   ],
   "metadata": {
    "collapsed": false,
    "pycharm": {
     "name": "#%%\n"
    }
   }
  },
  {
   "cell_type": "code",
   "execution_count": 72,
   "outputs": [],
   "source": [
    "Df_final.to_excel(r\"C:\\Users\\pedro\\Documents\\Turte Brand Protection\\Turtle_Software_Artemis\\Data\\Brands_Downloads\\Wacom\\Zoom_Wacom.xlsx\", index=False)"
   ],
   "metadata": {
    "collapsed": false,
    "pycharm": {
     "name": "#%%\n"
    }
   }
  },
  {
   "cell_type": "code",
   "execution_count": 6,
   "outputs": [
    {
     "name": "stdout",
     "output_type": "stream",
     "text": [
      "200\n"
     ]
    }
   ],
   "source": [
    "url = \"https://www.zoom.com.br/search?q=wacom%20ctl%20472\"\n",
    "\n",
    "response = requests.get(url)\n",
    "print(response.status_code)"
   ],
   "metadata": {
    "collapsed": false,
    "pycharm": {
     "name": "#%%\n"
    }
   }
  },
  {
   "cell_type": "code",
   "execution_count": 7,
   "outputs": [],
   "source": [
    "html = response.text\n",
    "Soup = BeautifulSoup(html, 'html.parser')"
   ],
   "metadata": {
    "collapsed": false,
    "pycharm": {
     "name": "#%%\n"
    }
   }
  },
  {
   "cell_type": "code",
   "execution_count": 8,
   "outputs": [],
   "source": [
    "links = []\n",
    "for a in Soup.find_all(\"a\",href=True):\n",
    "    links.append(a['href'])\n",
    "\n"
   ],
   "metadata": {
    "collapsed": false,
    "pycharm": {
     "name": "#%%\n"
    }
   }
  },
  {
   "cell_type": "code",
   "execution_count": 10,
   "outputs": [],
   "source": [
    "links = [s for s in links if 'searchterm' in s]"
   ],
   "metadata": {
    "collapsed": false,
    "pycharm": {
     "name": "#%%\n"
    }
   }
  },
  {
   "cell_type": "code",
   "execution_count": 11,
   "outputs": [
    {
     "data": {
      "text/plain": "['/mesa-digitalizadora/mesa-digitalizadora-one-by-wacom-pequena-2048-pontos-de-pressao-2540-ipi-21x14-6-cm-ctl-472l?_lc=88&searchterm=wacom%20ctl%20472',\n '/mesa-digitalizadora/mesa-digitalizadora-wacom-one-by-wacom-ctl472?_lc=88&searchterm=wacom%20ctl%20472',\n '/mesa-digitalizadora/wacom-one-ctl472-mesa-digitalizadora-preto-vermelho?_lc=88&searchterm=wacom%20ctl%20472',\n '/mesa-digitalizadora/mesa-digitalizadora-one-by-wacom-ctl472-pequena?_lc=88&searchterm=wacom%20ctl%20472',\n '/mesa-digitalizadora/mesa-digitalizadora-one-by-wacom-ctl472?_lc=88&searchterm=wacom%20ctl%20472',\n 'https://www.zoom.com.br/lead?oid=788011728&channel=86&index=5&searchterm=wacom%20ctl%20472',\n '/lead?oid=350461845&channel=86&index=6&searchterm=wacom%20ctl%20472',\n 'https://www.zoom.com.br/lead?oid=536360373&channel=86&index=7&searchterm=wacom%20ctl%20472',\n '/lead?oid=852417963&channel=86&index=8&searchterm=wacom%20ctl%20472',\n 'https://www.zoom.com.br/lead?oid=799183152&channel=86&index=9&searchterm=wacom%20ctl%20472',\n 'https://www.zoom.com.br/lead?oid=798707850&channel=86&index=10&searchterm=wacom%20ctl%20472',\n 'https://www.zoom.com.br/lead?oid=792195781&channel=86&index=11&searchterm=wacom%20ctl%20472',\n 'https://www.zoom.com.br/lead?oid=790126596&channel=86&index=12&searchterm=wacom%20ctl%20472',\n 'https://www.zoom.com.br/lead?oid=789050478&channel=86&index=13&searchterm=wacom%20ctl%20472',\n 'https://www.zoom.com.br/lead?oid=782971394&channel=86&index=14&searchterm=wacom%20ctl%20472',\n 'https://www.zoom.com.br/lead?oid=780903275&channel=86&index=15&searchterm=wacom%20ctl%20472',\n 'https://www.zoom.com.br/lead?oid=771058931&channel=86&index=16&searchterm=wacom%20ctl%20472']"
     },
     "execution_count": 11,
     "metadata": {},
     "output_type": "execute_result"
    }
   ],
   "source": [
    "links"
   ],
   "metadata": {
    "collapsed": false,
    "pycharm": {
     "name": "#%%\n"
    }
   }
  },
  {
   "cell_type": "code",
   "execution_count": 12,
   "outputs": [
    {
     "name": "stdout",
     "output_type": "stream",
     "text": [
      "17\n"
     ]
    }
   ],
   "source": [
    "print(len(links))"
   ],
   "metadata": {
    "collapsed": false,
    "pycharm": {
     "name": "#%%\n"
    }
   }
  },
  {
   "cell_type": "code",
   "execution_count": 9,
   "outputs": [
    {
     "ename": "SyntaxError",
     "evalue": "invalid decimal literal (4051688236.py, line 1)",
     "output_type": "error",
     "traceback": [
      "\u001B[1;36m  Input \u001B[1;32mIn [9]\u001B[1;36m\u001B[0m\n\u001B[1;33m    https://www.zoom.com.br/mesa-digitalizadora/mesa-digitalizadora-one-by-wacom-pequena-2048-pontos-de-pressao-2540-ipi-21x14-6-cm-ctl-472l?_lc=88&searchterm=wacom%20ctl%20472\u001B[0m\n\u001B[1;37m                                                                                                                          ^\u001B[0m\n\u001B[1;31mSyntaxError\u001B[0m\u001B[1;31m:\u001B[0m invalid decimal literal\n"
     ]
    }
   ],
   "source": [
    "https://www.zoom.com.br/mesa-digitalizadora/mesa-digitalizadora-one-by-wacom-pequena-2048-pontos-de-pressao-2540-ipi-21x14-6-cm-ctl-472l?_lc=88&searchterm=wacom%20ctl%20472"
   ],
   "metadata": {
    "collapsed": false,
    "pycharm": {
     "name": "#%%\n"
    }
   }
  },
  {
   "cell_type": "code",
   "execution_count": 10,
   "outputs": [],
   "source": [
    "response = requests.get(\"https://www.zoom.com.br/mesa-digitalizadora/mesa-digitalizadora-one-by-wacom-pequena-2048-pontos-de-pressao-2540-ipi-21x14-6-cm-ctl-472l?_lc=88&searchterm=wacom%20ctl%20472\")\n",
    "html = response.text\n",
    "\n",
    "Soup = BeautifulSoup(html, 'html.parser')"
   ],
   "metadata": {
    "collapsed": false,
    "pycharm": {
     "name": "#%%\n"
    }
   }
  },
  {
   "cell_type": "code",
   "execution_count": 15,
   "outputs": [
    {
     "name": "stdout",
     "output_type": "stream",
     "text": [
      "Mesa Digitalizadora One by Wacom Pequena 2048 Pontos de Pressão 2540 ipi 21x14,6 cm - CTL-472L\n",
      "R$ 339,53\n",
      "Ver esta e mais 1 oferta\n"
     ]
    }
   ],
   "source": [
    "print(Soup.find(class_='Text_Text__bOTfK Text_MobileSubtitleM__4Op9D Text_DesktopSubtitleMAtLarge__7Nr81').text)\n",
    "print(Soup.find(class_='Text_Text__bOTfK Text_DesktopHeadingM__pBPKa').text)\n",
    "print(Soup.find(class_='Anchor_Anchor__1FNBP').text)"
   ],
   "metadata": {
    "collapsed": false,
    "pycharm": {
     "name": "#%%\n"
    }
   }
  },
  {
   "cell_type": "code",
   "execution_count": 16,
   "outputs": [],
   "source": [
    "response = requests.get(\"https://www.buscape.com.br/mesa-digitalizadora/mesa-digitalizadora-wacom-one-by-wacom-ctl472?_lc=88&searchterm=wacom%20ctl%20472\")\n",
    "html = response.text\n",
    "\n",
    "Soup = BeautifulSoup(html, 'html.parser')"
   ],
   "metadata": {
    "collapsed": false,
    "pycharm": {
     "name": "#%%\n"
    }
   }
  },
  {
   "cell_type": "code",
   "execution_count": 17,
   "outputs": [
    {
     "name": "stdout",
     "output_type": "stream",
     "text": [
      "Mesa Digitalizadora Wacom One By Wacom - CTL472\n",
      "R$ 219,90\n",
      "Ver esta e mais 44 ofertas\n"
     ]
    }
   ],
   "source": [
    "print(Soup.find(class_='Text_Text__bOTfK Text_MobileSubtitleM__4Op9D Text_DesktopSubtitleMAtLarge__7Nr81').text)\n",
    "print(Soup.find(class_='Text_Text__bOTfK Text_DesktopHeadingM__pBPKa').text)\n",
    "print(Soup.find(class_='Anchor_Anchor__1FNBP').text)"
   ],
   "metadata": {
    "collapsed": false,
    "pycharm": {
     "name": "#%%\n"
    }
   }
  },
  {
   "cell_type": "code",
   "execution_count": null,
   "outputs": [],
   "source": [],
   "metadata": {
    "collapsed": false,
    "pycharm": {
     "name": "#%%\n"
    }
   }
  }
 ],
 "metadata": {
  "kernelspec": {
   "display_name": "Python 3",
   "language": "python",
   "name": "python3"
  },
  "language_info": {
   "codemirror_mode": {
    "name": "ipython",
    "version": 2
   },
   "file_extension": ".py",
   "mimetype": "text/x-python",
   "name": "python",
   "nbconvert_exporter": "python",
   "pygments_lexer": "ipython2",
   "version": "2.7.6"
  }
 },
 "nbformat": 4,
 "nbformat_minor": 0
}